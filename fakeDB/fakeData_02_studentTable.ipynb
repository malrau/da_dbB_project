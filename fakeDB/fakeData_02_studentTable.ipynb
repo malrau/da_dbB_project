{
 "cells": [
  {
   "cell_type": "markdown",
   "id": "4da98953",
   "metadata": {},
   "source": [
    "<h2>\n",
    "<center>\n",
    "STUDENT SCHEMA\n",
    "</center>\n",
    "</h2>"
   ]
  },
  {
   "cell_type": "markdown",
   "id": "b8a035b4",
   "metadata": {},
   "source": [
    "<h3>\n",
    "Import required modules\n",
    "</h3>"
   ]
  },
  {
   "cell_type": "code",
   "execution_count": 2,
   "id": "3d9c2397",
   "metadata": {},
   "outputs": [],
   "source": [
    "from faker import Faker\n",
    "from faker.providers import DynamicProvider\n",
    "from random import randint, sample\n",
    "import datetime\n",
    "import csv"
   ]
  },
  {
   "cell_type": "markdown",
   "id": "bf533656",
   "metadata": {},
   "source": [
    "<h3>\n",
    "Define main path of the project (Windows/Mac)\n",
    "</h3>"
   ]
  },
  {
   "cell_type": "code",
   "execution_count": 3,
   "id": "697ff9f3",
   "metadata": {},
   "outputs": [],
   "source": [
    "# Main path where the notebooks are located (Windows path and Mac path)\n",
    "winPath = 'C:/Users/mzlarosa/OneDrive - unime.it/Learning/CdL Informatica/Anno II - Database/Module B/project/'\n",
    "macPath = '/Users/mau/OneDrive - unime.it/Learning/CdL Informatica/Anno II - Database/Module B/project/'"
   ]
  },
  {
   "cell_type": "markdown",
   "id": "984b1d28",
   "metadata": {},
   "source": [
    "<h3>\n",
    "Define strings that will be fed as Faker locales for generating students' names\n",
    "</h3>"
   ]
  },
  {
   "cell_type": "code",
   "execution_count": 4,
   "id": "f6f5ddca",
   "metadata": {},
   "outputs": [],
   "source": [
    "# list of faker locales\n",
    "localization = ['de_DE', 'en_GB', 'en_IN', 'en_US', 'es_ES', 'fr_FR', 'it_IT', 'lt_LT', 'nl_NL', 'no_NO', 'pt_BR', 'pt_PT', 'sv', 'tr']"
   ]
  },
  {
   "cell_type": "markdown",
   "id": "55465b4e",
   "metadata": {},
   "source": [
    "<h3>\n",
    "Create list of random integers to randomly select genre-related names and attach them the correct genre\n",
    "</h3><br>\n",
    "I decide that <code>100</code> students are registered to the learning platform and can enroll in the platform's courses. Hence I generate <code>100</code> random integers from <code>1</code> to <code>10</code>. Approximately <i>40%</i> of these <code>100</code> numbers will be divisible by <code>2</code>, <i>10%</i> by <code>7</code>. Those not divisible by <code>2</code> or <code>7</code> should amount to <i>50%</i>."
   ]
  },
  {
   "cell_type": "code",
   "execution_count": 5,
   "id": "be471ce8",
   "metadata": {},
   "outputs": [
    {
     "name": "stdout",
     "output_type": "stream",
     "text": [
      "[2, 10, 5, 2, 4, 2, 8, 7, 1, 1, 6, 9, 4, 3, 4, 5, 3, 7, 3, 3, 5, 1, 2, 6, 6, 6, 7, 8, 8, 3, 5, 5, 3, 1, 10, 9, 10, 10, 6, 2, 7, 1, 8, 9, 9, 7, 7, 9, 5, 9, 4, 6, 6, 2, 6, 2, 9, 7, 8, 4, 6, 3, 5, 4, 4, 7, 9, 7, 6, 9, 6, 5, 5, 3, 4, 7, 4, 4, 5, 6, 2, 9, 4, 4, 7, 7, 1, 9, 10, 3, 9, 7, 9, 8, 8, 8, 3, 10, 2, 3]\n"
     ]
    }
   ],
   "source": [
    "nStud = 100 # number of students registered to the learning platform\n",
    "randomIntegers = list()\n",
    "for i in range(0, nStud):\n",
    "    randomIntegers.append(randint(1, 10))\n",
    "print(randomIntegers)"
   ]
  },
  {
   "cell_type": "markdown",
   "id": "ed726e33",
   "metadata": {},
   "source": [
    "<h3>\n",
    "Create a dictionary of lists, where the keys are the attribute names\n",
    "</h3>"
   ]
  },
  {
   "cell_type": "code",
   "execution_count": 6,
   "id": "6a82ffd8",
   "metadata": {
    "scrolled": false
   },
   "outputs": [],
   "source": [
    "studentSchema = ['studentID', 'firstName', 'lastName', 'dateOfBirth', 'genre', 'country', 'town', 'email']\n",
    "studentDict = dict()\n",
    "for attribute in studentSchema:\n",
    "    studentDict[attribute] = list()"
   ]
  },
  {
   "cell_type": "markdown",
   "id": "88955cdb",
   "metadata": {},
   "source": [
    "<h3>\n",
    "Generate the fake students' data\n",
    "</h3><br>\n",
    "It is important to note that if I generate names randomly, I don't have a way to tell if the name is a male, female or non binary name. Then I chose to define the genre based on the previously defined list of random integers. If the integer at position <code>i</code> is divisible by <code>2</code>, I will create a male name and the student's genre will be <i>male</i>. If the integer at position <code>i</code> is divisible by <code>7</code>, I will create a non binary name and the student's genre will be <i>non binary</i>. In all other cases I will create a female name and the student's genre will be <i>female</i>. <br> Given the expected distribution of integers, <code>40%</code> students should be men, <code>50%</code> should be female and <code>10%</code> should be non binary."
   ]
  },
  {
   "cell_type": "code",
   "execution_count": 7,
   "id": "d36352af",
   "metadata": {},
   "outputs": [],
   "source": [
    "# fill the attribute lists with fake data\n",
    "studentID = 0\n",
    "for i in range(0, nStud):\n",
    "    fake = Faker(sample(localization, 1))\n",
    "    studentID += 1\n",
    "    studentDict['studentID'].append(studentID)\n",
    "    if randomIntegers[i] % 2 == 0:\n",
    "        firstName = fake.first_name_male()\n",
    "        studentDict['firstName'].append(firstName)\n",
    "        lastName = fake.last_name()\n",
    "        studentDict['lastName'].append(lastName)\n",
    "        randomDate = fake.date_of_birth(minimum_age = 18, maximum_age = 60)\n",
    "        studentDict['dateOfBirth'].append(str(randomDate.year) + '-' + str(randomDate.month) + '-' + str(randomDate.day))\n",
    "        studentDict['genre'].append('male')\n",
    "        studentDict['country'].append(fake.country())\n",
    "        studentDict['town'].append(fake.city())\n",
    "        email = firstName.lower() + '.' + lastName.lower() + '@' + fake.free_email_domain()\n",
    "        studentDict['email'].append(email)\n",
    "    elif randomIntegers[i] % 7 == 0:\n",
    "        firstName = fake.first_name_nonbinary()\n",
    "        studentDict['firstName'].append(firstName)\n",
    "        lastName = fake.last_name()\n",
    "        studentDict['lastName'].append(lastName)\n",
    "        randomDate = fake.date_of_birth(minimum_age = 18, maximum_age = 60)\n",
    "        studentDict['dateOfBirth'].append(str(randomDate.year) + '-' + str(randomDate.month) + '-' + str(randomDate.day))\n",
    "        studentDict['genre'].append('non binary')\n",
    "        studentDict['country'].append(fake.country())\n",
    "        studentDict['town'].append(fake.city())\n",
    "        email = firstName.lower() + '.' + lastName.lower() + '@' + fake.free_email_domain()\n",
    "        studentDict['email'].append(email)\n",
    "    else:\n",
    "        firstName = fake.first_name_female()\n",
    "        studentDict['firstName'].append(firstName)\n",
    "        lastName = fake.last_name()\n",
    "        studentDict['lastName'].append(lastName)\n",
    "        randomDate = fake.date_of_birth(minimum_age = 18, maximum_age = 60)\n",
    "        studentDict['dateOfBirth'].append(str(randomDate.year) + '-' + str(randomDate.month) + '-' + str(randomDate.day))\n",
    "        studentDict['genre'].append('female')\n",
    "        studentDict['country'].append(fake.country())\n",
    "        studentDict['town'].append(fake.city())\n",
    "        email = firstName.lower() + '.' + lastName.lower() + '@' + fake.free_email_domain()\n",
    "        studentDict['email'].append(email)"
   ]
  },
  {
   "cell_type": "markdown",
   "id": "15a565b1",
   "metadata": {},
   "source": [
    "<h3>\n",
    "Print out the data (a small sample)\n",
    "</h3>"
   ]
  },
  {
   "cell_type": "code",
   "execution_count": 8,
   "id": "4a31f667",
   "metadata": {},
   "outputs": [
    {
     "name": "stdout",
     "output_type": "stream",
     "text": [
      "sID    firstName        lastName         dateOfBirth   genre       country         town            email\n",
      "1      Koen             de Wit           1962-8-10     male        Verenigde Ar    Geerdijk        koen.de wit@yahoo.com\n",
      "2      Giosuè           Spallanzani      1982-5-19     male        Antartide (t    Santa Maria     giosuè.spallanzani@tim.it\n",
      "3      Michelle         Nelson           2001-4-30     female      Lithuania       West Travist    michelle.nelson@gmail.com\n",
      "4      Jake             Hart             1984-8-28     male        Sao Tome and    Spencerburgh    jake.hart@hotmail.com\n",
      "5      Régulo           Aliaga           1966-4-21     male        Lituania        Zamora          régulo.aliaga@hotmail.com\n",
      "6      Poncio           Castell          1996-6-8      male        República Ár    Tarragona       poncio.castell@hotmail.co\n",
      "7      Ayşan            Sakarya          1994-8-5      male        Morocco         Neviseshire     ayşan.sakarya@gmail.com\n",
      "8      Pietro           Mendes           1996-12-12    non binary  Egito           Porto do Nor    pietro.mendes@ig.com.br\n",
      "9      Annelore         Krause           1982-7-12     female      Bermuda         Stadtsteinac    annelore.krause@gmail.com\n",
      "10     Maria            Ali              1989-7-1      female      Cameroon        Terjestad       maria.ali@gmail.com\n",
      "11     Jordan           Lara             1971-4-28     male        Iran            Jenkinsfurt     jordan.lara@hotmail.com\n",
      "12     Tracey           Griffiths        2004-7-9      female      Cook Islands    South Shanno    tracey.griffiths@yahoo.co\n",
      "13     Johann           auch Schlauchin  1996-10-23    male        Malaysia        Wolfenbüttel    johann.auch schlauchin@ao\n",
      "14     Amy              Molen            1973-12-13    female      Jordanië        Uithoorn        amy.molen@yahoo.com\n",
      "15     Niels            Neuzerling       2001-5-2      male        Litouwen        Schinnen        niels.neuzerling@hotmail.\n",
      "16     Mevlüdiye        Bilir            1993-1-22     female      Jersey          Lake Selvi      mevlüdiye.bilir@yaani.com\n",
      "17     Adviye           Akdeniz          2002-1-4      female      Ireland         Şamaview        adviye.akdeniz@outlook.co\n",
      "18     Zdenka           Schenk           1994-3-19     non binary  Kenia           Auerbach        zdenka.schenk@gmail.com\n",
      "19     Madeleine        Strömberg        1996-8-13     female      Laos            Södertälje      madeleine.strömberg@swipn\n",
      "20     İde              Çetin            1999-1-19     female      Mali            West Hafıza     i̇de.çetin@hotmail.com\n",
      "21     Birgitta         Ottosson         1992-2-19     female      Azerbajdzjan    Uddevalla       birgitta.ottosson@swipnet\n",
      "22     Vanesa           Kairys           1967-10-4     female      Nigeria         South Vigili    vanesa.kairys@hotmail.com\n",
      "23     Leonardo         Rodrigues        1963-4-30     male        Eslováquia      Souza Alegre    leonardo.rodrigues@hotmai\n",
      "24     Théophile        Carlier          2003-5-25     male        Nouvelle-Zél    Saint Thibau    théophile.carlier@tiscali\n",
      "25     Aniruddh         Vohra            1975-9-11     male        Belarus         Bangalore       aniruddh.vohra@yahoo.com\n",
      "26     Egil             Sivertsen        1996-7-16     male        Ethiopia        Ellingsen       egil.sivertsen@gmail.com\n",
      "27     Aitor            Llopis           1980-7-7      non binary  Sudán del Su    Asturias        aitor.llopis@gmail.com\n",
      "28     Karl             Larsson          1995-3-26     male        Nordmakedoni    Västerås        karl.larsson@googlemail.c\n",
      "29     Noé              Pelayo           1975-8-5      male        Papua Nueva     Pontevedra      noé.pelayo@gmail.com\n",
      "30     Johanna          de Werd          1973-4-25     female      Zwitserland     Ermelo          johanna.de werd@yahoo.com\n",
      "31     Karolina         Kazlauskas       1973-3-19     female      Aruba           Port Juliusf    karolina.kazlauskas@gmail\n",
      "32     Vildane          Sezgin           2002-9-5      female      Mozambique      East İbrahim    vildane.sezgin@outlook.co\n",
      "33     Anastasie        Lombard          1982-10-19    female      Finlande        Ollivier        anastasie.lombard@club-in\n",
      "34     Güzey            Çetin            1967-6-9      female      Saint Lucia     Erdoğanmouth    güzey.çetin@gmail.com\n",
      "35     Justina          Kavaliauskas     1983-11-19    male        Egypt           Medėjahaven     justina.kavaliauskas@yaho\n",
      "36     Diana            Dulbecco         1988-6-10     female      Tokelau         Andriano        diana.dulbecco@gmail.com\n",
      "37     Matthew          Cruz             1991-6-30     male        Monaco          West Catheri    matthew.cruz@hotmail.com\n",
      "38     Arthur           Jacquot          1977-9-11     male        Gibraltar       Perez           arthur.jacquot@yahoo.fr\n",
      "39     Corrado          Ossani           1985-11-6     male        Guam            Colle Verde     corrado.ossani@hotmail.co\n",
      "40     Lorenzo          Moraes           2003-6-12     male        África do Su    Peixoto do N    lorenzo.moraes@uol.com.br\n",
      "41     Esengün          Dumanlı          1988-10-16    non binary  Rwanda          Şamafort        esengün.dumanlı@outlook.c\n",
      "42     Luna             Gaspar           1988-5-24     female      Wake Island     Lourosa         luna.gaspar@gmail.com\n",
      "43     Naud             Verbeeck         1985-9-3      male        Guyana          Laren           naud.verbeeck@yahoo.com\n",
      "44     Isabelle         Bourdon          1971-7-18     female      Belize          Pineau          isabelle.bourdon@noos.fr\n",
      "45     Nirvaan          Sarin            1985-7-7      female      Finland         Tadipatri       nirvaan.sarin@gmail.com\n",
      "46     João Vitor       Viana            1983-12-12    non binary  Nauru           Correia da M    joão vitor.viana@yahoo.co\n",
      "47     Petras           Kalvėnas         1992-5-13     non binary  Lithuania       Butkusburgh     petras.kalvėnas@gmail.com\n",
      "48     Erikas           Gintalas         1974-9-15     female      Liberia         North Svetla    erikas.gintalas@hotmail.c\n",
      "49     Georgine         Rosenow          1979-4-20     female      Ecuador         Plauen          georgine.rosenow@gmail.co\n",
      "50     Luana            Coelho           1977-10-5     female      Indonésia       Setúbal         luana.coelho@gmail.com\n",
      "51     Gerrit           van Breugel      2001-9-4      male        Armenië         Holthees        gerrit.van breugel@gmail.\n",
      "52     Jules            Letellier        1968-2-19     male        Fidji (Répub    Saint Luceda    jules.letellier@voila.fr\n",
      "53     Gonçalo          Oliveira         1965-6-3      male        Botsuana        Vila Nova de    gonçalo.oliveira@sapo.pt\n",
      "54     Martin           Lundberg         1966-12-22    male        Benin           Umeå            martin.lundberg@gmail.com\n",
      "55     Carl             Englund          1994-6-16     male        Finland         Lidköping       carl.englund@telia.com\n",
      "56     Urvi             Rama             1971-9-26     male        East Timor      Bidhannagar     urvi.rama@hotmail.com\n",
      "57     Carminho         Neves            1971-8-11     female      Afeganistão     Guarda          carminho.neves@sapo.pt\n",
      "58     Erika            Carneiro         1984-11-5     non binary  Ilhas Virgen    Oliveira do     erika.carneiro@gmail.com\n",
      "59     Achille          Mogherini        2001-3-25     male        Tanzania        Villarboit      achille.mogherini@alice.i\n",
      "60     Kayagün          Soylu            1977-11-14    male        Colombia        Şideville       kayagün.soylu@yaani.com\n",
      "61     Davi             Pires            1994-7-20     male        Azerbaijão      da Paz do Su    davi.pires@yahoo.com.br\n",
      "62     Guusje           van Luinenburg   2004-4-6      female      Saoedi-Arabi    Rockanje        guusje.van luinenburg@gma\n",
      "63     Antonella        Dalla            1991-5-21     female      Gambia          Corlo Di For    antonella.dalla@libero.it\n",
      "64     Hans-Rudolf      Nerger           1969-2-14     male        Französisch-    Osterburg       hans-rudolf.nerger@hotmai\n",
      "65     Durdali          Durdu            1976-7-4      male        Equatorial G    East Türabi     durdali.durdu@yaani.com\n",
      "66     Fay              Gellemeyer       1978-6-10     non binary  Saint Vincen    Westerbork      fay.gellemeyer@hotmail.co\n",
      "67     Siv              Sjögren          1970-4-4      female      Malta           Lidköping       siv.sjögren@telia.com\n",
      "68     Teksoy           Dumanlı          1998-1-8      non binary  Kenya           South Hüryaş    teksoy.dumanlı@yaani.com\n",
      "69     Jan              Birkeland        1989-7-16     male        Zambia          Ingeborgsand    jan.birkeland@hotmail.com\n",
      "70     Lourdes          Diez             1984-5-12     female      Sri Lanka       Guadalajara     lourdes.diez@gmail.com\n",
      "71     Bernardo         Araújo           1964-3-20     male        Tonga           Gomes de Cos    bernardo.araújo@hotmail.c\n",
      "72     Luiza            Moura            1995-10-30    female      Burundi         Correia de d    luiza.moura@hotmail.com\n",
      "73     Ilaria           Stein            1977-5-1      female      Tajikistan      Trento          ilaria.stein@hotmail.com\n",
      "74     Sanne            Velderman        1985-4-26     female      Guadeloupe      Berkenwoude     sanne.velderman@gmail.com\n",
      "75     Johan            Lind             1984-10-8     male        Marianerna      Göteborg        johan.lind@swipnet.se\n",
      "76     Nidia            Sierra           1995-2-5      non binary  Namibia         Toledo          nidia.sierra@gmail.com\n",
      "77     Helge            Iversen          1984-9-20     male        Uruguay         Jonmark         helge.iversen@yahoo.com\n",
      "78     Alexandre        Jesus            1998-9-29     male        Salvador        da Rocha de     alexandre.jesus@uol.com.b\n",
      "79     Ana              Araújo           1998-1-4      female      Brunei          Silva de Nas    ana.araújo@uol.com.br\n",
      "80     Duuk             Uit de Willigen  2000-4-2      male        Antarctica      Vierlingsbee    duuk.uit de willigen@yaho\n",
      "81     Timothée         Langlois         1974-8-22     male        Géorgie         Mallet          timothée.langlois@tele2.f\n",
      "82     Emilie           Johannessen      1988-12-30    female      Ukraine         Aasen           emilie.johannessen@yahoo.\n",
      "83     Glen             Greenwood        1976-10-20    male        Trinidad and    Lake Paula      glen.greenwood@outlook.co\n",
      "84     Daniel           Ball             1963-2-1      male        Liberia         North Joyce     daniel.ball@hotmail.com\n",
      "85     Che              Téllez           2004-1-14     non binary  Rwanda          Zaragoza        che.téllez@yahoo.com\n",
      "86     Sheila           Pena             1994-3-29     non binary  Saint Pierre    New Nicoleto    sheila.pena@yahoo.com\n",
      "87     Olivia           Wise             1972-12-12    female      Colombia        Chavezstad      olivia.wise@hotmail.com\n",
      "88     Roswitha         Berger           1979-8-3      female      Ghana           Belzig          roswitha.berger@gmail.com\n",
      "89     Alf              Evensen          1989-8-2      male        Lebanon         Knudsen         alf.evensen@hotmail.com\n",
      "90     Lüfen            Şener            1967-3-6      female      Guyana          Tonguçville     lüfen.şener@yahoo.com\n",
      "91     Elisa            Aragão           1998-9-22     female      Ilha Bouvet     da Rosa de N    elisa.aragão@ig.com.br\n",
      "92     Amira            Louws            1966-9-17     non binary  Nederland       Bantega         amira.louws@hotmail.com\n",
      "93     Mahika           Buch             1990-11-23    female      Germany         Salem           mahika.buch@hotmail.com\n",
      "94     Ali              Stumpf           1968-2-7      male        Republik Mol    Gräfenhainic    ali.stumpf@gmx.de\n",
      "95     Danilo           Viana            1983-4-13     male        Tuvalu          Costela         danilo.viana@gmail.com\n",
      "96     Ignazio          Abba             1988-6-9      male        Isole Solomo    Salina'         ignazio.abba@tiscali.it\n",
      "97     Eshani           Setty            1992-4-22     female      Peru            Patiala         eshani.setty@hotmail.com\n",
      "98     Benvenuto        Cheda            1993-10-20    male        Liechtenstei    La Runcina      benvenuto.cheda@outlook.c\n",
      "99     Johan            Berge            1991-2-25     male        Guyana          Rønning         johan.berge@gmail.com\n",
      "100    Ahana            Cheema           1965-4-12     female      United Arab     Mahbubnagar     ahana .cheema@yahoo.com\n",
      "[...]\n"
     ]
    }
   ],
   "source": [
    "# whole dictionary\n",
    "print('sID', ' ' * (5 - len('sID')), 'firstName', ' ' * (15 - len('firstname')), 'lastName', ' ' * (15 - len('lastName')), 'dateOfBirth', ' ' * (12 - len('dateOfBirth')), 'genre', ' ' * (10 - len('genre')), 'country', ' ' * (14 - len('country')), 'town', ' ' * (14 - len('town')), 'email')\n",
    "for sID, firstName, lastName, dob, genre, country, town, email in zip(studentDict['studentID'], studentDict['firstName'], studentDict['lastName'], studentDict['dateOfBirth'], studentDict['genre'], studentDict['country'], studentDict['town'], studentDict['email']):\n",
    "    print(sID, ' ' * (5 - len(str(sID))), firstName, ' ' * (15 - len(firstName)), lastName, ' ' * (15 - len(lastName)), dob, ' ' * (12 - len(dob)), genre, ' ' * (10 - len(genre)), country[0 : 12], ' ' * (14 - len(country[0 : 12])), town[0 : 12], ' ' * (14 - len(town[0 : 12])), email[0 : 25])"
   ]
  },
  {
   "cell_type": "code",
   "execution_count": 9,
   "id": "e238cf37",
   "metadata": {},
   "outputs": [
    {
     "name": "stdout",
     "output_type": "stream",
     "text": [
      "sID    firstName        lastName         dateOfBirth   genre       country         town            email\n",
      "1      Koen             de Wit           1962-8-10     male        Verenigde Ar    Geerdijk        koen.de wit@yahoo.com\n",
      "2      Giosuè           Spallanzani      1982-5-19     male        Antartide (t    Santa Maria     giosuè.spallanzani@tim.it\n",
      "3      Michelle         Nelson           2001-4-30     female      Lithuania       West Travist    michelle.nelson@gmail.com\n",
      "4      Jake             Hart             1984-8-28     male        Sao Tome and    Spencerburgh    jake.hart@hotmail.com\n",
      "5      Régulo           Aliaga           1966-4-21     male        Lituania        Zamora          régulo.aliaga@hotmail.com\n",
      "6      Poncio           Castell          1996-6-8      male        República Ár    Tarragona       poncio.castell@hotmail.co\n",
      "7      Ayşan            Sakarya          1994-8-5      male        Morocco         Neviseshire     ayşan.sakarya@gmail.com\n",
      "8      Pietro           Mendes           1996-12-12    non binary  Egito           Porto do Nor    pietro.mendes@ig.com.br\n",
      "9      Annelore         Krause           1982-7-12     female      Bermuda         Stadtsteinac    annelore.krause@gmail.com\n",
      "10     Maria            Ali              1989-7-1      female      Cameroon        Terjestad       maria.ali@gmail.com\n",
      "11     Jordan           Lara             1971-4-28     male        Iran            Jenkinsfurt     jordan.lara@hotmail.com\n",
      "12     Tracey           Griffiths        2004-7-9      female      Cook Islands    South Shanno    tracey.griffiths@yahoo.co\n",
      "13     Johann           auch Schlauchin  1996-10-23    male        Malaysia        Wolfenbüttel    johann.auch schlauchin@ao\n",
      "14     Amy              Molen            1973-12-13    female      Jordanië        Uithoorn        amy.molen@yahoo.com\n",
      "15     Niels            Neuzerling       2001-5-2      male        Litouwen        Schinnen        niels.neuzerling@hotmail.\n",
      "16     Mevlüdiye        Bilir            1993-1-22     female      Jersey          Lake Selvi      mevlüdiye.bilir@yaani.com\n",
      "17     Adviye           Akdeniz          2002-1-4      female      Ireland         Şamaview        adviye.akdeniz@outlook.co\n",
      "18     Zdenka           Schenk           1994-3-19     non binary  Kenia           Auerbach        zdenka.schenk@gmail.com\n",
      "19     Madeleine        Strömberg        1996-8-13     female      Laos            Södertälje      madeleine.strömberg@swipn\n",
      "20     İde              Çetin            1999-1-19     female      Mali            West Hafıza     i̇de.çetin@hotmail.com\n",
      "21     Birgitta         Ottosson         1992-2-19     female      Azerbajdzjan    Uddevalla       birgitta.ottosson@swipnet\n",
      "22     Vanesa           Kairys           1967-10-4     female      Nigeria         South Vigili    vanesa.kairys@hotmail.com\n",
      "23     Leonardo         Rodrigues        1963-4-30     male        Eslováquia      Souza Alegre    leonardo.rodrigues@hotmai\n",
      "24     Théophile        Carlier          2003-5-25     male        Nouvelle-Zél    Saint Thibau    théophile.carlier@tiscali\n",
      "25     Aniruddh         Vohra            1975-9-11     male        Belarus         Bangalore       aniruddh.vohra@yahoo.com\n",
      "26     Egil             Sivertsen        1996-7-16     male        Ethiopia        Ellingsen       egil.sivertsen@gmail.com\n",
      "27     Aitor            Llopis           1980-7-7      non binary  Sudán del Su    Asturias        aitor.llopis@gmail.com\n",
      "28     Karl             Larsson          1995-3-26     male        Nordmakedoni    Västerås        karl.larsson@googlemail.c\n",
      "29     Noé              Pelayo           1975-8-5      male        Papua Nueva     Pontevedra      noé.pelayo@gmail.com\n",
      "30     Johanna          de Werd          1973-4-25     female      Zwitserland     Ermelo          johanna.de werd@yahoo.com\n",
      "31     Karolina         Kazlauskas       1973-3-19     female      Aruba           Port Juliusf    karolina.kazlauskas@gmail\n",
      "32     Vildane          Sezgin           2002-9-5      female      Mozambique      East İbrahim    vildane.sezgin@outlook.co\n",
      "33     Anastasie        Lombard          1982-10-19    female      Finlande        Ollivier        anastasie.lombard@club-in\n",
      "34     Güzey            Çetin            1967-6-9      female      Saint Lucia     Erdoğanmouth    güzey.çetin@gmail.com\n",
      "35     Justina          Kavaliauskas     1983-11-19    male        Egypt           Medėjahaven     justina.kavaliauskas@yaho\n",
      "36     Diana            Dulbecco         1988-6-10     female      Tokelau         Andriano        diana.dulbecco@gmail.com\n",
      "37     Matthew          Cruz             1991-6-30     male        Monaco          West Catheri    matthew.cruz@hotmail.com\n",
      "38     Arthur           Jacquot          1977-9-11     male        Gibraltar       Perez           arthur.jacquot@yahoo.fr\n",
      "39     Corrado          Ossani           1985-11-6     male        Guam            Colle Verde     corrado.ossani@hotmail.co\n",
      "40     Lorenzo          Moraes           2003-6-12     male        África do Su    Peixoto do N    lorenzo.moraes@uol.com.br\n",
      "41     Esengün          Dumanlı          1988-10-16    non binary  Rwanda          Şamafort        esengün.dumanlı@outlook.c\n",
      "42     Luna             Gaspar           1988-5-24     female      Wake Island     Lourosa         luna.gaspar@gmail.com\n",
      "43     Naud             Verbeeck         1985-9-3      male        Guyana          Laren           naud.verbeeck@yahoo.com\n",
      "44     Isabelle         Bourdon          1971-7-18     female      Belize          Pineau          isabelle.bourdon@noos.fr\n",
      "45     Nirvaan          Sarin            1985-7-7      female      Finland         Tadipatri       nirvaan.sarin@gmail.com\n",
      "46     João Vitor       Viana            1983-12-12    non binary  Nauru           Correia da M    joão vitor.viana@yahoo.co\n",
      "47     Petras           Kalvėnas         1992-5-13     non binary  Lithuania       Butkusburgh     petras.kalvėnas@gmail.com\n",
      "48     Erikas           Gintalas         1974-9-15     female      Liberia         North Svetla    erikas.gintalas@hotmail.c\n",
      "49     Georgine         Rosenow          1979-4-20     female      Ecuador         Plauen          georgine.rosenow@gmail.co\n",
      "50     Luana            Coelho           1977-10-5     female      Indonésia       Setúbal         luana.coelho@gmail.com\n",
      "[...]\n"
     ]
    }
   ],
   "source": [
    "# 50 elements from each list\n",
    "print('sID', ' ' * (5 - len('sID')), 'firstName', ' ' * (15 - len('firstname')), 'lastName', ' ' * (15 - len('lastName')), 'dateOfBirth', ' ' * (12 - len('dateOfBirth')), 'genre', ' ' * (10 - len('genre')), 'country', ' ' * (14 - len('country')), 'town', ' ' * (14 - len('town')), 'email')\n",
    "for i in range(0, 50):\n",
    "    sID = studentDict['studentID'][i]\n",
    "    firstName = studentDict['firstName'][i]\n",
    "    lastName = studentDict['lastName'][i]\n",
    "    dob = studentDict['dateOfBirth'][i]\n",
    "    genre = studentDict['genre'][i]\n",
    "    country = studentDict['country'][i]\n",
    "    town = studentDict['town'][i]\n",
    "    email = studentDict['email'][i]\n",
    "    print(sID, ' ' * (5 - len(str(sID))), firstName, ' ' * (15 - len(firstName)), lastName, ' ' * (15 - len(lastName)), dob, ' ' * (12 - len(dob)), genre, ' ' * (10 - len(genre)), country[0 : 12], ' ' * (14 - len(country[0 : 12])), town[0 : 12], ' ' * (14 - len(town[0 : 12])), email[0 : 25])\n",
    "print('[...]')"
   ]
  },
  {
   "cell_type": "code",
   "execution_count": 10,
   "id": "57974a91",
   "metadata": {},
   "outputs": [],
   "source": [
    "# save student table to csv file\n",
    "#with open(winPath + 'tables/studentTable.csv', 'w', newline = '', encoding = 'UTF-16') as csvfile:\n",
    "with open(macPath + 'tables/studentTable.csv', 'w', newline = '', encoding = 'UTF-16') as csvfile:\n",
    "    writer = csv.writer(csvfile)\n",
    "    keys = studentDict.keys()\n",
    "    limit = len(studentDict['studentID'])\n",
    "    \n",
    "    writer.writerow(keys)\n",
    "    for i in range(0, limit):\n",
    "        writer.writerow(studentDict[k][i] for k in keys)"
   ]
  }
 ],
 "metadata": {
  "kernelspec": {
   "display_name": "Python 3 (ipykernel)",
   "language": "python",
   "name": "python3"
  },
  "language_info": {
   "codemirror_mode": {
    "name": "ipython",
    "version": 3
   },
   "file_extension": ".py",
   "mimetype": "text/x-python",
   "name": "python",
   "nbconvert_exporter": "python",
   "pygments_lexer": "ipython3",
   "version": "3.9.12"
  }
 },
 "nbformat": 4,
 "nbformat_minor": 5
}

{
 "cells": [
  {
   "cell_type": "markdown",
   "id": "4da98953",
   "metadata": {},
   "source": [
    "<h2>\n",
    "<center>\n",
    "STUDENT SCHEMA\n",
    "</center>\n",
    "</h2>"
   ]
  },
  {
   "cell_type": "markdown",
   "id": "b8a035b4",
   "metadata": {},
   "source": [
    "<h3>\n",
    "Import required modules\n",
    "</h3>"
   ]
  },
  {
   "cell_type": "code",
   "execution_count": 1,
   "id": "3d9c2397",
   "metadata": {},
   "outputs": [],
   "source": [
    "from faker import Faker\n",
    "from random import randint, sample\n",
    "import datetime\n",
    "import csv"
   ]
  },
  {
   "cell_type": "markdown",
   "id": "bf533656",
   "metadata": {},
   "source": [
    "<h3>\n",
    "Define main path of the project (Windows/Mac) where the notebooks are located\n",
    "</h3>"
   ]
  },
  {
   "cell_type": "code",
   "execution_count": 2,
   "id": "697ff9f3",
   "metadata": {},
   "outputs": [],
   "source": [
    "# Windows\n",
    "#path = 'C:/Users/mzlarosa/OneDrive - unime.it/Learning/CdL Informatica/Anno II - Database/Module B/project/'\n",
    "\n",
    "# Mac\n",
    "path = '/Users/mau/OneDrive - unime.it/Learning/CdL Informatica/Anno II - Database/Module B/project/'"
   ]
  },
  {
   "cell_type": "markdown",
   "id": "984b1d28",
   "metadata": {},
   "source": [
    "<h3>\n",
    "Define strings that will be fed as Faker locales for generating students' names\n",
    "</h3>"
   ]
  },
  {
   "cell_type": "code",
   "execution_count": 3,
   "id": "f6f5ddca",
   "metadata": {},
   "outputs": [],
   "source": [
    "# list of faker locales\n",
    "localization = ['de_DE', 'en_GB', 'en_IN', 'en_US', 'es_ES', 'fr_FR', 'it_IT', 'lt_LT', 'nl_NL', 'no_NO', 'pt_BR', 'pt_PT', 'sv', 'tr']"
   ]
  },
  {
   "cell_type": "markdown",
   "id": "55465b4e",
   "metadata": {},
   "source": [
    "<h3>\n",
    "Create list of random integers to randomly select genre-related names and attach them the correct genre\n",
    "</h3><br>\n",
    "In the first version of this notebook, I decided that <code>100</code> students be registered to the learning platform and could enroll in the platform's courses.<br>In the final version I opt for a number of <code>6500</code> students: I have estimated that this number of students registered to the learning platform should generate around 1 million rows in the <i>learning</i> table, which is the core dataset I want to concentrate in. Hence I generate <code>6500</code> random integers from <code>1</code> to <code>10</code>. Approximately <i>40%</i> of these <code>6500</code> numbers will be divisible by <code>2</code>, <i>10%</i> by <code>7</code>. Those not divisible by <code>2</code> or <code>7</code> should amount to <i>50%</i>."
   ]
  },
  {
   "cell_type": "code",
   "execution_count": 4,
   "id": "be471ce8",
   "metadata": {},
   "outputs": [
    {
     "name": "stdout",
     "output_type": "stream",
     "text": [
      "[8, 3, 2, 3, 4, 3, 1, 2, 7, 7, 4, 8, 1, 9, 4, 3, 5, 3, 3, 6, 2, 8, 10, 2, 9, 6, 7, 10, 10, 3, 3, 5, 10, 9, 7, 1, 3, 7, 3, 6, 8, 10, 1, 6, 10, 2, 8, 10, 2, 3, 9, 9, 2, 4, 6, 2, 10, 7, 1, 5, 8, 4, 4, 5, 3, 2, 2, 1, 5, 8, 2, 3, 1, 10, 5, 6, 5, 8, 9, 10, 1, 6, 2, 9, 2, 10, 8, 5, 8, 7, 3, 2, 4, 9, 8, 5, 3, 8, 10, 5, 10, 9, 6, 1, 7, 1, 5, 4, 2, 9, 2, 6, 10, 2, 1, 9, 7, 2, 10, 7, 2, 4, 3, 7, 1, 9, 9, 7, 6, 6, 6, 9, 1, 2, 5, 7, 8, 9, 10, 5, 1, 10, 6, 3, 9, 2, 10, 4, 5, 5, 4, 10, 10, 1, 1, 6, 9, 10, 10, 5, 5, 7, 6, 5, 2, 7, 7, 3, 7, 1, 2, 2, 9, 2, 2, 1, 2, 9, 10, 9, 6, 8, 6, 9, 8, 7, 1, 10, 7, 8, 8, 1, 2, 4, 10, 9, 2, 6, 8, 3, 5, 2, 9, 1, 10, 5, 2, 4, 1, 7, 8, 3, 4, 4, 5, 1, 5, 9, 10, 10, 4, 3, 6, 9, 8, 2, 9, 5, 2, 3, 3, 8, 10, 10, 2, 4, 8, 2, 1, 7, 5, 7, 3, 7, 10, 5, 8, 5, 4, 2, 3, 3, 10, 5, 8, 1, 8, 4, 3, 6, 10, 9, 4, 4, 8, 5, 6, 9, 7, 2, 10, 4, 7, 10, 2, 10, 2, 7, 6, 4, 3, 4, 3, 1, 7, 3, 8, 9, 6, 10, 8, 4, 4, 10, 2, 1, 6, 8, 4, 2, 3, 2, 6, 6, 7, 5, 5, 10, 9, 8, 6, 5, 2, 2, 6, 2, 1, 6, 8, 9, 9, 1, 10, 2, 4, 7, 2, 4, 6, 7, 10, 9, 4, 10, 8, 8, 4, 2, 7, 8, 4, 2, 5, 4, 8, 8, 1, 4, 10, 5, 5, 10, 7, 7, 4, 5, 4, 4, 6, 1, 8, 8, 5, 2, 3, 4, 2, 4, 7, 1, 4, 7, 8, 1, 7, 2, 10, 2, 10, 7, 1, 5, 8, 3, 8, 7, 8, 6, 5, 4, 5, 2, 4, 7, 10, 1, 9, 9, 1, 5, 2, 10, 3, 9, 9, 9, 2, 3, 6, 10, 7, 6, 10, 10, 6, 8, 2, 1, 9, 3, 8, 7, 4, 6, 9, 2, 8, 5, 6, 3, 5, 10, 6, 2, 6, 4, 6, 9, 3, 9, 7, 3, 8, 5, 6, 5, 7, 10, 2, 5, 4, 10, 2, 10, 4, 8, 2, 6, 10, 5, 4, 6, 5, 8, 8, 4, 10, 3, 10, 9, 9, 2, 9, 6, 8, 3, 4, 3, 9, 10, 7, 6, 3, 4, 10, 2, 5, 7, 8, 5, 6, 1, 1, 7, 4, 2, 1, 2, 3, 10, 2, 9, 7, 7, 1, 2, 1, 10, 7, 1, 7, 7, 5, 1, 5, 6, 5, 7, 7, 2, 2, 2, 4, 8, 1, 5, 4, 10, 10, 2, 3, 9, 7, 9, 3, 5, 1, 1, 3, 4, 8, 2, 8, 6, 6, 6, 6, 2, 8, 9, 4, 6, 8, 7, 8, 5, 8, 9, 9, 9, 3, 1, 2, 8, 8, 3, 9, 6, 2, 3, 3, 2, 3, 5, 1, 1, 1, 10, 8, 1, 10, 1, 5, 1, 4, 10, 8, 2, 9, 9, 6, 2, 1, 9, 3, 8, 10, 5, 1, 4, 2, 10, 10, 9, 4, 5, 2, 2, 1, 10, 6, 9, 2, 10, 3, 5, 6, 1, 1, 4, 7, 2, 7, 10, 2, 8, 4, 10, 7, 9, 7, 8, 1, 6, 9, 1, 2, 4, 9, 2, 8, 3, 6, 2, 4, 1, 1, 6, 4, 4, 6, 5, 1, 5, 9, 5, 9, 9, 5, 5, 5, 10, 4, 4, 3, 7, 8, 10, 8, 10, 3, 6, 5, 5, 9, 4, 8, 4, 4, 4, 10, 4, 8, 2, 10, 1, 3, 10, 1, 5, 8, 2, 7, 9, 8, 3, 9, 10, 2, 6, 2, 2, 1, 1, 3, 4, 4, 9, 6, 6, 6, 2, 1, 5, 1, 7, 5, 5, 8, 10, 5, 4, 1, 1, 10, 7, 3, 4, 7, 2, 2, 2, 2, 8, 6, 3, 2, 3, 10, 8, 3, 10, 5, 6, 6, 5, 2, 8, 9, 10, 8, 9, 2, 5, 7, 9, 8, 7, 9, 6, 7, 3, 2, 1, 1, 6, 2, 5, 5, 2, 1, 2, 7, 9, 9, 8, 9, 4, 9, 6, 8, 2, 10, 4, 7, 4, 6, 4, 10, 1, 10, 9, 9, 5, 5, 9, 4, 6, 4, 6, 8, 8, 1, 5, 10, 8, 2, 4, 7, 9, 8, 10, 6, 8, 7, 9, 6, 10, 1, 7, 10, 9, 5, 7, 7, 3, 9, 4, 10, 3, 5, 9, 6, 6, 3, 10, 1, 6, 4, 5, 9, 8, 10, 5, 8, 5, 9, 6, 2, 6, 1, 10, 8, 10, 4, 9, 1, 4, 5, 5, 2, 5, 6, 2, 2, 8, 9, 4, 1, 3, 9, 8, 1, 4, 3, 9, 5, 7, 6, 7, 3, 5, 8, 2, 3, 2, 6, 7, 10, 1, 2, 4, 5, 8, 6, 9, 8, 7, 1, 1, 9, 9, 4, 8, 9, 1, 9, 10, 1, 10, 7, 10, 10, 9, 6, 2, 4, 7, 1, 4, 5, 4, 2, 2, 7, 10, 5, 10, 2, 8, 6, 8, 3, 7, 2, 6, 4, 8, 10, 2, 5, 9, 7, 9, 3, 8, 4, 3, 8, 2, 7, 7, 4, 4, 7, 3, 9, 4, 6, 4, 6, 4, 6, 4, 9, 1, 7, 4, 4, 2, 1, 7, 4, 1, 1, 7, 10, 10, 2, 3, 3, 1, 7, 7, 8, 9, 10, 7, 2, 5, 6, 6, 6, 3, 5, 6, 9, 10, 6, 1, 2, 9, 5, 7, 6, 1, 5, 8, 7, 6, 5, 2, 4, 4, 1, 9, 7, 8, 9, 8, 1, 1, 10, 2, 3, 4, 2, 7, 9, 4, 6, 8, 2, 2, 4, 1, 2, 4, 5, 6, 10, 7, 6, 10, 4, 6, 4, 6, 2, 4, 1, 8, 7, 1, 2, 10, 9, 8, 1, 7, 10, 6, 8, 6, 1, 5, 2, 7, 7, 5, 9, 7, 3, 6, 8, 4, 3, 2, 3, 4, 6, 8, 2, 4, 1, 8, 6, 3, 7, 7, 5, 7, 7, 10, 10, 8, 8, 8, 10, 9, 5, 10, 7, 1, 1, 3, 9, 10, 9, 2, 10, 9, 8, 9, 5, 7, 2, 8, 1, 7, 6, 8, 10, 8, 9, 4, 8, 5, 10, 6, 2, 9, 5, 1, 1, 2, 1, 8, 7, 10, 6, 4, 10, 4, 9, 1, 3, 8, 7, 2, 1, 4, 1, 6, 3, 8, 4, 9, 3, 9, 5, 7, 6, 1, 10, 10, 7, 4, 3, 3, 6, 5, 3, 5, 4, 9, 3, 7, 6, 3, 9, 2, 7, 2, 10, 10, 6, 6, 10, 6, 7, 10, 7, 4, 6, 2, 2, 8, 10, 1, 7, 7, 4, 2, 3, 10, 1, 2, 3, 8, 7, 6, 1, 8, 4, 1, 9, 8, 1, 1, 5, 8, 8, 3, 5, 1, 6, 9, 3, 8, 7, 1, 1, 9, 3, 3, 10, 6, 6, 4, 3, 6, 4, 9, 10, 2, 3, 1, 1, 7, 6, 10, 6, 3, 9, 5, 1, 10, 10, 6, 1, 3, 8, 6, 9, 9, 8, 5, 1, 7, 4, 2, 6, 1, 6, 10, 6, 10, 9, 2, 6, 7, 7, 8, 10, 1, 3, 4, 7, 2, 6, 8, 5, 1, 1, 2, 5, 7, 7, 1, 6, 4, 10, 8, 9, 7, 1, 9, 2, 10, 5, 6, 2, 8, 4, 9, 6, 1, 7, 5, 8, 2, 1, 1, 4, 6, 4, 10, 4, 10, 10, 10, 2, 8, 5, 10, 9, 1, 8, 4, 10, 9, 3, 2, 2, 10, 8, 1, 1, 8, 10, 8, 6, 3, 1, 8, 3, 7, 10, 4, 9, 4, 9, 4, 6, 6, 1, 7, 2, 7, 6, 7, 4, 1, 7, 1, 4, 6, 2, 8, 1, 4, 8, 8, 3, 5, 5, 10, 10, 6, 1, 9, 3, 7, 5, 9, 3, 1, 8, 3, 10, 5, 4, 4, 9, 4, 4, 9, 10, 7, 1, 3, 1, 10, 3, 2, 8, 8, 1, 3, 1, 7, 8, 1, 7, 10, 7, 2, 10, 3, 2, 5, 8, 9, 10, 10, 7, 7, 8, 4, 9, 5, 7, 9, 2, 2, 9, 8, 1, 2, 6, 3, 8, 10, 9, 6, 5, 2, 9, 9, 9, 7, 7, 5, 1, 7, 10, 9, 9, 3, 8, 7, 10, 10, 3, 9, 8, 6, 9, 6, 9, 7, 7, 2, 7, 1, 10, 8, 4, 10, 6, 6, 2, 10, 1, 3, 3, 2, 8, 8, 2, 7, 8, 7, 2, 5, 4, 4, 1, 8, 2, 8, 2, 8, 1, 2, 4, 10, 8, 9, 10, 6, 3, 9, 3, 2, 5, 4, 5, 5, 6, 1, 1, 8, 2, 5, 7, 2, 2, 5, 5, 3, 7, 3, 1, 10, 4, 3, 9, 2, 1, 1, 7, 3, 4, 8, 7, 7, 9, 1, 2, 2, 10, 10, 6, 3, 5, 4, 4, 2, 2, 5, 1, 9, 10, 1, 1, 8, 6, 9, 7, 1, 2, 3, 10, 8, 7, 7, 2, 6, 1, 7, 10, 1, 1, 5, 1, 1, 7, 9, 9, 6, 2, 1, 10, 4, 6, 6, 4, 6, 9, 5, 6, 6, 3, 10, 10, 1, 9, 8, 7, 6, 1, 2, 1, 4, 3, 6, 4, 3, 9, 1, 2, 5, 8, 4, 3, 5, 10, 10, 8, 3, 3, 7, 4, 9, 7, 6, 4, 3, 7, 3, 10, 7, 8, 5, 5, 10, 10, 8, 1, 9, 9, 8, 1, 7, 5, 7, 7, 5, 3, 2, 2, 8, 8, 7, 10, 8, 9, 9, 9, 3, 1, 5, 5, 10, 3, 9, 5, 7, 3, 9, 7, 9, 3, 7, 7, 9, 8, 4, 8, 8, 9, 6, 3, 4, 5, 4, 9, 4, 6, 7, 6, 8, 10, 9, 4, 1, 10, 7, 9, 1, 9, 5, 10, 5, 5, 8, 10, 3, 7, 7, 9, 2, 6, 6, 5, 9, 5, 4, 6, 1, 8, 10, 3, 7, 5, 9, 5, 6, 1, 9, 8, 7, 3, 7, 4, 9, 8, 6, 1, 7, 4, 6, 4, 4, 5, 4, 8, 3, 6, 10, 10, 3, 8, 9, 1, 2, 4, 5, 4, 10, 3, 3, 6, 8, 5, 2, 10, 10, 5, 4, 8, 5, 1, 4, 2, 7, 9, 9, 4, 9, 4, 9, 9, 3, 8, 3, 9, 8, 10, 10, 7, 10, 1, 10, 4, 2, 2, 1, 10, 6, 3, 3, 7, 5, 5, 9, 1, 3, 3, 5, 9, 10, 8, 1, 1, 2, 6, 1, 1, 7, 4, 4, 2, 4, 10, 4, 9, 2, 9, 7, 10, 4, 2, 4, 9, 2, 10, 3, 2, 10, 9, 1, 8, 3, 6, 7, 5, 2, 6, 8, 2, 7, 4, 7, 6, 4, 10, 4, 3, 5, 3, 7, 6, 1, 1, 2, 5, 1, 10, 7, 2, 1, 1, 8, 2, 5, 2, 2, 1, 8, 9, 7, 6, 4, 8, 3, 10, 10, 9, 4, 2, 5, 9, 4, 4, 7, 4, 5, 10, 8, 5, 7, 3, 5, 9, 2, 9, 3, 6, 4, 1, 5, 1, 8, 10, 8, 2, 3, 7, 8, 5, 5, 2, 5, 2, 1, 4, 8, 10, 1, 8, 10, 9, 3, 5, 5, 9, 3, 9, 8, 9, 1, 9, 4, 5, 6, 10, 7, 10, 6, 1, 4, 9, 6, 9, 7, 1, 1, 3, 3, 10, 6, 4, 7, 8, 3, 10, 3, 10, 9, 6, 1, 8, 4, 2, 9, 10, 10, 7, 3, 9, 3, 6, 10, 8, 4, 8, 8, 8, 9, 10, 5, 10, 6, 4, 4, 1, 3, 8, 2, 6, 5, 1, 7, 8, 3, 4, 10, 8, 6, 7, 7, 2, 7, 4, 5, 5, 2, 7, 3, 1, 4, 2, 3, 9, 7, 2, 7, 4, 9, 1, 2, 6, 10, 10, 6, 2, 10, 3, 1, 2, 10, 3, 8, 6, 1, 9, 9, 2, 8, 2, 8, 1, 10, 5, 6, 7, 6, 6, 8, 3, 5, 2, 3, 10, 6, 3, 8, 4, 7, 2, 6, 6, 3, 2, 5, 8, 1, 6, 3, 3, 1, 7, 3, 2, 4, 4, 1, 7, 3, 1, 2, 2, 3, 9, 5, 10, 9, 1, 4, 8, 1, 2, 9, 4, 5, 6, 7, 7, 3, 6, 4, 3, 1, 7, 9, 8, 4, 9, 6, 8, 2, 5, 4, 7, 7, 1, 7, 4, 2, 2, 3, 7, 3, 7, 9, 9, 8, 2, 8, 10, 4, 10, 3, 3, 9, 2, 7, 3, 9, 10, 2, 5, 6, 2, 2, 6, 2, 5, 9, 10, 6, 4, 7, 7, 4, 2, 5, 3, 6, 10, 8, 5, 3, 8, 1, 1, 5, 9, 7, 4, 8, 7, 10, 4, 7, 5, 10, 7, 1, 8, 2, 8, 6, 2, 3, 6, 6, 2, 8, 3, 1, 6, 9, 5, 1, 8, 2, 2, 8, 6, 9, 3, 3, 8, 1, 6, 5, 8, 7, 1, 5, 7, 10, 7, 7, 4, 7, 1, 6, 1, 9, 3, 6, 1, 5, 1, 2, 5, 3, 1, 9, 3, 6, 7, 7, 4, 1, 8, 6, 6, 6, 10, 5, 7, 1, 5, 7, 3, 9, 8, 8, 4, 7, 6, 10, 3, 1, 7, 4, 6, 8, 5, 10, 10, 4, 3, 8, 5, 2, 9, 9, 2, 9, 1, 8, 2, 10, 9, 6, 2, 10, 8, 1, 3, 2, 1, 9, 9, 10, 9, 4, 3, 5, 10, 6, 8, 2, 8, 3, 9, 7, 4, 3, 7, 4, 8, 8, 1, 10, 9, 9, 7, 5, 1, 10, 3, 8, 4, 6, 3, 5, 8, 7, 7, 8, 5, 10, 5, 7, 8, 4, 9, 9, 4, 2, 7, 1, 9, 1, 7, 10, 1, 8, 6, 7, 6, 9, 5, 7, 9, 7, 3, 3, 8, 8, 2, 2, 4, 8, 2, 1, 4, 8, 7, 3, 2, 3, 2, 8, 9, 4, 7, 7, 4, 1, 6, 3, 9, 6, 7, 8, 3, 2, 4, 5, 7, 3, 5, 5, 2, 1, 6, 7, 8, 6, 9, 3, 4, 2, 9, 2, 4, 8, 1, 6, 5, 10, 1, 1, 1, 6, 9, 4, 2, 1, 9, 4, 3, 6, 3, 6, 3, 8, 3, 2, 3, 6, 7, 10, 2, 5, 9, 8, 3, 10, 9, 10, 4, 7, 4, 3, 1, 3, 9, 3, 4, 10, 6, 4, 1, 1, 9, 8, 3, 4, 4, 1, 4, 5, 4, 2, 1, 6, 7, 8, 6, 8, 7, 6, 7, 4, 9, 6, 7, 4, 1, 4, 1, 1, 7, 6, 7, 1, 4, 2, 1, 1, 4, 6, 1, 3, 7, 8, 8, 4, 9, 1, 10, 4, 5, 1, 7, 5, 9, 3, 8, 10, 10, 1, 9, 10, 1, 4, 4, 5, 3, 1, 3, 6, 10, 1, 1, 9, 6, 5, 5, 2, 3, 4, 4, 2, 5, 3, 3, 7, 4, 8, 2, 1, 5, 8, 2, 5, 1, 6, 4, 4, 9, 10, 2, 9, 7, 8, 3, 5, 6, 1, 2, 4, 7, 4, 10, 2, 6, 5, 2, 8, 4, 1, 3, 8, 2, 3, 5, 9, 2, 8, 2, 1, 10, 4, 5, 6, 4, 9, 9, 8, 7, 4, 6, 4, 3, 7, 7, 2, 9, 4, 10, 8, 9, 9, 1, 10, 8, 10, 2, 9, 6, 5, 10, 5, 5, 9, 10, 1, 10, 4, 4, 9, 1, 7, 5, 7, 5, 4, 4, 3, 3, 4, 2, 4, 6, 1, 7, 6, 4, 9, 9, 4, 6, 7, 9, 9, 3, 4, 10, 9, 4, 9, 6, 6, 1, 10, 7, 8, 8, 5, 4, 10, 1, 7, 5, 2, 6, 8, 8, 6, 3, 6, 6, 5, 6, 10, 5, 10, 9, 9, 6, 8, 5, 9, 8, 6, 9, 2, 10, 2, 2, 8, 1, 4, 8, 4, 6, 10, 1, 2, 1, 9, 10, 6, 9, 1, 9, 7, 8, 1, 9, 9, 10, 10, 7, 2, 7, 1, 7, 9, 2, 6, 2, 3, 4, 3, 9, 4, 3, 9, 2, 4, 9, 8, 9, 9, 5, 5, 1, 10, 7, 10, 2, 1, 7, 5, 4, 4, 6, 1, 7, 5, 1, 2, 1, 7, 3, 6, 9, 4, 3, 6, 8, 6, 3, 9, 3, 9, 3, 3, 4, 6, 6, 6, 7, 2, 4, 8, 2, 8, 10, 3, 4, 10, 4, 4, 5, 4, 6, 8, 3, 2, 3, 9, 1, 2, 7, 3, 5, 1, 1, 3, 5, 8, 8, 5, 3, 5, 1, 9, 9, 6, 8, 6, 4, 3, 9, 5, 3, 9, 3, 7, 8, 3, 5, 9, 1, 4, 4, 9, 5, 2, 8, 6, 4, 2, 6, 6, 2, 1, 6, 7, 5, 3, 4, 7, 2, 10, 10, 10, 6, 8, 8, 8, 5, 10, 10, 9, 10, 10, 9, 3, 9, 9, 5, 7, 9, 8, 3, 1, 1, 1, 9, 2, 4, 5, 5, 1, 6, 9, 8, 2, 3, 6, 10, 8, 4, 6, 3, 2, 7, 10, 1, 1, 7, 2, 10, 1, 7, 8, 6, 4, 1, 2, 4, 10, 1, 8, 4, 10, 9, 7, 4, 1, 9, 2, 8, 4, 6, 10, 10, 2, 7, 4, 3, 7, 9, 6, 2, 6, 1, 9, 3, 2, 6, 10, 10, 1, 2, 2, 10, 7, 4, 10, 2, 1, 4, 7, 4, 1, 5, 1, 9, 6, 10, 4, 3, 6, 9, 3, 3, 9, 5, 7, 4, 6, 7, 5, 2, 7, 4, 2, 5, 4, 4, 9, 1, 1, 8, 9, 10, 8, 1, 8, 6, 4, 3, 6, 4, 7, 5, 9, 6, 1, 4, 9, 9, 7, 3, 5, 2, 2, 5, 7, 4, 1, 1, 1, 3, 3, 6, 4, 7, 7, 6, 1, 10, 10, 8, 5, 5, 1, 7, 5, 7, 7, 6, 4, 1, 2, 1, 7, 3, 3, 10, 1, 10, 3, 10, 3, 6, 2, 4, 4, 8, 7, 8, 8, 9, 10, 3, 2, 4, 9, 6, 5, 3, 10, 1, 2, 10, 7, 9, 8, 1, 5, 10, 2, 1, 7, 6, 1, 10, 8, 8, 7, 1, 10, 9, 7, 6, 8, 5, 9, 7, 2, 4, 7, 7, 4, 6, 3, 2, 9, 9, 10, 5, 7, 9, 5, 4, 1, 7, 8, 3, 1, 3, 2, 4, 4, 8, 7, 5, 5, 2, 9, 4, 1, 3, 2, 2, 8, 2, 9, 8, 4, 6, 9, 6, 6, 10, 3, 6, 3, 2, 7, 2, 1, 4, 8, 1, 7, 7, 1, 8, 5, 10, 1, 2, 2, 6, 10, 5, 10, 9, 7, 8, 5, 9, 3, 5, 10, 10, 10, 9, 3, 3, 8, 6, 10, 9, 2, 3, 5, 8, 7, 8, 1, 4, 1, 5, 10, 10, 5, 2, 3, 4, 1, 3, 7, 10, 8, 2, 2, 1, 6, 1, 10, 9, 2, 3, 4, 6, 7, 7, 7, 5, 5, 3, 9, 1, 8, 1, 4, 7, 6, 10, 9, 5, 2, 4, 8, 2, 3, 10, 2, 6, 9, 2, 4, 6, 10, 2, 1, 3, 10, 1, 6, 10, 5, 6, 5, 9, 2, 10, 6, 10, 10, 3, 7, 4, 8, 6, 8, 1, 5, 1, 1, 4, 8, 6, 7, 9, 4, 10, 7, 8, 4, 6, 7, 10, 1, 3, 1, 10, 2, 2, 8, 2, 6, 3, 4, 7, 4, 3, 8, 6, 1, 8, 10, 9, 6, 7, 8, 9, 7, 5, 9, 6, 8, 5, 2, 3, 7, 5, 5, 3, 10, 4, 1, 6, 4, 7, 7, 3, 9, 2, 4, 5, 6, 10, 8, 8, 1, 8, 2, 2, 10, 3, 2, 9, 2, 6, 3, 5, 9, 4, 6, 10, 7, 8, 3, 9, 5, 1, 10, 3, 6, 1, 9, 8, 1, 2, 10, 3, 8, 6, 9, 9, 7, 5, 6, 6, 2, 4, 3, 1, 10, 2, 6, 9, 3, 1, 5, 1, 3, 6, 9, 4, 10, 4, 9, 3, 4, 2, 5, 3, 1, 6, 1, 8, 9, 9, 1, 5, 9, 4, 3, 9, 9, 3, 6, 4, 6, 4, 3, 1, 1, 1, 9, 3, 8, 1, 4, 6, 4, 4, 10, 4, 6, 4, 6, 5, 5, 9, 8, 5, 2, 4, 7, 4, 4, 4, 7, 9, 4, 5, 6, 5, 4, 6, 3, 1, 3, 5, 4, 6, 8, 5, 8, 10, 4, 10, 3, 8, 9, 10, 2, 4, 7, 4, 1, 5, 7, 1, 9, 4, 5, 6, 8, 2, 2, 9, 1, 1, 1, 6, 6, 2, 10, 10, 2, 4, 6, 8, 3, 4, 9, 5, 5, 3, 10, 7, 2, 6, 10, 1, 10, 8, 9, 5, 10, 4, 8, 6, 3, 3, 1, 7, 9, 9, 10, 9, 10, 5, 8, 2, 6, 5, 2, 10, 4, 10, 7, 8, 10, 10, 2, 4, 8, 2, 6, 9, 10, 3, 8, 4, 3, 9, 7, 7, 10, 4, 6, 10, 6, 4, 8, 8, 6, 1, 3, 7, 5, 2, 10, 5, 8, 4, 10, 10, 1, 7, 3, 3, 4, 2, 5, 7, 8, 2, 10, 3, 10, 6, 6, 2, 8, 9, 7, 5, 9, 1, 7, 5, 10, 8, 8, 5, 9, 2, 1, 6, 3, 7, 9, 1, 2, 5, 5, 6, 7, 8, 10, 10, 7, 9, 10, 2, 7, 8, 8, 5, 8, 9, 5, 10, 3, 6, 4, 5, 4, 9, 7, 7, 10, 8, 6, 2, 5, 5, 6, 4, 5, 6, 9, 6, 3, 7, 1, 6, 5, 2, 2, 2, 3, 2, 7, 2, 5, 6, 1, 4, 8, 6, 1, 4, 3, 7, 1, 4, 10, 7, 3, 8, 8, 5, 9, 9, 5, 3, 6, 5, 10, 7, 4, 2, 10, 10, 8, 10, 2, 5, 9, 2, 7, 7, 5, 3, 6, 4, 1, 2, 9, 3, 9, 4, 6, 9, 10, 2, 9, 5, 2, 10, 7, 2, 9, 9, 2, 5, 2, 7, 2, 5, 2, 6, 7, 3, 4, 2, 3, 5, 2, 10, 6, 9, 2, 9, 7, 6, 7, 7, 4, 6, 1, 10, 1, 6, 6, 10, 8, 6, 9, 2, 4, 2, 2, 8, 5, 10, 10, 6, 8, 10, 10, 3, 2, 7, 7, 3, 3, 3, 9, 1, 5, 6, 7, 7, 3, 6, 7, 4, 6, 7, 6, 9, 7, 1, 5, 6, 6, 1, 10, 9, 6, 8, 9, 10, 1, 3, 7, 7, 10, 4, 2, 3, 6, 2, 6, 8, 8, 7, 3, 6, 7, 9, 3, 7, 6, 1, 1, 4, 4, 3, 4, 5, 9, 7, 2, 7, 6, 7, 1, 1, 7, 2, 3, 1, 10, 5, 4, 10, 5, 1, 4, 5, 4, 2, 4, 2, 6, 7, 4, 4, 8, 10, 4, 5, 1, 1, 7, 1, 5, 9, 8, 2, 8, 4, 1, 1, 9, 4, 10, 5, 10, 8, 10, 2, 8, 2, 8, 9, 9, 7, 10, 7, 2, 9, 7, 4, 5, 7, 6, 6, 10, 3, 10, 5, 8, 8, 6, 7, 3, 7, 2, 4, 4, 7, 8, 9, 10, 10, 5, 7, 5, 7, 1, 2, 7, 8, 7, 5, 4, 4, 8, 10, 5, 6, 3, 7, 9, 9, 2, 10, 10, 6, 7, 2, 2, 4, 3, 6, 9, 8, 3, 5, 10, 10, 10, 2, 2, 4, 5, 8, 1, 2, 10, 8, 1, 4, 4, 6, 4, 10, 8, 10, 8, 10, 10, 10, 9, 5, 8, 1, 2, 4, 6, 8, 1, 4, 3, 8, 3, 8, 10, 9, 10, 9, 3, 3, 3, 5, 9, 5, 9, 2, 9, 10, 6, 3, 10, 7, 1, 2, 3, 4, 10, 10, 7, 6, 4, 8, 4, 3, 10, 10, 4, 6, 10, 10, 5, 9, 4, 8, 5, 10, 9, 7, 5, 7, 3, 10, 2, 6, 10, 3, 2, 1, 3, 1, 9, 1, 1, 9, 4, 8, 6, 8, 10, 5, 10, 5, 1, 8, 8, 4, 7, 2, 9, 7, 7, 8, 4, 9, 2, 9, 8, 1, 8, 4, 3, 10, 9, 8, 10, 5, 4, 3, 4, 5, 8, 8, 2, 2, 4, 2, 10, 6, 2, 6, 10, 7, 5, 8, 10, 2, 5, 2, 8, 8, 8, 8, 5, 6, 2, 8, 5, 8, 1, 6, 3, 3, 1, 8, 8, 4, 1, 9, 8, 10, 3, 8, 9, 3, 4, 6, 4, 5, 10, 1, 4, 2, 4, 8, 5, 3, 6, 9, 7, 1, 10, 1, 6, 6, 2, 1, 10, 1, 2, 3, 4, 6, 2, 1, 8, 7, 8, 7, 5, 2, 1, 2, 5, 2, 2, 7, 6, 8, 1, 5, 2, 8, 7, 7, 7, 10, 9, 6, 10, 6, 6, 1, 7, 7, 4, 7, 6, 2, 6, 10, 3, 9, 3, 5, 10, 7, 9, 9, 4, 1, 7, 5, 6, 3, 7, 9, 1, 3, 3, 10, 4, 4, 5, 5, 7, 5, 6, 4, 10, 7, 4, 8, 2, 3, 7, 1, 9, 1, 9, 6, 4, 1, 9, 9, 2, 1, 7, 9, 5, 9, 9, 4, 7, 9, 6, 10, 2, 5, 7, 3, 4, 3, 8, 7, 5, 4, 1, 3, 2, 3, 10, 9, 10, 6, 8, 7, 8, 9, 4, 6, 4, 6, 5, 10, 3, 2, 8, 7, 4, 4, 8, 9, 6, 5, 10, 8, 8, 1, 6, 6, 4, 8, 5, 9, 4, 9, 5, 7, 10, 6, 10, 9, 9, 8, 6, 10, 8, 7, 1, 7, 10, 6, 9, 8, 2, 5, 6, 10, 9, 10, 2, 2, 4, 1, 5, 1, 3, 7, 2, 2, 8, 1, 1, 8, 3, 8, 8, 7, 3, 7, 8, 3, 3, 4, 5, 7, 3, 5, 2, 8, 8, 6, 2, 7, 3, 6, 1, 7, 9, 3, 7, 2, 5, 5, 7, 1, 9, 6, 3, 7, 4, 10, 3, 6, 2, 3, 5, 9, 7, 10, 7, 9, 4, 10, 7, 7, 4, 6, 9, 2, 9, 9, 8, 4, 3, 9, 4, 3, 9, 4, 3, 7, 3, 10, 4, 9, 1, 4, 6, 10, 2, 1, 4, 4, 7, 3, 5, 3, 8, 1, 4, 6, 8, 3, 6, 2, 7, 6, 3, 6, 3, 1, 2, 6, 1, 5, 7, 3, 2, 3, 8, 5, 9, 4, 10, 2, 4, 10, 10, 8, 6, 4, 2, 7, 7, 5, 3, 6, 1, 3, 5, 3, 6, 4, 1, 9, 2, 4, 3, 7, 9, 1, 2, 3, 9, 9, 4, 1, 2, 1, 2, 3, 10, 10, 5, 6, 5, 10, 9, 9, 7, 10, 3, 5, 8, 8, 9, 3, 10, 6, 3, 2, 6, 10, 10, 1, 10, 6, 9, 6, 5, 3, 6, 4, 6, 1, 1, 5, 5, 10, 9, 1, 2, 2, 4, 5, 3, 4, 9, 6, 5, 1, 5, 10, 6, 3, 4, 2, 8, 6, 9, 6, 8, 7, 2, 5, 2, 2, 6, 8, 3, 5, 3, 6, 4, 6, 6, 9, 7, 1, 1, 2, 2, 7, 4, 2, 2, 1, 1, 1, 1, 6, 1, 8, 7, 7, 3, 1, 4, 2, 2, 5, 7, 3, 7, 9, 1, 8, 10, 8, 2, 2, 2, 3, 8, 3, 1, 5, 2, 2, 4, 7, 5, 3, 10, 8, 2, 4, 7, 8, 10, 2, 10, 1, 4, 5, 2, 4, 10, 5, 4, 3, 5, 4, 4, 10, 6, 1, 3, 5, 2, 3, 9, 5, 8, 2, 9, 1, 10, 2, 10, 9, 7, 4, 4, 4, 4, 6, 9, 1, 4, 2, 3, 3, 2, 2, 10, 10, 7, 8, 6, 9, 8, 5, 10, 3, 2, 7, 10, 1, 6, 8, 3, 2, 4, 10, 9, 10, 5, 10, 5, 10, 10, 2, 3, 2, 6, 1, 6, 10, 9, 8, 9, 7, 10, 3, 3, 10, 1, 9, 2, 1, 10, 10, 10, 10, 3, 8, 10, 9, 10, 7, 6, 7, 3, 4, 5, 8, 2, 5, 5, 2, 10, 7, 1, 7, 5, 4, 9, 9, 10, 7, 1, 5, 2, 8, 2, 10, 7, 3, 8, 3, 9, 8, 1, 4, 6, 7, 4, 2, 4, 3, 2, 3, 2, 3, 4, 5, 9, 5, 4, 8, 1, 1, 1, 8, 6, 9, 5, 2, 4, 5, 8, 4, 7, 10, 5, 1, 1, 8, 10, 9, 3, 2, 8, 3, 10, 10, 8, 6, 2, 5, 3, 6, 8, 5, 2, 5, 9, 1, 9, 6, 5, 5, 3, 5, 2, 5, 2, 10, 8, 4, 3, 4, 8, 9, 8, 7, 2, 6, 8, 6, 8, 1, 2, 1, 4, 4, 7, 8, 7, 5, 6, 8, 10, 10, 1, 9, 9, 5, 9, 5, 10, 4, 8, 7, 1, 3, 2, 8, 6, 5, 9, 10, 8, 5, 2, 8, 2, 3, 3, 1, 4, 3, 3, 1, 3, 5, 5, 8, 5, 10, 2, 2, 1, 6, 9, 5, 5, 4, 7, 4, 5, 10, 9, 8, 5, 4, 1, 2, 1, 6, 3, 7, 4, 3, 6, 7, 10, 6, 8, 8, 9, 6, 9, 4, 5, 3, 1, 4, 2, 6, 9, 6, 2, 8, 8, 10, 5, 2, 3, 6, 10, 7, 5, 6, 4, 4, 10, 8, 10, 9, 9, 5, 9, 2, 8, 10, 2, 2, 3, 5, 3, 4, 5, 6, 10, 3, 8, 1, 4, 8, 5, 6, 2, 3, 4, 9, 3, 3, 8, 1, 8, 8, 9, 10, 4, 9, 7, 7, 7, 9, 2, 8, 1, 9, 8, 3, 5, 9, 5, 7, 9, 7, 4, 5, 3, 8, 8, 9, 4, 9, 2, 8, 8, 9, 6, 8, 9, 7, 7, 1, 10, 10, 7, 1, 8, 5, 9, 9, 10, 10, 4, 10, 8, 4, 5, 2, 7, 10, 5, 4, 4, 4, 1, 7, 2, 9, 1, 2, 10, 2, 7, 10, 4, 10, 1, 5, 2, 5, 9, 9, 1, 7, 9, 6, 2, 4, 8, 6, 10, 3, 5, 6, 1, 3, 3, 5, 6, 9, 2, 9, 1, 4, 7, 1, 4, 8, 1, 4, 2, 3, 2, 5, 8, 2, 5, 8, 4, 1, 8, 1, 10, 7, 8, 2, 7, 2, 5, 7, 6, 7, 1, 2, 3, 8, 10, 6, 3, 4, 3, 5, 5, 2, 4, 6, 5, 4, 2, 9, 6, 7, 10, 1, 9, 7, 2, 6, 7, 5, 9, 9, 8, 8, 8, 4, 10, 6, 8, 7, 10, 1, 6, 9, 2, 3, 7, 1, 6, 4, 1, 3, 6, 8, 1, 6, 10, 9, 5, 8, 6, 8, 9, 9, 3, 2, 9, 6, 7, 6, 1, 3, 6, 7, 8, 9, 5, 1, 9, 8, 1, 4, 2, 7, 6, 1, 3, 2, 1, 7, 9, 7, 8, 1, 3, 8, 9, 9, 10, 1, 7, 5, 6, 6, 7, 8, 3, 9, 4, 7, 6, 10, 10, 2, 6, 9, 10, 9, 7, 1, 7, 5, 8, 10, 4, 4, 9, 10, 5, 10, 6, 7, 3, 8, 3, 7, 7, 5, 6, 4, 3, 8, 8, 2, 2, 10, 6, 8, 10, 4, 6, 6, 10, 3, 8, 7, 10, 2, 3, 7, 1, 9, 4, 6, 8, 9, 5, 1, 9, 10, 4, 4, 8, 2, 8, 3, 10, 9, 4, 6, 2, 6, 7, 8, 9, 8, 5, 6, 1, 10, 10, 8, 4, 5, 7, 5, 7, 2, 6, 9, 9, 9, 4, 6, 9, 7, 3, 6, 10, 6, 7, 2, 6, 7, 2, 3, 1, 10, 8, 10, 2, 9, 1, 7, 5, 8, 1, 8, 2, 10, 1, 10, 9, 3, 10, 7, 6, 10, 6, 2, 8, 1, 6, 2, 8, 5, 5, 9, 8, 7, 2, 5, 9, 1, 5, 1, 8, 4, 4, 5, 3, 4, 3, 3, 1, 3, 8, 9, 2, 4, 1, 3, 9, 1, 4, 3, 3, 3, 9, 4, 10, 10, 4, 9, 10, 7, 1, 10, 2, 5, 4, 3, 4, 4, 6, 2, 9, 8, 9, 1, 9, 1, 8, 2, 1, 8, 2, 3, 3, 6, 10, 1, 8, 4, 9, 1, 8, 1, 2, 8, 10, 5, 2, 8, 2, 9, 1, 2, 8, 10, 2, 9, 7, 9, 7, 10, 8, 9, 7, 2, 3, 6, 1, 6, 10, 10, 8, 2, 10, 6, 9, 3, 1, 4, 5, 9, 1, 2, 5, 7, 1, 9, 7, 1, 5, 10, 4, 3, 3, 7, 10, 4, 6, 10, 10, 6, 2, 3, 3, 4, 9, 4, 3, 2, 3, 6, 4, 1, 1, 7, 10, 1, 6, 1, 6, 1, 5, 2, 9, 7, 2, 3, 2, 3, 3, 1, 8, 3, 2, 6, 7, 5, 4, 3, 4, 10, 9, 10, 9, 3, 7, 4, 9, 6, 9, 9, 2, 1, 7, 4, 2, 2, 8, 5, 9, 4, 1, 6, 7, 1, 7, 3, 4, 5, 1, 2, 3, 8, 8, 6, 9, 1, 7, 3, 10, 7, 8, 5, 8, 4, 7, 4, 9, 6, 4, 2, 4, 1, 7, 8, 10, 4, 7, 1, 2, 1, 2, 10, 1, 4, 4, 5, 2, 7, 7, 8, 3, 2, 1, 2, 7, 1, 9, 10, 1, 6, 7, 6, 3, 3, 8, 6, 5, 8, 2, 10, 6, 2, 7, 4, 1, 4, 7, 4, 5, 2, 3, 7, 7, 8, 7, 9, 9, 2, 8, 2, 5, 8, 6, 6, 8, 10, 4, 1, 10, 6, 8, 5, 9, 10, 4, 4, 7, 7, 7, 1, 1, 6, 6, 3, 6, 7, 8, 2, 5, 4, 2, 9, 9, 4, 6, 7, 10, 3, 3, 7, 7, 1, 10, 1, 1, 9, 3, 10, 5, 4, 9, 10, 2, 1, 3, 4, 10, 7, 3, 9, 1, 10, 7, 10, 1, 7, 5, 5, 9, 10, 2, 6, 9, 2, 1, 1, 5, 3, 10, 6, 10, 1, 5, 8, 5, 5, 8, 3, 6, 4, 3, 3, 1, 2, 6, 5, 8, 10, 1, 10, 2, 6, 4, 9, 2, 8, 6, 7, 8, 2, 8, 4, 4, 3, 9, 6, 1, 7, 10, 10, 7, 6, 9, 10, 3, 1, 10, 5, 6, 2, 1, 10, 1, 6, 4, 8, 10, 7, 10, 2, 9, 8, 9, 10, 1, 5, 4, 9, 2, 8, 6, 5, 4, 9, 2, 4, 1, 1, 1, 4, 1, 7, 3, 8, 8, 6, 7, 6, 4, 10, 7, 10, 6, 2, 6, 10, 2, 7, 7, 5, 8, 6, 8, 4, 6, 6, 9, 4, 5, 3, 4, 10, 8, 2, 4, 5, 5, 7, 1, 2, 7, 7, 1, 2, 4, 7, 4, 8, 5, 10, 10, 4, 5, 5, 9, 10, 1, 2, 1, 9, 3, 3, 1, 5, 10, 8, 2, 6, 8, 3, 7, 4, 3, 9, 10, 9, 9, 5, 7, 1, 1, 5, 1, 8, 1, 6, 10, 3, 10, 3, 10, 2, 10, 6, 9, 8, 5, 9, 7, 7, 9, 9, 6, 8, 8, 9, 5, 6, 4, 1, 6, 6, 9, 3, 7, 4, 5, 5, 7, 7, 5, 5, 4, 2, 9, 8, 3, 2, 8, 2, 7, 5, 1, 3, 3, 4, 3, 7, 10, 5, 2, 10, 2, 8, 1, 4, 7, 10, 2, 6, 1, 5, 7, 3, 6, 4, 7, 8, 2, 3, 10, 8, 4, 6, 1, 1, 4, 9, 7, 1, 1, 2, 7, 5, 9, 4, 7, 4, 5, 2, 6, 8, 1, 6, 5, 1, 9, 2, 6, 8, 2, 9, 2, 6, 7, 3, 4, 2, 2, 6, 8, 5, 10, 4, 4, 3, 9, 5, 5, 2, 6, 5, 9, 4, 8, 3, 1, 3, 7, 4, 4, 3, 5, 8, 7, 6, 6, 7, 7, 1, 9, 1, 8, 5, 2, 5, 2, 8, 9, 5, 5, 3, 6, 6, 7, 5, 8, 2, 8, 9, 2, 8, 10, 6, 10, 6, 3, 2, 4, 1, 3, 3, 6, 4, 6, 10, 5, 7, 1, 9, 2, 10, 3, 10, 6, 5, 9, 6, 4, 5, 6, 7, 1, 8, 3, 4, 9, 6, 10, 7, 9, 3, 3, 5, 3, 5, 7, 10, 2, 4, 2, 5, 9, 7, 5, 9, 3, 8, 7, 9, 4, 4, 6, 2, 4, 2, 5, 8, 5, 7, 8, 9, 10, 6, 5, 2, 6, 6, 4, 8, 2, 8, 4, 7, 10, 9, 1, 6, 1, 7, 2, 4, 9, 7, 10, 6, 10, 5, 6, 5, 2, 10, 10, 9, 8, 5, 10, 3, 5, 7, 3, 10, 9, 9, 5, 5, 10, 9, 4, 4, 4, 10, 8, 7, 6, 6, 8, 3, 1, 7, 4, 10, 1, 2, 3, 6, 8, 6, 9, 6, 6, 6, 4, 6, 9, 5, 6, 10, 8, 1, 6, 8, 5, 5, 6, 3, 8, 8, 5, 4, 8, 2, 8, 8, 1, 6, 1, 2, 9, 2, 4, 8, 4, 2, 6, 6, 5, 1, 1, 6, 10, 8, 3, 8, 2, 4, 10, 7, 3, 1, 4, 7, 7, 9, 9, 4, 7, 7, 7, 2, 2, 1, 9, 6, 8, 3, 4, 8, 8, 3, 10, 3, 6, 8, 9, 8, 9, 8, 6, 3, 7, 4, 4, 3, 2, 1, 5, 5, 10, 5, 10, 9, 3, 2, 9, 4, 2, 2, 6, 9, 7, 5, 9, 2, 4, 8, 6, 9, 1, 10, 10, 10, 6, 9, 4, 10, 8, 3, 2, 7, 9, 8, 9, 5, 6, 1, 2, 10, 10, 1, 2, 2, 7, 8, 4, 3, 6, 2, 8, 6, 6, 9, 9, 10, 5, 1, 4, 1, 9, 9, 5, 7, 7, 8, 6, 1, 8, 6, 2, 7, 9, 8, 5, 7, 2, 7, 1, 2, 3, 7, 3, 7, 5, 6, 4, 10, 8, 9, 7, 8, 5, 1, 10, 6, 5, 9, 9, 5, 2, 7, 3, 9, 4, 4, 6, 6, 3, 6, 5, 9, 6, 7, 8, 10, 7, 4, 9, 6, 6, 9, 2, 2, 1, 2, 4, 5, 4, 6, 2, 6, 10, 8, 6, 9, 1, 9, 4, 4, 2, 3, 6, 10, 1, 6, 7, 3, 6, 5, 4, 1, 1, 5, 8, 9, 9, 1, 9, 10, 5, 7, 6, 6, 1, 4, 3, 10, 10, 2, 6, 10, 6, 4, 4, 7, 3, 6, 1, 5, 7, 5, 1, 6, 5, 2, 8, 7, 8, 5, 3, 8, 9, 6, 4, 1, 5, 4, 6, 3, 5, 3, 3, 7, 1, 9, 5, 8, 7, 4, 5, 5, 6, 9, 1, 5, 9, 10, 1, 4, 7, 9, 7, 7, 1]\n"
     ]
    }
   ],
   "source": [
    "nStud = 6500 # number of students registered to the learning platform\n",
    "randomIntegers = list()\n",
    "for i in range(0, nStud):\n",
    "    randomIntegers.append(randint(1, 10))\n",
    "print(randomIntegers)"
   ]
  },
  {
   "cell_type": "markdown",
   "id": "ed726e33",
   "metadata": {},
   "source": [
    "<h3>\n",
    "Create a dictionary of lists, where the keys are the attribute names\n",
    "</h3>"
   ]
  },
  {
   "cell_type": "code",
   "execution_count": 5,
   "id": "6a82ffd8",
   "metadata": {
    "scrolled": false
   },
   "outputs": [],
   "source": [
    "studentSchema = ['studentID', 'firstName', 'lastName', 'dateOfBirth', 'genre', 'country', 'town', 'email']\n",
    "studentDict = dict()\n",
    "for attribute in studentSchema:\n",
    "    studentDict[attribute] = list()"
   ]
  },
  {
   "cell_type": "markdown",
   "id": "88955cdb",
   "metadata": {},
   "source": [
    "<h3>\n",
    "Generate the fake students' data\n",
    "</h3><br>\n",
    "It is important to note that if I generate names randomly, I don't have a way to tell if the name is a male, female or non binary name. Then I chose to define the genre based on the previously defined list of random integers. If the integer at position <code>i</code> is divisible by <code>2</code>, I will create a male name and the student's genre will be <i>male</i>. If the integer at position <code>i</code> is divisible by <code>7</code>, I will create a non binary name and the student's genre will be <i>non binary</i>. In all other cases I will create a female name and the student's genre will be <i>female</i>. <br> Given the expected distribution of integers, <code>40%</code> students should be men, <code>50%</code> should be female and <code>10%</code> should be non binary."
   ]
  },
  {
   "cell_type": "code",
   "execution_count": 6,
   "id": "d36352af",
   "metadata": {},
   "outputs": [],
   "source": [
    "# fill the attribute lists with fake data\n",
    "studentID = 0\n",
    "for i in range(0, nStud):\n",
    "    fake = Faker(sample(localization, 1))\n",
    "    studentID += 1\n",
    "    studentDict['studentID'].append(studentID)\n",
    "    if randomIntegers[i] % 2 == 0:\n",
    "        firstName = fake.first_name_male()\n",
    "        studentDict['firstName'].append(firstName)\n",
    "        lastName = fake.last_name()\n",
    "        studentDict['lastName'].append(lastName)\n",
    "        randomDate = fake.date_of_birth(minimum_age = 18, maximum_age = 60)\n",
    "        studentDict['dateOfBirth'].append(str(randomDate.year) + '-' + str(randomDate.month) + '-' + str(randomDate.day))\n",
    "        studentDict['genre'].append('male')\n",
    "        studentDict['country'].append(fake.country())\n",
    "        studentDict['town'].append(fake.city())\n",
    "        email = firstName.lower() + '.' + lastName.lower() + '@' + fake.free_email_domain()\n",
    "        studentDict['email'].append(email)\n",
    "    elif randomIntegers[i] % 7 == 0:\n",
    "        firstName = fake.first_name_nonbinary()\n",
    "        studentDict['firstName'].append(firstName)\n",
    "        lastName = fake.last_name()\n",
    "        studentDict['lastName'].append(lastName)\n",
    "        randomDate = fake.date_of_birth(minimum_age = 18, maximum_age = 60)\n",
    "        studentDict['dateOfBirth'].append(str(randomDate.year) + '-' + str(randomDate.month) + '-' + str(randomDate.day))\n",
    "        studentDict['genre'].append('non binary')\n",
    "        studentDict['country'].append(fake.country())\n",
    "        studentDict['town'].append(fake.city())\n",
    "        email = firstName.lower() + '.' + lastName.lower() + '@' + fake.free_email_domain()\n",
    "        studentDict['email'].append(email)\n",
    "    else:\n",
    "        firstName = fake.first_name_female()\n",
    "        studentDict['firstName'].append(firstName)\n",
    "        lastName = fake.last_name()\n",
    "        studentDict['lastName'].append(lastName)\n",
    "        randomDate = fake.date_of_birth(minimum_age = 18, maximum_age = 60)\n",
    "        studentDict['dateOfBirth'].append(str(randomDate.year) + '-' + str(randomDate.month) + '-' + str(randomDate.day))\n",
    "        studentDict['genre'].append('female')\n",
    "        studentDict['country'].append(fake.country())\n",
    "        studentDict['town'].append(fake.city())\n",
    "        email = firstName.lower() + '.' + lastName.lower() + '@' + fake.free_email_domain()\n",
    "        studentDict['email'].append(email)"
   ]
  },
  {
   "cell_type": "markdown",
   "id": "15a565b1",
   "metadata": {},
   "source": [
    "<h3>\n",
    "Print out the data (a small sample)\n",
    "</h3>"
   ]
  },
  {
   "cell_type": "code",
   "execution_count": null,
   "id": "4a31f667",
   "metadata": {},
   "outputs": [],
   "source": [
    "# whole dictionary\n",
    "print('sID', ' ' * (5 - len('sID')), 'firstName', ' ' * (15 - len('firstname')), 'lastName', ' ' * (15 - len('lastName')), 'dateOfBirth', ' ' * (12 - len('dateOfBirth')), 'genre', ' ' * (10 - len('genre')), 'country', ' ' * (14 - len('country')), 'town', ' ' * (14 - len('town')), 'email')\n",
    "for sID, firstName, lastName, dob, genre, country, town, email in zip(studentDict['studentID'], studentDict['firstName'], studentDict['lastName'], studentDict['dateOfBirth'], studentDict['genre'], studentDict['country'], studentDict['town'], studentDict['email']):\n",
    "    print(sID, ' ' * (5 - len(str(sID))), firstName, ' ' * (15 - len(firstName)), lastName, ' ' * (15 - len(lastName)), dob, ' ' * (12 - len(dob)), genre, ' ' * (10 - len(genre)), country[0 : 12], ' ' * (14 - len(country[0 : 12])), town[0 : 12], ' ' * (14 - len(town[0 : 12])), email[0 : 15])"
   ]
  },
  {
   "cell_type": "code",
   "execution_count": 7,
   "id": "e238cf37",
   "metadata": {},
   "outputs": [
    {
     "name": "stdout",
     "output_type": "stream",
     "text": [
      "sID    firstName        lastName         dateOfBirth   genre       country         town            email\n",
      "1      Jordan           Welch            2004-12-29    male        French Guian    Lake Erinsid    jordan.welch@ho\n",
      "2      Custodia         Hidalgo          1981-4-23     female      Eritrea         Alicante        custodia.hidalg\n",
      "3      Haluk            Şensoy           1973-2-23     male        Jersey          East Vahitti    haluk.şensoy@ho\n",
      "4      Erna             Jopich           1965-3-19     female      Thailand        Euskirchen      erna.jopich@yah\n",
      "5      Pål              Holm             1996-9-10     male        Libya           Jacobsen        pål.holm@yahoo.\n",
      "6      İhsan            Hançer           1978-7-27     female      Somalia         Sezerborough    i̇hsan.hançer@o\n",
      "7      Kelsey           Kelley           1979-10-16    female      Liberia         North Todd      kelsey.kelley@h\n",
      "8      Artūras          Gronskis         1968-5-6      male        Burundi         Gustasland      artūras.gronski\n",
      "9      Tayyip           Akçay            1969-8-31     non binary  Congo           Eraslanberg     tayyip.akçay@gm\n",
      "10     Darius           Paulauskas       1964-4-10     non binary  United State    North Darija    darius.paulausk\n",
      "11     Franz            Scholl           1963-4-4      male        Eritrea         Hannoversch     franz.scholl@ya\n",
      "12     Dave             Sire             1989-3-1      male        Tadzjikistan    Geleen          dave.sire@yahoo\n",
      "13     Maartje          Geerling         1968-7-3      female      Thailand        Ossendrecht     maartje.geerlin\n",
      "14     Anny             Bauer            1987-5-30     female      Rumänien        Borna           anny.bauer@goog\n",
      "15     Scott            Reese            2000-5-31     male        Vietnam         Jenkinschest    scott.reese@gma\n",
      "16     Ana Júlia        Nogueira         2002-11-11    female      Trindade e T    da Cunha        ana júlia.nogue\n",
      "17     Malin            Evensen          1970-3-29     female      Marshall Isl    Mayø            malin.evensen@g\n",
      "18     Anna             Larsson          2005-1-30     female      Schweiz         Karlstad        anna.larsson@ya\n",
      "19     Gatik            Sen              1975-2-1      female      Taiwan          Buxar           gatik.sen@gmail\n",
      "20     Ippazio          Argenti          1974-2-18     male        Giamaica        Viticuso        ippazio.argenti\n",
      "21     Xavier           Auger            1985-3-20     male        Gambie          Maurice-les-    xavier.auger@wa\n",
      "22     Jacinto          Berrocal         1965-9-2      male        Somalia         Jaén            jacinto.berroca\n",
      "23     Georges          Texier           1979-4-28     male        Porto Rico      Buisson         georges.texier@\n",
      "24     Oldağ            Erdoğan          1981-11-22    male        Saudi Arabia    Bilirland       oldağ.erdoğan@h\n",
      "25     Melissa          Mendes           1966-8-7      female      Cabo Verde      Teixeira        melissa.mendes@\n",
      "26     Joan             Ripoll           1996-6-27     male        Turquía         Toledo          joan.ripoll@hot\n",
      "27     Lina             van de Kooij     1970-9-13     non binary  Kenia           Kelpen-Oler     lina.van de koo\n",
      "28     Onkar            Brahmbhatt       2000-5-13     male        Moldova         Farrukhabad     onkar.brahmbhat\n",
      "29     Juan             Pozuelo          1987-3-16     male        Fiji            Palencia        juan.pozuelo@gm\n",
      "30     Frederike        Schwital         2000-11-17    female      Taiwan          Mühldorf am     frederike.schwi\n",
      "31     Dominique        Evrard           1967-12-3     female      Madagascar      Joubert         dominique.evrar\n",
      "32     Rita             Strand           1999-11-1     female      Sierra Leone    Ragnhildhavn    rita.strand@yah\n",
      "33     Gabriel          Ribeiro          2005-6-19     male        Grécia          Braga           gabriel.ribeiro\n",
      "34     Bozena           Klemt            1979-6-19     female      Guinea          Suhl            bozena.klemt@ao\n",
      "35     Francisco        Barros           1965-11-28    non binary  Ruanda          Macedo de Ca    francisco.barro\n",
      "36     Elodia           Cabo             1985-4-8      female      República de    León            elodia.cabo@hot\n",
      "37     Ingrid           Karlsson         1964-7-26     female      Tjeckien        Lidingö         ingrid.karlsson\n",
      "38     Sarah            Lara             1991-6-13     non binary  Vietnam         South Derek     sarah.lara@gmai\n",
      "39     Kathrin          Bien             1968-1-22     female      Rumänien        Grevenbroich    kathrin.bien@ya\n",
      "40     Jason            Lind             1994-10-29    male        Guam            Baflo           jason.lind@hotm\n",
      "41     Stanley          Newton           1996-2-18     male        Niger           Collinsville    stanley.newton@\n",
      "42     Gavin            Smith            1970-2-7      male        Grenada         North Kaylei    gavin.smith@hot\n",
      "43     Ana Vitória      da Luz           1967-3-16     female      Marrocos        Peixoto do S    ana vitória.da \n",
      "44     Manolo           Quintanilla      1969-10-5     male        Rumania         Las Palmas      manolo.quintani\n",
      "45     Nils             Antonsen         1999-10-13    male        Trinidad and    Haug            nils.antonsen@g\n",
      "46     Anthony          Roberson         1999-7-11     male        Angola          West Paultow    anthony.roberso\n",
      "47     Lorenzo          Krein            1970-7-24     male        El Salvador     Husum           lorenzo.krein@a\n",
      "48     Cevheri          Sezgin           2000-5-19     male        Japan           New Nurmelek    cevheri.sezgin@\n",
      "49     Ugo              Bonatti          2002-10-30    male        Mayotte         Ussana          ugo.bonatti@out\n",
      "50     Esmee            Hollander        1997-6-7      female      Oostenrijk      Hattem          esmee.hollander\n",
      "[...]\n"
     ]
    }
   ],
   "source": [
    "# 50 elements from each list\n",
    "print('sID', ' ' * (5 - len('sID')), 'firstName', ' ' * (15 - len('firstname')), 'lastName', ' ' * (15 - len('lastName')), 'dateOfBirth', ' ' * (12 - len('dateOfBirth')), 'genre', ' ' * (10 - len('genre')), 'country', ' ' * (14 - len('country')), 'town', ' ' * (14 - len('town')), 'email')\n",
    "for i in range(0, 50):\n",
    "    sID = studentDict['studentID'][i]\n",
    "    firstName = studentDict['firstName'][i]\n",
    "    lastName = studentDict['lastName'][i]\n",
    "    dob = studentDict['dateOfBirth'][i]\n",
    "    genre = studentDict['genre'][i]\n",
    "    country = studentDict['country'][i]\n",
    "    town = studentDict['town'][i]\n",
    "    email = studentDict['email'][i]\n",
    "    print(sID, ' ' * (5 - len(str(sID))), firstName, ' ' * (15 - len(firstName)), lastName, ' ' * (15 - len(lastName)), dob, ' ' * (12 - len(dob)), genre, ' ' * (10 - len(genre)), country[0 : 12], ' ' * (14 - len(country[0 : 12])), town[0 : 12], ' ' * (14 - len(town[0 : 12])), email[0 : 15])\n",
    "print('[...]')"
   ]
  },
  {
   "cell_type": "code",
   "execution_count": 8,
   "id": "57974a91",
   "metadata": {},
   "outputs": [],
   "source": [
    "# save student table to csv file\n",
    "with open(path + 'tables/studentTable.csv', 'w', newline = '', encoding = 'UTF-16') as csvfile:\n",
    "    writer = csv.writer(csvfile)\n",
    "    keys = studentDict.keys()\n",
    "    limit = len(studentDict['studentID'])\n",
    "    \n",
    "    writer.writerow(keys)\n",
    "    for i in range(0, limit):\n",
    "        writer.writerow(studentDict[k][i] for k in keys)"
   ]
  },
  {
   "cell_type": "code",
   "execution_count": null,
   "id": "c2f959d8",
   "metadata": {},
   "outputs": [],
   "source": []
  }
 ],
 "metadata": {
  "kernelspec": {
   "display_name": "Python 3 (ipykernel)",
   "language": "python",
   "name": "python3"
  },
  "language_info": {
   "codemirror_mode": {
    "name": "ipython",
    "version": 3
   },
   "file_extension": ".py",
   "mimetype": "text/x-python",
   "name": "python",
   "nbconvert_exporter": "python",
   "pygments_lexer": "ipython3",
   "version": "3.10.8"
  }
 },
 "nbformat": 4,
 "nbformat_minor": 5
}

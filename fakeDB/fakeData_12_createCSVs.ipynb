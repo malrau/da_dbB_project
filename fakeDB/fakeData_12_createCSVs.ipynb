{
 "cells": [
  {
   "cell_type": "markdown",
   "id": "60d2d373",
   "metadata": {},
   "source": [
    "<h3>Load dataset</h3>"
   ]
  },
  {
   "cell_type": "code",
   "execution_count": 67,
   "id": "11dabbd9",
   "metadata": {},
   "outputs": [],
   "source": [
    "import csv\n",
    "from random import randint as rInt\n",
    "path = '/Users/mau/OneDrive - unime.it/Learning/CdL Informatica/Anno II - Database/Module B/project/tables/'"
   ]
  },
  {
   "cell_type": "code",
   "execution_count": 6,
   "id": "382f3a6c",
   "metadata": {},
   "outputs": [],
   "source": [
    "key = 0\n",
    "myDict = dict()\n",
    "with open(path + 'finalTable.csv', newline = '') as myCSV:\n",
    "    reader = csv.reader(myCSV, delimiter = ',')\n",
    "    for line in reader:\n",
    "        myDict[key] = line\n",
    "        key += 1"
   ]
  },
  {
   "cell_type": "code",
   "execution_count": 7,
   "id": "ce811428",
   "metadata": {},
   "outputs": [],
   "source": [
    "dataset = dict()\n",
    "for key in myDict[0]:\n",
    "    dataset[key] = list()\n",
    "for i in range(1, len(myDict)):\n",
    "    for j in range(0, len(myDict[0])):\n",
    "        dataset[myDict[0][j]].append(myDict[i][j])"
   ]
  },
  {
   "cell_type": "code",
   "execution_count": 21,
   "id": "25379eba",
   "metadata": {},
   "outputs": [
    {
     "name": "stdout",
     "output_type": "stream",
     "text": [
      "Variables' list:\n",
      "courseID - discipline - courseName - courseYear - syllabus - studentID - firstName - lastName - dateOfBirth - genre - country - town - email - materialID - unit - materialType - name - dimension - accessDate\n"
     ]
    }
   ],
   "source": [
    "print('Variables\\' list:')\n",
    "for i in range(0, len(list(dataset.keys()))):\n",
    "    if i < len(dataset.keys()) - 1:\n",
    "        print(list(dataset.keys())[i], end = ' - ')\n",
    "    else:\n",
    "        print(list(dataset.keys())[i])"
   ]
  },
  {
   "cell_type": "code",
   "execution_count": 24,
   "id": "79db01b2",
   "metadata": {},
   "outputs": [
    {
     "name": "stdout",
     "output_type": "stream",
     "text": [
      "     courseID   discipline   courseName   courseYear     syllabus    studentID    firstName     lastName  dateOfBirth        genre      country         town        email   materialID         unit materialType         name    dimension   accessDate"
     ]
    }
   ],
   "source": [
    "for i in range(0, len(list(dataset.keys()))):\n",
    "    print(' ' * (12 - len(list(dataset.keys())[i])), list(dataset.keys())[i], end = '')"
   ]
  },
  {
   "cell_type": "code",
   "execution_count": 45,
   "id": "858c742e",
   "metadata": {},
   "outputs": [
    {
     "name": "stdout",
     "output_type": "stream",
     "text": [
      "Show courses' information:\n",
      "             courseID           discipline           courseName           courseYear             syllabus\n",
      "                  192           statistics   Econometrics: Meth                 2022   http://learning_pl\n",
      "                  192           statistics   Econometrics: Meth                 2022   http://learning_pl\n",
      "                  192           statistics   Econometrics: Meth                 2022   http://learning_pl\n",
      "                  192           statistics   Econometrics: Meth                 2022   http://learning_pl\n",
      "                  192           statistics   Econometrics: Meth                 2022   http://learning_pl\n",
      "                  192           statistics   Econometrics: Meth                 2022   http://learning_pl\n",
      "                  192           statistics   Econometrics: Meth                 2022   http://learning_pl\n",
      "                  192           statistics   Econometrics: Meth                 2022   http://learning_pl\n",
      "                  307            languages             Aprender                 2023   http://learning_pl\n",
      "                  307            languages             Aprender                 2023   http://learning_pl\n",
      "                  307            languages             Aprender                 2023   http://learning_pl\n",
      "                  307            languages             Aprender                 2023   http://learning_pl\n",
      "                  307            languages             Aprender                 2023   http://learning_pl\n",
      "                  307            languages             Aprender                 2023   http://learning_pl\n",
      "                  307            languages             Aprender                 2023   http://learning_pl\n",
      "                  307            languages             Aprender                 2023   http://learning_pl\n",
      "                  307            languages             Aprender                 2023   http://learning_pl\n",
      "                  257                   IT   Hadoop Platform an                 2023   http://learning_pl\n",
      "                  257                   IT   Hadoop Platform an                 2023   http://learning_pl\n",
      "                  257                   IT   Hadoop Platform an                 2023   http://learning_pl\n",
      "                  257                   IT   Hadoop Platform an                 2023   http://learning_pl\n",
      "                  257                   IT   Hadoop Platform an                 2023   http://learning_pl\n",
      "                  257                   IT   Hadoop Platform an                 2023   http://learning_pl\n",
      "                  257                   IT   Hadoop Platform an                 2023   http://learning_pl\n",
      "                  384   economics and mana   Customer Analytics                 2023   http://learning_pl\n",
      "                  384   economics and mana   Customer Analytics                 2023   http://learning_pl\n",
      "                  384   economics and mana   Customer Analytics                 2023   http://learning_pl\n",
      "                  384   economics and mana   Customer Analytics                 2023   http://learning_pl\n",
      "                  384   economics and mana   Customer Analytics                 2023   http://learning_pl\n",
      "                  384   economics and mana   Customer Analytics                 2023   http://learning_pl\n",
      "                  452        miscellaneous   Excel Skills for B                 2023   http://learning_pl\n",
      "                  452        miscellaneous   Excel Skills for B                 2023   http://learning_pl\n",
      "                  452        miscellaneous   Excel Skills for B                 2023   http://learning_pl\n",
      "                  452        miscellaneous   Excel Skills for B                 2023   http://learning_pl\n",
      "                  452        miscellaneous   Excel Skills for B                 2023   http://learning_pl\n",
      "                  452        miscellaneous   Excel Skills for B                 2023   http://learning_pl\n",
      "                  452        miscellaneous   Excel Skills for B                 2023   http://learning_pl\n",
      "                  452        miscellaneous   Excel Skills for B                 2023   http://learning_pl\n",
      "                  452        miscellaneous   Excel Skills for B                 2023   http://learning_pl\n",
      "                  452        miscellaneous   Excel Skills for B                 2023   http://learning_pl\n",
      "                  452        miscellaneous   Excel Skills for B                 2023   http://learning_pl\n",
      "                  189           statistics   Exploratory Data A                 2022   http://learning_pl\n",
      "                  189           statistics   Exploratory Data A                 2022   http://learning_pl\n",
      "                  189           statistics   Exploratory Data A                 2022   http://learning_pl\n",
      "                  189           statistics   Exploratory Data A                 2022   http://learning_pl\n",
      "                  189           statistics   Exploratory Data A                 2022   http://learning_pl\n",
      "                  189           statistics   Exploratory Data A                 2022   http://learning_pl\n",
      "                  189           statistics   Exploratory Data A                 2022   http://learning_pl\n",
      "                  189           statistics   Exploratory Data A                 2022   http://learning_pl\n",
      "                  466        miscellaneous   Supervised Machine                 2023   http://learning_pl\n",
      "                  466        miscellaneous   Supervised Machine                 2023   http://learning_pl\n",
      "                  466        miscellaneous   Supervised Machine                 2023   http://learning_pl\n",
      "                  466        miscellaneous   Supervised Machine                 2023   http://learning_pl\n",
      "                  466        miscellaneous   Supervised Machine                 2023   http://learning_pl\n",
      "                  466        miscellaneous   Supervised Machine                 2023   http://learning_pl\n",
      "                  432           statistics   Econometrics: Meth                 2023   http://learning_pl\n",
      "                  432           statistics   Econometrics: Meth                 2023   http://learning_pl\n",
      "                  432           statistics   Econometrics: Meth                 2023   http://learning_pl\n",
      "                  432           statistics   Econometrics: Meth                 2023   http://learning_pl\n",
      "                  249                   IT   Google Cloud Big D                 2023   http://learning_pl\n",
      "                  249                   IT   Google Cloud Big D                 2023   http://learning_pl\n",
      "                  249                   IT   Google Cloud Big D                 2023   http://learning_pl\n",
      "                  249                   IT   Google Cloud Big D                 2023   http://learning_pl\n",
      "                  249                   IT   Google Cloud Big D                 2023   http://learning_pl\n",
      "                  249                   IT   Google Cloud Big D                 2023   http://learning_pl\n",
      "                  249                   IT   Google Cloud Big D                 2023   http://learning_pl\n",
      "                  249                   IT   Google Cloud Big D                 2023   http://learning_pl\n",
      "                  249                   IT   Google Cloud Big D                 2023   http://learning_pl\n",
      "                  249                   IT   Google Cloud Big D                 2023   http://learning_pl\n",
      "                  390   economics and mana   Introduction to Ne                 2023   http://learning_pl\n",
      "                  390   economics and mana   Introduction to Ne                 2023   http://learning_pl\n",
      "                  390   economics and mana   Introduction to Ne                 2023   http://learning_pl\n",
      "                  390   economics and mana   Introduction to Ne                 2023   http://learning_pl\n",
      "                  390   economics and mana   Introduction to Ne                 2023   http://learning_pl\n",
      "                  390   economics and mana   Introduction to Ne                 2023   http://learning_pl\n",
      "                  354           psychology   Positive Psycholog                 2023   http://learning_pl\n",
      "                  354           psychology   Positive Psycholog                 2023   http://learning_pl\n",
      "                  354           psychology   Positive Psycholog                 2023   http://learning_pl\n",
      "                  354           psychology   Positive Psycholog                 2023   http://learning_pl\n",
      "                  354           psychology   Positive Psycholog                 2023   http://learning_pl\n",
      "                  354           psychology   Positive Psycholog                 2023   http://learning_pl\n",
      "                  309            languages   English for Busine                 2023   http://learning_pl\n",
      "                  309            languages   English for Busine                 2023   http://learning_pl\n",
      "                  309            languages   English for Busine                 2023   http://learning_pl\n",
      "                  309            languages   English for Busine                 2023   http://learning_pl\n",
      "                  309            languages   English for Busine                 2023   http://learning_pl\n",
      "                  309            languages   English for Busine                 2023   http://learning_pl\n",
      "                  309            languages   English for Busine                 2023   http://learning_pl\n",
      "                  147   economics and mana   Marketing in a Dig                 2022   http://learning_pl\n",
      "                  147   economics and mana   Marketing in a Dig                 2022   http://learning_pl\n",
      "                  147   economics and mana   Marketing in a Dig                 2022   http://learning_pl\n",
      "                  147   economics and mana   Marketing in a Dig                 2022   http://learning_pl\n",
      "                  147   economics and mana   Marketing in a Dig                 2022   http://learning_pl\n",
      "                  147   economics and mana   Marketing in a Dig                 2022   http://learning_pl\n",
      "                  111           psychology    Social Psychology                 2022   http://learning_pl\n",
      "                  111           psychology    Social Psychology                 2022   http://learning_pl\n",
      "                  111           psychology    Social Psychology                 2022   http://learning_pl\n",
      "                  111           psychology    Social Psychology                 2022   http://learning_pl\n",
      "                  111           psychology    Social Psychology                 2022   http://learning_pl\n",
      "                  111           psychology    Social Psychology                 2022   http://learning_pl\n"
     ]
    }
   ],
   "source": [
    "print('Show courses\\' information:')\n",
    "for j in range(0, 5):\n",
    "    print(' ' * (20 - len(list(dataset.keys())[j])), list(dataset.keys())[j], end = '')\n",
    "print()\n",
    "for i in range(0, 1000):\n",
    "    if i % 10 == 0:\n",
    "        for j in range(0, 5):\n",
    "            print(' ' * (20 - len(dataset[list(dataset.keys())[j]][i][0 : 18])), dataset[list(dataset.keys())[j]][i][0 : 18], end = '')\n",
    "        print()"
   ]
  },
  {
   "cell_type": "code",
   "execution_count": 51,
   "id": "bd3ff8f2",
   "metadata": {},
   "outputs": [
    {
     "name": "stdout",
     "output_type": "stream",
     "text": [
      "Show students' information:\n",
      "    studentID    firstName     lastName  dateOfBirth        genre      country         town        email\n",
      "            2     Custodia      Hidalgo    1981-4-23       female      Eritrea     Alicante   custodia.h\n",
      "            2     Custodia      Hidalgo    1981-4-23       female      Eritrea     Alicante   custodia.h\n",
      "            2     Custodia      Hidalgo    1981-4-23       female      Eritrea     Alicante   custodia.h\n",
      "            2     Custodia      Hidalgo    1981-4-23       female      Eritrea     Alicante   custodia.h\n",
      "            2     Custodia      Hidalgo    1981-4-23       female      Eritrea     Alicante   custodia.h\n",
      "            2     Custodia      Hidalgo    1981-4-23       female      Eritrea     Alicante   custodia.h\n",
      "            2     Custodia      Hidalgo    1981-4-23       female      Eritrea     Alicante   custodia.h\n",
      "            2     Custodia      Hidalgo    1981-4-23       female      Eritrea     Alicante   custodia.h\n",
      "            3        Haluk       Şensoy    1973-2-23         male       Jersey   East Vahit   haluk.şens\n",
      "            3        Haluk       Şensoy    1973-2-23         male       Jersey   East Vahit   haluk.şens\n",
      "            3        Haluk       Şensoy    1973-2-23         male       Jersey   East Vahit   haluk.şens\n",
      "            3        Haluk       Şensoy    1973-2-23         male       Jersey   East Vahit   haluk.şens\n",
      "            3        Haluk       Şensoy    1973-2-23         male       Jersey   East Vahit   haluk.şens\n",
      "            3        Haluk       Şensoy    1973-2-23         male       Jersey   East Vahit   haluk.şens\n",
      "            3        Haluk       Şensoy    1973-2-23         male       Jersey   East Vahit   haluk.şens\n",
      "            3        Haluk       Şensoy    1973-2-23         male       Jersey   East Vahit   haluk.şens\n",
      "            3        Haluk       Şensoy    1973-2-23         male       Jersey   East Vahit   haluk.şens\n",
      "            4         Erna       Jopich    1965-3-19       female     Thailand   Euskirchen   erna.jopic\n",
      "            4         Erna       Jopich    1965-3-19       female     Thailand   Euskirchen   erna.jopic\n",
      "            4         Erna       Jopich    1965-3-19       female     Thailand   Euskirchen   erna.jopic\n",
      "            4         Erna       Jopich    1965-3-19       female     Thailand   Euskirchen   erna.jopic\n",
      "            4         Erna       Jopich    1965-3-19       female     Thailand   Euskirchen   erna.jopic\n",
      "            4         Erna       Jopich    1965-3-19       female     Thailand   Euskirchen   erna.jopic\n",
      "            4         Erna       Jopich    1965-3-19       female     Thailand   Euskirchen   erna.jopic\n",
      "            4         Erna       Jopich    1965-3-19       female     Thailand   Euskirchen   erna.jopic\n",
      "            4         Erna       Jopich    1965-3-19       female     Thailand   Euskirchen   erna.jopic\n",
      "            4         Erna       Jopich    1965-3-19       female     Thailand   Euskirchen   erna.jopic\n",
      "            4         Erna       Jopich    1965-3-19       female     Thailand   Euskirchen   erna.jopic\n",
      "            4         Erna       Jopich    1965-3-19       female     Thailand   Euskirchen   erna.jopic\n",
      "            4         Erna       Jopich    1965-3-19       female     Thailand   Euskirchen   erna.jopic\n",
      "            4         Erna       Jopich    1965-3-19       female     Thailand   Euskirchen   erna.jopic\n",
      "            4         Erna       Jopich    1965-3-19       female     Thailand   Euskirchen   erna.jopic\n",
      "            4         Erna       Jopich    1965-3-19       female     Thailand   Euskirchen   erna.jopic\n",
      "            4         Erna       Jopich    1965-3-19       female     Thailand   Euskirchen   erna.jopic\n",
      "            4         Erna       Jopich    1965-3-19       female     Thailand   Euskirchen   erna.jopic\n",
      "            4         Erna       Jopich    1965-3-19       female     Thailand   Euskirchen   erna.jopic\n",
      "            4         Erna       Jopich    1965-3-19       female     Thailand   Euskirchen   erna.jopic\n",
      "            4         Erna       Jopich    1965-3-19       female     Thailand   Euskirchen   erna.jopic\n",
      "            4         Erna       Jopich    1965-3-19       female     Thailand   Euskirchen   erna.jopic\n",
      "            4         Erna       Jopich    1965-3-19       female     Thailand   Euskirchen   erna.jopic\n",
      "            4         Erna       Jopich    1965-3-19       female     Thailand   Euskirchen   erna.jopic\n",
      "            5          Pål         Holm    1996-9-10         male        Libya     Jacobsen   pål.holm@y\n",
      "            5          Pål         Holm    1996-9-10         male        Libya     Jacobsen   pål.holm@y\n",
      "            5          Pål         Holm    1996-9-10         male        Libya     Jacobsen   pål.holm@y\n",
      "            5          Pål         Holm    1996-9-10         male        Libya     Jacobsen   pål.holm@y\n",
      "            5          Pål         Holm    1996-9-10         male        Libya     Jacobsen   pål.holm@y\n",
      "            5          Pål         Holm    1996-9-10         male        Libya     Jacobsen   pål.holm@y\n",
      "            5          Pål         Holm    1996-9-10         male        Libya     Jacobsen   pål.holm@y\n",
      "            5          Pål         Holm    1996-9-10         male        Libya     Jacobsen   pål.holm@y\n",
      "            6        İhsan       Hançer    1978-7-27       female      Somalia   Sezerborou   i̇hsan.han\n",
      "            6        İhsan       Hançer    1978-7-27       female      Somalia   Sezerborou   i̇hsan.han\n",
      "            6        İhsan       Hançer    1978-7-27       female      Somalia   Sezerborou   i̇hsan.han\n",
      "            6        İhsan       Hançer    1978-7-27       female      Somalia   Sezerborou   i̇hsan.han\n",
      "            6        İhsan       Hançer    1978-7-27       female      Somalia   Sezerborou   i̇hsan.han\n",
      "            6        İhsan       Hançer    1978-7-27       female      Somalia   Sezerborou   i̇hsan.han\n",
      "            6        İhsan       Hançer    1978-7-27       female      Somalia   Sezerborou   i̇hsan.han\n",
      "            6        İhsan       Hançer    1978-7-27       female      Somalia   Sezerborou   i̇hsan.han\n",
      "            6        İhsan       Hançer    1978-7-27       female      Somalia   Sezerborou   i̇hsan.han\n",
      "            6        İhsan       Hançer    1978-7-27       female      Somalia   Sezerborou   i̇hsan.han\n",
      "            8      Artūras     Gronskis     1968-5-6         male      Burundi   Gustasland   artūras.gr\n",
      "            8      Artūras     Gronskis     1968-5-6         male      Burundi   Gustasland   artūras.gr\n",
      "            8      Artūras     Gronskis     1968-5-6         male      Burundi   Gustasland   artūras.gr\n",
      "            8      Artūras     Gronskis     1968-5-6         male      Burundi   Gustasland   artūras.gr\n",
      "            8      Artūras     Gronskis     1968-5-6         male      Burundi   Gustasland   artūras.gr\n",
      "            8      Artūras     Gronskis     1968-5-6         male      Burundi   Gustasland   artūras.gr\n",
      "            8      Artūras     Gronskis     1968-5-6         male      Burundi   Gustasland   artūras.gr\n",
      "            8      Artūras     Gronskis     1968-5-6         male      Burundi   Gustasland   artūras.gr\n",
      "            8      Artūras     Gronskis     1968-5-6         male      Burundi   Gustasland   artūras.gr\n",
      "            8      Artūras     Gronskis     1968-5-6         male      Burundi   Gustasland   artūras.gr\n",
      "            8      Artūras     Gronskis     1968-5-6         male      Burundi   Gustasland   artūras.gr\n",
      "            8      Artūras     Gronskis     1968-5-6         male      Burundi   Gustasland   artūras.gr\n",
      "            8      Artūras     Gronskis     1968-5-6         male      Burundi   Gustasland   artūras.gr\n",
      "            8      Artūras     Gronskis     1968-5-6         male      Burundi   Gustasland   artūras.gr\n",
      "            8      Artūras     Gronskis     1968-5-6         male      Burundi   Gustasland   artūras.gr\n",
      "            8      Artūras     Gronskis     1968-5-6         male      Burundi   Gustasland   artūras.gr\n",
      "            8      Artūras     Gronskis     1968-5-6         male      Burundi   Gustasland   artūras.gr\n",
      "            8      Artūras     Gronskis     1968-5-6         male      Burundi   Gustasland   artūras.gr\n",
      "            8      Artūras     Gronskis     1968-5-6         male      Burundi   Gustasland   artūras.gr\n",
      "            8      Artūras     Gronskis     1968-5-6         male      Burundi   Gustasland   artūras.gr\n",
      "            8      Artūras     Gronskis     1968-5-6         male      Burundi   Gustasland   artūras.gr\n",
      "            8      Artūras     Gronskis     1968-5-6         male      Burundi   Gustasland   artūras.gr\n",
      "            8      Artūras     Gronskis     1968-5-6         male      Burundi   Gustasland   artūras.gr\n",
      "            8      Artūras     Gronskis     1968-5-6         male      Burundi   Gustasland   artūras.gr\n",
      "            8      Artūras     Gronskis     1968-5-6         male      Burundi   Gustasland   artūras.gr\n",
      "            8      Artūras     Gronskis     1968-5-6         male      Burundi   Gustasland   artūras.gr\n",
      "            8      Artūras     Gronskis     1968-5-6         male      Burundi   Gustasland   artūras.gr\n",
      "            8      Artūras     Gronskis     1968-5-6         male      Burundi   Gustasland   artūras.gr\n",
      "            8      Artūras     Gronskis     1968-5-6         male      Burundi   Gustasland   artūras.gr\n",
      "            8      Artūras     Gronskis     1968-5-6         male      Burundi   Gustasland   artūras.gr\n",
      "            8      Artūras     Gronskis     1968-5-6         male      Burundi   Gustasland   artūras.gr\n",
      "            8      Artūras     Gronskis     1968-5-6         male      Burundi   Gustasland   artūras.gr\n",
      "            8      Artūras     Gronskis     1968-5-6         male      Burundi   Gustasland   artūras.gr\n",
      "            8      Artūras     Gronskis     1968-5-6         male      Burundi   Gustasland   artūras.gr\n",
      "            8      Artūras     Gronskis     1968-5-6         male      Burundi   Gustasland   artūras.gr\n",
      "            9       Tayyip        Akçay    1969-8-31   non binary        Congo   Eraslanber   tayyip.akç\n",
      "            9       Tayyip        Akçay    1969-8-31   non binary        Congo   Eraslanber   tayyip.akç\n",
      "            9       Tayyip        Akçay    1969-8-31   non binary        Congo   Eraslanber   tayyip.akç\n",
      "            9       Tayyip        Akçay    1969-8-31   non binary        Congo   Eraslanber   tayyip.akç\n",
      "            9       Tayyip        Akçay    1969-8-31   non binary        Congo   Eraslanber   tayyip.akç\n",
      "            9       Tayyip        Akçay    1969-8-31   non binary        Congo   Eraslanber   tayyip.akç\n"
     ]
    }
   ],
   "source": [
    "print('Show students\\' information:')\n",
    "for j in range(5, 13):\n",
    "    print(' ' * (12 - len(list(dataset.keys())[j])), list(dataset.keys())[j], end = '')\n",
    "print()\n",
    "for i in range(0, 1000):\n",
    "    if i % 10 == 0:\n",
    "        for j in range (5, 13):\n",
    "            print(' ' * (12 - len(dataset[list(dataset.keys())[j]][i][0 : 10])), dataset[list(dataset.keys())[j]][i][0 : 10], end = '')\n",
    "        print()"
   ]
  },
  {
   "cell_type": "code",
   "execution_count": 56,
   "id": "9e6784bf",
   "metadata": {},
   "outputs": [
    {
     "name": "stdout",
     "output_type": "stream",
     "text": [
      "Show learning materials' information:\n",
      "           materialID                 unit         materialType                 name            dimension\n",
      "                13366               Unit 1        video lecture   [VIDEO] Exploring                     7\n",
      "                13376               Unit 1        video lecture   [VIDEO] Introducti                    8\n",
      "                13386               Unit 2       lecture slides   [SLIDES] Caveats a                   10\n",
      "                13396               Unit 2       lecture slides   [SLIDES] Choosing                     0\n",
      "                13406               Unit 3        video lecture   [VIDEO] Test your                    11\n",
      "                13416               Unit 4       lecture slides   [SLIDES] Linear re                    7\n",
      "                13426               Unit 4       lecture slides   [SLIDES] Sampling                     7\n",
      "                13436               Unit 5        video lecture   [VIDEO] Get to kno                    7\n",
      "                21849               Unit 1       lecture slides   [SLIDES] Quiz on L                    5\n",
      "                21859               Unit 2        video lecture   [VIDEO] More Actio                    1\n",
      "                21869               Unit 3       lecture slides   [SLIDES] Game: Act                    3\n",
      "                21879               Unit 3       lecture slides   [SLIDES] Where Are                   10\n",
      "                21889               Unit 4        video lecture   [VIDEO] Language F                    7\n",
      "                21899               Unit 5       lecture slides   [SLIDES] Written A                    7\n",
      "                21909               Unit 6        video lecture   [VIDEO] Unlockable                    9\n",
      "                21919               Unit 7       lecture slides   [SLIDES] What Time                    9\n",
      "                21929               Unit 8        video lecture   [VIDEO] BASIC: Net                    7\n",
      "                18297               Unit 1       lecture slides   [SLIDES] Exploring                   10\n",
      "                18307               Unit 2        video lecture   [VIDEO] Our First                    11\n",
      "                18317               Unit 3       lecture slides   [SLIDES] Developme                    5\n",
      "                18327               Unit 3       lecture slides   [SLIDES] Operators                    2\n",
      "                18337               Unit 4        video lecture   [VIDEO] Basic HTML                    0\n",
      "                18347               Unit 5       lecture slides   [SLIDES] Course In                    9\n",
      "                18357               Unit 5       lecture slides   [SLIDES] Why Deep                     0\n",
      "                27383               Unit 1        video lecture   [VIDEO] Forwards v                    5\n",
      "                27393               Unit 1        video lecture   [VIDEO] Mortgages,                    4\n",
      "                27403               Unit 2       lecture slides   [SLIDES] Welcome v                    9\n",
      "                27413               Unit 3        video lecture   [VIDEO] Financial                     3\n",
      "                27423               Unit 4       lecture slides   [SLIDES] Payment v                    8\n",
      "                27433               Unit 4       lecture slides   [SLIDES] Toward a                     7\n",
      "                32165               Unit 1        video lecture   [VIDEO] Sustainabi                    8\n",
      "                32175               Unit 2       lecture slides   [SLIDES] Assessing                    4\n",
      "                32185               Unit 3        video lecture   [VIDEO] What Is an                   10\n",
      "                32195               Unit 3        video lecture   [VIDEO] Sheets, ce                    0\n",
      "                32205               Unit 4       lecture slides   [SLIDES] Advanced                     5\n",
      "                32215               Unit 5        video lecture   [VIDEO] Discountin                    7\n",
      "                32225               Unit 5                 quiz          Unit 5 quiz                    5\n",
      "                32235               Unit 6       lecture slides   [SLIDES] Advice an                    5\n",
      "                32245               Unit 7        video lecture   [VIDEO] Excel shor                    1\n",
      "                32255               Unit 7        video lecture   [VIDEO] Advanced l                    2\n",
      "                32265               Unit 8       lecture slides   [SLIDES] Customizi                    8\n",
      "                13178               Unit 1        video lecture   [VIDEO] Regression                    5\n",
      "                13188               Unit 1        video lecture   [VIDEO] Experiment                    3\n",
      "                13198               Unit 2       lecture slides   [SLIDES] Exploring                    7\n",
      "                13208               Unit 3        video lecture   [VIDEO] Test your                     7\n",
      "                13218               Unit 4       lecture slides   [SLIDES] Choosing                     4\n",
      "                13228               Unit 5        video lecture   [VIDEO] Exploring                     4\n",
      "                13238               Unit 5                 quiz          Unit 5 quiz                   10\n",
      "                13248               Unit 6       lecture slides   [SLIDES] Sampling                     9\n",
      "                33119               Unit 1        video lecture   [VIDEO] Wizard of                     0\n",
      "                33129               Unit 2       lecture slides   [SLIDES] What are                     6\n",
      "                33139               Unit 2       lecture slides   [SLIDES] Sorting d                    4\n",
      "                33149               Unit 3        video lecture        [VIDEO] Fever                    4\n",
      "                33159               Unit 4       lecture slides   [SLIDES] Social Ma                    3\n",
      "                33169               Unit 4       lecture slides            [SLIDES]                     1\n",
      "                30804               Unit 1        video lecture   [VIDEO] Glossary:                     8\n",
      "                30814               Unit 2       lecture slides   [SLIDES] Columns a                    7\n",
      "                30824               Unit 3        video lecture   [VIDEO] Transcript                    3\n",
      "                30834               Unit 4       lecture slides   [SLIDES] Observati                    4\n",
      "                17797               Unit 1        video lecture   [VIDEO] Methods on                    9\n",
      "                17807               Unit 2       lecture slides   [SLIDES] Bonus: Of                    2\n",
      "                17817               Unit 3        video lecture   [VIDEO] Introducti                    6\n",
      "                17827               Unit 3                 quiz          Unit 3 quiz                    9\n",
      "                17837               Unit 4       lecture slides   [SLIDES] Get hands                   11\n",
      "                17847               Unit 5        video lecture   [VIDEO] Hardware D                    6\n",
      "                17857               Unit 6       lecture slides   [SLIDES] Database                    10\n",
      "                17867               Unit 7        video lecture   [VIDEO] Coding the                    9\n",
      "                17877               Unit 7        video lecture   [VIDEO] Getting St                   11\n",
      "                17887               Unit 8       lecture slides   [SLIDES] C++ Creat                    1\n",
      "                27763               Unit 1        video lecture   [VIDEO] Central Ba                    4\n",
      "                27773               Unit 2       lecture slides   [SLIDES] Fischer B                    3\n",
      "                27783               Unit 3        video lecture   [VIDEO] Fischer Bl                    9\n",
      "                27793               Unit 4       lecture slides   [SLIDES] Digressio                    1\n",
      "                27803               Unit 4       lecture slides        [SLIDES] CAPM                    1\n",
      "                27813               Unit 5        video lecture   [VIDEO] Luxury Bra                    7\n",
      "                25293               Unit 1       lecture slides     [SLIDES] Anxiety                    6\n",
      "                25303               Unit 1       lecture slides   [SLIDES] BONUS: Ro                    7\n",
      "                25313               Unit 2        video lecture   [VIDEO] Instrument                    1\n",
      "                25323               Unit 3       lecture slides   [SLIDES] Positive                     4\n",
      "                25333               Unit 3       lecture slides   [SLIDES] Essential                    0\n",
      "                25343               Unit 4        video lecture   [VIDEO] Positive P                    8\n",
      "                22021               Unit 1       lecture slides   [SLIDES] Language                     1\n",
      "                22031               Unit 1       lecture slides   [SLIDES] Value Aff                    0\n",
      "                22041               Unit 2        video lecture   [VIDEO] Self-Asses                    5\n",
      "                22051               Unit 3       lecture slides   [SLIDES] Language                     3\n",
      "                22061               Unit 4        video lecture   [VIDEO] Game: Voca                    7\n",
      "                22071               Unit 5       lecture slides   [SLIDES] Extended                     9\n",
      "                22081               Unit 6        video lecture   [VIDEO] Extended E                    1\n",
      "                10206               Unit 1       lecture slides   [SLIDES] Banking a                    5\n",
      "                10216               Unit 2        video lecture   [VIDEO] Multiple B                    1\n",
      "                10226               Unit 3       lecture slides   [SLIDES] Intuition                    4\n",
      "                10236               Unit 4        video lecture   [VIDEO] Hierarchy                     5\n",
      "                10246               Unit 4        video lecture   [VIDEO] Forward Ra                    9\n",
      "                10256               Unit 5       lecture slides   [SLIDES] Sources a                    1\n",
      "                 7819               Unit 1        video lecture         [VIDEO] Fear                    5\n",
      "                 7829               Unit 2       lecture slides   [SLIDES] Taking Fr                    6\n",
      "                 7839               Unit 3        video lecture   [VIDEO] The YES Pr                    1\n",
      "                 7849               Unit 3                 quiz          Unit 3 quiz                    2\n",
      "                 7859               Unit 4       lecture slides   [SLIDES] Essential                   10\n",
      "                 7869               Unit 5        video lecture   [VIDEO] Aboriginal                   11\n"
     ]
    }
   ],
   "source": [
    "print('Show learning materials\\' information:')\n",
    "for j in range(13, 18):\n",
    "    print(' ' * (20 - len(list(dataset.keys())[j])), list(dataset.keys())[j], end = '')\n",
    "print()\n",
    "for i in range(0, 1000):\n",
    "    if i % 10 == 0:\n",
    "        for j in range(13, 18):\n",
    "            print(' ' * (20 - len(dataset[list(dataset.keys())[j]][i][0 : 18])), dataset[list(dataset.keys())[j]][i][0 : 18], end = '')\n",
    "        print()"
   ]
  },
  {
   "cell_type": "markdown",
   "id": "2894ffe2",
   "metadata": {},
   "source": [
    "<h2>Create differently sized datasets</h2>"
   ]
  },
  {
   "cell_type": "markdown",
   "id": "a23b6a6f",
   "metadata": {},
   "source": [
    "<h3>250K rows</h3>"
   ]
  },
  {
   "cell_type": "code",
   "execution_count": 92,
   "id": "d4724dfc",
   "metadata": {},
   "outputs": [],
   "source": [
    "dataset250k = dict()\n",
    "ID = 0\n",
    "for key in dataset.keys():\n",
    "    dataset250k[key] = list()\n",
    "dataset250k['recordID'] = list()\n",
    "for cID, disc, cName, cYear, syllabus, sID, firstName, lastName, dob, genre, country, town, email, lmID, unit, lmType, lmName, lmDimension, accessDate in zip(dataset['courseID'], dataset['discipline'], dataset['courseName'], dataset['courseYear'], dataset['syllabus'], dataset['studentID'], dataset['firstName'], dataset['lastName'], dataset['dateOfBirth'], dataset['genre'], dataset['country'], dataset['town'], dataset['email'], dataset['materialID'], dataset['unit'], dataset['materialType'], dataset['name'], dataset['dimension'], dataset['accessDate']):\n",
    "    check = rInt(2, 19)\n",
    "    if int(lmID) % check != 0 and len(dataset250k['courseID']) != 250000:\n",
    "        ID += 1\n",
    "        dataset250k['recordID'].append(ID)\n",
    "        dataset250k['courseID'].append(cID)\n",
    "        dataset250k['discipline'].append(disc)\n",
    "        dataset250k['courseName'].append(cName)\n",
    "        dataset250k['courseYear'].append(cYear)\n",
    "        dataset250k['syllabus'].append(syllabus)\n",
    "        dataset250k['studentID'].append(sID)\n",
    "        dataset250k['firstName'].append(firstName)\n",
    "        dataset250k['lastName'].append(lastName)\n",
    "        dataset250k['dateOfBirth'].append(dob)\n",
    "        dataset250k['genre'].append(genre)\n",
    "        dataset250k['country'].append(country)\n",
    "        dataset250k['town'].append(town)\n",
    "        dataset250k['email'].append(email)\n",
    "        dataset250k['materialID'].append(lmID)\n",
    "        dataset250k['unit'].append(unit)\n",
    "        dataset250k['materialType'].append(lmType)\n",
    "        dataset250k['name'].append(lmName)\n",
    "        dataset250k['dimension'].append(lmDimension)\n",
    "        dataset250k['accessDate'].append(accessDate)"
   ]
  },
  {
   "cell_type": "code",
   "execution_count": 106,
   "id": "68a4f4c5",
   "metadata": {},
   "outputs": [
    {
     "data": {
      "text/plain": [
       "250000"
      ]
     },
     "execution_count": 106,
     "metadata": {},
     "output_type": "execute_result"
    }
   ],
   "source": [
    "len(dataset250k['recordID'])"
   ]
  },
  {
   "cell_type": "code",
   "execution_count": 107,
   "id": "d7fe3e5c",
   "metadata": {},
   "outputs": [],
   "source": [
    "with open(path + 'dataset250k.csv', 'w', newline = '') as _250kCSV:\n",
    "    writer = csv.writer(_250kCSV, delimiter = ',')\n",
    "    keys = dataset250k.keys()\n",
    "    limit = len(dataset250k['recordID'])\n",
    "    \n",
    "    writer.writerow(keys)\n",
    "    for i in range(0, limit):\n",
    "        writer.writerow(dataset250k[k][i] for k in keys)"
   ]
  },
  {
   "cell_type": "markdown",
   "id": "a46bdd9a",
   "metadata": {},
   "source": [
    "<h3>500K rows</h3>"
   ]
  },
  {
   "cell_type": "code",
   "execution_count": 96,
   "id": "e4f62a7a",
   "metadata": {},
   "outputs": [],
   "source": [
    "dataset500k['recordID'] = list()\n",
    "for cID, disc, cName, cYear, syllabus, sID, firstName, lastName, dob, genre, country, town, email, lmID, unit, lmType, lmName, lmDimension, accessDate in zip(dataset['courseID'], dataset['discipline'], dataset['courseName'], dataset['courseYear'], dataset['syllabus'], dataset['studentID'], dataset['firstName'], dataset['lastName'], dataset['dateOfBirth'], dataset['genre'], dataset['country'], dataset['town'], dataset['email'], dataset['materialID'], dataset['unit'], dataset['materialType'], dataset['name'], dataset['dimension'], dataset['accessDate']):\n",
    "    check = rInt(2, 19)\n",
    "    if int(lmID) % check != 0 and len(dataset500k['courseID']) != 500000:\n",
    "        ID += 1\n",
    "        dataset500k['recordID'].append(ID)\n",
    "        dataset500k['courseID'].append(cID)\n",
    "        dataset500k['discipline'].append(disc)\n",
    "        dataset500k['courseName'].append(cName)\n",
    "        dataset500k['courseYear'].append(cYear)\n",
    "        dataset500k['syllabus'].append(syllabus)\n",
    "        dataset500k['studentID'].append(sID)\n",
    "        dataset500k['firstName'].append(firstName)\n",
    "        dataset500k['lastName'].append(lastName)\n",
    "        dataset500k['dateOfBirth'].append(dob)\n",
    "        dataset500k['genre'].append(genre)\n",
    "        dataset500k['country'].append(country)\n",
    "        dataset500k['town'].append(town)\n",
    "        dataset500k['email'].append(email)\n",
    "        dataset500k['materialID'].append(lmID)\n",
    "        dataset500k['unit'].append(unit)\n",
    "        dataset500k['materialType'].append(lmType)\n",
    "        dataset500k['name'].append(lmName)\n",
    "        dataset500k['dimension'].append(lmDimension)\n",
    "        dataset500k['accessDate'].append(accessDate)"
   ]
  },
  {
   "cell_type": "code",
   "execution_count": 97,
   "id": "6e5a1732",
   "metadata": {},
   "outputs": [
    {
     "data": {
      "text/plain": [
       "500000"
      ]
     },
     "execution_count": 97,
     "metadata": {},
     "output_type": "execute_result"
    }
   ],
   "source": [
    "len(dataset500k['recordID'])"
   ]
  },
  {
   "cell_type": "code",
   "execution_count": 108,
   "id": "6e207941",
   "metadata": {},
   "outputs": [],
   "source": [
    "with open(path + 'dataset500k.csv', 'w', newline = '') as _500kCSV:\n",
    "    writer = csv.writer(_500kCSV, delimiter = ',')\n",
    "    keys = dataset500k.keys()\n",
    "    limit = len(dataset500k['recordID'])\n",
    "    \n",
    "    writer.writerow(keys)\n",
    "    for i in range(0, limit):\n",
    "        writer.writerow(dataset500k[k][i] for k in keys)"
   ]
  },
  {
   "cell_type": "markdown",
   "id": "8f694699",
   "metadata": {},
   "source": [
    "<h3>750K rows</h3>"
   ]
  },
  {
   "cell_type": "code",
   "execution_count": 100,
   "id": "b484bbc0",
   "metadata": {},
   "outputs": [],
   "source": [
    "dataset750k = dict()\n",
    "ID = 0\n",
    "for key in dataset.keys():\n",
    "    dataset750k[key] = list()\n",
    "dataset750k['recordID'] = list()\n",
    "for cID, disc, cName, cYear, syllabus, sID, firstName, lastName, dob, genre, country, town, email, lmID, unit, lmType, lmName, lmDimension, accessDate in zip(dataset['courseID'], dataset['discipline'], dataset['courseName'], dataset['courseYear'], dataset['syllabus'], dataset['studentID'], dataset['firstName'], dataset['lastName'], dataset['dateOfBirth'], dataset['genre'], dataset['country'], dataset['town'], dataset['email'], dataset['materialID'], dataset['unit'], dataset['materialType'], dataset['name'], dataset['dimension'], dataset['accessDate']):\n",
    "    check = rInt(7, 19)\n",
    "    if int(lmID) % check != 0 and len(dataset750k['courseID']) != 750000:\n",
    "        ID += 1\n",
    "        dataset750k['recordID'].append(ID)\n",
    "        dataset750k['courseID'].append(cID)\n",
    "        dataset750k['discipline'].append(disc)\n",
    "        dataset750k['courseName'].append(cName)\n",
    "        dataset750k['courseYear'].append(cYear)\n",
    "        dataset750k['syllabus'].append(syllabus)\n",
    "        dataset750k['studentID'].append(sID)\n",
    "        dataset750k['firstName'].append(firstName)\n",
    "        dataset750k['lastName'].append(lastName)\n",
    "        dataset750k['dateOfBirth'].append(dob)\n",
    "        dataset750k['genre'].append(genre)\n",
    "        dataset750k['country'].append(country)\n",
    "        dataset750k['town'].append(town)\n",
    "        dataset750k['email'].append(email)\n",
    "        dataset750k['materialID'].append(lmID)\n",
    "        dataset750k['unit'].append(unit)\n",
    "        dataset750k['materialType'].append(lmType)\n",
    "        dataset750k['name'].append(lmName)\n",
    "        dataset750k['dimension'].append(lmDimension)\n",
    "        dataset750k['accessDate'].append(accessDate)"
   ]
  },
  {
   "cell_type": "code",
   "execution_count": 101,
   "id": "31b976dc",
   "metadata": {},
   "outputs": [
    {
     "data": {
      "text/plain": [
       "750000"
      ]
     },
     "execution_count": 101,
     "metadata": {},
     "output_type": "execute_result"
    }
   ],
   "source": [
    "len(dataset750k['recordID'])"
   ]
  },
  {
   "cell_type": "code",
   "execution_count": 109,
   "id": "d9aa4ea6",
   "metadata": {},
   "outputs": [],
   "source": [
    "with open(path + 'dataset750k.csv', 'w', newline = '') as _750kCSV:\n",
    "    writer = csv.writer(_750kCSV, delimiter = ',')\n",
    "    keys = dataset750k.keys()\n",
    "    limit = len(dataset750k['recordID'])\n",
    "    \n",
    "    writer.writerow(keys)\n",
    "    for i in range(0, limit):\n",
    "        writer.writerow(dataset750k[k][i] for k in keys)"
   ]
  },
  {
   "cell_type": "markdown",
   "id": "a4740f21",
   "metadata": {},
   "source": [
    "<h3>1M rows</h3>"
   ]
  },
  {
   "cell_type": "code",
   "execution_count": 103,
   "id": "8c5abb67",
   "metadata": {},
   "outputs": [],
   "source": [
    "dataset1m = dict()\n",
    "ID = 0\n",
    "for key in dataset.keys():\n",
    "    dataset1m[key] = list()\n",
    "dataset1m['recordID'] = list()\n",
    "for cID, disc, cName, cYear, syllabus, sID, firstName, lastName, dob, genre, country, town, email, lmID, unit, lmType, lmName, lmDimension, accessDate in zip(dataset['courseID'], dataset['discipline'], dataset['courseName'], dataset['courseYear'], dataset['syllabus'], dataset['studentID'], dataset['firstName'], dataset['lastName'], dataset['dateOfBirth'], dataset['genre'], dataset['country'], dataset['town'], dataset['email'], dataset['materialID'], dataset['unit'], dataset['materialType'], dataset['name'], dataset['dimension'], dataset['accessDate']):\n",
    "    check = rInt(7, 19)\n",
    "    if int(lmID) % check != 0 and len(dataset1m['courseID']) != 1000000:\n",
    "        ID += 1\n",
    "        dataset1m['recordID'].append(ID)\n",
    "        dataset1m['courseID'].append(cID)\n",
    "        dataset1m['discipline'].append(disc)\n",
    "        dataset1m['courseName'].append(cName)\n",
    "        dataset1m['courseYear'].append(cYear)\n",
    "        dataset1m['syllabus'].append(syllabus)\n",
    "        dataset1m['studentID'].append(sID)\n",
    "        dataset1m['firstName'].append(firstName)\n",
    "        dataset1m['lastName'].append(lastName)\n",
    "        dataset1m['dateOfBirth'].append(dob)\n",
    "        dataset1m['genre'].append(genre)\n",
    "        dataset1m['country'].append(country)\n",
    "        dataset1m['town'].append(town)\n",
    "        dataset1m['email'].append(email)\n",
    "        dataset1m['materialID'].append(lmID)\n",
    "        dataset1m['unit'].append(unit)\n",
    "        dataset1m['materialType'].append(lmType)\n",
    "        dataset1m['name'].append(lmName)\n",
    "        dataset1m['dimension'].append(lmDimension)\n",
    "        dataset1m['accessDate'].append(accessDate)"
   ]
  },
  {
   "cell_type": "code",
   "execution_count": 105,
   "id": "92f8120a",
   "metadata": {},
   "outputs": [
    {
     "data": {
      "text/plain": [
       "1000000"
      ]
     },
     "execution_count": 105,
     "metadata": {},
     "output_type": "execute_result"
    }
   ],
   "source": [
    "len(dataset1m['recordID'])"
   ]
  },
  {
   "cell_type": "code",
   "execution_count": 110,
   "id": "76400ff4",
   "metadata": {},
   "outputs": [],
   "source": [
    "with open(path + 'dataset1m.csv', 'w', newline = '') as _1mCSV:\n",
    "    writer = csv.writer(_1mCSV, delimiter = ',')\n",
    "    keys = dataset1m.keys()\n",
    "    limit = len(dataset1m['recordID'])\n",
    "    \n",
    "    writer.writerow(keys)\n",
    "    for i in range(0, limit):\n",
    "        writer.writerow(dataset1m[k][i] for k in keys)"
   ]
  },
  {
   "cell_type": "code",
   "execution_count": null,
   "id": "9c155a04",
   "metadata": {},
   "outputs": [],
   "source": []
  }
 ],
 "metadata": {
  "kernelspec": {
   "display_name": "Python 3 (ipykernel)",
   "language": "python",
   "name": "python3"
  },
  "language_info": {
   "codemirror_mode": {
    "name": "ipython",
    "version": 3
   },
   "file_extension": ".py",
   "mimetype": "text/x-python",
   "name": "python",
   "nbconvert_exporter": "python",
   "pygments_lexer": "ipython3",
   "version": "3.10.8"
  }
 },
 "nbformat": 4,
 "nbformat_minor": 5
}

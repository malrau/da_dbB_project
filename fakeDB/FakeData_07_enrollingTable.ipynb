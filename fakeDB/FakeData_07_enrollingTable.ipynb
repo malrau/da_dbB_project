{
 "cells": [
  {
   "cell_type": "markdown",
   "id": "d47e548c",
   "metadata": {},
   "source": [
    "<h2>\n",
    "<center>\n",
    "ENROLLING SCHEMA\n",
    "</center>\n",
    "</h2>"
   ]
  },
  {
   "cell_type": "markdown",
   "id": "8d9ea60f",
   "metadata": {},
   "source": [
    "<br><h3>\n",
    "Import required modules\n",
    "</h3>"
   ]
  },
  {
   "cell_type": "code",
   "execution_count": 1,
   "id": "cf12954a",
   "metadata": {},
   "outputs": [],
   "source": [
    "from faker import Faker\n",
    "from random import randint, sample\n",
    "import datetime\n",
    "import csv"
   ]
  },
  {
   "cell_type": "markdown",
   "id": "2f0ddec9",
   "metadata": {},
   "source": [
    "<h3>\n",
    "Define main path of the project (Windows/Mac) where the notebooks are located\n",
    "</h3>"
   ]
  },
  {
   "cell_type": "code",
   "execution_count": 2,
   "id": "97b19cd3",
   "metadata": {},
   "outputs": [],
   "source": [
    "# Windows\n",
    "# path = 'C:/Users/mzlarosa/OneDrive - unime.it/Learning/CdL Informatica/Anno II - Database/Module B/project/'\n",
    "\n",
    "# Mac\n",
    "path = '/Users/mau/OneDrive - unime.it/Learning/CdL Informatica/Anno II - Database/Module B/project/'"
   ]
  },
  {
   "cell_type": "markdown",
   "id": "33861919",
   "metadata": {},
   "source": [
    "<h3>\n",
    "Create a dictionary of empty lists, where the keys are the attribute names\n",
    "</h3>"
   ]
  },
  {
   "cell_type": "code",
   "execution_count": 3,
   "id": "562f411a",
   "metadata": {},
   "outputs": [],
   "source": [
    "enrollingSchema = ['course', 'student', 'enrollDate']\n",
    "enrollingDict = dict()\n",
    "for attribute in enrollingSchema:\n",
    "    enrollingDict[attribute] = list()"
   ]
  },
  {
   "cell_type": "markdown",
   "id": "827c75b4",
   "metadata": {},
   "source": [
    "<h3>\n",
    "Load student table\n",
    "</h3><br>\n",
    "The <i>enrolling</i> table stores student and course IDs and enrollment date. Hence I need to load student and course data from the respective tables. In the following code block I load the student table and store its data into a dictionary where the keys are the student attribute names and the values are lists with actual data."
   ]
  },
  {
   "cell_type": "code",
   "execution_count": 9,
   "id": "e81133e4",
   "metadata": {
    "scrolled": false
   },
   "outputs": [],
   "source": [
    "studentDict = dict()\n",
    "key = 0\n",
    "with open(path + 'tables/studentTable.csv', newline = '', encoding = 'UTF-16') as csvStudent:\n",
    "    reader = csv.reader(csvStudent, delimiter = ',')\n",
    "    for line in reader:\n",
    "        studentDict[key] = line\n",
    "        key += 1"
   ]
  },
  {
   "cell_type": "code",
   "execution_count": 23,
   "id": "78556aed",
   "metadata": {},
   "outputs": [
    {
     "name": "stdout",
     "output_type": "stream",
     "text": [
      "{0: ['studentID', 'firstName', 'lastName', 'dateOfBirth', 'genre', 'country', 'town', 'email'], 1: ['1', 'Josephine', 'Cook', '1987-3-2', 'female', 'Kuwait', 'Bibihaven', 'josephine.cook@yahoo.com'], 2: ['2', 'Sükrü', 'Lehmann', '1973-4-14', 'male', 'Guinea', 'Hagenow', 'sükrü.lehmann@gmx.de'], 3: ['3', 'Gunnar', 'Johansson', '1997-9-22', 'male', 'Syrien', 'Karlskoga', 'gunnar.johansson@swipnet.se'], 4: ['4', 'Carl', 'Gustafsson', '2003-10-20', 'male', 'Malaysia', 'Nyköping', 'carl.gustafsson@telia.com'], 5: ['5', 'Elise', 'Myhre', '1981-11-8', 'female', 'Angola', 'Sindreberg', 'elise.myhre@hotmail.com'], 6: ['6', 'Diogo', 'Dias', '1963-10-2', 'male', 'Ilha Bouvet', 'Carvalho', 'diogo.dias@uol.com.br'], 7: ['7', 'Jovita', 'Kaupas', '1967-9-27', 'female', 'Western Sahara', 'Ignasfort', 'jovita.kaupas@yahoo.com'], 8: ['8', 'Linn', 'Bos', '1965-3-2', 'female', 'Italië', 'Noordeloos', 'linn.bos@gmail.com'], 9: ['9', 'Grégoire', 'Morvan', '1990-5-17', 'male', 'Cap Vert', 'Grégoire-sur-Marques', 'grégoire.morvan@tiscali.fr'], 10: ['10', 'Kartik', 'Chaudhuri', '1987-6-26', 'female', 'Samoa', 'Chapra', 'kartik.chaudhuri@hotmail.com'], 11: ['11', 'Ivo', 'Sobrero', '1989-11-10', 'non binary', 'Giordania', 'Macchiareddu', 'ivo.sobrero@live.com'], 12: ['12', 'Modesta', 'Dalmau', '1996-8-20', 'female', 'Tayikistán', 'Ávila', 'modesta.dalmau@yahoo.com'], 13: ['13', 'Zain', 'Hans', '1983-6-23', 'male', 'Andorra', 'Dewas', 'zain.hans@hotmail.com'], 14: ['14', 'Alphonse', 'Dupuy', '1982-5-19', 'male', 'Cap Vert', 'Bourgeois-sur-Fleury', 'alphonse.dupuy@voila.fr'], 15: ['15', 'Elisabeth', 'Olofsson', '2002-9-30', 'female', 'Jemen', 'Lund', 'elisabeth.olofsson@gmail.com'], 16: ['16', 'Timothée', 'Mathieu', '1996-5-28', 'male', 'Italie', 'Lopes-les-Bains', 'timothée.mathieu@hotmail.fr'], 17: ['17', 'Pijus', 'Povilonis', '1977-4-22', 'female', 'Martinique', 'South Eidvilė', 'pijus.povilonis@gmail.com'], 18: ['18', 'Audrius', 'Kazlauskas', '1996-1-28', 'female', 'Grenada', 'Kalvelisside', 'audrius.kazlauskas@gmail.com'], 19: ['19', 'Çağveren', 'Yaman', '1978-10-17', 'male', 'Switzerland', 'South Gülüs', 'çağveren.yaman@outlook.com'], 20: ['20', 'Franco', 'Bonino', '2004-2-16', 'male', 'Cuba', 'Ovada', 'franco.bonino@yahoo.com'], 21: ['21', 'Jenny', 'Larsson', '1971-10-26', 'non binary', 'Georgien', 'Varberg', 'jenny.larsson@telia.com'], 22: ['22', 'Bettina', 'Anders', '1982-3-17', 'female', 'Sonderverwaltungszone Hongkong', 'Forchheim', 'bettina.anders@yahoo.de'], 23: ['23', 'Lucas', 'Pinto', '2005-1-26', 'non binary', 'São Cristóvão e Neves', 'das Neves', 'lucas.pinto@uol.com.br'], 24: ['24', 'David', 'Howells', '1978-4-21', 'male', 'Mozambique', 'West Maurice', 'david.howells@gmail.com'], 25: ['25', 'Sem', 'Lind', '1998-6-28', 'male', 'Sint Maarten', 'Ouderkerk aan den IJssel', 'sem.lind@yahoo.com'], 26: ['26', 'Magnus', 'Eliassen', '1969-12-27', 'male', 'The Gambia', 'Sørensen', 'magnus.eliassen@gmail.com'], 27: ['27', 'Lorraine', 'Lévêque', '1967-9-1', 'female', 'Timor', 'Gérard', 'lorraine.lévêque@voila.fr'], 28: ['28', 'Anna', 'Olofsson', '1995-12-19', 'female', 'Jamaica', 'Skellefteå', 'anna.olofsson@yahoo.de'], 29: ['29', 'Sven', 'Andersson', '2004-10-10', 'male', 'Färöarna', 'Linköping', 'sven.andersson@telia.com'], 30: ['30', 'Leonardo', 'Gonçalves', '1975-8-21', 'male', 'Mayotte', 'Moura de Costela', 'leonardo.gonçalves@bol.com.br'], 31: ['31', 'Kaique', 'da Rosa', '1997-3-28', 'male', 'Maldivas', 'Moreira do Norte', 'kaique.da rosa@uol.com.br'], 32: ['32', 'César', 'Vicente', '2000-12-24', 'male', 'Croácia', 'Gafanha da Nazaré', 'césar.vicente@hotmail.com'], 33: ['33', 'Leif', 'Bengtsson', '1986-8-24', 'male', 'Brittiska Jungfruöarna', 'Örebro', 'leif.bengtsson@telia.com'], 34: ['34', 'Ismık', 'Hayrioğlu', '1978-1-1', 'male', 'South Africa', 'West Azade', 'ismık.hayrioğlu@yandex.com'], 35: ['35', 'Joy', 'Wolf', '1969-5-11', 'female', 'Lithuania', 'East Kathyland', 'joy.wolf@hotmail.com'], 36: ['36', 'Joris', 'Kalvaitis', '1967-5-19', 'male', 'New Caledonia', 'Lake Kristina', 'joris.kalvaitis@gmail.com'], 37: ['37', 'Matilde', 'Araújo', '1992-7-24', 'female', 'Paquistão', 'Santo Tirso', 'matilde.araújo@clix.pt'], 38: ['38', 'Rita', 'Sousa', '1983-4-3', 'female', 'Vietname', 'Faro', 'rita.sousa@gmail.com'], 39: ['39', 'Sofia', 'Rodrigues', '1970-5-10', 'female', 'Barbados', 'Santos', 'sofia.rodrigues@ig.com.br'], 40: ['40', 'Martin', 'Andre', '1969-2-4', 'male', 'Autriche', 'Sanchez', 'martin.andre@wanadoo.fr'], 41: ['41', 'Julius', 'Gintalas', '1982-11-17', 'male', 'Guam', 'Paulauskasborough', 'julius.gintalas@yahoo.com'], 42: ['42', 'Luiz Otávio', 'Castro', '1995-8-22', 'male', 'Jibuti', 'Barros de Moreira', 'luiz otávio.castro@ig.com.br'], 43: ['43', 'Stéphanie', 'Gauthier', '1964-8-18', 'female', 'Égypte', 'Saint Élisabeth', 'stéphanie.gauthier@ifrance.com'], 44: ['44', 'Ryan', 'Cunha', '1996-9-6', 'male', 'Argentina', 'Cavalcanti do Galho', 'ryan.cunha@hotmail.com'], 45: ['45', 'Andrew', 'Stokes', '1996-4-28', 'male', 'Korea', 'Cameronburgh', 'andrew.stokes@yahoo.com'], 46: ['46', 'Maria Clara', 'Alves', '1972-6-30', 'non binary', 'São Cristóvão e Neves', 'Melo das Flores', 'maria clara.alves@ig.com.br'], 47: ['47', 'Flor', 'Julián', '2002-2-2', 'female', 'Uruguay', 'Lugo', 'flor.julián@gmail.com'], 48: ['48', 'Kenneth', 'Jones', '2004-10-3', 'male', 'British Indian Ocean Territory (Chagos Archipelago)', 'Deannaside', 'kenneth.jones@yahoo.com'], 49: ['49', 'Théophile', 'Bouvet', '2000-1-19', 'male', 'Syrie', 'Le Rouxboeuf', 'théophile.bouvet@club-internet.fr'], 50: ['50', 'Erasmo', 'Español', '1984-5-26', 'male', 'Swazilandia', 'Soria', 'erasmo.español@gmail.com'], 51: ['51', 'Zain', 'Arya', '1990-4-4', 'female', 'Rwanda', 'Sirsa', 'zain.arya@hotmail.com'], 52: ['52', 'Joanne', 'Turner', '1986-12-8', 'female', 'Uzbekistan', 'Francisside', 'joanne.turner@outlook.com'], 53: ['53', 'Florentina', 'Duran', '2000-7-19', 'female', 'Israel', 'Sevilla', 'florentina.duran@yahoo.com'], 54: ['54', 'Lucas', 'Brito', '1975-1-15', 'male', 'Irão', 'Santana', 'lucas.brito@hotmail.com'], 55: ['55', 'Günaydin', 'Ergül', '1982-2-21', 'male', 'Tuvalu', 'Kotuztown', 'günaydin.ergül@yandex.com'], 56: ['56', 'Brita', 'Heinrich', '1986-8-4', 'female', 'Nepal', 'Neustadt am Rübenberge', 'brita.heinrich@yahoo.de'], 57: ['57', 'Dylan', 'Rush', '1975-5-4', 'male', 'French Polynesia', 'North Chadport', 'dylan.rush@gmail.com'], 58: ['58', 'Michelotto', 'Boccherini', '1987-2-19', 'male', 'Kenya', 'Posta', 'michelotto.boccherini@virgilio.it'], 59: ['59', 'Pier', 'Gentileschi', '1977-11-13', 'male', 'Norvegia', 'Cursi', 'pier.gentileschi@gmail.com'], 60: ['60', 'Maria', 'Lindström', '1969-11-24', 'female', 'Bosnien och Hercegovina', 'Borås', 'maria.lindström@swipnet.se'], 61: ['61', 'Ralf', 'Weitzel', '1964-1-4', 'male', 'Island', 'Staffelstein', 'ralf.weitzel@gmail.com'], 62: ['62', 'Niclas', 'Persson', '1985-6-22', 'male', 'Schweiz', 'Växjö', 'niclas.persson@swipnet.se'], 63: ['63', 'Gaspar', 'Carneiro', '2003-9-18', 'male', 'Navassa Island', 'Matosinhos', 'gaspar.carneiro@sapo.pt'], 64: ['64', 'Carly', 'Moss', '1991-5-27', 'female', 'Northern Mariana Islands', 'Burnsmouth', 'carly.moss@gmail.com'], 65: ['65', 'Jan', 'Magnusson', '1977-7-16', 'male', 'Georgien', 'Uddevalla', 'jan.magnusson@yahoo.de'], 66: ['66', 'Phillip', 'Smith', '1967-8-7', 'male', 'Monaco', 'West Frank', 'phillip.smith@yahoo.co.uk'], 67: ['67', 'Joséphine', 'Pereira', '2004-1-14', 'female', 'Kirghizistan', 'Saint Dominiquedan', 'joséphine.pereira@orange.fr'], 68: ['68', 'Louis', 'Le Roux', '1980-11-9', 'male', 'Saint Vincent et les Grenadines', 'Leroux-les-Bains', 'louis.le roux@tiscali.fr'], 69: ['69', 'Nili', 'Yorulmaz', '1963-9-8', 'female', 'Saint Vincent and the Grenadines', 'Durduberg', 'nili.yorulmaz@hotmail.com'], 70: ['70', 'Bjørn', 'Tangen', '1996-5-25', 'male', 'Norway', 'Tobiasvåg', 'bjørn.tangen@gmail.com'], 71: ['71', 'Ehsaan', 'Kothari', '1993-11-15', 'male', 'Angola', 'Thane', 'ehsaan.kothari@yahoo.com'], 72: ['72', 'Matilda', 'Andersson', '1973-12-17', 'female', 'Algeriet', 'Helsingborg', 'matilda.andersson@googlemail.com'], 73: ['73', 'Richard', 'Schäfer', '1982-6-28', 'male', 'Senegal', 'Gransee', 'richard.schäfer@hotmail.de'], 74: ['74', 'Carla', 'Cobb', '1989-1-23', 'female', 'El Salvador', 'North Taylortown', 'carla.cobb@hotmail.com'], 75: ['75', 'Charles', 'Benard', '1973-1-13', 'male', 'Liechtenstein', 'Peron', 'charles.benard@voila.fr'], 76: ['76', 'Paulo', 'Torres', '1999-3-19', 'male', 'Lituânia', 'Beja', 'paulo.torres@clix.pt'], 77: ['77', 'Özçam', 'Şafak', '1993-3-17', 'male', 'Saint Vincent and the Grenadines', 'New Gökçe', 'özçam.şafak@hotmail.com'], 78: ['78', 'Luiz Miguel', 'Correia', '1983-5-26', 'male', 'Chile', 'Souza', 'luiz miguel.correia@gmail.com'], 79: ['79', 'Jéssica', 'Jesus', '1967-5-28', 'non binary', 'Alemanha', 'Lamego', 'jéssica.jesus@hotmail.com'], 80: ['80', 'Vitor', 'Porto', '1988-7-6', 'male', 'Timor Leste', 'Cunha', 'vitor.porto@uol.com.br'], 81: ['81', 'Torbjørn', 'Paulsen', '2001-2-21', 'male', 'Trinidad and Tobago', 'Arnesen', 'torbjørn.paulsen@yahoo.com'], 82: ['82', 'Brunhilde', 'Neureuther', '1993-10-5', 'female', 'Ruanda', 'Büsingen am Hochrhein', 'brunhilde.neureuther@aol.de'], 83: ['83', 'Odd', 'Berg', '1993-5-25', 'male', 'France', 'Strand', 'odd.berg@gmail.com'], 84: ['84', 'Lewis', 'Webster', '1991-8-28', 'male', 'Timor-Leste', 'Tracybury', 'lewis.webster@hotmail.co.uk'], 85: ['85', 'Leopoldo', 'Abascal', '1985-1-8', 'non binary', 'Congo', 'Valladolid', 'leopoldo.abascal@hotmail.com'], 86: ['86', 'Lindsay', 'Warren', '1994-2-28', 'female', 'Nepal', 'Georgefurt', 'lindsay.warren@hotmail.com'], 87: ['87', 'Valentina', 'Simões', '2002-1-20', 'female', 'Samoa', 'Gandra', 'valentina.simões@gmail.com'], 88: ['88', 'Andreia', 'Nunes', '2000-9-22', 'female', 'Honduras', 'Tomar', 'andreia.nunes@gmail.com'], 89: ['89', 'Filippo', 'Morricone', '1982-4-25', 'male', 'Tuvalu', 'Welsberg', 'filippo.morricone@libero.it'], 90: ['90', 'Azeglio', 'Pavone', '1971-5-2', 'non binary', 'Ungheria', 'Magliano Vetere', 'azeglio.pavone@vodafone.it'], 91: ['91', 'Julie', 'Benard', '2001-12-25', 'female', 'Guatemala', 'Saint AdrienneBourg', 'julie.benard@free.fr'], 92: ['92', 'Anthony', 'Moura', '1997-2-11', 'male', 'São Pedro e Miquelon', 'Dias Verde', 'anthony.moura@uol.com.br'], 93: ['93', 'Gastón', 'Sanz', '1980-8-28', 'male', 'Venezuela', 'Lugo', 'gastón.sanz@yahoo.com'], 94: ['94', 'Dionisia', 'Morán', '1981-5-16', 'female', 'Myanmar', 'Huelva', 'dionisia.morán@gmail.com'], 95: ['95', 'Adrian', 'Solheim', '1969-10-7', 'male', 'Belgium', 'Jørgensen', 'adrian.solheim@yahoo.com'], 96: ['96', 'Veerle', 'Groenendaal', '1975-4-22', 'non binary', 'Syrië', 'Boerakker', 'veerle.groenendaal@hotmail.com'], 97: ['97', 'Thierry', 'Couturier', '1989-3-28', 'non binary', 'Estonie', 'Becker-sur-Teixeira', 'thierry.couturier@hotmail.fr'], 98: ['98', 'Jorūnė', 'Kalvaitis', '1987-12-25', 'female', 'Bahamas', 'Markasfort', 'jorūnė.kalvaitis@hotmail.com'], 99: ['99', 'Lise', 'Knutsen', '1988-10-4', 'female', 'Algeria', 'Gundersen', 'lise.knutsen@yahoo.com'], 100: ['100', 'Lorena', 'Lourenço', '1963-7-5', 'non binary', 'Bermudas', 'Sacavém', 'lorena.lourenço@hotmail.com']}\n"
     ]
    }
   ],
   "source": [
    "print(studentDict)"
   ]
  },
  {
   "cell_type": "code",
   "execution_count": 34,
   "id": "094264bc",
   "metadata": {},
   "outputs": [],
   "source": [
    "newStudentDict = dict()\n",
    "for key in studentDict[0]:\n",
    "    newStudentDict[key] = list()\n",
    "for i in range(1, len(studentDict)):\n",
    "    newStudentDict['studentID'].append(int(studentDict[i][0]))\n",
    "    newStudentDict['firstName'].append(studentDict[i][1])\n",
    "    newStudentDict['lastName'].append(studentDict[i][2])\n",
    "    newStudentDict['dateOfBirth'].append(studentDict[i][3])\n",
    "    newStudentDict['genre'].append(studentDict[i][4])\n",
    "    newStudentDict['country'].append(studentDict[i][5])\n",
    "    newStudentDict['town'].append(studentDict[i][6])\n",
    "    newStudentDict['email'].append(studentDict[i][7])"
   ]
  },
  {
   "cell_type": "markdown",
   "id": "4aa7b920",
   "metadata": {},
   "source": [
    "<h3>\n",
    "Print out the result\n",
    "</h3>"
   ]
  },
  {
   "cell_type": "code",
   "execution_count": 35,
   "id": "afb59c89",
   "metadata": {},
   "outputs": [
    {
     "name": "stdout",
     "output_type": "stream",
     "text": [
      "sID    firstName        lastName         dateOfBirth   genre       country          town             email\n",
      "1      Josephine        Cook             1987-3-2      female      Kuwait           Bibihaven        josephine.cook@yahoo\n",
      "2      Sükrü            Lehmann          1973-4-14     male        Guinea           Hagenow          sükrü.lehmann@gmx.de\n",
      "3      Gunnar           Johansson        1997-9-22     male        Syrien           Karlskoga        gunnar.johansson@swi\n",
      "4      Carl             Gustafsson       2003-10-20    male        Malaysia         Nyköping         carl.gustafsson@teli\n",
      "5      Elise            Myhre            1981-11-8     female      Angola           Sindreberg       elise.myhre@hotmail.\n",
      "6      Diogo            Dias             1963-10-2     male        Ilha Bouvet      Carvalho         diogo.dias@uol.com.b\n",
      "7      Jovita           Kaupas           1967-9-27     female      Western Sahara   Ignasfort        jovita.kaupas@yahoo.\n",
      "8      Linn             Bos              1965-3-2      female      Italië           Noordeloos       linn.bos@gmail.com\n",
      "9      Grégoire         Morvan           1990-5-17     male        Cap Vert         Grégoire-sur-Ma  grégoire.morvan@tisc\n",
      "10     Kartik           Chaudhuri        1987-6-26     female      Samoa            Chapra           kartik.chaudhuri@hot\n",
      "11     Ivo              Sobrero          1989-11-10    non binary  Giordania        Macchiareddu     ivo.sobrero@live.com\n",
      "12     Modesta          Dalmau           1996-8-20     female      Tayikistán       Ávila            modesta.dalmau@yahoo\n",
      "13     Zain             Hans             1983-6-23     male        Andorra          Dewas            zain.hans@hotmail.co\n",
      "14     Alphonse         Dupuy            1982-5-19     male        Cap Vert         Bourgeois-sur-F  alphonse.dupuy@voila\n",
      "15     Elisabeth        Olofsson         2002-9-30     female      Jemen            Lund             elisabeth.olofsson@g\n",
      "16     Timothée         Mathieu          1996-5-28     male        Italie           Lopes-les-Bains  timothée.mathieu@hot\n",
      "17     Pijus            Povilonis        1977-4-22     female      Martinique       South Eidvilė    pijus.povilonis@gmai\n",
      "18     Audrius          Kazlauskas       1996-1-28     female      Grenada          Kalvelisside     audrius.kazlauskas@g\n",
      "19     Çağveren         Yaman            1978-10-17    male        Switzerland      South Gülüs      çağveren.yaman@outlo\n",
      "20     Franco           Bonino           2004-2-16     male        Cuba             Ovada            franco.bonino@yahoo.\n",
      "21     Jenny            Larsson          1971-10-26    non binary  Georgien         Varberg          jenny.larsson@telia.\n",
      "22     Bettina          Anders           1982-3-17     female      Sonderverwaltun  Forchheim        bettina.anders@yahoo\n",
      "23     Lucas            Pinto            2005-1-26     non binary  São Cristóvão e  das Neves        lucas.pinto@uol.com.\n",
      "24     David            Howells          1978-4-21     male        Mozambique       West Maurice     david.howells@gmail.\n",
      "25     Sem              Lind             1998-6-28     male        Sint Maarten     Ouderkerk aan d  sem.lind@yahoo.com\n",
      "26     Magnus           Eliassen         1969-12-27    male        The Gambia       Sørensen         magnus.eliassen@gmai\n",
      "27     Lorraine         Lévêque          1967-9-1      female      Timor            Gérard           lorraine.lévêque@voi\n",
      "28     Anna             Olofsson         1995-12-19    female      Jamaica          Skellefteå       anna.olofsson@yahoo.\n",
      "29     Sven             Andersson        2004-10-10    male        Färöarna         Linköping        sven.andersson@telia\n",
      "30     Leonardo         Gonçalves        1975-8-21     male        Mayotte          Moura de Costel  leonardo.gonçalves@b\n",
      "31     Kaique           da Rosa          1997-3-28     male        Maldivas         Moreira do Nort  kaique.da rosa@uol.c\n",
      "32     César            Vicente          2000-12-24    male        Croácia          Gafanha da Naza  césar.vicente@hotmai\n",
      "33     Leif             Bengtsson        1986-8-24     male        Brittiska Jungf  Örebro           leif.bengtsson@telia\n",
      "34     Ismık            Hayrioğlu        1978-1-1      male        South Africa     West Azade       ismık.hayrioğlu@yand\n",
      "35     Joy              Wolf             1969-5-11     female      Lithuania        East Kathyland   joy.wolf@hotmail.com\n",
      "36     Joris            Kalvaitis        1967-5-19     male        New Caledonia    Lake Kristina    joris.kalvaitis@gmai\n",
      "37     Matilde          Araújo           1992-7-24     female      Paquistão        Santo Tirso      matilde.araújo@clix.\n",
      "38     Rita             Sousa            1983-4-3      female      Vietname         Faro             rita.sousa@gmail.com\n",
      "39     Sofia            Rodrigues        1970-5-10     female      Barbados         Santos           sofia.rodrigues@ig.c\n",
      "40     Martin           Andre            1969-2-4      male        Autriche         Sanchez          martin.andre@wanadoo\n",
      "41     Julius           Gintalas         1982-11-17    male        Guam             Paulauskasborou  julius.gintalas@yaho\n",
      "42     Luiz Otávio      Castro           1995-8-22     male        Jibuti           Barros de Morei  luiz otávio.castro@i\n",
      "43     Stéphanie        Gauthier         1964-8-18     female      Égypte           Saint Élisabeth  stéphanie.gauthier@i\n",
      "44     Ryan             Cunha            1996-9-6      male        Argentina        Cavalcanti do G  ryan.cunha@hotmail.c\n",
      "45     Andrew           Stokes           1996-4-28     male        Korea            Cameronburgh     andrew.stokes@yahoo.\n",
      "46     Maria Clara      Alves            1972-6-30     non binary  São Cristóvão e  Melo das Flores  maria clara.alves@ig\n",
      "47     Flor             Julián           2002-2-2      female      Uruguay          Lugo             flor.julián@gmail.co\n",
      "48     Kenneth          Jones            2004-10-3     male        British Indian   Deannaside       kenneth.jones@yahoo.\n",
      "49     Théophile        Bouvet           2000-1-19     male        Syrie            Le Rouxboeuf     théophile.bouvet@clu\n",
      "50     Erasmo           Español          1984-5-26     male        Swazilandia      Soria            erasmo.español@gmail\n",
      "51     Zain             Arya             1990-4-4      female      Rwanda           Sirsa            zain.arya@hotmail.co\n",
      "52     Joanne           Turner           1986-12-8     female      Uzbekistan       Francisside      joanne.turner@outloo\n",
      "53     Florentina       Duran            2000-7-19     female      Israel           Sevilla          florentina.duran@yah\n",
      "54     Lucas            Brito            1975-1-15     male        Irão             Santana          lucas.brito@hotmail.\n",
      "55     Günaydin         Ergül            1982-2-21     male        Tuvalu           Kotuztown        günaydin.ergül@yande\n",
      "56     Brita            Heinrich         1986-8-4      female      Nepal            Neustadt am Rüb  brita.heinrich@yahoo\n",
      "57     Dylan            Rush             1975-5-4      male        French Polynesi  North Chadport   dylan.rush@gmail.com\n",
      "58     Michelotto       Boccherini       1987-2-19     male        Kenya            Posta            michelotto.boccherin\n",
      "59     Pier             Gentileschi      1977-11-13    male        Norvegia         Cursi            pier.gentileschi@gma\n",
      "60     Maria            Lindström        1969-11-24    female      Bosnien och Her  Borås            maria.lindström@swip\n",
      "61     Ralf             Weitzel          1964-1-4      male        Island           Staffelstein     ralf.weitzel@gmail.c\n",
      "62     Niclas           Persson          1985-6-22     male        Schweiz          Växjö            niclas.persson@swipn\n",
      "63     Gaspar           Carneiro         2003-9-18     male        Navassa Island   Matosinhos       gaspar.carneiro@sapo\n",
      "64     Carly            Moss             1991-5-27     female      Northern Marian  Burnsmouth       carly.moss@gmail.com\n",
      "65     Jan              Magnusson        1977-7-16     male        Georgien         Uddevalla        jan.magnusson@yahoo.\n",
      "66     Phillip          Smith            1967-8-7      male        Monaco           West Frank       phillip.smith@yahoo.\n",
      "67     Joséphine        Pereira          2004-1-14     female      Kirghizistan     Saint Dominique  joséphine.pereira@or\n",
      "68     Louis            Le Roux          1980-11-9     male        Saint Vincent e  Leroux-les-Bain  louis.le roux@tiscal\n",
      "69     Nili             Yorulmaz         1963-9-8      female      Saint Vincent a  Durduberg        nili.yorulmaz@hotmai\n",
      "70     Bjørn            Tangen           1996-5-25     male        Norway           Tobiasvåg        bjørn.tangen@gmail.c\n",
      "71     Ehsaan           Kothari          1993-11-15    male        Angola           Thane            ehsaan.kothari@yahoo\n",
      "72     Matilda          Andersson        1973-12-17    female      Algeriet         Helsingborg      matilda.andersson@go\n",
      "73     Richard          Schäfer          1982-6-28     male        Senegal          Gransee          richard.schäfer@hotm\n",
      "74     Carla            Cobb             1989-1-23     female      El Salvador      North Taylortow  carla.cobb@hotmail.c\n",
      "75     Charles          Benard           1973-1-13     male        Liechtenstein    Peron            charles.benard@voila\n",
      "76     Paulo            Torres           1999-3-19     male        Lituânia         Beja             paulo.torres@clix.pt\n",
      "77     Özçam            Şafak            1993-3-17     male        Saint Vincent a  New Gökçe        özçam.şafak@hotmail.\n",
      "78     Luiz Miguel      Correia          1983-5-26     male        Chile            Souza            luiz miguel.correia@\n",
      "79     Jéssica          Jesus            1967-5-28     non binary  Alemanha         Lamego           jéssica.jesus@hotmai\n",
      "80     Vitor            Porto            1988-7-6      male        Timor Leste      Cunha            vitor.porto@uol.com.\n",
      "81     Torbjørn         Paulsen          2001-2-21     male        Trinidad and To  Arnesen          torbjørn.paulsen@yah\n",
      "82     Brunhilde        Neureuther       1993-10-5     female      Ruanda           Büsingen am Hoc  brunhilde.neureuther\n",
      "83     Odd              Berg             1993-5-25     male        France           Strand           odd.berg@gmail.com\n",
      "84     Lewis            Webster          1991-8-28     male        Timor-Leste      Tracybury        lewis.webster@hotmai\n",
      "85     Leopoldo         Abascal          1985-1-8      non binary  Congo            Valladolid       leopoldo.abascal@hot\n",
      "86     Lindsay          Warren           1994-2-28     female      Nepal            Georgefurt       lindsay.warren@hotma\n",
      "87     Valentina        Simões           2002-1-20     female      Samoa            Gandra           valentina.simões@gma\n",
      "88     Andreia          Nunes            2000-9-22     female      Honduras         Tomar            andreia.nunes@gmail.\n",
      "89     Filippo          Morricone        1982-4-25     male        Tuvalu           Welsberg         filippo.morricone@li\n",
      "90     Azeglio          Pavone           1971-5-2      non binary  Ungheria         Magliano Vetere  azeglio.pavone@vodaf\n",
      "91     Julie            Benard           2001-12-25    female      Guatemala        Saint AdrienneB  julie.benard@free.fr\n",
      "92     Anthony          Moura            1997-2-11     male        São Pedro e Miq  Dias Verde       anthony.moura@uol.co\n",
      "93     Gastón           Sanz             1980-8-28     male        Venezuela        Lugo             gastón.sanz@yahoo.co\n",
      "94     Dionisia         Morán            1981-5-16     female      Myanmar          Huelva           dionisia.morán@gmail\n",
      "95     Adrian           Solheim          1969-10-7     male        Belgium          Jørgensen        adrian.solheim@yahoo\n",
      "96     Veerle           Groenendaal      1975-4-22     non binary  Syrië            Boerakker        veerle.groenendaal@h\n",
      "97     Thierry          Couturier        1989-3-28     non binary  Estonie          Becker-sur-Teix  thierry.couturier@ho\n",
      "98     Jorūnė           Kalvaitis        1987-12-25    female      Bahamas          Markasfort       jorūnė.kalvaitis@hot\n",
      "99     Lise             Knutsen          1988-10-4     female      Algeria          Gundersen        lise.knutsen@yahoo.c\n",
      "100    Lorena           Lourenço         1963-7-5      non binary  Bermudas         Sacavém          lorena.lourenço@hotm\n"
     ]
    }
   ],
   "source": [
    "print('sID', ' ' * (5 - len('sID')), 'firstName', ' ' * (15 - len('firstName')), 'lastName', ' ' * (15 - len('lastName')), 'dateOfBirth', ' ' * (12 - len('dateOfBirth')), 'genre', ' ' * (10 - len('genre')), 'country', ' ' * (15 - len('country')), 'town', ' ' * (15 - len('town')), 'email')\n",
    "for sID, firstName, lastName, dob, genre, country, town, email in zip(newStudentDict['studentID'], newStudentDict['firstName'], newStudentDict['lastName'], newStudentDict['dateOfBirth'], newStudentDict['genre'], newStudentDict['country'], newStudentDict['town'], newStudentDict['email']):\n",
    "    print(sID, ' ' * (5 - len(str(sID))), firstName[0 : 15], ' ' * (15 - len(firstName[0 : 15])), lastName[0 : 15], ' ' * (15 - len(lastName[0 : 15])), dob, ' ' * (12 - len(dob)), genre, ' ' * (10 - len(genre)), country[0 : 15], ' ' * (15 - len(country[0 : 15])), town[0 : 15], ' ' * (15 - len(town[0 : 15])), email[0 : 20])"
   ]
  },
  {
   "cell_type": "markdown",
   "id": "6a497195",
   "metadata": {},
   "source": [
    "<h3>\n",
    "Load course table\n",
    "</h3><br>\n",
    "As anticipated before, I also need to feed the <i>enrolling</i> table the course ID, which is stored in the courses table. In the following code block I load the courses table and store its data into a dictionary where the keys are the course attribute names and the values are lists with actual data."
   ]
  },
  {
   "cell_type": "code",
   "execution_count": 26,
   "id": "16b194a2",
   "metadata": {},
   "outputs": [],
   "source": [
    "courseDict = dict()\n",
    "key = 0\n",
    "with open(path + 'tables/coursesTable.csv', newline = '', encoding = 'UTF-16') as csvCourses:\n",
    "    reader = csv.reader(csvCourses, delimiter = ',')\n",
    "    for line in reader:\n",
    "        courseDict[key] = line\n",
    "        key += 1"
   ]
  },
  {
   "cell_type": "code",
   "execution_count": 37,
   "id": "d8e395cd",
   "metadata": {},
   "outputs": [],
   "source": [
    "newCourseDict = dict()\n",
    "for key in courseDict[0]:\n",
    "    newCourseDict[key] = list()\n",
    "for i in range(1, len(courseDict)):\n",
    "    newCourseDict['courseID'].append(int(courseDict[i][0]))\n",
    "    newCourseDict['courseCategory'].append(courseDict[i][1])\n",
    "    newCourseDict['courseName'].append(courseDict[i][2])\n",
    "    newCourseDict['courseYear'].append(int(courseDict[i][3]))\n",
    "    newCourseDict['syllabus'].append(courseDict[i][4])"
   ]
  },
  {
   "cell_type": "markdown",
   "id": "4184d4b9",
   "metadata": {},
   "source": [
    "<h3>\n",
    "Print out the result (a small sample)\n",
    "</h3>"
   ]
  },
  {
   "cell_type": "code",
   "execution_count": 38,
   "id": "2b21b31f",
   "metadata": {},
   "outputs": [
    {
     "name": "stdout",
     "output_type": "stream",
     "text": [
      "cID    courseCategory   courseName                      courseYear  syllabus\n",
      "1      IT               Introduction to the Internet o  2022        http://learning_platform.com/introductio\n",
      "2      IT               Agile Software Development      2022        http://learning_platform.com/agilesoftwa\n",
      "3      IT               Autodesk Certified Professiona  2022        http://learning_platform.com/autodeskcer\n",
      "4      IT               Fundamentals of Graphic Design  2022        http://learning_platform.com/fundamental\n",
      "5      IT               Java for Android                2022        http://learning_platform.com/javaforandr\n",
      "6      IT               Introduction to Programming wi  2022        http://learning_platform.com/introductio\n",
      "7      IT               Cryptography I                  2022        http://learning_platform.com/cryptograph\n",
      "8      IT               HTML, CSS, and Javascript for   2022        http://learning_platform.com/htmlcssandj\n",
      "9      IT               Google Cloud Big Data and Mach  2022        http://learning_platform.com/googlecloud\n",
      "10     IT               Algorithms, Part II             2022        http://learning_platform.com/algorithmsp\n",
      "11     IT               Algorithms, Part I              2022        http://learning_platform.com/algorithmsp\n",
      "12     IT               Divide and Conquer, Sorting an  2022        http://learning_platform.com/divideandco\n",
      "13     IT               Cloud Computing Concepts, Part  2022        http://learning_platform.com/cloudcomput\n",
      "14     IT               Programming for Everybody (Get  2022        http://learning_platform.com/programming\n",
      "15     IT               Design and Make Infographics (  2022        http://learning_platform.com/designandma\n",
      "16     IT               Cloud Computing Basics (Cloud   2022        http://learning_platform.com/cloudcomput\n",
      "17     IT               Hadoop Platform and Applicatio  2022        http://learning_platform.com/hadoopplatf\n",
      "18     IT               Algorithmic Toolbox             2022        http://learning_platform.com/algorithmic\n",
      "19     IT               Internet History, Technology,   2022        http://learning_platform.com/internethis\n",
      "20     IT               Introduction to User Experienc  2022        http://learning_platform.com/introductio\n",
      "21     IT               English for Career Development  2022        http://learning_platform.com/englishforc\n",
      "22     IT               Data Visualization with Python  2022        http://learning_platform.com/datavisuali\n",
      "23     IT               Computer Science: Programming   2022        http://learning_platform.com/computersci\n",
      "24     IT               AI For Everyone                 2022        http://learning_platform.com/aiforeveryo\n",
      "25     IT               Programming Foundations with J  2022        http://learning_platform.com/programming\n",
      "26     IT               An Introduction to Interactive  2022        http://learning_platform.com/anintroduct\n",
      "27     IT               Code Yourself! An Introduction  2022        http://learning_platform.com/codeyoursel\n",
      "28     IT               Introducci\\'f3n a Java          2022        http://learning_platform.com/introducci\\\n",
      "29     IT               Fundamentals of GIS             2022        http://learning_platform.com/fundamental\n",
      "30     IT               Python and Statistics for Fina  2022        http://learning_platform.com/pythonandst\n",
      "31     IT               Cybersecurity and Its Ten Doma  2022        http://learning_platform.com/cybersecuri\n",
      "32     IT               Crash Course on Python          2022        http://learning_platform.com/crashcourse\n",
      "33     IT               Design and Interpretation of C  2022        http://learning_platform.com/designandin\n",
      "34     IT               Google Cloud Fundamentals: Cor  2022        http://learning_platform.com/googlecloud\n",
      "35     IT               Design Thinking for Innovation  2022        http://learning_platform.com/designthink\n",
      "36     IT               Programming Languages, Part A   2022        http://learning_platform.com/programming\n",
      "37     IT               Introduction to Cybersecurity   2022        http://learning_platform.com/introductio\n",
      "38     IT               How To Create a Website in a W  2022        http://learning_platform.com/howtocreate\n",
      "39     IT               Functional Programming Princip  2022        http://learning_platform.com/functionalp\n",
      "40     IT               SQL for Data Science            2022        http://learning_platform.com/sqlfordatas\n",
      "41     IT               Programming Fundamentals        2022        http://learning_platform.com/programming\n",
      "42     IT               Computer Architecture           2022        http://learning_platform.com/computerarc\n",
      "43     IT               Build a Modern Computer         2022        http://learning_platform.com/buildamoder\n",
      "44     IT               Getting Started with AWS Machi  2022        http://learning_platform.com/gettingstar\n",
      "45     IT               Introduction to HTML5           2022        http://learning_platform.com/introductio\n",
      "46     IT               Foundations of User Experience  2022        http://learning_platform.com/foundations\n",
      "47     IT               Introduction to Google SEO      2022        http://learning_platform.com/introductio\n",
      "48     IT               Visual Elements of User Interf  2022        http://learning_platform.com/visualeleme\n",
      "49     IT               Fundamentals of Visualization   2022        http://learning_platform.com/fundamental\n",
      "50     IT               Agile with Atlassian Jira       2022        http://learning_platform.com/agilewithat\n",
      "[...]\n"
     ]
    }
   ],
   "source": [
    "# 50 elements from each list\n",
    "print('cID', ' ' * (5 - len('cID')), 'courseCategory', ' ' * (15 - len('courseCategory')), 'courseName', ' ' * (30 - len('courseName')), 'courseYear', ' ' * (10 - len('courseYear')), 'syllabus')\n",
    "for i in range(0, 50):\n",
    "    cID = newCourseDict['courseID'][i]\n",
    "    cat = newCourseDict['courseCategory'][i]\n",
    "    name = newCourseDict['courseName'][i]\n",
    "    year = newCourseDict['courseYear'][i]\n",
    "    syll = newCourseDict['syllabus'][i]\n",
    "    print(cID, ' ' * (5 - len(str(cID))), cat, ' ' * (15 - len(cat)), name[0 : 30], ' ' * (30 - len(name[0 : 30])), year, ' ' * (10 - len(str(year))), syll[0 : 40])\n",
    "print('[...]')"
   ]
  },
  {
   "cell_type": "markdown",
   "id": "27156a06",
   "metadata": {},
   "source": [
    "<h4>\n",
    "Generate fake assessment data\n",
    "</h4><br>\n",
    "It is realistic to suppose that students registered in the platform are not enrolled in any course, or are enrolled in a few courses. Hence I attach a random integer from 0 to 5 to each student: that is the number of courses in which they are enrolled.\n",
    "Then, for each of the 0 or few courses in which the student is enrolled, I insert in the enrolling table the course ID, the student ID and a random enrollment date ranging from 1022-01-01 to 2023-06-30."
   ]
  },
  {
   "cell_type": "code",
   "execution_count": 30,
   "id": "e689c1f5",
   "metadata": {},
   "outputs": [],
   "source": [
    "# each student in the student table may or may not be enrolled in a few courses\n",
    "fake = Faker()\n",
    "for student in newStudentDict['studentID']:\n",
    "    nCourses = randint(0, 5)\n",
    "    for i in range(0, nCourses):\n",
    "        enrollingDict['course'].append(sample(newCourseDict['courseID'], 1)[0])\n",
    "        enrollingDict['student'].append(student)\n",
    "        fakeDate = fake.date_between(datetime.date(2022, 1, 1), datetime.date(2023, 7, 30))\n",
    "        enrollingDict['enrollDate'].append(str(fakeDate.year) + '-' + str(fakeDate.month) + '-' + str(fakeDate.day))"
   ]
  },
  {
   "cell_type": "markdown",
   "id": "cbd016f7",
   "metadata": {},
   "source": [
    "<h3>\n",
    "Print out the result (a small sample)\n",
    "</h3>"
   ]
  },
  {
   "cell_type": "code",
   "execution_count": 40,
   "id": "1a0dfc00",
   "metadata": {},
   "outputs": [
    {
     "name": "stdout",
     "output_type": "stream",
     "text": [
      "cID    sID    enrollDate\n",
      "428    1      2022-6-9\n",
      "80     2      2022-11-30\n",
      "260    2      2023-2-25\n",
      "473    2      2022-1-27\n",
      "299    3      2022-11-12\n",
      "383    3      2023-6-28\n",
      "408    4      2023-1-9\n",
      "80     4      2022-9-10\n",
      "293    4      2022-4-3\n",
      "384    4      2023-5-8\n",
      "252    4      2022-10-8\n",
      "56     7      2022-2-7\n",
      "198    8      2022-7-2\n",
      "88     8      2023-3-11\n",
      "207    8      2022-6-28\n",
      "459    9      2022-6-10\n",
      "286    9      2022-9-6\n",
      "282    11     2022-2-6\n",
      "26     11     2022-2-25\n",
      "48     12     2023-4-27\n",
      "354    12     2023-3-20\n",
      "289    13     2023-2-24\n",
      "10     13     2022-3-21\n",
      "395    13     2022-9-19\n",
      "163    13     2022-8-6\n",
      "455    13     2023-3-7\n",
      "121    14     2023-3-21\n",
      "344    14     2022-1-4\n",
      "72     14     2023-1-21\n",
      "342    15     2022-3-17\n",
      "223    15     2022-9-4\n",
      "155    15     2022-9-17\n",
      "30     15     2022-1-5\n",
      "154    15     2022-8-20\n",
      "308    16     2023-7-18\n",
      "345    16     2023-5-10\n",
      "225    16     2022-12-14\n",
      "151    18     2022-11-30\n",
      "457    18     2022-1-19\n",
      "270    18     2022-2-14\n",
      "138    18     2022-3-11\n",
      "413    18     2022-4-4\n",
      "384    19     2023-3-7\n",
      "52     19     2023-4-7\n",
      "53     19     2022-12-3\n",
      "160    20     2022-7-25\n",
      "301    20     2022-6-28\n",
      "250    20     2022-1-5\n",
      "226    20     2022-3-18\n",
      "306    20     2022-8-3\n"
     ]
    }
   ],
   "source": [
    "print('cID', ' ' * (5 - len('cID')), 'sID', ' ' * (5 - len('sID')), 'enrollDate')\n",
    "for i in range(0, 50):\n",
    "    course = enrollingDict['course'][i]\n",
    "    student = enrollingDict['student'][i]\n",
    "    date = enrollingDict['enrollDate'][i]\n",
    "    print(course, ' ' * (5 - len(str(course))), student, ' ' * (5 -len(str(student))), date)"
   ]
  },
  {
   "cell_type": "code",
   "execution_count": 46,
   "id": "0fbe803c",
   "metadata": {},
   "outputs": [],
   "source": [
    "# save enrolling table to csv file\n",
    "with open(path + 'tables/enrollingTable.csv', 'w', newline = '') as csvfile:\n",
    "    writer = csv.writer(csvfile)\n",
    "    keys = enrollingDict.keys()\n",
    "    limit = len(enrollingDict['course'])\n",
    "    \n",
    "    writer.writerow(keys)\n",
    "    for i in range(0, limit):\n",
    "        writer.writerow(enrollingDict[k][i] for k in keys)"
   ]
  },
  {
   "cell_type": "code",
   "execution_count": null,
   "id": "d6ea8b22",
   "metadata": {},
   "outputs": [],
   "source": []
  }
 ],
 "metadata": {
  "kernelspec": {
   "display_name": "Python 3 (ipykernel)",
   "language": "python",
   "name": "python3"
  },
  "language_info": {
   "codemirror_mode": {
    "name": "ipython",
    "version": 3
   },
   "file_extension": ".py",
   "mimetype": "text/x-python",
   "name": "python",
   "nbconvert_exporter": "python",
   "pygments_lexer": "ipython3",
   "version": "3.9.12"
  }
 },
 "nbformat": 4,
 "nbformat_minor": 5
}

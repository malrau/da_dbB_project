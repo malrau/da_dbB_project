{
 "cells": [
  {
   "cell_type": "markdown",
   "id": "d47e548c",
   "metadata": {},
   "source": [
    "<h2>\n",
    "<center>\n",
    "TEACHING SCHEMA\n",
    "</center>\n",
    "</h2>"
   ]
  },
  {
   "cell_type": "markdown",
   "id": "8d9ea60f",
   "metadata": {},
   "source": [
    "<h3>\n",
    "Import required modules\n",
    "</h3>"
   ]
  },
  {
   "cell_type": "code",
   "execution_count": 5,
   "id": "cf12954a",
   "metadata": {},
   "outputs": [],
   "source": [
    "from faker import Faker\n",
    "from faker.providers import DynamicProvider\n",
    "from random import randint, sample\n",
    "import datetime\n",
    "import csv"
   ]
  },
  {
   "cell_type": "markdown",
   "id": "2f0ddec9",
   "metadata": {},
   "source": [
    "<h3>\n",
    "Define main path of the project (Windows/Mac) where the notebooks are located\n",
    "</h3>"
   ]
  },
  {
   "cell_type": "code",
   "execution_count": 3,
   "id": "97b19cd3",
   "metadata": {},
   "outputs": [],
   "source": [
    "# Windows\n",
    "#path = 'C:/Users/mzlarosa/OneDrive - unime.it/Learning/CdL Informatica/Anno II - Database/Module B/project/'\n",
    "\n",
    "# Mac\n",
    "path = '/Users/mau/OneDrive - unime.it/Learning/CdL Informatica/Anno II - Database/Module B/project/'"
   ]
  },
  {
   "cell_type": "code",
   "execution_count": 5,
   "id": "79367117",
   "metadata": {},
   "outputs": [],
   "source": [
    "# list of faker locales\n",
    "#fake = Faker(['de_DE', 'en_GB', 'en_US', 'es_ES', 'fr_FR', 'it_IT', 'nl_NL', 'no_NO', 'pt_BR', 'pt_PT', 'ru_RU'])\n",
    "localization = ['de_DE', 'en_GB', 'en_IN', 'en_US', 'es_ES', 'fr_FR', 'it_IT', 'lt_LT', 'nl_NL', 'no_NO', 'pt_BR', 'pt_PT', 'sv', 'tr']"
   ]
  },
  {
   "cell_type": "code",
   "execution_count": 6,
   "id": "9ec1fef7",
   "metadata": {},
   "outputs": [
    {
     "name": "stdout",
     "output_type": "stream",
     "text": [
      "[2, 4, 6, 1, 6, 6, 5, 8, 6, 10, 4, 5, 6, 9, 3, 2, 2, 8, 10, 6, 4, 5, 10, 4, 3, 1, 3, 4, 10, 4, 1, 2, 10, 8, 4, 2, 4, 6, 3, 3, 8, 9, 5, 9, 10, 5, 8, 1, 9, 10, 9, 9, 10, 3, 8, 9, 3, 10, 4, 3, 1, 10, 2, 10, 2, 3, 4, 7, 6, 9, 3, 5, 10, 1, 7, 10, 3, 7, 6, 3, 9, 8, 10, 4, 8, 8, 3, 6, 8, 5, 2, 7, 7, 5, 2, 3, 7, 6, 1, 1, 10, 6, 2, 3, 5, 8, 3, 9, 10, 9, 7, 1, 10, 9, 7, 3, 7, 7, 4, 2, 10, 3, 9, 8, 9, 10, 4, 3, 5, 5, 2, 9, 8, 8, 10, 9, 8, 8, 10, 3, 1, 4, 10, 3, 10, 6, 4, 1, 4, 1, 5, 2, 3, 4, 2, 1, 2, 3, 4, 3, 9, 8, 9, 7, 6, 2, 3, 9, 9, 5, 5, 4, 8, 6, 1, 10, 6, 5, 3, 4, 9, 4, 8, 2, 7, 5, 3, 3, 2, 4, 3, 4, 5, 2, 6, 5, 2, 7, 8, 10, 1, 3, 6, 6, 10, 4, 8, 8, 6, 7, 6, 2, 7, 7, 4, 4, 1, 8, 4, 3, 2, 7, 2, 9, 1, 3, 7, 1, 5, 6, 7, 3, 6, 5, 6, 5, 3, 8, 5, 7, 2, 8, 8, 5, 7, 1, 2, 8, 3, 9, 9, 7, 1, 6, 3, 10, 7, 6, 5, 7, 8, 9, 6, 3, 4, 7, 4, 7, 7, 5, 9, 4, 9, 10, 9, 4, 5, 1, 5, 6, 7, 6, 3, 8, 4, 10, 3, 10, 1, 10, 4, 10, 3, 6, 9, 1, 5, 6, 6, 6]\n"
     ]
    }
   ],
   "source": [
    "# create list of random integers (I need this to randomly select genre-related names and attach them the correct genre)\n",
    "randomIntegers = list()\n",
    "for i in range(0, 300):\n",
    "    randomIntegers.append(randint(1, 10))\n",
    "print(randomIntegers)"
   ]
  },
  {
   "cell_type": "markdown",
   "id": "3acd9983",
   "metadata": {},
   "source": [
    "<h3>\n",
    "Create a dictionary of empty lists, where the keys are the attribute names\n",
    "</h3>"
   ]
  },
  {
   "cell_type": "code",
   "execution_count": 32,
   "id": "9095e65e",
   "metadata": {},
   "outputs": [],
   "source": [
    "teachingSchema = ['course', 'instructor']\n",
    "teachingDict = dict()\n",
    "for attribute in teachingSchema:\n",
    "    teachingDict[attribute] = list()"
   ]
  },
  {
   "cell_type": "markdown",
   "id": "1cf9e573",
   "metadata": {},
   "source": [
    "<h3>\n",
    "Load course table\n",
    "</h3><br>\n",
    "The <i>teaching</i> table stores course and instructor IDs. Hence I need to load course and instructor data from the respective tables. In the following code block I load the course table and store its data into a dictionary where the keys are the course attribute names and the values are lists with actual data."
   ]
  },
  {
   "cell_type": "code",
   "execution_count": 16,
   "id": "39e4d2c1",
   "metadata": {},
   "outputs": [],
   "source": [
    "courseDict = dict()\n",
    "key = 0\n",
    "with open(path + 'tables/coursesTable.csv', newline = '', encoding = 'UTF-16') as csvCourses:\n",
    "    reader = csv.reader(csvCourses, delimiter = ',')\n",
    "    for line in reader:\n",
    "        courseDict[key] = line\n",
    "        key += 1"
   ]
  },
  {
   "cell_type": "code",
   "execution_count": 17,
   "id": "73d8a182",
   "metadata": {},
   "outputs": [
    {
     "name": "stdout",
     "output_type": "stream",
     "text": [
      "{0: ['courseID', 'discipline', 'courseName', 'courseYear', 'syllabus'], 1: ['1', 'IT', 'Introduction to the Internet of Things and Embedded Systems ', '2022', 'http://learning_platform.com/introductiontotheinternetofthingsandembeddedsystems/syllabus'], 2: ['2', 'IT', 'Agile Software Development ', '2022', 'http://learning_platform.com/agilesoftwaredevelopment/syllabus'], 3: ['3', 'IT', 'Autodesk Certified Professional: AutoCAD for Design and Drafting Exam Prep ', '2022', 'http://learning_platform.com/autodeskcertifiedprofessionalautocadfordesignanddraftingexamprep/syllabus'], 4: ['4', 'IT', 'Fundamentals of Graphic Design ', '2022', 'http://learning_platform.com/fundamentalsofgraphicdesign/syllabus'], 5: ['5', 'IT', 'Java for Android ', '2022', 'http://learning_platform.com/javaforandroid/syllabus'], 6: ['6', 'IT', 'Introduction to Programming with MATLAB ', '2022', 'http://learning_platform.com/introductiontoprogrammingwithmatlab/syllabus'], 7: ['7', 'IT', 'Cryptography I ', '2022', 'http://learning_platform.com/cryptographyi/syllabus'], 8: ['8', 'IT', 'HTML, CSS, and Javascript for Web Developers ', '2022', 'http://learning_platform.com/htmlcssandjavascriptforwebdevelopers/syllabus'], 9: ['9', 'IT', 'Google Cloud Big Data and Machine Learning Fundamentals ', '2022', 'http://learning_platform.com/googlecloudbigdataandmachinelearningfundamentals/syllabus'], 10: ['10', 'IT', 'Algorithms, Part II ', '2022', 'http://learning_platform.com/algorithmspartii/syllabus'], 11: ['11', 'IT', 'Algorithms, Part I ', '2022', 'http://learning_platform.com/algorithmsparti/syllabus'], 12: ['12', 'IT', 'Divide and Conquer, Sorting and Searching, and Randomized Algorithms ', '2022', 'http://learning_platform.com/divideandconquersortingandsearchingandrandomizedalgorithms/syllabus'], 13: ['13', 'IT', 'Cloud Computing Concepts, Part 1 ', '2022', 'http://learning_platform.com/cloudcomputingconceptspart1/syllabus'], 14: ['14', 'IT', 'Programming for Everybody (Getting Started with Python) ', '2022', 'http://learning_platform.com/programmingforeverybodygettingstartedwithpython/syllabus'], 15: ['15', 'IT', 'Design and Make Infographics (Project-Centered Course) ', '2022', 'http://learning_platform.com/designandmakeinfographicsprojectcenteredcourse/syllabus'], 16: ['16', 'IT', 'Cloud Computing Basics (Cloud 101) ', '2022', 'http://learning_platform.com/cloudcomputingbasicscloud101/syllabus'], 17: ['17', 'IT', 'Hadoop Platform and Application Framework ', '2022', 'http://learning_platform.com/hadoopplatformandapplicationframework/syllabus'], 18: ['18', 'IT', 'Algorithmic Toolbox ', '2022', 'http://learning_platform.com/algorithmictoolbox/syllabus'], 19: ['19', 'IT', 'Internet History, Technology, and Security ', '2022', 'http://learning_platform.com/internethistorytechnologyandsecurity/syllabus'], 20: ['20', 'IT', 'Introduction to User Experience Design ', '2022', 'http://learning_platform.com/introductiontouserexperiencedesign/syllabus'], 21: ['21', 'IT', 'English for Career Development ', '2022', 'http://learning_platform.com/englishforcareerdevelopment/syllabus'], 22: ['22', 'IT', 'Data Visualization with Python ', '2022', 'http://learning_platform.com/datavisualizationwithpython/syllabus'], 23: ['23', 'IT', 'Computer Science: Programming with a Purpose ', '2022', 'http://learning_platform.com/computerscienceprogrammingwithapurpose/syllabus'], 24: ['24', 'IT', 'AI For Everyone ', '2022', 'http://learning_platform.com/aiforeveryone/syllabus'], 25: ['25', 'IT', 'Programming Foundations with JavaScript, HTML and CSS ', '2022', 'http://learning_platform.com/programmingfoundationswithjavascripthtmlandcss/syllabus'], 26: ['26', 'IT', 'An Introduction to Interactive Programming in Python (Part 1) ', '2022', 'http://learning_platform.com/anintroductiontointeractiveprogramminginpythonpart1/syllabus'], 27: ['27', 'IT', 'Code Yourself! An Introduction to Programming ', '2022', 'http://learning_platform.com/codeyourself!anintroductiontoprogramming/syllabus'], 28: ['28', 'IT', \"Introducci\\\\'f3n a Java \", '2022', \"http://learning_platform.com/introducci\\\\'f3najava/syllabus\"], 29: ['29', 'IT', 'Fundamentals of GIS ', '2022', 'http://learning_platform.com/fundamentalsofgis/syllabus'], 30: ['30', 'IT', 'Python and Statistics for Financial Analysis ', '2022', 'http://learning_platform.com/pythonandstatisticsforfinancialanalysis/syllabus'], 31: ['31', 'IT', 'Cybersecurity and Its Ten Domains ', '2022', 'http://learning_platform.com/cybersecurityanditstendomains/syllabus'], 32: ['32', 'IT', 'Crash Course on Python ', '2022', 'http://learning_platform.com/crashcourseonpython/syllabus'], 33: ['33', 'IT', 'Design and Interpretation of Clinical Trials ', '2022', 'http://learning_platform.com/designandinterpretationofclinicaltrials/syllabus'], 34: ['34', 'IT', 'Google Cloud Fundamentals: Core Infrastructure ', '2022', 'http://learning_platform.com/googlecloudfundamentalscoreinfrastructure/syllabus'], 35: ['35', 'IT', 'Design Thinking for Innovation ', '2022', 'http://learning_platform.com/designthinkingforinnovation/syllabus'], 36: ['36', 'IT', 'Programming Languages, Part A ', '2022', 'http://learning_platform.com/programminglanguagesparta/syllabus'], 37: ['37', 'IT', 'Introduction to Cybersecurity Tools & Cyber Attacks ', '2022', 'http://learning_platform.com/introductiontocybersecuritytools&cyberattacks/syllabus'], 38: ['38', 'IT', 'How To Create a Website in a Weekend! (Project-Centered Course) ', '2022', 'http://learning_platform.com/howtocreateawebsiteinaweekend!projectcenteredcourse/syllabus'], 39: ['39', 'IT', 'Functional Programming Principles in Scala ', '2022', 'http://learning_platform.com/functionalprogrammingprinciplesinscala/syllabus'], 40: ['40', 'IT', 'SQL for Data Science ', '2022', 'http://learning_platform.com/sqlfordatascience/syllabus'], 41: ['41', 'IT', 'Programming Fundamentals ', '2022', 'http://learning_platform.com/programmingfundamentals/syllabus'], 42: ['42', 'IT', 'Computer Architecture ', '2022', 'http://learning_platform.com/computerarchitecture/syllabus'], 43: ['43', 'IT', 'Build a Modern Computer ', '2022', 'http://learning_platform.com/buildamoderncomputer/syllabus'], 44: ['44', 'IT', 'Getting Started with AWS Machine Learning ', '2022', 'http://learning_platform.com/gettingstartedwithawsmachinelearning/syllabus'], 45: ['45', 'IT', 'Introduction to HTML5 ', '2022', 'http://learning_platform.com/introductiontohtml5/syllabus'], 46: ['46', 'IT', 'Foundations of User Experience (UX) Design ', '2022', 'http://learning_platform.com/foundationsofuserexperienceuxdesign/syllabus'], 47: ['47', 'IT', 'Introduction to Google SEO ', '2022', 'http://learning_platform.com/introductiontogoogleseo/syllabus'], 48: ['48', 'IT', 'Visual Elements of User Interface Design ', '2022', 'http://learning_platform.com/visualelementsofuserinterfacedesign/syllabus'], 49: ['49', 'IT', 'Fundamentals of Visualization with Tableau ', '2022', 'http://learning_platform.com/fundamentalsofvisualizationwithtableau/syllabus'], 50: ['50', 'IT', 'Agile with Atlassian Jira ', '2022', 'http://learning_platform.com/agilewithatlassianjira/syllabus'], 51: ['51', 'IT', 'Front-End Web UI Frameworks and Tools: Bootstrap 4 ', '2022', 'http://learning_platform.com/frontendwebuiframeworksandtoolsbootstrap4/syllabus'], 52: ['52', 'IT', 'Python Basics ', '2022', 'http://learning_platform.com/pythonbasics/syllabus'], 53: ['53', 'IT', 'Introduction to Web Development ', '2022', 'http://learning_platform.com/introductiontowebdevelopment/syllabus'], 54: ['54', 'IT', 'Responsive Website Basics: Code with HTML, CSS, and JavaScript ', '2022', 'http://learning_platform.com/responsivewebsitebasicscodewithhtmlcssandjavascript/syllabus'], 55: ['55', 'IT', 'Database Management Essentials ', '2022', 'http://learning_platform.com/databasemanagementessentials/syllabus'], 56: ['56', 'IT', 'Build Your First Android App (Project-Centered Course) ', '2022', 'http://learning_platform.com/buildyourfirstandroidappprojectcenteredcourse/syllabus'], 57: ['57', 'IT', 'Introduction to Data Science in Python ', '2022', 'http://learning_platform.com/introductiontodatascienceinpython/syllabus'], 58: ['58', 'maths', 'Introduction to Logic ', '2022', 'http://learning_platform.com/introductiontologic/syllabus'], 59: ['59', 'maths', 'Model Thinking ', '2022', 'http://learning_platform.com/modelthinking/syllabus'], 60: ['60', 'maths', 'Mathematics for Machine Learning: Linear Algebra ', '2022', 'http://learning_platform.com/mathematicsformachinelearninglinearalgebra/syllabus'], 61: ['61', 'maths', 'Data Science Math Skills ', '2022', 'http://learning_platform.com/datasciencemathskills/syllabus'], 62: ['62', 'maths', 'English for Science, Technology, Engineering, and Mathematics ', '2022', 'http://learning_platform.com/englishforsciencetechnologyengineeringandmathematics/syllabus'], 63: ['63', 'maths', 'Introduction to Calculus ', '2022', 'http://learning_platform.com/introductiontocalculus/syllabus'], 64: ['64', 'maths', 'Introduction to Mathematical Thinking ', '2022', 'http://learning_platform.com/introductiontomathematicalthinking/syllabus'], 65: ['65', 'languages', 'First Step Korean ', '2022', 'http://learning_platform.com/firststepkorean/syllabus'], 66: ['66', 'languages', 'How to Write and Publish a Scientific Paper (Project-Centered Course) ', '2022', 'http://learning_platform.com/howtowriteandpublishascientificpaperprojectcenteredcourse/syllabus'], 67: ['67', 'languages', 'Aprender ', '2022', 'http://learning_platform.com/aprender/syllabus'], 68: ['68', 'languages', 'Speak English Professionally: In Person, Online & On the Phone ', '2022', 'http://learning_platform.com/speakenglishprofessionallyinpersononline&onthephone/syllabus'], 69: ['69', 'languages', 'English for Business and Entrepreneurship ', '2022', 'http://learning_platform.com/englishforbusinessandentrepreneurship/syllabus'], 70: ['70', 'languages', 'English for Science, Technology, Engineering, and Mathematics ', '2022', 'http://learning_platform.com/englishforsciencetechnologyengineeringandmathematics/syllabus'], 71: ['71', 'languages', 'Introduction to Structured Query Language (SQL) ', '2022', 'http://learning_platform.com/introductiontostructuredquerylanguagesql/syllabus'], 72: ['72', 'languages', 'Tricky American English Pronunciation ', '2022', 'http://learning_platform.com/trickyamericanenglishpronunciation/syllabus'], 73: ['73', 'languages', 'Writing in English at University ', '2022', 'http://learning_platform.com/writinginenglishatuniversity/syllabus'], 74: ['74', 'languages', 'Perfect Tenses and Modals ', '2022', 'http://learning_platform.com/perfecttensesandmodals/syllabus'], 75: ['75', 'languages', 'English for Career Development ', '2022', 'http://learning_platform.com/englishforcareerdevelopment/syllabus'], 76: ['76', 'languages', 'Chinese for Beginners ', '2022', 'http://learning_platform.com/chineseforbeginners/syllabus'], 77: ['77', 'languages', 'English for Journalism ', '2022', 'http://learning_platform.com/englishforjournalism/syllabus'], 78: ['78', 'languages', 'Communication Strategies for a Virtual Age ', '2022', 'http://learning_platform.com/communicationstrategiesforavirtualage/syllabus'], 79: ['79', 'languages', 'How to Write a Resume (Project-Centered Course) ', '2022', 'http://learning_platform.com/howtowritearesumeprojectcenteredcourse/syllabus'], 80: ['80', 'languages', 'Spanish Vocabulary: Meeting People ', '2022', 'http://learning_platform.com/spanishvocabularymeetingpeople/syllabus'], 81: ['81', 'languages', 'Grammar and Punctuation ', '2022', 'http://learning_platform.com/grammarandpunctuation/syllabus'], 82: ['82', 'languages', 'Learn to Speak Korean 1 ', '2022', 'http://learning_platform.com/learntospeakkorean1/syllabus'], 83: ['83', 'languages', 'Writing in the Sciences ', '2022', 'http://learning_platform.com/writinginthesciences/syllabus'], 84: ['84', 'languages', 'Miracles of Human Language: An Introduction to Linguistics ', '2022', 'http://learning_platform.com/miraclesofhumanlanguageanintroductiontolinguistics/syllabus'], 85: ['85', 'languages', 'Fundamentos de la escritura ', '2022', 'http://learning_platform.com/fundamentosdelaescritura/syllabus'], 86: ['86', 'languages', 'Lesson | Small Talk & Conversational Vocabulary ', '2022', 'http://learning_platform.com/lesson|smalltalk&conversationalvocabulary/syllabus'], 87: ['87', 'languages', 'Business Writing ', '2022', 'http://learning_platform.com/businesswriting/syllabus'], 88: ['88', 'languages', 'Teamwork Skills: Communicating Effectively in Groups ', '2022', 'http://learning_platform.com/teamworkskillscommunicatingeffectivelyingroups/syllabus'], 89: ['89', 'languages', 'English Composition I ', '2022', 'http://learning_platform.com/englishcompositioni/syllabus'], 90: ['90', 'languages', 'Introduction to Public Speaking ', '2022', 'http://learning_platform.com/introductiontopublicspeaking/syllabus'], 91: ['91', 'languages', 'Teach English Now! Foundational Principles ', '2022', 'http://learning_platform.com/teachenglishnow!foundationalprinciples/syllabus'], 92: ['92', 'psychology', 'The Science of Success: What Researchers Know that You Should Know ', '2022', 'http://learning_platform.com/thescienceofsuccesswhatresearchersknowthatyoushouldknow/syllabus'], 93: ['93', 'psychology', 'The Arts and Science of Relationships: Understanding Human Needs ', '2022', 'http://learning_platform.com/theartsandscienceofrelationshipsunderstandinghumanneeds/syllabus'], 94: ['94', 'psychology', 'Learning How to Learn: Powerful mental tools to help you master tough subjects ', '2022', 'http://learning_platform.com/learninghowtolearnpowerfulmentaltoolstohelpyoumastertoughsubjects/syllabus'], 95: ['95', 'psychology', 'Preparing to Manage Human Resources ', '2022', 'http://learning_platform.com/preparingtomanagehumanresources/syllabus'], 96: ['96', 'psychology', 'Psychological First Aid ', '2022', 'http://learning_platform.com/psychologicalfirstaid/syllabus'], 97: ['97', 'psychology', 'Mindshift: Break Through Obstacles to Learning and Discover Your Hidden Potential ', '2022', 'http://learning_platform.com/mindshiftbreakthroughobstaclestolearninganddiscoveryourhiddenpotential/syllabus'], 98: ['98', 'psychology', 'Positive Psychiatry and Mental Health ', '2022', 'http://learning_platform.com/positivepsychiatryandmentalhealth/syllabus'], 99: ['99', 'psychology', 'Excel/VBA for Creative Problem Solving, Part 1 ', '2022', 'http://learning_platform.com/excel/vbaforcreativeproblemsolvingpart1/syllabus'], 100: ['100', 'psychology', 'The Addicted Brain ', '2022', 'http://learning_platform.com/theaddictedbrain/syllabus'], 101: ['101', 'psychology', 'Dog Emotion and Cognition ', '2022', 'http://learning_platform.com/dogemotionandcognition/syllabus'], 102: ['102', 'psychology', 'Creative Writing: The Craft of Plot ', '2022', 'http://learning_platform.com/creativewritingthecraftofplot/syllabus'], 103: ['103', 'psychology', 'A Life of Happiness and Fulfillment ', '2022', 'http://learning_platform.com/alifeofhappinessandfulfillment/syllabus'], 104: ['104', 'psychology', 'Introduction to Psychology ', '2022', 'http://learning_platform.com/introductiontopsychology/syllabus'], 105: ['105', 'psychology', 'Introductory Human Physiology ', '2022', 'http://learning_platform.com/introductoryhumanphysiology/syllabus'], 106: ['106', 'psychology', 'Computer Science: Programming with a Purpose ', '2022', 'http://learning_platform.com/computerscienceprogrammingwithapurpose/syllabus'], 107: ['107', 'psychology', 'Creative Thinking: Techniques and Tools for Success ', '2022', 'http://learning_platform.com/creativethinkingtechniquesandtoolsforsuccess/syllabus'], 108: ['108', 'psychology', \"Ser m\\\\'e1s creativos \", '2022', \"http://learning_platform.com/serm\\\\'e1screativos/syllabus\"], 109: ['109', 'psychology', 'Influencing People ', '2022', 'http://learning_platform.com/influencingpeople/syllabus'], 110: ['110', 'psychology', 'Managing Emotions in Times of Uncertainty & Stress ', '2022', 'http://learning_platform.com/managingemotionsintimesofuncertainty&stress/syllabus'], 111: ['111', 'psychology', 'Social Psychology ', '2022', 'http://learning_platform.com/socialpsychology/syllabus'], 112: ['112', 'psychology', 'Creative Problem Solving ', '2022', 'http://learning_platform.com/creativeproblemsolving/syllabus'], 113: ['113', 'psychology', 'Miracles of Human Language: An Introduction to Linguistics ', '2022', 'http://learning_platform.com/miraclesofhumanlanguageanintroductiontolinguistics/syllabus'], 114: ['114', 'psychology', 'Positive Psychology ', '2022', 'http://learning_platform.com/positivepsychology/syllabus'], 115: ['115', 'psychology', 'Finding Purpose and Meaning In Life: Living for What Matters Most ', '2022', 'http://learning_platform.com/findingpurposeandmeaninginlifelivingforwhatmattersmost/syllabus'], 116: ['116', 'psychology', 'Mind Control: Managing Your Mental Health During COVID-19 ', '2022', 'http://learning_platform.com/mindcontrolmanagingyourmentalhealthduringcovid19/syllabus'], 117: ['117', 'economics and management', 'An Introduction to Consumer Neuroscience & Neuromarketing ', '2022', 'http://learning_platform.com/anintroductiontoconsumerneuroscience&neuromarketing/syllabus'], 118: ['118', 'economics and management', 'Successful Negotiation: Essential Strategies and Skills ', '2022', 'http://learning_platform.com/successfulnegotiationessentialstrategiesandskills/syllabus'], 119: ['119', 'economics and management', 'Preparing to Manage Human Resources ', '2022', 'http://learning_platform.com/preparingtomanagehumanresources/syllabus'], 120: ['120', 'economics and management', 'Contabilidad para no contadores ', '2022', 'http://learning_platform.com/contabilidadparanocontadores/syllabus'], 121: ['121', 'economics and management', 'Introduction to Social Media Marketing ', '2022', 'http://learning_platform.com/introductiontosocialmediamarketing/syllabus'], 122: ['122', 'economics and management', 'Financial Markets ', '2022', 'http://learning_platform.com/financialmarkets/syllabus'], 123: ['123', 'economics and management', 'Viral Marketing and How to Craft Contagious Content ', '2022', 'http://learning_platform.com/viralmarketingandhowtocraftcontagiouscontent/syllabus'], 124: ['124', 'economics and management', 'English for Business and Entrepreneurship ', '2022', 'http://learning_platform.com/englishforbusinessandentrepreneurship/syllabus'], 125: ['125', 'economics and management', 'The Strategy of Content Marketing ', '2022', 'http://learning_platform.com/thestrategyofcontentmarketing/syllabus'], 126: ['126', 'economics and management', 'Private Equity and Venture Capital ', '2022', 'http://learning_platform.com/privateequityandventurecapital/syllabus'], 127: ['127', 'economics and management', 'Excel aplicado a los negocios (Nivel Avanzado) ', '2022', 'http://learning_platform.com/excelaplicadoalosnegociosnivelavanzado/syllabus'], 128: ['128', 'economics and management', 'Marketing Analytics ', '2022', 'http://learning_platform.com/marketinganalytics/syllabus'], 129: ['129', 'economics and management', 'Blockchain Basics ', '2022', 'http://learning_platform.com/blockchainbasics/syllabus'], 130: ['130', 'economics and management', 'Entrepreneurship 1: Developing the Opportunity ', '2022', 'http://learning_platform.com/entrepreneurship1developingtheopportunity/syllabus'], 131: ['131', 'economics and management', 'Finance for Non-Finance Professionals ', '2022', 'http://learning_platform.com/financefornonfinanceprofessionals/syllabus'], 132: ['132', 'economics and management', 'Financial Accounting Fundamentals ', '2022', 'http://learning_platform.com/financialaccountingfundamentals/syllabus'], 133: ['133', 'economics and management', 'Brand Management: Aligning Business, Brand and Behaviour ', '2022', 'http://learning_platform.com/brandmanagementaligningbusinessbrandandbehaviour/syllabus'], 134: ['134', 'economics and management', 'Introduction to Personal Branding ', '2022', 'http://learning_platform.com/introductiontopersonalbranding/syllabus'], 135: ['135', 'economics and management', 'Data-driven Decision Making ', '2022', 'http://learning_platform.com/datadrivendecisionmaking/syllabus'], 136: ['136', 'economics and management', 'Leading Teams: Developing as a Leader ', '2022', 'http://learning_platform.com/leadingteamsdevelopingasaleader/syllabus'], 137: ['137', 'economics and management', 'Communication Strategies for a Virtual Age ', '2022', 'http://learning_platform.com/communicationstrategiesforavirtualage/syllabus'], 138: ['138', 'economics and management', 'Introduction to Marketing ', '2022', 'http://learning_platform.com/introductiontomarketing/syllabus'], 139: ['139', 'economics and management', 'Economics of Money and Banking ', '2022', 'http://learning_platform.com/economicsofmoneyandbanking/syllabus'], 140: ['140', 'economics and management', 'Work Smarter, Not Harder: Time Management for Personal & Professional Productivity ', '2022', 'http://learning_platform.com/worksmarternothardertimemanagementforpersonal&professionalproductivity/syllabus'], 141: ['141', 'economics and management', 'Foundations of Project Management ', '2022', 'http://learning_platform.com/foundationsofprojectmanagement/syllabus'], 142: ['142', 'economics and management', 'Python and Statistics for Financial Analysis ', '2022', 'http://learning_platform.com/pythonandstatisticsforfinancialanalysis/syllabus'], 143: ['143', 'economics and management', 'Personal & Family Financial Planning ', '2022', 'http://learning_platform.com/personal&familyfinancialplanning/syllabus'], 144: ['144', 'economics and management', 'Customer Analytics ', '2022', 'http://learning_platform.com/customeranalytics/syllabus'], 145: ['145', 'economics and management', 'Business English: Networking ', '2022', 'http://learning_platform.com/businessenglishnetworking/syllabus'], 146: ['146', 'economics and management', 'Competitive Strategy ', '2022', 'http://learning_platform.com/competitivestrategy/syllabus'], 147: ['147', 'economics and management', 'Marketing in a Digital World ', '2022', 'http://learning_platform.com/marketinginadigitalworld/syllabus'], 148: ['148', 'economics and management', 'Understanding Financial Markets ', '2022', 'http://learning_platform.com/understandingfinancialmarkets/syllabus'], 149: ['149', 'economics and management', 'Business Writing ', '2022', 'http://learning_platform.com/businesswriting/syllabus'], 150: ['150', 'economics and management', 'Introduction to Negotiation: A Strategic Playbook for Becoming a Principled and Persuasive Negotiator ', '2022', 'http://learning_platform.com/introductiontonegotiationastrategicplaybookforbecomingaprincipledandpersuasivenegotiator/syllabus'], 151: ['151', 'economics and management', 'Marketing Digital ', '2022', 'http://learning_platform.com/marketingdigital/syllabus'], 152: ['152', 'economics and management', 'Introduction to Data Analytics for Business ', '2022', 'http://learning_platform.com/introductiontodataanalyticsforbusiness/syllabus'], 153: ['153', 'economics and management', 'Fundamentos de Excel para Negocios ', '2022', 'http://learning_platform.com/fundamentosdeexcelparanegocios/syllabus'], 154: ['154', 'economics and management', 'Management of Fashion and Luxury Companies ', '2022', 'http://learning_platform.com/managementoffashionandluxurycompanies/syllabus'], 155: ['155', 'economics and management', 'Foundations of Digital Marketing and E-commerce ', '2022', 'http://learning_platform.com/foundationsofdigitalmarketingandecommerce/syllabus'], 156: ['156', 'economics and management', 'Finanzas personales ', '2022', 'http://learning_platform.com/finanzaspersonales/syllabus'], 157: ['157', 'economics and management', 'Database Management Essentials ', '2022', 'http://learning_platform.com/databasemanagementessentials/syllabus'], 158: ['158', 'economics and management', 'Fundamentos de Finanzas Empresariales ', '2022', 'http://learning_platform.com/fundamentosdefinanzasempresariales/syllabus'], 159: ['159', 'economics and management', 'Financial Planning for Young Adults ', '2022', 'http://learning_platform.com/financialplanningforyoungadults/syllabus'], 160: ['160', 'economics and management', 'Fundamentals of Project Planning and Management ', '2022', 'http://learning_platform.com/fundamentalsofprojectplanningandmanagement/syllabus'], 161: ['161', 'economics and management', 'Bitcoin and Cryptocurrency Technologies ', '2022', 'http://learning_platform.com/bitcoinandcryptocurrencytechnologies/syllabus'], 162: ['162', 'sciences', 'Chemistry ', '2022', 'http://learning_platform.com/chemistry/syllabus'], 163: ['163', 'sciences', 'Understanding the Brain: The Neurobiology of Everyday Life ', '2022', 'http://learning_platform.com/understandingthebraintheneurobiologyofeverydaylife/syllabus'], 164: ['164', 'sciences', 'Animal Behaviour and Welfare ', '2022', 'http://learning_platform.com/animalbehaviourandwelfare/syllabus'], 165: ['165', 'sciences', 'Introduction to Genetics and Evolution ', '2022', 'http://learning_platform.com/introductiontogeneticsandevolution/syllabus'], 166: ['166', 'sciences', 'Introduction to the Biology of Cancer ', '2022', 'http://learning_platform.com/introductiontothebiologyofcancer/syllabus'], 167: ['167', 'sciences', 'Understanding Research Methods ', '2022', 'http://learning_platform.com/understandingresearchmethods/syllabus'], 168: ['168', 'sciences', 'Wind Energy ', '2022', 'http://learning_platform.com/windenergy/syllabus'], 169: ['169', 'sciences', 'Introduction to Engineering Mechanics ', '2022', 'http://learning_platform.com/introductiontoengineeringmechanics/syllabus'], 170: ['170', 'sciences', 'Understanding Einstein: The Special Theory of Relativity ', '2022', 'http://learning_platform.com/understandingeinsteinthespecialtheoryofrelativity/syllabus'], 171: ['171', 'sciences', 'How Things Work: An Introduction to Physics ', '2022', 'http://learning_platform.com/howthingsworkanintroductiontophysics/syllabus'], 172: ['172', 'sciences', 'Dog Emotion and Cognition ', '2022', 'http://learning_platform.com/dogemotionandcognition/syllabus'], 173: ['173', 'sciences', 'Introduction to Electronics ', '2022', 'http://learning_platform.com/introductiontoelectronics/syllabus'], 174: ['174', 'sciences', 'Biology Meets Programming: Bioinformatics for Beginners ', '2022', 'http://learning_platform.com/biologymeetsprogrammingbioinformaticsforbeginners/syllabus'], 175: ['175', 'medicine', 'COVID-19 Contact Tracing ', '2022', 'http://learning_platform.com/covid19contacttracing/syllabus'], 176: ['176', 'medicine', 'Stanford Introduction to Food and Health ', '2022', 'http://learning_platform.com/stanfordintroductiontofoodandhealth/syllabus'], 177: ['177', 'medicine', 'Medical Neuroscience ', '2022', 'http://learning_platform.com/medicalneuroscience/syllabus'], 178: ['178', 'medicine', 'Positive Psychiatry and Mental Health ', '2022', 'http://learning_platform.com/positivepsychiatryandmentalhealth/syllabus'], 179: ['179', 'medicine', 'Mind Control: Managing Your Mental Health During COVID-19 ', '2022', 'http://learning_platform.com/mindcontrolmanagingyourmentalhealthduringcovid19/syllabus'], 180: ['180', 'medicine', 'Mind Control: Managing Your Mental Health During COVID-19 ', '2022', 'http://learning_platform.com/mindcontrolmanagingyourmentalhealthduringcovid19/syllabus'], 181: ['181', 'medicine', 'Epidemiology: The Basic Science of Public Health ', '2022', 'http://learning_platform.com/epidemiologythebasicscienceofpublichealth/syllabus'], 182: ['182', 'medicine', 'Introduction to the Biology of Cancer ', '2022', 'http://learning_platform.com/introductiontothebiologyofcancer/syllabus'], 183: ['183', 'medicine', 'Understanding Clinical Research: Behind the Statistics ', '2022', 'http://learning_platform.com/understandingclinicalresearchbehindthestatistics/syllabus'], 184: ['184', 'medicine', 'Designing Your Personal Weight Loss Plan ', '2022', 'http://learning_platform.com/designingyourpersonalweightlossplan/syllabus'], 185: ['185', 'medicine', 'Design and Interpretation of Clinical Trials ', '2022', 'http://learning_platform.com/designandinterpretationofclinicaltrials/syllabus'], 186: ['186', 'statistics', 'Foundations: Data, Data, Everywhere ', '2022', 'http://learning_platform.com/foundationsdatadataeverywhere/syllabus'], 187: ['187', 'statistics', 'Python and Statistics for Financial Analysis ', '2022', 'http://learning_platform.com/pythonandstatisticsforfinancialanalysis/syllabus'], 188: ['188', 'statistics', 'Introduction to Statistics ', '2022', 'http://learning_platform.com/introductiontostatistics/syllabus'], 189: ['189', 'statistics', 'Exploratory Data Analysis ', '2022', 'http://learning_platform.com/exploratorydataanalysis/syllabus'], 190: ['190', 'statistics', 'Introduction to Probability and Data with R ', '2022', 'http://learning_platform.com/introductiontoprobabilityanddatawithr/syllabus'], 191: ['191', 'statistics', 'Understanding Clinical Research: Behind the Statistics ', '2022', 'http://learning_platform.com/understandingclinicalresearchbehindthestatistics/syllabus'], 192: ['192', 'statistics', 'Econometrics: Methods and Applications ', '2022', 'http://learning_platform.com/econometricsmethodsandapplications/syllabus'], 193: ['193', 'statistics', 'Bayesian Statistics: From Concept to Data Analysis ', '2022', 'http://learning_platform.com/bayesianstatisticsfromconcepttodataanalysis/syllabus'], 194: ['194', 'statistics', 'Basic Statistics ', '2022', 'http://learning_platform.com/basicstatistics/syllabus'], 195: ['195', 'humanities', 'Greek and Roman Mythology ', '2022', 'http://learning_platform.com/greekandromanmythology/syllabus'], 196: ['196', 'humanities', 'An Introduction to American Law ', '2022', 'http://learning_platform.com/anintroductiontoamericanlaw/syllabus'], 197: ['197', 'humanities', 'Modern Art & Ideas ', '2022', 'http://learning_platform.com/modernart&ideas/syllabus'], 198: ['198', 'humanities', 'Cameras, Exposure, and Photography ', '2022', 'http://learning_platform.com/camerasexposureandphotography/syllabus'], 199: ['199', 'humanities', 'Introduction to International Criminal Law ', '2022', 'http://learning_platform.com/introductiontointernationalcriminallaw/syllabus'], 200: ['200', 'humanities', 'In the Studio: Postwar Abstract Painting ', '2022', 'http://learning_platform.com/inthestudiopostwarabstractpainting/syllabus'], 201: ['201', 'humanities', 'Fundamentals of Music Theory ', '2022', 'http://learning_platform.com/fundamentalsofmusictheory/syllabus'], 202: ['202', 'humanities', 'Introduction to Philosophy ', '2022', 'http://learning_platform.com/introductiontophilosophy/syllabus'], 203: ['203', 'humanities', 'Communication Strategies for a Virtual Age ', '2022', 'http://learning_platform.com/communicationstrategiesforavirtualage/syllabus'], 204: ['204', 'humanities', 'Introduction to Classical Music ', '2022', 'http://learning_platform.com/introductiontoclassicalmusic/syllabus'], 205: ['205', 'humanities', 'Moral Foundations of Politics ', '2022', 'http://learning_platform.com/moralfoundationsofpolitics/syllabus'], 206: ['206', 'humanities', 'The Modern World, Part One: Global History ', '2022', 'http://learning_platform.com/themodernworldpartoneglobalhistory/syllabus'], 207: ['207', 'humanities', 'Guitar for Beginners ', '2022', 'http://learning_platform.com/guitarforbeginners/syllabus'], 208: ['208', 'humanities', 'Indigenous Canada ', '2022', 'http://learning_platform.com/indigenouscanada/syllabus'], 209: ['209', 'miscellaneous', 'Machine Learning Foundations: A Case Study Approach ', '2022', 'http://learning_platform.com/machinelearningfoundationsacasestudyapproach/syllabus'], 210: ['210', 'miscellaneous', 'Game Theory ', '2022', 'http://learning_platform.com/gametheory/syllabus'], 211: ['211', 'miscellaneous', 'Child Nutrition and Cooking ', '2022', 'http://learning_platform.com/childnutritionandcooking/syllabus'], 212: ['212', 'miscellaneous', 'Excel Skills for Business: Essentials ', '2022', 'http://learning_platform.com/excelskillsforbusinessessentials/syllabus'], 213: ['213', 'miscellaneous', 'Mastering Data Analysis in Excel ', '2022', 'http://learning_platform.com/masteringdataanalysisinexcel/syllabus'], 214: ['214', 'miscellaneous', 'Human-Centered Design: an Introduction ', '2022', 'http://learning_platform.com/humancentereddesignanintroduction/syllabus'], 215: ['215', 'miscellaneous', 'Introduction to Data Analysis Using Excel ', '2022', 'http://learning_platform.com/introductiontodataanalysisusingexcel/syllabus'], 216: ['216', 'miscellaneous', 'Neural Networks and Deep Learning ', '2022', 'http://learning_platform.com/neuralnetworksanddeeplearning/syllabus'], 217: ['217', 'miscellaneous', 'Vital Signs: Understanding What the Body Is Telling Us ', '2022', 'http://learning_platform.com/vitalsignsunderstandingwhatthebodyistellingus/syllabus'], 218: ['218', 'miscellaneous', 'Science of Exercise ', '2022', 'http://learning_platform.com/scienceofexercise/syllabus'], 219: ['219', 'miscellaneous', 'Introduction to Machine Learning ', '2022', 'http://learning_platform.com/introductiontomachinelearning/syllabus'], 220: ['220', 'miscellaneous', 'Introduction to Big Data ', '2022', 'http://learning_platform.com/introductiontobigdata/syllabus'], 221: ['221', 'miscellaneous', 'A Crash Course in Data Science ', '2022', 'http://learning_platform.com/acrashcourseindatascience/syllabus'], 222: ['222', 'miscellaneous', 'Introduction to Data Analytics ', '2022', 'http://learning_platform.com/introductiontodataanalytics/syllabus'], 223: ['223', 'miscellaneous', 'Learn to Program: The Fundamentals ', '2022', 'http://learning_platform.com/learntoprogramthefundamentals/syllabus'], 224: ['224', 'miscellaneous', 'What is Social? ', '2022', 'http://learning_platform.com/whatissocial/syllabus'], 225: ['225', 'miscellaneous', 'What is Data Science? ', '2022', 'http://learning_platform.com/whatisdatascience/syllabus'], 226: ['226', 'miscellaneous', 'Supervised Machine Learning: Regression and Classification ', '2022', 'http://learning_platform.com/supervisedmachinelearningregressionandclassification/syllabus'], 227: ['227', 'miscellaneous', 'Everyday Excel, Part 1 ', '2022', 'http://learning_platform.com/everydayexcelpart1/syllabus'], 228: ['228', 'miscellaneous', 'Machine Learning for All ', '2022', 'http://learning_platform.com/machinelearningforall/syllabus'], 229: ['229', 'miscellaneous', 'Think Again I: How to Understand Arguments ', '2022', 'http://learning_platform.com/thinkagainihowtounderstandarguments/syllabus'], 230: ['230', 'miscellaneous', 'Introduction to TensorFlow for Artificial Intelligence, Machine Learning, and Deep Learning ', '2022', 'http://learning_platform.com/introductiontotensorflowforartificialintelligencemachinelearninganddeeplearning/syllabus'], 231: ['231', 'miscellaneous', 'Introduction to Sustainability ', '2022', 'http://learning_platform.com/introductiontosustainability/syllabus'], 232: ['232', 'miscellaneous', 'Introduction to Self-Driving Cars ', '2022', 'http://learning_platform.com/introductiontoselfdrivingcars/syllabus'], 233: ['233', 'miscellaneous', 'Gamification ', '2022', 'http://learning_platform.com/gamification/syllabus'], 234: ['234', 'miscellaneous', 'Introduction to Systematic Review and Meta-Analysis ', '2022', 'http://learning_platform.com/introductiontosystematicreviewandmetaanalysis/syllabus'], 235: ['235', 'miscellaneous', 'Organizational Analysis ', '2022', 'http://learning_platform.com/organizationalanalysis/syllabus'], 236: ['236', 'miscellaneous', 'Learning to Teach Online ', '2022', 'http://learning_platform.com/learningtoteachonline/syllabus'], 237: ['237', 'miscellaneous', 'Initiating and Planning Projects ', '2022', 'http://learning_platform.com/initiatingandplanningprojects/syllabus'], 238: ['238', 'miscellaneous', 'Everyday Parenting: The ABCs of Child Rearing ', '2022', 'http://learning_platform.com/everydayparentingtheabcsofchildrearing/syllabus'], 239: ['239', 'miscellaneous', 'Technical Support Fundamentals ', '2022', 'http://learning_platform.com/technicalsupportfundamentals/syllabus'], 240: ['240', 'miscellaneous', 'Supply Chain Logistics ', '2022', 'http://learning_platform.com/supplychainlogistics/syllabus'], 241: ['241', 'IT', 'Introduction to the Internet of Things and Embedded Systems ', '2023', 'http://learning_platform.com/introductiontotheinternetofthingsandembeddedsystems/syllabus'], 242: ['242', 'IT', 'Agile Software Development ', '2023', 'http://learning_platform.com/agilesoftwaredevelopment/syllabus'], 243: ['243', 'IT', 'Autodesk Certified Professional: AutoCAD for Design and Drafting Exam Prep ', '2023', 'http://learning_platform.com/autodeskcertifiedprofessionalautocadfordesignanddraftingexamprep/syllabus'], 244: ['244', 'IT', 'Fundamentals of Graphic Design ', '2023', 'http://learning_platform.com/fundamentalsofgraphicdesign/syllabus'], 245: ['245', 'IT', 'Java for Android ', '2023', 'http://learning_platform.com/javaforandroid/syllabus'], 246: ['246', 'IT', 'Introduction to Programming with MATLAB ', '2023', 'http://learning_platform.com/introductiontoprogrammingwithmatlab/syllabus'], 247: ['247', 'IT', 'Cryptography I ', '2023', 'http://learning_platform.com/cryptographyi/syllabus'], 248: ['248', 'IT', 'HTML, CSS, and Javascript for Web Developers ', '2023', 'http://learning_platform.com/htmlcssandjavascriptforwebdevelopers/syllabus'], 249: ['249', 'IT', 'Google Cloud Big Data and Machine Learning Fundamentals ', '2023', 'http://learning_platform.com/googlecloudbigdataandmachinelearningfundamentals/syllabus'], 250: ['250', 'IT', 'Algorithms, Part II ', '2023', 'http://learning_platform.com/algorithmspartii/syllabus'], 251: ['251', 'IT', 'Algorithms, Part I ', '2023', 'http://learning_platform.com/algorithmsparti/syllabus'], 252: ['252', 'IT', 'Divide and Conquer, Sorting and Searching, and Randomized Algorithms ', '2023', 'http://learning_platform.com/divideandconquersortingandsearchingandrandomizedalgorithms/syllabus'], 253: ['253', 'IT', 'Cloud Computing Concepts, Part 1 ', '2023', 'http://learning_platform.com/cloudcomputingconceptspart1/syllabus'], 254: ['254', 'IT', 'Programming for Everybody (Getting Started with Python) ', '2023', 'http://learning_platform.com/programmingforeverybodygettingstartedwithpython/syllabus'], 255: ['255', 'IT', 'Design and Make Infographics (Project-Centered Course) ', '2023', 'http://learning_platform.com/designandmakeinfographicsprojectcenteredcourse/syllabus'], 256: ['256', 'IT', 'Cloud Computing Basics (Cloud 101) ', '2023', 'http://learning_platform.com/cloudcomputingbasicscloud101/syllabus'], 257: ['257', 'IT', 'Hadoop Platform and Application Framework ', '2023', 'http://learning_platform.com/hadoopplatformandapplicationframework/syllabus'], 258: ['258', 'IT', 'Algorithmic Toolbox ', '2023', 'http://learning_platform.com/algorithmictoolbox/syllabus'], 259: ['259', 'IT', 'Internet History, Technology, and Security ', '2023', 'http://learning_platform.com/internethistorytechnologyandsecurity/syllabus'], 260: ['260', 'IT', 'Introduction to User Experience Design ', '2023', 'http://learning_platform.com/introductiontouserexperiencedesign/syllabus'], 261: ['261', 'IT', 'English for Career Development ', '2023', 'http://learning_platform.com/englishforcareerdevelopment/syllabus'], 262: ['262', 'IT', 'Data Visualization with Python ', '2023', 'http://learning_platform.com/datavisualizationwithpython/syllabus'], 263: ['263', 'IT', 'Computer Science: Programming with a Purpose ', '2023', 'http://learning_platform.com/computerscienceprogrammingwithapurpose/syllabus'], 264: ['264', 'IT', 'AI For Everyone ', '2023', 'http://learning_platform.com/aiforeveryone/syllabus'], 265: ['265', 'IT', 'Programming Foundations with JavaScript, HTML and CSS ', '2023', 'http://learning_platform.com/programmingfoundationswithjavascripthtmlandcss/syllabus'], 266: ['266', 'IT', 'An Introduction to Interactive Programming in Python (Part 1) ', '2023', 'http://learning_platform.com/anintroductiontointeractiveprogramminginpythonpart1/syllabus'], 267: ['267', 'IT', 'Code Yourself! An Introduction to Programming ', '2023', 'http://learning_platform.com/codeyourself!anintroductiontoprogramming/syllabus'], 268: ['268', 'IT', \"Introducci\\\\'f3n a Java \", '2023', \"http://learning_platform.com/introducci\\\\'f3najava/syllabus\"], 269: ['269', 'IT', 'Fundamentals of GIS ', '2023', 'http://learning_platform.com/fundamentalsofgis/syllabus'], 270: ['270', 'IT', 'Python and Statistics for Financial Analysis ', '2023', 'http://learning_platform.com/pythonandstatisticsforfinancialanalysis/syllabus'], 271: ['271', 'IT', 'Cybersecurity and Its Ten Domains ', '2023', 'http://learning_platform.com/cybersecurityanditstendomains/syllabus'], 272: ['272', 'IT', 'Crash Course on Python ', '2023', 'http://learning_platform.com/crashcourseonpython/syllabus'], 273: ['273', 'IT', 'Design and Interpretation of Clinical Trials ', '2023', 'http://learning_platform.com/designandinterpretationofclinicaltrials/syllabus'], 274: ['274', 'IT', 'Google Cloud Fundamentals: Core Infrastructure ', '2023', 'http://learning_platform.com/googlecloudfundamentalscoreinfrastructure/syllabus'], 275: ['275', 'IT', 'Design Thinking for Innovation ', '2023', 'http://learning_platform.com/designthinkingforinnovation/syllabus'], 276: ['276', 'IT', 'Programming Languages, Part A ', '2023', 'http://learning_platform.com/programminglanguagesparta/syllabus'], 277: ['277', 'IT', 'Introduction to Cybersecurity Tools & Cyber Attacks ', '2023', 'http://learning_platform.com/introductiontocybersecuritytools&cyberattacks/syllabus'], 278: ['278', 'IT', 'How To Create a Website in a Weekend! (Project-Centered Course) ', '2023', 'http://learning_platform.com/howtocreateawebsiteinaweekend!projectcenteredcourse/syllabus'], 279: ['279', 'IT', 'Functional Programming Principles in Scala ', '2023', 'http://learning_platform.com/functionalprogrammingprinciplesinscala/syllabus'], 280: ['280', 'IT', 'SQL for Data Science ', '2023', 'http://learning_platform.com/sqlfordatascience/syllabus'], 281: ['281', 'IT', 'Programming Fundamentals ', '2023', 'http://learning_platform.com/programmingfundamentals/syllabus'], 282: ['282', 'IT', 'Computer Architecture ', '2023', 'http://learning_platform.com/computerarchitecture/syllabus'], 283: ['283', 'IT', 'Build a Modern Computer ', '2023', 'http://learning_platform.com/buildamoderncomputer/syllabus'], 284: ['284', 'IT', 'Getting Started with AWS Machine Learning ', '2023', 'http://learning_platform.com/gettingstartedwithawsmachinelearning/syllabus'], 285: ['285', 'IT', 'Introduction to HTML5 ', '2023', 'http://learning_platform.com/introductiontohtml5/syllabus'], 286: ['286', 'IT', 'Foundations of User Experience (UX) Design ', '2023', 'http://learning_platform.com/foundationsofuserexperienceuxdesign/syllabus'], 287: ['287', 'IT', 'Introduction to Google SEO ', '2023', 'http://learning_platform.com/introductiontogoogleseo/syllabus'], 288: ['288', 'IT', 'Visual Elements of User Interface Design ', '2023', 'http://learning_platform.com/visualelementsofuserinterfacedesign/syllabus'], 289: ['289', 'IT', 'Fundamentals of Visualization with Tableau ', '2023', 'http://learning_platform.com/fundamentalsofvisualizationwithtableau/syllabus'], 290: ['290', 'IT', 'Agile with Atlassian Jira ', '2023', 'http://learning_platform.com/agilewithatlassianjira/syllabus'], 291: ['291', 'IT', 'Front-End Web UI Frameworks and Tools: Bootstrap 4 ', '2023', 'http://learning_platform.com/frontendwebuiframeworksandtoolsbootstrap4/syllabus'], 292: ['292', 'IT', 'Python Basics ', '2023', 'http://learning_platform.com/pythonbasics/syllabus'], 293: ['293', 'IT', 'Introduction to Web Development ', '2023', 'http://learning_platform.com/introductiontowebdevelopment/syllabus'], 294: ['294', 'IT', 'Responsive Website Basics: Code with HTML, CSS, and JavaScript ', '2023', 'http://learning_platform.com/responsivewebsitebasicscodewithhtmlcssandjavascript/syllabus'], 295: ['295', 'IT', 'Database Management Essentials ', '2023', 'http://learning_platform.com/databasemanagementessentials/syllabus'], 296: ['296', 'IT', 'Build Your First Android App (Project-Centered Course) ', '2023', 'http://learning_platform.com/buildyourfirstandroidappprojectcenteredcourse/syllabus'], 297: ['297', 'IT', 'Introduction to Data Science in Python ', '2023', 'http://learning_platform.com/introductiontodatascienceinpython/syllabus'], 298: ['298', 'maths', 'Introduction to Logic ', '2023', 'http://learning_platform.com/introductiontologic/syllabus'], 299: ['299', 'maths', 'Model Thinking ', '2023', 'http://learning_platform.com/modelthinking/syllabus'], 300: ['300', 'maths', 'Mathematics for Machine Learning: Linear Algebra ', '2023', 'http://learning_platform.com/mathematicsformachinelearninglinearalgebra/syllabus'], 301: ['301', 'maths', 'Data Science Math Skills ', '2023', 'http://learning_platform.com/datasciencemathskills/syllabus'], 302: ['302', 'maths', 'English for Science, Technology, Engineering, and Mathematics ', '2023', 'http://learning_platform.com/englishforsciencetechnologyengineeringandmathematics/syllabus'], 303: ['303', 'maths', 'Introduction to Calculus ', '2023', 'http://learning_platform.com/introductiontocalculus/syllabus'], 304: ['304', 'maths', 'Introduction to Mathematical Thinking ', '2023', 'http://learning_platform.com/introductiontomathematicalthinking/syllabus'], 305: ['305', 'languages', 'First Step Korean ', '2023', 'http://learning_platform.com/firststepkorean/syllabus'], 306: ['306', 'languages', 'How to Write and Publish a Scientific Paper (Project-Centered Course) ', '2023', 'http://learning_platform.com/howtowriteandpublishascientificpaperprojectcenteredcourse/syllabus'], 307: ['307', 'languages', 'Aprender ', '2023', 'http://learning_platform.com/aprender/syllabus'], 308: ['308', 'languages', 'Speak English Professionally: In Person, Online & On the Phone ', '2023', 'http://learning_platform.com/speakenglishprofessionallyinpersononline&onthephone/syllabus'], 309: ['309', 'languages', 'English for Business and Entrepreneurship ', '2023', 'http://learning_platform.com/englishforbusinessandentrepreneurship/syllabus'], 310: ['310', 'languages', 'English for Science, Technology, Engineering, and Mathematics ', '2023', 'http://learning_platform.com/englishforsciencetechnologyengineeringandmathematics/syllabus'], 311: ['311', 'languages', 'Introduction to Structured Query Language (SQL) ', '2023', 'http://learning_platform.com/introductiontostructuredquerylanguagesql/syllabus'], 312: ['312', 'languages', 'Tricky American English Pronunciation ', '2023', 'http://learning_platform.com/trickyamericanenglishpronunciation/syllabus'], 313: ['313', 'languages', 'Writing in English at University ', '2023', 'http://learning_platform.com/writinginenglishatuniversity/syllabus'], 314: ['314', 'languages', 'Perfect Tenses and Modals ', '2023', 'http://learning_platform.com/perfecttensesandmodals/syllabus'], 315: ['315', 'languages', 'English for Career Development ', '2023', 'http://learning_platform.com/englishforcareerdevelopment/syllabus'], 316: ['316', 'languages', 'Chinese for Beginners ', '2023', 'http://learning_platform.com/chineseforbeginners/syllabus'], 317: ['317', 'languages', 'English for Journalism ', '2023', 'http://learning_platform.com/englishforjournalism/syllabus'], 318: ['318', 'languages', 'Communication Strategies for a Virtual Age ', '2023', 'http://learning_platform.com/communicationstrategiesforavirtualage/syllabus'], 319: ['319', 'languages', 'How to Write a Resume (Project-Centered Course) ', '2023', 'http://learning_platform.com/howtowritearesumeprojectcenteredcourse/syllabus'], 320: ['320', 'languages', 'Spanish Vocabulary: Meeting People ', '2023', 'http://learning_platform.com/spanishvocabularymeetingpeople/syllabus'], 321: ['321', 'languages', 'Grammar and Punctuation ', '2023', 'http://learning_platform.com/grammarandpunctuation/syllabus'], 322: ['322', 'languages', 'Learn to Speak Korean 1 ', '2023', 'http://learning_platform.com/learntospeakkorean1/syllabus'], 323: ['323', 'languages', 'Writing in the Sciences ', '2023', 'http://learning_platform.com/writinginthesciences/syllabus'], 324: ['324', 'languages', 'Miracles of Human Language: An Introduction to Linguistics ', '2023', 'http://learning_platform.com/miraclesofhumanlanguageanintroductiontolinguistics/syllabus'], 325: ['325', 'languages', 'Fundamentos de la escritura ', '2023', 'http://learning_platform.com/fundamentosdelaescritura/syllabus'], 326: ['326', 'languages', 'Lesson | Small Talk & Conversational Vocabulary ', '2023', 'http://learning_platform.com/lesson|smalltalk&conversationalvocabulary/syllabus'], 327: ['327', 'languages', 'Business Writing ', '2023', 'http://learning_platform.com/businesswriting/syllabus'], 328: ['328', 'languages', 'Teamwork Skills: Communicating Effectively in Groups ', '2023', 'http://learning_platform.com/teamworkskillscommunicatingeffectivelyingroups/syllabus'], 329: ['329', 'languages', 'English Composition I ', '2023', 'http://learning_platform.com/englishcompositioni/syllabus'], 330: ['330', 'languages', 'Introduction to Public Speaking ', '2023', 'http://learning_platform.com/introductiontopublicspeaking/syllabus'], 331: ['331', 'languages', 'Teach English Now! Foundational Principles ', '2023', 'http://learning_platform.com/teachenglishnow!foundationalprinciples/syllabus'], 332: ['332', 'psychology', 'The Science of Success: What Researchers Know that You Should Know ', '2023', 'http://learning_platform.com/thescienceofsuccesswhatresearchersknowthatyoushouldknow/syllabus'], 333: ['333', 'psychology', 'The Arts and Science of Relationships: Understanding Human Needs ', '2023', 'http://learning_platform.com/theartsandscienceofrelationshipsunderstandinghumanneeds/syllabus'], 334: ['334', 'psychology', 'Learning How to Learn: Powerful mental tools to help you master tough subjects ', '2023', 'http://learning_platform.com/learninghowtolearnpowerfulmentaltoolstohelpyoumastertoughsubjects/syllabus'], 335: ['335', 'psychology', 'Preparing to Manage Human Resources ', '2023', 'http://learning_platform.com/preparingtomanagehumanresources/syllabus'], 336: ['336', 'psychology', 'Psychological First Aid ', '2023', 'http://learning_platform.com/psychologicalfirstaid/syllabus'], 337: ['337', 'psychology', 'Mindshift: Break Through Obstacles to Learning and Discover Your Hidden Potential ', '2023', 'http://learning_platform.com/mindshiftbreakthroughobstaclestolearninganddiscoveryourhiddenpotential/syllabus'], 338: ['338', 'psychology', 'Positive Psychiatry and Mental Health ', '2023', 'http://learning_platform.com/positivepsychiatryandmentalhealth/syllabus'], 339: ['339', 'psychology', 'Excel/VBA for Creative Problem Solving, Part 1 ', '2023', 'http://learning_platform.com/excel/vbaforcreativeproblemsolvingpart1/syllabus'], 340: ['340', 'psychology', 'The Addicted Brain ', '2023', 'http://learning_platform.com/theaddictedbrain/syllabus'], 341: ['341', 'psychology', 'Dog Emotion and Cognition ', '2023', 'http://learning_platform.com/dogemotionandcognition/syllabus'], 342: ['342', 'psychology', 'Creative Writing: The Craft of Plot ', '2023', 'http://learning_platform.com/creativewritingthecraftofplot/syllabus'], 343: ['343', 'psychology', 'A Life of Happiness and Fulfillment ', '2023', 'http://learning_platform.com/alifeofhappinessandfulfillment/syllabus'], 344: ['344', 'psychology', 'Introduction to Psychology ', '2023', 'http://learning_platform.com/introductiontopsychology/syllabus'], 345: ['345', 'psychology', 'Introductory Human Physiology ', '2023', 'http://learning_platform.com/introductoryhumanphysiology/syllabus'], 346: ['346', 'psychology', 'Computer Science: Programming with a Purpose ', '2023', 'http://learning_platform.com/computerscienceprogrammingwithapurpose/syllabus'], 347: ['347', 'psychology', 'Creative Thinking: Techniques and Tools for Success ', '2023', 'http://learning_platform.com/creativethinkingtechniquesandtoolsforsuccess/syllabus'], 348: ['348', 'psychology', \"Ser m\\\\'e1s creativos \", '2023', \"http://learning_platform.com/serm\\\\'e1screativos/syllabus\"], 349: ['349', 'psychology', 'Influencing People ', '2023', 'http://learning_platform.com/influencingpeople/syllabus'], 350: ['350', 'psychology', 'Managing Emotions in Times of Uncertainty & Stress ', '2023', 'http://learning_platform.com/managingemotionsintimesofuncertainty&stress/syllabus'], 351: ['351', 'psychology', 'Social Psychology ', '2023', 'http://learning_platform.com/socialpsychology/syllabus'], 352: ['352', 'psychology', 'Creative Problem Solving ', '2023', 'http://learning_platform.com/creativeproblemsolving/syllabus'], 353: ['353', 'psychology', 'Miracles of Human Language: An Introduction to Linguistics ', '2023', 'http://learning_platform.com/miraclesofhumanlanguageanintroductiontolinguistics/syllabus'], 354: ['354', 'psychology', 'Positive Psychology ', '2023', 'http://learning_platform.com/positivepsychology/syllabus'], 355: ['355', 'psychology', 'Finding Purpose and Meaning In Life: Living for What Matters Most ', '2023', 'http://learning_platform.com/findingpurposeandmeaninginlifelivingforwhatmattersmost/syllabus'], 356: ['356', 'psychology', 'Mind Control: Managing Your Mental Health During COVID-19 ', '2023', 'http://learning_platform.com/mindcontrolmanagingyourmentalhealthduringcovid19/syllabus'], 357: ['357', 'economics and management', 'An Introduction to Consumer Neuroscience & Neuromarketing ', '2023', 'http://learning_platform.com/anintroductiontoconsumerneuroscience&neuromarketing/syllabus'], 358: ['358', 'economics and management', 'Successful Negotiation: Essential Strategies and Skills ', '2023', 'http://learning_platform.com/successfulnegotiationessentialstrategiesandskills/syllabus'], 359: ['359', 'economics and management', 'Preparing to Manage Human Resources ', '2023', 'http://learning_platform.com/preparingtomanagehumanresources/syllabus'], 360: ['360', 'economics and management', 'Contabilidad para no contadores ', '2023', 'http://learning_platform.com/contabilidadparanocontadores/syllabus'], 361: ['361', 'economics and management', 'Introduction to Social Media Marketing ', '2023', 'http://learning_platform.com/introductiontosocialmediamarketing/syllabus'], 362: ['362', 'economics and management', 'Financial Markets ', '2023', 'http://learning_platform.com/financialmarkets/syllabus'], 363: ['363', 'economics and management', 'Viral Marketing and How to Craft Contagious Content ', '2023', 'http://learning_platform.com/viralmarketingandhowtocraftcontagiouscontent/syllabus'], 364: ['364', 'economics and management', 'English for Business and Entrepreneurship ', '2023', 'http://learning_platform.com/englishforbusinessandentrepreneurship/syllabus'], 365: ['365', 'economics and management', 'The Strategy of Content Marketing ', '2023', 'http://learning_platform.com/thestrategyofcontentmarketing/syllabus'], 366: ['366', 'economics and management', 'Private Equity and Venture Capital ', '2023', 'http://learning_platform.com/privateequityandventurecapital/syllabus'], 367: ['367', 'economics and management', 'Excel aplicado a los negocios (Nivel Avanzado) ', '2023', 'http://learning_platform.com/excelaplicadoalosnegociosnivelavanzado/syllabus'], 368: ['368', 'economics and management', 'Marketing Analytics ', '2023', 'http://learning_platform.com/marketinganalytics/syllabus'], 369: ['369', 'economics and management', 'Blockchain Basics ', '2023', 'http://learning_platform.com/blockchainbasics/syllabus'], 370: ['370', 'economics and management', 'Entrepreneurship 1: Developing the Opportunity ', '2023', 'http://learning_platform.com/entrepreneurship1developingtheopportunity/syllabus'], 371: ['371', 'economics and management', 'Finance for Non-Finance Professionals ', '2023', 'http://learning_platform.com/financefornonfinanceprofessionals/syllabus'], 372: ['372', 'economics and management', 'Financial Accounting Fundamentals ', '2023', 'http://learning_platform.com/financialaccountingfundamentals/syllabus'], 373: ['373', 'economics and management', 'Brand Management: Aligning Business, Brand and Behaviour ', '2023', 'http://learning_platform.com/brandmanagementaligningbusinessbrandandbehaviour/syllabus'], 374: ['374', 'economics and management', 'Introduction to Personal Branding ', '2023', 'http://learning_platform.com/introductiontopersonalbranding/syllabus'], 375: ['375', 'economics and management', 'Data-driven Decision Making ', '2023', 'http://learning_platform.com/datadrivendecisionmaking/syllabus'], 376: ['376', 'economics and management', 'Leading Teams: Developing as a Leader ', '2023', 'http://learning_platform.com/leadingteamsdevelopingasaleader/syllabus'], 377: ['377', 'economics and management', 'Communication Strategies for a Virtual Age ', '2023', 'http://learning_platform.com/communicationstrategiesforavirtualage/syllabus'], 378: ['378', 'economics and management', 'Introduction to Marketing ', '2023', 'http://learning_platform.com/introductiontomarketing/syllabus'], 379: ['379', 'economics and management', 'Economics of Money and Banking ', '2023', 'http://learning_platform.com/economicsofmoneyandbanking/syllabus'], 380: ['380', 'economics and management', 'Work Smarter, Not Harder: Time Management for Personal & Professional Productivity ', '2023', 'http://learning_platform.com/worksmarternothardertimemanagementforpersonal&professionalproductivity/syllabus'], 381: ['381', 'economics and management', 'Foundations of Project Management ', '2023', 'http://learning_platform.com/foundationsofprojectmanagement/syllabus'], 382: ['382', 'economics and management', 'Python and Statistics for Financial Analysis ', '2023', 'http://learning_platform.com/pythonandstatisticsforfinancialanalysis/syllabus'], 383: ['383', 'economics and management', 'Personal & Family Financial Planning ', '2023', 'http://learning_platform.com/personal&familyfinancialplanning/syllabus'], 384: ['384', 'economics and management', 'Customer Analytics ', '2023', 'http://learning_platform.com/customeranalytics/syllabus'], 385: ['385', 'economics and management', 'Business English: Networking ', '2023', 'http://learning_platform.com/businessenglishnetworking/syllabus'], 386: ['386', 'economics and management', 'Competitive Strategy ', '2023', 'http://learning_platform.com/competitivestrategy/syllabus'], 387: ['387', 'economics and management', 'Marketing in a Digital World ', '2023', 'http://learning_platform.com/marketinginadigitalworld/syllabus'], 388: ['388', 'economics and management', 'Understanding Financial Markets ', '2023', 'http://learning_platform.com/understandingfinancialmarkets/syllabus'], 389: ['389', 'economics and management', 'Business Writing ', '2023', 'http://learning_platform.com/businesswriting/syllabus'], 390: ['390', 'economics and management', 'Introduction to Negotiation: A Strategic Playbook for Becoming a Principled and Persuasive Negotiator ', '2023', 'http://learning_platform.com/introductiontonegotiationastrategicplaybookforbecomingaprincipledandpersuasivenegotiator/syllabus'], 391: ['391', 'economics and management', 'Marketing Digital ', '2023', 'http://learning_platform.com/marketingdigital/syllabus'], 392: ['392', 'economics and management', 'Introduction to Data Analytics for Business ', '2023', 'http://learning_platform.com/introductiontodataanalyticsforbusiness/syllabus'], 393: ['393', 'economics and management', 'Fundamentos de Excel para Negocios ', '2023', 'http://learning_platform.com/fundamentosdeexcelparanegocios/syllabus'], 394: ['394', 'economics and management', 'Management of Fashion and Luxury Companies ', '2023', 'http://learning_platform.com/managementoffashionandluxurycompanies/syllabus'], 395: ['395', 'economics and management', 'Foundations of Digital Marketing and E-commerce ', '2023', 'http://learning_platform.com/foundationsofdigitalmarketingandecommerce/syllabus'], 396: ['396', 'economics and management', 'Finanzas personales ', '2023', 'http://learning_platform.com/finanzaspersonales/syllabus'], 397: ['397', 'economics and management', 'Database Management Essentials ', '2023', 'http://learning_platform.com/databasemanagementessentials/syllabus'], 398: ['398', 'economics and management', 'Fundamentos de Finanzas Empresariales ', '2023', 'http://learning_platform.com/fundamentosdefinanzasempresariales/syllabus'], 399: ['399', 'economics and management', 'Financial Planning for Young Adults ', '2023', 'http://learning_platform.com/financialplanningforyoungadults/syllabus'], 400: ['400', 'economics and management', 'Fundamentals of Project Planning and Management ', '2023', 'http://learning_platform.com/fundamentalsofprojectplanningandmanagement/syllabus'], 401: ['401', 'economics and management', 'Bitcoin and Cryptocurrency Technologies ', '2023', 'http://learning_platform.com/bitcoinandcryptocurrencytechnologies/syllabus'], 402: ['402', 'sciences', 'Chemistry ', '2023', 'http://learning_platform.com/chemistry/syllabus'], 403: ['403', 'sciences', 'Understanding the Brain: The Neurobiology of Everyday Life ', '2023', 'http://learning_platform.com/understandingthebraintheneurobiologyofeverydaylife/syllabus'], 404: ['404', 'sciences', 'Animal Behaviour and Welfare ', '2023', 'http://learning_platform.com/animalbehaviourandwelfare/syllabus'], 405: ['405', 'sciences', 'Introduction to Genetics and Evolution ', '2023', 'http://learning_platform.com/introductiontogeneticsandevolution/syllabus'], 406: ['406', 'sciences', 'Introduction to the Biology of Cancer ', '2023', 'http://learning_platform.com/introductiontothebiologyofcancer/syllabus'], 407: ['407', 'sciences', 'Understanding Research Methods ', '2023', 'http://learning_platform.com/understandingresearchmethods/syllabus'], 408: ['408', 'sciences', 'Wind Energy ', '2023', 'http://learning_platform.com/windenergy/syllabus'], 409: ['409', 'sciences', 'Introduction to Engineering Mechanics ', '2023', 'http://learning_platform.com/introductiontoengineeringmechanics/syllabus'], 410: ['410', 'sciences', 'Understanding Einstein: The Special Theory of Relativity ', '2023', 'http://learning_platform.com/understandingeinsteinthespecialtheoryofrelativity/syllabus'], 411: ['411', 'sciences', 'How Things Work: An Introduction to Physics ', '2023', 'http://learning_platform.com/howthingsworkanintroductiontophysics/syllabus'], 412: ['412', 'sciences', 'Dog Emotion and Cognition ', '2023', 'http://learning_platform.com/dogemotionandcognition/syllabus'], 413: ['413', 'sciences', 'Introduction to Electronics ', '2023', 'http://learning_platform.com/introductiontoelectronics/syllabus'], 414: ['414', 'sciences', 'Biology Meets Programming: Bioinformatics for Beginners ', '2023', 'http://learning_platform.com/biologymeetsprogrammingbioinformaticsforbeginners/syllabus'], 415: ['415', 'medicine', 'COVID-19 Contact Tracing ', '2023', 'http://learning_platform.com/covid19contacttracing/syllabus'], 416: ['416', 'medicine', 'Stanford Introduction to Food and Health ', '2023', 'http://learning_platform.com/stanfordintroductiontofoodandhealth/syllabus'], 417: ['417', 'medicine', 'Medical Neuroscience ', '2023', 'http://learning_platform.com/medicalneuroscience/syllabus'], 418: ['418', 'medicine', 'Positive Psychiatry and Mental Health ', '2023', 'http://learning_platform.com/positivepsychiatryandmentalhealth/syllabus'], 419: ['419', 'medicine', 'Mind Control: Managing Your Mental Health During COVID-19 ', '2023', 'http://learning_platform.com/mindcontrolmanagingyourmentalhealthduringcovid19/syllabus'], 420: ['420', 'medicine', 'Mind Control: Managing Your Mental Health During COVID-19 ', '2023', 'http://learning_platform.com/mindcontrolmanagingyourmentalhealthduringcovid19/syllabus'], 421: ['421', 'medicine', 'Epidemiology: The Basic Science of Public Health ', '2023', 'http://learning_platform.com/epidemiologythebasicscienceofpublichealth/syllabus'], 422: ['422', 'medicine', 'Introduction to the Biology of Cancer ', '2023', 'http://learning_platform.com/introductiontothebiologyofcancer/syllabus'], 423: ['423', 'medicine', 'Understanding Clinical Research: Behind the Statistics ', '2023', 'http://learning_platform.com/understandingclinicalresearchbehindthestatistics/syllabus'], 424: ['424', 'medicine', 'Designing Your Personal Weight Loss Plan ', '2023', 'http://learning_platform.com/designingyourpersonalweightlossplan/syllabus'], 425: ['425', 'medicine', 'Design and Interpretation of Clinical Trials ', '2023', 'http://learning_platform.com/designandinterpretationofclinicaltrials/syllabus'], 426: ['426', 'statistics', 'Foundations: Data, Data, Everywhere ', '2023', 'http://learning_platform.com/foundationsdatadataeverywhere/syllabus'], 427: ['427', 'statistics', 'Python and Statistics for Financial Analysis ', '2023', 'http://learning_platform.com/pythonandstatisticsforfinancialanalysis/syllabus'], 428: ['428', 'statistics', 'Introduction to Statistics ', '2023', 'http://learning_platform.com/introductiontostatistics/syllabus'], 429: ['429', 'statistics', 'Exploratory Data Analysis ', '2023', 'http://learning_platform.com/exploratorydataanalysis/syllabus'], 430: ['430', 'statistics', 'Introduction to Probability and Data with R ', '2023', 'http://learning_platform.com/introductiontoprobabilityanddatawithr/syllabus'], 431: ['431', 'statistics', 'Understanding Clinical Research: Behind the Statistics ', '2023', 'http://learning_platform.com/understandingclinicalresearchbehindthestatistics/syllabus'], 432: ['432', 'statistics', 'Econometrics: Methods and Applications ', '2023', 'http://learning_platform.com/econometricsmethodsandapplications/syllabus'], 433: ['433', 'statistics', 'Bayesian Statistics: From Concept to Data Analysis ', '2023', 'http://learning_platform.com/bayesianstatisticsfromconcepttodataanalysis/syllabus'], 434: ['434', 'statistics', 'Basic Statistics ', '2023', 'http://learning_platform.com/basicstatistics/syllabus'], 435: ['435', 'humanities', 'Greek and Roman Mythology ', '2023', 'http://learning_platform.com/greekandromanmythology/syllabus'], 436: ['436', 'humanities', 'An Introduction to American Law ', '2023', 'http://learning_platform.com/anintroductiontoamericanlaw/syllabus'], 437: ['437', 'humanities', 'Modern Art & Ideas ', '2023', 'http://learning_platform.com/modernart&ideas/syllabus'], 438: ['438', 'humanities', 'Cameras, Exposure, and Photography ', '2023', 'http://learning_platform.com/camerasexposureandphotography/syllabus'], 439: ['439', 'humanities', 'Introduction to International Criminal Law ', '2023', 'http://learning_platform.com/introductiontointernationalcriminallaw/syllabus'], 440: ['440', 'humanities', 'In the Studio: Postwar Abstract Painting ', '2023', 'http://learning_platform.com/inthestudiopostwarabstractpainting/syllabus'], 441: ['441', 'humanities', 'Fundamentals of Music Theory ', '2023', 'http://learning_platform.com/fundamentalsofmusictheory/syllabus'], 442: ['442', 'humanities', 'Introduction to Philosophy ', '2023', 'http://learning_platform.com/introductiontophilosophy/syllabus'], 443: ['443', 'humanities', 'Communication Strategies for a Virtual Age ', '2023', 'http://learning_platform.com/communicationstrategiesforavirtualage/syllabus'], 444: ['444', 'humanities', 'Introduction to Classical Music ', '2023', 'http://learning_platform.com/introductiontoclassicalmusic/syllabus'], 445: ['445', 'humanities', 'Moral Foundations of Politics ', '2023', 'http://learning_platform.com/moralfoundationsofpolitics/syllabus'], 446: ['446', 'humanities', 'The Modern World, Part One: Global History ', '2023', 'http://learning_platform.com/themodernworldpartoneglobalhistory/syllabus'], 447: ['447', 'humanities', 'Guitar for Beginners ', '2023', 'http://learning_platform.com/guitarforbeginners/syllabus'], 448: ['448', 'humanities', 'Indigenous Canada ', '2023', 'http://learning_platform.com/indigenouscanada/syllabus'], 449: ['449', 'miscellaneous', 'Machine Learning Foundations: A Case Study Approach ', '2023', 'http://learning_platform.com/machinelearningfoundationsacasestudyapproach/syllabus'], 450: ['450', 'miscellaneous', 'Game Theory ', '2023', 'http://learning_platform.com/gametheory/syllabus'], 451: ['451', 'miscellaneous', 'Child Nutrition and Cooking ', '2023', 'http://learning_platform.com/childnutritionandcooking/syllabus'], 452: ['452', 'miscellaneous', 'Excel Skills for Business: Essentials ', '2023', 'http://learning_platform.com/excelskillsforbusinessessentials/syllabus'], 453: ['453', 'miscellaneous', 'Mastering Data Analysis in Excel ', '2023', 'http://learning_platform.com/masteringdataanalysisinexcel/syllabus'], 454: ['454', 'miscellaneous', 'Human-Centered Design: an Introduction ', '2023', 'http://learning_platform.com/humancentereddesignanintroduction/syllabus'], 455: ['455', 'miscellaneous', 'Introduction to Data Analysis Using Excel ', '2023', 'http://learning_platform.com/introductiontodataanalysisusingexcel/syllabus'], 456: ['456', 'miscellaneous', 'Neural Networks and Deep Learning ', '2023', 'http://learning_platform.com/neuralnetworksanddeeplearning/syllabus'], 457: ['457', 'miscellaneous', 'Vital Signs: Understanding What the Body Is Telling Us ', '2023', 'http://learning_platform.com/vitalsignsunderstandingwhatthebodyistellingus/syllabus'], 458: ['458', 'miscellaneous', 'Science of Exercise ', '2023', 'http://learning_platform.com/scienceofexercise/syllabus'], 459: ['459', 'miscellaneous', 'Introduction to Machine Learning ', '2023', 'http://learning_platform.com/introductiontomachinelearning/syllabus'], 460: ['460', 'miscellaneous', 'Introduction to Big Data ', '2023', 'http://learning_platform.com/introductiontobigdata/syllabus'], 461: ['461', 'miscellaneous', 'A Crash Course in Data Science ', '2023', 'http://learning_platform.com/acrashcourseindatascience/syllabus'], 462: ['462', 'miscellaneous', 'Introduction to Data Analytics ', '2023', 'http://learning_platform.com/introductiontodataanalytics/syllabus'], 463: ['463', 'miscellaneous', 'Learn to Program: The Fundamentals ', '2023', 'http://learning_platform.com/learntoprogramthefundamentals/syllabus'], 464: ['464', 'miscellaneous', 'What is Social? ', '2023', 'http://learning_platform.com/whatissocial/syllabus'], 465: ['465', 'miscellaneous', 'What is Data Science? ', '2023', 'http://learning_platform.com/whatisdatascience/syllabus'], 466: ['466', 'miscellaneous', 'Supervised Machine Learning: Regression and Classification ', '2023', 'http://learning_platform.com/supervisedmachinelearningregressionandclassification/syllabus'], 467: ['467', 'miscellaneous', 'Everyday Excel, Part 1 ', '2023', 'http://learning_platform.com/everydayexcelpart1/syllabus'], 468: ['468', 'miscellaneous', 'Machine Learning for All ', '2023', 'http://learning_platform.com/machinelearningforall/syllabus'], 469: ['469', 'miscellaneous', 'Think Again I: How to Understand Arguments ', '2023', 'http://learning_platform.com/thinkagainihowtounderstandarguments/syllabus'], 470: ['470', 'miscellaneous', 'Introduction to TensorFlow for Artificial Intelligence, Machine Learning, and Deep Learning ', '2023', 'http://learning_platform.com/introductiontotensorflowforartificialintelligencemachinelearninganddeeplearning/syllabus'], 471: ['471', 'miscellaneous', 'Introduction to Sustainability ', '2023', 'http://learning_platform.com/introductiontosustainability/syllabus'], 472: ['472', 'miscellaneous', 'Introduction to Self-Driving Cars ', '2023', 'http://learning_platform.com/introductiontoselfdrivingcars/syllabus'], 473: ['473', 'miscellaneous', 'Gamification ', '2023', 'http://learning_platform.com/gamification/syllabus'], 474: ['474', 'miscellaneous', 'Introduction to Systematic Review and Meta-Analysis ', '2023', 'http://learning_platform.com/introductiontosystematicreviewandmetaanalysis/syllabus'], 475: ['475', 'miscellaneous', 'Organizational Analysis ', '2023', 'http://learning_platform.com/organizationalanalysis/syllabus'], 476: ['476', 'miscellaneous', 'Learning to Teach Online ', '2023', 'http://learning_platform.com/learningtoteachonline/syllabus'], 477: ['477', 'miscellaneous', 'Initiating and Planning Projects ', '2023', 'http://learning_platform.com/initiatingandplanningprojects/syllabus'], 478: ['478', 'miscellaneous', 'Everyday Parenting: The ABCs of Child Rearing ', '2023', 'http://learning_platform.com/everydayparentingtheabcsofchildrearing/syllabus'], 479: ['479', 'miscellaneous', 'Technical Support Fundamentals ', '2023', 'http://learning_platform.com/technicalsupportfundamentals/syllabus'], 480: ['480', 'miscellaneous', 'Supply Chain Logistics ', '2023', 'http://learning_platform.com/supplychainlogistics/syllabus']}\n"
     ]
    }
   ],
   "source": [
    "print(courseDict)"
   ]
  },
  {
   "cell_type": "code",
   "execution_count": 51,
   "id": "b70cc993",
   "metadata": {},
   "outputs": [],
   "source": [
    "newCourseDict = dict()\n",
    "for key in courseDict[0]:\n",
    "    newCourseDict[key] = list()\n",
    "for i in range(1, len(courseDict)):\n",
    "    newCourseDict['courseID'].append(int(courseDict[i][0]))\n",
    "    newCourseDict['discipline'].append(courseDict[i][1])\n",
    "    newCourseDict['courseName'].append(courseDict[i][2])\n",
    "    newCourseDict['courseYear'].append(int(courseDict[i][3]))\n",
    "    newCourseDict['syllabus'].append(courseDict[i][4])"
   ]
  },
  {
   "cell_type": "markdown",
   "id": "817aaff5",
   "metadata": {},
   "source": [
    "<h3>\n",
    "Print out the result (a small sample)\n",
    "</h3>"
   ]
  },
  {
   "cell_type": "code",
   "execution_count": 52,
   "id": "ca172b03",
   "metadata": {},
   "outputs": [
    {
     "name": "stdout",
     "output_type": "stream",
     "text": [
      "cID    discipline       courseName                      courseYear  syllabus\n",
      "1      IT               Introduction to the Internet o  2022        http://learning_platform.com/introductio\n",
      "2      IT               Agile Software Development      2022        http://learning_platform.com/agilesoftwa\n",
      "3      IT               Autodesk Certified Professiona  2022        http://learning_platform.com/autodeskcer\n",
      "4      IT               Fundamentals of Graphic Design  2022        http://learning_platform.com/fundamental\n",
      "5      IT               Java for Android                2022        http://learning_platform.com/javaforandr\n",
      "6      IT               Introduction to Programming wi  2022        http://learning_platform.com/introductio\n",
      "7      IT               Cryptography I                  2022        http://learning_platform.com/cryptograph\n",
      "8      IT               HTML, CSS, and Javascript for   2022        http://learning_platform.com/htmlcssandj\n",
      "9      IT               Google Cloud Big Data and Mach  2022        http://learning_platform.com/googlecloud\n",
      "10     IT               Algorithms, Part II             2022        http://learning_platform.com/algorithmsp\n",
      "11     IT               Algorithms, Part I              2022        http://learning_platform.com/algorithmsp\n",
      "12     IT               Divide and Conquer, Sorting an  2022        http://learning_platform.com/divideandco\n",
      "13     IT               Cloud Computing Concepts, Part  2022        http://learning_platform.com/cloudcomput\n",
      "14     IT               Programming for Everybody (Get  2022        http://learning_platform.com/programming\n",
      "15     IT               Design and Make Infographics (  2022        http://learning_platform.com/designandma\n",
      "16     IT               Cloud Computing Basics (Cloud   2022        http://learning_platform.com/cloudcomput\n",
      "17     IT               Hadoop Platform and Applicatio  2022        http://learning_platform.com/hadoopplatf\n",
      "18     IT               Algorithmic Toolbox             2022        http://learning_platform.com/algorithmic\n",
      "19     IT               Internet History, Technology,   2022        http://learning_platform.com/internethis\n",
      "20     IT               Introduction to User Experienc  2022        http://learning_platform.com/introductio\n",
      "21     IT               English for Career Development  2022        http://learning_platform.com/englishforc\n",
      "22     IT               Data Visualization with Python  2022        http://learning_platform.com/datavisuali\n",
      "23     IT               Computer Science: Programming   2022        http://learning_platform.com/computersci\n",
      "24     IT               AI For Everyone                 2022        http://learning_platform.com/aiforeveryo\n",
      "25     IT               Programming Foundations with J  2022        http://learning_platform.com/programming\n",
      "26     IT               An Introduction to Interactive  2022        http://learning_platform.com/anintroduct\n",
      "27     IT               Code Yourself! An Introduction  2022        http://learning_platform.com/codeyoursel\n",
      "28     IT               Introducci\\'f3n a Java          2022        http://learning_platform.com/introducci\\\n",
      "29     IT               Fundamentals of GIS             2022        http://learning_platform.com/fundamental\n",
      "30     IT               Python and Statistics for Fina  2022        http://learning_platform.com/pythonandst\n",
      "31     IT               Cybersecurity and Its Ten Doma  2022        http://learning_platform.com/cybersecuri\n",
      "32     IT               Crash Course on Python          2022        http://learning_platform.com/crashcourse\n",
      "33     IT               Design and Interpretation of C  2022        http://learning_platform.com/designandin\n",
      "34     IT               Google Cloud Fundamentals: Cor  2022        http://learning_platform.com/googlecloud\n",
      "35     IT               Design Thinking for Innovation  2022        http://learning_platform.com/designthink\n",
      "36     IT               Programming Languages, Part A   2022        http://learning_platform.com/programming\n",
      "37     IT               Introduction to Cybersecurity   2022        http://learning_platform.com/introductio\n",
      "38     IT               How To Create a Website in a W  2022        http://learning_platform.com/howtocreate\n",
      "39     IT               Functional Programming Princip  2022        http://learning_platform.com/functionalp\n",
      "40     IT               SQL for Data Science            2022        http://learning_platform.com/sqlfordatas\n",
      "41     IT               Programming Fundamentals        2022        http://learning_platform.com/programming\n",
      "42     IT               Computer Architecture           2022        http://learning_platform.com/computerarc\n",
      "43     IT               Build a Modern Computer         2022        http://learning_platform.com/buildamoder\n",
      "44     IT               Getting Started with AWS Machi  2022        http://learning_platform.com/gettingstar\n",
      "45     IT               Introduction to HTML5           2022        http://learning_platform.com/introductio\n",
      "46     IT               Foundations of User Experience  2022        http://learning_platform.com/foundations\n",
      "47     IT               Introduction to Google SEO      2022        http://learning_platform.com/introductio\n",
      "48     IT               Visual Elements of User Interf  2022        http://learning_platform.com/visualeleme\n",
      "49     IT               Fundamentals of Visualization   2022        http://learning_platform.com/fundamental\n",
      "50     IT               Agile with Atlassian Jira       2022        http://learning_platform.com/agilewithat\n",
      "[...]\n"
     ]
    }
   ],
   "source": [
    "# 50 elements from each list\n",
    "print('cID', ' ' * (5 - len('cID')), 'discipline', ' ' * (15 - len('discipline')), 'courseName', ' ' * (30 - len('courseName')), 'courseYear', ' ' * (10 - len('courseYear')), 'syllabus')\n",
    "for i in range(0, 50):\n",
    "    cID = newCourseDict['courseID'][i]\n",
    "    cat = newCourseDict['discipline'][i]\n",
    "    name = newCourseDict['courseName'][i]\n",
    "    year = newCourseDict['courseYear'][i]\n",
    "    syll = newCourseDict['syllabus'][i]\n",
    "    print(cID, ' ' * (5 - len(str(cID))), cat, ' ' * (15 - len(cat)), name[0 : 30], ' ' * (30 - len(name[0 : 30])), year, ' ' * (10 - len(str(year))), syll[0 : 40])\n",
    "print('[...]')"
   ]
  },
  {
   "cell_type": "markdown",
   "id": "8fca708e",
   "metadata": {},
   "source": [
    "<h3>\n",
    "Load instructor table\n",
    "</h3><br>\n",
    "As anticipated before, I also need to feed the teaching table the instructor ID, which is stored in the instructor table. In the following code block I load the instructor table and store its data into a dictionary where the keys are the instructor attribute names and the values are lists with actual data."
   ]
  },
  {
   "cell_type": "code",
   "execution_count": 53,
   "id": "f5ee9fb1",
   "metadata": {},
   "outputs": [],
   "source": [
    "instructorDict = dict()\n",
    "key = 0\n",
    "with open(path + 'tables/instructorTable.csv', newline = '', encoding = 'UTF-16') as csvInstructor:\n",
    "    reader = csv.reader(csvInstructor, delimiter = ',')\n",
    "    for line in reader:\n",
    "        instructorDict[key] = line\n",
    "        key += 1"
   ]
  },
  {
   "cell_type": "code",
   "execution_count": 54,
   "id": "f24b9a74",
   "metadata": {},
   "outputs": [
    {
     "name": "stdout",
     "output_type": "stream",
     "text": [
      "{0: ['instructorID', 'firstName', 'lastName', 'genre', 'role', 'email'], 1: ['1', 'Sophie', 'da Luz', 'female', 'Lecturer', 'sophie.da luz@bol.com.br'], 2: ['2', 'Brett', 'Cameron', 'male', 'Ph.D.', 'brett.cameron@hotmail.com'], 3: ['3', 'Bryan', 'Miranda', 'male', 'Ph.D.', 'bryan.miranda@hotmail.com'], 4: ['4', 'Rosendo', 'Tirado', 'male', 'Professor', 'rosendo.tirado@yahoo.com'], 5: ['5', 'Aarna', 'Yogi', 'female', 'Assistant Professor', 'aarna.yogi@hotmail.com'], 6: ['6', 'Stig', 'Halvorsen', 'male', 'TeachingFellow', 'stig.halvorsen@yahoo.com'], 7: ['7', 'Lavínia', 'Cardoso', 'female', 'Ph.D.', 'lavínia.cardoso@bol.com.br'], 8: ['8', 'Synnøve', 'Engen', 'female', 'Professor Emeritus', 'synnøve.engen@gmail.com'], 9: ['9', 'Riya', 'Saha', 'male', 'Lecturer', 'riya.saha@hotmail.com'], 10: ['10', 'Balca', 'Soylu', 'female', 'Researcher', 'balca.soylu@hotmail.com'], 11: ['11', 'Samaira', 'Char', 'non binary', 'Senior Teaching Fellow', 'samaira.char@yahoo.com'], 12: ['12', 'Anay', 'Karpe', 'female', 'Assistant Professor', 'anay.karpe@hotmail.com'], 13: ['13', 'Henrique', 'da Rocha', 'male', 'Senior Teaching Fellow', 'henrique.da rocha@ig.com.br'], 14: ['14', 'Théophile', 'Ferreira', 'male', 'Ph.D.', 'théophile.ferreira@bouygtel.fr'], 15: ['15', 'Traudl', 'Reising', 'female', 'Associate Professor', 'traudl.reising@gmx.de'], 16: ['16', 'Eligio', 'Gallo', 'male', 'Lecturer', 'eligio.gallo@yahoo.com'], 17: ['17', 'Jorunn', 'Andersen', 'female', 'Senior Teaching Fellow', 'jorunn.andersen@gmail.com'], 18: ['18', 'Lisa', 'Brunello', 'female', 'Assistant Professor', 'lisa.brunello@yahoo.com'], 19: ['19', 'Dylan', 'Murphy', 'male', 'Senior Teaching Fellow', 'dylan.murphy@yahoo.co.uk'], 20: ['20', 'Edgar', 'Pinheiro', 'male', 'TeachingFellow', 'edgar.pinheiro@sapo.pt'], 21: ['21', 'Ulf', 'Alm', 'non binary', 'Associate Professor', 'ulf.alm@telia.com'], 22: ['22', 'Linda', 'Hodgson', 'female', 'Assistant Professor', 'linda.hodgson@yahoo.com'], 23: ['23', 'Arnoldas', 'Kalvėnas', 'non binary', 'Ph.D.', 'arnoldas.kalvėnas@hotmail.com'], 24: ['24', 'Quinn', 'Persijn', 'male', 'TeachingFellow', 'quinn.persijn@hotmail.com'], 25: ['25', 'Artemio', 'Gibert', 'male', 'Professor', 'artemio.gibert@gmail.com'], 26: ['26', 'Petter', 'Svendsen', 'male', 'Lecturer', 'petter.svendsen@yahoo.com'], 27: ['27', 'Hürüyet', 'Karadeniz', 'female', 'Senior Lecturer', 'hürüyet.karadeniz@gmail.com'], 28: ['28', 'Olivie', 'Masse', 'female', 'Assistant Professor', 'olivie.masse@ifrance.com'], 29: ['29', 'Oğuzman', 'Arslan', 'male', 'TeachingFellow', 'oğuzman.arslan@yahoo.com'], 30: ['30', 'Renan', 'Nogueira', 'male', 'Senior Lecturer', 'renan.nogueira@hotmail.com'], 31: ['31', 'Cameron', 'Bates', 'male', 'Ph.D.', 'cameron.bates@hotmail.co.uk'], 32: ['32', 'Pim', 'van der Laan', 'male', 'Associate Professor', 'pim.van der laan@yahoo.com'], 33: ['33', 'Gustav', 'Karlsson', 'male', 'Senior Lecturer', 'gustav.karlsson@yahoo.de'], 34: ['34', 'Justin', 'Singleton', 'male', 'Researcher', 'justin.singleton@hotmail.com'], 35: ['35', 'Marisa', 'Wagenknecht', 'female', 'Assistant Professor', 'marisa.wagenknecht@gmail.com'], 36: ['36', 'Angelo', 'Vergerio', 'male', 'Professor Emeritus', 'angelo.vergerio@virgilio.it'], 37: ['37', 'Beth', 'Lewis', 'female', 'Ph.D.', 'beth.lewis@outlook.com'], 38: ['38', 'Gunilla', 'Persson', 'female', 'Senior Lecturer', 'gunilla.persson@gmail.com'], 39: ['39', 'Susan', 'Eberth', 'female', 'Associate Professor', 'susan.eberth@googlemail.com'], 40: ['40', 'Nick', 'Rehorst', 'male', 'Researcher', 'nick.rehorst@hotmail.com'], 41: ['41', 'Enrika', 'Povilonis', 'male', 'Senior Lecturer', 'enrika.povilonis@gmail.com'], 42: ['42', 'Ravi', 'de Bruijn', 'male', 'Lecturer', 'ravi.de bruijn@hotmail.com'], 43: ['43', 'Grete', 'Strand', 'female', 'Associate Professor', 'grete.strand@gmail.com'], 44: ['44', 'Thomas', 'Ortiz', 'male', 'Ph.D.', 'thomas.ortiz@yahoo.com'], 45: ['45', 'Boris', 'Zuijdveld', 'male', 'Researcher', 'boris.zuijdveld@hotmail.com'], 46: ['46', 'Luigi', 'Souza', 'non binary', 'Senior Teaching Fellow', 'luigi.souza@ig.com.br'], 47: ['47', 'Riaan', 'Bora', 'female', 'Lecturer', 'riaan.bora@hotmail.com'], 48: ['48', 'Juan', 'Nascimento', 'male', 'Assistant Professor', 'juan.nascimento@hotmail.com'], 49: ['49', 'João Pedro', 'Souza', 'male', 'Assistant Professor', 'joão pedro.souza@uol.com.br'], 50: ['50', 'Eric', 'Santos', 'male', 'Lecturer', 'eric.santos@yahoo.com'], 51: ['51', 'Lisa', 'Gustavsson', 'female', 'Professor Emeritus', 'lisa.gustavsson@gmail.com'], 52: ['52', 'Carminho', 'Ferreira', 'female', 'Assistant Professor', 'carminho.ferreira@hotmail.com'], 53: ['53', 'Valérie', 'Hubert', 'female', 'Ph.D.', 'valérie.hubert@noos.fr'], 54: ['54', 'Irma', 'Kiška', 'male', 'TeachingFellow', 'irma.kiška@gmail.com'], 55: ['55', 'William', 'Briggs', 'male', 'Associate Professor', 'william.briggs@yahoo.com'], 56: ['56', 'Beatriz', 'Santos', 'female', 'Assistant Professor', 'beatriz.santos@gmail.com'], 57: ['57', 'Berto', 'Terrón', 'male', 'Lecturer', 'berto.terrón@hotmail.com'], 58: ['58', 'Cleto', 'Casanova', 'male', 'Professor Emeritus', 'cleto.casanova@hotmail.com'], 59: ['59', 'Hüsmen', 'Korutürk', 'male', 'Associate Professor', 'hüsmen.korutürk@yandex.com'], 60: ['60', 'Ligita', 'Žukauskas', 'female', 'Professor Emeritus', 'ligita.žukauskas@yahoo.com'], 61: ['61', 'Artur', 'Almeida', 'male', 'TeachingFellow', 'artur.almeida@clix.pt'], 62: ['62', 'Martyn', 'Williams', 'male', 'TeachingFellow', 'martyn.williams@gmail.com'], 63: ['63', 'Johan', 'Eklund', 'male', 'Senior Teaching Fellow', 'johan.eklund@swipnet.se'], 64: ['64', 'Íris', 'Guerreiro', 'female', 'Assistant Professor', 'íris.guerreiro@gmail.com'], 65: ['65', 'Sven', 'Jansson', 'male', 'Assistant Professor', 'sven.jansson@telia.com'], 66: ['66', 'Arthur', 'Walker', 'male', 'TeachingFellow', 'arthur.walker@gmail.com'], 67: ['67', 'Jamie', 'Kerr', 'female', 'Professor', 'jamie.kerr@hotmail.com'], 68: ['68', 'Heer', 'Sarna', 'male', 'TeachingFellow', 'heer.sarna@gmail.com'], 69: ['69', 'Graziella', 'Montesano', 'female', 'Assistant Professor', 'graziella.montesano@tim.it'], 70: ['70', 'Krish', 'Golla', 'male', 'Senior Lecturer', 'krish.golla@hotmail.com'], 71: ['71', 'Hanni', 'Holt', 'male', 'Senior Teaching Fellow', 'hanni.holt@aol.de'], 72: ['72', 'Angelica', 'Luna', 'female', 'Associate Professor', 'angelica.luna@tin.it'], 73: ['73', 'Johnathan', 'Edwards', 'male', 'Researcher', 'johnathan.edwards@hotmail.com'], 74: ['74', 'Mia', 'Hartman', 'female', 'Associate Professor', 'mia.hartman@yahoo.com'], 75: ['75', 'Kåre', 'Kristensen', 'male', 'Senior Teaching Fellow', 'kåre.kristensen@hotmail.com'], 76: ['76', 'Vanya', 'Atwal', 'male', 'Professor Emeritus', 'vanya.atwal@yahoo.com'], 77: ['77', 'Jan', 'Erlandsson', 'male', 'Senior Teaching Fellow', 'jan.erlandsson@spray.se'], 78: ['78', 'Nicholas', 'Thomas', 'male', 'Assistant Professor', 'nicholas.thomas@hotmail.com'], 79: ['79', 'Georgina', 'Price', 'non binary', 'Senior Teaching Fellow', 'georgina.price@yahoo.co.uk'], 80: ['80', 'Anthony', 'da Conceição', 'male', 'Professor', 'anthony.da conceição@ig.com.br'], 81: ['81', 'Bjørn', 'Bøe', 'male', 'Professor Emeritus', 'bjørn.bøe@hotmail.com'], 82: ['82', 'Rebecca', 'Williams', 'female', 'Associate Professor', 'rebecca.williams@outlook.com'], 83: ['83', 'Hrishita', 'Rout', 'male', 'Senior Lecturer', 'hrishita.rout@hotmail.com'], 84: ['84', 'Luiz Henrique', 'Vieira', 'male', 'Associate Professor', 'luiz henrique.vieira@hotmail.com'], 85: ['85', 'Mariusz', 'Bolander', 'non binary', 'Associate Professor', 'mariusz.bolander@aol.de'], 86: ['86', 'Alix', 'Marchal', 'female', 'Senior Lecturer', 'alix.marchal@yahoo.fr'], 87: ['87', 'Isabelly', 'Moreira', 'female', 'Ph.D.', 'isabelly.moreira@gmail.com'], 88: ['88', 'Victoria', 'Thomas', 'female', 'Professor', 'victoria.thomas@outlook.com'], 89: ['89', 'Arthur', 'Clarke', 'male', 'Professor Emeritus', 'arthur.clarke@yahoo.com'], 90: ['90', 'María Del Carmen', 'Agudo', 'non binary', 'Researcher', 'maría del carmen.agudo@hotmail.com'], 91: ['91', 'Randi', 'Myklebust', 'female', 'Assistant Professor', 'randi.myklebust@hotmail.com'], 92: ['92', 'Miguel', 'Monteiro', 'male', 'Researcher', 'miguel.monteiro@bol.com.br'], 93: ['93', 'Rolf', 'Jacobsen', 'male', 'Lecturer', 'rolf.jacobsen@gmail.com'], 94: ['94', 'Anne', 'Stettyn', 'female', 'Senior Lecturer', 'anne.stettyn@hotmail.com'], 95: ['95', 'Per', 'Nygård', 'male', 'Professor', 'per.nygård@yahoo.com'], 96: ['96', 'Antanas', 'Povilonis', 'non binary', 'Assistant Professor', 'antanas.povilonis@hotmail.com'], 97: ['97', 'Zaina', 'Vora', 'non binary', 'Senior Teaching Fellow', 'zaina.vora@gmail.com'], 98: ['98', 'Katherine', 'Day', 'female', 'Professor', 'katherine.day@hotmail.com'], 99: ['99', 'Renée', 'Marin', 'female', 'Professor', 'renée.marin@noos.fr'], 100: ['100', 'Paulius', 'Nagys', 'non binary', 'Senior Lecturer', 'paulius.nagys@yahoo.com'], 101: ['101', 'Kristen', 'Kelly', 'female', 'Senior Lecturer', 'kristen.kelly@gmail.com'], 102: ['102', 'Mariana', 'Cardoso', 'female', 'Ph.D.', 'mariana.cardoso@yahoo.com.br'], 103: ['103', 'Johanna', 'van Laarhoven', 'female', 'Researcher', 'johanna.van laarhoven@yahoo.com'], 104: ['104', 'Aarush', 'Gole', 'female', 'Ph.D.', 'aarush.gole@gmail.com'], 105: ['105', 'Margaretha', 'Strand', 'female', 'Associate Professor', 'margaretha.strand@swipnet.se'], 106: ['106', 'César', 'Guerreiro', 'male', 'Lecturer', 'césar.guerreiro@gmail.com'], 107: ['107', 'Akboğa', 'Manço', 'male', 'Ph.D.', 'akboğa.manço@yandex.com'], 108: ['108', 'Éric', 'Fernandez', 'male', 'Lecturer', 'éric.fernandez@orange.fr'], 109: ['109', 'Linnea', 'Persson', 'female', 'Professor', 'linnea.persson@yahoo.de'], 110: ['110', 'Ludovica', 'Santoro', 'female', 'Researcher', 'ludovica.santoro@hotmail.it'], 111: ['111', 'Ishaan', 'Das', 'female', 'Associate Professor', 'ishaan.das@hotmail.com'], 112: ['112', 'Debra', 'Reynolds', 'female', 'Senior Lecturer', 'debra.reynolds@gmail.com'], 113: ['113', 'Isabelly', 'Costa', 'female', 'Senior Teaching Fellow', 'isabelly.costa@bol.com.br'], 114: ['114', 'Helge', 'Sandvik', 'non binary', 'Lecturer', 'helge.sandvik@yahoo.com'], 115: ['115', 'Antony', 'Marsh', 'male', 'Lecturer', 'antony.marsh@yahoo.com'], 116: ['116', 'Samantha', 'Wood', 'female', 'TeachingFellow', 'samantha.wood@outlook.com'], 117: ['117', 'Matthias', 'Hoppenbrouwer', 'male', 'TeachingFellow', 'matthias.hoppenbrouwer@gmail.com'], 118: ['118', 'Pastor', 'Herrera', 'male', 'Lecturer', 'pastor.herrera@yahoo.com'], 119: ['119', 'Mirthe', 'Dircken', 'female', 'Senior Lecturer', 'mirthe.dircken@gmail.com'], 120: ['120', 'Immo', 'Kabus', 'male', 'Ph.D.', 'immo.kabus@googlemail.com'], 121: ['121', 'Tracy', 'Greenwood', 'non binary', 'Professor', 'tracy.greenwood@hotmail.co.uk'], 122: ['122', 'Hridaan', 'Varghese', 'female', 'Lecturer', 'hridaan.varghese@hotmail.com'], 123: ['123', 'Christoph', 'Rogner', 'male', 'TeachingFellow', 'christoph.rogner@web.de'], 124: ['124', 'Esmée', 'Schatteleijn', 'female', 'Lecturer', 'esmée.schatteleijn@gmail.com'], 125: ['125', 'Anneke', 'Stolze', 'female', 'TeachingFellow', 'anneke.stolze@gmail.com'], 126: ['126', 'Elakshi', 'Karpe', 'female', 'Assistant Professor', 'elakshi.karpe@yahoo.com'], 127: ['127', 'Hanna', 'Lindström', 'female', 'Researcher', 'hanna.lindström@telia.com'], 128: ['128', 'Sami', 'Luboch', 'male', 'Associate Professor', 'sami.luboch@yahoo.com'], 129: ['129', 'Permun', 'Bilir', 'female', 'Researcher', 'permun.bilir@gmail.com'], 130: ['130', 'Rafael', 'Scholz', 'male', 'Assistant Professor', 'rafael.scholz@yahoo.de'], 131: ['131', 'Nicole', 'Freitas', 'female', 'Senior Lecturer', 'nicole.freitas@hotmail.com'], 132: ['132', 'Clare', 'Farmer', 'female', 'Associate Professor', 'clare.farmer@outlook.com'], 133: ['133', 'Sonia', 'Onio', 'female', 'TeachingFellow', 'sonia.onio@alice.it'], 134: ['134', 'Pierre', 'Toussaint', 'male', 'Professor', 'pierre.toussaint@laposte.net'], 135: ['135', 'Maria', 'Viklund', 'female', 'Lecturer', 'maria.viklund@yahoo.de'], 136: ['136', 'Richard', 'Mays', 'male', 'Professor', 'richard.mays@gmail.com'], 137: ['137', 'Lorena', 'Fogaça', 'female', 'Ph.D.', 'lorena.fogaça@hotmail.com'], 138: ['138', 'Yago', 'Cañellas', 'non binary', 'Senior Lecturer', 'yago.cañellas@hotmail.com'], 139: ['139', 'Holger', 'Sandström', 'male', 'Ph.D.', 'holger.sandström@spray.se'], 140: ['140', 'Stacey', 'Connolly', 'female', 'Lecturer', 'stacey.connolly@hotmail.com'], 141: ['141', 'Danilo', 'Almeida', 'male', 'Ph.D.', 'danilo.almeida@yahoo.com.br'], 142: ['142', 'Wout', 'Bouhuizen', 'male', 'Senior Lecturer', 'wout.bouhuizen@yahoo.com'], 143: ['143', 'Glen', 'Webster', 'male', 'Senior Teaching Fellow', 'glen.webster@yahoo.com'], 144: ['144', 'Niek', 'Moensendijk', 'male', 'Professor', 'niek.moensendijk@hotmail.com'], 145: ['145', 'Patrizio', 'Soranzo', 'male', 'Ph.D.', 'patrizio.soranzo@poste.it'], 146: ['146', 'Nürice', 'Yorulmaz', 'female', 'Professor Emeritus', 'nürice.yorulmaz@gmail.com'], 147: ['147', 'Damian', 'Dehmel', 'male', 'Ph.D.', 'damian.dehmel@web.de'], 148: ['148', 'Bünyamün', 'Karadeniz', 'male', 'Researcher', 'bünyamün.karadeniz@gmail.com'], 149: ['149', 'Farhan', 'Bera', 'female', 'Lecturer', 'farhan.bera@yahoo.com'], 150: ['150', 'Clarice', 'Vieira', 'female', 'TeachingFellow', 'clarice.vieira@uol.com.br'], 151: ['151', 'Vittorio', 'Herrmann', 'male', 'Professor', 'vittorio.herrmann@web.de'], 152: ['152', 'Amy', 'Mcdonald', 'female', 'Researcher', 'amy.mcdonald@gmail.com'], 153: ['153', 'Kathleen', 'Peters', 'female', 'Professor Emeritus', 'kathleen.peters@hotmail.com'], 154: ['154', 'Gunter', 'Kensy', 'male', 'Associate Professor', 'gunter.kensy@yahoo.de'], 155: ['155', 'Madhav', 'Wagle', 'female', 'Associate Professor', 'madhav.wagle@yahoo.com'], 156: ['156', 'Orestas', 'Jankauskas', 'male', 'Professor', 'orestas.jankauskas@gmail.com'], 157: ['157', 'Flor', 'Barros', 'female', 'Senior Lecturer', 'flor.barros@clix.pt'], 158: ['158', 'Sam', 'Smith', 'non binary', 'Professor', 'sam.smith@outlook.com'], 159: ['159', 'Jack', 'Sparks', 'male', 'Professor Emeritus', 'jack.sparks@hotmail.com'], 160: ['160', 'Igor', 'Matias', 'male', 'Lecturer', 'igor.matias@gmail.com'], 161: ['161', 'Fadime', 'Haase', 'female', 'Senior Lecturer', 'fadime.haase@googlemail.com'], 162: ['162', 'Alexandra', 'Blomberg', 'non binary', 'Ph.D.', 'alexandra.blomberg@googlemail.com'], 163: ['163', 'Lauren', 'Lensen', 'female', 'Professor Emeritus', 'lauren.lensen@gmail.com'], 164: ['164', 'Cauã', 'da Mata', 'male', 'Ph.D.', 'cauã.da mata@uol.com.br'], 165: ['165', 'Herminio', 'Company', 'male', 'Professor Emeritus', 'herminio.company@yahoo.com'], 166: ['166', 'Pietro', 'Pires', 'male', 'Ph.D.', 'pietro.pires@bol.com.br'], 167: ['167', 'Eduardo', 'Oliveira', 'male', 'TeachingFellow', 'eduardo.oliveira@clix.pt'], 168: ['168', 'Annemijn', 'van Hulten', 'non binary', 'Associate Professor', 'annemijn.van hulten@yahoo.com'], 169: ['169', 'Roger', 'Svendsen', 'male', 'Senior Teaching Fellow', 'roger.svendsen@gmail.com'], 170: ['170', 'Justin', 'Ferguson', 'male', 'Assistant Professor', 'justin.ferguson@outlook.com'], 171: ['171', 'Batırhan', 'Bilir', 'non binary', 'Researcher', 'batırhan.bilir@yahoo.com'], 172: ['172', 'Roar', 'Solberg', 'non binary', 'Professor', 'roar.solberg@gmail.com'], 173: ['173', 'Ligita', 'Narušis', 'female', 'Senior Lecturer', 'ligita.narušis@gmail.com'], 174: ['174', 'Lise', 'Kristoffersen', 'female', 'Ph.D.', 'lise.kristoffersen@hotmail.com'], 175: ['175', 'Luiz Otávio', 'Nogueira', 'male', 'Senior Lecturer', 'luiz otávio.nogueira@yahoo.com.br'], 176: ['176', 'Emma', 'García', 'female', 'Professor Emeritus', 'emma.garcía@gmail.com'], 177: ['177', 'Jonas', 'Buchholz', 'male', 'Associate Professor', 'jonas.buchholz@googlemail.com'], 178: ['178', 'Helena', 'Pires', 'female', 'Researcher', 'helena.pires@clix.pt'], 179: ['179', 'Krista', 'Ziegert', 'female', 'Senior Teaching Fellow', 'krista.ziegert@hotmail.de'], 180: ['180', 'Ricardo', 'Jungfer', 'male', 'Lecturer', 'ricardo.jungfer@web.de'], 181: ['181', 'Simonas', 'Petrauskas', 'male', 'Assistant Professor', 'simonas.petrauskas@yahoo.com'], 182: ['182', 'Raymond', 'Blanc', 'male', 'Senior Lecturer', 'raymond.blanc@voila.fr'], 183: ['183', 'Hunar', 'Solanki', 'female', 'Associate Professor', 'hunar.solanki@hotmail.com'], 184: ['184', 'Julie', 'Olsen', 'female', 'Researcher', 'julie.olsen@gmail.com'], 185: ['185', 'Albrecht', 'Klotz', 'male', 'TeachingFellow', 'albrecht.klotz@googlemail.com'], 186: ['186', 'Candelario', 'Grande', 'male', 'Associate Professor', 'candelario.grande@gmail.com'], 187: ['187', 'Amanda', 'Rocha', 'female', 'Lecturer', 'amanda.rocha@hotmail.com'], 188: ['188', 'Ritvik', 'Kant', 'male', 'Assistant Professor', 'ritvik.kant@yahoo.com'], 189: ['189', 'Trinidad', 'Gomis', 'female', 'Lecturer', 'trinidad.gomis@yahoo.com'], 190: ['190', 'Lars', 'Thomassen', 'male', 'Professor Emeritus', 'lars.thomassen@hotmail.com'], 191: ['191', 'Christian', 'Holm', 'male', 'Ph.D.', 'christian.holm@yahoo.com'], 192: ['192', 'Michael', 'Curry', 'male', 'Senior Teaching Fellow', 'michael.curry@yahoo.com'], 193: ['193', 'Divyansh', 'Sibal', 'male', 'TeachingFellow', 'divyansh.sibal@hotmail.com'], 194: ['194', 'Théophile', 'Gauthier', 'non binary', 'Associate Professor', 'théophile.gauthier@sfr.fr'], 195: ['195', 'Maarten', 'Totwiller', 'male', 'Lecturer', 'maarten.totwiller@gmail.com'], 196: ['196', 'Fatih', 'Ehlert', 'male', 'Professor Emeritus', 'fatih.ehlert@yahoo.de'], 197: ['197', 'Zaina', 'Rana', 'female', 'Professor', 'zaina.rana@gmail.com'], 198: ['198', 'Nicole', 'Griffiths', 'female', 'Professor', 'nicole.griffiths@gmail.com'], 199: ['199', 'Laura', 'Thomas', 'non binary', 'Ph.D.', 'laura.thomas@gmail.com'], 200: ['200', 'Isabel', 'van Beaumont', 'non binary', 'Ph.D.', 'isabel.van beaumont@gmail.com'], 201: ['201', 'Anay', 'Apte', 'male', 'Professor', 'anay.apte@gmail.com'], 202: ['202', 'Ariana', 'Kiška', 'female', 'Professor Emeritus', 'ariana.kiška@gmail.com'], 203: ['203', 'Ragnhild', 'Hellström', 'female', 'Associate Professor', 'ragnhild.hellström@live.se'], 204: ['204', 'Tara', 'Swaminathan', 'non binary', 'TeachingFellow', 'tara.swaminathan@gmail.com'], 205: ['205', 'Nermin', 'Gnatz', 'non binary', 'Ph.D.', 'nermin.gnatz@googlemail.com'], 206: ['206', 'Hege', 'Nielsen', 'female', 'Ph.D.', 'hege.nielsen@yahoo.com'], 207: ['207', 'Nedas', 'Kaupas', 'male', 'Assistant Professor', 'nedas.kaupas@yahoo.com'], 208: ['208', 'Jaylinn', 'Ehlert', 'female', 'Senior Lecturer', 'jaylinn.ehlert@yahoo.com'], 209: ['209', 'Cauã', 'Nogueira', 'male', 'Assistant Professor', 'cauã.nogueira@gmail.com'], 210: ['210', 'Dhanuk', 'Ramaswamy', 'female', 'Assistant Professor', 'dhanuk.ramaswamy@yahoo.com'], 211: ['211', 'Dovydas', 'Gailius', 'male', 'Associate Professor', 'dovydas.gailius@gmail.com'], 212: ['212', 'Nehmat', 'Chand', 'male', 'Lecturer', 'nehmat.chand@gmail.com'], 213: ['213', 'Stuvan', 'Samra', 'male', 'Assistant Professor', 'stuvan.samra@yahoo.com'], 214: ['214', 'Jan', 'Berg', 'male', 'Senior Lecturer', 'jan.berg@swipnet.se'], 215: ['215', 'Teun', 'Lafleur', 'male', 'Senior Teaching Fellow', 'teun.lafleur@gmail.com'], 216: ['216', 'Hildburg', 'Ruppert', 'female', 'Professor Emeritus', 'hildburg.ruppert@yahoo.de'], 217: ['217', 'Iain', 'Price', 'male', 'Lecturer', 'iain.price@outlook.com'], 218: ['218', 'Siya', 'Rama', 'non binary', 'Professor Emeritus', 'siya.rama@yahoo.com'], 219: ['219', 'Renato', 'Nascimento', 'male', 'Senior Lecturer', 'renato.nascimento@hotmail.com'], 220: ['220', 'Adriana', 'Förster', 'female', 'Researcher', 'adriana.förster@web.de'], 221: ['221', 'Tandoğdu', 'Durmuş', 'male', 'Lecturer', 'tandoğdu.durmuş@hotmail.com'], 222: ['222', 'Cécile', 'Bouvier', 'female', 'Professor', 'cécile.bouvier@bouygtel.fr'], 223: ['223', 'Adira', 'Golla', 'male', 'Professor', 'adira.golla@yahoo.com'], 224: ['224', 'Erdal', 'Zobel', 'male', 'Assistant Professor', 'erdal.zobel@gmx.de'], 225: ['225', 'Irmantas', 'Sakalauskas', 'male', 'Senior Teaching Fellow', 'irmantas.sakalauskas@yahoo.com'], 226: ['226', 'Lena', 'Röhrdanz', 'female', 'Senior Lecturer', 'lena.röhrdanz@web.de'], 227: ['227', 'Ingegerd', 'Jönsson', 'female', 'Associate Professor', 'ingegerd.jönsson@swipnet.se'], 228: ['228', 'Gianni', 'Babati', 'male', 'Professor Emeritus', 'gianni.babati@virgilio.it'], 229: ['229', 'Brian', 'Rasmussen', 'male', 'Lecturer', 'brian.rasmussen@yahoo.com'], 230: ['230', 'Kristin', 'Roht', 'female', 'Senior Lecturer', 'kristin.roht@gmail.com'], 231: ['231', 'Arne', 'Gustafsson', 'male', 'Assistant Professor', 'arne.gustafsson@googlemail.com'], 232: ['232', 'Maria', 'Larsson', 'female', 'Professor Emeritus', 'maria.larsson@live.se'], 233: ['233', 'Christopher', 'Nguyen', 'non binary', 'Professor Emeritus', 'christopher.nguyen@yahoo.com'], 234: ['234', 'Adelinde', 'Vollbrecht', 'non binary', 'Professor', 'adelinde.vollbrecht@googlemail.com'], 235: ['235', 'Mindaugas', 'Narušis', 'male', 'Senior Teaching Fellow', 'mindaugas.narušis@gmail.com'], 236: ['236', 'Esmée', 'Ketting', 'female', 'Ph.D.', 'esmée.ketting@hotmail.com'], 237: ['237', 'Giedrė', 'Paulauskas', 'male', 'Lecturer', 'giedrė.paulauskas@hotmail.com'], 238: ['238', 'Henrique', 'Ferreira', 'male', 'Assistant Professor', 'henrique.ferreira@clix.pt'], 239: ['239', 'Christopher', 'Haynes', 'male', 'Ph.D.', 'christopher.haynes@hotmail.com'], 240: ['240', 'Lucas Gabriel', 'Castro', 'male', 'Ph.D.', 'lucas gabriel.castro@bol.com.br'], 241: ['241', 'Lėja', 'Gagys', 'female', 'Professor Emeritus', 'lėja.gagys@yahoo.com'], 242: ['242', 'Hazel', 'Warrior', 'male', 'Professor', 'hazel.warrior@yahoo.com'], 243: ['243', 'Aušra', 'Kairys', 'male', 'Professor', 'aušra.kairys@yahoo.com'], 244: ['244', 'Henry', 'Waller', 'male', 'Senior Teaching Fellow', 'henry.waller@hotmail.com'], 245: ['245', 'Stacey', 'Scott', 'female', 'Senior Lecturer', 'stacey.scott@yahoo.co.uk'], 246: ['246', 'Amanda', 'Caldeira', 'female', 'Ph.D.', 'amanda.caldeira@hotmail.com'], 247: ['247', 'Azucena', 'Ferrer', 'female', 'Ph.D.', 'azucena.ferrer@yahoo.com'], 248: ['248', 'Bianca', 'Manolesso', 'female', 'Professor', 'bianca.manolesso@virgilio.it'], 249: ['249', 'Stephen', 'Cooper', 'male', 'TeachingFellow', 'stephen.cooper@gmail.com'], 250: ['250', 'Uno', 'Karlsson', 'male', 'Senior Teaching Fellow', 'uno.karlsson@telia.com'], 251: ['251', 'Victória', 'Mota', 'female', 'Associate Professor', 'victória.mota@clix.pt'], 252: ['252', 'Behrem', 'Türk', 'male', 'Senior Teaching Fellow', 'behrem.türk@outlook.com'], 253: ['253', 'Ângelo', 'Costa', 'male', 'Ph.D.', 'ângelo.costa@clix.pt'], 254: ['254', 'Elise', 'Simonsen', 'female', 'Senior Lecturer', 'elise.simonsen@yahoo.com'], 255: ['255', 'Nihan', 'Öcalan', 'female', 'Associate Professor', 'nihan.öcalan@hotmail.com'], 256: ['256', 'Bünyamün', 'Dumanlı', 'male', 'Lecturer', 'bünyamün.dumanlı@outlook.com'], 257: ['257', 'Kopan', 'Güçlü', 'male', 'Assistant Professor', 'kopan.güçlü@yahoo.com'], 258: ['258', 'Esther', 'Melo', 'female', 'Assistant Professor', 'esther.melo@yahoo.com.br'], 259: ['259', 'Eva', 'Jonsson', 'female', 'Lecturer', 'eva.jonsson@yahoo.de'], 260: ['260', 'Antonello', 'Valmarana', 'male', 'Professor Emeritus', 'antonello.valmarana@gmail.com'], 261: ['261', 'Rune', 'Lunde', 'male', 'Senior Teaching Fellow', 'rune.lunde@yahoo.com'], 262: ['262', 'Fito', 'Hierro', 'male', 'TeachingFellow', 'fito.hierro@yahoo.com'], 263: ['263', 'Raimundo', 'Pedrosa', 'male', 'Assistant Professor', 'raimundo.pedrosa@hotmail.com'], 264: ['264', 'Eivind', 'Pedersen', 'male', 'Assistant Professor', 'eivind.pedersen@yahoo.com'], 265: ['265', 'Luzia', 'Becker', 'female', 'Professor Emeritus', 'luzia.becker@gmail.com'], 266: ['266', 'Mindaugas', 'Sakalauskas', 'male', 'Lecturer', 'mindaugas.sakalauskas@gmail.com'], 267: ['267', 'Nina', 'Ødegård', 'female', 'Professor', 'nina.ødegård@hotmail.com'], 268: ['268', 'Silke', 'Kosten', 'female', 'Ph.D.', 'silke.kosten@gmail.com'], 269: ['269', 'Franka', 'Etzler', 'female', 'Researcher', 'franka.etzler@aol.de'], 270: ['270', 'Marcella', 'Altera', 'female', 'TeachingFellow', 'marcella.altera@alice.it'], 271: ['271', 'Chloé', 'Hekker', 'female', 'Researcher', 'chloé.hekker@gmail.com'], 272: ['272', 'Vera', 'Amaral', 'female', 'Professor', 'vera.amaral@gmail.com'], 273: ['273', 'Uno', 'Strand', 'male', 'TeachingFellow', 'uno.strand@yahoo.de'], 274: ['274', 'Brian', 'Crawford', 'male', 'Researcher', 'brian.crawford@hotmail.com'], 275: ['275', 'Salkın', 'Eraslan', 'male', 'Associate Professor', 'salkın.eraslan@hotmail.com'], 276: ['276', 'Elena', 'Gritti', 'female', 'Professor', 'elena.gritti@yahoo.com'], 277: ['277', 'Thibaut', 'Huet', 'male', 'Assistant Professor', 'thibaut.huet@live.com'], 278: ['278', 'Aurore', 'Olivier', 'female', 'Professor', 'aurore.olivier@ifrance.com'], 279: ['279', 'Márcio', 'Cunha', 'male', 'Associate Professor', 'márcio.cunha@clix.pt'], 280: ['280', 'Maria', 'Passalacqua', 'non binary', 'Senior Lecturer', 'maria.passalacqua@libero.it'], 281: ['281', 'Joel', 'Figueiredo', 'male', 'Lecturer', 'joel.figueiredo@clix.pt'], 282: ['282', 'Ole', 'Henk', 'male', 'TeachingFellow', 'ole.henk@gmx.de'], 283: ['283', 'Terje', 'Gulbrandsen', 'male', 'Professor Emeritus', 'terje.gulbrandsen@gmail.com'], 284: ['284', 'Zoya', 'Tara', 'non binary', 'Professor', 'zoya.tara@gmail.com'], 285: ['285', 'Bernhard', 'Schmiedt', 'male', 'Researcher', 'bernhard.schmiedt@yahoo.de'], 286: ['286', 'Roland', 'Blanc', 'male', 'Ph.D.', 'roland.blanc@hotmail.fr'], 287: ['287', 'Vera', 'Amaral', 'non binary', 'Assistant Professor', 'vera.amaral@hotmail.com'], 288: ['288', 'Socorro', 'Sanmiguel', 'female', 'Assistant Professor', 'socorro.sanmiguel@yahoo.com'], 289: ['289', 'Margot', 'Lemaître', 'female', 'Associate Professor', 'margot.lemaître@sfr.fr'], 290: ['290', 'Sigrid', 'Sandvik', 'female', 'Professor', 'sigrid.sandvik@gmail.com'], 291: ['291', 'Bertil', 'Karlsson', 'male', 'TeachingFellow', 'bertil.karlsson@googlemail.com'], 292: ['292', 'Mick', 'Blom', 'male', 'Assistant Professor', 'mick.blom@gmail.com'], 293: ['293', 'Arūnas', 'Nagys', 'male', 'TeachingFellow', 'arūnas.nagys@yahoo.com'], 294: ['294', 'Vittoria', 'Salvemini', 'female', 'Professor Emeritus', 'vittoria.salvemini@tiscali.it'], 295: ['295', 'Daniela', 'Abreu', 'female', 'Professor Emeritus', 'daniela.abreu@gmail.com'], 296: ['296', 'Gudrun', 'Nilsson', 'female', 'Professor', 'gudrun.nilsson@spray.se'], 297: ['297', 'Goran', 'Reising', 'male', 'Researcher', 'goran.reising@yahoo.de'], 298: ['298', 'Lucas Gabriel', 'da Mata', 'male', 'Professor Emeritus', 'lucas gabriel.da mata@bol.com.br'], 299: ['299', 'Erin', 'Scott', 'female', 'Assistant Professor', 'erin.scott@gmail.com'], 300: ['300', 'Çevregül', 'Manço', 'female', 'Assistant Professor', 'çevregül.manço@hotmail.com']}\n"
     ]
    }
   ],
   "source": [
    "print(instructorDict)"
   ]
  },
  {
   "cell_type": "code",
   "execution_count": 55,
   "id": "81faffa5",
   "metadata": {},
   "outputs": [],
   "source": [
    "newInstructorDict = dict()\n",
    "for key in instructorDict[0]:\n",
    "    newInstructorDict[key] = list()\n",
    "for i in range(1, len(instructorDict)):\n",
    "    newInstructorDict['instructorID'].append(int(instructorDict[i][0]))\n",
    "    newInstructorDict['firstName'].append(instructorDict[i][1])\n",
    "    newInstructorDict['lastName'].append(instructorDict[i][2])\n",
    "    newInstructorDict['genre'].append(instructorDict[i][3])\n",
    "    newInstructorDict['role'].append(instructorDict[i][4])\n",
    "    newInstructorDict['email'].append(instructorDict[i][5])"
   ]
  },
  {
   "cell_type": "markdown",
   "id": "cc75a62f",
   "metadata": {},
   "source": [
    "<h3>\n",
    "Print out the result (a small sample)\n",
    "</h3>"
   ]
  },
  {
   "cell_type": "code",
   "execution_count": 56,
   "id": "a6826323",
   "metadata": {},
   "outputs": [
    {
     "name": "stdout",
     "output_type": "stream",
     "text": [
      "iID    firstName        lastName         genre       role                  email\n",
      "1      Sophie           da Luz           female      Lecturer              sophie.da luz@bol.com.br\n",
      "2      Brett            Cameron          male        Ph.D.                 brett.cameron@hotmail.com\n",
      "3      Bryan            Miranda          male        Ph.D.                 bryan.miranda@hotmail.com\n",
      "4      Rosendo          Tirado           male        Professor             rosendo.tirado@yahoo.com\n",
      "5      Aarna            Yogi             female      Assistant Professo    aarna.yogi@hotmail.com\n",
      "6      Stig             Halvorsen        male        TeachingFellow        stig.halvorsen@yahoo.com\n",
      "7      Lavínia          Cardoso          female      Ph.D.                 lavínia.cardoso@bol.com.br\n",
      "8      Synnøve          Engen            female      Professor Emeritus    synnøve.engen@gmail.com\n",
      "9      Riya             Saha             male        Lecturer              riya.saha@hotmail.com\n",
      "10     Balca            Soylu            female      Researcher            balca.soylu@hotmail.com\n",
      "11     Samaira          Char             non binary  Senior Teaching Fe    samaira.char@yahoo.com\n",
      "12     Anay             Karpe            female      Assistant Professo    anay.karpe@hotmail.com\n",
      "13     Henrique         da Rocha         male        Senior Teaching Fe    henrique.da rocha@ig.com.br\n",
      "14     Théophile        Ferreira         male        Ph.D.                 théophile.ferreira@bouygtel.fr\n",
      "15     Traudl           Reising          female      Associate Professo    traudl.reising@gmx.de\n",
      "16     Eligio           Gallo            male        Lecturer              eligio.gallo@yahoo.com\n",
      "17     Jorunn           Andersen         female      Senior Teaching Fe    jorunn.andersen@gmail.com\n",
      "18     Lisa             Brunello         female      Assistant Professo    lisa.brunello@yahoo.com\n",
      "19     Dylan            Murphy           male        Senior Teaching Fe    dylan.murphy@yahoo.co.uk\n",
      "20     Edgar            Pinheiro         male        TeachingFellow        edgar.pinheiro@sapo.pt\n",
      "21     Ulf              Alm              non binary  Associate Professo    ulf.alm@telia.com\n",
      "22     Linda            Hodgson          female      Assistant Professo    linda.hodgson@yahoo.com\n",
      "23     Arnoldas         Kalvėnas         non binary  Ph.D.                 arnoldas.kalvėnas@hotmail.com\n",
      "24     Quinn            Persijn          male        TeachingFellow        quinn.persijn@hotmail.com\n",
      "25     Artemio          Gibert           male        Professor             artemio.gibert@gmail.com\n",
      "26     Petter           Svendsen         male        Lecturer              petter.svendsen@yahoo.com\n",
      "27     Hürüyet          Karadeniz        female      Senior Lecturer       hürüyet.karadeniz@gmail.com\n",
      "28     Olivie           Masse            female      Assistant Professo    olivie.masse@ifrance.com\n",
      "29     Oğuzman          Arslan           male        TeachingFellow        oğuzman.arslan@yahoo.com\n",
      "30     Renan            Nogueira         male        Senior Lecturer       renan.nogueira@hotmail.com\n",
      "31     Cameron          Bates            male        Ph.D.                 cameron.bates@hotmail.co.uk\n",
      "32     Pim              van der Laan     male        Associate Professo    pim.van der laan@yahoo.com\n",
      "33     Gustav           Karlsson         male        Senior Lecturer       gustav.karlsson@yahoo.de\n",
      "34     Justin           Singleton        male        Researcher            justin.singleton@hotmail.com\n",
      "35     Marisa           Wagenknecht      female      Assistant Professo    marisa.wagenknecht@gmail.com\n",
      "36     Angelo           Vergerio         male        Professor Emeritus    angelo.vergerio@virgilio.it\n",
      "37     Beth             Lewis            female      Ph.D.                 beth.lewis@outlook.com\n",
      "38     Gunilla          Persson          female      Senior Lecturer       gunilla.persson@gmail.com\n",
      "39     Susan            Eberth           female      Associate Professo    susan.eberth@googlemail.com\n",
      "40     Nick             Rehorst          male        Researcher            nick.rehorst@hotmail.com\n",
      "41     Enrika           Povilonis        male        Senior Lecturer       enrika.povilonis@gmail.com\n",
      "42     Ravi             de Bruijn        male        Lecturer              ravi.de bruijn@hotmail.com\n",
      "43     Grete            Strand           female      Associate Professo    grete.strand@gmail.com\n",
      "44     Thomas           Ortiz            male        Ph.D.                 thomas.ortiz@yahoo.com\n",
      "45     Boris            Zuijdveld        male        Researcher            boris.zuijdveld@hotmail.com\n",
      "46     Luigi            Souza            non binary  Senior Teaching Fe    luigi.souza@ig.com.br\n",
      "47     Riaan            Bora             female      Lecturer              riaan.bora@hotmail.com\n",
      "48     Juan             Nascimento       male        Assistant Professo    juan.nascimento@hotmail.com\n",
      "49     João Pedro       Souza            male        Assistant Professo    joão pedro.souza@uol.com.br\n",
      "50     Eric             Santos           male        Lecturer              eric.santos@yahoo.com\n",
      "[...]\n"
     ]
    }
   ],
   "source": [
    "# 50 elements from each list\n",
    "print('iID', ' ' * (5 - len('iID')), 'firstName', ' ' * (15 - len('firstName')), 'lastName', ' ' * (15 - len('lastName')), 'genre', ' ' * (10 - len('genre')), 'role', ' ' * (20 - len('role')), 'email')\n",
    "for i in range(0, 50):\n",
    "    iID = newInstructorDict['instructorID'][i]\n",
    "    firstName = newInstructorDict['firstName'][i]\n",
    "    lastName = newInstructorDict['lastName'][i]\n",
    "    genre = newInstructorDict['genre'][i]\n",
    "    role = newInstructorDict['role'][i]\n",
    "    email = newInstructorDict['email'][i]\n",
    "    print(iID, ' ' * (5 - len(str(iID))), firstName, ' ' * (15 - len(firstName)), lastName, ' ' * (15 - len(lastName)), genre, ' ' * (10 - len(genre)), role[0 : 18], ' ' * (20 - len(role[0 : 18])), email[0 : 30])\n",
    "print('[...]')"
   ]
  },
  {
   "cell_type": "markdown",
   "id": "50de177f",
   "metadata": {},
   "source": [
    "<h3>\n",
    "Generate fake teaching data\n",
    "</h3><br>\n",
    "In my idea, it is realistic to think that a course has at least 2 instructors, but no more than 5. However, each instructor is associated to a course category (discipline). If she teaches IT, she cannot teach medicine, or humanities. <br> To mimic a situation like that I first ckeck how many courses there are for each distinct category and build a category frequency. It is to be noted that each course is confirmed for two different years, hence I add 0.5 instead of 1 for counting courses."
   ]
  },
  {
   "cell_type": "code",
   "execution_count": 57,
   "id": "d2b870f8",
   "metadata": {},
   "outputs": [
    {
     "name": "stdout",
     "output_type": "stream",
     "text": [
      "There are 10 course categories / disciplines.\n",
      "There are 32 courses in the miscellaneous category / discipline\n",
      "There are 57 courses in the IT category / discipline\n",
      "There are 9 courses in the statistics category / discipline\n",
      "There are 45 courses in the economics and management category / discipline\n",
      "There are 7 courses in the maths category / discipline\n",
      "There are 25 courses in the psychology category / discipline\n",
      "There are 27 courses in the languages category / discipline\n",
      "There are 11 courses in the medicine category / discipline\n",
      "There are 13 courses in the sciences category / discipline\n",
      "There are 14 courses in the humanities category / discipline\n",
      "There is a total of 240 courses.\n",
      "Courses in the miscellaneous category / discipline have a frequency of 13.3 %\n",
      "Courses in the IT category / discipline have a frequency of 23.8 %\n",
      "Courses in the statistics category / discipline have a frequency of 3.8 %\n",
      "Courses in the economics and management category / discipline have a frequency of 18.8 %\n",
      "Courses in the maths category / discipline have a frequency of 2.9 %\n",
      "Courses in the psychology category / discipline have a frequency of 10.4 %\n",
      "Courses in the languages category / discipline have a frequency of 11.2 %\n",
      "Courses in the medicine category / discipline have a frequency of 4.6 %\n",
      "Courses in the sciences category / discipline have a frequency of 5.4 %\n",
      "Courses in the humanities category / discipline have a frequency of 5.8 %\n"
     ]
    }
   ],
   "source": [
    "# list of distinct categories/disciplines\n",
    "catList = list(set(newCourseDict['discipline']))\n",
    "\n",
    "# number of courses per category/discipline\n",
    "catDict = dict()\n",
    "for category in catList:\n",
    "    catDict[category] = 0\n",
    "for category in catList:\n",
    "        for courseCategory in newCourseDict['discipline']:\n",
    "            if category == courseCategory:\n",
    "                catDict[category] += .5\n",
    "print('There are', len(catList), 'course categories / disciplines.')\n",
    "for category, number in catDict.items():\n",
    "    print('There are', int(number), 'courses in the', category, 'category / discipline')\n",
    "\n",
    "# total courses\n",
    "tot = 0\n",
    "for number in catDict.values():\n",
    "    tot += int(number)\n",
    "print('There is a total of', tot, 'courses.')\n",
    "\n",
    "# frequency of courses per category\n",
    "freqDict = dict()\n",
    "for category, number in catDict.items():\n",
    "    freqDict[category] = round((number / tot) * 100, 1)\n",
    "for category, frequency in freqDict.items():\n",
    "    print('Courses in the', category, 'category / discipline have a frequency of', frequency, '%')"
   ]
  },
  {
   "cell_type": "markdown",
   "id": "096993e9",
   "metadata": {},
   "source": [
    "I build a new list of categories to mimic the frequency in which they appear in the dataset. Since there are exactly 10 categories / disciplines, it is sufficient to multiply each of them by their frequency to build a new balanced list where each category / discipline appears for the right frequency."
   ]
  },
  {
   "cell_type": "code",
   "execution_count": 58,
   "id": "58b96290",
   "metadata": {},
   "outputs": [
    {
     "name": "stdout",
     "output_type": "stream",
     "text": [
      "['miscellaneous', 'miscellaneous', 'miscellaneous', 'miscellaneous', 'miscellaneous', 'miscellaneous', 'miscellaneous', 'miscellaneous', 'miscellaneous', 'miscellaneous', 'miscellaneous', 'miscellaneous', 'miscellaneous', 'IT', 'IT', 'IT', 'IT', 'IT', 'IT', 'IT', 'IT', 'IT', 'IT', 'IT', 'IT', 'IT', 'IT', 'IT', 'IT', 'IT', 'IT', 'IT', 'IT', 'IT', 'IT', 'IT', 'IT', 'statistics', 'statistics', 'statistics', 'statistics', 'economics and management', 'economics and management', 'economics and management', 'economics and management', 'economics and management', 'economics and management', 'economics and management', 'economics and management', 'economics and management', 'economics and management', 'economics and management', 'economics and management', 'economics and management', 'economics and management', 'economics and management', 'economics and management', 'economics and management', 'economics and management', 'economics and management', 'maths', 'maths', 'maths', 'psychology', 'psychology', 'psychology', 'psychology', 'psychology', 'psychology', 'psychology', 'psychology', 'psychology', 'psychology', 'languages', 'languages', 'languages', 'languages', 'languages', 'languages', 'languages', 'languages', 'languages', 'languages', 'languages', 'medicine', 'medicine', 'medicine', 'medicine', 'medicine', 'sciences', 'sciences', 'sciences', 'sciences', 'sciences', 'humanities', 'humanities', 'humanities', 'humanities', 'humanities', 'humanities']\n"
     ]
    }
   ],
   "source": [
    "freqCatList = list()\n",
    "for category, value in freqDict.items():\n",
    "    for i in range(0, int(round(value, 0))):\n",
    "        freqCatList.append(category)\n",
    "print(freqCatList)"
   ]
  },
  {
   "cell_type": "markdown",
   "id": "1fb62baf",
   "metadata": {},
   "source": [
    "Instructors are attached a category by sampling from the new category list. Since categories are represented according to their frequency, by sampling I should be able to distribute instructors to disciplines in accordance to the frequency in which a discipline is represented in the course list."
   ]
  },
  {
   "cell_type": "code",
   "execution_count": 59,
   "id": "39485930",
   "metadata": {},
   "outputs": [
    {
     "name": "stdout",
     "output_type": "stream",
     "text": [
      "1 maths\n",
      "2 economics and management\n",
      "3 IT\n",
      "4 IT\n",
      "5 psychology\n",
      "6 IT\n",
      "7 humanities\n",
      "8 IT\n",
      "9 psychology\n",
      "10 economics and management\n",
      "11 economics and management\n",
      "12 miscellaneous\n",
      "13 languages\n",
      "14 psychology\n",
      "15 languages\n",
      "16 IT\n",
      "17 IT\n",
      "18 IT\n",
      "19 economics and management\n",
      "20 humanities\n",
      "21 economics and management\n",
      "22 economics and management\n",
      "23 languages\n",
      "24 medicine\n",
      "25 economics and management\n",
      "26 miscellaneous\n",
      "27 sciences\n",
      "28 statistics\n",
      "29 languages\n",
      "30 languages\n",
      "31 economics and management\n",
      "32 economics and management\n",
      "33 medicine\n",
      "34 languages\n",
      "35 IT\n",
      "36 IT\n",
      "37 statistics\n",
      "38 medicine\n",
      "39 IT\n",
      "40 IT\n",
      "41 psychology\n",
      "42 maths\n",
      "43 statistics\n",
      "44 medicine\n",
      "45 IT\n",
      "46 economics and management\n",
      "47 languages\n",
      "48 IT\n",
      "49 economics and management\n",
      "50 IT\n",
      "51 IT\n",
      "52 IT\n",
      "53 psychology\n",
      "54 IT\n",
      "55 economics and management\n",
      "56 psychology\n",
      "57 miscellaneous\n",
      "58 economics and management\n",
      "59 economics and management\n",
      "60 psychology\n",
      "61 maths\n",
      "62 economics and management\n",
      "63 maths\n",
      "64 psychology\n",
      "65 humanities\n",
      "66 languages\n",
      "67 miscellaneous\n",
      "68 miscellaneous\n",
      "69 economics and management\n",
      "70 IT\n",
      "71 IT\n",
      "72 IT\n",
      "73 economics and management\n",
      "74 economics and management\n",
      "75 medicine\n",
      "76 miscellaneous\n",
      "77 IT\n",
      "78 languages\n",
      "79 economics and management\n",
      "80 sciences\n",
      "81 economics and management\n",
      "82 IT\n",
      "83 statistics\n",
      "84 medicine\n",
      "85 miscellaneous\n",
      "86 sciences\n",
      "87 languages\n",
      "88 economics and management\n",
      "89 statistics\n",
      "90 medicine\n",
      "91 economics and management\n",
      "92 IT\n",
      "93 IT\n",
      "94 IT\n",
      "95 IT\n",
      "96 IT\n",
      "97 miscellaneous\n",
      "98 economics and management\n",
      "99 miscellaneous\n",
      "100 economics and management\n",
      "101 humanities\n",
      "102 medicine\n",
      "103 humanities\n",
      "104 IT\n",
      "105 miscellaneous\n",
      "106 psychology\n",
      "107 miscellaneous\n",
      "108 economics and management\n",
      "109 sciences\n",
      "110 statistics\n",
      "111 miscellaneous\n",
      "112 economics and management\n",
      "113 economics and management\n",
      "114 psychology\n",
      "115 languages\n",
      "116 economics and management\n",
      "117 miscellaneous\n",
      "118 languages\n",
      "119 IT\n",
      "120 IT\n",
      "121 IT\n",
      "122 economics and management\n",
      "123 sciences\n",
      "124 IT\n",
      "125 languages\n",
      "126 IT\n",
      "127 miscellaneous\n",
      "128 IT\n",
      "129 IT\n",
      "130 economics and management\n",
      "131 medicine\n",
      "132 statistics\n",
      "133 maths\n",
      "134 IT\n",
      "135 economics and management\n",
      "136 economics and management\n",
      "137 humanities\n",
      "138 IT\n",
      "139 IT\n",
      "140 languages\n",
      "141 sciences\n",
      "142 sciences\n",
      "143 economics and management\n",
      "144 IT\n",
      "145 languages\n",
      "146 economics and management\n",
      "147 psychology\n",
      "148 languages\n",
      "149 miscellaneous\n",
      "150 humanities\n",
      "151 medicine\n",
      "152 miscellaneous\n",
      "153 medicine\n",
      "154 medicine\n",
      "155 languages\n",
      "156 miscellaneous\n",
      "157 languages\n",
      "158 languages\n",
      "159 economics and management\n",
      "160 psychology\n",
      "161 maths\n",
      "162 psychology\n",
      "163 languages\n",
      "164 humanities\n",
      "165 economics and management\n",
      "166 economics and management\n",
      "167 psychology\n",
      "168 IT\n",
      "169 medicine\n",
      "170 statistics\n",
      "171 statistics\n",
      "172 economics and management\n",
      "173 IT\n",
      "174 psychology\n",
      "175 psychology\n",
      "176 economics and management\n",
      "177 psychology\n",
      "178 IT\n",
      "179 maths\n",
      "180 economics and management\n",
      "181 economics and management\n",
      "182 maths\n",
      "183 psychology\n",
      "184 miscellaneous\n",
      "185 medicine\n",
      "186 statistics\n",
      "187 economics and management\n",
      "188 humanities\n",
      "189 miscellaneous\n",
      "190 IT\n",
      "191 economics and management\n",
      "192 humanities\n",
      "193 maths\n",
      "194 sciences\n",
      "195 economics and management\n",
      "196 humanities\n",
      "197 IT\n",
      "198 IT\n",
      "199 IT\n",
      "200 humanities\n",
      "201 medicine\n",
      "202 economics and management\n",
      "203 IT\n",
      "204 languages\n",
      "205 IT\n",
      "206 economics and management\n",
      "207 languages\n",
      "208 economics and management\n",
      "209 economics and management\n",
      "210 miscellaneous\n",
      "211 sciences\n",
      "212 economics and management\n",
      "213 languages\n",
      "214 economics and management\n",
      "215 IT\n",
      "216 statistics\n",
      "217 languages\n",
      "218 sciences\n",
      "219 miscellaneous\n",
      "220 miscellaneous\n",
      "221 miscellaneous\n",
      "222 economics and management\n",
      "223 economics and management\n",
      "224 psychology\n",
      "225 languages\n",
      "226 statistics\n",
      "227 IT\n",
      "228 IT\n",
      "229 IT\n",
      "230 IT\n",
      "231 languages\n",
      "232 humanities\n",
      "233 sciences\n",
      "234 miscellaneous\n",
      "235 languages\n",
      "236 economics and management\n",
      "237 miscellaneous\n",
      "238 IT\n",
      "239 humanities\n",
      "240 psychology\n",
      "241 economics and management\n",
      "242 sciences\n",
      "243 economics and management\n",
      "244 miscellaneous\n",
      "245 psychology\n",
      "246 psychology\n",
      "247 miscellaneous\n",
      "248 maths\n",
      "249 psychology\n",
      "250 miscellaneous\n",
      "251 IT\n",
      "252 humanities\n",
      "253 IT\n",
      "254 IT\n",
      "255 statistics\n",
      "256 languages\n",
      "257 languages\n",
      "258 psychology\n",
      "259 maths\n",
      "260 miscellaneous\n",
      "261 economics and management\n",
      "262 medicine\n",
      "263 IT\n",
      "264 languages\n",
      "265 IT\n",
      "266 humanities\n",
      "267 medicine\n",
      "268 maths\n",
      "269 languages\n",
      "270 psychology\n",
      "271 humanities\n",
      "272 miscellaneous\n",
      "273 economics and management\n",
      "274 economics and management\n",
      "275 miscellaneous\n",
      "276 languages\n",
      "277 IT\n",
      "278 languages\n",
      "279 psychology\n",
      "280 IT\n",
      "281 IT\n",
      "282 maths\n",
      "283 languages\n",
      "284 psychology\n",
      "285 languages\n",
      "286 statistics\n",
      "287 economics and management\n",
      "288 IT\n",
      "289 IT\n",
      "290 sciences\n",
      "291 miscellaneous\n",
      "292 medicine\n",
      "293 economics and management\n",
      "294 IT\n",
      "295 IT\n",
      "296 IT\n",
      "297 miscellaneous\n",
      "298 psychology\n",
      "299 IT\n",
      "300 miscellaneous\n"
     ]
    }
   ],
   "source": [
    "instructorCategory = {'id' : list(), 'cat' : list()}\n",
    "for instructor in newInstructorDict['instructorID']:\n",
    "    instructorCategory['id'].append(instructor)\n",
    "    instructorCategory['cat'].append(sample(freqCatList, 1)[0])\n",
    "\n",
    "# print result\n",
    "for instID, cat in zip(instructorCategory['id'], instructorCategory['cat']):\n",
    "    print(instID, cat)"
   ]
  },
  {
   "cell_type": "markdown",
   "id": "d8c8a04e",
   "metadata": {},
   "source": [
    "The check in the following cell is very important because, since I will sample a minimum of two instructors and a maximum of 5 instructors for each course, if the number of instructors for discipline is less than 5 (this typically happens for maths frequently enough to be a problem) it is likely that for a specific course I will not have enough instructors and an error will be generated (the error will be fired in the third cell after the present one)."
   ]
  },
  {
   "cell_type": "code",
   "execution_count": 60,
   "id": "9abde58d",
   "metadata": {},
   "outputs": [
    {
     "name": "stdout",
     "output_type": "stream",
     "text": [
      "Instructors per discipline:\n",
      "discipline:              miscellaneous  ->  instructors:  34\n",
      "discipline:                         IT  ->  instructors:  68\n",
      "discipline:                 statistics  ->  instructors:  14\n",
      "discipline:   economics and management  ->  instructors:  60\n",
      "discipline:                      maths  ->  instructors:  13\n",
      "discipline:                 psychology  ->  instructors:  28\n",
      "discipline:                  languages  ->  instructors:  35\n",
      "discipline:                   medicine  ->  instructors:  18\n",
      "discipline:                   sciences  ->  instructors:  13\n",
      "discipline:                 humanities  ->  instructors:  17\n",
      "                            Total number of instructors: 300\n"
     ]
    }
   ],
   "source": [
    "# print instructors per category\n",
    "instCatDict = dict()\n",
    "for cat in catList:\n",
    "    instCatDict[cat] = 0\n",
    "\n",
    "instSum = 0\n",
    "for cat in instCatDict.keys():\n",
    "    for k, v in zip(instructorCategory['id'], instructorCategory['cat']):\n",
    "        if v == cat:\n",
    "            instCatDict[cat] += 1\n",
    "\n",
    "print('Instructors per discipline:')\n",
    "for k, v in instCatDict.items():\n",
    "    instSum += v\n",
    "    print('discipline:', ' ' * (25 - len(k)), k, ' -> ', 'instructors:', ' ' * (2 - len(str(v))), v)\n",
    "print(' ' * 27, 'Total number of instructors:', instSum)"
   ]
  },
  {
   "cell_type": "markdown",
   "id": "019a2807",
   "metadata": {},
   "source": [
    "Finally I build the <i>teaching</i> table by assigning instructors to courses if the course category matches the instructor category. Each course has at least two instructors, but no more than 5 and an instructor cannot teach in a course if the course category is different from the instructor category (where category stands for discipline/subject)."
   ]
  },
  {
   "cell_type": "code",
   "execution_count": 61,
   "id": "dd792203",
   "metadata": {},
   "outputs": [],
   "source": [
    "for courseID, category in zip(newCourseDict['courseID'], newCourseDict['discipline']):\n",
    "    instructorSample = list(newInstructorDict['instructorID'])\n",
    "    i = 0\n",
    "    randomInstructors = randint(2, 5)\n",
    "    while i < randomInstructors:\n",
    "        instructor = sample(instructorSample, 1)[0]\n",
    "        instructorSample.remove(instructor)\n",
    "        for instructorID, instructorCat in zip(instructorCategory['id'], instructorCategory['cat']):\n",
    "            if instructor == instructorID and category == instructorCat:\n",
    "                teachingDict['course'].append(courseID)\n",
    "                teachingDict['instructor'].append(instructor)\n",
    "                i += 1"
   ]
  },
  {
   "cell_type": "code",
   "execution_count": 62,
   "id": "dd61bf9c",
   "metadata": {},
   "outputs": [
    {
     "name": "stdout",
     "output_type": "stream",
     "text": [
      "164 290\n",
      "166 290\n",
      "168 290\n",
      "172 290\n",
      "403 290\n",
      "405 290\n",
      "411 290\n",
      "413 290\n"
     ]
    }
   ],
   "source": [
    "for course, instructor in zip(teachingDict['course'], teachingDict['instructor']):\n",
    "    if instructor == 290:\n",
    "        print(course, instructor)"
   ]
  },
  {
   "cell_type": "code",
   "execution_count": 63,
   "id": "923f6046",
   "metadata": {},
   "outputs": [
    {
     "name": "stdout",
     "output_type": "stream",
     "text": [
      "instructor ID: 290 - instructor category: sciences\n"
     ]
    }
   ],
   "source": [
    "# check 1\n",
    "for k, v in zip(instructorCategory['id'], instructorCategory['cat']):\n",
    "    if k == 290:\n",
    "        print('instructor ID:', k, '-', 'instructor category:', v)"
   ]
  },
  {
   "cell_type": "code",
   "execution_count": 65,
   "id": "1f8bbf6b",
   "metadata": {},
   "outputs": [
    {
     "name": "stdout",
     "output_type": "stream",
     "text": [
      "course ID: 162 - course category: sciences\n",
      "course ID: 163 - course category: sciences\n",
      "course ID: 164 - course category: sciences\n",
      "course ID: 165 - course category: sciences\n",
      "course ID: 166 - course category: sciences\n",
      "course ID: 167 - course category: sciences\n",
      "course ID: 168 - course category: sciences\n",
      "course ID: 169 - course category: sciences\n",
      "course ID: 170 - course category: sciences\n",
      "course ID: 171 - course category: sciences\n",
      "course ID: 172 - course category: sciences\n",
      "course ID: 173 - course category: sciences\n",
      "course ID: 174 - course category: sciences\n",
      "course ID: 402 - course category: sciences\n",
      "course ID: 403 - course category: sciences\n",
      "course ID: 404 - course category: sciences\n",
      "course ID: 405 - course category: sciences\n",
      "course ID: 406 - course category: sciences\n",
      "course ID: 407 - course category: sciences\n",
      "course ID: 408 - course category: sciences\n",
      "course ID: 409 - course category: sciences\n",
      "course ID: 410 - course category: sciences\n",
      "course ID: 411 - course category: sciences\n",
      "course ID: 412 - course category: sciences\n",
      "course ID: 413 - course category: sciences\n",
      "course ID: 414 - course category: sciences\n"
     ]
    }
   ],
   "source": [
    "# check 2\n",
    "for k, v in zip(newCourseDict['courseID'], newCourseDict['discipline']):\n",
    "    if v == 'sciences':\n",
    "        print('course ID:', k, '-', 'course category:', v)"
   ]
  },
  {
   "cell_type": "code",
   "execution_count": 66,
   "id": "3c4b3472",
   "metadata": {},
   "outputs": [],
   "source": [
    "# save teaching table to csv file\n",
    "# with open(winPath + 'tables/teachingTable.csv', 'w', newline = '') as csvfile:\n",
    "with open(path + 'tables/teachingTable.csv', 'w', newline = '') as csvfile:\n",
    "    writer = csv.writer(csvfile)\n",
    "    keys = teachingDict.keys()\n",
    "    limit = len(teachingDict['course'])\n",
    "    \n",
    "    writer.writerow(keys)\n",
    "    for i in range(0, limit):\n",
    "        writer.writerow(teachingDict[k][i] for k in keys)"
   ]
  },
  {
   "cell_type": "code",
   "execution_count": null,
   "id": "d6ea8b22",
   "metadata": {},
   "outputs": [],
   "source": []
  }
 ],
 "metadata": {
  "kernelspec": {
   "display_name": "Python 3 (ipykernel)",
   "language": "python",
   "name": "python3"
  },
  "language_info": {
   "codemirror_mode": {
    "name": "ipython",
    "version": 3
   },
   "file_extension": ".py",
   "mimetype": "text/x-python",
   "name": "python",
   "nbconvert_exporter": "python",
   "pygments_lexer": "ipython3",
   "version": "3.10.8"
  }
 },
 "nbformat": 4,
 "nbformat_minor": 5
}

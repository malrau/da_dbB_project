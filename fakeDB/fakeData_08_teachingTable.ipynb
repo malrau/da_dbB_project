{
 "cells": [
  {
   "cell_type": "markdown",
   "id": "d47e548c",
   "metadata": {},
   "source": [
    "<h2>\n",
    "<center>\n",
    "TEACHING SCHEMA\n",
    "</center>\n",
    "</h2>"
   ]
  },
  {
   "cell_type": "markdown",
   "id": "8d9ea60f",
   "metadata": {},
   "source": [
    "<h3>\n",
    "Import required modules\n",
    "</h3>"
   ]
  },
  {
   "cell_type": "code",
   "execution_count": 1,
   "id": "cf12954a",
   "metadata": {},
   "outputs": [],
   "source": [
    "from faker import Faker\n",
    "from faker.providers import DynamicProvider\n",
    "from random import randint, sample\n",
    "import datetime\n",
    "import csv"
   ]
  },
  {
   "cell_type": "markdown",
   "id": "2f0ddec9",
   "metadata": {},
   "source": [
    "<h3>\n",
    "Define main path of the project (Windows/Mac) where the notebooks are located\n",
    "</h3>"
   ]
  },
  {
   "cell_type": "code",
   "execution_count": 2,
   "id": "97b19cd3",
   "metadata": {},
   "outputs": [],
   "source": [
    "# Windows\n",
    "#path = 'C:/Users/mzlarosa/OneDrive - unime.it/Learning/CdL Informatica/Anno II - Database/Module B/project/'\n",
    "\n",
    "# Mac\n",
    "path = '/Users/mau/OneDrive - unime.it/Learning/CdL Informatica/Anno II - Database/Module B/project/'"
   ]
  },
  {
   "cell_type": "code",
   "execution_count": 3,
   "id": "79367117",
   "metadata": {},
   "outputs": [],
   "source": [
    "# list of faker locales\n",
    "#fake = Faker(['de_DE', 'en_GB', 'en_US', 'es_ES', 'fr_FR', 'it_IT', 'nl_NL', 'no_NO', 'pt_BR', 'pt_PT', 'ru_RU'])\n",
    "localization = ['de_DE', 'en_GB', 'en_IN', 'en_US', 'es_ES', 'fr_FR', 'it_IT', 'lt_LT', 'nl_NL', 'no_NO', 'pt_BR', 'pt_PT', 'sv', 'tr']"
   ]
  },
  {
   "cell_type": "code",
   "execution_count": 4,
   "id": "9ec1fef7",
   "metadata": {},
   "outputs": [
    {
     "name": "stdout",
     "output_type": "stream",
     "text": [
      "[10, 5, 4, 9, 10, 7, 6, 4, 5, 6, 7, 10, 1, 10, 6, 9, 2, 2, 3, 1, 6, 4, 10, 1, 3, 5, 3, 2, 9, 1, 3, 6, 10, 9, 1, 5, 1, 3, 4, 2, 3, 9, 4, 8, 1, 4, 6, 3, 9, 6, 5, 3, 8, 9, 2, 7, 6, 1, 10, 8, 8, 3, 5, 4, 9, 4, 7, 9, 8, 6, 4, 5, 7, 1, 9, 2, 3, 1, 10, 9, 8, 2, 3, 8, 1, 2, 9, 1, 6, 5, 3, 8, 4, 5, 3, 4, 2, 5, 3, 10, 5, 6, 2, 8, 2, 3, 2, 9, 1, 5, 1, 9, 3, 8, 2, 1, 7, 3, 3, 1, 10, 3, 9, 7, 6, 2, 3, 9, 5, 9, 7, 9, 4, 2, 3, 3, 6, 3, 1, 3, 7, 1, 8, 10, 9, 1, 6, 1, 8, 2, 5, 10, 9, 8, 1, 1, 1, 9, 10, 6, 1, 2, 10, 4, 3, 9, 5, 3, 2, 2, 5, 9, 5, 7, 7, 8, 9, 1, 1, 2, 5, 1, 3, 6, 7, 1, 8, 5, 2, 4, 1, 2, 1, 5, 3, 5, 5, 4, 6, 10, 7, 1, 2, 1, 5, 7, 8, 3, 3, 3, 6, 3, 8, 7, 1, 5, 9, 3, 7, 9, 8, 7, 7, 3, 9, 7, 7, 3, 9, 6, 4, 1, 2, 1, 3, 8, 7, 9, 7, 9, 2, 6, 3, 2, 7, 1, 2, 10, 3, 1, 3, 9, 8, 6, 7, 10, 6, 7, 10, 8, 8, 9, 10, 7, 10, 5, 6, 6, 7, 10, 2, 2, 1, 8, 1, 10, 2, 8, 1, 10, 2, 5, 10, 6, 8, 8, 8, 8, 3, 7, 2, 5, 8, 5, 1, 1, 3, 10, 10, 5]\n"
     ]
    }
   ],
   "source": [
    "# create list of random integers (I need this to randomly select genre-related names and attach them the correct genre)\n",
    "randomIntegers = list()\n",
    "for i in range(0, 300):\n",
    "    randomIntegers.append(randint(1, 10))\n",
    "print(randomIntegers)"
   ]
  },
  {
   "cell_type": "markdown",
   "id": "3acd9983",
   "metadata": {},
   "source": [
    "<h3>\n",
    "Create a dictionary of empty lists, where the keys are the attribute names\n",
    "</h3>"
   ]
  },
  {
   "cell_type": "code",
   "execution_count": 5,
   "id": "9095e65e",
   "metadata": {},
   "outputs": [],
   "source": [
    "teachingSchema = ['course', 'instructor']\n",
    "teachingDict = dict()\n",
    "for attribute in teachingSchema:\n",
    "    teachingDict[attribute] = list()"
   ]
  },
  {
   "cell_type": "markdown",
   "id": "1cf9e573",
   "metadata": {},
   "source": [
    "<h3>\n",
    "Load course table\n",
    "</h3><br>\n",
    "The <i>teaching</i> table stores course and instructor IDs. Hence I need to load course and instructor data from the respective tables. In the following code block I load the course table and store its data into a dictionary where the keys are the course attribute names and the values are lists with actual data."
   ]
  },
  {
   "cell_type": "code",
   "execution_count": 6,
   "id": "39e4d2c1",
   "metadata": {},
   "outputs": [],
   "source": [
    "courseDict = dict()\n",
    "key = 0\n",
    "with open(path + 'tables/coursesTable.csv', newline = '', encoding = 'UTF-16') as csvCourses:\n",
    "    reader = csv.reader(csvCourses, delimiter = ',')\n",
    "    for line in reader:\n",
    "        courseDict[key] = line\n",
    "        key += 1"
   ]
  },
  {
   "cell_type": "code",
   "execution_count": 7,
   "id": "73d8a182",
   "metadata": {},
   "outputs": [
    {
     "name": "stdout",
     "output_type": "stream",
     "text": [
      "{0: ['courseID', 'discipline', 'courseName', 'courseYear', 'syllabus'], 1: ['1', 'IT', 'Introduction to the Internet of Things and Embedded Systems ', '2022', 'http://learning_platform.com/introductiontotheinternetofthingsandembeddedsystems/syllabus'], 2: ['2', 'IT', 'Agile Software Development ', '2022', 'http://learning_platform.com/agilesoftwaredevelopment/syllabus'], 3: ['3', 'IT', 'Autodesk Certified Professional: AutoCAD for Design and Drafting Exam Prep ', '2022', 'http://learning_platform.com/autodeskcertifiedprofessionalautocadfordesignanddraftingexamprep/syllabus'], 4: ['4', 'IT', 'Fundamentals of Graphic Design ', '2022', 'http://learning_platform.com/fundamentalsofgraphicdesign/syllabus'], 5: ['5', 'IT', 'Java for Android ', '2022', 'http://learning_platform.com/javaforandroid/syllabus'], 6: ['6', 'IT', 'Introduction to Programming with MATLAB ', '2022', 'http://learning_platform.com/introductiontoprogrammingwithmatlab/syllabus'], 7: ['7', 'IT', 'Cryptography I ', '2022', 'http://learning_platform.com/cryptographyi/syllabus'], 8: ['8', 'IT', 'HTML, CSS, and Javascript for Web Developers ', '2022', 'http://learning_platform.com/htmlcssandjavascriptforwebdevelopers/syllabus'], 9: ['9', 'IT', 'Google Cloud Big Data and Machine Learning Fundamentals ', '2022', 'http://learning_platform.com/googlecloudbigdataandmachinelearningfundamentals/syllabus'], 10: ['10', 'IT', 'Algorithms, Part II ', '2022', 'http://learning_platform.com/algorithmspartii/syllabus'], 11: ['11', 'IT', 'Algorithms, Part I ', '2022', 'http://learning_platform.com/algorithmsparti/syllabus'], 12: ['12', 'IT', 'Divide and Conquer, Sorting and Searching, and Randomized Algorithms ', '2022', 'http://learning_platform.com/divideandconquersortingandsearchingandrandomizedalgorithms/syllabus'], 13: ['13', 'IT', 'Cloud Computing Concepts, Part 1 ', '2022', 'http://learning_platform.com/cloudcomputingconceptspart1/syllabus'], 14: ['14', 'IT', 'Programming for Everybody (Getting Started with Python) ', '2022', 'http://learning_platform.com/programmingforeverybodygettingstartedwithpython/syllabus'], 15: ['15', 'IT', 'Design and Make Infographics (Project-Centered Course) ', '2022', 'http://learning_platform.com/designandmakeinfographicsprojectcenteredcourse/syllabus'], 16: ['16', 'IT', 'Cloud Computing Basics (Cloud 101) ', '2022', 'http://learning_platform.com/cloudcomputingbasicscloud101/syllabus'], 17: ['17', 'IT', 'Hadoop Platform and Application Framework ', '2022', 'http://learning_platform.com/hadoopplatformandapplicationframework/syllabus'], 18: ['18', 'IT', 'Algorithmic Toolbox ', '2022', 'http://learning_platform.com/algorithmictoolbox/syllabus'], 19: ['19', 'IT', 'Internet History, Technology, and Security ', '2022', 'http://learning_platform.com/internethistorytechnologyandsecurity/syllabus'], 20: ['20', 'IT', 'Introduction to User Experience Design ', '2022', 'http://learning_platform.com/introductiontouserexperiencedesign/syllabus'], 21: ['21', 'IT', 'English for Career Development ', '2022', 'http://learning_platform.com/englishforcareerdevelopment/syllabus'], 22: ['22', 'IT', 'Data Visualization with Python ', '2022', 'http://learning_platform.com/datavisualizationwithpython/syllabus'], 23: ['23', 'IT', 'Computer Science: Programming with a Purpose ', '2022', 'http://learning_platform.com/computerscienceprogrammingwithapurpose/syllabus'], 24: ['24', 'IT', 'AI For Everyone ', '2022', 'http://learning_platform.com/aiforeveryone/syllabus'], 25: ['25', 'IT', 'Programming Foundations with JavaScript, HTML and CSS ', '2022', 'http://learning_platform.com/programmingfoundationswithjavascripthtmlandcss/syllabus'], 26: ['26', 'IT', 'An Introduction to Interactive Programming in Python (Part 1) ', '2022', 'http://learning_platform.com/anintroductiontointeractiveprogramminginpythonpart1/syllabus'], 27: ['27', 'IT', 'Code Yourself! An Introduction to Programming ', '2022', 'http://learning_platform.com/codeyourself!anintroductiontoprogramming/syllabus'], 28: ['28', 'IT', \"Introducci\\\\'f3n a Java \", '2022', \"http://learning_platform.com/introducci\\\\'f3najava/syllabus\"], 29: ['29', 'IT', 'Fundamentals of GIS ', '2022', 'http://learning_platform.com/fundamentalsofgis/syllabus'], 30: ['30', 'IT', 'Python and Statistics for Financial Analysis ', '2022', 'http://learning_platform.com/pythonandstatisticsforfinancialanalysis/syllabus'], 31: ['31', 'IT', 'Cybersecurity and Its Ten Domains ', '2022', 'http://learning_platform.com/cybersecurityanditstendomains/syllabus'], 32: ['32', 'IT', 'Crash Course on Python ', '2022', 'http://learning_platform.com/crashcourseonpython/syllabus'], 33: ['33', 'IT', 'Design and Interpretation of Clinical Trials ', '2022', 'http://learning_platform.com/designandinterpretationofclinicaltrials/syllabus'], 34: ['34', 'IT', 'Google Cloud Fundamentals: Core Infrastructure ', '2022', 'http://learning_platform.com/googlecloudfundamentalscoreinfrastructure/syllabus'], 35: ['35', 'IT', 'Design Thinking for Innovation ', '2022', 'http://learning_platform.com/designthinkingforinnovation/syllabus'], 36: ['36', 'IT', 'Programming Languages, Part A ', '2022', 'http://learning_platform.com/programminglanguagesparta/syllabus'], 37: ['37', 'IT', 'Introduction to Cybersecurity Tools & Cyber Attacks ', '2022', 'http://learning_platform.com/introductiontocybersecuritytools&cyberattacks/syllabus'], 38: ['38', 'IT', 'How To Create a Website in a Weekend! (Project-Centered Course) ', '2022', 'http://learning_platform.com/howtocreateawebsiteinaweekend!projectcenteredcourse/syllabus'], 39: ['39', 'IT', 'Functional Programming Principles in Scala ', '2022', 'http://learning_platform.com/functionalprogrammingprinciplesinscala/syllabus'], 40: ['40', 'IT', 'SQL for Data Science ', '2022', 'http://learning_platform.com/sqlfordatascience/syllabus'], 41: ['41', 'IT', 'Programming Fundamentals ', '2022', 'http://learning_platform.com/programmingfundamentals/syllabus'], 42: ['42', 'IT', 'Computer Architecture ', '2022', 'http://learning_platform.com/computerarchitecture/syllabus'], 43: ['43', 'IT', 'Build a Modern Computer ', '2022', 'http://learning_platform.com/buildamoderncomputer/syllabus'], 44: ['44', 'IT', 'Getting Started with AWS Machine Learning ', '2022', 'http://learning_platform.com/gettingstartedwithawsmachinelearning/syllabus'], 45: ['45', 'IT', 'Introduction to HTML5 ', '2022', 'http://learning_platform.com/introductiontohtml5/syllabus'], 46: ['46', 'IT', 'Foundations of User Experience (UX) Design ', '2022', 'http://learning_platform.com/foundationsofuserexperienceuxdesign/syllabus'], 47: ['47', 'IT', 'Introduction to Google SEO ', '2022', 'http://learning_platform.com/introductiontogoogleseo/syllabus'], 48: ['48', 'IT', 'Visual Elements of User Interface Design ', '2022', 'http://learning_platform.com/visualelementsofuserinterfacedesign/syllabus'], 49: ['49', 'IT', 'Fundamentals of Visualization with Tableau ', '2022', 'http://learning_platform.com/fundamentalsofvisualizationwithtableau/syllabus'], 50: ['50', 'IT', 'Agile with Atlassian Jira ', '2022', 'http://learning_platform.com/agilewithatlassianjira/syllabus'], 51: ['51', 'IT', 'Front-End Web UI Frameworks and Tools: Bootstrap 4 ', '2022', 'http://learning_platform.com/frontendwebuiframeworksandtoolsbootstrap4/syllabus'], 52: ['52', 'IT', 'Python Basics ', '2022', 'http://learning_platform.com/pythonbasics/syllabus'], 53: ['53', 'IT', 'Introduction to Web Development ', '2022', 'http://learning_platform.com/introductiontowebdevelopment/syllabus'], 54: ['54', 'IT', 'Responsive Website Basics: Code with HTML, CSS, and JavaScript ', '2022', 'http://learning_platform.com/responsivewebsitebasicscodewithhtmlcssandjavascript/syllabus'], 55: ['55', 'IT', 'Database Management Essentials ', '2022', 'http://learning_platform.com/databasemanagementessentials/syllabus'], 56: ['56', 'IT', 'Build Your First Android App (Project-Centered Course) ', '2022', 'http://learning_platform.com/buildyourfirstandroidappprojectcenteredcourse/syllabus'], 57: ['57', 'IT', 'Introduction to Data Science in Python ', '2022', 'http://learning_platform.com/introductiontodatascienceinpython/syllabus'], 58: ['58', 'maths', 'Introduction to Logic ', '2022', 'http://learning_platform.com/introductiontologic/syllabus'], 59: ['59', 'maths', 'Model Thinking ', '2022', 'http://learning_platform.com/modelthinking/syllabus'], 60: ['60', 'maths', 'Mathematics for Machine Learning: Linear Algebra ', '2022', 'http://learning_platform.com/mathematicsformachinelearninglinearalgebra/syllabus'], 61: ['61', 'maths', 'Data Science Math Skills ', '2022', 'http://learning_platform.com/datasciencemathskills/syllabus'], 62: ['62', 'maths', 'English for Science, Technology, Engineering, and Mathematics ', '2022', 'http://learning_platform.com/englishforsciencetechnologyengineeringandmathematics/syllabus'], 63: ['63', 'maths', 'Introduction to Calculus ', '2022', 'http://learning_platform.com/introductiontocalculus/syllabus'], 64: ['64', 'maths', 'Introduction to Mathematical Thinking ', '2022', 'http://learning_platform.com/introductiontomathematicalthinking/syllabus'], 65: ['65', 'languages', 'First Step Korean ', '2022', 'http://learning_platform.com/firststepkorean/syllabus'], 66: ['66', 'languages', 'How to Write and Publish a Scientific Paper (Project-Centered Course) ', '2022', 'http://learning_platform.com/howtowriteandpublishascientificpaperprojectcenteredcourse/syllabus'], 67: ['67', 'languages', 'Aprender ', '2022', 'http://learning_platform.com/aprender/syllabus'], 68: ['68', 'languages', 'Speak English Professionally: In Person, Online & On the Phone ', '2022', 'http://learning_platform.com/speakenglishprofessionallyinpersononline&onthephone/syllabus'], 69: ['69', 'languages', 'English for Business and Entrepreneurship ', '2022', 'http://learning_platform.com/englishforbusinessandentrepreneurship/syllabus'], 70: ['70', 'languages', 'English for Science, Technology, Engineering, and Mathematics ', '2022', 'http://learning_platform.com/englishforsciencetechnologyengineeringandmathematics/syllabus'], 71: ['71', 'languages', 'Introduction to Structured Query Language (SQL) ', '2022', 'http://learning_platform.com/introductiontostructuredquerylanguagesql/syllabus'], 72: ['72', 'languages', 'Tricky American English Pronunciation ', '2022', 'http://learning_platform.com/trickyamericanenglishpronunciation/syllabus'], 73: ['73', 'languages', 'Writing in English at University ', '2022', 'http://learning_platform.com/writinginenglishatuniversity/syllabus'], 74: ['74', 'languages', 'Perfect Tenses and Modals ', '2022', 'http://learning_platform.com/perfecttensesandmodals/syllabus'], 75: ['75', 'languages', 'English for Career Development ', '2022', 'http://learning_platform.com/englishforcareerdevelopment/syllabus'], 76: ['76', 'languages', 'Chinese for Beginners ', '2022', 'http://learning_platform.com/chineseforbeginners/syllabus'], 77: ['77', 'languages', 'English for Journalism ', '2022', 'http://learning_platform.com/englishforjournalism/syllabus'], 78: ['78', 'languages', 'Communication Strategies for a Virtual Age ', '2022', 'http://learning_platform.com/communicationstrategiesforavirtualage/syllabus'], 79: ['79', 'languages', 'How to Write a Resume (Project-Centered Course) ', '2022', 'http://learning_platform.com/howtowritearesumeprojectcenteredcourse/syllabus'], 80: ['80', 'languages', 'Spanish Vocabulary: Meeting People ', '2022', 'http://learning_platform.com/spanishvocabularymeetingpeople/syllabus'], 81: ['81', 'languages', 'Grammar and Punctuation ', '2022', 'http://learning_platform.com/grammarandpunctuation/syllabus'], 82: ['82', 'languages', 'Learn to Speak Korean 1 ', '2022', 'http://learning_platform.com/learntospeakkorean1/syllabus'], 83: ['83', 'languages', 'Writing in the Sciences ', '2022', 'http://learning_platform.com/writinginthesciences/syllabus'], 84: ['84', 'languages', 'Miracles of Human Language: An Introduction to Linguistics ', '2022', 'http://learning_platform.com/miraclesofhumanlanguageanintroductiontolinguistics/syllabus'], 85: ['85', 'languages', 'Fundamentos de la escritura ', '2022', 'http://learning_platform.com/fundamentosdelaescritura/syllabus'], 86: ['86', 'languages', 'Lesson | Small Talk & Conversational Vocabulary ', '2022', 'http://learning_platform.com/lesson|smalltalk&conversationalvocabulary/syllabus'], 87: ['87', 'languages', 'Business Writing ', '2022', 'http://learning_platform.com/businesswriting/syllabus'], 88: ['88', 'languages', 'Teamwork Skills: Communicating Effectively in Groups ', '2022', 'http://learning_platform.com/teamworkskillscommunicatingeffectivelyingroups/syllabus'], 89: ['89', 'languages', 'English Composition I ', '2022', 'http://learning_platform.com/englishcompositioni/syllabus'], 90: ['90', 'languages', 'Introduction to Public Speaking ', '2022', 'http://learning_platform.com/introductiontopublicspeaking/syllabus'], 91: ['91', 'languages', 'Teach English Now! Foundational Principles ', '2022', 'http://learning_platform.com/teachenglishnow!foundationalprinciples/syllabus'], 92: ['92', 'psychology', 'The Science of Success: What Researchers Know that You Should Know ', '2022', 'http://learning_platform.com/thescienceofsuccesswhatresearchersknowthatyoushouldknow/syllabus'], 93: ['93', 'psychology', 'The Arts and Science of Relationships: Understanding Human Needs ', '2022', 'http://learning_platform.com/theartsandscienceofrelationshipsunderstandinghumanneeds/syllabus'], 94: ['94', 'psychology', 'Learning How to Learn: Powerful mental tools to help you master tough subjects ', '2022', 'http://learning_platform.com/learninghowtolearnpowerfulmentaltoolstohelpyoumastertoughsubjects/syllabus'], 95: ['95', 'psychology', 'Preparing to Manage Human Resources ', '2022', 'http://learning_platform.com/preparingtomanagehumanresources/syllabus'], 96: ['96', 'psychology', 'Psychological First Aid ', '2022', 'http://learning_platform.com/psychologicalfirstaid/syllabus'], 97: ['97', 'psychology', 'Mindshift: Break Through Obstacles to Learning and Discover Your Hidden Potential ', '2022', 'http://learning_platform.com/mindshiftbreakthroughobstaclestolearninganddiscoveryourhiddenpotential/syllabus'], 98: ['98', 'psychology', 'Positive Psychiatry and Mental Health ', '2022', 'http://learning_platform.com/positivepsychiatryandmentalhealth/syllabus'], 99: ['99', 'psychology', 'Excel/VBA for Creative Problem Solving, Part 1 ', '2022', 'http://learning_platform.com/excel/vbaforcreativeproblemsolvingpart1/syllabus'], 100: ['100', 'psychology', 'The Addicted Brain ', '2022', 'http://learning_platform.com/theaddictedbrain/syllabus'], 101: ['101', 'psychology', 'Dog Emotion and Cognition ', '2022', 'http://learning_platform.com/dogemotionandcognition/syllabus'], 102: ['102', 'psychology', 'Creative Writing: The Craft of Plot ', '2022', 'http://learning_platform.com/creativewritingthecraftofplot/syllabus'], 103: ['103', 'psychology', 'A Life of Happiness and Fulfillment ', '2022', 'http://learning_platform.com/alifeofhappinessandfulfillment/syllabus'], 104: ['104', 'psychology', 'Introduction to Psychology ', '2022', 'http://learning_platform.com/introductiontopsychology/syllabus'], 105: ['105', 'psychology', 'Introductory Human Physiology ', '2022', 'http://learning_platform.com/introductoryhumanphysiology/syllabus'], 106: ['106', 'psychology', 'Computer Science: Programming with a Purpose ', '2022', 'http://learning_platform.com/computerscienceprogrammingwithapurpose/syllabus'], 107: ['107', 'psychology', 'Creative Thinking: Techniques and Tools for Success ', '2022', 'http://learning_platform.com/creativethinkingtechniquesandtoolsforsuccess/syllabus'], 108: ['108', 'psychology', \"Ser m\\\\'e1s creativos \", '2022', \"http://learning_platform.com/serm\\\\'e1screativos/syllabus\"], 109: ['109', 'psychology', 'Influencing People ', '2022', 'http://learning_platform.com/influencingpeople/syllabus'], 110: ['110', 'psychology', 'Managing Emotions in Times of Uncertainty & Stress ', '2022', 'http://learning_platform.com/managingemotionsintimesofuncertainty&stress/syllabus'], 111: ['111', 'psychology', 'Social Psychology ', '2022', 'http://learning_platform.com/socialpsychology/syllabus'], 112: ['112', 'psychology', 'Creative Problem Solving ', '2022', 'http://learning_platform.com/creativeproblemsolving/syllabus'], 113: ['113', 'psychology', 'Miracles of Human Language: An Introduction to Linguistics ', '2022', 'http://learning_platform.com/miraclesofhumanlanguageanintroductiontolinguistics/syllabus'], 114: ['114', 'psychology', 'Positive Psychology ', '2022', 'http://learning_platform.com/positivepsychology/syllabus'], 115: ['115', 'psychology', 'Finding Purpose and Meaning In Life: Living for What Matters Most ', '2022', 'http://learning_platform.com/findingpurposeandmeaninginlifelivingforwhatmattersmost/syllabus'], 116: ['116', 'psychology', 'Mind Control: Managing Your Mental Health During COVID-19 ', '2022', 'http://learning_platform.com/mindcontrolmanagingyourmentalhealthduringcovid19/syllabus'], 117: ['117', 'economics and management', 'An Introduction to Consumer Neuroscience & Neuromarketing ', '2022', 'http://learning_platform.com/anintroductiontoconsumerneuroscience&neuromarketing/syllabus'], 118: ['118', 'economics and management', 'Successful Negotiation: Essential Strategies and Skills ', '2022', 'http://learning_platform.com/successfulnegotiationessentialstrategiesandskills/syllabus'], 119: ['119', 'economics and management', 'Preparing to Manage Human Resources ', '2022', 'http://learning_platform.com/preparingtomanagehumanresources/syllabus'], 120: ['120', 'economics and management', 'Contabilidad para no contadores ', '2022', 'http://learning_platform.com/contabilidadparanocontadores/syllabus'], 121: ['121', 'economics and management', 'Introduction to Social Media Marketing ', '2022', 'http://learning_platform.com/introductiontosocialmediamarketing/syllabus'], 122: ['122', 'economics and management', 'Financial Markets ', '2022', 'http://learning_platform.com/financialmarkets/syllabus'], 123: ['123', 'economics and management', 'Viral Marketing and How to Craft Contagious Content ', '2022', 'http://learning_platform.com/viralmarketingandhowtocraftcontagiouscontent/syllabus'], 124: ['124', 'economics and management', 'English for Business and Entrepreneurship ', '2022', 'http://learning_platform.com/englishforbusinessandentrepreneurship/syllabus'], 125: ['125', 'economics and management', 'The Strategy of Content Marketing ', '2022', 'http://learning_platform.com/thestrategyofcontentmarketing/syllabus'], 126: ['126', 'economics and management', 'Private Equity and Venture Capital ', '2022', 'http://learning_platform.com/privateequityandventurecapital/syllabus'], 127: ['127', 'economics and management', 'Excel aplicado a los negocios (Nivel Avanzado) ', '2022', 'http://learning_platform.com/excelaplicadoalosnegociosnivelavanzado/syllabus'], 128: ['128', 'economics and management', 'Marketing Analytics ', '2022', 'http://learning_platform.com/marketinganalytics/syllabus'], 129: ['129', 'economics and management', 'Blockchain Basics ', '2022', 'http://learning_platform.com/blockchainbasics/syllabus'], 130: ['130', 'economics and management', 'Entrepreneurship 1: Developing the Opportunity ', '2022', 'http://learning_platform.com/entrepreneurship1developingtheopportunity/syllabus'], 131: ['131', 'economics and management', 'Finance for Non-Finance Professionals ', '2022', 'http://learning_platform.com/financefornonfinanceprofessionals/syllabus'], 132: ['132', 'economics and management', 'Financial Accounting Fundamentals ', '2022', 'http://learning_platform.com/financialaccountingfundamentals/syllabus'], 133: ['133', 'economics and management', 'Brand Management: Aligning Business, Brand and Behaviour ', '2022', 'http://learning_platform.com/brandmanagementaligningbusinessbrandandbehaviour/syllabus'], 134: ['134', 'economics and management', 'Introduction to Personal Branding ', '2022', 'http://learning_platform.com/introductiontopersonalbranding/syllabus'], 135: ['135', 'economics and management', 'Data-driven Decision Making ', '2022', 'http://learning_platform.com/datadrivendecisionmaking/syllabus'], 136: ['136', 'economics and management', 'Leading Teams: Developing as a Leader ', '2022', 'http://learning_platform.com/leadingteamsdevelopingasaleader/syllabus'], 137: ['137', 'economics and management', 'Communication Strategies for a Virtual Age ', '2022', 'http://learning_platform.com/communicationstrategiesforavirtualage/syllabus'], 138: ['138', 'economics and management', 'Introduction to Marketing ', '2022', 'http://learning_platform.com/introductiontomarketing/syllabus'], 139: ['139', 'economics and management', 'Economics of Money and Banking ', '2022', 'http://learning_platform.com/economicsofmoneyandbanking/syllabus'], 140: ['140', 'economics and management', 'Work Smarter, Not Harder: Time Management for Personal & Professional Productivity ', '2022', 'http://learning_platform.com/worksmarternothardertimemanagementforpersonal&professionalproductivity/syllabus'], 141: ['141', 'economics and management', 'Foundations of Project Management ', '2022', 'http://learning_platform.com/foundationsofprojectmanagement/syllabus'], 142: ['142', 'economics and management', 'Python and Statistics for Financial Analysis ', '2022', 'http://learning_platform.com/pythonandstatisticsforfinancialanalysis/syllabus'], 143: ['143', 'economics and management', 'Personal & Family Financial Planning ', '2022', 'http://learning_platform.com/personal&familyfinancialplanning/syllabus'], 144: ['144', 'economics and management', 'Customer Analytics ', '2022', 'http://learning_platform.com/customeranalytics/syllabus'], 145: ['145', 'economics and management', 'Business English: Networking ', '2022', 'http://learning_platform.com/businessenglishnetworking/syllabus'], 146: ['146', 'economics and management', 'Competitive Strategy ', '2022', 'http://learning_platform.com/competitivestrategy/syllabus'], 147: ['147', 'economics and management', 'Marketing in a Digital World ', '2022', 'http://learning_platform.com/marketinginadigitalworld/syllabus'], 148: ['148', 'economics and management', 'Understanding Financial Markets ', '2022', 'http://learning_platform.com/understandingfinancialmarkets/syllabus'], 149: ['149', 'economics and management', 'Business Writing ', '2022', 'http://learning_platform.com/businesswriting/syllabus'], 150: ['150', 'economics and management', 'Introduction to Negotiation: A Strategic Playbook for Becoming a Principled and Persuasive Negotiator ', '2022', 'http://learning_platform.com/introductiontonegotiationastrategicplaybookforbecomingaprincipledandpersuasivenegotiator/syllabus'], 151: ['151', 'economics and management', 'Marketing Digital ', '2022', 'http://learning_platform.com/marketingdigital/syllabus'], 152: ['152', 'economics and management', 'Introduction to Data Analytics for Business ', '2022', 'http://learning_platform.com/introductiontodataanalyticsforbusiness/syllabus'], 153: ['153', 'economics and management', 'Fundamentos de Excel para Negocios ', '2022', 'http://learning_platform.com/fundamentosdeexcelparanegocios/syllabus'], 154: ['154', 'economics and management', 'Management of Fashion and Luxury Companies ', '2022', 'http://learning_platform.com/managementoffashionandluxurycompanies/syllabus'], 155: ['155', 'economics and management', 'Foundations of Digital Marketing and E-commerce ', '2022', 'http://learning_platform.com/foundationsofdigitalmarketingandecommerce/syllabus'], 156: ['156', 'economics and management', 'Finanzas personales ', '2022', 'http://learning_platform.com/finanzaspersonales/syllabus'], 157: ['157', 'economics and management', 'Database Management Essentials ', '2022', 'http://learning_platform.com/databasemanagementessentials/syllabus'], 158: ['158', 'economics and management', 'Fundamentos de Finanzas Empresariales ', '2022', 'http://learning_platform.com/fundamentosdefinanzasempresariales/syllabus'], 159: ['159', 'economics and management', 'Financial Planning for Young Adults ', '2022', 'http://learning_platform.com/financialplanningforyoungadults/syllabus'], 160: ['160', 'economics and management', 'Fundamentals of Project Planning and Management ', '2022', 'http://learning_platform.com/fundamentalsofprojectplanningandmanagement/syllabus'], 161: ['161', 'economics and management', 'Bitcoin and Cryptocurrency Technologies ', '2022', 'http://learning_platform.com/bitcoinandcryptocurrencytechnologies/syllabus'], 162: ['162', 'sciences', 'Chemistry ', '2022', 'http://learning_platform.com/chemistry/syllabus'], 163: ['163', 'sciences', 'Understanding the Brain: The Neurobiology of Everyday Life ', '2022', 'http://learning_platform.com/understandingthebraintheneurobiologyofeverydaylife/syllabus'], 164: ['164', 'sciences', 'Animal Behaviour and Welfare ', '2022', 'http://learning_platform.com/animalbehaviourandwelfare/syllabus'], 165: ['165', 'sciences', 'Introduction to Genetics and Evolution ', '2022', 'http://learning_platform.com/introductiontogeneticsandevolution/syllabus'], 166: ['166', 'sciences', 'Introduction to the Biology of Cancer ', '2022', 'http://learning_platform.com/introductiontothebiologyofcancer/syllabus'], 167: ['167', 'sciences', 'Understanding Research Methods ', '2022', 'http://learning_platform.com/understandingresearchmethods/syllabus'], 168: ['168', 'sciences', 'Wind Energy ', '2022', 'http://learning_platform.com/windenergy/syllabus'], 169: ['169', 'sciences', 'Introduction to Engineering Mechanics ', '2022', 'http://learning_platform.com/introductiontoengineeringmechanics/syllabus'], 170: ['170', 'sciences', 'Understanding Einstein: The Special Theory of Relativity ', '2022', 'http://learning_platform.com/understandingeinsteinthespecialtheoryofrelativity/syllabus'], 171: ['171', 'sciences', 'How Things Work: An Introduction to Physics ', '2022', 'http://learning_platform.com/howthingsworkanintroductiontophysics/syllabus'], 172: ['172', 'sciences', 'Dog Emotion and Cognition ', '2022', 'http://learning_platform.com/dogemotionandcognition/syllabus'], 173: ['173', 'sciences', 'Introduction to Electronics ', '2022', 'http://learning_platform.com/introductiontoelectronics/syllabus'], 174: ['174', 'sciences', 'Biology Meets Programming: Bioinformatics for Beginners ', '2022', 'http://learning_platform.com/biologymeetsprogrammingbioinformaticsforbeginners/syllabus'], 175: ['175', 'medicine', 'COVID-19 Contact Tracing ', '2022', 'http://learning_platform.com/covid19contacttracing/syllabus'], 176: ['176', 'medicine', 'Stanford Introduction to Food and Health ', '2022', 'http://learning_platform.com/stanfordintroductiontofoodandhealth/syllabus'], 177: ['177', 'medicine', 'Medical Neuroscience ', '2022', 'http://learning_platform.com/medicalneuroscience/syllabus'], 178: ['178', 'medicine', 'Positive Psychiatry and Mental Health ', '2022', 'http://learning_platform.com/positivepsychiatryandmentalhealth/syllabus'], 179: ['179', 'medicine', 'Mind Control: Managing Your Mental Health During COVID-19 ', '2022', 'http://learning_platform.com/mindcontrolmanagingyourmentalhealthduringcovid19/syllabus'], 180: ['180', 'medicine', 'Mind Control: Managing Your Mental Health During COVID-19 ', '2022', 'http://learning_platform.com/mindcontrolmanagingyourmentalhealthduringcovid19/syllabus'], 181: ['181', 'medicine', 'Epidemiology: The Basic Science of Public Health ', '2022', 'http://learning_platform.com/epidemiologythebasicscienceofpublichealth/syllabus'], 182: ['182', 'medicine', 'Introduction to the Biology of Cancer ', '2022', 'http://learning_platform.com/introductiontothebiologyofcancer/syllabus'], 183: ['183', 'medicine', 'Understanding Clinical Research: Behind the Statistics ', '2022', 'http://learning_platform.com/understandingclinicalresearchbehindthestatistics/syllabus'], 184: ['184', 'medicine', 'Designing Your Personal Weight Loss Plan ', '2022', 'http://learning_platform.com/designingyourpersonalweightlossplan/syllabus'], 185: ['185', 'medicine', 'Design and Interpretation of Clinical Trials ', '2022', 'http://learning_platform.com/designandinterpretationofclinicaltrials/syllabus'], 186: ['186', 'statistics', 'Foundations: Data, Data, Everywhere ', '2022', 'http://learning_platform.com/foundationsdatadataeverywhere/syllabus'], 187: ['187', 'statistics', 'Python and Statistics for Financial Analysis ', '2022', 'http://learning_platform.com/pythonandstatisticsforfinancialanalysis/syllabus'], 188: ['188', 'statistics', 'Introduction to Statistics ', '2022', 'http://learning_platform.com/introductiontostatistics/syllabus'], 189: ['189', 'statistics', 'Exploratory Data Analysis ', '2022', 'http://learning_platform.com/exploratorydataanalysis/syllabus'], 190: ['190', 'statistics', 'Introduction to Probability and Data with R ', '2022', 'http://learning_platform.com/introductiontoprobabilityanddatawithr/syllabus'], 191: ['191', 'statistics', 'Understanding Clinical Research: Behind the Statistics ', '2022', 'http://learning_platform.com/understandingclinicalresearchbehindthestatistics/syllabus'], 192: ['192', 'statistics', 'Econometrics: Methods and Applications ', '2022', 'http://learning_platform.com/econometricsmethodsandapplications/syllabus'], 193: ['193', 'statistics', 'Bayesian Statistics: From Concept to Data Analysis ', '2022', 'http://learning_platform.com/bayesianstatisticsfromconcepttodataanalysis/syllabus'], 194: ['194', 'statistics', 'Basic Statistics ', '2022', 'http://learning_platform.com/basicstatistics/syllabus'], 195: ['195', 'humanities', 'Greek and Roman Mythology ', '2022', 'http://learning_platform.com/greekandromanmythology/syllabus'], 196: ['196', 'humanities', 'An Introduction to American Law ', '2022', 'http://learning_platform.com/anintroductiontoamericanlaw/syllabus'], 197: ['197', 'humanities', 'Modern Art & Ideas ', '2022', 'http://learning_platform.com/modernart&ideas/syllabus'], 198: ['198', 'humanities', 'Cameras, Exposure, and Photography ', '2022', 'http://learning_platform.com/camerasexposureandphotography/syllabus'], 199: ['199', 'humanities', 'Introduction to International Criminal Law ', '2022', 'http://learning_platform.com/introductiontointernationalcriminallaw/syllabus'], 200: ['200', 'humanities', 'In the Studio: Postwar Abstract Painting ', '2022', 'http://learning_platform.com/inthestudiopostwarabstractpainting/syllabus'], 201: ['201', 'humanities', 'Fundamentals of Music Theory ', '2022', 'http://learning_platform.com/fundamentalsofmusictheory/syllabus'], 202: ['202', 'humanities', 'Introduction to Philosophy ', '2022', 'http://learning_platform.com/introductiontophilosophy/syllabus'], 203: ['203', 'humanities', 'Communication Strategies for a Virtual Age ', '2022', 'http://learning_platform.com/communicationstrategiesforavirtualage/syllabus'], 204: ['204', 'humanities', 'Introduction to Classical Music ', '2022', 'http://learning_platform.com/introductiontoclassicalmusic/syllabus'], 205: ['205', 'humanities', 'Moral Foundations of Politics ', '2022', 'http://learning_platform.com/moralfoundationsofpolitics/syllabus'], 206: ['206', 'humanities', 'The Modern World, Part One: Global History ', '2022', 'http://learning_platform.com/themodernworldpartoneglobalhistory/syllabus'], 207: ['207', 'humanities', 'Guitar for Beginners ', '2022', 'http://learning_platform.com/guitarforbeginners/syllabus'], 208: ['208', 'humanities', 'Indigenous Canada ', '2022', 'http://learning_platform.com/indigenouscanada/syllabus'], 209: ['209', 'miscellaneous', 'Machine Learning Foundations: A Case Study Approach ', '2022', 'http://learning_platform.com/machinelearningfoundationsacasestudyapproach/syllabus'], 210: ['210', 'miscellaneous', 'Game Theory ', '2022', 'http://learning_platform.com/gametheory/syllabus'], 211: ['211', 'miscellaneous', 'Child Nutrition and Cooking ', '2022', 'http://learning_platform.com/childnutritionandcooking/syllabus'], 212: ['212', 'miscellaneous', 'Excel Skills for Business: Essentials ', '2022', 'http://learning_platform.com/excelskillsforbusinessessentials/syllabus'], 213: ['213', 'miscellaneous', 'Mastering Data Analysis in Excel ', '2022', 'http://learning_platform.com/masteringdataanalysisinexcel/syllabus'], 214: ['214', 'miscellaneous', 'Human-Centered Design: an Introduction ', '2022', 'http://learning_platform.com/humancentereddesignanintroduction/syllabus'], 215: ['215', 'miscellaneous', 'Introduction to Data Analysis Using Excel ', '2022', 'http://learning_platform.com/introductiontodataanalysisusingexcel/syllabus'], 216: ['216', 'miscellaneous', 'Neural Networks and Deep Learning ', '2022', 'http://learning_platform.com/neuralnetworksanddeeplearning/syllabus'], 217: ['217', 'miscellaneous', 'Vital Signs: Understanding What the Body Is Telling Us ', '2022', 'http://learning_platform.com/vitalsignsunderstandingwhatthebodyistellingus/syllabus'], 218: ['218', 'miscellaneous', 'Science of Exercise ', '2022', 'http://learning_platform.com/scienceofexercise/syllabus'], 219: ['219', 'miscellaneous', 'Introduction to Machine Learning ', '2022', 'http://learning_platform.com/introductiontomachinelearning/syllabus'], 220: ['220', 'miscellaneous', 'Introduction to Big Data ', '2022', 'http://learning_platform.com/introductiontobigdata/syllabus'], 221: ['221', 'miscellaneous', 'A Crash Course in Data Science ', '2022', 'http://learning_platform.com/acrashcourseindatascience/syllabus'], 222: ['222', 'miscellaneous', 'Introduction to Data Analytics ', '2022', 'http://learning_platform.com/introductiontodataanalytics/syllabus'], 223: ['223', 'miscellaneous', 'Learn to Program: The Fundamentals ', '2022', 'http://learning_platform.com/learntoprogramthefundamentals/syllabus'], 224: ['224', 'miscellaneous', 'What is Social? ', '2022', 'http://learning_platform.com/whatissocial/syllabus'], 225: ['225', 'miscellaneous', 'What is Data Science? ', '2022', 'http://learning_platform.com/whatisdatascience/syllabus'], 226: ['226', 'miscellaneous', 'Supervised Machine Learning: Regression and Classification ', '2022', 'http://learning_platform.com/supervisedmachinelearningregressionandclassification/syllabus'], 227: ['227', 'miscellaneous', 'Everyday Excel, Part 1 ', '2022', 'http://learning_platform.com/everydayexcelpart1/syllabus'], 228: ['228', 'miscellaneous', 'Machine Learning for All ', '2022', 'http://learning_platform.com/machinelearningforall/syllabus'], 229: ['229', 'miscellaneous', 'Think Again I: How to Understand Arguments ', '2022', 'http://learning_platform.com/thinkagainihowtounderstandarguments/syllabus'], 230: ['230', 'miscellaneous', 'Introduction to TensorFlow for Artificial Intelligence, Machine Learning, and Deep Learning ', '2022', 'http://learning_platform.com/introductiontotensorflowforartificialintelligencemachinelearninganddeeplearning/syllabus'], 231: ['231', 'miscellaneous', 'Introduction to Sustainability ', '2022', 'http://learning_platform.com/introductiontosustainability/syllabus'], 232: ['232', 'miscellaneous', 'Introduction to Self-Driving Cars ', '2022', 'http://learning_platform.com/introductiontoselfdrivingcars/syllabus'], 233: ['233', 'miscellaneous', 'Gamification ', '2022', 'http://learning_platform.com/gamification/syllabus'], 234: ['234', 'miscellaneous', 'Introduction to Systematic Review and Meta-Analysis ', '2022', 'http://learning_platform.com/introductiontosystematicreviewandmetaanalysis/syllabus'], 235: ['235', 'miscellaneous', 'Organizational Analysis ', '2022', 'http://learning_platform.com/organizationalanalysis/syllabus'], 236: ['236', 'miscellaneous', 'Learning to Teach Online ', '2022', 'http://learning_platform.com/learningtoteachonline/syllabus'], 237: ['237', 'miscellaneous', 'Initiating and Planning Projects ', '2022', 'http://learning_platform.com/initiatingandplanningprojects/syllabus'], 238: ['238', 'miscellaneous', 'Everyday Parenting: The ABCs of Child Rearing ', '2022', 'http://learning_platform.com/everydayparentingtheabcsofchildrearing/syllabus'], 239: ['239', 'miscellaneous', 'Technical Support Fundamentals ', '2022', 'http://learning_platform.com/technicalsupportfundamentals/syllabus'], 240: ['240', 'miscellaneous', 'Supply Chain Logistics ', '2022', 'http://learning_platform.com/supplychainlogistics/syllabus'], 241: ['241', 'IT', 'Introduction to the Internet of Things and Embedded Systems ', '2023', 'http://learning_platform.com/introductiontotheinternetofthingsandembeddedsystems/syllabus'], 242: ['242', 'IT', 'Agile Software Development ', '2023', 'http://learning_platform.com/agilesoftwaredevelopment/syllabus'], 243: ['243', 'IT', 'Autodesk Certified Professional: AutoCAD for Design and Drafting Exam Prep ', '2023', 'http://learning_platform.com/autodeskcertifiedprofessionalautocadfordesignanddraftingexamprep/syllabus'], 244: ['244', 'IT', 'Fundamentals of Graphic Design ', '2023', 'http://learning_platform.com/fundamentalsofgraphicdesign/syllabus'], 245: ['245', 'IT', 'Java for Android ', '2023', 'http://learning_platform.com/javaforandroid/syllabus'], 246: ['246', 'IT', 'Introduction to Programming with MATLAB ', '2023', 'http://learning_platform.com/introductiontoprogrammingwithmatlab/syllabus'], 247: ['247', 'IT', 'Cryptography I ', '2023', 'http://learning_platform.com/cryptographyi/syllabus'], 248: ['248', 'IT', 'HTML, CSS, and Javascript for Web Developers ', '2023', 'http://learning_platform.com/htmlcssandjavascriptforwebdevelopers/syllabus'], 249: ['249', 'IT', 'Google Cloud Big Data and Machine Learning Fundamentals ', '2023', 'http://learning_platform.com/googlecloudbigdataandmachinelearningfundamentals/syllabus'], 250: ['250', 'IT', 'Algorithms, Part II ', '2023', 'http://learning_platform.com/algorithmspartii/syllabus'], 251: ['251', 'IT', 'Algorithms, Part I ', '2023', 'http://learning_platform.com/algorithmsparti/syllabus'], 252: ['252', 'IT', 'Divide and Conquer, Sorting and Searching, and Randomized Algorithms ', '2023', 'http://learning_platform.com/divideandconquersortingandsearchingandrandomizedalgorithms/syllabus'], 253: ['253', 'IT', 'Cloud Computing Concepts, Part 1 ', '2023', 'http://learning_platform.com/cloudcomputingconceptspart1/syllabus'], 254: ['254', 'IT', 'Programming for Everybody (Getting Started with Python) ', '2023', 'http://learning_platform.com/programmingforeverybodygettingstartedwithpython/syllabus'], 255: ['255', 'IT', 'Design and Make Infographics (Project-Centered Course) ', '2023', 'http://learning_platform.com/designandmakeinfographicsprojectcenteredcourse/syllabus'], 256: ['256', 'IT', 'Cloud Computing Basics (Cloud 101) ', '2023', 'http://learning_platform.com/cloudcomputingbasicscloud101/syllabus'], 257: ['257', 'IT', 'Hadoop Platform and Application Framework ', '2023', 'http://learning_platform.com/hadoopplatformandapplicationframework/syllabus'], 258: ['258', 'IT', 'Algorithmic Toolbox ', '2023', 'http://learning_platform.com/algorithmictoolbox/syllabus'], 259: ['259', 'IT', 'Internet History, Technology, and Security ', '2023', 'http://learning_platform.com/internethistorytechnologyandsecurity/syllabus'], 260: ['260', 'IT', 'Introduction to User Experience Design ', '2023', 'http://learning_platform.com/introductiontouserexperiencedesign/syllabus'], 261: ['261', 'IT', 'English for Career Development ', '2023', 'http://learning_platform.com/englishforcareerdevelopment/syllabus'], 262: ['262', 'IT', 'Data Visualization with Python ', '2023', 'http://learning_platform.com/datavisualizationwithpython/syllabus'], 263: ['263', 'IT', 'Computer Science: Programming with a Purpose ', '2023', 'http://learning_platform.com/computerscienceprogrammingwithapurpose/syllabus'], 264: ['264', 'IT', 'AI For Everyone ', '2023', 'http://learning_platform.com/aiforeveryone/syllabus'], 265: ['265', 'IT', 'Programming Foundations with JavaScript, HTML and CSS ', '2023', 'http://learning_platform.com/programmingfoundationswithjavascripthtmlandcss/syllabus'], 266: ['266', 'IT', 'An Introduction to Interactive Programming in Python (Part 1) ', '2023', 'http://learning_platform.com/anintroductiontointeractiveprogramminginpythonpart1/syllabus'], 267: ['267', 'IT', 'Code Yourself! An Introduction to Programming ', '2023', 'http://learning_platform.com/codeyourself!anintroductiontoprogramming/syllabus'], 268: ['268', 'IT', \"Introducci\\\\'f3n a Java \", '2023', \"http://learning_platform.com/introducci\\\\'f3najava/syllabus\"], 269: ['269', 'IT', 'Fundamentals of GIS ', '2023', 'http://learning_platform.com/fundamentalsofgis/syllabus'], 270: ['270', 'IT', 'Python and Statistics for Financial Analysis ', '2023', 'http://learning_platform.com/pythonandstatisticsforfinancialanalysis/syllabus'], 271: ['271', 'IT', 'Cybersecurity and Its Ten Domains ', '2023', 'http://learning_platform.com/cybersecurityanditstendomains/syllabus'], 272: ['272', 'IT', 'Crash Course on Python ', '2023', 'http://learning_platform.com/crashcourseonpython/syllabus'], 273: ['273', 'IT', 'Design and Interpretation of Clinical Trials ', '2023', 'http://learning_platform.com/designandinterpretationofclinicaltrials/syllabus'], 274: ['274', 'IT', 'Google Cloud Fundamentals: Core Infrastructure ', '2023', 'http://learning_platform.com/googlecloudfundamentalscoreinfrastructure/syllabus'], 275: ['275', 'IT', 'Design Thinking for Innovation ', '2023', 'http://learning_platform.com/designthinkingforinnovation/syllabus'], 276: ['276', 'IT', 'Programming Languages, Part A ', '2023', 'http://learning_platform.com/programminglanguagesparta/syllabus'], 277: ['277', 'IT', 'Introduction to Cybersecurity Tools & Cyber Attacks ', '2023', 'http://learning_platform.com/introductiontocybersecuritytools&cyberattacks/syllabus'], 278: ['278', 'IT', 'How To Create a Website in a Weekend! (Project-Centered Course) ', '2023', 'http://learning_platform.com/howtocreateawebsiteinaweekend!projectcenteredcourse/syllabus'], 279: ['279', 'IT', 'Functional Programming Principles in Scala ', '2023', 'http://learning_platform.com/functionalprogrammingprinciplesinscala/syllabus'], 280: ['280', 'IT', 'SQL for Data Science ', '2023', 'http://learning_platform.com/sqlfordatascience/syllabus'], 281: ['281', 'IT', 'Programming Fundamentals ', '2023', 'http://learning_platform.com/programmingfundamentals/syllabus'], 282: ['282', 'IT', 'Computer Architecture ', '2023', 'http://learning_platform.com/computerarchitecture/syllabus'], 283: ['283', 'IT', 'Build a Modern Computer ', '2023', 'http://learning_platform.com/buildamoderncomputer/syllabus'], 284: ['284', 'IT', 'Getting Started with AWS Machine Learning ', '2023', 'http://learning_platform.com/gettingstartedwithawsmachinelearning/syllabus'], 285: ['285', 'IT', 'Introduction to HTML5 ', '2023', 'http://learning_platform.com/introductiontohtml5/syllabus'], 286: ['286', 'IT', 'Foundations of User Experience (UX) Design ', '2023', 'http://learning_platform.com/foundationsofuserexperienceuxdesign/syllabus'], 287: ['287', 'IT', 'Introduction to Google SEO ', '2023', 'http://learning_platform.com/introductiontogoogleseo/syllabus'], 288: ['288', 'IT', 'Visual Elements of User Interface Design ', '2023', 'http://learning_platform.com/visualelementsofuserinterfacedesign/syllabus'], 289: ['289', 'IT', 'Fundamentals of Visualization with Tableau ', '2023', 'http://learning_platform.com/fundamentalsofvisualizationwithtableau/syllabus'], 290: ['290', 'IT', 'Agile with Atlassian Jira ', '2023', 'http://learning_platform.com/agilewithatlassianjira/syllabus'], 291: ['291', 'IT', 'Front-End Web UI Frameworks and Tools: Bootstrap 4 ', '2023', 'http://learning_platform.com/frontendwebuiframeworksandtoolsbootstrap4/syllabus'], 292: ['292', 'IT', 'Python Basics ', '2023', 'http://learning_platform.com/pythonbasics/syllabus'], 293: ['293', 'IT', 'Introduction to Web Development ', '2023', 'http://learning_platform.com/introductiontowebdevelopment/syllabus'], 294: ['294', 'IT', 'Responsive Website Basics: Code with HTML, CSS, and JavaScript ', '2023', 'http://learning_platform.com/responsivewebsitebasicscodewithhtmlcssandjavascript/syllabus'], 295: ['295', 'IT', 'Database Management Essentials ', '2023', 'http://learning_platform.com/databasemanagementessentials/syllabus'], 296: ['296', 'IT', 'Build Your First Android App (Project-Centered Course) ', '2023', 'http://learning_platform.com/buildyourfirstandroidappprojectcenteredcourse/syllabus'], 297: ['297', 'IT', 'Introduction to Data Science in Python ', '2023', 'http://learning_platform.com/introductiontodatascienceinpython/syllabus'], 298: ['298', 'maths', 'Introduction to Logic ', '2023', 'http://learning_platform.com/introductiontologic/syllabus'], 299: ['299', 'maths', 'Model Thinking ', '2023', 'http://learning_platform.com/modelthinking/syllabus'], 300: ['300', 'maths', 'Mathematics for Machine Learning: Linear Algebra ', '2023', 'http://learning_platform.com/mathematicsformachinelearninglinearalgebra/syllabus'], 301: ['301', 'maths', 'Data Science Math Skills ', '2023', 'http://learning_platform.com/datasciencemathskills/syllabus'], 302: ['302', 'maths', 'English for Science, Technology, Engineering, and Mathematics ', '2023', 'http://learning_platform.com/englishforsciencetechnologyengineeringandmathematics/syllabus'], 303: ['303', 'maths', 'Introduction to Calculus ', '2023', 'http://learning_platform.com/introductiontocalculus/syllabus'], 304: ['304', 'maths', 'Introduction to Mathematical Thinking ', '2023', 'http://learning_platform.com/introductiontomathematicalthinking/syllabus'], 305: ['305', 'languages', 'First Step Korean ', '2023', 'http://learning_platform.com/firststepkorean/syllabus'], 306: ['306', 'languages', 'How to Write and Publish a Scientific Paper (Project-Centered Course) ', '2023', 'http://learning_platform.com/howtowriteandpublishascientificpaperprojectcenteredcourse/syllabus'], 307: ['307', 'languages', 'Aprender ', '2023', 'http://learning_platform.com/aprender/syllabus'], 308: ['308', 'languages', 'Speak English Professionally: In Person, Online & On the Phone ', '2023', 'http://learning_platform.com/speakenglishprofessionallyinpersononline&onthephone/syllabus'], 309: ['309', 'languages', 'English for Business and Entrepreneurship ', '2023', 'http://learning_platform.com/englishforbusinessandentrepreneurship/syllabus'], 310: ['310', 'languages', 'English for Science, Technology, Engineering, and Mathematics ', '2023', 'http://learning_platform.com/englishforsciencetechnologyengineeringandmathematics/syllabus'], 311: ['311', 'languages', 'Introduction to Structured Query Language (SQL) ', '2023', 'http://learning_platform.com/introductiontostructuredquerylanguagesql/syllabus'], 312: ['312', 'languages', 'Tricky American English Pronunciation ', '2023', 'http://learning_platform.com/trickyamericanenglishpronunciation/syllabus'], 313: ['313', 'languages', 'Writing in English at University ', '2023', 'http://learning_platform.com/writinginenglishatuniversity/syllabus'], 314: ['314', 'languages', 'Perfect Tenses and Modals ', '2023', 'http://learning_platform.com/perfecttensesandmodals/syllabus'], 315: ['315', 'languages', 'English for Career Development ', '2023', 'http://learning_platform.com/englishforcareerdevelopment/syllabus'], 316: ['316', 'languages', 'Chinese for Beginners ', '2023', 'http://learning_platform.com/chineseforbeginners/syllabus'], 317: ['317', 'languages', 'English for Journalism ', '2023', 'http://learning_platform.com/englishforjournalism/syllabus'], 318: ['318', 'languages', 'Communication Strategies for a Virtual Age ', '2023', 'http://learning_platform.com/communicationstrategiesforavirtualage/syllabus'], 319: ['319', 'languages', 'How to Write a Resume (Project-Centered Course) ', '2023', 'http://learning_platform.com/howtowritearesumeprojectcenteredcourse/syllabus'], 320: ['320', 'languages', 'Spanish Vocabulary: Meeting People ', '2023', 'http://learning_platform.com/spanishvocabularymeetingpeople/syllabus'], 321: ['321', 'languages', 'Grammar and Punctuation ', '2023', 'http://learning_platform.com/grammarandpunctuation/syllabus'], 322: ['322', 'languages', 'Learn to Speak Korean 1 ', '2023', 'http://learning_platform.com/learntospeakkorean1/syllabus'], 323: ['323', 'languages', 'Writing in the Sciences ', '2023', 'http://learning_platform.com/writinginthesciences/syllabus'], 324: ['324', 'languages', 'Miracles of Human Language: An Introduction to Linguistics ', '2023', 'http://learning_platform.com/miraclesofhumanlanguageanintroductiontolinguistics/syllabus'], 325: ['325', 'languages', 'Fundamentos de la escritura ', '2023', 'http://learning_platform.com/fundamentosdelaescritura/syllabus'], 326: ['326', 'languages', 'Lesson | Small Talk & Conversational Vocabulary ', '2023', 'http://learning_platform.com/lesson|smalltalk&conversationalvocabulary/syllabus'], 327: ['327', 'languages', 'Business Writing ', '2023', 'http://learning_platform.com/businesswriting/syllabus'], 328: ['328', 'languages', 'Teamwork Skills: Communicating Effectively in Groups ', '2023', 'http://learning_platform.com/teamworkskillscommunicatingeffectivelyingroups/syllabus'], 329: ['329', 'languages', 'English Composition I ', '2023', 'http://learning_platform.com/englishcompositioni/syllabus'], 330: ['330', 'languages', 'Introduction to Public Speaking ', '2023', 'http://learning_platform.com/introductiontopublicspeaking/syllabus'], 331: ['331', 'languages', 'Teach English Now! Foundational Principles ', '2023', 'http://learning_platform.com/teachenglishnow!foundationalprinciples/syllabus'], 332: ['332', 'psychology', 'The Science of Success: What Researchers Know that You Should Know ', '2023', 'http://learning_platform.com/thescienceofsuccesswhatresearchersknowthatyoushouldknow/syllabus'], 333: ['333', 'psychology', 'The Arts and Science of Relationships: Understanding Human Needs ', '2023', 'http://learning_platform.com/theartsandscienceofrelationshipsunderstandinghumanneeds/syllabus'], 334: ['334', 'psychology', 'Learning How to Learn: Powerful mental tools to help you master tough subjects ', '2023', 'http://learning_platform.com/learninghowtolearnpowerfulmentaltoolstohelpyoumastertoughsubjects/syllabus'], 335: ['335', 'psychology', 'Preparing to Manage Human Resources ', '2023', 'http://learning_platform.com/preparingtomanagehumanresources/syllabus'], 336: ['336', 'psychology', 'Psychological First Aid ', '2023', 'http://learning_platform.com/psychologicalfirstaid/syllabus'], 337: ['337', 'psychology', 'Mindshift: Break Through Obstacles to Learning and Discover Your Hidden Potential ', '2023', 'http://learning_platform.com/mindshiftbreakthroughobstaclestolearninganddiscoveryourhiddenpotential/syllabus'], 338: ['338', 'psychology', 'Positive Psychiatry and Mental Health ', '2023', 'http://learning_platform.com/positivepsychiatryandmentalhealth/syllabus'], 339: ['339', 'psychology', 'Excel/VBA for Creative Problem Solving, Part 1 ', '2023', 'http://learning_platform.com/excel/vbaforcreativeproblemsolvingpart1/syllabus'], 340: ['340', 'psychology', 'The Addicted Brain ', '2023', 'http://learning_platform.com/theaddictedbrain/syllabus'], 341: ['341', 'psychology', 'Dog Emotion and Cognition ', '2023', 'http://learning_platform.com/dogemotionandcognition/syllabus'], 342: ['342', 'psychology', 'Creative Writing: The Craft of Plot ', '2023', 'http://learning_platform.com/creativewritingthecraftofplot/syllabus'], 343: ['343', 'psychology', 'A Life of Happiness and Fulfillment ', '2023', 'http://learning_platform.com/alifeofhappinessandfulfillment/syllabus'], 344: ['344', 'psychology', 'Introduction to Psychology ', '2023', 'http://learning_platform.com/introductiontopsychology/syllabus'], 345: ['345', 'psychology', 'Introductory Human Physiology ', '2023', 'http://learning_platform.com/introductoryhumanphysiology/syllabus'], 346: ['346', 'psychology', 'Computer Science: Programming with a Purpose ', '2023', 'http://learning_platform.com/computerscienceprogrammingwithapurpose/syllabus'], 347: ['347', 'psychology', 'Creative Thinking: Techniques and Tools for Success ', '2023', 'http://learning_platform.com/creativethinkingtechniquesandtoolsforsuccess/syllabus'], 348: ['348', 'psychology', \"Ser m\\\\'e1s creativos \", '2023', \"http://learning_platform.com/serm\\\\'e1screativos/syllabus\"], 349: ['349', 'psychology', 'Influencing People ', '2023', 'http://learning_platform.com/influencingpeople/syllabus'], 350: ['350', 'psychology', 'Managing Emotions in Times of Uncertainty & Stress ', '2023', 'http://learning_platform.com/managingemotionsintimesofuncertainty&stress/syllabus'], 351: ['351', 'psychology', 'Social Psychology ', '2023', 'http://learning_platform.com/socialpsychology/syllabus'], 352: ['352', 'psychology', 'Creative Problem Solving ', '2023', 'http://learning_platform.com/creativeproblemsolving/syllabus'], 353: ['353', 'psychology', 'Miracles of Human Language: An Introduction to Linguistics ', '2023', 'http://learning_platform.com/miraclesofhumanlanguageanintroductiontolinguistics/syllabus'], 354: ['354', 'psychology', 'Positive Psychology ', '2023', 'http://learning_platform.com/positivepsychology/syllabus'], 355: ['355', 'psychology', 'Finding Purpose and Meaning In Life: Living for What Matters Most ', '2023', 'http://learning_platform.com/findingpurposeandmeaninginlifelivingforwhatmattersmost/syllabus'], 356: ['356', 'psychology', 'Mind Control: Managing Your Mental Health During COVID-19 ', '2023', 'http://learning_platform.com/mindcontrolmanagingyourmentalhealthduringcovid19/syllabus'], 357: ['357', 'economics and management', 'An Introduction to Consumer Neuroscience & Neuromarketing ', '2023', 'http://learning_platform.com/anintroductiontoconsumerneuroscience&neuromarketing/syllabus'], 358: ['358', 'economics and management', 'Successful Negotiation: Essential Strategies and Skills ', '2023', 'http://learning_platform.com/successfulnegotiationessentialstrategiesandskills/syllabus'], 359: ['359', 'economics and management', 'Preparing to Manage Human Resources ', '2023', 'http://learning_platform.com/preparingtomanagehumanresources/syllabus'], 360: ['360', 'economics and management', 'Contabilidad para no contadores ', '2023', 'http://learning_platform.com/contabilidadparanocontadores/syllabus'], 361: ['361', 'economics and management', 'Introduction to Social Media Marketing ', '2023', 'http://learning_platform.com/introductiontosocialmediamarketing/syllabus'], 362: ['362', 'economics and management', 'Financial Markets ', '2023', 'http://learning_platform.com/financialmarkets/syllabus'], 363: ['363', 'economics and management', 'Viral Marketing and How to Craft Contagious Content ', '2023', 'http://learning_platform.com/viralmarketingandhowtocraftcontagiouscontent/syllabus'], 364: ['364', 'economics and management', 'English for Business and Entrepreneurship ', '2023', 'http://learning_platform.com/englishforbusinessandentrepreneurship/syllabus'], 365: ['365', 'economics and management', 'The Strategy of Content Marketing ', '2023', 'http://learning_platform.com/thestrategyofcontentmarketing/syllabus'], 366: ['366', 'economics and management', 'Private Equity and Venture Capital ', '2023', 'http://learning_platform.com/privateequityandventurecapital/syllabus'], 367: ['367', 'economics and management', 'Excel aplicado a los negocios (Nivel Avanzado) ', '2023', 'http://learning_platform.com/excelaplicadoalosnegociosnivelavanzado/syllabus'], 368: ['368', 'economics and management', 'Marketing Analytics ', '2023', 'http://learning_platform.com/marketinganalytics/syllabus'], 369: ['369', 'economics and management', 'Blockchain Basics ', '2023', 'http://learning_platform.com/blockchainbasics/syllabus'], 370: ['370', 'economics and management', 'Entrepreneurship 1: Developing the Opportunity ', '2023', 'http://learning_platform.com/entrepreneurship1developingtheopportunity/syllabus'], 371: ['371', 'economics and management', 'Finance for Non-Finance Professionals ', '2023', 'http://learning_platform.com/financefornonfinanceprofessionals/syllabus'], 372: ['372', 'economics and management', 'Financial Accounting Fundamentals ', '2023', 'http://learning_platform.com/financialaccountingfundamentals/syllabus'], 373: ['373', 'economics and management', 'Brand Management: Aligning Business, Brand and Behaviour ', '2023', 'http://learning_platform.com/brandmanagementaligningbusinessbrandandbehaviour/syllabus'], 374: ['374', 'economics and management', 'Introduction to Personal Branding ', '2023', 'http://learning_platform.com/introductiontopersonalbranding/syllabus'], 375: ['375', 'economics and management', 'Data-driven Decision Making ', '2023', 'http://learning_platform.com/datadrivendecisionmaking/syllabus'], 376: ['376', 'economics and management', 'Leading Teams: Developing as a Leader ', '2023', 'http://learning_platform.com/leadingteamsdevelopingasaleader/syllabus'], 377: ['377', 'economics and management', 'Communication Strategies for a Virtual Age ', '2023', 'http://learning_platform.com/communicationstrategiesforavirtualage/syllabus'], 378: ['378', 'economics and management', 'Introduction to Marketing ', '2023', 'http://learning_platform.com/introductiontomarketing/syllabus'], 379: ['379', 'economics and management', 'Economics of Money and Banking ', '2023', 'http://learning_platform.com/economicsofmoneyandbanking/syllabus'], 380: ['380', 'economics and management', 'Work Smarter, Not Harder: Time Management for Personal & Professional Productivity ', '2023', 'http://learning_platform.com/worksmarternothardertimemanagementforpersonal&professionalproductivity/syllabus'], 381: ['381', 'economics and management', 'Foundations of Project Management ', '2023', 'http://learning_platform.com/foundationsofprojectmanagement/syllabus'], 382: ['382', 'economics and management', 'Python and Statistics for Financial Analysis ', '2023', 'http://learning_platform.com/pythonandstatisticsforfinancialanalysis/syllabus'], 383: ['383', 'economics and management', 'Personal & Family Financial Planning ', '2023', 'http://learning_platform.com/personal&familyfinancialplanning/syllabus'], 384: ['384', 'economics and management', 'Customer Analytics ', '2023', 'http://learning_platform.com/customeranalytics/syllabus'], 385: ['385', 'economics and management', 'Business English: Networking ', '2023', 'http://learning_platform.com/businessenglishnetworking/syllabus'], 386: ['386', 'economics and management', 'Competitive Strategy ', '2023', 'http://learning_platform.com/competitivestrategy/syllabus'], 387: ['387', 'economics and management', 'Marketing in a Digital World ', '2023', 'http://learning_platform.com/marketinginadigitalworld/syllabus'], 388: ['388', 'economics and management', 'Understanding Financial Markets ', '2023', 'http://learning_platform.com/understandingfinancialmarkets/syllabus'], 389: ['389', 'economics and management', 'Business Writing ', '2023', 'http://learning_platform.com/businesswriting/syllabus'], 390: ['390', 'economics and management', 'Introduction to Negotiation: A Strategic Playbook for Becoming a Principled and Persuasive Negotiator ', '2023', 'http://learning_platform.com/introductiontonegotiationastrategicplaybookforbecomingaprincipledandpersuasivenegotiator/syllabus'], 391: ['391', 'economics and management', 'Marketing Digital ', '2023', 'http://learning_platform.com/marketingdigital/syllabus'], 392: ['392', 'economics and management', 'Introduction to Data Analytics for Business ', '2023', 'http://learning_platform.com/introductiontodataanalyticsforbusiness/syllabus'], 393: ['393', 'economics and management', 'Fundamentos de Excel para Negocios ', '2023', 'http://learning_platform.com/fundamentosdeexcelparanegocios/syllabus'], 394: ['394', 'economics and management', 'Management of Fashion and Luxury Companies ', '2023', 'http://learning_platform.com/managementoffashionandluxurycompanies/syllabus'], 395: ['395', 'economics and management', 'Foundations of Digital Marketing and E-commerce ', '2023', 'http://learning_platform.com/foundationsofdigitalmarketingandecommerce/syllabus'], 396: ['396', 'economics and management', 'Finanzas personales ', '2023', 'http://learning_platform.com/finanzaspersonales/syllabus'], 397: ['397', 'economics and management', 'Database Management Essentials ', '2023', 'http://learning_platform.com/databasemanagementessentials/syllabus'], 398: ['398', 'economics and management', 'Fundamentos de Finanzas Empresariales ', '2023', 'http://learning_platform.com/fundamentosdefinanzasempresariales/syllabus'], 399: ['399', 'economics and management', 'Financial Planning for Young Adults ', '2023', 'http://learning_platform.com/financialplanningforyoungadults/syllabus'], 400: ['400', 'economics and management', 'Fundamentals of Project Planning and Management ', '2023', 'http://learning_platform.com/fundamentalsofprojectplanningandmanagement/syllabus'], 401: ['401', 'economics and management', 'Bitcoin and Cryptocurrency Technologies ', '2023', 'http://learning_platform.com/bitcoinandcryptocurrencytechnologies/syllabus'], 402: ['402', 'sciences', 'Chemistry ', '2023', 'http://learning_platform.com/chemistry/syllabus'], 403: ['403', 'sciences', 'Understanding the Brain: The Neurobiology of Everyday Life ', '2023', 'http://learning_platform.com/understandingthebraintheneurobiologyofeverydaylife/syllabus'], 404: ['404', 'sciences', 'Animal Behaviour and Welfare ', '2023', 'http://learning_platform.com/animalbehaviourandwelfare/syllabus'], 405: ['405', 'sciences', 'Introduction to Genetics and Evolution ', '2023', 'http://learning_platform.com/introductiontogeneticsandevolution/syllabus'], 406: ['406', 'sciences', 'Introduction to the Biology of Cancer ', '2023', 'http://learning_platform.com/introductiontothebiologyofcancer/syllabus'], 407: ['407', 'sciences', 'Understanding Research Methods ', '2023', 'http://learning_platform.com/understandingresearchmethods/syllabus'], 408: ['408', 'sciences', 'Wind Energy ', '2023', 'http://learning_platform.com/windenergy/syllabus'], 409: ['409', 'sciences', 'Introduction to Engineering Mechanics ', '2023', 'http://learning_platform.com/introductiontoengineeringmechanics/syllabus'], 410: ['410', 'sciences', 'Understanding Einstein: The Special Theory of Relativity ', '2023', 'http://learning_platform.com/understandingeinsteinthespecialtheoryofrelativity/syllabus'], 411: ['411', 'sciences', 'How Things Work: An Introduction to Physics ', '2023', 'http://learning_platform.com/howthingsworkanintroductiontophysics/syllabus'], 412: ['412', 'sciences', 'Dog Emotion and Cognition ', '2023', 'http://learning_platform.com/dogemotionandcognition/syllabus'], 413: ['413', 'sciences', 'Introduction to Electronics ', '2023', 'http://learning_platform.com/introductiontoelectronics/syllabus'], 414: ['414', 'sciences', 'Biology Meets Programming: Bioinformatics for Beginners ', '2023', 'http://learning_platform.com/biologymeetsprogrammingbioinformaticsforbeginners/syllabus'], 415: ['415', 'medicine', 'COVID-19 Contact Tracing ', '2023', 'http://learning_platform.com/covid19contacttracing/syllabus'], 416: ['416', 'medicine', 'Stanford Introduction to Food and Health ', '2023', 'http://learning_platform.com/stanfordintroductiontofoodandhealth/syllabus'], 417: ['417', 'medicine', 'Medical Neuroscience ', '2023', 'http://learning_platform.com/medicalneuroscience/syllabus'], 418: ['418', 'medicine', 'Positive Psychiatry and Mental Health ', '2023', 'http://learning_platform.com/positivepsychiatryandmentalhealth/syllabus'], 419: ['419', 'medicine', 'Mind Control: Managing Your Mental Health During COVID-19 ', '2023', 'http://learning_platform.com/mindcontrolmanagingyourmentalhealthduringcovid19/syllabus'], 420: ['420', 'medicine', 'Mind Control: Managing Your Mental Health During COVID-19 ', '2023', 'http://learning_platform.com/mindcontrolmanagingyourmentalhealthduringcovid19/syllabus'], 421: ['421', 'medicine', 'Epidemiology: The Basic Science of Public Health ', '2023', 'http://learning_platform.com/epidemiologythebasicscienceofpublichealth/syllabus'], 422: ['422', 'medicine', 'Introduction to the Biology of Cancer ', '2023', 'http://learning_platform.com/introductiontothebiologyofcancer/syllabus'], 423: ['423', 'medicine', 'Understanding Clinical Research: Behind the Statistics ', '2023', 'http://learning_platform.com/understandingclinicalresearchbehindthestatistics/syllabus'], 424: ['424', 'medicine', 'Designing Your Personal Weight Loss Plan ', '2023', 'http://learning_platform.com/designingyourpersonalweightlossplan/syllabus'], 425: ['425', 'medicine', 'Design and Interpretation of Clinical Trials ', '2023', 'http://learning_platform.com/designandinterpretationofclinicaltrials/syllabus'], 426: ['426', 'statistics', 'Foundations: Data, Data, Everywhere ', '2023', 'http://learning_platform.com/foundationsdatadataeverywhere/syllabus'], 427: ['427', 'statistics', 'Python and Statistics for Financial Analysis ', '2023', 'http://learning_platform.com/pythonandstatisticsforfinancialanalysis/syllabus'], 428: ['428', 'statistics', 'Introduction to Statistics ', '2023', 'http://learning_platform.com/introductiontostatistics/syllabus'], 429: ['429', 'statistics', 'Exploratory Data Analysis ', '2023', 'http://learning_platform.com/exploratorydataanalysis/syllabus'], 430: ['430', 'statistics', 'Introduction to Probability and Data with R ', '2023', 'http://learning_platform.com/introductiontoprobabilityanddatawithr/syllabus'], 431: ['431', 'statistics', 'Understanding Clinical Research: Behind the Statistics ', '2023', 'http://learning_platform.com/understandingclinicalresearchbehindthestatistics/syllabus'], 432: ['432', 'statistics', 'Econometrics: Methods and Applications ', '2023', 'http://learning_platform.com/econometricsmethodsandapplications/syllabus'], 433: ['433', 'statistics', 'Bayesian Statistics: From Concept to Data Analysis ', '2023', 'http://learning_platform.com/bayesianstatisticsfromconcepttodataanalysis/syllabus'], 434: ['434', 'statistics', 'Basic Statistics ', '2023', 'http://learning_platform.com/basicstatistics/syllabus'], 435: ['435', 'humanities', 'Greek and Roman Mythology ', '2023', 'http://learning_platform.com/greekandromanmythology/syllabus'], 436: ['436', 'humanities', 'An Introduction to American Law ', '2023', 'http://learning_platform.com/anintroductiontoamericanlaw/syllabus'], 437: ['437', 'humanities', 'Modern Art & Ideas ', '2023', 'http://learning_platform.com/modernart&ideas/syllabus'], 438: ['438', 'humanities', 'Cameras, Exposure, and Photography ', '2023', 'http://learning_platform.com/camerasexposureandphotography/syllabus'], 439: ['439', 'humanities', 'Introduction to International Criminal Law ', '2023', 'http://learning_platform.com/introductiontointernationalcriminallaw/syllabus'], 440: ['440', 'humanities', 'In the Studio: Postwar Abstract Painting ', '2023', 'http://learning_platform.com/inthestudiopostwarabstractpainting/syllabus'], 441: ['441', 'humanities', 'Fundamentals of Music Theory ', '2023', 'http://learning_platform.com/fundamentalsofmusictheory/syllabus'], 442: ['442', 'humanities', 'Introduction to Philosophy ', '2023', 'http://learning_platform.com/introductiontophilosophy/syllabus'], 443: ['443', 'humanities', 'Communication Strategies for a Virtual Age ', '2023', 'http://learning_platform.com/communicationstrategiesforavirtualage/syllabus'], 444: ['444', 'humanities', 'Introduction to Classical Music ', '2023', 'http://learning_platform.com/introductiontoclassicalmusic/syllabus'], 445: ['445', 'humanities', 'Moral Foundations of Politics ', '2023', 'http://learning_platform.com/moralfoundationsofpolitics/syllabus'], 446: ['446', 'humanities', 'The Modern World, Part One: Global History ', '2023', 'http://learning_platform.com/themodernworldpartoneglobalhistory/syllabus'], 447: ['447', 'humanities', 'Guitar for Beginners ', '2023', 'http://learning_platform.com/guitarforbeginners/syllabus'], 448: ['448', 'humanities', 'Indigenous Canada ', '2023', 'http://learning_platform.com/indigenouscanada/syllabus'], 449: ['449', 'miscellaneous', 'Machine Learning Foundations: A Case Study Approach ', '2023', 'http://learning_platform.com/machinelearningfoundationsacasestudyapproach/syllabus'], 450: ['450', 'miscellaneous', 'Game Theory ', '2023', 'http://learning_platform.com/gametheory/syllabus'], 451: ['451', 'miscellaneous', 'Child Nutrition and Cooking ', '2023', 'http://learning_platform.com/childnutritionandcooking/syllabus'], 452: ['452', 'miscellaneous', 'Excel Skills for Business: Essentials ', '2023', 'http://learning_platform.com/excelskillsforbusinessessentials/syllabus'], 453: ['453', 'miscellaneous', 'Mastering Data Analysis in Excel ', '2023', 'http://learning_platform.com/masteringdataanalysisinexcel/syllabus'], 454: ['454', 'miscellaneous', 'Human-Centered Design: an Introduction ', '2023', 'http://learning_platform.com/humancentereddesignanintroduction/syllabus'], 455: ['455', 'miscellaneous', 'Introduction to Data Analysis Using Excel ', '2023', 'http://learning_platform.com/introductiontodataanalysisusingexcel/syllabus'], 456: ['456', 'miscellaneous', 'Neural Networks and Deep Learning ', '2023', 'http://learning_platform.com/neuralnetworksanddeeplearning/syllabus'], 457: ['457', 'miscellaneous', 'Vital Signs: Understanding What the Body Is Telling Us ', '2023', 'http://learning_platform.com/vitalsignsunderstandingwhatthebodyistellingus/syllabus'], 458: ['458', 'miscellaneous', 'Science of Exercise ', '2023', 'http://learning_platform.com/scienceofexercise/syllabus'], 459: ['459', 'miscellaneous', 'Introduction to Machine Learning ', '2023', 'http://learning_platform.com/introductiontomachinelearning/syllabus'], 460: ['460', 'miscellaneous', 'Introduction to Big Data ', '2023', 'http://learning_platform.com/introductiontobigdata/syllabus'], 461: ['461', 'miscellaneous', 'A Crash Course in Data Science ', '2023', 'http://learning_platform.com/acrashcourseindatascience/syllabus'], 462: ['462', 'miscellaneous', 'Introduction to Data Analytics ', '2023', 'http://learning_platform.com/introductiontodataanalytics/syllabus'], 463: ['463', 'miscellaneous', 'Learn to Program: The Fundamentals ', '2023', 'http://learning_platform.com/learntoprogramthefundamentals/syllabus'], 464: ['464', 'miscellaneous', 'What is Social? ', '2023', 'http://learning_platform.com/whatissocial/syllabus'], 465: ['465', 'miscellaneous', 'What is Data Science? ', '2023', 'http://learning_platform.com/whatisdatascience/syllabus'], 466: ['466', 'miscellaneous', 'Supervised Machine Learning: Regression and Classification ', '2023', 'http://learning_platform.com/supervisedmachinelearningregressionandclassification/syllabus'], 467: ['467', 'miscellaneous', 'Everyday Excel, Part 1 ', '2023', 'http://learning_platform.com/everydayexcelpart1/syllabus'], 468: ['468', 'miscellaneous', 'Machine Learning for All ', '2023', 'http://learning_platform.com/machinelearningforall/syllabus'], 469: ['469', 'miscellaneous', 'Think Again I: How to Understand Arguments ', '2023', 'http://learning_platform.com/thinkagainihowtounderstandarguments/syllabus'], 470: ['470', 'miscellaneous', 'Introduction to TensorFlow for Artificial Intelligence, Machine Learning, and Deep Learning ', '2023', 'http://learning_platform.com/introductiontotensorflowforartificialintelligencemachinelearninganddeeplearning/syllabus'], 471: ['471', 'miscellaneous', 'Introduction to Sustainability ', '2023', 'http://learning_platform.com/introductiontosustainability/syllabus'], 472: ['472', 'miscellaneous', 'Introduction to Self-Driving Cars ', '2023', 'http://learning_platform.com/introductiontoselfdrivingcars/syllabus'], 473: ['473', 'miscellaneous', 'Gamification ', '2023', 'http://learning_platform.com/gamification/syllabus'], 474: ['474', 'miscellaneous', 'Introduction to Systematic Review and Meta-Analysis ', '2023', 'http://learning_platform.com/introductiontosystematicreviewandmetaanalysis/syllabus'], 475: ['475', 'miscellaneous', 'Organizational Analysis ', '2023', 'http://learning_platform.com/organizationalanalysis/syllabus'], 476: ['476', 'miscellaneous', 'Learning to Teach Online ', '2023', 'http://learning_platform.com/learningtoteachonline/syllabus'], 477: ['477', 'miscellaneous', 'Initiating and Planning Projects ', '2023', 'http://learning_platform.com/initiatingandplanningprojects/syllabus'], 478: ['478', 'miscellaneous', 'Everyday Parenting: The ABCs of Child Rearing ', '2023', 'http://learning_platform.com/everydayparentingtheabcsofchildrearing/syllabus'], 479: ['479', 'miscellaneous', 'Technical Support Fundamentals ', '2023', 'http://learning_platform.com/technicalsupportfundamentals/syllabus'], 480: ['480', 'miscellaneous', 'Supply Chain Logistics ', '2023', 'http://learning_platform.com/supplychainlogistics/syllabus']}\n"
     ]
    }
   ],
   "source": [
    "print(courseDict)"
   ]
  },
  {
   "cell_type": "code",
   "execution_count": 8,
   "id": "b70cc993",
   "metadata": {},
   "outputs": [],
   "source": [
    "newCourseDict = dict()\n",
    "for key in courseDict[0]:\n",
    "    newCourseDict[key] = list()\n",
    "for i in range(1, len(courseDict)):\n",
    "    newCourseDict['courseID'].append(int(courseDict[i][0]))\n",
    "    newCourseDict['discipline'].append(courseDict[i][1])\n",
    "    newCourseDict['courseName'].append(courseDict[i][2])\n",
    "    newCourseDict['courseYear'].append(int(courseDict[i][3]))\n",
    "    newCourseDict['syllabus'].append(courseDict[i][4])"
   ]
  },
  {
   "cell_type": "markdown",
   "id": "817aaff5",
   "metadata": {},
   "source": [
    "<h3>\n",
    "Print out the result (a small sample)\n",
    "</h3>"
   ]
  },
  {
   "cell_type": "code",
   "execution_count": 9,
   "id": "ca172b03",
   "metadata": {},
   "outputs": [
    {
     "name": "stdout",
     "output_type": "stream",
     "text": [
      "cID    discipline       courseName                      courseYear  syllabus\n",
      "1      IT               Introduction to the Internet o  2022        http://learning_platform.com/introductio\n",
      "2      IT               Agile Software Development      2022        http://learning_platform.com/agilesoftwa\n",
      "3      IT               Autodesk Certified Professiona  2022        http://learning_platform.com/autodeskcer\n",
      "4      IT               Fundamentals of Graphic Design  2022        http://learning_platform.com/fundamental\n",
      "5      IT               Java for Android                2022        http://learning_platform.com/javaforandr\n",
      "6      IT               Introduction to Programming wi  2022        http://learning_platform.com/introductio\n",
      "7      IT               Cryptography I                  2022        http://learning_platform.com/cryptograph\n",
      "8      IT               HTML, CSS, and Javascript for   2022        http://learning_platform.com/htmlcssandj\n",
      "9      IT               Google Cloud Big Data and Mach  2022        http://learning_platform.com/googlecloud\n",
      "10     IT               Algorithms, Part II             2022        http://learning_platform.com/algorithmsp\n",
      "11     IT               Algorithms, Part I              2022        http://learning_platform.com/algorithmsp\n",
      "12     IT               Divide and Conquer, Sorting an  2022        http://learning_platform.com/divideandco\n",
      "13     IT               Cloud Computing Concepts, Part  2022        http://learning_platform.com/cloudcomput\n",
      "14     IT               Programming for Everybody (Get  2022        http://learning_platform.com/programming\n",
      "15     IT               Design and Make Infographics (  2022        http://learning_platform.com/designandma\n",
      "16     IT               Cloud Computing Basics (Cloud   2022        http://learning_platform.com/cloudcomput\n",
      "17     IT               Hadoop Platform and Applicatio  2022        http://learning_platform.com/hadoopplatf\n",
      "18     IT               Algorithmic Toolbox             2022        http://learning_platform.com/algorithmic\n",
      "19     IT               Internet History, Technology,   2022        http://learning_platform.com/internethis\n",
      "20     IT               Introduction to User Experienc  2022        http://learning_platform.com/introductio\n",
      "21     IT               English for Career Development  2022        http://learning_platform.com/englishforc\n",
      "22     IT               Data Visualization with Python  2022        http://learning_platform.com/datavisuali\n",
      "23     IT               Computer Science: Programming   2022        http://learning_platform.com/computersci\n",
      "24     IT               AI For Everyone                 2022        http://learning_platform.com/aiforeveryo\n",
      "25     IT               Programming Foundations with J  2022        http://learning_platform.com/programming\n",
      "26     IT               An Introduction to Interactive  2022        http://learning_platform.com/anintroduct\n",
      "27     IT               Code Yourself! An Introduction  2022        http://learning_platform.com/codeyoursel\n",
      "28     IT               Introducci\\'f3n a Java          2022        http://learning_platform.com/introducci\\\n",
      "29     IT               Fundamentals of GIS             2022        http://learning_platform.com/fundamental\n",
      "30     IT               Python and Statistics for Fina  2022        http://learning_platform.com/pythonandst\n",
      "31     IT               Cybersecurity and Its Ten Doma  2022        http://learning_platform.com/cybersecuri\n",
      "32     IT               Crash Course on Python          2022        http://learning_platform.com/crashcourse\n",
      "33     IT               Design and Interpretation of C  2022        http://learning_platform.com/designandin\n",
      "34     IT               Google Cloud Fundamentals: Cor  2022        http://learning_platform.com/googlecloud\n",
      "35     IT               Design Thinking for Innovation  2022        http://learning_platform.com/designthink\n",
      "36     IT               Programming Languages, Part A   2022        http://learning_platform.com/programming\n",
      "37     IT               Introduction to Cybersecurity   2022        http://learning_platform.com/introductio\n",
      "38     IT               How To Create a Website in a W  2022        http://learning_platform.com/howtocreate\n",
      "39     IT               Functional Programming Princip  2022        http://learning_platform.com/functionalp\n",
      "40     IT               SQL for Data Science            2022        http://learning_platform.com/sqlfordatas\n",
      "41     IT               Programming Fundamentals        2022        http://learning_platform.com/programming\n",
      "42     IT               Computer Architecture           2022        http://learning_platform.com/computerarc\n",
      "43     IT               Build a Modern Computer         2022        http://learning_platform.com/buildamoder\n",
      "44     IT               Getting Started with AWS Machi  2022        http://learning_platform.com/gettingstar\n",
      "45     IT               Introduction to HTML5           2022        http://learning_platform.com/introductio\n",
      "46     IT               Foundations of User Experience  2022        http://learning_platform.com/foundations\n",
      "47     IT               Introduction to Google SEO      2022        http://learning_platform.com/introductio\n",
      "48     IT               Visual Elements of User Interf  2022        http://learning_platform.com/visualeleme\n",
      "49     IT               Fundamentals of Visualization   2022        http://learning_platform.com/fundamental\n",
      "50     IT               Agile with Atlassian Jira       2022        http://learning_platform.com/agilewithat\n",
      "[...]\n"
     ]
    }
   ],
   "source": [
    "# 50 elements from each list\n",
    "print('cID', ' ' * (5 - len('cID')), 'discipline', ' ' * (15 - len('discipline')), 'courseName', ' ' * (30 - len('courseName')), 'courseYear', ' ' * (10 - len('courseYear')), 'syllabus')\n",
    "for i in range(0, 50):\n",
    "    cID = newCourseDict['courseID'][i]\n",
    "    cat = newCourseDict['discipline'][i]\n",
    "    name = newCourseDict['courseName'][i]\n",
    "    year = newCourseDict['courseYear'][i]\n",
    "    syll = newCourseDict['syllabus'][i]\n",
    "    print(cID, ' ' * (5 - len(str(cID))), cat, ' ' * (15 - len(cat)), name[0 : 30], ' ' * (30 - len(name[0 : 30])), year, ' ' * (10 - len(str(year))), syll[0 : 40])\n",
    "print('[...]')"
   ]
  },
  {
   "cell_type": "markdown",
   "id": "8fca708e",
   "metadata": {},
   "source": [
    "<h3>\n",
    "Load instructor table\n",
    "</h3><br>\n",
    "As anticipated before, I also need to feed the teaching table the instructor ID, which is stored in the instructor table. In the following code block I load the instructor table and store its data into a dictionary where the keys are the instructor attribute names and the values are lists with actual data."
   ]
  },
  {
   "cell_type": "code",
   "execution_count": 10,
   "id": "f5ee9fb1",
   "metadata": {},
   "outputs": [],
   "source": [
    "instructorDict = dict()\n",
    "key = 0\n",
    "with open(path + 'tables/instructorTable.csv', newline = '', encoding = 'UTF-16') as csvInstructor:\n",
    "    reader = csv.reader(csvInstructor, delimiter = ',')\n",
    "    for line in reader:\n",
    "        instructorDict[key] = line\n",
    "        key += 1"
   ]
  },
  {
   "cell_type": "code",
   "execution_count": 11,
   "id": "f24b9a74",
   "metadata": {},
   "outputs": [
    {
     "name": "stdout",
     "output_type": "stream",
     "text": [
      "{0: ['instructorID', 'role', 'firstName', 'lastName', 'genre', 'email'], 1: ['1', 'Senior Teaching Fellow', 'Marco', 'Plaza', 'male', 'marco.plaza@yahoo.com'], 2: ['2', 'Senior Teaching Fellow', 'Dominyka', 'Kalvelis', 'male', 'dominyka.kalvelis@gmail.com'], 3: ['3', 'Professor', 'Sissel', 'Bakken', 'female', 'sissel.bakken@hotmail.com'], 4: ['4', 'Senior Teaching Fellow', 'João Guilherme', 'Ferreira', 'male', 'joão guilherme.ferreira@uol.com.br'], 5: ['5', 'Associate Professor', 'Petrona', 'Baños', 'female', 'petrona.baños@yahoo.com'], 6: ['6', 'Associate Professor', 'Mark', 'Taylor', 'male', 'mark.taylor@yahoo.com'], 7: ['7', 'Senior Teaching Fellow', 'Stein', 'Isaksen', 'non binary', 'stein.isaksen@gmail.com'], 8: ['8', 'Senior Lecturer', 'Mario', 'Valcárcel', 'male', 'mario.valcárcel@hotmail.com'], 9: ['9', 'Assistant Professor', 'Edgar', 'Pires', 'male', 'edgar.pires@sapo.pt'], 10: ['10', 'Senior Teaching Fellow', 'Christian', 'Lowe', 'male', 'christian.lowe@hotmail.com'], 11: ['11', 'Ph.D.', 'Ojas', 'Ram', 'male', 'ojas.ram@yahoo.com'], 12: ['12', 'Ph.D.', 'Renée', 'Chevalier', 'female', 'renée.chevalier@voila.fr'], 13: ['13', 'Lecturer', 'Jayda', 'Scholten', 'non binary', 'jayda.scholten@hotmail.com'], 14: ['14', 'Ph.D.', 'Julie', 'Jacob', 'female', 'julie.jacob@tele2.fr'], 15: ['15', 'Professor Emeritus', 'Erika', 'Travaglia', 'female', 'erika.travaglia@vodafone.it'], 16: ['16', 'Senior Teaching Fellow', 'Plácido', 'Cobo', 'male', 'plácido.cobo@gmail.com'], 17: ['17', 'Ph.D.', 'Jorunn', 'Sæther', 'female', 'jorunn.sæther@yahoo.com'], 18: ['18', 'Professor Emeritus', 'Juozas', 'Butkus', 'female', 'juozas.butkus@yahoo.com'], 19: ['19', 'Senior Teaching Fellow', 'Luciana', 'Silva', 'female', 'luciana.silva@clix.pt'], 20: ['20', 'Lecturer', 'Maurilio', 'Legnante', 'male', 'maurilio.legnante@live.com'], 21: ['21', 'Senior Lecturer', 'William', 'Webster', 'male', 'william.webster@outlook.com'], 22: ['22', 'Ph.D.', 'Simonas', 'Urbonas', 'female', 'simonas.urbonas@gmail.com'], 23: ['23', 'Professor Emeritus', 'Olalla', 'Frías', 'female', 'olalla.frías@hotmail.com'], 24: ['24', 'Lecturer', 'Magrit', 'Binner', 'female', 'magrit.binner@gmail.com'], 25: ['25', 'Assistant Professor', 'Davi Luiz', 'Dias', 'male', 'davi luiz.dias@bol.com.br'], 26: ['26', 'Senior Lecturer', 'Liana', 'Giunti', 'non binary', 'liana.giunti@tin.it'], 27: ['27', 'Professor Emeritus', 'Marcelo', 'Campos', 'male', 'marcelo.campos@hotmail.com'], 28: ['28', 'Professor', 'Benas', 'Nausėda', 'female', 'benas.nausėda@hotmail.com'], 29: ['29', 'Lecturer', 'Corrado', 'Pacetti', 'male', 'corrado.pacetti@hotmail.com'], 30: ['30', 'TeachingFellow', 'Tony', 'Holzapfel', 'male', 'tony.holzapfel@aol.de'], 31: ['31', 'Assistant Professor', 'Oorja', 'Wagle', 'female', 'oorja.wagle@yahoo.com'], 32: ['32', 'TeachingFellow', 'Christine', 'Guillaume', 'female', 'christine.guillaume@orange.fr'], 33: ['33', 'Senior Lecturer', 'Joanna', 'Smith', 'female', 'joanna.smith@hotmail.co.uk'], 34: ['34', 'TeachingFellow', 'Carmina', 'Casanovas', 'female', 'carmina.casanovas@gmail.com'], 35: ['35', 'Lecturer', 'Regina', 'Rivera', 'female', 'regina.rivera@gmail.com'], 36: ['36', 'Lecturer', 'Soykut', 'Bilge', 'male', 'soykut.bilge@yandex.com'], 37: ['37', 'Associate Professor', 'Chloé', 'Horrocks', 'female', 'chloé.horrocks@gmail.com'], 38: ['38', 'Ph.D.', 'Gianna', 'Barberini', 'female', 'gianna.barberini@tele2.it'], 39: ['39', 'Researcher', 'Fredrik', 'Strand', 'male', 'fredrik.strand@yahoo.com'], 40: ['40', 'Senior Lecturer', 'Vanessa', 'Coppola', 'female', 'vanessa.coppola@gmail.com'], 41: ['41', 'Associate Professor', 'Anthony', 'Wright', 'male', 'anthony.wright@gmail.com'], 42: ['42', 'Senior Teaching Fellow', 'Afonso', 'Monteiro', 'male', 'afonso.monteiro@hotmail.com'], 43: ['43', 'Senior Lecturer', 'Edvardas', 'Jankauskas', 'female', 'edvardas.jankauskas@gmail.com'], 44: ['44', 'Senior Lecturer', 'Per', 'Hedberg', 'male', 'per.hedberg@yahoo.de'], 45: ['45', 'Senior Teaching Fellow', 'Maria Luiza', 'Melo', 'female', 'maria luiza.melo@bol.com.br'], 46: ['46', 'Senior Teaching Fellow', 'Rhys', 'Fletcher', 'male', 'rhys.fletcher@yahoo.co.uk'], 47: ['47', 'Senior Teaching Fellow', 'Claudine', 'Lambert', 'female', 'claudine.lambert@dbmail.com'], 48: ['48', 'Professor', 'Jolanta', 'Galdikas', 'female', 'jolanta.galdikas@yahoo.com'], 49: ['49', 'Professor', 'Lorraine', 'Evans', 'female', 'lorraine.evans@yahoo.co.uk'], 50: ['50', 'Researcher', 'Leandro', 'Silva', 'male', 'leandro.silva@gmail.com'], 51: ['51', 'Lecturer', 'Maria', 'Stevenson', 'non binary', 'maria.stevenson@yahoo.com'], 52: ['52', 'Ph.D.', 'Nicole', 'Moura', 'female', 'nicole.moura@hotmail.com'], 53: ['53', 'Researcher', 'Fortunata', 'Lerma', 'female', 'fortunata.lerma@gmail.com'], 54: ['54', 'Researcher', 'Odalys', 'Conde', 'non binary', 'odalys.conde@hotmail.com'], 55: ['55', 'Senior Lecturer', 'Ingrid', 'Magnusson', 'female', 'ingrid.magnusson@yahoo.de'], 56: ['56', 'Senior Teaching Fellow', 'Dominykas', 'Gagys', 'male', 'dominykas.gagys@gmail.com'], 57: ['57', 'Lecturer', 'Anna', 'Höglund', 'female', 'anna.höglund@gmail.com'], 58: ['58', 'Professor', 'Claus-Peter', 'Grein Groth', 'male', 'claus-peter.grein groth@aol.de'], 59: ['59', 'Senior Teaching Fellow', 'Hilary', 'Wilson', 'female', 'hilary.wilson@outlook.com'], 60: ['60', 'TeachingFellow', 'Erick', 'Azevedo', 'male', 'erick.azevedo@gmail.com'], 61: ['61', 'Professor Emeritus', 'Dovydas', 'Naujokas', 'male', 'dovydas.naujokas@hotmail.com'], 62: ['62', 'Assistant Professor', 'Zaina', 'Raja', 'male', 'zaina.raja@yahoo.com'], 63: ['63', 'Assistant Professor', 'Nesfe', 'İnönü', 'female', 'nesfe.i̇nönü@yahoo.com'], 64: ['64', 'Associate Professor', 'Kelly', 'Gaspar', 'female', 'kelly.gaspar@clix.pt'], 65: ['65', 'Senior Lecturer', 'Vilde', 'Hanssen', 'non binary', 'vilde.hanssen@hotmail.com'], 66: ['66', 'Lecturer', 'Indrė', 'Petrauskas', 'male', 'indrė.petrauskas@hotmail.com'], 67: ['67', 'Researcher', 'Arūnas', 'Kalvaitis', 'female', 'arūnas.kalvaitis@yahoo.com'], 68: ['68', 'Professor', 'Kjetil', 'Hauge', 'non binary', 'kjetil.hauge@hotmail.com'], 69: ['69', 'Professor Emeritus', 'Ayten', 'Berger', 'female', 'ayten.berger@web.de'], 70: ['70', 'Associate Professor', 'Immo', 'Paffrath', 'male', 'immo.paffrath@googlemail.com'], 71: ['71', 'Senior Teaching Fellow', 'Marcos', 'Borges', 'male', 'marcos.borges@hotmail.com'], 72: ['72', 'Professor Emeritus', 'Stian', 'Lien', 'male', 'stian.lien@gmail.com'], 73: ['73', 'Professor Emeritus', 'Davi', 'Fogaça', 'male', 'davi.fogaça@hotmail.com'], 74: ['74', 'Ph.D.', 'Graziano', 'Cociarelli', 'male', 'graziano.cociarelli@gmail.com'], 75: ['75', 'Professor Emeritus', 'Gary', 'Adams', 'male', 'gary.adams@yahoo.com'], 76: ['76', 'Senior Lecturer', 'Vaida', 'Gailys', 'male', 'vaida.gailys@yahoo.com'], 77: ['77', 'TeachingFellow', 'Ilse', 'van Salm', 'female', 'ilse.van salm@gmail.com'], 78: ['78', 'Senior Teaching Fellow', 'Samar', 'Chaudhuri', 'female', 'samar.chaudhuri@hotmail.com'], 79: ['79', 'Professor', 'Carlota', 'Gimeno', 'female', 'carlota.gimeno@hotmail.com'], 80: ['80', 'Professor Emeritus', 'Ana', 'Gordillo', 'female', 'ana.gordillo@hotmail.com'], 81: ['81', 'Senior Teaching Fellow', 'Michelle', 'Hörle', 'female', 'michelle.hörle@web.de'], 82: ['82', 'Researcher', 'Talayer', 'Akdeniz', 'male', 'talayer.akdeniz@yaani.com'], 83: ['83', 'Assistant Professor', 'Custodia', 'Chaves', 'female', 'custodia.chaves@yahoo.com'], 84: ['84', 'Senior Lecturer', 'Jonas', 'Larsen', 'male', 'jonas.larsen@gmail.com'], 85: ['85', 'Ph.D.', 'Ignazio', 'Scaduto', 'male', 'ignazio.scaduto@tele2.it'], 86: ['86', 'Associate Professor', 'Filipa', 'Moura', 'female', 'filipa.moura@sapo.pt'], 87: ['87', 'Assistant Professor', 'Sebastiano', 'Briemer', 'male', 'sebastiano.briemer@aol.de'], 88: ['88', 'Senior Lecturer', 'Aarush', 'Tandon', 'male', 'aarush.tandon@yahoo.com'], 89: ['89', 'Lecturer', 'Erick', 'da Paz', 'male', 'erick.da paz@yahoo.com.br'], 90: ['90', 'Lecturer', 'Mats', 'Lund', 'male', 'mats.lund@live.se'], 91: ['91', 'Senior Lecturer', 'Mirella', 'Moura', 'female', 'mirella.moura@gmail.com'], 92: ['92', 'Ph.D.', 'Yuvraj ', 'Gola', 'male', 'yuvraj .gola@gmail.com'], 93: ['93', 'Professor', 'Nebih', 'Türk', 'male', 'nebih.türk@yandex.com'], 94: ['94', 'TeachingFellow', 'Benjamin', 'Silveira', 'male', 'benjamin.silveira@bol.com.br'], 95: ['95', 'Ph.D.', 'Eileen', 'Black', 'female', 'eileen.black@yahoo.co.uk'], 96: ['96', 'Associate Professor', 'Miriam', 'Nogueira', 'female', 'miriam.nogueira@sapo.pt'], 97: ['97', 'Ph.D.', 'Casper', 'van Opper-Lotharingen', 'male', 'casper.van opper-lotharingen@yahoo.com'], 98: ['98', 'Lecturer', 'João', 'Reis', 'male', 'joão.reis@hotmail.com'], 99: ['99', 'Senior Teaching Fellow', 'Patrícia', 'Rodrigues', 'non binary', 'patrícia.rodrigues@hotmail.com'], 100: ['100', 'Lecturer', 'Agathe', 'Menard', 'female', 'agathe.menard@ifrance.com'], 101: ['101', 'Senior Lecturer', 'Luitgard', 'Birnbaum', 'female', 'luitgard.birnbaum@hotmail.de'], 102: ['102', 'Ph.D.', 'Sebastian', 'Dahlberg', 'male', 'sebastian.dahlberg@telia.com'], 103: ['103', 'Researcher', 'Eduarda', 'Lima', 'non binary', 'eduarda.lima@hotmail.com'], 104: ['104', 'Senior Lecturer', 'Lúcia', 'Pinho', 'female', 'lúcia.pinho@gmail.com'], 105: ['105', 'Professor', 'Theo', 'Jesus', 'male', 'theo.jesus@bol.com.br'], 106: ['106', 'Lecturer', 'Arthur', 'Fernandes', 'male', 'arthur.fernandes@hotmail.com'], 107: ['107', 'TeachingFellow', 'Jonas', 'Kristiansen', 'male', 'jonas.kristiansen@hotmail.com'], 108: ['108', 'Researcher', 'Jose Angel', 'Martí', 'male', 'jose angel.martí@gmail.com'], 109: ['109', 'Professor', 'Alexander', 'Ødegård', 'male', 'alexander.ødegård@gmail.com'], 110: ['110', 'Assistant Professor', 'Rusnė', 'Butkus', 'male', 'rusnė.butkus@yahoo.com'], 111: ['111', 'Researcher', 'Sebastiaan', 'Vos', 'male', 'sebastiaan.vos@gmail.com'], 112: ['112', 'Ph.D.', 'Carol', 'Davies', 'non binary', 'carol.davies@hotmail.co.uk'], 113: ['113', 'Assistant Professor', 'Enzo Gabriel', 'Gonçalves', 'male', 'enzo gabriel.gonçalves@yahoo.com.br'], 114: ['114', 'Senior Teaching Fellow', 'Alexa', 'Mack', 'non binary', 'alexa.mack@gmail.com'], 115: ['115', 'Senior Lecturer', 'Isabel', 'Gerrits', 'female', 'isabel.gerrits@yahoo.com'], 116: ['116', 'TeachingFellow', 'João', 'Sousa', 'male', 'joão.sousa@clix.pt'], 117: ['117', 'Senior Teaching Fellow', 'Sandra', 'Buonauro', 'female', 'sandra.buonauro@virgilio.it'], 118: ['118', 'TeachingFellow', 'Marie', 'Lowe', 'non binary', 'marie.lowe@hotmail.co.uk'], 119: ['119', 'Assistant Professor', 'Ojas', 'Deo', 'female', 'ojas.deo@hotmail.com'], 120: ['120', 'Lecturer', 'Zara', 'Kale', 'male', 'zara.kale@hotmail.com'], 121: ['121', 'Lecturer', 'Anastasie', 'Moulin', 'female', 'anastasie.moulin@laposte.net'], 122: ['122', 'Assistant Professor', 'Joshua', 'Holder', 'male', 'joshua.holder@yahoo.com'], 123: ['123', 'Associate Professor', 'Naiara', 'Mota', 'female', 'naiara.mota@clix.pt'], 124: ['124', 'Researcher', 'Jules', 'Coulon', 'male', 'jules.coulon@wanadoo.fr'], 125: ['125', 'Senior Lecturer', 'Antony', 'Ali', 'male', 'antony.ali@yahoo.com'], 126: ['126', 'Assistant Professor', 'Georges', 'Jourdan', 'male', 'georges.jourdan@bouygtel.fr'], 127: ['127', 'Senior Lecturer', 'Luzie', 'Junken', 'female', 'luzie.junken@yahoo.de'], 128: ['128', 'Researcher', 'Ashley', 'Rodriguez', 'non binary', 'ashley.rodriguez@yahoo.com'], 129: ['129', 'Associate Professor', 'Nisa', 'Verharen', 'female', 'nisa.verharen@hotmail.com'], 130: ['130', 'Assistant Professor', 'Gioffre', 'Volta', 'male', 'gioffre.volta@live.com'], 131: ['131', 'Senior Lecturer', 'Enrika', 'Vsiliauskas', 'female', 'enrika.vsiliauskas@gmail.com'], 132: ['132', 'Professor', 'Torill', 'Henriksen', 'female', 'torill.henriksen@hotmail.com'], 133: ['133', 'Ph.D.', 'Leopoldine', 'Hermann', 'non binary', 'leopoldine.hermann@hotmail.de'], 134: ['134', 'Professor', 'Vitor Hugo', 'Freitas', 'male', 'vitor hugo.freitas@yahoo.com.br'], 135: ['135', 'Senior Teaching Fellow', 'Marcia', 'Agustín', 'female', 'marcia.agustín@yahoo.com'], 136: ['136', 'Assistant Professor', 'Ezequiel', 'Figueras', 'male', 'ezequiel.figueras@yahoo.com'], 137: ['137', 'Associate Professor', 'Mikhail', 'Christoph', 'male', 'mikhail.christoph@hotmail.de'], 138: ['138', 'Professor Emeritus', 'Dominik', 'Römer', 'male', 'dominik.römer@googlemail.com'], 139: ['139', 'Researcher', 'Arnulfo', 'Branciforte', 'male', 'arnulfo.branciforte@tiscali.it'], 140: ['140', 'Lecturer', 'Pomponio', 'Nolcini', 'male', 'pomponio.nolcini@tele2.it'], 141: ['141', 'TeachingFellow', 'Noa', 'Assunção', 'male', 'noa.assunção@sapo.pt'], 142: ['142', 'Researcher', 'Vincent', 'Täsche', 'male', 'vincent.täsche@hotmail.de'], 143: ['143', 'Professor Emeritus', 'Mamooty', 'Chaudry', 'male', 'mamooty.chaudry@hotmail.com'], 144: ['144', 'Senior Lecturer', 'Synnøve', 'Evensen', 'female', 'synnøve.evensen@yahoo.com'], 145: ['145', 'Assistant Professor', 'Joana', 'Rodrigues', 'female', 'joana.rodrigues@gmail.com'], 146: ['146', 'Lecturer', 'Pedro Henrique', 'das Neves', 'male', 'pedro henrique.das neves@gmail.com'], 147: ['147', 'Assistant Professor', 'Joaquim', 'Ferreira', 'male', 'joaquim.ferreira@uol.com.br'], 148: ['148', 'Professor Emeritus', 'Ugnė', 'Gronskis', 'non binary', 'ugnė.gronskis@yahoo.com'], 149: ['149', 'Ph.D.', 'Mauro', 'Neves', 'male', 'mauro.neves@hotmail.com'], 150: ['150', 'Professor Emeritus', 'Taşkan', 'Akçay', 'male', 'taşkan.akçay@yandex.com'], 151: ['151', 'Associate Professor', 'Pietro', 'Pires', 'male', 'pietro.pires@uol.com.br'], 152: ['152', 'Ph.D.', 'Tony', 'Thomas', 'male', 'tony.thomas@yahoo.com'], 153: ['153', 'Senior Lecturer', 'Linnéa', 'Sandström', 'female', 'linnéa.sandström@swipnet.se'], 154: ['154', 'Senior Lecturer', 'Evy', 'van Klaarwater', 'female', 'evy.van klaarwater@gmail.com'], 155: ['155', 'Associate Professor', 'Aleksandras', 'Kalvaitis', 'male', 'aleksandras.kalvaitis@hotmail.com'], 156: ['156', 'Associate Professor', 'Luciana', 'Batista', 'female', 'luciana.batista@sapo.pt'], 157: ['157', 'Professor Emeritus', 'Vítor', 'Nunes', 'male', 'vítor.nunes@gmail.com'], 158: ['158', 'Senior Lecturer', 'Luis Ángel', 'Llopis', 'male', 'luis ángel.llopis@yahoo.com'], 159: ['159', 'Professor Emeritus', 'Douglas', 'Hancock', 'male', 'douglas.hancock@yahoo.com'], 160: ['160', 'Associate Professor', 'Anette', 'Carlsson', 'female', 'anette.carlsson@gmail.com'], 161: ['161', 'Ph.D.', 'Yara', 'Moura', 'female', 'yara.moura@clix.pt'], 162: ['162', 'Researcher', 'Arne', 'Ødegård', 'non binary', 'arne.ødegård@gmail.com'], 163: ['163', 'Associate Professor', 'Frederico', 'Cruz', 'male', 'frederico.cruz@sapo.pt'], 164: ['164', 'TeachingFellow', 'Yasmin', 'Chawla', 'female', 'yasmin.chawla@hotmail.com'], 165: ['165', 'Ph.D.', 'Margaret', 'Dos Santos', 'female', 'margaret.dos santos@noos.fr'], 166: ['166', 'Professor Emeritus', 'Poncio', 'Prada', 'male', 'poncio.prada@hotmail.com'], 167: ['167', 'Professor Emeritus', 'Samar', 'Madan', 'female', 'samar.madan@hotmail.com'], 168: ['168', 'Professor', 'Michelangelo', 'Giorgetti', 'non binary', 'michelangelo.giorgetti@tin.it'], 169: ['169', 'Assistant Professor', 'Jean', 'Gomez', 'male', 'jean.gomez@gmail.com'], 170: ['170', 'Senior Lecturer', 'Ana', 'Akelis', 'female', 'ana.akelis@yahoo.com'], 171: ['171', 'TeachingFellow', 'Alexandra', 'Olsson', 'female', 'alexandra.olsson@googlemail.com'], 172: ['172', 'Researcher', 'Mauro', 'Magalhães', 'male', 'mauro.magalhães@sapo.pt'], 173: ['173', 'TeachingFellow', 'Diane', 'Lambert', 'female', 'diane.lambert@free.fr'], 174: ['174', 'Assistant Professor', 'Valerio', 'Balbi', 'male', 'valerio.balbi@vodafone.it'], 175: ['175', 'Assistant Professor', 'Alexander', 'Hargreaves', 'male', 'alexander.hargreaves@gmail.com'], 176: ['176', 'Assistant Professor', 'Riccardo', 'Errigo', 'male', 'riccardo.errigo@virgilio.it'], 177: ['177', 'Professor Emeritus', 'Nelson', 'Garcia', 'male', 'nelson.garcia@hotmail.com'], 178: ['178', 'Associate Professor', 'Antonino', 'Döring', 'male', 'antonino.döring@gmail.com'], 179: ['179', 'TeachingFellow', 'Ole', 'Nygård', 'male', 'ole.nygård@hotmail.com'], 180: ['180', 'Professor Emeritus', 'Danny', 'Clark', 'non binary', 'danny.clark@hotmail.co.uk'], 181: ['181', 'Professor', 'Jayne', 'Glover', 'female', 'jayne.glover@hotmail.co.uk'], 182: ['182', 'Ph.D.', 'Teo', 'Parra', 'male', 'teo.parra@yahoo.com'], 183: ['183', 'Senior Teaching Fellow', 'Gustas', 'Poška', 'non binary', 'gustas.poška@hotmail.com'], 184: ['184', 'Associate Professor', 'Akboğa', 'Türk', 'non binary', 'akboğa.türk@yahoo.com'], 185: ['185', 'Professor', 'Rita', 'Gaižauskas', 'female', 'rita.gaižauskas@gmail.com'], 186: ['186', 'Associate Professor', 'Juana', 'Aranda', 'female', 'juana.aranda@yahoo.com'], 187: ['187', 'Senior Lecturer', 'Steven', 'Robbins', 'male', 'steven.robbins@hotmail.com'], 188: ['188', 'Professor', 'Arūnas', 'Petrauskas', 'male', 'arūnas.petrauskas@gmail.com'], 189: ['189', 'Assistant Professor', 'Timothy', 'Smith', 'male', 'timothy.smith@outlook.com'], 190: ['190', 'Lecturer', 'Kenneth', 'Viklund', 'male', 'kenneth.viklund@telia.com'], 191: ['191', 'Professor Emeritus', 'Gunilla', 'Johansson', 'female', 'gunilla.johansson@live.se'], 192: ['192', 'Senior Teaching Fellow', 'Hüda', 'Dumanlı', 'female', 'hüda.dumanlı@hotmail.com'], 193: ['193', 'Ph.D.', 'Micael', 'Nunes', 'male', 'micael.nunes@hotmail.com'], 194: ['194', 'Professor Emeritus', 'Cipriano', 'Morucci', 'male', 'cipriano.morucci@alice.it'], 195: ['195', 'Senior Lecturer', 'Rūta', 'Kairys', 'male', 'rūta.kairys@hotmail.com'], 196: ['196', 'Professor Emeritus', 'Evelien', 'Frankhuizen', 'female', 'evelien.frankhuizen@yahoo.com'], 197: ['197', 'Lecturer', 'Bernardo', 'Atienza', 'male', 'bernardo.atienza@yahoo.com'], 198: ['198', 'TeachingFellow', 'Anthony', 'Anderson', 'male', 'anthony.anderson@gmail.com'], 199: ['199', 'Professor Emeritus', 'Faiyaz', 'Buch', 'male', 'faiyaz.buch@yahoo.com'], 200: ['200', 'TeachingFellow', 'Martin', 'Price', 'male', 'martin.price@yahoo.com'], 201: ['201', 'Researcher', 'Krish', 'Bala', 'male', 'krish.bala@hotmail.com'], 202: ['202', 'Researcher', 'Abuzar', 'Korutürk', 'non binary', 'abuzar.korutürk@yahoo.com'], 203: ['203', 'Assistant Professor', 'Yara', 'Moura', 'female', 'yara.moura@gmail.com'], 204: ['204', 'TeachingFellow', 'Eimantas', 'Žukauskas', 'female', 'eimantas.žukauskas@hotmail.com'], 205: ['205', 'Associate Professor', 'Louise', 'Ryan', 'female', 'louise.ryan@hotmail.co.uk'], 206: ['206', 'Lecturer', 'Ashley', 'Reeves', 'female', 'ashley.reeves@gmail.com'], 207: ['207', 'Associate Professor', 'Zain', 'Loyal', 'male', 'zain.loyal@hotmail.com'], 208: ['208', 'Professor Emeritus', 'Andreas', 'Jensen', 'male', 'andreas.jensen@hotmail.com'], 209: ['209', 'Associate Professor', 'Gabriela', 'Andrade', 'female', 'gabriela.andrade@hotmail.com'], 210: ['210', 'Senior Lecturer', 'Bruno', 'Solsona', 'male', 'bruno.solsona@hotmail.com'], 211: ['211', 'Researcher', 'Madalena', 'Teixeira', 'female', 'madalena.teixeira@gmail.com'], 212: ['212', 'Professor', 'Lina', 'Castejón', 'female', 'lina.castejón@yahoo.com'], 213: ['213', 'Ph.D.', 'Giovanna', 'Bignami', 'female', 'giovanna.bignami@libero.it'], 214: ['214', 'Researcher', 'Denis', 'Barthelemy', 'male', 'denis.barthelemy@bouygtel.fr'], 215: ['215', 'Senior Lecturer', 'Richard', 'Andersson', 'male', 'richard.andersson@live.se'], 216: ['216', 'Associate Professor', 'Gürten', 'Güçlü', 'female', 'gürten.güçlü@yaani.com'], 217: ['217', 'Senior Lecturer', 'Deborah', 'Kostolzin', 'female', 'deborah.kostolzin@yahoo.de'], 218: ['218', 'Professor Emeritus', 'Nathan', 'Porter', 'male', 'nathan.porter@gmail.com'], 219: ['219', 'Lecturer', 'Samuel', 'Abreu', 'male', 'samuel.abreu@sapo.pt'], 220: ['220', 'Lecturer', 'Lauren', 'Hughes', 'female', 'lauren.hughes@yahoo.co.uk'], 221: ['221', 'Lecturer', 'Elisabeth', 'Eimer', 'female', 'elisabeth.eimer@aol.de'], 222: ['222', 'Lecturer', 'Joel', 'Eliasson', 'male', 'joel.eliasson@googlemail.com'], 223: ['223', 'Senior Lecturer', 'Leonard', 'Smith', 'male', 'leonard.smith@outlook.com'], 224: ['224', 'Associate Professor', 'Étienne', 'Legrand', 'male', 'étienne.legrand@wanadoo.fr'], 225: ['225', 'Ph.D.', 'Aksöğüt', 'Fırat', 'male', 'aksöğüt.fırat@yaani.com'], 226: ['226', 'Researcher', 'Rafael', 'Gonçalves', 'male', 'rafael.gonçalves@ig.com.br'], 227: ['227', 'Senior Lecturer', 'Ryszard', 'Niemeier', 'male', 'ryszard.niemeier@web.de'], 228: ['228', 'Associate Professor', 'Dante', 'Fittipaldi', 'male', 'dante.fittipaldi@alice.it'], 229: ['229', 'Senior Teaching Fellow', 'Vigilija', 'Ambrasas', 'male', 'vigilija.ambrasas@yahoo.com'], 230: ['230', 'Researcher', 'Ermanno', 'Gualtieri', 'male', 'ermanno.gualtieri@vodafone.it'], 231: ['231', 'Lecturer', 'Arvydas', 'Gailius', 'male', 'arvydas.gailius@yahoo.com'], 232: ['232', 'Ph.D.', 'Céline', 'Delahaye', 'female', 'céline.delahaye@tele2.fr'], 233: ['233', 'Senior Lecturer', 'Astrid', 'Rasmussen', 'female', 'astrid.rasmussen@hotmail.com'], 234: ['234', 'Associate Professor', 'Leah', 'van Este', 'female', 'leah.van este@yahoo.com'], 235: ['235', 'Senior Teaching Fellow', 'Geneviève', 'Techer', 'female', 'geneviève.techer@gmail.com'], 236: ['236', 'Senior Lecturer', 'Elena', 'Mazzeo', 'female', 'elena.mazzeo@gmail.com'], 237: ['237', 'Associate Professor', 'Amelia', 'Cant', 'non binary', 'amelia.cant@yahoo.com'], 238: ['238', 'Lecturer', 'Carlo', 'Offredi', 'male', 'carlo.offredi@virgilio.it'], 239: ['239', 'Professor', 'René', 'Denis', 'male', 'rené.denis@ifrance.com'], 240: ['240', 'Senior Teaching Fellow', 'Renée', 'Gallet', 'female', 'renée.gallet@voila.fr'], 241: ['241', 'Lecturer', 'Isabela', 'Lourenço', 'female', 'isabela.lourenço@hotmail.com'], 242: ['242', 'Professor', 'Zara', 'Kapoor', 'male', 'zara.kapoor@gmail.com'], 243: ['243', 'Associate Professor', 'Octavio', 'Saura', 'male', 'octavio.saura@gmail.com'], 244: ['244', 'Senior Teaching Fellow', 'Margareta', 'Svensson', 'non binary', 'margareta.svensson@telia.com'], 245: ['245', 'Lecturer', 'Erikas', 'Poška', 'female', 'erikas.poška@yahoo.com'], 246: ['246', 'Researcher', 'David', 'Chauvin', 'male', 'david.chauvin@dbmail.com'], 247: ['247', 'Ph.D.', 'Éléonore', 'Bertrand', 'female', 'éléonore.bertrand@voila.fr'], 248: ['248', 'TeachingFellow', 'Auguste', 'Moreau', 'male', 'auguste.moreau@laposte.net'], 249: ['249', 'TeachingFellow', 'Rodolfo', 'Narváez', 'male', 'rodolfo.narváez@gmail.com'], 250: ['250', 'Professor', 'Erik', 'Jansson', 'male', 'erik.jansson@swipnet.se'], 251: ['251', 'Lecturer', 'Russell', 'Thomas', 'male', 'russell.thomas@hotmail.co.uk'], 252: ['252', 'Associate Professor', 'Paul', 'Gordon', 'male', 'paul.gordon@yahoo.com'], 253: ['253', 'Assistant Professor', 'Christopher', 'Scholl', 'male', 'christopher.scholl@gmx.de'], 254: ['254', 'Senior Lecturer', 'Erica', 'Yang', 'female', 'erica.yang@gmail.com'], 255: ['255', 'Senior Teaching Fellow', 'Yasmin', 'Nascimento', 'female', 'yasmin.nascimento@clix.pt'], 256: ['256', 'Researcher', 'Neelofar', 'Subramaniam', 'male', 'neelofar.subramaniam@gmail.com'], 257: ['257', 'Senior Lecturer', 'Thales', 'Vieira', 'male', 'thales.vieira@ig.com.br'], 258: ['258', 'Associate Professor', 'Maud', 'Aertsz', 'female', 'maud.aertsz@gmail.com'], 259: ['259', 'Lecturer', 'Sieghard', 'Löchel', 'male', 'sieghard.löchel@gmx.de'], 260: ['260', 'Professor Emeritus', 'Živilė', 'Akelis', 'male', 'živilė.akelis@gmail.com'], 261: ['261', 'Researcher', 'Thomas', 'Nguyen', 'male', 'thomas.nguyen@hotmail.com'], 262: ['262', 'Assistant Professor', 'Lauren', 'Brown', 'female', 'lauren.brown@outlook.com'], 263: ['263', 'Associate Professor', 'Tere', 'Fernández', 'non binary', 'tere.fernández@hotmail.com'], 264: ['264', 'Assistant Professor', 'Anne', 'Preston', 'female', 'anne.preston@yahoo.co.uk'], 265: ['265', 'Assistant Professor', 'Enzo', 'Coppola', 'male', 'enzo.coppola@virgilio.it'], 266: ['266', 'TeachingFellow', 'Elma', 'Hörle', 'female', 'elma.hörle@hotmail.de'], 267: ['267', 'Professor', 'Ninetta', 'Ficino', 'female', 'ninetta.ficino@gmail.com'], 268: ['268', 'Lecturer', 'Adrian', 'Stephens', 'male', 'adrian.stephens@hotmail.com'], 269: ['269', 'Senior Lecturer', 'Tautvydas', 'Narušis', 'female', 'tautvydas.narušis@hotmail.com'], 270: ['270', 'Associate Professor', 'Stephanie', 'Martinez', 'female', 'stephanie.martinez@hotmail.com'], 271: ['271', 'Ph.D.', 'Arvydas', 'Gronskis', 'female', 'arvydas.gronskis@hotmail.com'], 272: ['272', 'Senior Lecturer', 'Umberto', 'Taliani', 'male', 'umberto.taliani@live.com'], 273: ['273', 'Researcher', 'Dominykas', 'Gagys', 'non binary', 'dominykas.gagys@hotmail.com'], 274: ['274', 'Professor Emeritus', 'Kieran', 'Simpson', 'male', 'kieran.simpson@gmail.com'], 275: ['275', 'Ph.D.', 'Margit', 'Lindblom', 'female', 'margit.lindblom@live.se'], 276: ['276', 'Senior Lecturer', 'Pietro', 'Campos', 'male', 'pietro.campos@uol.com.br'], 277: ['277', 'Senior Teaching Fellow', 'Jovita', 'Gaičiūnas', 'female', 'jovita.gaičiūnas@gmail.com'], 278: ['278', 'Ph.D.', 'Amelija', 'Akelis', 'female', 'amelija.akelis@gmail.com'], 279: ['279', 'Researcher', 'Tirza', 'Boer', 'non binary', 'tirza.boer@gmail.com'], 280: ['280', 'TeachingFellow', 'Monika', 'Sakalauskas', 'male', 'monika.sakalauskas@hotmail.com'], 281: ['281', 'Lecturer', 'John', 'Mattsson', 'male', 'john.mattsson@googlemail.com'], 282: ['282', 'Lecturer', 'Hannah', 'Brievingh', 'female', 'hannah.brievingh@gmail.com'], 283: ['283', 'Professor Emeritus', 'Anthony', 'Gallagher', 'male', 'anthony.gallagher@gmail.com'], 284: ['284', 'Ph.D.', 'Alison', 'Alvarado', 'female', 'alison.alvarado@hotmail.com'], 285: ['285', 'Lecturer', 'Astrid', 'Madsen', 'female', 'astrid.madsen@gmail.com'], 286: ['286', 'Lecturer', 'Cecilie', 'Berge', 'female', 'cecilie.berge@yahoo.com'], 287: ['287', 'Associate Professor', 'Luciana', 'Seddio', 'female', 'luciana.seddio@tele2.it'], 288: ['288', 'Associate Professor', 'Elisabet', 'Jonsson', 'female', 'elisabet.jonsson@swipnet.se'], 289: ['289', 'Ph.D.', 'Heyvetullah', 'Akar', 'male', 'heyvetullah.akar@yaani.com'], 290: ['290', 'Associate Professor', 'Chus', 'Blanch', 'female', 'chus.blanch@gmail.com'], 291: ['291', 'Lecturer', 'Olivija', 'Kalvėnas', 'male', 'olivija.kalvėnas@yahoo.com'], 292: ['292', 'Associate Professor', 'Bernard', 'Hoareau', 'male', 'bernard.hoareau@live.com'], 293: ['293', 'Assistant Professor', 'Ângelo', 'Miranda', 'male', 'ângelo.miranda@sapo.pt'], 294: ['294', 'Ph.D.', 'Jerónimo', 'Nebot', 'non binary', 'jerónimo.nebot@yahoo.com'], 295: ['295', 'Lecturer', 'Vincent', 'Chapman', 'male', 'vincent.chapman@outlook.com'], 296: ['296', 'Associate Professor', 'Samiha', 'Kulkarni', 'male', 'samiha.kulkarni@gmail.com'], 297: ['297', 'Researcher', 'Urvi', 'De', 'male', 'urvi.de@hotmail.com'], 298: ['298', 'Lecturer', 'Hans-Werner', 'Siering', 'male', 'hans-werner.siering@googlemail.com'], 299: ['299', 'Associate Professor', 'Lakshay', 'Shanker', 'female', 'lakshay.shanker@yahoo.com'], 300: ['300', 'Professor', 'Concetta', 'Tartini', 'female', 'concetta.tartini@tele2.it']}\n"
     ]
    }
   ],
   "source": [
    "print(instructorDict)"
   ]
  },
  {
   "cell_type": "code",
   "execution_count": 12,
   "id": "81faffa5",
   "metadata": {},
   "outputs": [],
   "source": [
    "newInstructorDict = dict()\n",
    "for key in instructorDict[0]:\n",
    "    newInstructorDict[key] = list()\n",
    "for i in range(1, len(instructorDict)):\n",
    "    newInstructorDict['instructorID'].append(int(instructorDict[i][0]))\n",
    "    newInstructorDict['firstName'].append(instructorDict[i][1])\n",
    "    newInstructorDict['lastName'].append(instructorDict[i][2])\n",
    "    newInstructorDict['genre'].append(instructorDict[i][3])\n",
    "    newInstructorDict['role'].append(instructorDict[i][4])\n",
    "    newInstructorDict['email'].append(instructorDict[i][5])"
   ]
  },
  {
   "cell_type": "markdown",
   "id": "cc75a62f",
   "metadata": {},
   "source": [
    "<h3>\n",
    "Print out the result (a small sample)\n",
    "</h3>"
   ]
  },
  {
   "cell_type": "code",
   "execution_count": 13,
   "id": "a6826323",
   "metadata": {},
   "outputs": [
    {
     "name": "stdout",
     "output_type": "stream",
     "text": [
      "iID    firstName        lastName         genre       role                  email\n",
      "1      Senior Teaching Fellow  Marco            Plaza       male                  marco.plaza@yahoo.com\n",
      "2      Senior Teaching Fellow  Dominyka         Kalvelis    male                  dominyka.kalvelis@gmail.com\n",
      "3      Professor        Sissel           Bakken      female                sissel.bakken@hotmail.com\n",
      "4      Senior Teaching Fellow  João Guilherme   Ferreira    male                  joão guilherme.ferreira@uol.co\n",
      "5      Associate Professor  Petrona          Baños       female                petrona.baños@yahoo.com\n",
      "6      Associate Professor  Mark             Taylor      male                  mark.taylor@yahoo.com\n",
      "7      Senior Teaching Fellow  Stein            Isaksen     non binary            stein.isaksen@gmail.com\n",
      "8      Senior Lecturer  Mario            Valcárcel   male                  mario.valcárcel@hotmail.com\n",
      "9      Assistant Professor  Edgar            Pires       male                  edgar.pires@sapo.pt\n",
      "10     Senior Teaching Fellow  Christian        Lowe        male                  christian.lowe@hotmail.com\n",
      "11     Ph.D.            Ojas             Ram         male                  ojas.ram@yahoo.com\n",
      "12     Ph.D.            Renée            Chevalier   female                renée.chevalier@voila.fr\n",
      "13     Lecturer         Jayda            Scholten    non binary            jayda.scholten@hotmail.com\n",
      "14     Ph.D.            Julie            Jacob       female                julie.jacob@tele2.fr\n",
      "15     Professor Emeritus  Erika            Travaglia   female                erika.travaglia@vodafone.it\n",
      "16     Senior Teaching Fellow  Plácido          Cobo        male                  plácido.cobo@gmail.com\n",
      "17     Ph.D.            Jorunn           Sæther      female                jorunn.sæther@yahoo.com\n",
      "18     Professor Emeritus  Juozas           Butkus      female                juozas.butkus@yahoo.com\n",
      "19     Senior Teaching Fellow  Luciana          Silva       female                luciana.silva@clix.pt\n",
      "20     Lecturer         Maurilio         Legnante    male                  maurilio.legnante@live.com\n",
      "21     Senior Lecturer  William          Webster     male                  william.webster@outlook.com\n",
      "22     Ph.D.            Simonas          Urbonas     female                simonas.urbonas@gmail.com\n",
      "23     Professor Emeritus  Olalla           Frías       female                olalla.frías@hotmail.com\n",
      "24     Lecturer         Magrit           Binner      female                magrit.binner@gmail.com\n",
      "25     Assistant Professor  Davi Luiz        Dias        male                  davi luiz.dias@bol.com.br\n",
      "26     Senior Lecturer  Liana            Giunti      non binary            liana.giunti@tin.it\n",
      "27     Professor Emeritus  Marcelo          Campos      male                  marcelo.campos@hotmail.com\n",
      "28     Professor        Benas            Nausėda     female                benas.nausėda@hotmail.com\n",
      "29     Lecturer         Corrado          Pacetti     male                  corrado.pacetti@hotmail.com\n",
      "30     TeachingFellow   Tony             Holzapfel   male                  tony.holzapfel@aol.de\n",
      "31     Assistant Professor  Oorja            Wagle       female                oorja.wagle@yahoo.com\n",
      "32     TeachingFellow   Christine        Guillaume   female                christine.guillaume@orange.fr\n",
      "33     Senior Lecturer  Joanna           Smith       female                joanna.smith@hotmail.co.uk\n",
      "34     TeachingFellow   Carmina          Casanovas   female                carmina.casanovas@gmail.com\n",
      "35     Lecturer         Regina           Rivera      female                regina.rivera@gmail.com\n",
      "36     Lecturer         Soykut           Bilge       male                  soykut.bilge@yandex.com\n",
      "37     Associate Professor  Chloé            Horrocks    female                chloé.horrocks@gmail.com\n",
      "38     Ph.D.            Gianna           Barberini   female                gianna.barberini@tele2.it\n",
      "39     Researcher       Fredrik          Strand      male                  fredrik.strand@yahoo.com\n",
      "40     Senior Lecturer  Vanessa          Coppola     female                vanessa.coppola@gmail.com\n",
      "41     Associate Professor  Anthony          Wright      male                  anthony.wright@gmail.com\n",
      "42     Senior Teaching Fellow  Afonso           Monteiro    male                  afonso.monteiro@hotmail.com\n",
      "43     Senior Lecturer  Edvardas         Jankauskas  female                edvardas.jankauskas@gmail.com\n",
      "44     Senior Lecturer  Per              Hedberg     male                  per.hedberg@yahoo.de\n",
      "45     Senior Teaching Fellow  Maria Luiza      Melo        female                maria luiza.melo@bol.com.br\n",
      "46     Senior Teaching Fellow  Rhys             Fletcher    male                  rhys.fletcher@yahoo.co.uk\n",
      "47     Senior Teaching Fellow  Claudine         Lambert     female                claudine.lambert@dbmail.com\n",
      "48     Professor        Jolanta          Galdikas    female                jolanta.galdikas@yahoo.com\n",
      "49     Professor        Lorraine         Evans       female                lorraine.evans@yahoo.co.uk\n",
      "50     Researcher       Leandro          Silva       male                  leandro.silva@gmail.com\n",
      "[...]\n"
     ]
    }
   ],
   "source": [
    "# 50 elements from each list\n",
    "print('iID', ' ' * (5 - len('iID')), 'firstName', ' ' * (15 - len('firstName')), 'lastName', ' ' * (15 - len('lastName')), 'genre', ' ' * (10 - len('genre')), 'role', ' ' * (20 - len('role')), 'email')\n",
    "for i in range(0, 50):\n",
    "    iID = newInstructorDict['instructorID'][i]\n",
    "    firstName = newInstructorDict['firstName'][i]\n",
    "    lastName = newInstructorDict['lastName'][i]\n",
    "    genre = newInstructorDict['genre'][i]\n",
    "    role = newInstructorDict['role'][i]\n",
    "    email = newInstructorDict['email'][i]\n",
    "    print(iID, ' ' * (5 - len(str(iID))), firstName, ' ' * (15 - len(firstName)), lastName, ' ' * (15 - len(lastName)), genre, ' ' * (10 - len(genre)), role[0 : 18], ' ' * (20 - len(role[0 : 18])), email[0 : 30])\n",
    "print('[...]')"
   ]
  },
  {
   "cell_type": "markdown",
   "id": "50de177f",
   "metadata": {},
   "source": [
    "<h3>\n",
    "Generate fake teaching data\n",
    "</h3><br>\n",
    "In my idea, it is realistic to think that a course has at least 2 instructors, but no more than 5. However, each instructor is associated to a course category (discipline). If she teaches IT, she cannot teach medicine, or humanities. <br> To mimic a situation like that I first ckeck how many courses there are for each distinct category and build a category frequency. It is to be noted that each course is confirmed for two different years, hence I add 0.5 instead of 1 for counting courses."
   ]
  },
  {
   "cell_type": "code",
   "execution_count": 14,
   "id": "d2b870f8",
   "metadata": {},
   "outputs": [
    {
     "name": "stdout",
     "output_type": "stream",
     "text": [
      "There are 10 course categories / disciplines.\n",
      "There are 13 courses in the sciences category / discipline\n",
      "There are 57 courses in the IT category / discipline\n",
      "There are 32 courses in the miscellaneous category / discipline\n",
      "There are 7 courses in the maths category / discipline\n",
      "There are 27 courses in the languages category / discipline\n",
      "There are 25 courses in the psychology category / discipline\n",
      "There are 11 courses in the medicine category / discipline\n",
      "There are 45 courses in the economics and management category / discipline\n",
      "There are 9 courses in the statistics category / discipline\n",
      "There are 14 courses in the humanities category / discipline\n",
      "There is a total of 240 courses.\n",
      "Courses in the sciences category / discipline have a frequency of 5.4 %\n",
      "Courses in the IT category / discipline have a frequency of 23.8 %\n",
      "Courses in the miscellaneous category / discipline have a frequency of 13.3 %\n",
      "Courses in the maths category / discipline have a frequency of 2.9 %\n",
      "Courses in the languages category / discipline have a frequency of 11.2 %\n",
      "Courses in the psychology category / discipline have a frequency of 10.4 %\n",
      "Courses in the medicine category / discipline have a frequency of 4.6 %\n",
      "Courses in the economics and management category / discipline have a frequency of 18.8 %\n",
      "Courses in the statistics category / discipline have a frequency of 3.8 %\n",
      "Courses in the humanities category / discipline have a frequency of 5.8 %\n"
     ]
    }
   ],
   "source": [
    "# list of distinct categories/disciplines\n",
    "catList = list(set(newCourseDict['discipline']))\n",
    "\n",
    "# number of courses per category/discipline\n",
    "catDict = dict()\n",
    "for category in catList:\n",
    "    catDict[category] = 0\n",
    "for category in catList:\n",
    "        for courseCategory in newCourseDict['discipline']:\n",
    "            if category == courseCategory:\n",
    "                catDict[category] += .5\n",
    "print('There are', len(catList), 'course categories / disciplines.')\n",
    "for category, number in catDict.items():\n",
    "    print('There are', int(number), 'courses in the', category, 'category / discipline')\n",
    "\n",
    "# total courses\n",
    "tot = 0\n",
    "for number in catDict.values():\n",
    "    tot += int(number)\n",
    "print('There is a total of', tot, 'courses.')\n",
    "\n",
    "# frequency of courses per category\n",
    "freqDict = dict()\n",
    "for category, number in catDict.items():\n",
    "    freqDict[category] = round((number / tot) * 100, 1)\n",
    "for category, frequency in freqDict.items():\n",
    "    print('Courses in the', category, 'category / discipline have a frequency of', frequency, '%')"
   ]
  },
  {
   "cell_type": "markdown",
   "id": "096993e9",
   "metadata": {},
   "source": [
    "I build a new list of categories to mimic the frequency in which they appear in the dataset. Since there are exactly 10 categories / disciplines, it is sufficient to multiply each of them by their frequency to build a new balanced list where each category / discipline appears for the right frequency."
   ]
  },
  {
   "cell_type": "code",
   "execution_count": 15,
   "id": "58b96290",
   "metadata": {},
   "outputs": [
    {
     "name": "stdout",
     "output_type": "stream",
     "text": [
      "['sciences', 'sciences', 'sciences', 'sciences', 'sciences', 'IT', 'IT', 'IT', 'IT', 'IT', 'IT', 'IT', 'IT', 'IT', 'IT', 'IT', 'IT', 'IT', 'IT', 'IT', 'IT', 'IT', 'IT', 'IT', 'IT', 'IT', 'IT', 'IT', 'IT', 'miscellaneous', 'miscellaneous', 'miscellaneous', 'miscellaneous', 'miscellaneous', 'miscellaneous', 'miscellaneous', 'miscellaneous', 'miscellaneous', 'miscellaneous', 'miscellaneous', 'miscellaneous', 'miscellaneous', 'maths', 'maths', 'maths', 'languages', 'languages', 'languages', 'languages', 'languages', 'languages', 'languages', 'languages', 'languages', 'languages', 'languages', 'psychology', 'psychology', 'psychology', 'psychology', 'psychology', 'psychology', 'psychology', 'psychology', 'psychology', 'psychology', 'medicine', 'medicine', 'medicine', 'medicine', 'medicine', 'economics and management', 'economics and management', 'economics and management', 'economics and management', 'economics and management', 'economics and management', 'economics and management', 'economics and management', 'economics and management', 'economics and management', 'economics and management', 'economics and management', 'economics and management', 'economics and management', 'economics and management', 'economics and management', 'economics and management', 'economics and management', 'economics and management', 'statistics', 'statistics', 'statistics', 'statistics', 'humanities', 'humanities', 'humanities', 'humanities', 'humanities', 'humanities']\n"
     ]
    }
   ],
   "source": [
    "freqCatList = list()\n",
    "for category, value in freqDict.items():\n",
    "    for i in range(0, int(round(value, 0))):\n",
    "        freqCatList.append(category)\n",
    "print(freqCatList)"
   ]
  },
  {
   "cell_type": "markdown",
   "id": "1fb62baf",
   "metadata": {},
   "source": [
    "Instructors are attached a category by sampling from the new category list. Since categories are represented according to their frequency, by sampling I should be able to distribute instructors to disciplines in accordance to the frequency in which a discipline is represented in the course list."
   ]
  },
  {
   "cell_type": "code",
   "execution_count": 16,
   "id": "39485930",
   "metadata": {},
   "outputs": [
    {
     "name": "stdout",
     "output_type": "stream",
     "text": [
      "1 IT\n",
      "2 economics and management\n",
      "3 psychology\n",
      "4 languages\n",
      "5 psychology\n",
      "6 economics and management\n",
      "7 economics and management\n",
      "8 economics and management\n",
      "9 IT\n",
      "10 IT\n",
      "11 IT\n",
      "12 IT\n",
      "13 miscellaneous\n",
      "14 humanities\n",
      "15 miscellaneous\n",
      "16 IT\n",
      "17 languages\n",
      "18 maths\n",
      "19 economics and management\n",
      "20 economics and management\n",
      "21 humanities\n",
      "22 economics and management\n",
      "23 IT\n",
      "24 medicine\n",
      "25 economics and management\n",
      "26 economics and management\n",
      "27 psychology\n",
      "28 psychology\n",
      "29 economics and management\n",
      "30 miscellaneous\n",
      "31 miscellaneous\n",
      "32 economics and management\n",
      "33 economics and management\n",
      "34 sciences\n",
      "35 medicine\n",
      "36 IT\n",
      "37 statistics\n",
      "38 IT\n",
      "39 miscellaneous\n",
      "40 languages\n",
      "41 economics and management\n",
      "42 statistics\n",
      "43 economics and management\n",
      "44 IT\n",
      "45 statistics\n",
      "46 psychology\n",
      "47 languages\n",
      "48 humanities\n",
      "49 economics and management\n",
      "50 economics and management\n",
      "51 IT\n",
      "52 maths\n",
      "53 IT\n",
      "54 psychology\n",
      "55 IT\n",
      "56 languages\n",
      "57 miscellaneous\n",
      "58 miscellaneous\n",
      "59 IT\n",
      "60 IT\n",
      "61 economics and management\n",
      "62 languages\n",
      "63 IT\n",
      "64 medicine\n",
      "65 languages\n",
      "66 IT\n",
      "67 economics and management\n",
      "68 humanities\n",
      "69 psychology\n",
      "70 medicine\n",
      "71 economics and management\n",
      "72 IT\n",
      "73 maths\n",
      "74 economics and management\n",
      "75 miscellaneous\n",
      "76 IT\n",
      "77 IT\n",
      "78 economics and management\n",
      "79 IT\n",
      "80 economics and management\n",
      "81 maths\n",
      "82 economics and management\n",
      "83 miscellaneous\n",
      "84 IT\n",
      "85 IT\n",
      "86 IT\n",
      "87 IT\n",
      "88 IT\n",
      "89 languages\n",
      "90 psychology\n",
      "91 IT\n",
      "92 miscellaneous\n",
      "93 miscellaneous\n",
      "94 IT\n",
      "95 psychology\n",
      "96 economics and management\n",
      "97 languages\n",
      "98 languages\n",
      "99 IT\n",
      "100 miscellaneous\n",
      "101 maths\n",
      "102 humanities\n",
      "103 languages\n",
      "104 IT\n",
      "105 IT\n",
      "106 miscellaneous\n",
      "107 IT\n",
      "108 languages\n",
      "109 miscellaneous\n",
      "110 economics and management\n",
      "111 languages\n",
      "112 IT\n",
      "113 miscellaneous\n",
      "114 languages\n",
      "115 IT\n",
      "116 psychology\n",
      "117 humanities\n",
      "118 IT\n",
      "119 languages\n",
      "120 languages\n",
      "121 IT\n",
      "122 IT\n",
      "123 statistics\n",
      "124 psychology\n",
      "125 maths\n",
      "126 miscellaneous\n",
      "127 economics and management\n",
      "128 psychology\n",
      "129 psychology\n",
      "130 miscellaneous\n",
      "131 economics and management\n",
      "132 statistics\n",
      "133 IT\n",
      "134 miscellaneous\n",
      "135 psychology\n",
      "136 psychology\n",
      "137 psychology\n",
      "138 economics and management\n",
      "139 IT\n",
      "140 psychology\n",
      "141 economics and management\n",
      "142 economics and management\n",
      "143 IT\n",
      "144 sciences\n",
      "145 languages\n",
      "146 economics and management\n",
      "147 sciences\n",
      "148 IT\n",
      "149 miscellaneous\n",
      "150 economics and management\n",
      "151 IT\n",
      "152 IT\n",
      "153 economics and management\n",
      "154 IT\n",
      "155 psychology\n",
      "156 IT\n",
      "157 economics and management\n",
      "158 medicine\n",
      "159 IT\n",
      "160 IT\n",
      "161 miscellaneous\n",
      "162 miscellaneous\n",
      "163 psychology\n",
      "164 economics and management\n",
      "165 languages\n",
      "166 statistics\n",
      "167 miscellaneous\n",
      "168 humanities\n",
      "169 humanities\n",
      "170 maths\n",
      "171 IT\n",
      "172 economics and management\n",
      "173 miscellaneous\n",
      "174 IT\n",
      "175 languages\n",
      "176 languages\n",
      "177 economics and management\n",
      "178 maths\n",
      "179 miscellaneous\n",
      "180 economics and management\n",
      "181 psychology\n",
      "182 IT\n",
      "183 humanities\n",
      "184 IT\n",
      "185 statistics\n",
      "186 medicine\n",
      "187 IT\n",
      "188 IT\n",
      "189 psychology\n",
      "190 languages\n",
      "191 psychology\n",
      "192 statistics\n",
      "193 psychology\n",
      "194 IT\n",
      "195 IT\n",
      "196 economics and management\n",
      "197 medicine\n",
      "198 miscellaneous\n",
      "199 sciences\n",
      "200 economics and management\n",
      "201 IT\n",
      "202 statistics\n",
      "203 economics and management\n",
      "204 languages\n",
      "205 sciences\n",
      "206 languages\n",
      "207 maths\n",
      "208 IT\n",
      "209 economics and management\n",
      "210 IT\n",
      "211 economics and management\n",
      "212 IT\n",
      "213 IT\n",
      "214 economics and management\n",
      "215 miscellaneous\n",
      "216 humanities\n",
      "217 economics and management\n",
      "218 psychology\n",
      "219 IT\n",
      "220 IT\n",
      "221 IT\n",
      "222 IT\n",
      "223 IT\n",
      "224 IT\n",
      "225 sciences\n",
      "226 miscellaneous\n",
      "227 economics and management\n",
      "228 economics and management\n",
      "229 languages\n",
      "230 economics and management\n",
      "231 economics and management\n",
      "232 economics and management\n",
      "233 IT\n",
      "234 miscellaneous\n",
      "235 IT\n",
      "236 statistics\n",
      "237 humanities\n",
      "238 languages\n",
      "239 humanities\n",
      "240 languages\n",
      "241 languages\n",
      "242 languages\n",
      "243 IT\n",
      "244 economics and management\n",
      "245 IT\n",
      "246 humanities\n",
      "247 languages\n",
      "248 IT\n",
      "249 humanities\n",
      "250 miscellaneous\n",
      "251 IT\n",
      "252 humanities\n",
      "253 maths\n",
      "254 miscellaneous\n",
      "255 miscellaneous\n",
      "256 miscellaneous\n",
      "257 psychology\n",
      "258 IT\n",
      "259 miscellaneous\n",
      "260 statistics\n",
      "261 IT\n",
      "262 sciences\n",
      "263 miscellaneous\n",
      "264 miscellaneous\n",
      "265 maths\n",
      "266 IT\n",
      "267 economics and management\n",
      "268 miscellaneous\n",
      "269 economics and management\n",
      "270 psychology\n",
      "271 economics and management\n",
      "272 miscellaneous\n",
      "273 economics and management\n",
      "274 medicine\n",
      "275 economics and management\n",
      "276 psychology\n",
      "277 psychology\n",
      "278 IT\n",
      "279 psychology\n",
      "280 IT\n",
      "281 IT\n",
      "282 humanities\n",
      "283 economics and management\n",
      "284 economics and management\n",
      "285 economics and management\n",
      "286 sciences\n",
      "287 IT\n",
      "288 economics and management\n",
      "289 IT\n",
      "290 humanities\n",
      "291 humanities\n",
      "292 miscellaneous\n",
      "293 IT\n",
      "294 IT\n",
      "295 statistics\n",
      "296 humanities\n",
      "297 psychology\n",
      "298 economics and management\n",
      "299 psychology\n",
      "300 miscellaneous\n"
     ]
    }
   ],
   "source": [
    "instructorCategory = {'id' : list(), 'cat' : list()}\n",
    "for instructor in newInstructorDict['instructorID']:\n",
    "    instructorCategory['id'].append(instructor)\n",
    "    instructorCategory['cat'].append(sample(freqCatList, 1)[0])\n",
    "\n",
    "# print result\n",
    "for instID, cat in zip(instructorCategory['id'], instructorCategory['cat']):\n",
    "    print(instID, cat)"
   ]
  },
  {
   "cell_type": "markdown",
   "id": "d8c8a04e",
   "metadata": {},
   "source": [
    "The check in the following cell is very important because, since I will sample a minimum of two instructors and a maximum of 5 instructors for each course, if the number of instructors for discipline is less than 5 (this typically happens for maths frequently enough to be a problem) it is likely that for a specific course I will not have enough instructors and an error will be generated (the error will be fired in the third cell after the present one)."
   ]
  },
  {
   "cell_type": "code",
   "execution_count": 17,
   "id": "9abde58d",
   "metadata": {},
   "outputs": [
    {
     "name": "stdout",
     "output_type": "stream",
     "text": [
      "Instructors per discipline:\n",
      "discipline:                   sciences  ->  instructors:   8\n",
      "discipline:                         IT  ->  instructors:  82\n",
      "discipline:              miscellaneous  ->  instructors:  39\n",
      "discipline:                      maths  ->  instructors:  11\n",
      "discipline:                  languages  ->  instructors:  29\n",
      "discipline:                 psychology  ->  instructors:  31\n",
      "discipline:                   medicine  ->  instructors:   8\n",
      "discipline:   economics and management  ->  instructors:  61\n",
      "discipline:                 statistics  ->  instructors:  12\n",
      "discipline:                 humanities  ->  instructors:  19\n",
      "                            Total number of instructors: 300\n"
     ]
    }
   ],
   "source": [
    "# print instructors per category\n",
    "instCatDict = dict()\n",
    "for cat in catList:\n",
    "    instCatDict[cat] = 0\n",
    "\n",
    "instSum = 0\n",
    "for cat in instCatDict.keys():\n",
    "    for k, v in zip(instructorCategory['id'], instructorCategory['cat']):\n",
    "        if v == cat:\n",
    "            instCatDict[cat] += 1\n",
    "\n",
    "print('Instructors per discipline:')\n",
    "for k, v in instCatDict.items():\n",
    "    instSum += v\n",
    "    print('discipline:', ' ' * (25 - len(k)), k, ' -> ', 'instructors:', ' ' * (2 - len(str(v))), v)\n",
    "print(' ' * 27, 'Total number of instructors:', instSum)"
   ]
  },
  {
   "cell_type": "markdown",
   "id": "019a2807",
   "metadata": {},
   "source": [
    "Finally I build the <i>teaching</i> table by assigning instructors to courses if the course category matches the instructor category. Each course has at least two instructors, but no more than 5 and an instructor cannot teach in a course if the course category is different from the instructor category (where category stands for discipline/subject)."
   ]
  },
  {
   "cell_type": "code",
   "execution_count": 18,
   "id": "dd792203",
   "metadata": {},
   "outputs": [],
   "source": [
    "for courseID, category in zip(newCourseDict['courseID'], newCourseDict['discipline']):\n",
    "    instructorSample = list(newInstructorDict['instructorID'])\n",
    "    i = 0\n",
    "    randomInstructors = randint(2, 5)\n",
    "    while i < randomInstructors:\n",
    "        instructor = sample(instructorSample, 1)[0]\n",
    "        instructorSample.remove(instructor)\n",
    "        for instructorID, instructorCat in zip(instructorCategory['id'], instructorCategory['cat']):\n",
    "            if instructor == instructorID and category == instructorCat:\n",
    "                teachingDict['course'].append(courseID)\n",
    "                teachingDict['instructor'].append(instructor)\n",
    "                i += 1"
   ]
  },
  {
   "cell_type": "code",
   "execution_count": 19,
   "id": "dd61bf9c",
   "metadata": {},
   "outputs": [
    {
     "name": "stdout",
     "output_type": "stream",
     "text": [
      "198 290\n",
      "205 290\n",
      "436 290\n",
      "444 290\n",
      "445 290\n"
     ]
    }
   ],
   "source": [
    "for course, instructor in zip(teachingDict['course'], teachingDict['instructor']):\n",
    "    if instructor == 290:\n",
    "        print(course, instructor)"
   ]
  },
  {
   "cell_type": "code",
   "execution_count": 20,
   "id": "923f6046",
   "metadata": {},
   "outputs": [
    {
     "name": "stdout",
     "output_type": "stream",
     "text": [
      "instructor ID: 290 - instructor category: humanities\n"
     ]
    }
   ],
   "source": [
    "# check 1\n",
    "for k, v in zip(instructorCategory['id'], instructorCategory['cat']):\n",
    "    if k == 290:\n",
    "        print('instructor ID:', k, '-', 'instructor category:', v)"
   ]
  },
  {
   "cell_type": "code",
   "execution_count": 21,
   "id": "1f8bbf6b",
   "metadata": {},
   "outputs": [
    {
     "name": "stdout",
     "output_type": "stream",
     "text": [
      "course ID: 195 - course category: humanities\n",
      "course ID: 196 - course category: humanities\n",
      "course ID: 197 - course category: humanities\n",
      "course ID: 198 - course category: humanities\n",
      "course ID: 199 - course category: humanities\n",
      "course ID: 200 - course category: humanities\n",
      "course ID: 201 - course category: humanities\n",
      "course ID: 202 - course category: humanities\n",
      "course ID: 203 - course category: humanities\n",
      "course ID: 204 - course category: humanities\n",
      "course ID: 205 - course category: humanities\n",
      "course ID: 206 - course category: humanities\n",
      "course ID: 207 - course category: humanities\n",
      "course ID: 208 - course category: humanities\n",
      "course ID: 435 - course category: humanities\n",
      "course ID: 436 - course category: humanities\n",
      "course ID: 437 - course category: humanities\n",
      "course ID: 438 - course category: humanities\n",
      "course ID: 439 - course category: humanities\n",
      "course ID: 440 - course category: humanities\n",
      "course ID: 441 - course category: humanities\n",
      "course ID: 442 - course category: humanities\n",
      "course ID: 443 - course category: humanities\n",
      "course ID: 444 - course category: humanities\n",
      "course ID: 445 - course category: humanities\n",
      "course ID: 446 - course category: humanities\n",
      "course ID: 447 - course category: humanities\n",
      "course ID: 448 - course category: humanities\n"
     ]
    }
   ],
   "source": [
    "# check 2\n",
    "for k, v in zip(newCourseDict['courseID'], newCourseDict['discipline']):\n",
    "    if v == 'humanities':\n",
    "        print('course ID:', k, '-', 'course category:', v)"
   ]
  },
  {
   "cell_type": "code",
   "execution_count": 22,
   "id": "3c4b3472",
   "metadata": {},
   "outputs": [],
   "source": [
    "# save teaching table to csv file\n",
    "# with open(winPath + 'tables/teachingTable.csv', 'w', newline = '') as csvfile:\n",
    "with open(path + 'tables/teachingTable.csv', 'w', newline = '') as csvfile:\n",
    "    writer = csv.writer(csvfile)\n",
    "    keys = teachingDict.keys()\n",
    "    limit = len(teachingDict['course'])\n",
    "    \n",
    "    writer.writerow(keys)\n",
    "    for i in range(0, limit):\n",
    "        writer.writerow(teachingDict[k][i] for k in keys)"
   ]
  },
  {
   "cell_type": "code",
   "execution_count": null,
   "id": "d6ea8b22",
   "metadata": {},
   "outputs": [],
   "source": []
  }
 ],
 "metadata": {
  "kernelspec": {
   "display_name": "Python 3 (ipykernel)",
   "language": "python",
   "name": "python3"
  },
  "language_info": {
   "codemirror_mode": {
    "name": "ipython",
    "version": 3
   },
   "file_extension": ".py",
   "mimetype": "text/x-python",
   "name": "python",
   "nbconvert_exporter": "python",
   "pygments_lexer": "ipython3",
   "version": "3.10.8"
  }
 },
 "nbformat": 4,
 "nbformat_minor": 5
}

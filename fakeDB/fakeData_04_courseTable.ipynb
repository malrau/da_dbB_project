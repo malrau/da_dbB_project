{
 "cells": [
  {
   "cell_type": "markdown",
   "id": "9b2c0e64",
   "metadata": {},
   "source": [
    "<h3>\n",
    "<center>\n",
    "COURSE SCHEMA\n",
    "</center>\n",
    "</h3>"
   ]
  },
  {
   "cell_type": "markdown",
   "id": "1f35fb54",
   "metadata": {},
   "source": [
    "<h3>\n",
    "Import required modules\n",
    "</h3>"
   ]
  },
  {
   "cell_type": "code",
   "execution_count": 1,
   "id": "3ad4b775",
   "metadata": {},
   "outputs": [],
   "source": [
    "import csv"
   ]
  },
  {
   "cell_type": "markdown",
   "id": "5b72f4f7",
   "metadata": {},
   "source": [
    "<h3>\n",
    "Define main path of the project (Windows/Mac) where the notebooks are located\n",
    "</h3>"
   ]
  },
  {
   "cell_type": "code",
   "execution_count": 2,
   "id": "f254fa8a",
   "metadata": {},
   "outputs": [],
   "source": [
    "# Windows\n",
    "#path = 'C:/Users/mzlarosa/OneDrive - unime.it/Learning/CdL Informatica/Anno II - Database/Module B/project/'\n",
    "\n",
    "# Mac\n",
    "path = '/Users/mau/OneDrive - unime.it/Learning/CdL Informatica/Anno II - Database/Module B/project/'"
   ]
  },
  {
   "cell_type": "markdown",
   "id": "f6f8d6b5",
   "metadata": {},
   "source": [
    "<h3>\n",
    "Create a dictionary of empty lists, where the keys are the attribute names\n",
    "</h3>"
   ]
  },
  {
   "cell_type": "code",
   "execution_count": 3,
   "id": "e0853374",
   "metadata": {},
   "outputs": [],
   "source": [
    "courseSchema = ['courseID', 'discipline', 'courseName', 'courseYear', 'syllabus']\n",
    "courseDict = dict()\n",
    "for attribute in courseSchema:\n",
    "    courseDict[attribute] = list()"
   ]
  },
  {
   "cell_type": "markdown",
   "id": "943bcfea",
   "metadata": {},
   "source": [
    "<h3>\n",
    "Load course names from txt file\n",
    "</h3><br>\n",
    "I have previously retrieved a list of popular Coursera courses, cleaned it up and stored it into a simple txt file, where each line is a course name. So I load this file and append course names to a course list."
   ]
  },
  {
   "cell_type": "code",
   "execution_count": 4,
   "id": "eb83e54d",
   "metadata": {},
   "outputs": [
    {
     "name": "stdout",
     "output_type": "stream",
     "text": [
      "Total number of courses: 240\n",
      "['Introduction to the Internet of Things and Embedded Systems ', 'Agile Software Development ', 'Autodesk Certified Professional: AutoCAD for Design and Drafting Exam Prep ', 'Fundamentals of Graphic Design ', 'Java for Android ', 'Introduction to Programming with MATLAB ', 'Cryptography I ', 'HTML, CSS, and Javascript for Web Developers ', 'Google Cloud Big Data and Machine Learning Fundamentals ', 'Algorithms, Part II ', 'Algorithms, Part I ', 'Divide and Conquer, Sorting and Searching, and Randomized Algorithms ', 'Cloud Computing Concepts, Part 1 ', 'Programming for Everybody (Getting Started with Python) ', 'Design and Make Infographics (Project-Centered Course) ', 'Cloud Computing Basics (Cloud 101) ', 'Hadoop Platform and Application Framework ', 'Algorithmic Toolbox ', 'Internet History, Technology, and Security ', 'Introduction to User Experience Design ', 'English for Career Development ', 'Data Visualization with Python ', 'Computer Science: Programming with a Purpose ', 'AI For Everyone ', 'Programming Foundations with JavaScript, HTML and CSS ', 'An Introduction to Interactive Programming in Python (Part 1) ', 'Code Yourself! An Introduction to Programming ', \"Introducci\\\\'f3n a Java \", 'Fundamentals of GIS ', 'Python and Statistics for Financial Analysis ', 'Cybersecurity and Its Ten Domains ', 'Crash Course on Python ', 'Design and Interpretation of Clinical Trials ', 'Google Cloud Fundamentals: Core Infrastructure ', 'Design Thinking for Innovation ', 'Programming Languages, Part A ', 'Introduction to Cybersecurity Tools & Cyber Attacks ', 'How To Create a Website in a Weekend! (Project-Centered Course) ', 'Functional Programming Principles in Scala ', 'SQL for Data Science ', 'Programming Fundamentals ', 'Computer Architecture ', 'Build a Modern Computer ', 'Getting Started with AWS Machine Learning ', 'Introduction to HTML5 ', 'Foundations of User Experience (UX) Design ', 'Introduction to Google SEO ', 'Visual Elements of User Interface Design ', 'Fundamentals of Visualization with Tableau ', 'Agile with Atlassian Jira ', 'Front-End Web UI Frameworks and Tools: Bootstrap 4 ', 'Python Basics ', 'Introduction to Web Development ', 'Responsive Website Basics: Code with HTML, CSS, and JavaScript ', 'Database Management Essentials ', 'Build Your First Android App (Project-Centered Course) ', 'Introduction to Data Science in Python ', 'Introduction to Logic ', 'Model Thinking ', 'Mathematics for Machine Learning: Linear Algebra ', 'Data Science Math Skills ', 'English for Science, Technology, Engineering, and Mathematics ', 'Introduction to Calculus ', 'Introduction to Mathematical Thinking ', 'First Step Korean ', 'How to Write and Publish a Scientific Paper (Project-Centered Course) ', 'Aprender ', 'Speak English Professionally: In Person, Online & On the Phone ', 'English for Business and Entrepreneurship ', 'English for Science, Technology, Engineering, and Mathematics ', 'Introduction to Structured Query Language (SQL) ', 'Tricky American English Pronunciation ', 'Writing in English at University ', 'Perfect Tenses and Modals ', 'English for Career Development ', 'Chinese for Beginners ', 'English for Journalism ', 'Communication Strategies for a Virtual Age ', 'How to Write a Resume (Project-Centered Course) ', 'Spanish Vocabulary: Meeting People ', 'Grammar and Punctuation ', 'Learn to Speak Korean 1 ', 'Writing in the Sciences ', 'Miracles of Human Language: An Introduction to Linguistics ', 'Fundamentos de la escritura ', 'Lesson | Small Talk & Conversational Vocabulary ', 'Business Writing ', 'Teamwork Skills: Communicating Effectively in Groups ', 'English Composition I ', 'Introduction to Public Speaking ', 'Teach English Now! Foundational Principles ', 'The Science of Success: What Researchers Know that You Should Know ', 'The Arts and Science of Relationships: Understanding Human Needs ', 'Learning How to Learn: Powerful mental tools to help you master tough subjects ', 'Preparing to Manage Human Resources ', 'Psychological First Aid ', 'Mindshift: Break Through Obstacles to Learning and Discover Your Hidden Potential ', 'Positive Psychiatry and Mental Health ', 'Excel/VBA for Creative Problem Solving, Part 1 ', 'The Addicted Brain ', 'Dog Emotion and Cognition ', 'Creative Writing: The Craft of Plot ', 'A Life of Happiness and Fulfillment ', 'Introduction to Psychology ', 'Introductory Human Physiology ', 'Computer Science: Programming with a Purpose ', 'Creative Thinking: Techniques and Tools for Success ', \"Ser m\\\\'e1s creativos \", 'Influencing People ', 'Managing Emotions in Times of Uncertainty & Stress ', 'Social Psychology ', 'Creative Problem Solving ', 'Miracles of Human Language: An Introduction to Linguistics ', 'Positive Psychology ', 'Finding Purpose and Meaning In Life: Living for What Matters Most ', 'Mind Control: Managing Your Mental Health During COVID-19 ', 'An Introduction to Consumer Neuroscience & Neuromarketing ', 'Successful Negotiation: Essential Strategies and Skills ', 'Preparing to Manage Human Resources ', 'Contabilidad para no contadores ', 'Introduction to Social Media Marketing ', 'Financial Markets ', 'Viral Marketing and How to Craft Contagious Content ', 'English for Business and Entrepreneurship ', 'The Strategy of Content Marketing ', 'Private Equity and Venture Capital ', 'Excel aplicado a los negocios (Nivel Avanzado) ', 'Marketing Analytics ', 'Blockchain Basics ', 'Entrepreneurship 1: Developing the Opportunity ', 'Finance for Non-Finance Professionals ', 'Financial Accounting Fundamentals ', 'Brand Management: Aligning Business, Brand and Behaviour ', 'Introduction to Personal Branding ', 'Data-driven Decision Making ', 'Leading Teams: Developing as a Leader ', 'Communication Strategies for a Virtual Age ', 'Introduction to Marketing ', 'Economics of Money and Banking ', 'Work Smarter, Not Harder: Time Management for Personal & Professional Productivity ', 'Foundations of Project Management ', 'Python and Statistics for Financial Analysis ', 'Personal & Family Financial Planning ', 'Customer Analytics ', 'Business English: Networking ', 'Competitive Strategy ', 'Marketing in a Digital World ', 'Understanding Financial Markets ', 'Business Writing ', 'Introduction to Negotiation: A Strategic Playbook for Becoming a Principled and Persuasive Negotiator ', 'Marketing Digital ', 'Introduction to Data Analytics for Business ', 'Fundamentos de Excel para Negocios ', 'Management of Fashion and Luxury Companies ', 'Foundations of Digital Marketing and E-commerce ', 'Finanzas personales ', 'Database Management Essentials ', 'Fundamentos de Finanzas Empresariales ', 'Financial Planning for Young Adults ', 'Fundamentals of Project Planning and Management ', 'Bitcoin and Cryptocurrency Technologies ', 'Chemistry ', 'Understanding the Brain: The Neurobiology of Everyday Life ', 'Animal Behaviour and Welfare ', 'Introduction to Genetics and Evolution ', 'Introduction to the Biology of Cancer ', 'Understanding Research Methods ', 'Wind Energy ', 'Introduction to Engineering Mechanics ', 'Understanding Einstein: The Special Theory of Relativity ', 'How Things Work: An Introduction to Physics ', 'Dog Emotion and Cognition ', 'Introduction to Electronics ', 'Biology Meets Programming: Bioinformatics for Beginners ', 'COVID-19 Contact Tracing ', 'Stanford Introduction to Food and Health ', 'Medical Neuroscience ', 'Positive Psychiatry and Mental Health ', 'Mind Control: Managing Your Mental Health During COVID-19 ', 'Mind Control: Managing Your Mental Health During COVID-19 ', 'Epidemiology: The Basic Science of Public Health ', 'Introduction to the Biology of Cancer ', 'Understanding Clinical Research: Behind the Statistics ', 'Designing Your Personal Weight Loss Plan ', 'Design and Interpretation of Clinical Trials ', 'Foundations: Data, Data, Everywhere ', 'Python and Statistics for Financial Analysis ', 'Introduction to Statistics ', 'Exploratory Data Analysis ', 'Introduction to Probability and Data with R ', 'Understanding Clinical Research: Behind the Statistics ', 'Econometrics: Methods and Applications ', 'Bayesian Statistics: From Concept to Data Analysis ', 'Basic Statistics ', 'Greek and Roman Mythology ', 'An Introduction to American Law ', 'Modern Art & Ideas ', 'Cameras, Exposure, and Photography ', 'Introduction to International Criminal Law ', 'In the Studio: Postwar Abstract Painting ', 'Fundamentals of Music Theory ', 'Introduction to Philosophy ', 'Communication Strategies for a Virtual Age ', 'Introduction to Classical Music ', 'Moral Foundations of Politics ', 'The Modern World, Part One: Global History ', 'Guitar for Beginners ', 'Indigenous Canada ', 'Machine Learning Foundations: A Case Study Approach ', 'Game Theory ', 'Child Nutrition and Cooking ', 'Excel Skills for Business: Essentials ', 'Mastering Data Analysis in Excel ', 'Human-Centered Design: an Introduction ', 'Introduction to Data Analysis Using Excel ', 'Neural Networks and Deep Learning ', 'Vital Signs: Understanding What the Body Is Telling Us ', 'Science of Exercise ', 'Introduction to Machine Learning ', 'Introduction to Big Data ', 'A Crash Course in Data Science ', 'Introduction to Data Analytics ', 'Learn to Program: The Fundamentals ', 'What is Social? ', 'What is Data Science? ', 'Supervised Machine Learning: Regression and Classification ', 'Everyday Excel, Part 1 ', 'Machine Learning for All ', 'Think Again I: How to Understand Arguments ', 'Introduction to TensorFlow for Artificial Intelligence, Machine Learning, and Deep Learning ', 'Introduction to Sustainability ', 'Introduction to Self-Driving Cars ', 'Gamification ', 'Introduction to Systematic Review and Meta-Analysis ', 'Organizational Analysis ', 'Learning to Teach Online ', 'Initiating and Planning Projects ', 'Everyday Parenting: The ABCs of Child Rearing ', 'Technical Support Fundamentals ', 'Supply Chain Logistics ']\n"
     ]
    }
   ],
   "source": [
    "# select file where each line correspond to a course name and store course names into a list\n",
    "courseList = list()\n",
    "with open(path + 'sources/coursesOK.txt') as courses:\n",
    "    for line in courses:\n",
    "        line = line.split('\\n')\n",
    "        courseList.append(line[0])\n",
    "print('Total number of courses:', len(courseList))\n",
    "print(courseList)"
   ]
  },
  {
   "cell_type": "markdown",
   "id": "631bc2a7",
   "metadata": {},
   "source": [
    "<h3>\n",
    "Load course categories (discipline) from txt file\n",
    "</h3><br>\n",
    "I previously extracted the discipline to which each course depends by using keywords present in the course names. This association is not perfect but is ok for the purpose of my project. I stored disciplines into a simple txt file where each line is the discipline to which a course belongs. Since the order of the courses in the course txt file is the same as the discipline to which they belong, it is sufficient to store discipline into a list and iterate through the course and discipline lists to obtain perfect association of course and discipline."
   ]
  },
  {
   "cell_type": "code",
   "execution_count": 5,
   "id": "3f1335ac",
   "metadata": {},
   "outputs": [
    {
     "name": "stdout",
     "output_type": "stream",
     "text": [
      "Total number of disciplines: 240\n",
      "['IT', 'IT', 'IT', 'IT', 'IT', 'IT', 'IT', 'IT', 'IT', 'IT', 'IT', 'IT', 'IT', 'IT', 'IT', 'IT', 'IT', 'IT', 'IT', 'IT', 'IT', 'IT', 'IT', 'IT', 'IT', 'IT', 'IT', 'IT', 'IT', 'IT', 'IT', 'IT', 'IT', 'IT', 'IT', 'IT', 'IT', 'IT', 'IT', 'IT', 'IT', 'IT', 'IT', 'IT', 'IT', 'IT', 'IT', 'IT', 'IT', 'IT', 'IT', 'IT', 'IT', 'IT', 'IT', 'IT', 'IT', 'maths', 'maths', 'maths', 'maths', 'maths', 'maths', 'maths', 'languages', 'languages', 'languages', 'languages', 'languages', 'languages', 'languages', 'languages', 'languages', 'languages', 'languages', 'languages', 'languages', 'languages', 'languages', 'languages', 'languages', 'languages', 'languages', 'languages', 'languages', 'languages', 'languages', 'languages', 'languages', 'languages', 'languages', 'psychology', 'psychology', 'psychology', 'psychology', 'psychology', 'psychology', 'psychology', 'psychology', 'psychology', 'psychology', 'psychology', 'psychology', 'psychology', 'psychology', 'psychology', 'psychology', 'psychology', 'psychology', 'psychology', 'psychology', 'psychology', 'psychology', 'psychology', 'psychology', 'psychology', 'economics and management', 'economics and management', 'economics and management', 'economics and management', 'economics and management', 'economics and management', 'economics and management', 'economics and management', 'economics and management', 'economics and management', 'economics and management', 'economics and management', 'economics and management', 'economics and management', 'economics and management', 'economics and management', 'economics and management', 'economics and management', 'economics and management', 'economics and management', 'economics and management', 'economics and management', 'economics and management', 'economics and management', 'economics and management', 'economics and management', 'economics and management', 'economics and management', 'economics and management', 'economics and management', 'economics and management', 'economics and management', 'economics and management', 'economics and management', 'economics and management', 'economics and management', 'economics and management', 'economics and management', 'economics and management', 'economics and management', 'economics and management', 'economics and management', 'economics and management', 'economics and management', 'economics and management', 'sciences', 'sciences', 'sciences', 'sciences', 'sciences', 'sciences', 'sciences', 'sciences', 'sciences', 'sciences', 'sciences', 'sciences', 'sciences', 'medicine', 'medicine', 'medicine', 'medicine', 'medicine', 'medicine', 'medicine', 'medicine', 'medicine', 'medicine', 'medicine', 'statistics', 'statistics', 'statistics', 'statistics', 'statistics', 'statistics', 'statistics', 'statistics', 'statistics', 'humanities', 'humanities', 'humanities', 'humanities', 'humanities', 'humanities', 'humanities', 'humanities', 'humanities', 'humanities', 'humanities', 'humanities', 'humanities', 'humanities', 'miscellaneous', 'miscellaneous', 'miscellaneous', 'miscellaneous', 'miscellaneous', 'miscellaneous', 'miscellaneous', 'miscellaneous', 'miscellaneous', 'miscellaneous', 'miscellaneous', 'miscellaneous', 'miscellaneous', 'miscellaneous', 'miscellaneous', 'miscellaneous', 'miscellaneous', 'miscellaneous', 'miscellaneous', 'miscellaneous', 'miscellaneous', 'miscellaneous', 'miscellaneous', 'miscellaneous', 'miscellaneous', 'miscellaneous', 'miscellaneous', 'miscellaneous', 'miscellaneous', 'miscellaneous', 'miscellaneous', 'miscellaneous']\n"
     ]
    }
   ],
   "source": [
    "# same as above for course categories\n",
    "categoryList = list()\n",
    "with open(path + 'sources/courseCategoriesOK.txt') as categories:\n",
    "    for line in categories:\n",
    "        line = line.split('\\n')\n",
    "        categoryList.append(line[0])\n",
    "print('Total number of disciplines:', len(categoryList))\n",
    "print(categoryList)"
   ]
  },
  {
   "cell_type": "markdown",
   "id": "c4556612",
   "metadata": {},
   "source": [
    "<h3>\n",
    "Build the course syllabus link\n",
    "</h3><br>\n",
    "One of the courses' attributes is the syllabus. This is in fact a link to a web page where the course syllabus is described. I build this link by attaching three strings: '<i>http://learning_platform.com/</i>', the course name in lowercase letters and without potentially problematic characters and '<i>/syllabus</i>'. So I first need to remove from the course names unwanted characters."
   ]
  },
  {
   "cell_type": "code",
   "execution_count": 6,
   "id": "8465b0e4",
   "metadata": {},
   "outputs": [],
   "source": [
    "# define function to remove unwanted character from courses names that must be put in web links\n",
    "def removeChars(courseList):\n",
    "    \n",
    "    courseOKList = list()\n",
    "    newCourseList = list()\n",
    "    \n",
    "    # transform course name in list and remove unwanted characters\n",
    "    unwanted = ' ,:-?()'\n",
    "    for i in range(0, len(courseList)):\n",
    "        course = list(courseList[i])\n",
    "        #print(course)\n",
    "        courseOK = list()\n",
    "        for j in range(0, len(course)):\n",
    "            if course[j] not in unwanted:\n",
    "                courseOK.append(course[j])\n",
    "        #print(courseOK)\n",
    "        courseOKList.append(courseOK)\n",
    "\n",
    "    # transform back course names as strings and fill list with them\n",
    "    for course in courseOKList:\n",
    "        newCourse = ''\n",
    "        for i in range(0, len(course)):\n",
    "            newCourse = newCourse + course[i]\n",
    "        newCourseList.append(newCourse)\n",
    "            \n",
    "    return newCourseList"
   ]
  },
  {
   "cell_type": "code",
   "execution_count": 7,
   "id": "1fb0d184",
   "metadata": {},
   "outputs": [
    {
     "name": "stdout",
     "output_type": "stream",
     "text": [
      "['IntroductiontotheInternetofThingsandEmbeddedSystems', 'AgileSoftwareDevelopment', 'AutodeskCertifiedProfessionalAutoCADforDesignandDraftingExamPrep', 'FundamentalsofGraphicDesign', 'JavaforAndroid', 'IntroductiontoProgrammingwithMATLAB', 'CryptographyI', 'HTMLCSSandJavascriptforWebDevelopers', 'GoogleCloudBigDataandMachineLearningFundamentals', 'AlgorithmsPartII', 'AlgorithmsPartI', 'DivideandConquerSortingandSearchingandRandomizedAlgorithms', 'CloudComputingConceptsPart1', 'ProgrammingforEverybodyGettingStartedwithPython', 'DesignandMakeInfographicsProjectCenteredCourse', 'CloudComputingBasicsCloud101', 'HadoopPlatformandApplicationFramework', 'AlgorithmicToolbox', 'InternetHistoryTechnologyandSecurity', 'IntroductiontoUserExperienceDesign', 'EnglishforCareerDevelopment', 'DataVisualizationwithPython', 'ComputerScienceProgrammingwithaPurpose', 'AIForEveryone', 'ProgrammingFoundationswithJavaScriptHTMLandCSS', 'AnIntroductiontoInteractiveProgramminginPythonPart1', 'CodeYourself!AnIntroductiontoProgramming', \"Introducci\\\\'f3naJava\", 'FundamentalsofGIS', 'PythonandStatisticsforFinancialAnalysis', 'CybersecurityandItsTenDomains', 'CrashCourseonPython', 'DesignandInterpretationofClinicalTrials', 'GoogleCloudFundamentalsCoreInfrastructure', 'DesignThinkingforInnovation', 'ProgrammingLanguagesPartA', 'IntroductiontoCybersecurityTools&CyberAttacks', 'HowToCreateaWebsiteinaWeekend!ProjectCenteredCourse', 'FunctionalProgrammingPrinciplesinScala', 'SQLforDataScience', 'ProgrammingFundamentals', 'ComputerArchitecture', 'BuildaModernComputer', 'GettingStartedwithAWSMachineLearning', 'IntroductiontoHTML5', 'FoundationsofUserExperienceUXDesign', 'IntroductiontoGoogleSEO', 'VisualElementsofUserInterfaceDesign', 'FundamentalsofVisualizationwithTableau', 'AgilewithAtlassianJira', 'FrontEndWebUIFrameworksandToolsBootstrap4', 'PythonBasics', 'IntroductiontoWebDevelopment', 'ResponsiveWebsiteBasicsCodewithHTMLCSSandJavaScript', 'DatabaseManagementEssentials', 'BuildYourFirstAndroidAppProjectCenteredCourse', 'IntroductiontoDataScienceinPython', 'IntroductiontoLogic', 'ModelThinking', 'MathematicsforMachineLearningLinearAlgebra', 'DataScienceMathSkills', 'EnglishforScienceTechnologyEngineeringandMathematics', 'IntroductiontoCalculus', 'IntroductiontoMathematicalThinking', 'FirstStepKorean', 'HowtoWriteandPublishaScientificPaperProjectCenteredCourse', 'Aprender', 'SpeakEnglishProfessionallyInPersonOnline&OnthePhone', 'EnglishforBusinessandEntrepreneurship', 'EnglishforScienceTechnologyEngineeringandMathematics', 'IntroductiontoStructuredQueryLanguageSQL', 'TrickyAmericanEnglishPronunciation', 'WritinginEnglishatUniversity', 'PerfectTensesandModals', 'EnglishforCareerDevelopment', 'ChineseforBeginners', 'EnglishforJournalism', 'CommunicationStrategiesforaVirtualAge', 'HowtoWriteaResumeProjectCenteredCourse', 'SpanishVocabularyMeetingPeople', 'GrammarandPunctuation', 'LearntoSpeakKorean1', 'WritingintheSciences', 'MiraclesofHumanLanguageAnIntroductiontoLinguistics', 'Fundamentosdelaescritura', 'Lesson|SmallTalk&ConversationalVocabulary', 'BusinessWriting', 'TeamworkSkillsCommunicatingEffectivelyinGroups', 'EnglishCompositionI', 'IntroductiontoPublicSpeaking', 'TeachEnglishNow!FoundationalPrinciples', 'TheScienceofSuccessWhatResearchersKnowthatYouShouldKnow', 'TheArtsandScienceofRelationshipsUnderstandingHumanNeeds', 'LearningHowtoLearnPowerfulmentaltoolstohelpyoumastertoughsubjects', 'PreparingtoManageHumanResources', 'PsychologicalFirstAid', 'MindshiftBreakThroughObstaclestoLearningandDiscoverYourHiddenPotential', 'PositivePsychiatryandMentalHealth', 'Excel/VBAforCreativeProblemSolvingPart1', 'TheAddictedBrain', 'DogEmotionandCognition', 'CreativeWritingTheCraftofPlot', 'ALifeofHappinessandFulfillment', 'IntroductiontoPsychology', 'IntroductoryHumanPhysiology', 'ComputerScienceProgrammingwithaPurpose', 'CreativeThinkingTechniquesandToolsforSuccess', \"Serm\\\\'e1screativos\", 'InfluencingPeople', 'ManagingEmotionsinTimesofUncertainty&Stress', 'SocialPsychology', 'CreativeProblemSolving', 'MiraclesofHumanLanguageAnIntroductiontoLinguistics', 'PositivePsychology', 'FindingPurposeandMeaningInLifeLivingforWhatMattersMost', 'MindControlManagingYourMentalHealthDuringCOVID19', 'AnIntroductiontoConsumerNeuroscience&Neuromarketing', 'SuccessfulNegotiationEssentialStrategiesandSkills', 'PreparingtoManageHumanResources', 'Contabilidadparanocontadores', 'IntroductiontoSocialMediaMarketing', 'FinancialMarkets', 'ViralMarketingandHowtoCraftContagiousContent', 'EnglishforBusinessandEntrepreneurship', 'TheStrategyofContentMarketing', 'PrivateEquityandVentureCapital', 'ExcelaplicadoalosnegociosNivelAvanzado', 'MarketingAnalytics', 'BlockchainBasics', 'Entrepreneurship1DevelopingtheOpportunity', 'FinanceforNonFinanceProfessionals', 'FinancialAccountingFundamentals', 'BrandManagementAligningBusinessBrandandBehaviour', 'IntroductiontoPersonalBranding', 'DatadrivenDecisionMaking', 'LeadingTeamsDevelopingasaLeader', 'CommunicationStrategiesforaVirtualAge', 'IntroductiontoMarketing', 'EconomicsofMoneyandBanking', 'WorkSmarterNotHarderTimeManagementforPersonal&ProfessionalProductivity', 'FoundationsofProjectManagement', 'PythonandStatisticsforFinancialAnalysis', 'Personal&FamilyFinancialPlanning', 'CustomerAnalytics', 'BusinessEnglishNetworking', 'CompetitiveStrategy', 'MarketinginaDigitalWorld', 'UnderstandingFinancialMarkets', 'BusinessWriting', 'IntroductiontoNegotiationAStrategicPlaybookforBecomingaPrincipledandPersuasiveNegotiator', 'MarketingDigital', 'IntroductiontoDataAnalyticsforBusiness', 'FundamentosdeExcelparaNegocios', 'ManagementofFashionandLuxuryCompanies', 'FoundationsofDigitalMarketingandEcommerce', 'Finanzaspersonales', 'DatabaseManagementEssentials', 'FundamentosdeFinanzasEmpresariales', 'FinancialPlanningforYoungAdults', 'FundamentalsofProjectPlanningandManagement', 'BitcoinandCryptocurrencyTechnologies', 'Chemistry', 'UnderstandingtheBrainTheNeurobiologyofEverydayLife', 'AnimalBehaviourandWelfare', 'IntroductiontoGeneticsandEvolution', 'IntroductiontotheBiologyofCancer', 'UnderstandingResearchMethods', 'WindEnergy', 'IntroductiontoEngineeringMechanics', 'UnderstandingEinsteinTheSpecialTheoryofRelativity', 'HowThingsWorkAnIntroductiontoPhysics', 'DogEmotionandCognition', 'IntroductiontoElectronics', 'BiologyMeetsProgrammingBioinformaticsforBeginners', 'COVID19ContactTracing', 'StanfordIntroductiontoFoodandHealth', 'MedicalNeuroscience', 'PositivePsychiatryandMentalHealth', 'MindControlManagingYourMentalHealthDuringCOVID19', 'MindControlManagingYourMentalHealthDuringCOVID19', 'EpidemiologyTheBasicScienceofPublicHealth', 'IntroductiontotheBiologyofCancer', 'UnderstandingClinicalResearchBehindtheStatistics', 'DesigningYourPersonalWeightLossPlan', 'DesignandInterpretationofClinicalTrials', 'FoundationsDataDataEverywhere', 'PythonandStatisticsforFinancialAnalysis', 'IntroductiontoStatistics', 'ExploratoryDataAnalysis', 'IntroductiontoProbabilityandDatawithR', 'UnderstandingClinicalResearchBehindtheStatistics', 'EconometricsMethodsandApplications', 'BayesianStatisticsFromConcepttoDataAnalysis', 'BasicStatistics', 'GreekandRomanMythology', 'AnIntroductiontoAmericanLaw', 'ModernArt&Ideas', 'CamerasExposureandPhotography', 'IntroductiontoInternationalCriminalLaw', 'IntheStudioPostwarAbstractPainting', 'FundamentalsofMusicTheory', 'IntroductiontoPhilosophy', 'CommunicationStrategiesforaVirtualAge', 'IntroductiontoClassicalMusic', 'MoralFoundationsofPolitics', 'TheModernWorldPartOneGlobalHistory', 'GuitarforBeginners', 'IndigenousCanada', 'MachineLearningFoundationsACaseStudyApproach', 'GameTheory', 'ChildNutritionandCooking', 'ExcelSkillsforBusinessEssentials', 'MasteringDataAnalysisinExcel', 'HumanCenteredDesignanIntroduction', 'IntroductiontoDataAnalysisUsingExcel', 'NeuralNetworksandDeepLearning', 'VitalSignsUnderstandingWhattheBodyIsTellingUs', 'ScienceofExercise', 'IntroductiontoMachineLearning', 'IntroductiontoBigData', 'ACrashCourseinDataScience', 'IntroductiontoDataAnalytics', 'LearntoProgramTheFundamentals', 'WhatisSocial', 'WhatisDataScience', 'SupervisedMachineLearningRegressionandClassification', 'EverydayExcelPart1', 'MachineLearningforAll', 'ThinkAgainIHowtoUnderstandArguments', 'IntroductiontoTensorFlowforArtificialIntelligenceMachineLearningandDeepLearning', 'IntroductiontoSustainability', 'IntroductiontoSelfDrivingCars', 'Gamification', 'IntroductiontoSystematicReviewandMetaAnalysis', 'OrganizationalAnalysis', 'LearningtoTeachOnline', 'InitiatingandPlanningProjects', 'EverydayParentingTheABCsofChildRearing', 'TechnicalSupportFundamentals', 'SupplyChainLogistics']\n"
     ]
    }
   ],
   "source": [
    "# call function\n",
    "newCourseList = removeChars(courseList)\n",
    "print(newCourseList)"
   ]
  },
  {
   "cell_type": "code",
   "execution_count": 8,
   "id": "6094ed8a",
   "metadata": {},
   "outputs": [
    {
     "name": "stdout",
     "output_type": "stream",
     "text": [
      "Total number of syllabuses: 240\n",
      "['http://learning_platform.com/introductiontotheinternetofthingsandembeddedsystems/syllabus', 'http://learning_platform.com/agilesoftwaredevelopment/syllabus', 'http://learning_platform.com/autodeskcertifiedprofessionalautocadfordesignanddraftingexamprep/syllabus', 'http://learning_platform.com/fundamentalsofgraphicdesign/syllabus', 'http://learning_platform.com/javaforandroid/syllabus', 'http://learning_platform.com/introductiontoprogrammingwithmatlab/syllabus', 'http://learning_platform.com/cryptographyi/syllabus', 'http://learning_platform.com/htmlcssandjavascriptforwebdevelopers/syllabus', 'http://learning_platform.com/googlecloudbigdataandmachinelearningfundamentals/syllabus', 'http://learning_platform.com/algorithmspartii/syllabus', 'http://learning_platform.com/algorithmsparti/syllabus', 'http://learning_platform.com/divideandconquersortingandsearchingandrandomizedalgorithms/syllabus', 'http://learning_platform.com/cloudcomputingconceptspart1/syllabus', 'http://learning_platform.com/programmingforeverybodygettingstartedwithpython/syllabus', 'http://learning_platform.com/designandmakeinfographicsprojectcenteredcourse/syllabus', 'http://learning_platform.com/cloudcomputingbasicscloud101/syllabus', 'http://learning_platform.com/hadoopplatformandapplicationframework/syllabus', 'http://learning_platform.com/algorithmictoolbox/syllabus', 'http://learning_platform.com/internethistorytechnologyandsecurity/syllabus', 'http://learning_platform.com/introductiontouserexperiencedesign/syllabus', 'http://learning_platform.com/englishforcareerdevelopment/syllabus', 'http://learning_platform.com/datavisualizationwithpython/syllabus', 'http://learning_platform.com/computerscienceprogrammingwithapurpose/syllabus', 'http://learning_platform.com/aiforeveryone/syllabus', 'http://learning_platform.com/programmingfoundationswithjavascripthtmlandcss/syllabus', 'http://learning_platform.com/anintroductiontointeractiveprogramminginpythonpart1/syllabus', 'http://learning_platform.com/codeyourself!anintroductiontoprogramming/syllabus', \"http://learning_platform.com/introducci\\\\'f3najava/syllabus\", 'http://learning_platform.com/fundamentalsofgis/syllabus', 'http://learning_platform.com/pythonandstatisticsforfinancialanalysis/syllabus', 'http://learning_platform.com/cybersecurityanditstendomains/syllabus', 'http://learning_platform.com/crashcourseonpython/syllabus', 'http://learning_platform.com/designandinterpretationofclinicaltrials/syllabus', 'http://learning_platform.com/googlecloudfundamentalscoreinfrastructure/syllabus', 'http://learning_platform.com/designthinkingforinnovation/syllabus', 'http://learning_platform.com/programminglanguagesparta/syllabus', 'http://learning_platform.com/introductiontocybersecuritytools&cyberattacks/syllabus', 'http://learning_platform.com/howtocreateawebsiteinaweekend!projectcenteredcourse/syllabus', 'http://learning_platform.com/functionalprogrammingprinciplesinscala/syllabus', 'http://learning_platform.com/sqlfordatascience/syllabus', 'http://learning_platform.com/programmingfundamentals/syllabus', 'http://learning_platform.com/computerarchitecture/syllabus', 'http://learning_platform.com/buildamoderncomputer/syllabus', 'http://learning_platform.com/gettingstartedwithawsmachinelearning/syllabus', 'http://learning_platform.com/introductiontohtml5/syllabus', 'http://learning_platform.com/foundationsofuserexperienceuxdesign/syllabus', 'http://learning_platform.com/introductiontogoogleseo/syllabus', 'http://learning_platform.com/visualelementsofuserinterfacedesign/syllabus', 'http://learning_platform.com/fundamentalsofvisualizationwithtableau/syllabus', 'http://learning_platform.com/agilewithatlassianjira/syllabus', 'http://learning_platform.com/frontendwebuiframeworksandtoolsbootstrap4/syllabus', 'http://learning_platform.com/pythonbasics/syllabus', 'http://learning_platform.com/introductiontowebdevelopment/syllabus', 'http://learning_platform.com/responsivewebsitebasicscodewithhtmlcssandjavascript/syllabus', 'http://learning_platform.com/databasemanagementessentials/syllabus', 'http://learning_platform.com/buildyourfirstandroidappprojectcenteredcourse/syllabus', 'http://learning_platform.com/introductiontodatascienceinpython/syllabus', 'http://learning_platform.com/introductiontologic/syllabus', 'http://learning_platform.com/modelthinking/syllabus', 'http://learning_platform.com/mathematicsformachinelearninglinearalgebra/syllabus', 'http://learning_platform.com/datasciencemathskills/syllabus', 'http://learning_platform.com/englishforsciencetechnologyengineeringandmathematics/syllabus', 'http://learning_platform.com/introductiontocalculus/syllabus', 'http://learning_platform.com/introductiontomathematicalthinking/syllabus', 'http://learning_platform.com/firststepkorean/syllabus', 'http://learning_platform.com/howtowriteandpublishascientificpaperprojectcenteredcourse/syllabus', 'http://learning_platform.com/aprender/syllabus', 'http://learning_platform.com/speakenglishprofessionallyinpersononline&onthephone/syllabus', 'http://learning_platform.com/englishforbusinessandentrepreneurship/syllabus', 'http://learning_platform.com/englishforsciencetechnologyengineeringandmathematics/syllabus', 'http://learning_platform.com/introductiontostructuredquerylanguagesql/syllabus', 'http://learning_platform.com/trickyamericanenglishpronunciation/syllabus', 'http://learning_platform.com/writinginenglishatuniversity/syllabus', 'http://learning_platform.com/perfecttensesandmodals/syllabus', 'http://learning_platform.com/englishforcareerdevelopment/syllabus', 'http://learning_platform.com/chineseforbeginners/syllabus', 'http://learning_platform.com/englishforjournalism/syllabus', 'http://learning_platform.com/communicationstrategiesforavirtualage/syllabus', 'http://learning_platform.com/howtowritearesumeprojectcenteredcourse/syllabus', 'http://learning_platform.com/spanishvocabularymeetingpeople/syllabus', 'http://learning_platform.com/grammarandpunctuation/syllabus', 'http://learning_platform.com/learntospeakkorean1/syllabus', 'http://learning_platform.com/writinginthesciences/syllabus', 'http://learning_platform.com/miraclesofhumanlanguageanintroductiontolinguistics/syllabus', 'http://learning_platform.com/fundamentosdelaescritura/syllabus', 'http://learning_platform.com/lesson|smalltalk&conversationalvocabulary/syllabus', 'http://learning_platform.com/businesswriting/syllabus', 'http://learning_platform.com/teamworkskillscommunicatingeffectivelyingroups/syllabus', 'http://learning_platform.com/englishcompositioni/syllabus', 'http://learning_platform.com/introductiontopublicspeaking/syllabus', 'http://learning_platform.com/teachenglishnow!foundationalprinciples/syllabus', 'http://learning_platform.com/thescienceofsuccesswhatresearchersknowthatyoushouldknow/syllabus', 'http://learning_platform.com/theartsandscienceofrelationshipsunderstandinghumanneeds/syllabus', 'http://learning_platform.com/learninghowtolearnpowerfulmentaltoolstohelpyoumastertoughsubjects/syllabus', 'http://learning_platform.com/preparingtomanagehumanresources/syllabus', 'http://learning_platform.com/psychologicalfirstaid/syllabus', 'http://learning_platform.com/mindshiftbreakthroughobstaclestolearninganddiscoveryourhiddenpotential/syllabus', 'http://learning_platform.com/positivepsychiatryandmentalhealth/syllabus', 'http://learning_platform.com/excel/vbaforcreativeproblemsolvingpart1/syllabus', 'http://learning_platform.com/theaddictedbrain/syllabus', 'http://learning_platform.com/dogemotionandcognition/syllabus', 'http://learning_platform.com/creativewritingthecraftofplot/syllabus', 'http://learning_platform.com/alifeofhappinessandfulfillment/syllabus', 'http://learning_platform.com/introductiontopsychology/syllabus', 'http://learning_platform.com/introductoryhumanphysiology/syllabus', 'http://learning_platform.com/computerscienceprogrammingwithapurpose/syllabus', 'http://learning_platform.com/creativethinkingtechniquesandtoolsforsuccess/syllabus', \"http://learning_platform.com/serm\\\\'e1screativos/syllabus\", 'http://learning_platform.com/influencingpeople/syllabus', 'http://learning_platform.com/managingemotionsintimesofuncertainty&stress/syllabus', 'http://learning_platform.com/socialpsychology/syllabus', 'http://learning_platform.com/creativeproblemsolving/syllabus', 'http://learning_platform.com/miraclesofhumanlanguageanintroductiontolinguistics/syllabus', 'http://learning_platform.com/positivepsychology/syllabus', 'http://learning_platform.com/findingpurposeandmeaninginlifelivingforwhatmattersmost/syllabus', 'http://learning_platform.com/mindcontrolmanagingyourmentalhealthduringcovid19/syllabus', 'http://learning_platform.com/anintroductiontoconsumerneuroscience&neuromarketing/syllabus', 'http://learning_platform.com/successfulnegotiationessentialstrategiesandskills/syllabus', 'http://learning_platform.com/preparingtomanagehumanresources/syllabus', 'http://learning_platform.com/contabilidadparanocontadores/syllabus', 'http://learning_platform.com/introductiontosocialmediamarketing/syllabus', 'http://learning_platform.com/financialmarkets/syllabus', 'http://learning_platform.com/viralmarketingandhowtocraftcontagiouscontent/syllabus', 'http://learning_platform.com/englishforbusinessandentrepreneurship/syllabus', 'http://learning_platform.com/thestrategyofcontentmarketing/syllabus', 'http://learning_platform.com/privateequityandventurecapital/syllabus', 'http://learning_platform.com/excelaplicadoalosnegociosnivelavanzado/syllabus', 'http://learning_platform.com/marketinganalytics/syllabus', 'http://learning_platform.com/blockchainbasics/syllabus', 'http://learning_platform.com/entrepreneurship1developingtheopportunity/syllabus', 'http://learning_platform.com/financefornonfinanceprofessionals/syllabus', 'http://learning_platform.com/financialaccountingfundamentals/syllabus', 'http://learning_platform.com/brandmanagementaligningbusinessbrandandbehaviour/syllabus', 'http://learning_platform.com/introductiontopersonalbranding/syllabus', 'http://learning_platform.com/datadrivendecisionmaking/syllabus', 'http://learning_platform.com/leadingteamsdevelopingasaleader/syllabus', 'http://learning_platform.com/communicationstrategiesforavirtualage/syllabus', 'http://learning_platform.com/introductiontomarketing/syllabus', 'http://learning_platform.com/economicsofmoneyandbanking/syllabus', 'http://learning_platform.com/worksmarternothardertimemanagementforpersonal&professionalproductivity/syllabus', 'http://learning_platform.com/foundationsofprojectmanagement/syllabus', 'http://learning_platform.com/pythonandstatisticsforfinancialanalysis/syllabus', 'http://learning_platform.com/personal&familyfinancialplanning/syllabus', 'http://learning_platform.com/customeranalytics/syllabus', 'http://learning_platform.com/businessenglishnetworking/syllabus', 'http://learning_platform.com/competitivestrategy/syllabus', 'http://learning_platform.com/marketinginadigitalworld/syllabus', 'http://learning_platform.com/understandingfinancialmarkets/syllabus', 'http://learning_platform.com/businesswriting/syllabus', 'http://learning_platform.com/introductiontonegotiationastrategicplaybookforbecomingaprincipledandpersuasivenegotiator/syllabus', 'http://learning_platform.com/marketingdigital/syllabus', 'http://learning_platform.com/introductiontodataanalyticsforbusiness/syllabus', 'http://learning_platform.com/fundamentosdeexcelparanegocios/syllabus', 'http://learning_platform.com/managementoffashionandluxurycompanies/syllabus', 'http://learning_platform.com/foundationsofdigitalmarketingandecommerce/syllabus', 'http://learning_platform.com/finanzaspersonales/syllabus', 'http://learning_platform.com/databasemanagementessentials/syllabus', 'http://learning_platform.com/fundamentosdefinanzasempresariales/syllabus', 'http://learning_platform.com/financialplanningforyoungadults/syllabus', 'http://learning_platform.com/fundamentalsofprojectplanningandmanagement/syllabus', 'http://learning_platform.com/bitcoinandcryptocurrencytechnologies/syllabus', 'http://learning_platform.com/chemistry/syllabus', 'http://learning_platform.com/understandingthebraintheneurobiologyofeverydaylife/syllabus', 'http://learning_platform.com/animalbehaviourandwelfare/syllabus', 'http://learning_platform.com/introductiontogeneticsandevolution/syllabus', 'http://learning_platform.com/introductiontothebiologyofcancer/syllabus', 'http://learning_platform.com/understandingresearchmethods/syllabus', 'http://learning_platform.com/windenergy/syllabus', 'http://learning_platform.com/introductiontoengineeringmechanics/syllabus', 'http://learning_platform.com/understandingeinsteinthespecialtheoryofrelativity/syllabus', 'http://learning_platform.com/howthingsworkanintroductiontophysics/syllabus', 'http://learning_platform.com/dogemotionandcognition/syllabus', 'http://learning_platform.com/introductiontoelectronics/syllabus', 'http://learning_platform.com/biologymeetsprogrammingbioinformaticsforbeginners/syllabus', 'http://learning_platform.com/covid19contacttracing/syllabus', 'http://learning_platform.com/stanfordintroductiontofoodandhealth/syllabus', 'http://learning_platform.com/medicalneuroscience/syllabus', 'http://learning_platform.com/positivepsychiatryandmentalhealth/syllabus', 'http://learning_platform.com/mindcontrolmanagingyourmentalhealthduringcovid19/syllabus', 'http://learning_platform.com/mindcontrolmanagingyourmentalhealthduringcovid19/syllabus', 'http://learning_platform.com/epidemiologythebasicscienceofpublichealth/syllabus', 'http://learning_platform.com/introductiontothebiologyofcancer/syllabus', 'http://learning_platform.com/understandingclinicalresearchbehindthestatistics/syllabus', 'http://learning_platform.com/designingyourpersonalweightlossplan/syllabus', 'http://learning_platform.com/designandinterpretationofclinicaltrials/syllabus', 'http://learning_platform.com/foundationsdatadataeverywhere/syllabus', 'http://learning_platform.com/pythonandstatisticsforfinancialanalysis/syllabus', 'http://learning_platform.com/introductiontostatistics/syllabus', 'http://learning_platform.com/exploratorydataanalysis/syllabus', 'http://learning_platform.com/introductiontoprobabilityanddatawithr/syllabus', 'http://learning_platform.com/understandingclinicalresearchbehindthestatistics/syllabus', 'http://learning_platform.com/econometricsmethodsandapplications/syllabus', 'http://learning_platform.com/bayesianstatisticsfromconcepttodataanalysis/syllabus', 'http://learning_platform.com/basicstatistics/syllabus', 'http://learning_platform.com/greekandromanmythology/syllabus', 'http://learning_platform.com/anintroductiontoamericanlaw/syllabus', 'http://learning_platform.com/modernart&ideas/syllabus', 'http://learning_platform.com/camerasexposureandphotography/syllabus', 'http://learning_platform.com/introductiontointernationalcriminallaw/syllabus', 'http://learning_platform.com/inthestudiopostwarabstractpainting/syllabus', 'http://learning_platform.com/fundamentalsofmusictheory/syllabus', 'http://learning_platform.com/introductiontophilosophy/syllabus', 'http://learning_platform.com/communicationstrategiesforavirtualage/syllabus', 'http://learning_platform.com/introductiontoclassicalmusic/syllabus', 'http://learning_platform.com/moralfoundationsofpolitics/syllabus', 'http://learning_platform.com/themodernworldpartoneglobalhistory/syllabus', 'http://learning_platform.com/guitarforbeginners/syllabus', 'http://learning_platform.com/indigenouscanada/syllabus', 'http://learning_platform.com/machinelearningfoundationsacasestudyapproach/syllabus', 'http://learning_platform.com/gametheory/syllabus', 'http://learning_platform.com/childnutritionandcooking/syllabus', 'http://learning_platform.com/excelskillsforbusinessessentials/syllabus', 'http://learning_platform.com/masteringdataanalysisinexcel/syllabus', 'http://learning_platform.com/humancentereddesignanintroduction/syllabus', 'http://learning_platform.com/introductiontodataanalysisusingexcel/syllabus', 'http://learning_platform.com/neuralnetworksanddeeplearning/syllabus', 'http://learning_platform.com/vitalsignsunderstandingwhatthebodyistellingus/syllabus', 'http://learning_platform.com/scienceofexercise/syllabus', 'http://learning_platform.com/introductiontomachinelearning/syllabus', 'http://learning_platform.com/introductiontobigdata/syllabus', 'http://learning_platform.com/acrashcourseindatascience/syllabus', 'http://learning_platform.com/introductiontodataanalytics/syllabus', 'http://learning_platform.com/learntoprogramthefundamentals/syllabus', 'http://learning_platform.com/whatissocial/syllabus', 'http://learning_platform.com/whatisdatascience/syllabus', 'http://learning_platform.com/supervisedmachinelearningregressionandclassification/syllabus', 'http://learning_platform.com/everydayexcelpart1/syllabus', 'http://learning_platform.com/machinelearningforall/syllabus', 'http://learning_platform.com/thinkagainihowtounderstandarguments/syllabus', 'http://learning_platform.com/introductiontotensorflowforartificialintelligencemachinelearninganddeeplearning/syllabus', 'http://learning_platform.com/introductiontosustainability/syllabus', 'http://learning_platform.com/introductiontoselfdrivingcars/syllabus', 'http://learning_platform.com/gamification/syllabus', 'http://learning_platform.com/introductiontosystematicreviewandmetaanalysis/syllabus', 'http://learning_platform.com/organizationalanalysis/syllabus', 'http://learning_platform.com/learningtoteachonline/syllabus', 'http://learning_platform.com/initiatingandplanningprojects/syllabus', 'http://learning_platform.com/everydayparentingtheabcsofchildrearing/syllabus', 'http://learning_platform.com/technicalsupportfundamentals/syllabus', 'http://learning_platform.com/supplychainlogistics/syllabus']\n"
     ]
    }
   ],
   "source": [
    "# generate a fake syllabus link for each course\n",
    "syllabuses = list()\n",
    "for course in newCourseList:\n",
    "    syllabuses.append('http://learning_platform.com/' + course.lower() + '/syllabus')\n",
    "print('Total number of syllabuses:', len(syllabuses))\n",
    "print(syllabuses)"
   ]
  },
  {
   "cell_type": "markdown",
   "id": "893e2931",
   "metadata": {},
   "source": [
    "<h3>\n",
    "Generate fake courses data\n",
    "</h3><br>\n",
    "I have previously created a couple of the course attributes (names, discipline, syllabus), now I put things together and fill the attribute lists with the corresponding data. <br> Notice that the lists storing course names, disciplines and syllabuses have the same length and the information here included is in the correct order. This allows me to proceed as follows. <br> Notice also, that I create two years and generate courses for each of the years. So courses have two editions, one for 2022, one for 2023. All courses have been confirmed from one year to the next."
   ]
  },
  {
   "cell_type": "code",
   "execution_count": 9,
   "id": "b8731136",
   "metadata": {},
   "outputs": [],
   "source": [
    "# fill the attribute lists\n",
    "courseID = 0\n",
    "courseYear = [2022, 2023]\n",
    "\n",
    "# fill the attribute lists with fake data\n",
    "for year in courseYear:\n",
    "    for i in range(0, len(courseList)):\n",
    "        courseID += 1\n",
    "        courseDict['courseID'].append(courseID)\n",
    "        courseDict['discipline'].append(categoryList[i])\n",
    "        courseDict['courseName'].append(courseList[i])\n",
    "        courseDict['courseYear'].append(year)\n",
    "        courseDict['syllabus'].append(syllabuses[i])"
   ]
  },
  {
   "cell_type": "markdown",
   "id": "4c61fc66",
   "metadata": {},
   "source": [
    "<h3>\n",
    "Print out the data (a small sample)\n",
    "</h3>"
   ]
  },
  {
   "cell_type": "code",
   "execution_count": 10,
   "id": "37562e3f",
   "metadata": {},
   "outputs": [
    {
     "name": "stdout",
     "output_type": "stream",
     "text": [
      "courseID    discipline                 courseName                      courseYear  syllabus\n",
      "1           IT                         Introduction to the Internet o  2022        http://learning_platform.com/introductio\n",
      "2           IT                         Agile Software Development      2022        http://learning_platform.com/agilesoftwa\n",
      "3           IT                         Autodesk Certified Professiona  2022        http://learning_platform.com/autodeskcer\n",
      "4           IT                         Fundamentals of Graphic Design  2022        http://learning_platform.com/fundamental\n",
      "5           IT                         Java for Android                2022        http://learning_platform.com/javaforandr\n",
      "6           IT                         Introduction to Programming wi  2022        http://learning_platform.com/introductio\n",
      "7           IT                         Cryptography I                  2022        http://learning_platform.com/cryptograph\n",
      "8           IT                         HTML, CSS, and Javascript for   2022        http://learning_platform.com/htmlcssandj\n",
      "9           IT                         Google Cloud Big Data and Mach  2022        http://learning_platform.com/googlecloud\n",
      "10          IT                         Algorithms, Part II             2022        http://learning_platform.com/algorithmsp\n",
      "11          IT                         Algorithms, Part I              2022        http://learning_platform.com/algorithmsp\n",
      "12          IT                         Divide and Conquer, Sorting an  2022        http://learning_platform.com/divideandco\n",
      "13          IT                         Cloud Computing Concepts, Part  2022        http://learning_platform.com/cloudcomput\n",
      "14          IT                         Programming for Everybody (Get  2022        http://learning_platform.com/programming\n",
      "15          IT                         Design and Make Infographics (  2022        http://learning_platform.com/designandma\n",
      "16          IT                         Cloud Computing Basics (Cloud   2022        http://learning_platform.com/cloudcomput\n",
      "17          IT                         Hadoop Platform and Applicatio  2022        http://learning_platform.com/hadoopplatf\n",
      "18          IT                         Algorithmic Toolbox             2022        http://learning_platform.com/algorithmic\n",
      "19          IT                         Internet History, Technology,   2022        http://learning_platform.com/internethis\n",
      "20          IT                         Introduction to User Experienc  2022        http://learning_platform.com/introductio\n",
      "21          IT                         English for Career Development  2022        http://learning_platform.com/englishforc\n",
      "22          IT                         Data Visualization with Python  2022        http://learning_platform.com/datavisuali\n",
      "23          IT                         Computer Science: Programming   2022        http://learning_platform.com/computersci\n",
      "24          IT                         AI For Everyone                 2022        http://learning_platform.com/aiforeveryo\n",
      "25          IT                         Programming Foundations with J  2022        http://learning_platform.com/programming\n",
      "26          IT                         An Introduction to Interactive  2022        http://learning_platform.com/anintroduct\n",
      "27          IT                         Code Yourself! An Introduction  2022        http://learning_platform.com/codeyoursel\n",
      "28          IT                         Introducci\\'f3n a Java          2022        http://learning_platform.com/introducci\\\n",
      "29          IT                         Fundamentals of GIS             2022        http://learning_platform.com/fundamental\n",
      "30          IT                         Python and Statistics for Fina  2022        http://learning_platform.com/pythonandst\n",
      "31          IT                         Cybersecurity and Its Ten Doma  2022        http://learning_platform.com/cybersecuri\n",
      "32          IT                         Crash Course on Python          2022        http://learning_platform.com/crashcourse\n",
      "33          IT                         Design and Interpretation of C  2022        http://learning_platform.com/designandin\n",
      "34          IT                         Google Cloud Fundamentals: Cor  2022        http://learning_platform.com/googlecloud\n",
      "35          IT                         Design Thinking for Innovation  2022        http://learning_platform.com/designthink\n",
      "36          IT                         Programming Languages, Part A   2022        http://learning_platform.com/programming\n",
      "37          IT                         Introduction to Cybersecurity   2022        http://learning_platform.com/introductio\n",
      "38          IT                         How To Create a Website in a W  2022        http://learning_platform.com/howtocreate\n",
      "39          IT                         Functional Programming Princip  2022        http://learning_platform.com/functionalp\n",
      "40          IT                         SQL for Data Science            2022        http://learning_platform.com/sqlfordatas\n",
      "41          IT                         Programming Fundamentals        2022        http://learning_platform.com/programming\n",
      "42          IT                         Computer Architecture           2022        http://learning_platform.com/computerarc\n",
      "43          IT                         Build a Modern Computer         2022        http://learning_platform.com/buildamoder\n",
      "44          IT                         Getting Started with AWS Machi  2022        http://learning_platform.com/gettingstar\n",
      "45          IT                         Introduction to HTML5           2022        http://learning_platform.com/introductio\n",
      "46          IT                         Foundations of User Experience  2022        http://learning_platform.com/foundations\n",
      "47          IT                         Introduction to Google SEO      2022        http://learning_platform.com/introductio\n",
      "48          IT                         Visual Elements of User Interf  2022        http://learning_platform.com/visualeleme\n",
      "49          IT                         Fundamentals of Visualization   2022        http://learning_platform.com/fundamental\n",
      "50          IT                         Agile with Atlassian Jira       2022        http://learning_platform.com/agilewithat\n",
      "[...]\n"
     ]
    }
   ],
   "source": [
    "print('courseID', ' ' * (10 - len('courseID')), 'discipline', ' ' * (25 - len('discipline')), 'courseName', ' ' * (30 - len('courseName')), 'courseYear', ' ' * (10 - len('courseYear')), 'syllabus')\n",
    "for i in range(0, 50):\n",
    "    cID = courseDict['courseID'][i]\n",
    "    cat = courseDict['discipline'][i]\n",
    "    name = courseDict['courseName'][i]\n",
    "    year = courseDict['courseYear'][i]\n",
    "    syll = courseDict['syllabus'][i]\n",
    "    print(cID, ' ' * (10 - len(str(cID))), cat, ' ' * (25 - len(cat)), name[0 : 30], ' ' * (30 - len(name[0 : 30])), year, ' ' * (10 - len(str(year))), syll[0 : 40])\n",
    "print('[...]')"
   ]
  },
  {
   "cell_type": "code",
   "execution_count": 11,
   "id": "fb9f862e",
   "metadata": {},
   "outputs": [],
   "source": [
    "# save courses table to csv file\n",
    "with open(path + 'tables/coursesTable.csv', 'w', newline = '', encoding = 'UTF-16') as csvfile:\n",
    "    writer = csv.writer(csvfile)\n",
    "    keys = courseDict.keys()\n",
    "    limit = len(courseDict['courseID'])\n",
    "    \n",
    "    writer.writerow(keys)\n",
    "    for i in range(0, limit):\n",
    "        writer.writerow(courseDict[k][i] for k in keys)"
   ]
  },
  {
   "cell_type": "code",
   "execution_count": null,
   "id": "fb687ac1",
   "metadata": {},
   "outputs": [],
   "source": []
  }
 ],
 "metadata": {
  "kernelspec": {
   "display_name": "Python 3 (ipykernel)",
   "language": "python",
   "name": "python3"
  },
  "language_info": {
   "codemirror_mode": {
    "name": "ipython",
    "version": 3
   },
   "file_extension": ".py",
   "mimetype": "text/x-python",
   "name": "python",
   "nbconvert_exporter": "python",
   "pygments_lexer": "ipython3",
   "version": "3.10.8"
  }
 },
 "nbformat": 4,
 "nbformat_minor": 5
}

{
 "cells": [
  {
   "cell_type": "markdown",
   "id": "da0f7ea5",
   "metadata": {},
   "source": [
    "<h3>\n",
    "<center>\n",
    "INSTRUCTOR SCHEMA\n",
    "</center>\n",
    "</h3>"
   ]
  },
  {
   "cell_type": "markdown",
   "id": "8b645895",
   "metadata": {},
   "source": [
    "<h3>\n",
    "Import required modules\n",
    "</h3>"
   ]
  },
  {
   "cell_type": "code",
   "execution_count": 1,
   "id": "83445999",
   "metadata": {},
   "outputs": [],
   "source": [
    "from faker import Faker\n",
    "from faker.providers import DynamicProvider\n",
    "from random import randint, sample\n",
    "import datetime\n",
    "import csv"
   ]
  },
  {
   "cell_type": "markdown",
   "id": "21bffd15",
   "metadata": {},
   "source": [
    "<h3>\n",
    "Define main path of the project (Windows/Mac)\n",
    "</h3>"
   ]
  },
  {
   "cell_type": "code",
   "execution_count": 2,
   "id": "9ba96c92",
   "metadata": {},
   "outputs": [],
   "source": [
    "# Main path where the notebooks are located (Windows path and Mac path)\n",
    "winPath = 'C:/Users/mzlarosa/OneDrive - unime.it/Learning/CdL Informatica/Anno II - Database/Module B/project/'\n",
    "macPath = '/Users/mau/OneDrive - unime.it/Learning/CdL Informatica/Anno II - Database/Module B/project/'"
   ]
  },
  {
   "cell_type": "markdown",
   "id": "c062c1e7",
   "metadata": {},
   "source": [
    "<h3>\n",
    "Define strings that will be fed as Faker locales for generating instructors' names\n",
    "</h3>"
   ]
  },
  {
   "cell_type": "code",
   "execution_count": 3,
   "id": "61ffaac8",
   "metadata": {},
   "outputs": [],
   "source": [
    "# list of faker locales\n",
    "localization = ['de_DE', 'en_GB', 'en_IN', 'en_US', 'es_ES', 'fr_FR', 'it_IT', 'lt_LT', 'nl_NL', 'no_NO', 'pt_BR', 'pt_PT', 'sv', 'tr']"
   ]
  },
  {
   "cell_type": "markdown",
   "id": "4037c071",
   "metadata": {},
   "source": [
    "<h3>\n",
    "Create list of random integers to randomly select genre-related names and attach them the correct genre\n",
    "</h3><br>\n",
    "I decide that <code>300</code> instructors are accredited in the learning platform and can teach in the platform's courses. Hence I generate <code>300</code> random integers from <code>1</code> to <code>10</code>. Approximately <i>40%</i> of these <code>300</code> numbers will be divisible by <code>2</code>, <i>10%</i> by <code>7</code>. Those not divisible by <code>2</code> or <code>7</code> should amount to <i>50%</i>."
   ]
  },
  {
   "cell_type": "code",
   "execution_count": 4,
   "id": "50a01683",
   "metadata": {},
   "outputs": [
    {
     "name": "stdout",
     "output_type": "stream",
     "text": [
      "[8, 6, 7, 7, 2, 5, 3, 3, 9, 8, 7, 6, 9, 8, 8, 6, 8, 4, 10, 2, 8, 9, 9, 9, 7, 2, 4, 6, 8, 9, 4, 6, 6, 4, 5, 8, 4, 8, 1, 10, 4, 4, 2, 2, 8, 2, 9, 6, 7, 10, 7, 6, 2, 3, 7, 4, 10, 1, 7, 7, 9, 8, 10, 9, 8, 1, 4, 10, 10, 3, 9, 4, 1, 6, 8, 7, 5, 6, 8, 4, 7, 10, 10, 2, 7, 3, 5, 5, 3, 2, 5, 8, 5, 8, 3, 6, 2, 10, 2, 4, 6, 7, 7, 6, 8, 8, 7, 3, 8, 7, 1, 8, 6, 5, 10, 6, 3, 4, 3, 4, 9, 2, 7, 8, 2, 7, 9, 5, 6, 7, 9, 1, 8, 5, 1, 5, 3, 2, 3, 5, 9, 4, 8, 2, 8, 9, 6, 6, 8, 4, 1, 8, 5, 2, 9, 6, 2, 2, 6, 7, 3, 9, 3, 7, 10, 1, 3, 1, 5, 8, 3, 7, 7, 7, 8, 6, 7, 1, 9, 3, 10, 1, 6, 6, 1, 2, 4, 1, 8, 4, 5, 8, 6, 8, 8, 8, 4, 8, 2, 5, 3, 2, 6, 5, 4, 10, 8, 2, 2, 7, 3, 10, 6, 9, 9, 7, 3, 4, 8, 2, 7, 5, 1, 5, 1, 6, 5, 1, 3, 4, 2, 7, 9, 10, 8, 4, 3, 6, 9, 7, 5, 2, 7, 3, 8, 3, 3, 5, 2, 3, 8, 4, 9, 10, 6, 6, 9, 8, 7, 2, 2, 4, 4, 6, 9, 10, 6, 10, 9, 5, 7, 7, 8, 6, 8, 9, 8, 4, 3, 3, 5, 7, 10, 8, 5, 5, 8, 8, 6, 1, 1, 7, 10, 7, 10, 5, 3, 10, 8, 5]\n"
     ]
    }
   ],
   "source": [
    "nInstr = 300 # number of instructors\n",
    "randomIntegers = list()\n",
    "for i in range(0, nInstr):\n",
    "    randomIntegers.append(randint(1, 10))\n",
    "print(randomIntegers)"
   ]
  },
  {
   "cell_type": "markdown",
   "id": "f4051933",
   "metadata": {},
   "source": [
    "<h3>\n",
    "Create a dictionary of lists, where the keys are the attribute names\n",
    "</h3>"
   ]
  },
  {
   "cell_type": "code",
   "execution_count": 5,
   "id": "b9261655",
   "metadata": {},
   "outputs": [],
   "source": [
    "# create a dictionary of empty lists, where the keys are the attribute names\n",
    "instructorSchema = ['instructorID', 'role', 'firstName', 'lastName', 'genre', 'email']\n",
    "instructorDict = dict()\n",
    "for attribute in instructorSchema:\n",
    "    instructorDict[attribute] = list()"
   ]
  },
  {
   "cell_type": "markdown",
   "id": "838c1766",
   "metadata": {},
   "source": [
    "<h3>\n",
    "Generate the fake instructors' data\n",
    "</h3><br>\n",
    "Analogously to what I've done for students' names generation, in order to be able to associate the genre to each instructor, I chose to define the genre based on the previously defined list of random integers. If the integer at position i is divisible by <code>2</code>, I will create a male name and the instructor's genre will be <i>male</i>. If the integer at position i is divisible by <code>7</code>, I will create a non binary name and the instructor's genre will be <i>non binary</i>. In all other cases I will create a female name and the instructor's genre will be <i>female</i>. <br> Given the expected distribution of integers, <code>40%</code> instructors should be men, <code>50%</code> should be female and <code>10%</code> should be non binary."
   ]
  },
  {
   "cell_type": "code",
   "execution_count": 6,
   "id": "7e70d215",
   "metadata": {},
   "outputs": [],
   "source": [
    "# fill the attribute lists with fake data\n",
    "instructorID = 0\n",
    "for i in range(0, nInstr):\n",
    "    fake = Faker(sample(localization, 1))\n",
    "    instructorID += 1\n",
    "    instructorDict['instructorID'].append(instructorID)\n",
    "    if randomIntegers[i] % 2 == 0:\n",
    "        firstName = fake.first_name_male()\n",
    "        instructorDict['firstName'].append(firstName)\n",
    "        lastName = fake.last_name()\n",
    "        instructorDict['lastName'].append(lastName)\n",
    "        randomDate = fake.date_of_birth(minimum_age = 18, maximum_age = 60)\n",
    "        instructorDict['genre'].append('male')\n",
    "        email = firstName.lower() + '.' + lastName.lower() + '@' + fake.free_email_domain()\n",
    "        instructorDict['email'].append(email)\n",
    "    elif randomIntegers[i] % 7 == 0:\n",
    "        firstName = fake.first_name_nonbinary()\n",
    "        instructorDict['firstName'].append(firstName)\n",
    "        lastName = fake.last_name()\n",
    "        instructorDict['lastName'].append(lastName)\n",
    "        randomDate = fake.date_of_birth(minimum_age = 18, maximum_age = 60)\n",
    "        instructorDict['genre'].append('non binary')\n",
    "        email = firstName.lower() + '.' + lastName.lower() + '@' + fake.free_email_domain()\n",
    "        instructorDict['email'].append(email)\n",
    "    else:\n",
    "        firstName = fake.first_name_female()\n",
    "        instructorDict['firstName'].append(firstName)\n",
    "        lastName = fake.last_name()\n",
    "        instructorDict['lastName'].append(lastName)\n",
    "        randomDate = fake.date_of_birth(minimum_age = 18, maximum_age = 60)\n",
    "        instructorDict['genre'].append('female')\n",
    "        email = firstName.lower() + '.' + lastName.lower() + '@' + fake.free_email_domain()\n",
    "        instructorDict['email'].append(email)"
   ]
  },
  {
   "cell_type": "code",
   "execution_count": 7,
   "id": "50709ea7",
   "metadata": {},
   "outputs": [],
   "source": [
    "# create a faker provider to store instructors university role\n",
    "instructorProvider = DynamicProvider(\n",
    "     provider_name = 'instructorRole',\n",
    "     elements=['Professor Emeritus', 'Professor', 'Assistant Professor', 'Associate Professor', 'Researcher', 'Senior Lecturer', 'Senior Teaching Fellow', 'Lecturer', 'TeachingFellow', 'Ph.D.'],\n",
    ")\n",
    "fake.add_provider(instructorProvider)"
   ]
  },
  {
   "cell_type": "code",
   "execution_count": 8,
   "id": "001686d9",
   "metadata": {},
   "outputs": [],
   "source": [
    "# append instructor role to each instructor\n",
    "for i in range(0, nInstr):\n",
    "    instructorDict['role'].append(fake.instructorRole())"
   ]
  },
  {
   "cell_type": "markdown",
   "id": "6cdf1463",
   "metadata": {},
   "source": [
    "<h3>\n",
    "Print out the data (a small sample) \n",
    "</h3>"
   ]
  },
  {
   "cell_type": "code",
   "execution_count": 19,
   "id": "163e194b",
   "metadata": {},
   "outputs": [
    {
     "name": "stdout",
     "output_type": "stream",
     "text": [
      "iID    role                       firstName        lastName              genre         email\n",
      "1      Senior Teaching Fellow     Abdülsamed       Akça                  male          abdülsamed.akça@yaani.com\n",
      "2      Professor Emeritus         Lukas            Honing                male          lukas.honing@gmail.com\n",
      "3      Professor Emeritus         Mick             Veltman               non binary    mick.veltman@yahoo.com\n",
      "4      Researcher                 Susanne          Dijoux                non binary    susanne.dijoux@club-internet.fr\n",
      "5      Senior Lecturer            Delfino          Coardi                male          delfino.coardi@alice.it\n",
      "6      Professor                  Natália          Moura                 female        natália.moura@bol.com.br\n",
      "7      Associate Professor        Mirthe           Romijn                female        mirthe.romijn@gmail.com\n",
      "8      Ph.D.                      Vivaan           Iyengar               female        vivaan.iyengar@yahoo.com\n",
      "9      Lecturer                   Coral            Baquero               female        coral.baquero@hotmail.com\n",
      "10     Associate Professor        Özpınar          Arslan                male          özpınar.arslan@yahoo.com\n",
      "11     Lecturer                   Sarıcabay        Akgündüz              non binary    sarıcabay.akgündüz@yaani.com\n",
      "12     Lecturer                   Vitor            Silva                 male          vitor.silva@hotmail.com\n",
      "13     Professor                  Julie            Tammerijn             female        julie.tammerijn@hotmail.com\n",
      "14     Senior Teaching Fellow     Abram            Cheema                male          abram.cheema@gmail.com\n",
      "15     TeachingFellow             Renee            Kota                  male          renee.kota@gmail.com\n",
      "16     Professor Emeritus         Erinçer          Yorulmaz              male          erinçer.yorulmaz@yandex.com\n",
      "17     TeachingFellow             Bryan            Silva                 male          bryan.silva@hotmail.com\n",
      "18     Ph.D.                      Daniel           Maia                  male          daniel.maia@hotmail.com\n",
      "19     Assistant Professor        Johan            Andersson             male          johan.andersson@telia.com\n",
      "20     Assistant Professor        Benjamim         Loureiro              male          benjamim.loureiro@gmail.com\n",
      "21     Professor Emeritus         Baccio           Rusticucci            male          baccio.rusticucci@gmail.com\n",
      "22     Lecturer                   Birgitt          Lindner               female        birgitt.lindner@aol.de\n",
      "23     Professor                  Annette          Taylor                female        annette.taylor@gmail.com\n",
      "24     Professor                  Kristina         Strand                female        kristina.strand@swipnet.se\n",
      "25     Senior Teaching Fellow     Jens             Jenssen               non binary    jens.jenssen@gmail.com\n",
      "26     TeachingFellow             Vargın           Yorulmaz              male          vargın.yorulmaz@gmail.com\n",
      "27     TeachingFellow             Niek             van Ghoerle           male          niek.van ghoerle@yahoo.com\n",
      "28     Lecturer                   Neil             Ford                  male          neil.ford@hotmail.com\n",
      "29     Ph.D.                      Alfredo          Foletti               male          alfredo.foletti@tiscali.it\n",
      "30     TeachingFellow             Ana              Pires                 female        ana.pires@sapo.pt\n",
      "31     Professor Emeritus         Luiz Gustavo     da Conceição          male          luiz gustavo.da conceição@uol.com.br\n",
      "32     Assistant Professor        Delfino          Gritti                male          delfino.gritti@hotmail.com\n",
      "33     TeachingFellow             Michael          Booth                 male          michael.booth@yahoo.com\n",
      "34     Ph.D.                      Lars             Eckbauer              male          lars.eckbauer@googlemail.com\n",
      "35     Researcher                 Shaan            Sandhu                female        shaan.sandhu@gmail.com\n",
      "36     Senior Teaching Fellow     Matthijs         van 't Houteveen      male          matthijs.van 't houteveen@gmail.com\n",
      "37     Professor Emeritus         Alexandre        da Paz                male          alexandre.da paz@ig.com.br\n",
      "38     Professor                  Filipe           Fernandes             male          filipe.fernandes@clix.pt\n",
      "39     Associate Professor        Kelsey           Logan                 female        kelsey.logan@yahoo.com\n",
      "40     Assistant Professor        Léon             Bruneau               male          léon.bruneau@tele2.fr\n",
      "41     Assistant Professor        Christian        Eriksson              male          christian.eriksson@telia.com\n",
      "42     Lecturer                   Laura            Galdikas              male          laura.galdikas@hotmail.com\n",
      "43     Senior Lecturer            Sakip            Demir                 male          sakip.demir@outlook.com\n",
      "44     Senior Lecturer            Tom              Versluijs             male          tom.versluijs@gmail.com\n",
      "45     Ph.D.                      Youssef          Drysdale              male          youssef.drysdale@hotmail.com\n",
      "46     Assistant Professor        Kızıltunç        Durmuş                male          kızıltunç.durmuş@yahoo.com\n",
      "47     Senior Teaching Fellow     Phyllis          Gonzalez              female        phyllis.gonzalez@yahoo.com\n",
      "48     Senior Teaching Fellow     Patrick          Brown                 male          patrick.brown@gmail.com\n",
      "49     Researcher                 Manuel           Lourenço              non binary    manuel.lourenço@sapo.pt\n",
      "50     Senior Lecturer            Birgit           Durdu                 male          birgit.durdu@yaani.com\n",
      "[...]\n"
     ]
    }
   ],
   "source": [
    "print('iID', ' ' * (5 - len('iID')), 'role', ' ' * (25 - len('role')), 'firstName', ' ' * (15 - len('firstName')), 'lastName', ' ' * (20 -len('lastName')), 'genre', ' ' * (12 - len('genre')), 'email')\n",
    "for i in range(0, 50):\n",
    "    iID = instructorDict['instructorID'][i]\n",
    "    role = instructorDict['role'][i]\n",
    "    firstName = instructorDict['firstName'][i]\n",
    "    lastName = instructorDict['lastName'][i]\n",
    "    genre = instructorDict['genre'][i]\n",
    "    email = instructorDict['email'][i]\n",
    "    print(iID, ' ' * (5 - len(str(iID))), role, ' ' * (25 - len(role)), firstName, ' ' * (15 - len(firstName)), lastName, ' ' * (20 -len(lastName)), genre, ' ' * (12 - len(genre)), email)\n",
    "print('[...]')"
   ]
  },
  {
   "cell_type": "code",
   "execution_count": 15,
   "id": "96e86741",
   "metadata": {},
   "outputs": [],
   "source": [
    "# save instructor table to csv file\n",
    "#with open(winPath + 'tables/instructorTable.csv', 'w', newline = '', encoding = 'UTF-16') as csvfile:\n",
    "with open(macPath + 'tables/instructorTable.csv', 'w', newline = '', encoding = 'UTF-16') as csvfile:\n",
    "    writer = csv.writer(csvfile)\n",
    "    keys = instructorDict.keys()\n",
    "    limit = len(instructorDict['instructorID'])\n",
    "    \n",
    "    writer.writerow(keys)\n",
    "    for i in range(0, limit):\n",
    "        writer.writerow(instructorDict[k][i] for k in keys)"
   ]
  },
  {
   "cell_type": "code",
   "execution_count": null,
   "id": "d6ea8b22",
   "metadata": {},
   "outputs": [],
   "source": []
  }
 ],
 "metadata": {
  "kernelspec": {
   "display_name": "Python 3 (ipykernel)",
   "language": "python",
   "name": "python3"
  },
  "language_info": {
   "codemirror_mode": {
    "name": "ipython",
    "version": 3
   },
   "file_extension": ".py",
   "mimetype": "text/x-python",
   "name": "python",
   "nbconvert_exporter": "python",
   "pygments_lexer": "ipython3",
   "version": "3.9.12"
  }
 },
 "nbformat": 4,
 "nbformat_minor": 5
}

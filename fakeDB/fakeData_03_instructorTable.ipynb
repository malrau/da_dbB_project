{
 "cells": [
  {
   "cell_type": "markdown",
   "id": "da0f7ea5",
   "metadata": {},
   "source": [
    "<h3>\n",
    "<center>\n",
    "INSTRUCTOR SCHEMA\n",
    "</center>\n",
    "</h3>"
   ]
  },
  {
   "cell_type": "markdown",
   "id": "8b645895",
   "metadata": {},
   "source": [
    "<h3>\n",
    "Import required modules\n",
    "</h3>"
   ]
  },
  {
   "cell_type": "code",
   "execution_count": 1,
   "id": "83445999",
   "metadata": {},
   "outputs": [],
   "source": [
    "from faker import Faker\n",
    "from faker.providers import DynamicProvider\n",
    "from random import randint, sample\n",
    "import datetime\n",
    "import csv"
   ]
  },
  {
   "cell_type": "markdown",
   "id": "21bffd15",
   "metadata": {},
   "source": [
    "<h3>\n",
    "Define main path of the project (Windows/Mac) where the notebooks are located\n",
    "</h3>"
   ]
  },
  {
   "cell_type": "code",
   "execution_count": 2,
   "id": "9ba96c92",
   "metadata": {},
   "outputs": [],
   "source": [
    "# Windows\n",
    "#path = 'C:/Users/mzlarosa/OneDrive - unime.it/Learning/CdL Informatica/Anno II - Database/Module B/project/'\n",
    "\n",
    "# Mac\n",
    "path = '/Users/mau/OneDrive - unime.it/Learning/CdL Informatica/Anno II - Database/Module B/project/'"
   ]
  },
  {
   "cell_type": "markdown",
   "id": "c062c1e7",
   "metadata": {},
   "source": [
    "<h3>\n",
    "Define strings that will be fed as Faker locales for generating instructors' names\n",
    "</h3>"
   ]
  },
  {
   "cell_type": "code",
   "execution_count": 3,
   "id": "61ffaac8",
   "metadata": {},
   "outputs": [],
   "source": [
    "# list of faker locales\n",
    "localization = ['de_DE', 'en_GB', 'en_IN', 'en_US', 'es_ES', 'fr_FR', 'it_IT', 'lt_LT', 'nl_NL', 'no_NO', 'pt_BR', 'pt_PT', 'sv', 'tr']"
   ]
  },
  {
   "cell_type": "markdown",
   "id": "4037c071",
   "metadata": {},
   "source": [
    "<h3>\n",
    "Create list of random integers to randomly select genre-related names and attach them the correct genre\n",
    "</h3><br>\n",
    "I decide that <code>300</code> instructors are accredited in the learning platform and can teach in the platform's courses. Hence I generate <code>300</code> random integers from <code>1</code> to <code>10</code>. Approximately <i>40%</i> of these <code>300</code> numbers will be divisible by <code>2</code>, <i>10%</i> by <code>7</code>. Those not divisible by <code>2</code> or <code>7</code> should amount to <i>50%</i>."
   ]
  },
  {
   "cell_type": "code",
   "execution_count": 4,
   "id": "50a01683",
   "metadata": {},
   "outputs": [
    {
     "name": "stdout",
     "output_type": "stream",
     "text": [
      "[2, 10, 9, 2, 5, 10, 7, 4, 8, 4, 4, 9, 7, 9, 3, 8, 1, 5, 5, 2, 6, 9, 3, 1, 6, 7, 2, 1, 2, 2, 5, 5, 1, 3, 1, 8, 1, 9, 6, 5, 8, 2, 9, 4, 9, 4, 1, 1, 3, 8, 7, 3, 3, 7, 5, 8, 1, 10, 3, 6, 10, 10, 3, 5, 7, 8, 5, 7, 3, 8, 4, 4, 6, 4, 2, 8, 3, 5, 3, 3, 9, 10, 9, 4, 8, 1, 4, 8, 8, 6, 1, 2, 8, 6, 5, 9, 4, 6, 7, 1, 3, 6, 7, 3, 4, 10, 6, 10, 2, 4, 10, 7, 6, 7, 9, 2, 3, 7, 1, 4, 3, 4, 3, 8, 6, 2, 1, 7, 1, 2, 5, 1, 7, 10, 1, 4, 2, 2, 8, 4, 6, 8, 10, 1, 5, 4, 6, 7, 8, 8, 6, 10, 5, 3, 2, 3, 2, 8, 10, 1, 9, 7, 8, 1, 1, 4, 1, 7, 10, 1, 9, 2, 9, 8, 8, 4, 2, 4, 4, 7, 9, 4, 7, 7, 3, 3, 10, 10, 10, 6, 3, 1, 8, 10, 10, 1, 8, 2, 4, 4, 8, 7, 3, 1, 1, 3, 2, 8, 3, 4, 1, 9, 1, 2, 10, 5, 3, 2, 2, 5, 1, 4, 2, 10, 6, 2, 2, 10, 8, 2, 4, 3, 9, 9, 9, 9, 7, 10, 8, 1, 9, 8, 10, 7, 5, 4, 5, 10, 4, 8, 10, 2, 6, 1, 5, 8, 2, 1, 6, 10, 4, 3, 7, 1, 10, 3, 5, 8, 3, 1, 5, 6, 7, 10, 9, 8, 5, 1, 7, 8, 8, 9, 4, 9, 9, 1, 1, 5, 4, 5, 10, 8, 6, 7, 6, 8, 8, 8, 5, 5]\n"
     ]
    }
   ],
   "source": [
    "nInstr = 300 # number of instructors\n",
    "randomIntegers = list()\n",
    "for i in range(0, nInstr):\n",
    "    randomIntegers.append(randint(1, 10))\n",
    "print(randomIntegers)"
   ]
  },
  {
   "cell_type": "markdown",
   "id": "f4051933",
   "metadata": {},
   "source": [
    "<h3>\n",
    "Create a dictionary of lists, where the keys are the attribute names\n",
    "</h3>"
   ]
  },
  {
   "cell_type": "code",
   "execution_count": 5,
   "id": "b9261655",
   "metadata": {},
   "outputs": [],
   "source": [
    "# create a dictionary of empty lists, where the keys are the attribute names\n",
    "instructorSchema = ['instructorID', 'role', 'firstName', 'lastName', 'genre', 'email']\n",
    "instructorDict = dict()\n",
    "for attribute in instructorSchema:\n",
    "    instructorDict[attribute] = list()"
   ]
  },
  {
   "cell_type": "markdown",
   "id": "838c1766",
   "metadata": {},
   "source": [
    "<h3>\n",
    "Generate the fake instructors' data\n",
    "</h3><br>\n",
    "Analogously to what I've done for students' names generation, in order to be able to associate the genre to each instructor, I chose to define the genre based on the previously defined list of random integers. If the integer at position i is divisible by <code>2</code>, I will create a male name and the instructor's genre will be <i>male</i>. If the integer at position i is divisible by <code>7</code>, I will create a non binary name and the instructor's genre will be <i>non binary</i>. In all other cases I will create a female name and the instructor's genre will be <i>female</i>. <br> Given the expected distribution of integers, <code>40%</code> instructors should be men, <code>50%</code> should be female and <code>10%</code> should be non binary."
   ]
  },
  {
   "cell_type": "code",
   "execution_count": 6,
   "id": "7e70d215",
   "metadata": {},
   "outputs": [],
   "source": [
    "# fill the attribute lists with fake data\n",
    "instructorID = 0\n",
    "for i in range(0, nInstr):\n",
    "    fake = Faker(sample(localization, 1))\n",
    "    instructorID += 1\n",
    "    instructorDict['instructorID'].append(instructorID)\n",
    "    if randomIntegers[i] % 2 == 0:\n",
    "        firstName = fake.first_name_male()\n",
    "        instructorDict['firstName'].append(firstName)\n",
    "        lastName = fake.last_name()\n",
    "        instructorDict['lastName'].append(lastName)\n",
    "        randomDate = fake.date_of_birth(minimum_age = 18, maximum_age = 60)\n",
    "        instructorDict['genre'].append('male')\n",
    "        email = firstName.lower() + '.' + lastName.lower() + '@' + fake.free_email_domain()\n",
    "        instructorDict['email'].append(email)\n",
    "    elif randomIntegers[i] % 7 == 0:\n",
    "        firstName = fake.first_name_nonbinary()\n",
    "        instructorDict['firstName'].append(firstName)\n",
    "        lastName = fake.last_name()\n",
    "        instructorDict['lastName'].append(lastName)\n",
    "        randomDate = fake.date_of_birth(minimum_age = 18, maximum_age = 60)\n",
    "        instructorDict['genre'].append('non binary')\n",
    "        email = firstName.lower() + '.' + lastName.lower() + '@' + fake.free_email_domain()\n",
    "        instructorDict['email'].append(email)\n",
    "    else:\n",
    "        firstName = fake.first_name_female()\n",
    "        instructorDict['firstName'].append(firstName)\n",
    "        lastName = fake.last_name()\n",
    "        instructorDict['lastName'].append(lastName)\n",
    "        randomDate = fake.date_of_birth(minimum_age = 18, maximum_age = 60)\n",
    "        instructorDict['genre'].append('female')\n",
    "        email = firstName.lower() + '.' + lastName.lower() + '@' + fake.free_email_domain()\n",
    "        instructorDict['email'].append(email)"
   ]
  },
  {
   "cell_type": "code",
   "execution_count": 7,
   "id": "50709ea7",
   "metadata": {},
   "outputs": [],
   "source": [
    "# create a faker provider to store instructors university role\n",
    "instructorProvider = DynamicProvider(\n",
    "     provider_name = 'instructorRole',\n",
    "     elements=['Professor Emeritus', 'Professor', 'Assistant Professor', 'Associate Professor', 'Researcher', 'Senior Lecturer', 'Senior Teaching Fellow', 'Lecturer', 'TeachingFellow', 'Ph.D.'],\n",
    ")\n",
    "fake.add_provider(instructorProvider)"
   ]
  },
  {
   "cell_type": "code",
   "execution_count": 8,
   "id": "001686d9",
   "metadata": {},
   "outputs": [],
   "source": [
    "# append instructor role to each instructor\n",
    "for i in range(0, nInstr):\n",
    "    instructorDict['role'].append(fake.instructorRole())"
   ]
  },
  {
   "cell_type": "markdown",
   "id": "6cdf1463",
   "metadata": {},
   "source": [
    "<h3>\n",
    "Print out the data (a small sample) \n",
    "</h3>"
   ]
  },
  {
   "cell_type": "code",
   "execution_count": 9,
   "id": "163e194b",
   "metadata": {},
   "outputs": [
    {
     "name": "stdout",
     "output_type": "stream",
     "text": [
      "iID    role                       firstName        lastName              genre         email\n",
      "1      Senior Teaching Fellow     Marco            Plaza                 male          marco.plaza@yahoo.com\n",
      "2      Senior Teaching Fellow     Dominyka         Kalvelis              male          dominyka.kalvelis@gmail.com\n",
      "3      Professor                  Sissel           Bakken                female        sissel.bakken@hotmail.com\n",
      "4      Senior Teaching Fellow     João Guilherme   Ferreira              male          joão guilherme.ferreira@uol.com.br\n",
      "5      Associate Professor        Petrona          Baños                 female        petrona.baños@yahoo.com\n",
      "6      Associate Professor        Mark             Taylor                male          mark.taylor@yahoo.com\n",
      "7      Senior Teaching Fellow     Stein            Isaksen               non binary    stein.isaksen@gmail.com\n",
      "8      Senior Lecturer            Mario            Valcárcel             male          mario.valcárcel@hotmail.com\n",
      "9      Assistant Professor        Edgar            Pires                 male          edgar.pires@sapo.pt\n",
      "10     Senior Teaching Fellow     Christian        Lowe                  male          christian.lowe@hotmail.com\n",
      "11     Ph.D.                      Ojas             Ram                   male          ojas.ram@yahoo.com\n",
      "12     Ph.D.                      Renée            Chevalier             female        renée.chevalier@voila.fr\n",
      "13     Lecturer                   Jayda            Scholten              non binary    jayda.scholten@hotmail.com\n",
      "14     Ph.D.                      Julie            Jacob                 female        julie.jacob@tele2.fr\n",
      "15     Professor Emeritus         Erika            Travaglia             female        erika.travaglia@vodafone.it\n",
      "16     Senior Teaching Fellow     Plácido          Cobo                  male          plácido.cobo@gmail.com\n",
      "17     Ph.D.                      Jorunn           Sæther                female        jorunn.sæther@yahoo.com\n",
      "18     Professor Emeritus         Juozas           Butkus                female        juozas.butkus@yahoo.com\n",
      "19     Senior Teaching Fellow     Luciana          Silva                 female        luciana.silva@clix.pt\n",
      "20     Lecturer                   Maurilio         Legnante              male          maurilio.legnante@live.com\n",
      "21     Senior Lecturer            William          Webster               male          william.webster@outlook.com\n",
      "22     Ph.D.                      Simonas          Urbonas               female        simonas.urbonas@gmail.com\n",
      "23     Professor Emeritus         Olalla           Frías                 female        olalla.frías@hotmail.com\n",
      "24     Lecturer                   Magrit           Binner                female        magrit.binner@gmail.com\n",
      "25     Assistant Professor        Davi Luiz        Dias                  male          davi luiz.dias@bol.com.br\n",
      "26     Senior Lecturer            Liana            Giunti                non binary    liana.giunti@tin.it\n",
      "27     Professor Emeritus         Marcelo          Campos                male          marcelo.campos@hotmail.com\n",
      "28     Professor                  Benas            Nausėda               female        benas.nausėda@hotmail.com\n",
      "29     Lecturer                   Corrado          Pacetti               male          corrado.pacetti@hotmail.com\n",
      "30     TeachingFellow             Tony             Holzapfel             male          tony.holzapfel@aol.de\n",
      "31     Assistant Professor        Oorja            Wagle                 female        oorja.wagle@yahoo.com\n",
      "32     TeachingFellow             Christine        Guillaume             female        christine.guillaume@orange.fr\n",
      "33     Senior Lecturer            Joanna           Smith                 female        joanna.smith@hotmail.co.uk\n",
      "34     TeachingFellow             Carmina          Casanovas             female        carmina.casanovas@gmail.com\n",
      "35     Lecturer                   Regina           Rivera                female        regina.rivera@gmail.com\n",
      "36     Lecturer                   Soykut           Bilge                 male          soykut.bilge@yandex.com\n",
      "37     Associate Professor        Chloé            Horrocks              female        chloé.horrocks@gmail.com\n",
      "38     Ph.D.                      Gianna           Barberini             female        gianna.barberini@tele2.it\n",
      "39     Researcher                 Fredrik          Strand                male          fredrik.strand@yahoo.com\n",
      "40     Senior Lecturer            Vanessa          Coppola               female        vanessa.coppola@gmail.com\n",
      "41     Associate Professor        Anthony          Wright                male          anthony.wright@gmail.com\n",
      "42     Senior Teaching Fellow     Afonso           Monteiro              male          afonso.monteiro@hotmail.com\n",
      "43     Senior Lecturer            Edvardas         Jankauskas            female        edvardas.jankauskas@gmail.com\n",
      "44     Senior Lecturer            Per              Hedberg               male          per.hedberg@yahoo.de\n",
      "45     Senior Teaching Fellow     Maria Luiza      Melo                  female        maria luiza.melo@bol.com.br\n",
      "46     Senior Teaching Fellow     Rhys             Fletcher              male          rhys.fletcher@yahoo.co.uk\n",
      "47     Senior Teaching Fellow     Claudine         Lambert               female        claudine.lambert@dbmail.com\n",
      "48     Professor                  Jolanta          Galdikas              female        jolanta.galdikas@yahoo.com\n",
      "49     Professor                  Lorraine         Evans                 female        lorraine.evans@yahoo.co.uk\n",
      "50     Researcher                 Leandro          Silva                 male          leandro.silva@gmail.com\n",
      "[...]\n"
     ]
    }
   ],
   "source": [
    "print('iID', ' ' * (5 - len('iID')), 'role', ' ' * (25 - len('role')), 'firstName', ' ' * (15 - len('firstName')), 'lastName', ' ' * (20 -len('lastName')), 'genre', ' ' * (12 - len('genre')), 'email')\n",
    "for i in range(0, 50):\n",
    "    iID = instructorDict['instructorID'][i]\n",
    "    role = instructorDict['role'][i]\n",
    "    firstName = instructorDict['firstName'][i]\n",
    "    lastName = instructorDict['lastName'][i]\n",
    "    genre = instructorDict['genre'][i]\n",
    "    email = instructorDict['email'][i]\n",
    "    print(iID, ' ' * (5 - len(str(iID))), role, ' ' * (25 - len(role)), firstName, ' ' * (15 - len(firstName)), lastName, ' ' * (20 -len(lastName)), genre, ' ' * (12 - len(genre)), email)\n",
    "print('[...]')"
   ]
  },
  {
   "cell_type": "code",
   "execution_count": 10,
   "id": "96e86741",
   "metadata": {},
   "outputs": [],
   "source": [
    "# save instructor table to csv file\n",
    "with open(path + 'tables/instructorTable.csv', 'w', newline = '', encoding = 'UTF-16') as csvfile:\n",
    "    writer = csv.writer(csvfile)\n",
    "    keys = instructorDict.keys()\n",
    "    limit = len(instructorDict['instructorID'])\n",
    "    \n",
    "    writer.writerow(keys)\n",
    "    for i in range(0, limit):\n",
    "        writer.writerow(instructorDict[k][i] for k in keys)"
   ]
  },
  {
   "cell_type": "code",
   "execution_count": null,
   "id": "d6ea8b22",
   "metadata": {},
   "outputs": [],
   "source": []
  }
 ],
 "metadata": {
  "kernelspec": {
   "display_name": "Python 3 (ipykernel)",
   "language": "python",
   "name": "python3"
  },
  "language_info": {
   "codemirror_mode": {
    "name": "ipython",
    "version": 3
   },
   "file_extension": ".py",
   "mimetype": "text/x-python",
   "name": "python",
   "nbconvert_exporter": "python",
   "pygments_lexer": "ipython3",
   "version": "3.10.8"
  }
 },
 "nbformat": 4,
 "nbformat_minor": 5
}

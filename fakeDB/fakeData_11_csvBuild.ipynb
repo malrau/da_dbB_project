{
 "cells": [
  {
   "cell_type": "markdown",
   "id": "d47e548c",
   "metadata": {},
   "source": [
    "<h2>\n",
    "<center>\n",
    "BUILD FINAL CSV\n",
    "</center>\n",
    "</h2>"
   ]
  },
  {
   "cell_type": "markdown",
   "id": "8d9ea60f",
   "metadata": {},
   "source": [
    "<h3>\n",
    "Import required modules\n",
    "</h3>"
   ]
  },
  {
   "cell_type": "code",
   "execution_count": 1,
   "id": "cf12954a",
   "metadata": {},
   "outputs": [],
   "source": [
    "import csv"
   ]
  },
  {
   "cell_type": "markdown",
   "id": "2f0ddec9",
   "metadata": {},
   "source": [
    "<h3>\n",
    "Define main path of the project (Windows/Mac) where the notebooks are located \n",
    "</h3>"
   ]
  },
  {
   "cell_type": "code",
   "execution_count": 2,
   "id": "97b19cd3",
   "metadata": {},
   "outputs": [],
   "source": [
    "# Windows\n",
    "#path = 'C:/Users/mzlarosa/OneDrive - unime.it/Learning/CdL Informatica/Anno II - Database/Module B/project/'\n",
    "\n",
    "# Mac\n",
    "path = '/Users/mau/OneDrive - unime.it/Learning/CdL Informatica/Anno II - Database/Module B/project/'"
   ]
  },
  {
   "cell_type": "markdown",
   "id": "355706f5",
   "metadata": {},
   "source": [
    "<h3>\n",
    "Create a dictionary of empty lists, where the keys are the attribute names\n",
    "</h3>"
   ]
  },
  {
   "cell_type": "code",
   "execution_count": 35,
   "id": "a4effa7c",
   "metadata": {},
   "outputs": [
    {
     "name": "stdout",
     "output_type": "stream",
     "text": [
      "{'courseID': [], 'discipline': [], 'courseName': [], 'courseYear': [], 'syllabus': [], 'studentID': [], 'firstName': [], 'lastName': [], 'dateOfBirth': [], 'genre': [], 'country': [], 'town': [], 'email': [], 'materialID': [], 'unit': [], 'materialType': [], 'name': [], 'dimension': [], 'accessDate': []}\n"
     ]
    }
   ],
   "source": [
    "finalSchema = ['courseID', 'discipline', 'courseName', 'courseYear', 'syllabus', 'studentID', 'firstName', 'lastName', 'dateOfBirth', 'genre', 'country', 'town', 'email', 'materialID', 'unit', 'materialType', 'name', 'dimension', 'accessDate']\n",
    "finalDict = dict()\n",
    "for attribute in finalSchema:\n",
    "    finalDict[attribute] = list()\n",
    "print(finalDict)"
   ]
  },
  {
   "cell_type": "markdown",
   "id": "0ea8fa0b",
   "metadata": {},
   "source": [
    "<h3>\n",
    "Load <i>course</i> table\n",
    "</h3><br>\n",
    "This table contains all information available on courses, that I want to include in the final table."
   ]
  },
  {
   "cell_type": "code",
   "execution_count": null,
   "id": "7204ca13",
   "metadata": {},
   "outputs": [],
   "source": [
    "key = 0\n",
    "courseDict = dict()\n",
    "with open(path + 'tables/coursesTable.csv', newline = '', encoding = 'UTF-16') as csvCourses:\n",
    "    reader = csv.reader(csvCourses, delimiter = ',')\n",
    "    for line in reader:\n",
    "        courseDict[key] = line\n",
    "        key += 1"
   ]
  },
  {
   "cell_type": "code",
   "execution_count": null,
   "id": "24d970d3",
   "metadata": {},
   "outputs": [],
   "source": [
    "newCourseDict = dict()\n",
    "for key in courseDict[0]:\n",
    "    newCourseDict[key] = list()\n",
    "for i in range(1, len(courseDict)):\n",
    "    for j in range(0, len(courseDict[0])):\n",
    "        newCourseDict[courseDict[0][j]].append(courseDict[i][j])"
   ]
  },
  {
   "cell_type": "code",
   "execution_count": 30,
   "id": "5e8a1533",
   "metadata": {},
   "outputs": [
    {
     "name": "stdout",
     "output_type": "stream",
     "text": [
      "dict_keys(['courseID', 'discipline', 'courseName', 'courseYear', 'syllabus'])\n"
     ]
    }
   ],
   "source": [
    "print(newCourseDict.keys())"
   ]
  },
  {
   "cell_type": "markdown",
   "id": "05311387",
   "metadata": {},
   "source": [
    "<h4>\n",
    "Print out result (a small sample)\n",
    "</h4>"
   ]
  },
  {
   "cell_type": "code",
   "execution_count": 42,
   "id": "835bb8f2",
   "metadata": {},
   "outputs": [
    {
     "name": "stdout",
     "output_type": "stream",
     "text": [
      "                course table: 480 \n",
      "\n",
      "    ID       discipline                               course name   year                                  syllabus\n",
      "     1               IT    Introduction to the Internet of Things   2022    http://learning_platform.com/introduct\n",
      "     2               IT                Agile Software Development   2022    http://learning_platform.com/agilesoft\n",
      "     3               IT    Autodesk Certified Professional: AutoC   2022    http://learning_platform.com/autodeskc\n",
      "     4               IT            Fundamentals of Graphic Design   2022    http://learning_platform.com/fundament\n",
      "     5               IT                          Java for Android   2022    http://learning_platform.com/javaforan\n",
      "     6               IT    Introduction to Programming with MATLA   2022    http://learning_platform.com/introduct\n",
      "     7               IT                            Cryptography I   2022    http://learning_platform.com/cryptogra\n",
      "     8               IT    HTML, CSS, and Javascript for Web Deve   2022    http://learning_platform.com/htmlcssan\n",
      "     9               IT    Google Cloud Big Data and Machine Lear   2022    http://learning_platform.com/googleclo\n",
      "    10               IT                       Algorithms, Part II   2022    http://learning_platform.com/algorithm\n",
      "    11               IT                        Algorithms, Part I   2022    http://learning_platform.com/algorithm\n",
      "    12               IT    Divide and Conquer, Sorting and Search   2022    http://learning_platform.com/divideand\n",
      "    13               IT          Cloud Computing Concepts, Part 1   2022    http://learning_platform.com/cloudcomp\n",
      "    14               IT    Programming for Everybody (Getting Sta   2022    http://learning_platform.com/programmi\n",
      "    15               IT    Design and Make Infographics (Project-   2022    http://learning_platform.com/designand\n",
      "    16               IT        Cloud Computing Basics (Cloud 101)   2022    http://learning_platform.com/cloudcomp\n",
      "    17               IT    Hadoop Platform and Application Framew   2022    http://learning_platform.com/hadooppla\n",
      "    18               IT                       Algorithmic Toolbox   2022    http://learning_platform.com/algorithm\n",
      "    19               IT    Internet History, Technology, and Secu   2022    http://learning_platform.com/interneth\n",
      "    20               IT    Introduction to User Experience Design   2022    http://learning_platform.com/introduct\n",
      "    21               IT            English for Career Development   2022    http://learning_platform.com/englishfo\n",
      "    22               IT            Data Visualization with Python   2022    http://learning_platform.com/datavisua\n",
      "    23               IT    Computer Science: Programming with a P   2022    http://learning_platform.com/computers\n",
      "    24               IT                           AI For Everyone   2022    http://learning_platform.com/aiforever\n",
      "    25               IT    Programming Foundations with JavaScrip   2022    http://learning_platform.com/programmi\n",
      "    26               IT    An Introduction to Interactive Program   2022    http://learning_platform.com/anintrodu\n",
      "    27               IT    Code Yourself! An Introduction to Prog   2022    http://learning_platform.com/codeyours\n",
      "    28               IT                    Introducci\\'f3n a Java   2022    http://learning_platform.com/introducc\n",
      "    29               IT                       Fundamentals of GIS   2022    http://learning_platform.com/fundament\n",
      "    30               IT    Python and Statistics for Financial An   2022    http://learning_platform.com/pythonand\n",
      "    31               IT         Cybersecurity and Its Ten Domains   2022    http://learning_platform.com/cybersecu\n",
      "    32               IT                    Crash Course on Python   2022    http://learning_platform.com/crashcour\n",
      "    33               IT    Design and Interpretation of Clinical    2022    http://learning_platform.com/designand\n",
      "    34               IT    Google Cloud Fundamentals: Core Infras   2022    http://learning_platform.com/googleclo\n",
      "    35               IT            Design Thinking for Innovation   2022    http://learning_platform.com/designthi\n",
      "    36               IT             Programming Languages, Part A   2022    http://learning_platform.com/programmi\n",
      "    37               IT    Introduction to Cybersecurity Tools &    2022    http://learning_platform.com/introduct\n",
      "    38               IT    How To Create a Website in a Weekend!    2022    http://learning_platform.com/howtocrea\n",
      "    39               IT    Functional Programming Principles in S   2022    http://learning_platform.com/functiona\n",
      "    40               IT                      SQL for Data Science   2022    http://learning_platform.com/sqlfordat\n",
      "    41               IT                  Programming Fundamentals   2022    http://learning_platform.com/programmi\n",
      "    42               IT                     Computer Architecture   2022    http://learning_platform.com/computera\n",
      "    43               IT                   Build a Modern Computer   2022    http://learning_platform.com/buildamod\n",
      "    44               IT    Getting Started with AWS Machine Learn   2022    http://learning_platform.com/gettingst\n",
      "    45               IT                     Introduction to HTML5   2022    http://learning_platform.com/introduct\n",
      "    46               IT    Foundations of User Experience (UX) De   2022    http://learning_platform.com/foundatio\n",
      "    47               IT                Introduction to Google SEO   2022    http://learning_platform.com/introduct\n",
      "    48               IT    Visual Elements of User Interface Desi   2022    http://learning_platform.com/visualele\n",
      "    49               IT    Fundamentals of Visualization with Tab   2022    http://learning_platform.com/fundament\n",
      "    50               IT                 Agile with Atlassian Jira   2022    http://learning_platform.com/agilewith\n",
      " [...]\n"
     ]
    }
   ],
   "source": [
    "print(' ' * (27 - len('course table')), 'course table:', len(newCourseDict['courseID']), '\\n')\n",
    "print(' ' * (5 - len('ID')), 'ID', ' ' * (15 - len('discipline')), 'discipline', ' ' * (40 - len('course name')), 'course name', ' ' * (5 - len('year')), 'year', ' ' * (40 - len('syllabus')), 'syllabus')\n",
    "for i in range(0, 50):\n",
    "    print(' ' * (5 - len(newCourseDict['courseID'][i])), newCourseDict['courseID'][i], ' ' * (15 - len(newCourseDict['discipline'][i][0 : 14])), newCourseDict['discipline'][i][0 : 14], ' ' * (40 - len(newCourseDict['courseName'][i][0 : 38])), newCourseDict['courseName'][i][0 : 38], ' ' * (5 - len(newCourseDict['courseYear'][i])), newCourseDict['courseYear'][i], ' ' * (40 - len(newCourseDict['syllabus'][i][0 : 38])), newCourseDict['syllabus'][i][0 : 38])\n",
    "print(' ' * (5 - len('[...]')), '[...]')"
   ]
  },
  {
   "cell_type": "markdown",
   "id": "3b91934f",
   "metadata": {},
   "source": [
    "<h3>\n",
    "Load <i>student</i> table\n",
    "</h3><br>\n",
    "This table contains all information available on students, that I want to include in the final table."
   ]
  },
  {
   "cell_type": "code",
   "execution_count": 4,
   "id": "520082bc",
   "metadata": {},
   "outputs": [],
   "source": [
    "key = 0\n",
    "studentDict = dict()\n",
    "with open(path + 'tables/studentTable.csv', newline = '', encoding = 'UTF-16') as csvStudent:\n",
    "    reader = csv.reader(csvStudent, delimiter = ',')\n",
    "    for line in reader:\n",
    "        studentDict[key] = line\n",
    "        key += 1"
   ]
  },
  {
   "cell_type": "code",
   "execution_count": 5,
   "id": "91feda4a",
   "metadata": {},
   "outputs": [],
   "source": [
    "# rearrange the student dictionary by using data in line [0] as keys\n",
    "newStudentDict = dict()\n",
    "for key in studentDict[0]:\n",
    "    newStudentDict[key] = list()\n",
    "for i in range(1, len(studentDict)):\n",
    "    for j in range(0, len(studentDict[0])):\n",
    "        newStudentDict[studentDict[0][j]].append(studentDict[i][j])"
   ]
  },
  {
   "cell_type": "code",
   "execution_count": 6,
   "id": "05276899",
   "metadata": {},
   "outputs": [
    {
     "name": "stdout",
     "output_type": "stream",
     "text": [
      "dict_keys(['studentID', 'firstName', 'lastName', 'dateOfBirth', 'genre', 'country', 'town', 'email'])\n"
     ]
    }
   ],
   "source": [
    "print(newStudentDict.keys())"
   ]
  },
  {
   "cell_type": "markdown",
   "id": "45945715",
   "metadata": {},
   "source": [
    "<h4>\n",
    "Print out the result\n",
    "</h4>"
   ]
  },
  {
   "cell_type": "code",
   "execution_count": 41,
   "id": "5d9c7ea0",
   "metadata": {},
   "outputs": [
    {
     "name": "stdout",
     "output_type": "stream",
     "text": [
      "               student table: 6500 \n",
      "\n",
      "    ID    first name     last name    date of birth       genre          country          town            email\n",
      "     1        Jordan         Welch       2004-12-29        male    French Guiana   Lake Erinsi   jordan.welch@h\n",
      "     2      Custodia       Hidalgo        1981-4-23      female          Eritrea      Alicante   custodia.hidal\n",
      "     3         Haluk        Şensoy        1973-2-23        male           Jersey   East Vahitt   haluk.şensoy@h\n",
      "     4          Erna        Jopich        1965-3-19      female         Thailand    Euskirchen   erna.jopich@ya\n",
      "     5           Pål          Holm        1996-9-10        male            Libya      Jacobsen   pål.holm@yahoo\n",
      "     6         İhsan        Hançer        1978-7-27      female          Somalia   Sezerboroug   i̇hsan.hançer@\n",
      "     7        Kelsey        Kelley       1979-10-16      female          Liberia    North Todd   kelsey.kelley@\n",
      "     8       Artūras      Gronskis         1968-5-6        male          Burundi    Gustasland   artūras.gronsk\n",
      "     9        Tayyip         Akçay        1969-8-31  non binary            Congo   Eraslanberg   tayyip.akçay@g\n",
      "    10        Darius    Paulauskas        1964-4-10  non binary   United States    North Darij   darius.paulaus\n",
      "    11         Franz        Scholl         1963-4-4        male          Eritrea   Hannoversch   franz.scholl@y\n",
      "    12          Dave          Sire         1989-3-1        male     Tadzjikistan        Geleen   dave.sire@yaho\n",
      "    13       Maartje      Geerling         1968-7-3      female         Thailand   Ossendrecht   maartje.geerli\n",
      "    14          Anny         Bauer        1987-5-30      female         Rumänien         Borna   anny.bauer@goo\n",
      "    15         Scott         Reese        2000-5-31        male          Vietnam   Jenkinsches   scott.reese@gm\n",
      "    16     Ana Júlia      Nogueira       2002-11-11      female   Trindade e Tob      da Cunha   ana júlia.nogu\n",
      "    17         Malin       Evensen        1970-3-29      female   Marshall Islan          Mayø   malin.evensen@\n",
      "    18          Anna       Larsson        2005-1-30      female          Schweiz      Karlstad   anna.larsson@y\n",
      "    19         Gatik           Sen         1975-2-1      female           Taiwan         Buxar   gatik.sen@gmai\n",
      "    20       Ippazio       Argenti        1974-2-18        male         Giamaica      Viticuso   ippazio.argent\n",
      "    21        Xavier         Auger        1985-3-20        male           Gambie   Maurice-les   xavier.auger@w\n",
      "    22       Jacinto      Berrocal         1965-9-2        male          Somalia          Jaén   jacinto.berroc\n",
      "    23       Georges        Texier        1979-4-28        male       Porto Rico       Buisson   georges.texier\n",
      "    24         Oldağ       Erdoğan       1981-11-22        male     Saudi Arabia     Bilirland   oldağ.erdoğan@\n",
      "    25       Melissa        Mendes         1966-8-7      female       Cabo Verde      Teixeira   melissa.mendes\n",
      "    26          Joan        Ripoll        1996-6-27        male          Turquía        Toledo   joan.ripoll@ho\n",
      "    27          Lina    van de Koo        1970-9-13  non binary            Kenia   Kelpen-Oler   lina.van de ko\n",
      "    28         Onkar    Brahmbhatt        2000-5-13        male          Moldova   Farrukhabad   onkar.brahmbha\n",
      "    29          Juan       Pozuelo        1987-3-16        male             Fiji      Palencia   juan.pozuelo@g\n",
      "    30     Frederike      Schwital       2000-11-17      female           Taiwan   Mühldorf am   frederike.schw\n",
      "    31     Dominique        Evrard        1967-12-3      female       Madagascar       Joubert   dominique.evra\n",
      "    32          Rita        Strand        1999-11-1      female     Sierra Leone   Ragnhildhav   rita.strand@ya\n",
      "    33       Gabriel       Ribeiro        2005-6-19        male           Grécia         Braga   gabriel.ribeir\n",
      "    34        Bozena         Klemt        1979-6-19      female           Guinea          Suhl   bozena.klemt@a\n",
      "    35     Francisco        Barros       1965-11-28  non binary           Ruanda   Macedo de C   francisco.barr\n",
      "    36        Elodia          Cabo         1985-4-8      female   República de C          León   elodia.cabo@ho\n",
      "    37        Ingrid      Karlsson        1964-7-26      female         Tjeckien       Lidingö   ingrid.karlsso\n",
      "    38         Sarah          Lara        1991-6-13  non binary          Vietnam   South Derek   sarah.lara@gma\n",
      "    39       Kathrin          Bien        1968-1-22      female         Rumänien   Grevenbroic   kathrin.bien@y\n",
      "    40         Jason          Lind       1994-10-29        male             Guam         Baflo   jason.lind@hot\n",
      "    41       Stanley        Newton        1996-2-18        male            Niger   Collinsvill   stanley.newton\n",
      "    42         Gavin         Smith         1970-2-7        male          Grenada   North Kayle   gavin.smith@ho\n",
      "    43    Ana Vitóri        da Luz        1967-3-16      female         Marrocos   Peixoto do    ana vitória.da\n",
      "    44        Manolo    Quintanill        1969-10-5        male          Rumania    Las Palmas   manolo.quintan\n",
      "    45          Nils      Antonsen       1999-10-13        male   Trinidad and T          Haug   nils.antonsen@\n",
      "    46       Anthony      Roberson        1999-7-11        male           Angola   West Paulto   anthony.robers\n",
      "    47       Lorenzo         Krein        1970-7-24        male      El Salvador         Husum   lorenzo.krein@\n",
      "    48       Cevheri        Sezgin        2000-5-19        male            Japan   New Nurmele   cevheri.sezgin\n",
      "    49           Ugo       Bonatti       2002-10-30        male          Mayotte        Ussana   ugo.bonatti@ou\n",
      "    50         Esmee     Hollander         1997-6-7      female       Oostenrijk        Hattem   esmee.hollande\n",
      " [...]\n"
     ]
    }
   ],
   "source": [
    "print(' ' * (27 - len('student table')), 'student table:', len(newStudentDict['studentID']), '\\n')\n",
    "print(' ' * (5 - len('ID')), 'ID', ' ' * (12 - len('first name')), 'first name', ' ' * (12 - len('last name')), 'last name', ' ' * (15 - len('date of birth')), 'date of birth', ' ' * (10 - len('genre')), 'genre', ' ' * (15 - len('country')), 'country', ' ' * (12 - len('town')), 'town', ' ' * (15 - len('email')), 'email')\n",
    "for sID, firstName, lastName, dob, genre, country, town, email in zip(newStudentDict['studentID'][0 : 50], newStudentDict['firstName'][0 : 50], newStudentDict['lastName'][0 : 50], newStudentDict['dateOfBirth'][0 : 50], newStudentDict['genre'][0 : 50], newStudentDict['country'][0 : 50], newStudentDict['town'][0 : 50], newStudentDict['email'][0 : 50]):\n",
    "    print(' ' * (5 - len(sID)), sID, ' ' * (12 - len(firstName[0 : 10])), firstName[0 : 10], ' ' * (12 - len(lastName[0 : 10])), lastName[0 : 10], ' ' * (15 - len(dob)), dob, ' ' * (10 - len(genre)), genre, ' ' * (15 - len(country[0 : 14])), country[0 : 14], ' ' * (12 - len(town[0 : 11])), town[0 : 11], ' ' * (15 - len(email[0 : 14])), email[0 : 14])\n",
    "print(' ' * (5 - len('[...]')), '[...]')"
   ]
  },
  {
   "cell_type": "markdown",
   "id": "6835a481",
   "metadata": {},
   "source": [
    "<h3>\n",
    "Load <i>learning material</i> table\n",
    "</h3><br>\n",
    "This table contains all information available on learning material, that I want to include in the final table."
   ]
  },
  {
   "cell_type": "code",
   "execution_count": 20,
   "id": "801b18cc",
   "metadata": {},
   "outputs": [],
   "source": [
    "key = 0\n",
    "lmDict = dict()\n",
    "with open(path + 'tables/materialTable.csv', newline = '') as csvLM:\n",
    "    reader = csv.reader(csvLM, delimiter = ',')\n",
    "    for line in reader:\n",
    "        lmDict[key] = line\n",
    "        key += 1"
   ]
  },
  {
   "cell_type": "code",
   "execution_count": 21,
   "id": "b0ddbee4",
   "metadata": {},
   "outputs": [],
   "source": [
    "newLMDict = dict()\n",
    "for key in lmDict[0]:\n",
    "    newLMDict[key] = list()\n",
    "for i in range(1, len(lmDict)):\n",
    "    for j in range(0, len(lmDict[0])):\n",
    "        newLMDict[lmDict[0][j]].append(lmDict[i][j])"
   ]
  },
  {
   "cell_type": "code",
   "execution_count": 34,
   "id": "45338631",
   "metadata": {},
   "outputs": [
    {
     "name": "stdout",
     "output_type": "stream",
     "text": [
      "dict_keys(['materialID', 'unit', 'materialType', 'name', 'dimension'])\n"
     ]
    }
   ],
   "source": [
    "print(newLMDict.keys())"
   ]
  },
  {
   "cell_type": "markdown",
   "id": "fd30cf23",
   "metadata": {},
   "source": [
    "<h4>\n",
    "Print out the result (a small sample)\n",
    "</h4>"
   ]
  },
  {
   "cell_type": "code",
   "execution_count": 40,
   "id": "00df2bb9",
   "metadata": {},
   "outputs": [
    {
     "name": "stdout",
     "output_type": "stream",
     "text": [
      "     learning material table: 34346 \n",
      "\n",
      "   materialID      unit             type                                                          name   dimension\n",
      "            1    Unit 1    video lecture                                [VIDEO] Append vs. Concatenate           7\n",
      "            2    Unit 1   lecture slides                               [SLIDES] Append vs. Concatenate          11\n",
      "            3    Unit 1    video lecture                                    [VIDEO] Project 1 Overview           4\n",
      "            4    Unit 1   lecture slides                                   [SLIDES] Project 1 Overview          11\n",
      "            5    Unit 1    video lecture                                       [VIDEO] Fake Namespaces           4\n",
      "            6    Unit 1   lecture slides                                      [SLIDES] Fake Namespaces           8\n",
      "            7    Unit 1    video lecture                                   [VIDEO] Nested Conditionals           6\n",
      "            8    Unit 1   lecture slides                                  [SLIDES] Nested Conditionals           3\n",
      "            9    Unit 1             quiz                                                   Unit 1 quiz          10\n",
      "           10    Unit 2    video lecture                                         [VIDEO] Cloning Lists           8\n",
      "           11    Unit 2   lecture slides                                        [SLIDES] Cloning Lists           4\n",
      "           12    Unit 2    video lecture                                     [VIDEO] See how it's done           5\n",
      "           13    Unit 2   lecture slides                                    [SLIDES] See how it's done           1\n",
      "           14    Unit 2    video lecture             [VIDEO] What does this have to do with the brain?          10\n",
      "           15    Unit 2   lecture slides            [SLIDES] What does this have to do with the brain?           0\n",
      "           16    Unit 2    video lecture                                                 [VIDEO] Lists           1\n",
      "           17    Unit 2   lecture slides                                                [SLIDES] Lists           2\n",
      "           18    Unit 2    video lecture  [VIDEO] Keeping Track of Your Iterator Variable and Your Ite           2\n",
      "           19    Unit 2   lecture slides  [SLIDES] Keeping Track of Your Iterator Variable and Your It           4\n",
      "           20    Unit 2             quiz                                                   Unit 2 quiz           7\n",
      "           21    Unit 3    video lecture                      [VIDEO] Choosing the Right Variable Name           8\n",
      "           22    Unit 3   lecture slides                     [SLIDES] Choosing the Right Variable Name           1\n",
      "           23    Unit 3    video lecture               [VIDEO] Some Ground Rules and Overview of Setup          10\n",
      "           24    Unit 3   lecture slides              [SLIDES] Some Ground Rules and Overview of Setup           6\n",
      "           25    Unit 3    video lecture                           [VIDEO] The in and not in Operators           2\n",
      "           26    Unit 3   lecture slides                          [SLIDES] The in and not in Operators           5\n",
      "           27    Unit 3    video lecture                                   [VIDEO] Order of Operations           4\n",
      "           28    Unit 3   lecture slides                                  [SLIDES] Order of Operations           7\n",
      "           29    Unit 3    video lecture                                     [VIDEO] About this Course           8\n",
      "           30    Unit 3   lecture slides                                    [SLIDES] About this Course           8\n",
      "           31    Unit 3    video lecture                           [VIDEO] Enum & Operator Overloading          10\n",
      "           32    Unit 3   lecture slides                          [SLIDES] Enum & Operator Overloading           9\n",
      "           33    Unit 3    video lecture                                  [VIDEO] Theory of Algorithms           8\n",
      "           34    Unit 3   lecture slides                                 [SLIDES] Theory of Algorithms           7\n",
      "           35    Unit 3    video lecture                           [VIDEO] Boolean Functions Synthesis           1\n",
      "           36    Unit 3   lecture slides                          [SLIDES] Boolean Functions Synthesis           2\n",
      "           37    Unit 3    video lecture                                   [VIDEO] Combining Selectors          11\n",
      "           38    Unit 3   lecture slides                                  [SLIDES] Combining Selectors           6\n",
      "           39    Unit 3    video lecture                                        [VIDEO] Creating Links           3\n",
      "           40    Unit 3   lecture slides                                       [SLIDES] Creating Links           8\n",
      "           41    Unit 3             quiz                                                   Unit 3 quiz           5\n",
      "           42    Unit 4    video lecture                       [VIDEO] Non-Mutating Methods on Strings          11\n",
      "           43    Unit 4   lecture slides                      [SLIDES] Non-Mutating Methods on Strings           2\n",
      "           44    Unit 4    video lecture               [VIDEO] Building Blocks of Deep Neural Networks           2\n",
      "           45    Unit 4   lecture slides              [SLIDES] Building Blocks of Deep Neural Networks          11\n",
      "           46    Unit 4    video lecture                    [VIDEO] Writing code to load training data           3\n",
      "           47    Unit 4   lecture slides                   [SLIDES] Writing code to load training data           8\n",
      "           48    Unit 4    video lecture                                   [VIDEO] Hardware Simulation          11\n",
      "           49    Unit 4   lecture slides                                  [SLIDES] Hardware Simulation           3\n",
      "           50    Unit 4    video lecture                          [VIDEO] C++11 Feature: for statement           3\n",
      "        [...]\n"
     ]
    }
   ],
   "source": [
    "print(' ' * (27 - len('learning material table')), 'learning material table:', len(newLMDict['materialID']), '\\n')\n",
    "print(' ' * (12 - len('materialID')), 'materialID', ' ' * (8 - len('unit')), 'unit', ' ' * (15 - len('type')), 'type', ' ' * (60 - len('name')), 'name', ' ' * (10 - len('dimension')), 'dimension')\n",
    "for i in range(0, 50):\n",
    "    print(' ' * (12 - len(newLMDict['materialID'][i])), newLMDict['materialID'][i], ' ' * (8 - len(newLMDict['unit'][i])), newLMDict['unit'][i], ' ' * (15 - len(newLMDict['materialType'][i])), newLMDict['materialType'][i], ' ' * (60 - len(newLMDict['name'][i][0 : 60])), newLMDict['name'][i][0 : 60], ' ' * (10 - len(newLMDict['dimension'][i])), newLMDict['dimension'][i])\n",
    "print(' ' * (12 - len('[...]')), '[...]')"
   ]
  },
  {
   "cell_type": "markdown",
   "id": "53169462",
   "metadata": {},
   "source": [
    "<h3>\n",
    "Load <i>learning</i> table\n",
    "</h3><br>\n",
    "This table contains all elements that allow me to link the three previous tables together in a meaningful way. Of this table I only keep the last attribute (access date), since the first three serve just to establish the afore mentioned link by checking that they match course, student or learning material IDs."
   ]
  },
  {
   "cell_type": "code",
   "execution_count": 26,
   "id": "fed35e48",
   "metadata": {},
   "outputs": [],
   "source": [
    "learningDict = dict()\n",
    "key = 0\n",
    "with open(path + 'tables/learningTable.csv', newline = '') as csvLearning:\n",
    "    reader = csv.reader(csvLearning)\n",
    "    for line in reader:\n",
    "        learningDict[key] = line\n",
    "        key += 1"
   ]
  },
  {
   "cell_type": "code",
   "execution_count": 27,
   "id": "cdc53127",
   "metadata": {},
   "outputs": [],
   "source": [
    "newLearningDict = dict()\n",
    "for key in learningDict[0]:\n",
    "    newLearningDict[key] = list()\n",
    "for i in range(1, len(learningDict)):\n",
    "    for j in range(0, len(learningDict[0])):\n",
    "        newLearningDict[learningDict[0][j]].append(learningDict[i][j])"
   ]
  },
  {
   "cell_type": "code",
   "execution_count": 28,
   "id": "a00aea4c",
   "metadata": {},
   "outputs": [
    {
     "name": "stdout",
     "output_type": "stream",
     "text": [
      "dict_keys(['course', 'student', 'learning_material', 'accessDate'])\n"
     ]
    }
   ],
   "source": [
    "print(newLearningDict.keys())"
   ]
  },
  {
   "cell_type": "markdown",
   "id": "0bb77d3b",
   "metadata": {},
   "source": [
    "<h4>\n",
    "Print out the result (a small sample)\n",
    "</h4>"
   ]
  },
  {
   "cell_type": "code",
   "execution_count": 43,
   "id": "92aee1f3",
   "metadata": {},
   "outputs": [
    {
     "name": "stdout",
     "output_type": "stream",
     "text": [
      "              learning table: 1095645 \n",
      "\n",
      "  course ID    student ID       lm ID      access date\n",
      "        192             2       13366       2022-12-03\n",
      "        192             2       13367       2023-01-05\n",
      "        192             2       13368       2023-01-30\n",
      "        192             2       13369       2023-01-30\n",
      "        192             2       13370       2023-03-18\n",
      "        192             2       13371       2023-08-12\n",
      "        192             2       13372       2023-02-02\n",
      "        192             2       13373       2022-09-27\n",
      "        192             2       13374       2022-11-03\n",
      "        192             2       13375       2022-08-27\n",
      "        192             2       13376       2023-06-15\n",
      "        192             2       13377       2022-09-29\n",
      "        192             2       13378       2023-03-29\n",
      "        192             2       13379       2023-07-22\n",
      "        192             2       13380       2022-07-18\n",
      "        192             2       13381       2022-09-13\n",
      "        192             2       13382       2022-07-26\n",
      "        192             2       13383       2023-04-11\n",
      "        192             2       13384       2023-02-07\n",
      "        192             2       13385       2023-03-10\n",
      "        192             2       13386       2023-07-26\n",
      "        192             2       13387       2023-03-14\n",
      "        192             2       13388       2023-04-08\n",
      "        192             2       13389       2023-04-12\n",
      "        192             2       13390       2023-03-31\n",
      "        192             2       13391       2022-08-10\n",
      "        192             2       13392       2023-01-13\n",
      "        192             2       13393       2022-10-09\n",
      "        192             2       13394       2023-06-14\n",
      "        192             2       13395       2022-07-23\n",
      "        192             2       13396       2022-09-13\n",
      "        192             2       13397       2023-02-27\n",
      "        192             2       13398       2022-09-26\n",
      "        192             2       13399       2023-05-23\n",
      "        192             2       13400       2023-08-09\n",
      "        192             2       13401       2023-05-10\n",
      "        192             2       13402       2023-02-27\n",
      "        192             2       13403       2023-03-01\n",
      "        192             2       13404       2022-10-31\n",
      "        192             2       13405       2023-06-28\n",
      "        192             2       13406       2023-06-24\n",
      "        192             2       13407       2022-10-13\n",
      "        192             2       13408       2023-02-16\n",
      "        192             2       13409       2022-11-18\n",
      "        192             2       13410       2022-12-15\n",
      "        192             2       13411       2023-06-30\n",
      "        192             2       13412       2023-06-29\n",
      "        192             2       13413       2022-09-02\n",
      "        192             2       13414       2023-05-19\n",
      "        192             2       13415       2023-02-15\n",
      "      [...]\n"
     ]
    }
   ],
   "source": [
    "print(' ' * (27 - len('learning table')), 'learning table:', len(newLearningDict['course']), '\\n')\n",
    "print(' ' * (10 - len('course ID')), 'course ID', ' ' * (12 - len('student ID')), 'student ID', ' ' * (10 - len('lm ID')), 'lm ID', ' ' * (15 - len('access date')), 'access date')\n",
    "for i in range(0, 50):\n",
    "    print(' ' * (10 - len(newLearningDict['course'][i])), newLearningDict['course'][i], ' ' * (12 - len(newLearningDict['student'][i])), newLearningDict['student'][i], ' ' * (10 - len(newLearningDict['learning_material'][i])), newLearningDict['learning_material'][i], ' ' * (15 - len(newLearningDict['accessDate'][i])), newLearningDict['accessDate'][i])\n",
    "print(' ' * (10 - len('[...]')), '[...]')"
   ]
  },
  {
   "cell_type": "markdown",
   "id": "5251f04a",
   "metadata": {},
   "source": [
    "<h3>\n",
    "Building the final table\n",
    "</h3><br>\n",
    "I loop over the <i>learning</i> table, which is the backbone on which my desired table is built. It contains course, student and learning material ID, so while looping, for each row I need to loop over the <i>course</i>, <i>student</i> and <i>learning</i> table in order to retrieve the course, student and learning material ID matching those present in the row of the <i>learning</i> table that I'm actually positioned at. When I find the correspondence I attach all of the information retrieved from the other three tables into my final dictionary. I just omit the IDs in the <i>learning</i> table because they are replicated in the other three tables."
   ]
  },
  {
   "cell_type": "code",
   "execution_count": 37,
   "id": "2c639acc",
   "metadata": {},
   "outputs": [],
   "source": [
    "for learnCourse, learnStudent, learnLM, learnDate in zip(newLearningDict['course'], newLearningDict['student'], newLearningDict['learning_material'], newLearningDict['accessDate']):\n",
    "    for cID, disc, cName, cYear, syllabus in zip(newCourseDict['courseID'], newCourseDict['discipline'], newCourseDict['courseName'], newCourseDict['courseYear'], newCourseDict['syllabus']):\n",
    "        if learnCourse == cID:\n",
    "            finalDict['courseID'].append(cID)\n",
    "            finalDict['discipline'].append(disc)\n",
    "            finalDict['courseName'].append(cName)\n",
    "            finalDict['courseYear'].append(cYear)\n",
    "            finalDict['syllabus'].append(syllabus)\n",
    "    for sID, firstName, lastName, dob, genre, country, town, email in zip(newStudentDict['studentID'], newStudentDict['firstName'], newStudentDict['lastName'], newStudentDict['dateOfBirth'], newStudentDict['genre'], newStudentDict['country'], newStudentDict['town'], newStudentDict['email']):\n",
    "        if learnStudent == sID:\n",
    "            finalDict['studentID'].append(sID)\n",
    "            finalDict['firstName'].append(firstName)\n",
    "            finalDict['lastName'].append(lastName)\n",
    "            finalDict['dateOfBirth'].append(dob)\n",
    "            finalDict['genre'].append(genre)\n",
    "            finalDict['country'].append(country)\n",
    "            finalDict['town'].append(town)\n",
    "            finalDict['email'].append(email)\n",
    "    for lmID, unit, lmType, lmName, dimension in zip(newLMDict['materialID'], newLMDict['unit'], newLMDict['materialType'], newLMDict['name'], newLMDict['dimension']):\n",
    "        if learnLM == lmID:\n",
    "            finalDict['materialID'].append(lmID)\n",
    "            finalDict['unit'].append(unit)\n",
    "            finalDict['materialType'].append(lmType)\n",
    "            finalDict['name'].append(lmName)\n",
    "            finalDict['dimension'].append(dimension)\n",
    "    finalDict['accessDate'].append(learnDate)"
   ]
  },
  {
   "cell_type": "code",
   "execution_count": 39,
   "id": "96e86741",
   "metadata": {},
   "outputs": [],
   "source": [
    "# save final table to csv file\n",
    "with open(path + 'tables/finalTable.csv', 'w', newline = '') as csvfile:\n",
    "    writer = csv.writer(csvfile)\n",
    "    keys = finalDict.keys()\n",
    "    limit = len(finalDict['courseID'])\n",
    "    \n",
    "    writer.writerow(keys)\n",
    "    for i in range(0, limit):\n",
    "        writer.writerow(finalDict[k][i] for k in keys)"
   ]
  },
  {
   "cell_type": "code",
   "execution_count": null,
   "id": "fa89dc6d",
   "metadata": {},
   "outputs": [],
   "source": []
  }
 ],
 "metadata": {
  "kernelspec": {
   "display_name": "Python 3 (ipykernel)",
   "language": "python",
   "name": "python3"
  },
  "language_info": {
   "codemirror_mode": {
    "name": "ipython",
    "version": 3
   },
   "file_extension": ".py",
   "mimetype": "text/x-python",
   "name": "python",
   "nbconvert_exporter": "python",
   "pygments_lexer": "ipython3",
   "version": "3.10.8"
  }
 },
 "nbformat": 4,
 "nbformat_minor": 5
}

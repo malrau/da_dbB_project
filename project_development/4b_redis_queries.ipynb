{
 "cells": [
  {
   "cell_type": "markdown",
   "id": "b658c051",
   "metadata": {},
   "source": [
    "<center>\n",
    "    <h2>Online learning platform database - Redis</h2>\n",
    "    <h3>Performing the queries and storing the queries execution time</h3>\n",
    "</center>"
   ]
  },
  {
   "cell_type": "markdown",
   "id": "4ebe4135",
   "metadata": {},
   "source": [
    "<h3>Python - Redis interaction</h3>"
   ]
  },
  {
   "cell_type": "markdown",
   "id": "24ad76a4",
   "metadata": {},
   "source": [
    "Prior to performing the queries, we import the required modules (the <i>redis-py</i> driver and the <i>time</i> and <i>csv</i> modules) and establish connections to the four different Redis instances running in Docker. Also, we import the set of dependencies that are necessary to perform queries and aggregations."
   ]
  },
  {
   "cell_type": "code",
   "execution_count": 89,
   "id": "3c5469de",
   "metadata": {},
   "outputs": [],
   "source": [
    "# import modules\n",
    "import redis              # Redis driver (redis-py)\n",
    "import time               # time-related functions to register query execution times\n",
    "import csv                # read and write csv files\n",
    "\n",
    "# start four different Redis instances\n",
    "myRedis = redis.Redis(host = 'localhost', port = 6379, decode_responses = True)\n",
    "myRedis2 = redis.Redis(host = 'localhost', port = 6382, decode_responses = True)\n",
    "myRedis3 = redis.Redis(host = 'localhost', port = 6383, decode_responses = True)\n",
    "myRedis4 = redis.Redis(host = 'localhost', port = 6384, decode_responses = True)\n",
    "\n",
    "# import query-related redis-py dependencies\n",
    "from redis.commands.search.field import TextField, NumericField, TagField\n",
    "from redis.commands.search.indexDefinition import IndexDefinition, IndexType\n",
    "from redis.commands.search.query import Query\n",
    "import redis.commands.search.aggregation as aggregations\n",
    "import redis.commands.search.reducers as reducers"
   ]
  },
  {
   "cell_type": "markdown",
   "id": "35dfc876",
   "metadata": {},
   "source": [
    "<h3>Query the Redis instances</h3>"
   ]
  },
  {
   "cell_type": "markdown",
   "id": "70c6b252",
   "metadata": {},
   "source": [
    "I create a dictionary of lists for each of the four Redis instances. In these dictionaries the keys are the query names and the values are the 31 query execution times: in fact I attach the value of the query execution time of the most recent query to the list. Since query execution times are required in milliseconds, prior to attaching them, I multiply them by 1000 and round them to the fifth decimal precision.\n",
    "As previously explained, the above summarized actions (for each of the four queries on each of the four instances) are performed by following a standard succession of steps. Each step is encapsulated within a notebook cell (so each query is performed 31 times by using four notebook cells), as follows:\n",
    " - step 1: define the query: create a RediSearch object, define the schema (basically, the indices needed for the specific query) and the index characteristics, create the index;\n",
    " - step 2: perform the query for the first time, contextually create timestamps prior and after query execution, print query result;\n",
    " - step 3: compute execution time of the first query execution and store it within the corresponding dictionary list;\n",
    " - step 4: [thirty times] perform query execution while creating prior and following timestamps, compute execution time and store it within the corresponding dictionary list.\n",
    "\n",
    "For each Redis instance, after having performed the four queries, I will finally compute the mean of the query executions from step 3. Together with the first query execution, this mean value will be stored into a new dictionary, specific to a dataset. Originally, I would use these four new dictionaries to save the query execution times into a csv file for constructing histograms. I later resolved to save all the 31 recorded query execution times and pass them all to Microsoft© Excel to process them.\n",
    "\n",
    "N.B.:\n",
    "It must be noticed that, if an index has been already created, it resides in the memory of the system. Hence, either it is directly re-used or it must be deleted and created anew. Since I want to keep the code for documentation purposes, I keep a commented line with the instruction to destroy an index in each <i>step1</i> cell for use when needed."
   ]
  },
  {
   "cell_type": "code",
   "execution_count": 2,
   "id": "b36027f4",
   "metadata": {},
   "outputs": [],
   "source": [
    "smallDict = {'query1' : list(), 'query2' : list(), 'query3' : list(), 'query4' : list()}\n",
    "mediumDict = {'query1' : list(), 'query2' : list(), 'query3' : list(), 'query4' : list()}\n",
    "largeDict = {'query1' : list(), 'query2' : list(), 'query3' : list(), 'query4' : list()}\n",
    "humongousDict = {'query1' : list(), 'query2' : list(), 'query3' : list(), 'query4' : list()}"
   ]
  },
  {
   "cell_type": "code",
   "execution_count": 3,
   "id": "2f35cc3c",
   "metadata": {},
   "outputs": [],
   "source": [
    "# mean function\n",
    "def mean(aList):\n",
    "    n = len(aList)\n",
    "    sum = 0\n",
    "    for value in aList:\n",
    "        sum += value\n",
    "    return sum / n"
   ]
  },
  {
   "cell_type": "markdown",
   "id": "82c9518c",
   "metadata": {},
   "source": [
    "<h3>Redis instance with 250k hashes</h3>"
   ]
  },
  {
   "cell_type": "markdown",
   "id": "46c4a166",
   "metadata": {},
   "source": [
    "I start with the Redis instance with the smallest number of hash keys."
   ]
  },
  {
   "cell_type": "markdown",
   "id": "1e1b5194",
   "metadata": {},
   "source": [
    "<h4>Query1</h4>"
   ]
  },
  {
   "cell_type": "code",
   "execution_count": 6,
   "id": "6e527d44",
   "metadata": {},
   "outputs": [
    {
     "data": {
      "text/plain": [
       "'OK'"
      ]
     },
     "execution_count": 6,
     "metadata": {},
     "output_type": "execute_result"
    }
   ],
   "source": [
    "#step 1\n",
    "small_redis1 = myRedis.ft('small_index1')\n",
    "#small_redis1.dropindex()\n",
    "schema1 = (TextField('courseID'), TextField('firstName'), TextField('lastName'))\n",
    "index_definition = IndexDefinition(prefix = ['smallDB:'], index_type = IndexType.HASH)\n",
    "small_redis1.create_index(schema1, definition = index_definition)"
   ]
  },
  {
   "cell_type": "code",
   "execution_count": 7,
   "id": "13c1871b",
   "metadata": {},
   "outputs": [
    {
     "name": "stdout",
     "output_type": "stream",
     "text": [
      "Ferrán Narciso\n",
      "Lie Cathrine\n",
      "Nicolas Émile\n",
      "Amundsen Ingeborg\n",
      "Laroche Arthur\n",
      "Lara Sarah\n",
      "Leite Patrícia\n",
      "Gaižauskas Vigilija\n",
      "Hidalgo Custodia\n",
      "Arenas Casandra\n",
      "Soylu Ledün\n",
      "Nicolas Nath\n",
      "Narušis Ana\n"
     ]
    }
   ],
   "source": [
    "#step 2\n",
    "aggRequest1 = aggregations.AggregateRequest('@courseID:192').group_by({'@firstName', '@lastName'})\n",
    "before = time.time()\n",
    "small_query1 = small_redis1.aggregate(aggRequest1)\n",
    "after = time.time()\n",
    "\n",
    "for res in small_query1.rows:\n",
    "    print(res[1], res[3])"
   ]
  },
  {
   "cell_type": "code",
   "execution_count": 8,
   "id": "b134ddc7",
   "metadata": {},
   "outputs": [],
   "source": [
    "#step 2\n",
    "msec_duration = (after - before) * 1000\n",
    "smallDict['query1'].append(round(msec_duration, 5))"
   ]
  },
  {
   "cell_type": "code",
   "execution_count": 9,
   "id": "d7617aed",
   "metadata": {},
   "outputs": [],
   "source": [
    "# step 3\n",
    "for i in range(0, 30):\n",
    "    before = time.time()\n",
    "    small_redis1.aggregate(aggRequest1)\n",
    "    after = time.time()\n",
    "    msec_duration = (after - before) * 1000\n",
    "    smallDict['query1'].append(round(msec_duration, 5))"
   ]
  },
  {
   "cell_type": "markdown",
   "id": "1f1e494b",
   "metadata": {},
   "source": [
    "<h4>Query2</h4>"
   ]
  },
  {
   "cell_type": "code",
   "execution_count": 11,
   "id": "0f839320",
   "metadata": {},
   "outputs": [
    {
     "data": {
      "text/plain": [
       "'OK'"
      ]
     },
     "execution_count": 11,
     "metadata": {},
     "output_type": "execute_result"
    }
   ],
   "source": [
    "# step 1\n",
    "small_redis2 = myRedis.ft('small_index2')\n",
    "#small_redis2.dropindex()\n",
    "schema2 = (TextField('discipline'), TextField('courseYear'), TextField('courseName'))\n",
    "index_definition = IndexDefinition(prefix = ['smallDB:'], index_type = IndexType.HASH)\n",
    "small_redis2.create_index(schema2, definition = index_definition)"
   ]
  },
  {
   "cell_type": "code",
   "execution_count": 12,
   "id": "efbd1e50",
   "metadata": {},
   "outputs": [
    {
     "name": "stdout",
     "output_type": "stream",
     "text": [
      "Introduction to Probability and Data with R\n",
      "Basic Statistics\n",
      "Bayesian Statistics: From Concept to Data Analysis\n",
      "Python and Statistics for Financial Analysis\n",
      "Understanding Clinical Research: Behind the Statistics\n",
      "Econometrics: Methods and Applications\n",
      "Exploratory Data Analysis\n",
      "Foundations: Data, Data, Everywhere\n",
      "Introduction to Statistics\n"
     ]
    }
   ],
   "source": [
    "# step 2\n",
    "aggRequest2 = aggregations.AggregateRequest('@discipline:statistics @courseYear:2022').group_by('@courseName')\n",
    "before = time.time()\n",
    "small_query2 = small_redis2.aggregate(aggRequest2)\n",
    "after = time.time()\n",
    "\n",
    "for res in small_query2.rows:\n",
    "    print(res[1])"
   ]
  },
  {
   "cell_type": "code",
   "execution_count": 13,
   "id": "ad5c3b91",
   "metadata": {},
   "outputs": [],
   "source": [
    "# step 3\n",
    "msec_duration = (after - before) * 1000\n",
    "smallDict['query2'].append(round(msec_duration, 5))"
   ]
  },
  {
   "cell_type": "code",
   "execution_count": 14,
   "id": "50a11999",
   "metadata": {},
   "outputs": [],
   "source": [
    "# step 4\n",
    "for i in range(0, 30):\n",
    "    before = time.time()\n",
    "    small_redis2.aggregate(aggRequest2)\n",
    "    after = time.time()\n",
    "    msec_duration = (after - before) * 1000\n",
    "    smallDict['query2'].append(round(msec_duration, 5))"
   ]
  },
  {
   "cell_type": "markdown",
   "id": "58288374",
   "metadata": {},
   "source": [
    "<h4>Query3</h4>"
   ]
  },
  {
   "cell_type": "code",
   "execution_count": 16,
   "id": "ff2fd88f",
   "metadata": {},
   "outputs": [
    {
     "data": {
      "text/plain": [
       "'OK'"
      ]
     },
     "execution_count": 16,
     "metadata": {},
     "output_type": "execute_result"
    }
   ],
   "source": [
    "# step 1\n",
    "small_redis3 = myRedis.ft('small_index3')\n",
    "#small_redis3.dropindex()\n",
    "schema3 = (TextField('materialType'), TagField('discipline'), TextField('email'), TextField('firstName'))\n",
    "index_definition = IndexDefinition(prefix = ['smallDB:'], index_type = IndexType.HASH)\n",
    "small_redis3.create_index(schema3, definition = index_definition)"
   ]
  },
  {
   "cell_type": "code",
   "execution_count": 21,
   "id": "d0c6650e",
   "metadata": {},
   "outputs": [
    {
     "name": "stdout",
     "output_type": "stream",
     "text": [
      "838\n"
     ]
    }
   ],
   "source": [
    "# step 2\n",
    "aggRequest3 = aggregations.AggregateRequest('@discipline:{maths} @materialType:\\'lecture slides\\' @email:*gmail.com').group_by('@discipline', reducers.count().alias('count'))\n",
    "before = time.time()\n",
    "small_query3 = small_redis3.aggregate(aggRequest3)\n",
    "after = time.time()\n",
    "\n",
    "print(small_query3.rows[0][3])"
   ]
  },
  {
   "cell_type": "code",
   "execution_count": 22,
   "id": "8cc0465b",
   "metadata": {},
   "outputs": [],
   "source": [
    "# step 3\n",
    "msec_duration = (after - before) * 1000\n",
    "smallDict['query3'].append(round(msec_duration, 5))"
   ]
  },
  {
   "cell_type": "code",
   "execution_count": 23,
   "id": "8746f01d",
   "metadata": {},
   "outputs": [],
   "source": [
    "# step 4\n",
    "for i in range(0, 30):\n",
    "    before = time.time()\n",
    "    small_query3 = small_redis3.aggregate(aggRequest3)\n",
    "    after = time.time()\n",
    "    msec_duration = (after - before) * 1000\n",
    "    smallDict['query3'].append(round(msec_duration, 5))"
   ]
  },
  {
   "cell_type": "markdown",
   "id": "3ea45e5b",
   "metadata": {},
   "source": [
    "<h4>Query4</h4>"
   ]
  },
  {
   "cell_type": "code",
   "execution_count": 25,
   "id": "8faaba4d",
   "metadata": {},
   "outputs": [
    {
     "data": {
      "text/plain": [
       "'OK'"
      ]
     },
     "execution_count": 25,
     "metadata": {},
     "output_type": "execute_result"
    }
   ],
   "source": [
    "# step 1\n",
    "small_redis4 = myRedis.ft('small_index4')\n",
    "#small_redis4.dropindex()\n",
    "schema4 = (TagField('discipline'), TagField('courseYear'), TextField('country'), TextField('dateOfBirth'), TextField('firstName'), TextField('lastName', sortable = True))\n",
    "index_definition = IndexDefinition(prefix = ['smallDB:'], index_type = IndexType.HASH)\n",
    "small_redis4.create_index(schema4, definition = index_definition)"
   ]
  },
  {
   "cell_type": "code",
   "execution_count": 26,
   "id": "5160cc80",
   "metadata": {},
   "outputs": [
    {
     "name": "stdout",
     "output_type": "stream",
     "text": [
      "lie South Korea Cathrine 1986-7-12\n",
      "reynolds Korea Lynda 1989-7-21\n",
      "sura North Korea Raghav 1973-11-27\n"
     ]
    }
   ],
   "source": [
    "#step 2\n",
    "aggRequest4 = aggregations.AggregateRequest('@discipline:{psychology} AND @courseYear:{2023} AND @country:*orea AND -@dateOfBirth:200*').group_by({'@firstName', '@lastName', '@country', '@dateOfBirth'}).sort_by('@lastName')\n",
    "before = time.time()\n",
    "small_query4 = small_redis4.aggregate(aggRequest4)\n",
    "after = time.time()\n",
    "\n",
    "for res in small_query4.rows:\n",
    "    print(res[1], res[5], res[7], res[3])"
   ]
  },
  {
   "cell_type": "code",
   "execution_count": 27,
   "id": "d72e19c1",
   "metadata": {},
   "outputs": [],
   "source": [
    "# step 3\n",
    "msec_duration = (after - before) * 1000\n",
    "smallDict['query4'].append(round(msec_duration, 5))"
   ]
  },
  {
   "cell_type": "code",
   "execution_count": 28,
   "id": "062f2360",
   "metadata": {},
   "outputs": [],
   "source": [
    "# step 4\n",
    "for i in range(0, 30):\n",
    "    before = time.time()\n",
    "    small_redis4.aggregate(aggRequest4)\n",
    "    after = time.time()\n",
    "    msec_duration = (after - before) * 1000\n",
    "    smallDict['query4'].append(round(msec_duration, 5))"
   ]
  },
  {
   "cell_type": "code",
   "execution_count": 30,
   "id": "823f453f",
   "metadata": {},
   "outputs": [
    {
     "data": {
      "text/plain": [
       "{'query1': [43.05792, 6.59162],\n",
       " 'query2': [12.70509, 19.69381],\n",
       " 'query3': [17.30895, 17.22561],\n",
       " 'query4': [14.01019, 7.57892]}"
      ]
     },
     "execution_count": 30,
     "metadata": {},
     "output_type": "execute_result"
    }
   ],
   "source": [
    "smallDataset = {'query1' : list(), 'query2' : list(), 'query3' : list(), 'query4' : list()}\n",
    "for key in smallDict:\n",
    "    smallDataset[key].append(smallDict[key][0])\n",
    "    mean30 = mean(smallDict[key][1 : 31])\n",
    "    smallDataset[key].append(round(mean30, 5))\n",
    "smallDataset"
   ]
  },
  {
   "cell_type": "code",
   "execution_count": null,
   "id": "bfd304ca",
   "metadata": {},
   "outputs": [],
   "source": []
  },
  {
   "cell_type": "markdown",
   "id": "77c44e9e",
   "metadata": {},
   "source": [
    "<h3>Redis instance with 500k hashes</h3>"
   ]
  },
  {
   "cell_type": "markdown",
   "id": "07e3a161",
   "metadata": {},
   "source": [
    "<h4>Query1</h4>"
   ]
  },
  {
   "cell_type": "code",
   "execution_count": 34,
   "id": "da4cbbe8",
   "metadata": {},
   "outputs": [
    {
     "data": {
      "text/plain": [
       "'OK'"
      ]
     },
     "execution_count": 34,
     "metadata": {},
     "output_type": "execute_result"
    }
   ],
   "source": [
    "# step 1\n",
    "medium_redis1 = myRedis2.ft('medium_index1')\n",
    "#medium_redis1.dropindex()\n",
    "schema1 = (TextField('courseID'), TextField('firstName'), TextField('lastName'))\n",
    "index_definition = IndexDefinition(prefix = ['mediumDB:'], index_type = IndexType.HASH)\n",
    "medium_redis1.create_index(schema1, definition = index_definition)"
   ]
  },
  {
   "cell_type": "code",
   "execution_count": 35,
   "id": "47785d83",
   "metadata": {},
   "outputs": [
    {
     "name": "stdout",
     "output_type": "stream",
     "text": [
      "Kavaliauskas Joris\n",
      "Ferrán Narciso\n",
      "Nicolas Émile\n",
      "Lie Cathrine\n",
      "Henschel Christl\n",
      "Amundsen Ingeborg\n",
      "Laroche Arthur\n",
      "Dara Yuvaan\n",
      "Lara Sarah\n",
      "Leite Patrícia\n",
      "Christensen Karl\n",
      "Vaz Débora\n",
      "Naujokas Nedas\n",
      "Gaižauskas Vigilija\n",
      "Hidalgo Custodia\n",
      "Arenas Casandra\n",
      "Soylu Ledün\n",
      "Nicolas Nath\n",
      "Real Miguel\n",
      "Narušis Ana\n"
     ]
    }
   ],
   "source": [
    "# step 2\n",
    "aggRequest1 = aggregations.AggregateRequest('@courseID:192').group_by({'@firstName', '@lastName'})\n",
    "before = time.time()\n",
    "medium_query1 = medium_redis1.aggregate(aggRequest1)\n",
    "after = time.time()\n",
    "\n",
    "for res in medium_query1.rows:\n",
    "    print(res[1], res[3])"
   ]
  },
  {
   "cell_type": "code",
   "execution_count": 36,
   "id": "ea9ba9ed",
   "metadata": {},
   "outputs": [],
   "source": [
    "# step 3\n",
    "msec_duration = (after - before) * 1000\n",
    "mediumDict['query1'].append(round(msec_duration, 5))"
   ]
  },
  {
   "cell_type": "code",
   "execution_count": 37,
   "id": "13ade069",
   "metadata": {},
   "outputs": [],
   "source": [
    "# step 4\n",
    "for i in range(0, 30):\n",
    "    before = time.time()\n",
    "    medium_redis1.aggregate(aggRequest1)\n",
    "    after = time.time()\n",
    "    msec_duration = (after - before) * 1000\n",
    "    mediumDict['query1'].append(round(msec_duration, 5))"
   ]
  },
  {
   "cell_type": "markdown",
   "id": "9a974e2d",
   "metadata": {},
   "source": [
    "<h4>Query2</h4>"
   ]
  },
  {
   "cell_type": "code",
   "execution_count": 39,
   "id": "37559352",
   "metadata": {},
   "outputs": [
    {
     "data": {
      "text/plain": [
       "'OK'"
      ]
     },
     "execution_count": 39,
     "metadata": {},
     "output_type": "execute_result"
    }
   ],
   "source": [
    "# step 1\n",
    "medium_redis2 = myRedis2.ft('medium_index2')\n",
    "#medium_redis2.dropindex()\n",
    "schema2 = (TextField('discipline'), TextField('courseYear'), TextField('courseName'))\n",
    "index_definition = IndexDefinition(prefix = ['mediumDB:'], index_type = IndexType.HASH)\n",
    "medium_redis2.create_index(schema2, definition = index_definition)"
   ]
  },
  {
   "cell_type": "code",
   "execution_count": 40,
   "id": "bbd53893",
   "metadata": {},
   "outputs": [
    {
     "name": "stdout",
     "output_type": "stream",
     "text": [
      "Introduction to Probability and Data with R\n",
      "Basic Statistics\n",
      "Bayesian Statistics: From Concept to Data Analysis\n",
      "Python and Statistics for Financial Analysis\n",
      "Understanding Clinical Research: Behind the Statistics\n",
      "Econometrics: Methods and Applications\n",
      "Exploratory Data Analysis\n",
      "Foundations: Data, Data, Everywhere\n",
      "Introduction to Statistics\n"
     ]
    }
   ],
   "source": [
    "# step 2\n",
    "aggRequest2 = aggregations.AggregateRequest('@discipline:statistics @courseYear:2022').group_by('@courseName')\n",
    "before = time.time()\n",
    "medium_query2 = medium_redis2.aggregate(aggRequest2)\n",
    "after = time.time()\n",
    "\n",
    "for res in medium_query2.rows:\n",
    "    print(res[1])"
   ]
  },
  {
   "cell_type": "code",
   "execution_count": 41,
   "id": "f9289561",
   "metadata": {},
   "outputs": [],
   "source": [
    "# step 3\n",
    "msec_duration = (after - before) * 1000\n",
    "mediumDict['query2'].append(round(msec_duration, 5))"
   ]
  },
  {
   "cell_type": "code",
   "execution_count": 42,
   "id": "a0d88ff7",
   "metadata": {},
   "outputs": [],
   "source": [
    "# step 4\n",
    "for i in range(0, 30):\n",
    "    before = time.time()\n",
    "    medium_redis2.aggregate(aggRequest2)\n",
    "    after = time.time()\n",
    "    msec_duration = (after - before) * 1000\n",
    "    mediumDict['query2'].append(round(msec_duration, 5))"
   ]
  },
  {
   "cell_type": "markdown",
   "id": "682250de",
   "metadata": {},
   "source": [
    "<h4>Query3</h4>"
   ]
  },
  {
   "cell_type": "code",
   "execution_count": 44,
   "id": "ae7df7f8",
   "metadata": {},
   "outputs": [
    {
     "data": {
      "text/plain": [
       "'OK'"
      ]
     },
     "execution_count": 44,
     "metadata": {},
     "output_type": "execute_result"
    }
   ],
   "source": [
    "# step 1\n",
    "medium_redis3 = myRedis2.ft('medium_index3')\n",
    "#medium_redis3.dropindex()\n",
    "schema3 = (TextField('materialType'), TagField('discipline'), TextField('email'), TextField('firstName'))\n",
    "index_definition = IndexDefinition(prefix = ['mediumDB:'], index_type = IndexType.HASH)\n",
    "medium_redis3.create_index(schema3, definition = index_definition)"
   ]
  },
  {
   "cell_type": "code",
   "execution_count": 51,
   "id": "4d3ee4dc",
   "metadata": {},
   "outputs": [
    {
     "name": "stdout",
     "output_type": "stream",
     "text": [
      "1698\n"
     ]
    }
   ],
   "source": [
    "# step 2\n",
    "aggRequest3 = aggregations.AggregateRequest('@discipline:{maths} @materialType:\\'lecture slides\\' @email:*gmail.com').group_by('@discipline', reducers.count().alias('count'))\n",
    "before = time.time()\n",
    "medium_query3 = medium_redis3.aggregate(aggRequest3)\n",
    "after = time.time()\n",
    "\n",
    "print(medium_query3.rows[0][3])"
   ]
  },
  {
   "cell_type": "code",
   "execution_count": 52,
   "id": "ee55ce99",
   "metadata": {},
   "outputs": [],
   "source": [
    "# step 3\n",
    "msec_duration = (after - before) * 1000\n",
    "mediumDict['query3'].append(round(msec_duration, 5))"
   ]
  },
  {
   "cell_type": "code",
   "execution_count": 54,
   "id": "c2f6c56d",
   "metadata": {},
   "outputs": [],
   "source": [
    "# step 4\n",
    "for i in range(0, 30):\n",
    "    before = time.time()\n",
    "    medium_query3 = medium_redis3.aggregate(aggRequest3)\n",
    "    after = time.time()\n",
    "    msec_duration = (after - before) * 1000\n",
    "    mediumDict['query3'].append(round(msec_duration, 5))"
   ]
  },
  {
   "cell_type": "markdown",
   "id": "c3547309",
   "metadata": {},
   "source": [
    "<h4>Query4</h4>"
   ]
  },
  {
   "cell_type": "code",
   "execution_count": 56,
   "id": "ac194884",
   "metadata": {},
   "outputs": [
    {
     "data": {
      "text/plain": [
       "'OK'"
      ]
     },
     "execution_count": 56,
     "metadata": {},
     "output_type": "execute_result"
    }
   ],
   "source": [
    "# step 1\n",
    "medium_redis4 = myRedis2.ft('medium_index4')\n",
    "#medium_redis4.dropindex()\n",
    "schema4 = (TagField('discipline'), TagField('courseYear'), TextField('country'), TextField('dateOfBirth'), TextField('firstName'), TextField('lastName', sortable = True))\n",
    "index_definition = IndexDefinition(prefix = ['mediumDB:'], index_type = IndexType.HASH)\n",
    "medium_redis4.create_index(schema4, definition = index_definition)"
   ]
  },
  {
   "cell_type": "code",
   "execution_count": 57,
   "id": "8cc932e5",
   "metadata": {},
   "outputs": [
    {
     "name": "stdout",
     "output_type": "stream",
     "text": [
      "horrocks Noord-Korea Ninthe 1962-10-15\n",
      "lie South Korea Cathrine 1986-7-12\n",
      "real República de Corea Miguel 1987-9-12\n",
      "reynolds Korea Lynda 1989-7-21\n",
      "sura North Korea Raghav 1973-11-27\n"
     ]
    }
   ],
   "source": [
    "# step 2\n",
    "aggRequest4 = aggregations.AggregateRequest('@discipline:{psychology} AND @courseYear:{2023} AND @country:*orea AND -@dateOfBirth:200*').group_by({'@firstName', '@lastName', '@country', '@dateOfBirth'}).sort_by('@lastName')\n",
    "before = time.time()\n",
    "medium_query4 = medium_redis4.aggregate(aggRequest4)\n",
    "after = time.time()\n",
    "\n",
    "for res in medium_query4.rows:\n",
    "    print(res[1], res[5], res[7], res[3])"
   ]
  },
  {
   "cell_type": "code",
   "execution_count": 58,
   "id": "841811fb",
   "metadata": {},
   "outputs": [],
   "source": [
    "# step 3\n",
    "msec_duration = (after - before) * 1000\n",
    "mediumDict['query4'].append(round(msec_duration, 5))"
   ]
  },
  {
   "cell_type": "code",
   "execution_count": 59,
   "id": "e2e4e5c7",
   "metadata": {},
   "outputs": [],
   "source": [
    "# step 4\n",
    "for i in range(0, 30):\n",
    "    before = time.time()\n",
    "    medium_redis4.aggregate(aggRequest4)\n",
    "    after = time.time()\n",
    "    msec_duration = (after - before) * 1000\n",
    "    mediumDict['query4'].append(round(msec_duration, 5))"
   ]
  },
  {
   "cell_type": "code",
   "execution_count": 61,
   "id": "5a8201f5",
   "metadata": {},
   "outputs": [
    {
     "data": {
      "text/plain": [
       "{'query1': [9.85003, 8.29449],\n",
       " 'query2': [16.55197, 37.00384],\n",
       " 'query3': [28.56994, 41.98983],\n",
       " 'query4': [7.14493, 8.67297]}"
      ]
     },
     "execution_count": 61,
     "metadata": {},
     "output_type": "execute_result"
    }
   ],
   "source": [
    "mediumDataset = {'query1' : list(), 'query2' : list(), 'query3' : list(), 'query4' : list()}\n",
    "for key in mediumDict:\n",
    "    mediumDataset[key].append(mediumDict[key][0])\n",
    "    mean30 = mean(mediumDict[key][1 : 31])\n",
    "    mediumDataset[key].append(round(mean30, 5))\n",
    "mediumDataset"
   ]
  },
  {
   "cell_type": "code",
   "execution_count": null,
   "id": "59cce339",
   "metadata": {},
   "outputs": [],
   "source": []
  },
  {
   "cell_type": "markdown",
   "id": "01589279",
   "metadata": {},
   "source": [
    "<h3>Redis instance with 750k hashes</h3>"
   ]
  },
  {
   "cell_type": "markdown",
   "id": "19f9bebe",
   "metadata": {},
   "source": [
    "<h4>Query1</h4>"
   ]
  },
  {
   "cell_type": "code",
   "execution_count": 63,
   "id": "f4b88301",
   "metadata": {},
   "outputs": [
    {
     "data": {
      "text/plain": [
       "'OK'"
      ]
     },
     "execution_count": 63,
     "metadata": {},
     "output_type": "execute_result"
    }
   ],
   "source": [
    "# step 1\n",
    "large_redis1 = myRedis3.ft('large_index1')\n",
    "#large_redis1.dropindex()\n",
    "schema1 = (TextField('courseID'), TextField('firstName'), TextField('lastName'))\n",
    "index_definition = IndexDefinition(prefix = ['largeDB:'], index_type = IndexType.HASH)\n",
    "large_redis1.create_index(schema1, definition = index_definition)"
   ]
  },
  {
   "cell_type": "code",
   "execution_count": 64,
   "id": "aaee688d",
   "metadata": {},
   "outputs": [
    {
     "name": "stdout",
     "output_type": "stream",
     "text": [
      "Real Miguel\n",
      "Ferrán Narciso\n",
      "Lie Cathrine\n",
      "Nicolas Émile\n",
      "Narušis Ana\n",
      "Henschel Christl\n",
      "Laroche Arthur\n",
      "Lara Sarah\n",
      "Vaz Débora\n",
      "Hidalgo Custodia\n",
      "Kavaliauskas Joris\n",
      "Nicolas Nath\n",
      "Dani Urvi\n",
      "Abella Dorita\n",
      "Amundsen Ingeborg\n",
      "Heerkens Collin\n",
      "Christensen Karl\n",
      "Dara Yuvaan\n",
      "Leite Patrícia\n",
      "Naujokas Nedas\n",
      "Gaižauskas Vigilija\n",
      "Arenas Casandra\n",
      "Soylu Ledün\n",
      "Gül Özkutlu\n",
      "Thompson Brian\n",
      "Flaiano Liliana\n"
     ]
    }
   ],
   "source": [
    "# step 2\n",
    "aggRequest1 = aggregations.AggregateRequest('@courseID:192').group_by({'@firstName', '@lastName'})\n",
    "before = time.time()\n",
    "large_query1 = large_redis1.aggregate(aggRequest1)\n",
    "after = time.time()\n",
    "\n",
    "for res in large_query1.rows:\n",
    "    print(res[1], res[3])"
   ]
  },
  {
   "cell_type": "code",
   "execution_count": 65,
   "id": "a460a9e9",
   "metadata": {},
   "outputs": [],
   "source": [
    "# step 3\n",
    "msec_duration = (after - before) * 1000\n",
    "largeDict['query1'].append(round(msec_duration, 5))"
   ]
  },
  {
   "cell_type": "code",
   "execution_count": 66,
   "id": "a7532d8b",
   "metadata": {},
   "outputs": [],
   "source": [
    "# step 4\n",
    "for i in range(0, 30):\n",
    "    before = time.time()\n",
    "    large_redis1.aggregate(aggRequest1)\n",
    "    after = time.time()\n",
    "    msec_duration = (after - before) * 1000\n",
    "    largeDict['query1'].append(round(msec_duration, 5))"
   ]
  },
  {
   "cell_type": "markdown",
   "id": "5113dd53",
   "metadata": {},
   "source": [
    "<h4>Query2</h4>"
   ]
  },
  {
   "cell_type": "code",
   "execution_count": 68,
   "id": "9b821fab",
   "metadata": {},
   "outputs": [
    {
     "data": {
      "text/plain": [
       "'OK'"
      ]
     },
     "execution_count": 68,
     "metadata": {},
     "output_type": "execute_result"
    }
   ],
   "source": [
    "# step 1\n",
    "large_redis2 = myRedis3.ft('large_index2')\n",
    "#large_redis2.dropindex()\n",
    "schema2 = (TextField('discipline'), TextField('courseYear'), TextField('courseName'))\n",
    "index_definition = IndexDefinition(prefix = ['largeDB:'], index_type = IndexType.HASH)\n",
    "large_redis2.create_index(schema2, definition = index_definition)"
   ]
  },
  {
   "cell_type": "code",
   "execution_count": 69,
   "id": "f8757c90",
   "metadata": {},
   "outputs": [
    {
     "name": "stdout",
     "output_type": "stream",
     "text": [
      "Introduction to Probability and Data with R\n",
      "Basic Statistics\n",
      "Bayesian Statistics: From Concept to Data Analysis\n",
      "Python and Statistics for Financial Analysis\n",
      "Understanding Clinical Research: Behind the Statistics\n",
      "Econometrics: Methods and Applications\n",
      "Exploratory Data Analysis\n",
      "Foundations: Data, Data, Everywhere\n",
      "Introduction to Statistics\n"
     ]
    }
   ],
   "source": [
    "# step 2\n",
    "aggRequest2 = aggregations.AggregateRequest('@discipline:statistics @courseYear:2022').group_by('@courseName')\n",
    "before = time.time()\n",
    "large_query2 = large_redis2.aggregate(aggRequest2)\n",
    "after = time.time()\n",
    "\n",
    "for res in large_query2.rows:\n",
    "    print(res[1])"
   ]
  },
  {
   "cell_type": "code",
   "execution_count": 70,
   "id": "fbba1bdb",
   "metadata": {},
   "outputs": [],
   "source": [
    "# step 3\n",
    "msec_duration = (after - before) * 1000\n",
    "largeDict['query2'].append(round(msec_duration, 5))"
   ]
  },
  {
   "cell_type": "code",
   "execution_count": 71,
   "id": "839dc6d2",
   "metadata": {},
   "outputs": [],
   "source": [
    "# step 4\n",
    "for i in range(0, 30):\n",
    "    before = time.time()\n",
    "    large_redis2.aggregate(aggRequest2)\n",
    "    after = time.time()\n",
    "    msec_duration = (after - before) * 1000\n",
    "    largeDict['query2'].append(round(msec_duration, 5))"
   ]
  },
  {
   "cell_type": "markdown",
   "id": "031bef09",
   "metadata": {},
   "source": [
    "<h4>Query3</h4>"
   ]
  },
  {
   "cell_type": "code",
   "execution_count": 73,
   "id": "5d1ad233",
   "metadata": {},
   "outputs": [
    {
     "data": {
      "text/plain": [
       "'OK'"
      ]
     },
     "execution_count": 73,
     "metadata": {},
     "output_type": "execute_result"
    }
   ],
   "source": [
    "# step 1\n",
    "large_redis3 = myRedis3.ft('large_index3')\n",
    "#large_redis3.dropindex()\n",
    "schema3 = (TextField('materialType'), TagField('discipline'), TextField('email'), TextField('firstName'))\n",
    "index_definition = IndexDefinition(prefix = ['largeDB:'], index_type = IndexType.HASH)\n",
    "large_redis3.create_index(schema3, definition = index_definition)"
   ]
  },
  {
   "cell_type": "code",
   "execution_count": 79,
   "id": "b776ea0b",
   "metadata": {},
   "outputs": [
    {
     "name": "stdout",
     "output_type": "stream",
     "text": [
      "2628\n"
     ]
    }
   ],
   "source": [
    "# step 2\n",
    "aggRequest3 = aggregations.AggregateRequest('@discipline:{maths} @materialType:\\'lecture slides\\' @email:*gmail.com').group_by('@discipline', reducers.count().alias('count'))\n",
    "before = time.time()\n",
    "large_query3 = large_redis3.aggregate(aggRequest3)\n",
    "after = time.time()\n",
    "\n",
    "print(large_query3.rows[0][3])"
   ]
  },
  {
   "cell_type": "code",
   "execution_count": 80,
   "id": "7c9a0999",
   "metadata": {},
   "outputs": [],
   "source": [
    "# step 3\n",
    "msec_duration = (after - before) * 1000\n",
    "largeDict['query3'].append(round(msec_duration, 5))"
   ]
  },
  {
   "cell_type": "code",
   "execution_count": 81,
   "id": "ef18669f",
   "metadata": {},
   "outputs": [],
   "source": [
    "# step 4\n",
    "for i in range(0, 30):\n",
    "    before = time.time()\n",
    "    large_query3 = large_redis3.aggregate(aggRequest3)\n",
    "    after = time.time()\n",
    "    msec_duration = (after - before) * 1000\n",
    "    largeDict['query3'].append(round(msec_duration, 5))"
   ]
  },
  {
   "cell_type": "markdown",
   "id": "4c2613b0",
   "metadata": {},
   "source": [
    "<h4>Query4</h4>"
   ]
  },
  {
   "cell_type": "code",
   "execution_count": 83,
   "id": "130202a9",
   "metadata": {},
   "outputs": [
    {
     "data": {
      "text/plain": [
       "'OK'"
      ]
     },
     "execution_count": 83,
     "metadata": {},
     "output_type": "execute_result"
    }
   ],
   "source": [
    "# step 1\n",
    "large_redis4 = myRedis3.ft('large_index4')\n",
    "#large_redis4.dropindex()\n",
    "schema4 = (TagField('discipline'), TagField('courseYear'), TextField('country'), TextField('dateOfBirth'), TextField('firstName'), TextField('lastName', sortable = True))\n",
    "index_definition = IndexDefinition(prefix = ['largeDB:'], index_type = IndexType.HASH)\n",
    "large_redis4.create_index(schema4, definition = index_definition)"
   ]
  },
  {
   "cell_type": "code",
   "execution_count": 84,
   "id": "e29bd7fe",
   "metadata": {},
   "outputs": [
    {
     "name": "stdout",
     "output_type": "stream",
     "text": [
      "castells República Popular Democrática de Corea Tere 1978-9-2\n",
      "horrocks Noord-Korea Ninthe 1962-10-15\n",
      "lie South Korea Cathrine 1986-7-12\n",
      "real República de Corea Miguel 1987-9-12\n",
      "reynolds Korea Lynda 1989-7-21\n",
      "sura North Korea Raghav 1973-11-27\n"
     ]
    }
   ],
   "source": [
    "# step 2\n",
    "aggRequest4 = aggregations.AggregateRequest('@discipline:{psychology} AND @courseYear:{2023} AND @country:*orea AND -@dateOfBirth:200*').group_by({'@firstName', '@lastName', '@country', '@dateOfBirth'}).sort_by('@lastName')\n",
    "before = time.time()\n",
    "large_query4 = large_redis4.aggregate(aggRequest4)\n",
    "after = time.time()\n",
    "\n",
    "for res in large_query4.rows:\n",
    "    print(res[1], res[5], res[7], res[3])"
   ]
  },
  {
   "cell_type": "code",
   "execution_count": 85,
   "id": "18f68130",
   "metadata": {},
   "outputs": [],
   "source": [
    "# step 3\n",
    "msec_duration = (after - before) * 1000\n",
    "largeDict['query4'].append(round(msec_duration, 5))"
   ]
  },
  {
   "cell_type": "code",
   "execution_count": 86,
   "id": "975836c8",
   "metadata": {},
   "outputs": [],
   "source": [
    "# step 4\n",
    "for i in range(0, 30):\n",
    "    before = time.time()\n",
    "    large_redis4.aggregate(aggRequest4)\n",
    "    after = time.time()\n",
    "    msec_duration = (after - before) * 1000\n",
    "    largeDict['query4'].append(round(msec_duration, 5))"
   ]
  },
  {
   "cell_type": "code",
   "execution_count": 88,
   "id": "667ef3ff",
   "metadata": {},
   "outputs": [
    {
     "data": {
      "text/plain": [
       "{'query1': [8.6472, 7.94671],\n",
       " 'query2': [14.91308, 31.10654],\n",
       " 'query3': [42.06467, 32.61566],\n",
       " 'query4': [8.33488, 10.09521]}"
      ]
     },
     "execution_count": 88,
     "metadata": {},
     "output_type": "execute_result"
    }
   ],
   "source": [
    "largeDataset = {'query1' : list(), 'query2' : list(), 'query3' : list(), 'query4' : list()}\n",
    "for key in largeDict:\n",
    "    largeDataset[key].append(largeDict[key][0])\n",
    "    mean30 = mean(largeDict[key][1 : 31])\n",
    "    largeDataset[key].append(round(mean30, 5))\n",
    "largeDataset"
   ]
  },
  {
   "cell_type": "code",
   "execution_count": null,
   "id": "23ca6223",
   "metadata": {},
   "outputs": [],
   "source": []
  },
  {
   "cell_type": "markdown",
   "id": "b6a0d952",
   "metadata": {},
   "source": [
    "<h3>Redis instance with 1m hashes</h3>"
   ]
  },
  {
   "cell_type": "markdown",
   "id": "d9b6f33d",
   "metadata": {},
   "source": [
    "<h4>Query1</h4>"
   ]
  },
  {
   "cell_type": "code",
   "execution_count": 90,
   "id": "cf2284a7",
   "metadata": {},
   "outputs": [
    {
     "data": {
      "text/plain": [
       "'OK'"
      ]
     },
     "execution_count": 90,
     "metadata": {},
     "output_type": "execute_result"
    }
   ],
   "source": [
    "# step 1\n",
    "humongous_redis1 = myRedis4.ft('humongous_index1')\n",
    "#humongous_redis1.dropindex()\n",
    "schema1 = (TextField('courseID'), TextField('firstName'), TextField('lastName'))\n",
    "index_definition = IndexDefinition(prefix = ['humongousDB:'], index_type = IndexType.HASH)\n",
    "humongous_redis1.create_index(schema1, definition = index_definition)"
   ]
  },
  {
   "cell_type": "code",
   "execution_count": 91,
   "id": "9fbf2049",
   "metadata": {},
   "outputs": [
    {
     "name": "stdout",
     "output_type": "stream",
     "text": [
      "Flaiano Liliana\n",
      "Ferrán Narciso\n",
      "Lie Cathrine\n",
      "Nicolas Émile\n",
      "Henschel Christl\n",
      "Savorgnan Melania\n",
      "Lara Sarah\n",
      "Vaz Débora\n",
      "Soylu Ledün\n",
      "Miranda David\n",
      "Hidalgo Custodia\n",
      "Kavaliauskas Joris\n",
      "Nicolas Nath\n",
      "Dani Urvi\n",
      "Rezende Eduardo\n",
      "Abella Dorita\n",
      "Webb Kristen\n",
      "Schulz Torsten\n",
      "Amundsen Ingeborg\n",
      "Heerkens Collin\n",
      "Dara Yuvaan\n",
      "Christensen Karl\n",
      "Leite Patrícia\n",
      "Naujokas Nedas\n",
      "Gaižauskas Vigilija\n",
      "Karlsen Finn\n",
      "Arenas Casandra\n",
      "Gül Özkutlu\n",
      "Real Miguel\n",
      "Thompson Brian\n",
      "Raju Shaan\n"
     ]
    }
   ],
   "source": [
    "# step 2\n",
    "aggRequest1 = aggregations.AggregateRequest('@courseID:192').group_by({'@firstName', '@lastName'})\n",
    "before = time.time()\n",
    "humongous_query1 = humongous_redis1.aggregate(aggRequest1)\n",
    "after = time.time()\n",
    "\n",
    "for res in humongous_query1.rows:\n",
    "    print(res[1], res[3])"
   ]
  },
  {
   "cell_type": "code",
   "execution_count": 92,
   "id": "6d902b4e",
   "metadata": {},
   "outputs": [],
   "source": [
    "# step 3\n",
    "msec_duration = (after - before) * 1000\n",
    "humongousDict['query1'].append(round(msec_duration, 5))"
   ]
  },
  {
   "cell_type": "code",
   "execution_count": 93,
   "id": "03d81141",
   "metadata": {},
   "outputs": [],
   "source": [
    "# step 4\n",
    "for i in range(0, 30):\n",
    "    before = time.time()\n",
    "    humongous_redis1.aggregate(aggRequest1)\n",
    "    after = time.time()\n",
    "    msec_duration = (after - before) * 1000\n",
    "    humongousDict['query1'].append(round(msec_duration, 5))"
   ]
  },
  {
   "cell_type": "markdown",
   "id": "ff76372f",
   "metadata": {},
   "source": [
    "<h4>Query2</h4>"
   ]
  },
  {
   "cell_type": "code",
   "execution_count": 95,
   "id": "9de6a7da",
   "metadata": {},
   "outputs": [
    {
     "data": {
      "text/plain": [
       "'OK'"
      ]
     },
     "execution_count": 95,
     "metadata": {},
     "output_type": "execute_result"
    }
   ],
   "source": [
    "# step 1\n",
    "humongous_redis2 = myRedis4.ft('humongous_index2')\n",
    "#humongous_redis2.dropindex()\n",
    "schema2 = (TextField('discipline'), TextField('courseYear'), TextField('courseName'))\n",
    "index_definition = IndexDefinition(prefix = ['humongousDB:'], index_type = IndexType.HASH)\n",
    "humongous_redis2.create_index(schema2, definition = index_definition)"
   ]
  },
  {
   "cell_type": "code",
   "execution_count": 96,
   "id": "649473e6",
   "metadata": {},
   "outputs": [
    {
     "name": "stdout",
     "output_type": "stream",
     "text": [
      "Introduction to Probability and Data with R\n",
      "Basic Statistics\n",
      "Bayesian Statistics: From Concept to Data Analysis\n",
      "Python and Statistics for Financial Analysis\n",
      "Understanding Clinical Research: Behind the Statistics\n",
      "Econometrics: Methods and Applications\n",
      "Exploratory Data Analysis\n",
      "Foundations: Data, Data, Everywhere\n",
      "Introduction to Statistics\n"
     ]
    }
   ],
   "source": [
    "# step 2\n",
    "aggRequest2 = aggregations.AggregateRequest('@discipline:statistics @courseYear:2022').group_by('@courseName')\n",
    "before = time.time()\n",
    "humongous_query2 = humongous_redis2.aggregate(aggRequest2)\n",
    "after = time.time()\n",
    "\n",
    "for res in humongous_query2.rows:\n",
    "    print(res[1])"
   ]
  },
  {
   "cell_type": "code",
   "execution_count": 97,
   "id": "8341c1d5",
   "metadata": {},
   "outputs": [],
   "source": [
    "# step 3\n",
    "msec_duration = (after - before) * 1000\n",
    "humongousDict['query2'].append(round(msec_duration, 5))"
   ]
  },
  {
   "cell_type": "code",
   "execution_count": 98,
   "id": "d7d9d3f7",
   "metadata": {},
   "outputs": [],
   "source": [
    "# step 4\n",
    "for i in range(0, 30):\n",
    "    before = time.time()\n",
    "    humongous_redis2.aggregate(aggRequest2)\n",
    "    after = time.time()\n",
    "    msec_duration = (after - before) * 1000\n",
    "    humongousDict['query2'].append(round(msec_duration, 5))"
   ]
  },
  {
   "cell_type": "markdown",
   "id": "c52d27d4",
   "metadata": {},
   "source": [
    "<h4>Query3</h4>"
   ]
  },
  {
   "cell_type": "code",
   "execution_count": 100,
   "id": "0dacb8eb",
   "metadata": {},
   "outputs": [
    {
     "data": {
      "text/plain": [
       "'OK'"
      ]
     },
     "execution_count": 100,
     "metadata": {},
     "output_type": "execute_result"
    }
   ],
   "source": [
    "# step 1\n",
    "humongous_redis3 = myRedis4.ft('humongous_index3')\n",
    "#humongous_redis3.dropindex()\n",
    "schema3 = (TextField('materialType'), TagField('discipline'), TextField('email'), TextField('firstName'))\n",
    "index_definition = IndexDefinition(prefix = ['humongousDB:'], index_type = IndexType.HASH)\n",
    "humongous_redis3.create_index(schema3, definition = index_definition)"
   ]
  },
  {
   "cell_type": "code",
   "execution_count": 106,
   "id": "120189e6",
   "metadata": {},
   "outputs": [
    {
     "name": "stdout",
     "output_type": "stream",
     "text": [
      "3498\n"
     ]
    }
   ],
   "source": [
    "# step 2\n",
    "aggRequest3 = aggregations.AggregateRequest('@discipline:{maths} @materialType:\\'lecture slides\\' @email:*gmail.com').group_by('@discipline', reducers.count().alias('count'))\n",
    "before = time.time()\n",
    "humongous_query3 = humongous_redis3.aggregate(aggRequest3)\n",
    "after = time.time()\n",
    "\n",
    "print(humongous_query3.rows[0][3])"
   ]
  },
  {
   "cell_type": "code",
   "execution_count": 107,
   "id": "7c5aef25",
   "metadata": {},
   "outputs": [],
   "source": [
    "# step 3\n",
    "msec_duration = (after - before) * 1000\n",
    "humongousDict['query3'].append(round(msec_duration, 5))"
   ]
  },
  {
   "cell_type": "code",
   "execution_count": 109,
   "id": "4204ac3b",
   "metadata": {},
   "outputs": [],
   "source": [
    "# step 4\n",
    "for i in range(0, 30):\n",
    "    before = time.time()\n",
    "    humongous_query3 = humongous_redis3.aggregate(aggRequest3)\n",
    "    after = time.time()\n",
    "    msec_duration = (after - before) * 1000\n",
    "    humongousDict['query3'].append(round(msec_duration, 5))"
   ]
  },
  {
   "cell_type": "markdown",
   "id": "74347821",
   "metadata": {},
   "source": [
    "<h4>Query4</h4>"
   ]
  },
  {
   "cell_type": "code",
   "execution_count": 111,
   "id": "0ef01a89",
   "metadata": {},
   "outputs": [
    {
     "data": {
      "text/plain": [
       "'OK'"
      ]
     },
     "execution_count": 111,
     "metadata": {},
     "output_type": "execute_result"
    }
   ],
   "source": [
    "# step 1\n",
    "humongous_redis4 = myRedis4.ft('humongous_index4')\n",
    "#humongous_redis4.dropindex()\n",
    "schema4 = (TagField('discipline'), TagField('courseYear'), TextField('country'), TextField('dateOfBirth'), TextField('firstName'), TextField('lastName', sortable = True))\n",
    "index_definition = IndexDefinition(prefix = ['humongousDB:'], index_type = IndexType.HASH)\n",
    "humongous_redis4.create_index(schema4, definition = index_definition)"
   ]
  },
  {
   "cell_type": "code",
   "execution_count": 112,
   "id": "76c7ec28",
   "metadata": {},
   "outputs": [
    {
     "name": "stdout",
     "output_type": "stream",
     "text": [
      "castells República Popular Democrática de Corea Tere 1978-9-2\n",
      "gailys Korea Leila 1998-9-7\n",
      "lie South Korea Cathrine 1986-7-12\n",
      "real República de Corea Miguel 1987-9-12\n",
      "reynolds Korea Lynda 1989-7-21\n",
      "sura North Korea Raghav 1973-11-27\n"
     ]
    }
   ],
   "source": [
    "# step 2\n",
    "aggRequest4 = aggregations.AggregateRequest('@discipline:{psychology} AND @courseYear:{2023} AND @country:*orea AND -@dateOfBirth:200*').group_by({'@firstName', '@lastName', '@country', '@dateOfBirth'}).sort_by('@lastName')\n",
    "before = time.time()\n",
    "humongous_query4 = humongous_redis4.aggregate(aggRequest4)\n",
    "after = time.time()\n",
    "\n",
    "for res in humongous_query4.rows:\n",
    "    print(res[1], res[5], res[7], res[3])"
   ]
  },
  {
   "cell_type": "code",
   "execution_count": 113,
   "id": "fd6ec8e3",
   "metadata": {},
   "outputs": [],
   "source": [
    "# step 3\n",
    "msec_duration = (after - before) * 1000\n",
    "humongousDict['query4'].append(round(msec_duration, 5))"
   ]
  },
  {
   "cell_type": "code",
   "execution_count": 114,
   "id": "b1774b8b",
   "metadata": {},
   "outputs": [],
   "source": [
    "# step 4\n",
    "for i in range(0, 30):\n",
    "    before = time.time()\n",
    "    humongous_redis4.aggregate(aggRequest4)\n",
    "    after = time.time()\n",
    "    msec_duration = (after - before) * 1000\n",
    "    humongousDict['query4'].append(round(msec_duration, 5))"
   ]
  },
  {
   "cell_type": "code",
   "execution_count": 116,
   "id": "cb719b7d",
   "metadata": {},
   "outputs": [
    {
     "data": {
      "text/plain": [
       "{'query1': [6.90603, 6.4638],\n",
       " 'query2': [19.38391, 24.00498],\n",
       " 'query3': [60.08697, 45.49086],\n",
       " 'query4': [6.71697, 9.386]}"
      ]
     },
     "execution_count": 116,
     "metadata": {},
     "output_type": "execute_result"
    }
   ],
   "source": [
    "humongousDataset = {'query1' : list(), 'query2' : list(), 'query3' : list(), 'query4' : list()}\n",
    "for key in humongousDict:\n",
    "    humongousDataset[key].append(humongousDict[key][0])\n",
    "    mean30 = mean(humongousDict[key][1 : 31])\n",
    "    humongousDataset[key].append(round(mean30, 5))\n",
    "humongousDataset"
   ]
  },
  {
   "cell_type": "code",
   "execution_count": 117,
   "id": "95d40f4d",
   "metadata": {},
   "outputs": [],
   "source": [
    "with open('redis_tests.csv', 'w', newline = '') as redis_tests:\n",
    "    writer = csv.writer(redis_tests, delimiter = ',')\n",
    "    keys = smallDict.keys()\n",
    "    limit = len(smallDict['query1'])\n",
    "    \n",
    "    writer.writerow(keys)\n",
    "    writer.writerow('s') # s stands for small dataset\n",
    "    for i in range(0, limit):\n",
    "        writer.writerow(smallDict[k][i] for k in keys)\n",
    "    writer.writerow('m')  # m stands for medium dataset\n",
    "    for i in range(0, limit):\n",
    "        writer.writerow(mediumDict[k][i] for k in keys)\n",
    "    writer.writerow('l') # l stands for large dataset\n",
    "    for i in range(0, limit):\n",
    "        writer.writerow(largeDict[k][i] for k in keys)\n",
    "    writer.writerow('h') # h stands for humongous dataset\n",
    "    for i in range(0, limit):\n",
    "        writer.writerow(humongousDict[k][i] for k in keys)"
   ]
  },
  {
   "cell_type": "code",
   "execution_count": null,
   "id": "6024a724",
   "metadata": {},
   "outputs": [],
   "source": []
  }
 ],
 "metadata": {
  "kernelspec": {
   "display_name": "Python 3 (ipykernel)",
   "language": "python",
   "name": "python3"
  },
  "language_info": {
   "codemirror_mode": {
    "name": "ipython",
    "version": 3
   },
   "file_extension": ".py",
   "mimetype": "text/x-python",
   "name": "python",
   "nbconvert_exporter": "python",
   "pygments_lexer": "ipython3",
   "version": "3.10.8"
  }
 },
 "nbformat": 4,
 "nbformat_minor": 5
}

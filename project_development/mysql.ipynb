{
 "cells": [
  {
   "cell_type": "markdown",
   "id": "ed500d9f",
   "metadata": {},
   "source": [
    "<center>\n",
    "<h2>Online learning platform database - MySQL</h2>\n",
    "</center>"
   ]
  },
  {
   "cell_type": "markdown",
   "id": "60a6a8f6",
   "metadata": {},
   "source": [
    "<h3>Preliminary operations: import csv files into MySQL (<code>LOAD DATA</code> statement)</h3>"
   ]
  },
  {
   "cell_type": "markdown",
   "id": "11404baa",
   "metadata": {},
   "source": [
    "<h4>Core syntax</h4><br>\n",
    "Import of a csv file in MySQL can be performed by a <code>LOAD DATA</code> statement. The file to be imported must be specified after the <code>INFILE</code> keyword, while the table name where the data will be copied must be specified after the <code>INTO TABLE</code> keywords. So, the basic structure of a <code>LOAD DATA</code> statement is as follows:\n",
    "<br>\n",
    "<code>\n",
    "    LOAD DATA\n",
    "    INFILE '<i>mycsvfile.csv</i>'\n",
    "    INTO TABLE <i>mytable</i>\n",
    "</code>\n",
    "<br>\n",
    "<h4>Optional clauses</h4><br>\n",
    "- <code>FIELDS</code> and <code>LINES</code><br>\n",
    "It is also useful to include some optional keywords in the statement, providing the DBMS information on how the data is organised into the csv file. These may refer to <code>FIELDS</code> (<code>TERMINATED BY</code> and <code>ENCLOSED BY</code>) or <code>LINES</code> (<code>TERMINATED BY</code>) and are used to tell the DBMS, in order:\n",
    "\n",
    " - how fields (columns, attributes) are separated by one another (by commas '<i>,</i>' in the following case);\n",
    " - that characters within double quotes must not be considered as separators ('<i>\"</i>'). Since the data contained in each field are not necessarily enclosed within double quotes (they usually are when there is a comma that does not separate fields), the keyword <code>OPTIONALLY</code> is also used;\n",
    " - to perform a new insertion (insert a new row) when meeting the special character indicating a new line ('<i>\\n</i>'):\n",
    "<br>\n",
    "<code>\n",
    "    LOAD DATA\n",
    "    INFILE '<i>mycsvfile.csv</i>'\n",
    "    INTO TABLE <i>mytable</i>\n",
    "    FIELDS TERMINATED BY ','\n",
    "    OPTIONALLY ENCLOSED BY '\"'\n",
    "    LINES TERMINATED BY '\\n'\n",
    "</code>\n",
    "<br>\n",
    "- <code>IGNORE</code><br>\n",
    "By specifying to <code>IGNORE 1 ROWS</code> we declare that the first row of the csv file must not be inserted into the table (we imply, usually, that it contains the attribute names of the table).<br>\n",
    "<br>\n",
    "- <code>LOCAL</code><br>\n",
    "Finally, it is to be considered that 'mycsvfile.csv' is expected to be located on the server host. If it is not the case (we want to load a text file located on the client host) the keyword <code>LOCAL</code> must be specified immediately after <code>LOAD DATA</code>.<br> The complete statement to import a csv file into MySQL is then as follows:\n",
    "<br>\n",
    "<code>\n",
    "    LOAD DATA \n",
    "    LOCAL INFILE '<i>mycsvfile.csv</i>'\n",
    "    INTO TABLE <i>mytable</i>\n",
    "    FIELDS TERMINATED BY ','\n",
    "    OPTIONALLY ENCLOSED BY '\"'\n",
    "    LINES TERMINATED BY '\\n'\n",
    "    IGNORE 1 ROWS;\n",
    "</code>\n",
    "<br>\n",
    "<h4>A note on the use of <code>LOCAL</code>:</h4><br>\n",
    "Since there are potential security implications within the process of transferring a file from the client to the server (these are specified <a href = 'https://dev.mysql.com/doc/refman/8.0/en/load-data-local-security.html'>here</a> and consist either in the theoretical possibility for a server to gain access to any part of the file system to which the client has access or in the possibility, in a web environment, that a user connected to the web server is allowed to read any files that the web server has read access to), the use of <code>LOCAL</code> may return an error if the client host and the server host are not configured appropriately.<br>For example, if I run MySQL from a Docker container, select a database and create a table with a schema matching the header of the csv file, I can run and perform the afore mentioned <code>LOAD DATA</code> statement, and be returned the error:<br><code>ERROR 3948 (42000): Loading local data is disabled; this must be enabled on both the client and server sides</code>. For control over local data loading, MySQL permits this capability to be enabled or disabled.\n",
    "\n",
    "At the <b>server level</b>, the capability is controlled by the global system variable <code>local_infile</code>. So, to check if it is enabled at the server level, a <code>SHOW GLOBAL VARIABLES</code> statement can be performed:\n",
    "<br>\n",
    "<code>\n",
    "    SHOW GLOBAL VARIABLES LIKE 'local_infile'\n",
    "</code>\n",
    "\n",
    "This is usually set to <i>OFF</i>, so a <code>SET GLOBAL</code> statement on the aforementioned variable would allow us to change it to <i>ON</i>:\n",
    "<br>\n",
    "<code>\n",
    "    SET GLOBAL local_infile = True\n",
    "</code>\n",
    "\n",
    "At the <b>client level</b>, it is sufficient to start MySQL with the option <code>local_infile=1</code> to enable the capability:\n",
    "<br>\n",
    "<code>\n",
    "    mysql --local_infile=1 -uroot -p\n",
    "</code>\n",
    "<br>\n",
    "<h4>Notes when running MySQL from a Docker container:</h4><br>\n",
    "A couple of further notes are required when running MySQL within a Docker container. Since a Docker container has its own file system, MySQL cannot access parts of the file system not mounted to the container. In particular, the csv file cannot be loaded by MySQL from outside the container. Hence it has to be copied to the container with the <code>docker cp</code> command. This command allows either to copy a file from the container to the local machine or the reverse (which is what we want here). We need to simply pass the source path and file name and the destination path. In our case it would be:\n",
    "<br>\n",
    "<code>\n",
    "    docker cp <i>path/mycsvfile.csv</i> <i>container:/path</i>\n",
    "</code>\n",
    "\n",
    "where <i>container</i> is the container name. To put the file in the root folder of the container one can simply type <code><i>container:/</i></code> as destination.\n",
    "\n",
    "Furthermore, I want to load the csv file from within a SQL script. This script is organised in a <code>CREATE TABLE</code> statement and a <code>LOAD DATA</code> statement (it is advised to also indicate the database where to create the table, or to create it as well). The table creation specifies a schema that matches exactly the first row of the csv file, which contains the table header. The import statement specifies the csv file name and it optionally indicates its path. Actually, I copied the csv files (the four differently sized files) directly into the container, without specifying any container subfolder, hence I would simply indicate the file name in single quotes after the <code>LOCAL INFILE</code> clause of the <code>LOAD DATA</code> statement. Exactly as it is shown in the above templates.\n",
    "\n",
    "A final consideration regards the execution of an external script from a MySQL instance run from within a container. As the <a href = 'https://hub.docker.com/_/mysql'>MySQL Docker Hub</a> web page points out under the paragraph <i>Restoring data from dump files</i>, MySQL must be executed from the container together with the indication of the script that we want to be executed:\n",
    "<br>\n",
    "<code>\n",
    "    docker exec -i <i>container</i> mysql --local_infile=1 -uroot -p[PASSWORD] &#60; <i>path/myscript.sql</i>\n",
    "</code>\n",
    "\n",
    "Notice the use of the option <code>local_infile=1</code> when starting the server to enable file loading at the client level. Previously, after starting the MySQL container, we must have set the <code>local_infile</code> global variable on as previously specified. Also notice that this procedure does not allow us to input the password interactively. It must be provided when running the <code>docker exec</code> command from the command line.\n",
    "\n",
    "After successful execution of the script we are returned to the system folder from which we have run the <code>docker exec</code> command. By entering MySQL again we can check if the scripted actions have been actually performed on the MySQL server.\n",
    "\n",
    "<br>\n",
    "<h4>Recap and summarize:</h4><br>\n",
    "To recap and summarize, the procedure to import a csv file on MySQL requires us to perform the following actions, in order:\n",
    "\n",
    "- start the MySQL container;\n",
    "- copy the csv file into the container (<code>docker cp</code>);\n",
    "- login to MySQL and set the global variable <code>local_infile</code> to ON;\n",
    "- logout from MySQL;\n",
    "- call the SQL script containing the <code>LOAD DATA</code> statement while accessing to the MySQL server with the <code>docker exec</code> command;\n",
    "- login to MySQL and check if the script execution has obtained the required results.\n"
   ]
  },
  {
   "cell_type": "code",
   "execution_count": null,
   "id": "d5bc59e8",
   "metadata": {},
   "outputs": [],
   "source": []
  },
  {
   "cell_type": "markdown",
   "id": "ee8cfed7",
   "metadata": {},
   "source": [
    "<h3>Python - MySQL interaction</h3>"
   ]
  },
  {
   "cell_type": "markdown",
   "id": "114092a4",
   "metadata": {},
   "source": [
    "Interaction between a Python API and a MySQL server requires the installation of a specific driver. I opt for <i>MySQL Connector/Python</i> which is officially developed and mantained by the MySQL team and requires only the Python standard library to work properly. Documentation of the driver is provided in the web page <a href = 'https://dev.mysql.com/doc/index-connectors.html'>Connectors and APIs</a> of the MySQL web site. This page illustrates MySQL drivers available for a number of programming languages, Python included.<br>After having installed the driver, it can be imported in Python the usual way."
   ]
  },
  {
   "cell_type": "code",
   "execution_count": 1,
   "id": "9d3ea7dd",
   "metadata": {},
   "outputs": [],
   "source": [
    "import mysql.connector as connector"
   ]
  },
  {
   "cell_type": "markdown",
   "id": "9026f04c",
   "metadata": {},
   "source": [
    "<h4>\n",
    "Establishing a connection to MySQL\n",
    "</h4><br>\n",
    "A connection to the MySQL server can be established by creating a <a href ='https://dev.mysql.com/doc/connector-python/en/connector-python-connecting.html'>connection object</a> (stored in a Python variable: <i>conn</i>, in our case) with the <code>connect</code> method of the driver. Host address, (optionally) port, authentication and database name must be passed to the object.<br>Consider that '<i>localhost</i>' could be equivalently used as <code>host</code> name."
   ]
  },
  {
   "cell_type": "code",
   "execution_count": 2,
   "id": "601003da",
   "metadata": {},
   "outputs": [],
   "source": [
    "conn = connector.connect(host = '127.0.0.1', port = '3306', user = 'root', password = 'X4mPpd3V', database = 'dbB_MYSQL_test')"
   ]
  },
  {
   "cell_type": "markdown",
   "id": "92f5668c",
   "metadata": {},
   "source": [
    "<h4>\n",
    "Creating a <i>cursor</i> object\n",
    "</h4><br>\n",
    "A <a href = 'https://dev.mysql.com/doc/connector-python/en/connector-python-api-mysqlcursor.html'>cursor object</a> can interact with the MySQL server thanks to the previously defined connection object. The cursor allows us to perform operations such as SQL statements (the cursor properties can be accessed by the function <code>dir()</code>). Once defined, the cursor object keeps the information required to access the MySQL server of our choice."
   ]
  },
  {
   "cell_type": "code",
   "execution_count": 3,
   "id": "a72dc6c4",
   "metadata": {},
   "outputs": [],
   "source": [
    "cursor = conn.cursor()"
   ]
  },
  {
   "cell_type": "markdown",
   "id": "f8e7c456",
   "metadata": {},
   "source": [
    "<h4>\n",
    "Executing a query\n",
    "</h4><br>\n",
    "In our case, after having assigned a SQL statement to the Python variable <i>sql</i>, we call the <code>execute</code> method of the <i>cursor</i> object to perform the defined query. <span style = 'color:rgba(255,50,100,1);'>The query result is stored as a property of the <i>cursor</i> object that can be accessed only after an operation has been actually performed</span>. For example, when we run a <code>SELECT</code> query that returns tuples of the selected attributes, looping over the cursor grants direct access to the entire tuples. Assigning Python variables as tuples grants access to each attribute of the query result. "
   ]
  },
  {
   "cell_type": "code",
   "execution_count": 4,
   "id": "a846aa82",
   "metadata": {},
   "outputs": [],
   "source": [
    "sql = 'SELECT DISTINCT firstName, lastName FROM smallDB WHERE courseID = 192'\n",
    "cursor.execute(sql)"
   ]
  },
  {
   "cell_type": "code",
   "execution_count": 5,
   "id": "07e700e8",
   "metadata": {},
   "outputs": [
    {
     "name": "stdout",
     "output_type": "stream",
     "text": [
      "('Custodia', 'Hidalgo')\n",
      "('Sarah', 'Lara')\n",
      "('Narciso', 'Ferrán')\n",
      "('Patrícia', 'Leite')\n",
      "('Vigilija', 'Gaižauskas')\n",
      "('Casandra', 'Arenas')\n",
      "('Ledün', 'Soylu')\n",
      "('Arthur', 'Laroche')\n",
      "('Ana', 'Narušis')\n",
      "('Nath', 'Nicolas')\n",
      "('Émile', 'Nicolas')\n",
      "('Cathrine', 'Lie')\n",
      "('Ingeborg', 'Amundsen')\n"
     ]
    }
   ],
   "source": [
    "for record in cursor:\n",
    "    print(record)"
   ]
  },
  {
   "cell_type": "markdown",
   "id": "565746db",
   "metadata": {},
   "source": [
    "<h4>\n",
    "Displaying a query result\n",
    "</h4><br>\n",
    "We are required to know the schema of the result set of the sql statement: in the example case we know that the output will be a certain (unknown <i>a priori</i>) number of rows over two attributes (fields, columns). So we define two variables that we want to be printed when looping over the cursor object."
   ]
  },
  {
   "cell_type": "code",
   "execution_count": 6,
   "id": "3d94371a",
   "metadata": {},
   "outputs": [
    {
     "name": "stdout",
     "output_type": "stream",
     "text": [
      "Custodia Hidalgo\n",
      "Sarah Lara\n",
      "Narciso Ferrán\n",
      "Patrícia Leite\n",
      "Vigilija Gaižauskas\n",
      "Casandra Arenas\n",
      "Ledün Soylu\n",
      "Arthur Laroche\n",
      "Ana Narušis\n",
      "Nath Nicolas\n",
      "Émile Nicolas\n",
      "Cathrine Lie\n",
      "Ingeborg Amundsen\n"
     ]
    }
   ],
   "source": [
    "sql = 'SELECT DISTINCT firstName, lastName FROM smallDB WHERE courseID = 192'\n",
    "cursor.execute(sql)\n",
    "# query result\n",
    "for name, surname in cursor:\n",
    "    print(name, surname)"
   ]
  },
  {
   "cell_type": "markdown",
   "id": "cf01c6f3",
   "metadata": {},
   "source": [
    "Notice that, after having executed the query, the result must be accessed in some way (by looping over the cursor object or fetching the result itself) before running a new query on the same object. Performing the query execution again before freeing up memory would result in an <code>InternalError</code> throwing the message: <i>Unread result found</i>. As a complement of that, after the memory used by the object result is freed, the result cannot be accessed any longer. The result records are stored in the <code>fetchall()</code> method of the cursor object as lists of tuples. It is convenient to store them in a variable for subsequent access."
   ]
  },
  {
   "cell_type": "code",
   "execution_count": 7,
   "id": "019bce89",
   "metadata": {},
   "outputs": [],
   "source": [
    "sql = 'SELECT DISTINCT firstName, lastName FROM smallDB WHERE courseID = 192'\n",
    "cursor.execute(sql)\n",
    "query_test = cursor.fetchall()"
   ]
  },
  {
   "cell_type": "code",
   "execution_count": 8,
   "id": "b9136f45",
   "metadata": {},
   "outputs": [
    {
     "name": "stdout",
     "output_type": "stream",
     "text": [
      "Custodia Hidalgo\n",
      "Sarah Lara\n",
      "Narciso Ferrán\n",
      "Patrícia Leite\n",
      "Vigilija Gaižauskas\n",
      "Casandra Arenas\n",
      "Ledün Soylu\n",
      "Arthur Laroche\n",
      "Ana Narušis\n",
      "Nath Nicolas\n",
      "Émile Nicolas\n",
      "Cathrine Lie\n",
      "Ingeborg Amundsen\n"
     ]
    }
   ],
   "source": [
    "for name, surname in query_test:\n",
    "    print(name, surname)"
   ]
  },
  {
   "cell_type": "markdown",
   "id": "be40c416",
   "metadata": {},
   "source": [
    "<h4>\n",
    "Measuring and displaying the query execution time\n",
    "</h4><br>\n",
    "To display the query execution time we can use the Python <a href = 'https://docs.python.org/3/library/time.html'><i>time</i></a> module and its <code>time</code> function. The function returns the system time at a floating point precision, so the query execution time can be measured as a large number of fractions of a second. It is sufficient to assign the time before the query execution to a variable and the time after the query execution to another variable. The difference between the two variables will measure the query execution. Obviously, the time for the Python API to connect to the MySQL server and the time to return to the Python API after the query execution will be summed up to the query execution time at the DBMS level."
   ]
  },
  {
   "cell_type": "code",
   "execution_count": 9,
   "id": "cae11cd7",
   "metadata": {
    "scrolled": false
   },
   "outputs": [
    {
     "name": "stdout",
     "output_type": "stream",
     "text": [
      "The 'SELECT DISTINCT firstName, lastName FROM smallDB WHERE courseID = 192' query has been executed in 0.191803 seconds.\n"
     ]
    }
   ],
   "source": [
    "import time\n",
    "before = time.time()\n",
    "cursor.execute(sql)\n",
    "after = time.time()\n",
    "sqlTime1 = after - before\n",
    "print('The \\'%s\\' query has been executed in %f seconds.' % (sql, sqlTime1))\n"
   ]
  },
  {
   "cell_type": "code",
   "execution_count": 10,
   "id": "bcac37da",
   "metadata": {},
   "outputs": [],
   "source": [
    "cursor.reset()"
   ]
  },
  {
   "cell_type": "markdown",
   "id": "456affe0",
   "metadata": {},
   "source": [
    "<h4>\n",
    "<code>SHOW PROFILES</code>\n",
    "</h4><br>To retrieve the execution time directly from MySQL, we can use the <code>SHOW PROFILES</code> statement after having set the <code>PROFILING</code> variable to <i>ON</i>: this starts a session so that information on actions performed during the session can be retrieved by issuing the <code>SHOW PROFILES</code> statement. The result is still a table where each record gives information about the queries executed during session. Each row is returned from the <code>fetchall()</code> method of the cursor as a list. The second list element is the query execution time, so assigning <code>cursor.fetchall()</code> to a Python variable and indexing it with <code>[1]</code> will return the information of interest from the previously executed queries. The table also holds the query statement, which is stored at position 3 of the list (index <code>[2]</code>)."
   ]
  },
  {
   "cell_type": "code",
   "execution_count": 11,
   "id": "5b0a897c",
   "metadata": {},
   "outputs": [],
   "source": [
    "sql_set_profile = 'SET profiling = 1'\n",
    "cursor.execute(sql_set_profile)"
   ]
  },
  {
   "cell_type": "code",
   "execution_count": 12,
   "id": "721ead34",
   "metadata": {},
   "outputs": [],
   "source": [
    "sql = 'SELECT DISTINCT firstName, lastName FROM smallDB WHERE courseID = 192'\n",
    "cursor.execute(sql)\n",
    "cursor.reset()"
   ]
  },
  {
   "cell_type": "code",
   "execution_count": 13,
   "id": "c6b88314",
   "metadata": {},
   "outputs": [
    {
     "name": "stdout",
     "output_type": "stream",
     "text": [
      "The execution time of the 'SELECT DISTINCT firstName, lastName FROM smallDB WHERE courseID = 192' query was: 0.202766 seconds\n"
     ]
    }
   ],
   "source": [
    "sql_get_profile = 'SHOW PROFILES'\n",
    "cursor.execute(sql_get_profile)\n",
    "profiles = cursor.fetchall()\n",
    "for profile in profiles:\n",
    "    print('The execution time of the \\'%s\\' query was: %f seconds' % (profile[2], profile[1]))"
   ]
  },
  {
   "cell_type": "code",
   "execution_count": 14,
   "id": "a662b85c",
   "metadata": {},
   "outputs": [
    {
     "data": {
      "text/plain": [
       "True"
      ]
     },
     "execution_count": 14,
     "metadata": {},
     "output_type": "execute_result"
    }
   ],
   "source": [
    "# close profiling, reset cursor and close connection\n",
    "cursor.execute('SET profiling = 0')\n",
    "cursor.close()"
   ]
  },
  {
   "cell_type": "code",
   "execution_count": null,
   "id": "fd8c694a",
   "metadata": {},
   "outputs": [],
   "source": []
  },
  {
   "cell_type": "code",
   "execution_count": 15,
   "id": "0a2cf1a4",
   "metadata": {},
   "outputs": [],
   "source": [
    "# Restart cursor object and set profiling variable to ON\n",
    "cursor = conn.cursor()\n",
    "cursor.execute(sql_set_profile)"
   ]
  },
  {
   "cell_type": "markdown",
   "id": "723698dc",
   "metadata": {},
   "source": [
    "<h3>Query statements</h3>"
   ]
  },
  {
   "cell_type": "code",
   "execution_count": 38,
   "id": "d8bcdb54",
   "metadata": {},
   "outputs": [],
   "source": [
    "small_sql1 = 'SELECT DISTINCT firstName AS name, lastName AS surname FROM smallDB AS S WHERE courseID = 192'\n",
    "small_sql2 = 'SELECT DISTINCT courseName AS name FROM smallDB WHERE discipline = \\'statistics\\' AND courseYear = 2022'\n",
    "small_sql3 = 'SELECT COUNT(materialID) FROM smallDB WHERE materialType = \\'lecture slides\\' AND discipline = \\'maths\\' AND email LIKE \\'%gmail.com\\''\n",
    "small_sql4 = 'SELECT DISTINCT firstName AS name, lastName as surname, country FROM smallDB WHERE discipline = \\'psychology\\' AND country LIKE \\'%orea\\' AND dateOfBirth LIKE \\'1%\\' AND courseYear = 2023 ORDER BY surname ASC;'"
   ]
  },
  {
   "cell_type": "markdown",
   "id": "ea43f479",
   "metadata": {},
   "source": [
    "<h3>Dataset with 250k records</h3>"
   ]
  },
  {
   "cell_type": "markdown",
   "id": "3a99212e",
   "metadata": {},
   "source": [
    "<h4>Query1</h4>"
   ]
  },
  {
   "cell_type": "code",
   "execution_count": 16,
   "id": "2a45d218",
   "metadata": {},
   "outputs": [],
   "source": [
    "small_sql1 = 'SELECT DISTINCT firstName AS name, lastName AS surname FROM smallDB AS S WHERE courseID = 192'\n",
    "cursor.execute(small_sql1)\n",
    "small_query1 = cursor.fetchall()"
   ]
  },
  {
   "cell_type": "code",
   "execution_count": 17,
   "id": "f8c93726",
   "metadata": {},
   "outputs": [
    {
     "name": "stdout",
     "output_type": "stream",
     "text": [
      "Custodia Hidalgo\n",
      "Sarah Lara\n",
      "Narciso Ferrán\n",
      "Patrícia Leite\n",
      "Vigilija Gaižauskas\n",
      "Casandra Arenas\n",
      "Ledün Soylu\n",
      "Arthur Laroche\n",
      "Ana Narušis\n",
      "Nath Nicolas\n",
      "Émile Nicolas\n",
      "Cathrine Lie\n",
      "Ingeborg Amundsen\n"
     ]
    }
   ],
   "source": [
    "for name, surname in small_query1:\n",
    "    print(name, surname)"
   ]
  },
  {
   "cell_type": "markdown",
   "id": "b7c1824f",
   "metadata": {},
   "source": [
    "<h4>Query2</h4>"
   ]
  },
  {
   "cell_type": "code",
   "execution_count": 18,
   "id": "6a3ca8df",
   "metadata": {},
   "outputs": [],
   "source": [
    "small_sql2 = 'SELECT DISTINCT courseName AS name FROM smallDB WHERE discipline = \\'statistics\\' AND courseYear = 2022'\n",
    "cursor.execute(small_sql2)\n",
    "small_query2 = cursor.fetchall()"
   ]
  },
  {
   "cell_type": "code",
   "execution_count": 47,
   "id": "fac392aa",
   "metadata": {},
   "outputs": [
    {
     "name": "stdout",
     "output_type": "stream",
     "text": [
      "Econometrics: Methods and Applications\n",
      "Exploratory Data Analysis\n",
      "Understanding Clinical Research: Behind the Statistics\n",
      "Introduction to Probability and Data with R\n",
      "Bayesian Statistics: From Concept to Data Analysis\n",
      "Introduction to Statistics\n",
      "Python and Statistics for Financial Analysis\n",
      "Basic Statistics\n",
      "Foundations: Data, Data, Everywhere\n"
     ]
    }
   ],
   "source": [
    "for course in small_query2:\n",
    "    print(course[0])"
   ]
  },
  {
   "cell_type": "markdown",
   "id": "4a16e0cf",
   "metadata": {},
   "source": [
    "<h4>Query3</h4>"
   ]
  },
  {
   "cell_type": "code",
   "execution_count": 20,
   "id": "2f77e3db",
   "metadata": {},
   "outputs": [],
   "source": [
    "small_sql3 = 'SELECT COUNT(materialID) FROM smallDB WHERE materialType = \\'lecture slides\\' AND discipline = \\'maths\\' AND email LIKE \\'%gmail.com\\''\n",
    "cursor.execute(small_sql3)\n",
    "small_query3 = cursor.fetchall()"
   ]
  },
  {
   "cell_type": "code",
   "execution_count": 40,
   "id": "2bbcf897",
   "metadata": {},
   "outputs": [
    {
     "name": "stdout",
     "output_type": "stream",
     "text": [
      "838\n"
     ]
    }
   ],
   "source": [
    "for count in small_query3[0]:\n",
    "    print(count)"
   ]
  },
  {
   "cell_type": "markdown",
   "id": "45b54626",
   "metadata": {},
   "source": [
    "<h4>Query4</h4>"
   ]
  },
  {
   "cell_type": "code",
   "execution_count": 22,
   "id": "46e86de6",
   "metadata": {},
   "outputs": [],
   "source": [
    "small_sql4 = 'SELECT DISTINCT firstName AS name, lastName as surname, country FROM smallDB WHERE discipline = \\'psychology\\' AND country LIKE \\'%orea\\' AND dateOfBirth LIKE \\'1%\\' AND courseYear = 2023 ORDER BY surname ASC;'\n",
    "cursor.execute(small_sql4)\n",
    "small_query4 = cursor.fetchall()"
   ]
  },
  {
   "cell_type": "code",
   "execution_count": 23,
   "id": "1bc4df7e",
   "metadata": {},
   "outputs": [
    {
     "name": "stdout",
     "output_type": "stream",
     "text": [
      "Cathrine Lie from South Korea\n",
      "Lynda Reynolds from Korea\n",
      "Raghav Sura from North Korea\n"
     ]
    }
   ],
   "source": [
    "for name, surname, country in small_query4:\n",
    "    print(name, surname, 'from', country)"
   ]
  },
  {
   "cell_type": "markdown",
   "id": "5ac17a62",
   "metadata": {},
   "source": [
    "<h3>Execution times</h3>"
   ]
  },
  {
   "cell_type": "code",
   "execution_count": 24,
   "id": "1bd322a7",
   "metadata": {},
   "outputs": [],
   "source": [
    "sql_get_profile = 'SHOW PROFILES'\n",
    "cursor.execute(sql_get_profile)"
   ]
  },
  {
   "cell_type": "code",
   "execution_count": 25,
   "id": "3bd592a2",
   "metadata": {},
   "outputs": [
    {
     "name": "stdout",
     "output_type": "stream",
     "text": [
      "The execution time of the 'SELECT DISTINCT firstName AS name, lastName AS surname FROM smallDB AS S WHERE courseID = 192' query was: 0.186274 seconds\n",
      "The execution time of the 'SELECT DISTINCT courseName AS name FROM smallDB WHERE discipline = 'statistics' AND courseYear = 2022' query was: 0.218912 seconds\n",
      "The execution time of the 'SELECT COUNT(materialID) FROM smallDB WHERE materialType = 'lecture slides' AND discipline = 'maths' AND email LIKE '%gmail.com'' query was: 0.234834 seconds\n",
      "The execution time of the 'SELECT DISTINCT firstName AS name, lastName as surname, country FROM smallDB WHERE discipline = 'psychology' AND country LIKE '%orea' AND dateOfBirth LIKE '1%' AND courseYear = 2023 ORDER BY surname ASC' query was: 0.277808 seconds\n"
     ]
    }
   ],
   "source": [
    "profiles = cursor.fetchall()\n",
    "for profile in profiles[(len(profiles) - 4) : len(profiles)]:\n",
    "    print('The execution time of the \\'%s\\' query was: %f seconds' % (profile[2], profile[1]))"
   ]
  },
  {
   "cell_type": "code",
   "execution_count": 30,
   "id": "d33010c4",
   "metadata": {},
   "outputs": [],
   "source": [
    "smallList = list()\n",
    "for profile in profiles[(len(profiles) - 4) : len(profiles)]:\n",
    "    smallList.append(profile[1])"
   ]
  },
  {
   "cell_type": "code",
   "execution_count": 33,
   "id": "da07e2e4",
   "metadata": {},
   "outputs": [],
   "source": [
    "smallDict = {'query1' : None, 'query2' : None, 'query3' : None, 'query4' : None}\n",
    "for i in range(0, 4):\n",
    "    smallDict['query' + str(i + 1)] = smallList[i]"
   ]
  },
  {
   "cell_type": "code",
   "execution_count": 34,
   "id": "c62a4e93",
   "metadata": {},
   "outputs": [
    {
     "data": {
      "text/plain": [
       "{'query1': 0.18627375,\n",
       " 'query2': 0.218912,\n",
       " 'query3': 0.23483375,\n",
       " 'query4': 0.27780775}"
      ]
     },
     "execution_count": 34,
     "metadata": {},
     "output_type": "execute_result"
    }
   ],
   "source": [
    "smallDict"
   ]
  },
  {
   "cell_type": "code",
   "execution_count": 37,
   "id": "4f3c8958",
   "metadata": {},
   "outputs": [
    {
     "data": {
      "text/plain": [
       "<BarContainer object of 4 artists>"
      ]
     },
     "execution_count": 37,
     "metadata": {},
     "output_type": "execute_result"
    },
    {
     "data": {
      "image/png": "[encoded data removed]",
      "text/plain": [
       "<Figure size 640x480 with 1 Axes>"
      ]
     },
     "metadata": {},
     "output_type": "display_data"
    }
   ],
   "source": [
    "from matplotlib import pyplot as plt\n",
    "plt.bar(smallDict.keys(), smallDict.values())"
   ]
  },
  {
   "cell_type": "code",
   "execution_count": null,
   "id": "974d0a4f",
   "metadata": {},
   "outputs": [],
   "source": []
  },
  {
   "cell_type": "markdown",
   "id": "da63f782",
   "metadata": {},
   "source": [
    "<h3>Dataset with 500k records</h3>"
   ]
  },
  {
   "cell_type": "markdown",
   "id": "9db02bdf",
   "metadata": {},
   "source": [
    "<h4>Query1</h4>"
   ]
  },
  {
   "cell_type": "code",
   "execution_count": 48,
   "id": "b4aa9be8",
   "metadata": {},
   "outputs": [],
   "source": [
    "medium_sql1 = 'SELECT DISTINCT firstName AS name, lastName AS surname FROM mediumDB AS S WHERE courseID = 192'\n",
    "cursor.execute(medium_sql1)\n",
    "medium_query1 = cursor.fetchall()"
   ]
  },
  {
   "cell_type": "code",
   "execution_count": 49,
   "id": "183fb495",
   "metadata": {},
   "outputs": [
    {
     "name": "stdout",
     "output_type": "stream",
     "text": [
      "Custodia Hidalgo\n",
      "Sarah Lara\n",
      "Narciso Ferrán\n",
      "Patrícia Leite\n",
      "Vigilija Gaižauskas\n",
      "Casandra Arenas\n",
      "Ledün Soylu\n",
      "Arthur Laroche\n",
      "Ana Narušis\n",
      "Nath Nicolas\n",
      "Émile Nicolas\n",
      "Cathrine Lie\n",
      "Ingeborg Amundsen\n",
      "Nedas Naujokas\n",
      "Christl Henschel\n",
      "Miguel Real\n",
      "Karl Christensen\n",
      "Joris Kavaliauskas\n",
      "Yuvaan Dara\n",
      "Débora Vaz\n"
     ]
    }
   ],
   "source": [
    "for name, surname in medium_query1:\n",
    "    print(name, surname)"
   ]
  },
  {
   "cell_type": "markdown",
   "id": "978ac7b9",
   "metadata": {},
   "source": [
    "<h4>Query2</h4>"
   ]
  },
  {
   "cell_type": "code",
   "execution_count": 50,
   "id": "be9f7ae4",
   "metadata": {},
   "outputs": [],
   "source": [
    "medium_sql2 = 'SELECT DISTINCT courseName AS name FROM mediumDB WHERE discipline = \\'statistics\\' AND courseYear = 2022'\n",
    "cursor.execute(medium_sql2)\n",
    "medium_query2 = cursor.fetchall()"
   ]
  },
  {
   "cell_type": "code",
   "execution_count": 51,
   "id": "c8464a81",
   "metadata": {},
   "outputs": [
    {
     "name": "stdout",
     "output_type": "stream",
     "text": [
      "Econometrics: Methods and Applications\n",
      "Exploratory Data Analysis\n",
      "Understanding Clinical Research: Behind the Statistics\n",
      "Introduction to Probability and Data with R\n",
      "Bayesian Statistics: From Concept to Data Analysis\n",
      "Introduction to Statistics\n",
      "Python and Statistics for Financial Analysis\n",
      "Basic Statistics\n",
      "Foundations: Data, Data, Everywhere\n"
     ]
    }
   ],
   "source": [
    "for course in medium_query2:\n",
    "    print(course[0])"
   ]
  },
  {
   "cell_type": "markdown",
   "id": "a8832c2f",
   "metadata": {},
   "source": [
    "<h4>Query3</h4>"
   ]
  },
  {
   "cell_type": "code",
   "execution_count": 52,
   "id": "fb7a6328",
   "metadata": {},
   "outputs": [],
   "source": [
    "medium_sql3 = 'SELECT COUNT(materialID) FROM mediumDB WHERE materialType = \\'lecture slides\\' AND discipline = \\'maths\\' AND email LIKE \\'%gmail.com\\''\n",
    "cursor.execute(medium_sql3)\n",
    "medium_query3 = cursor.fetchall()"
   ]
  },
  {
   "cell_type": "code",
   "execution_count": 53,
   "id": "e1c6703f",
   "metadata": {},
   "outputs": [
    {
     "name": "stdout",
     "output_type": "stream",
     "text": [
      "1698\n"
     ]
    }
   ],
   "source": [
    "for count in medium_query3[0]:\n",
    "    print(count)"
   ]
  },
  {
   "cell_type": "markdown",
   "id": "6d7c60ee",
   "metadata": {},
   "source": [
    "<h4>Query4</h4>"
   ]
  },
  {
   "cell_type": "code",
   "execution_count": 54,
   "id": "3748c8a7",
   "metadata": {},
   "outputs": [],
   "source": [
    "medium_sql4 = 'SELECT DISTINCT firstName AS name, lastName as surname, country FROM mediumDB WHERE discipline = \\'psychology\\' AND country LIKE \\'%orea\\' AND dateOfBirth LIKE \\'1%\\' AND courseYear = 2023 ORDER BY surname ASC;'\n",
    "cursor.execute(medium_sql4)\n",
    "medium_query4 = cursor.fetchall()"
   ]
  },
  {
   "cell_type": "code",
   "execution_count": 56,
   "id": "3f2c36f2",
   "metadata": {},
   "outputs": [
    {
     "name": "stdout",
     "output_type": "stream",
     "text": [
      "Ninthe Horrocks from Noord-Korea\n",
      "Cathrine Lie from South Korea\n",
      "Miguel Real from República de Corea\n",
      "Lynda Reynolds from Korea\n",
      "Raghav Sura from North Korea\n"
     ]
    }
   ],
   "source": [
    "for name, surname, country in medium_query4:\n",
    "    print(name, surname, 'from', country)"
   ]
  },
  {
   "cell_type": "markdown",
   "id": "8810f500",
   "metadata": {},
   "source": [
    "<h3>Execution times</h3>"
   ]
  },
  {
   "cell_type": "code",
   "execution_count": 58,
   "id": "967370a2",
   "metadata": {},
   "outputs": [
    {
     "name": "stdout",
     "output_type": "stream",
     "text": [
      "The execution time of the 'SELECT DISTINCT firstName AS name, lastName AS surname FROM mediumDB AS S WHERE courseID = 192' query was: 12.350354 seconds\n",
      "The execution time of the 'SELECT DISTINCT courseName AS name FROM mediumDB WHERE discipline = 'statistics' AND courseYear = 2022' query was: 0.451687 seconds\n",
      "The execution time of the 'SELECT COUNT(materialID) FROM mediumDB WHERE materialType = 'lecture slides' AND discipline = 'maths' AND email LIKE '%gmail.com'' query was: 0.519910 seconds\n",
      "The execution time of the 'SELECT DISTINCT firstName AS name, lastName as surname, country FROM mediumDB WHERE discipline = 'psychology' AND country LIKE '%orea' AND dateOfBirth LIKE '1%' AND courseYear = 2023 ORDER BY surname ASC' query was: 0.538541 seconds\n"
     ]
    }
   ],
   "source": [
    "cursor.execute(sql_get_profile)\n",
    "profiles = cursor.fetchall()\n",
    "for profile in profiles[(len(profiles) - 4) : len(profiles)]:\n",
    "    print('The execution time of the \\'%s\\' query was: %f seconds' % (profile[2], profile[1]))"
   ]
  },
  {
   "cell_type": "code",
   "execution_count": 61,
   "id": "bd83503a",
   "metadata": {},
   "outputs": [],
   "source": [
    "mediumList = list()\n",
    "for profile in profiles[(len(profiles) - 4) : len(profiles)]:\n",
    "    mediumList.append(profile[1])"
   ]
  },
  {
   "cell_type": "code",
   "execution_count": 62,
   "id": "fc30c3ac",
   "metadata": {},
   "outputs": [],
   "source": [
    "mediumDict = {'query1' : None, 'query2' : None, 'query3' : None, 'query4' : None}\n",
    "for i in range(0, 4):\n",
    "    mediumDict['query' + str(i + 1)] = mediumList[i]"
   ]
  },
  {
   "cell_type": "code",
   "execution_count": 63,
   "id": "d8e91142",
   "metadata": {},
   "outputs": [
    {
     "data": {
      "text/plain": [
       "{'query1': 12.350354,\n",
       " 'query2': 0.451687,\n",
       " 'query3': 0.51991025,\n",
       " 'query4': 0.53854075}"
      ]
     },
     "execution_count": 63,
     "metadata": {},
     "output_type": "execute_result"
    }
   ],
   "source": [
    "mediumDict"
   ]
  },
  {
   "cell_type": "code",
   "execution_count": 64,
   "id": "94525925",
   "metadata": {},
   "outputs": [
    {
     "data": {
      "text/plain": [
       "<BarContainer object of 4 artists>"
      ]
     },
     "execution_count": 64,
     "metadata": {},
     "output_type": "execute_result"
    },
    {
     "data": {
      "image/png": "[encoded data removed]",
      "text/plain": [
       "<Figure size 640x480 with 1 Axes>"
      ]
     },
     "metadata": {},
     "output_type": "display_data"
    }
   ],
   "source": [
    "plt.bar(mediumDict.keys(), mediumDict.values())"
   ]
  },
  {
   "cell_type": "code",
   "execution_count": null,
   "id": "e5e68dbd",
   "metadata": {},
   "outputs": [],
   "source": []
  },
  {
   "cell_type": "markdown",
   "id": "2e05d3e0",
   "metadata": {},
   "source": [
    "<h3>Dataset with 750k records</h3>"
   ]
  },
  {
   "cell_type": "markdown",
   "id": "b8da289a",
   "metadata": {},
   "source": [
    "<h4>Query1</h4>"
   ]
  },
  {
   "cell_type": "code",
   "execution_count": 74,
   "id": "3fed8b82",
   "metadata": {},
   "outputs": [],
   "source": [
    "large_sql1 = 'SELECT DISTINCT firstName AS name, lastName AS surname FROM largeDB AS S WHERE courseID = 192'\n",
    "cursor.execute(large_sql1)\n",
    "large_query1 = cursor.fetchall()"
   ]
  },
  {
   "cell_type": "code",
   "execution_count": 75,
   "id": "eac8b4c1",
   "metadata": {},
   "outputs": [
    {
     "name": "stdout",
     "output_type": "stream",
     "text": [
      "Custodia Hidalgo\n",
      "Sarah Lara\n",
      "Narciso Ferrán\n",
      "Patrícia Leite\n",
      "Vigilija Gaižauskas\n",
      "Casandra Arenas\n",
      "Ledün Soylu\n",
      "Arthur Laroche\n",
      "Ana Narušis\n",
      "Nath Nicolas\n",
      "Émile Nicolas\n",
      "Cathrine Lie\n",
      "Ingeborg Amundsen\n",
      "Nedas Naujokas\n",
      "Christl Henschel\n",
      "Miguel Real\n",
      "Karl Christensen\n",
      "Joris Kavaliauskas\n",
      "Yuvaan Dara\n",
      "Débora Vaz\n",
      "Urvi Dani\n",
      "Collin Heerkens\n",
      "Brian Thompson\n",
      "Özkutlu Gül\n",
      "Dorita Abella\n",
      "Liliana Flaiano\n"
     ]
    }
   ],
   "source": [
    "for name, surname in large_query1:\n",
    "    print(name, surname)"
   ]
  },
  {
   "cell_type": "markdown",
   "id": "da590f6b",
   "metadata": {},
   "source": [
    "<h4>Query2</h4>"
   ]
  },
  {
   "cell_type": "code",
   "execution_count": 76,
   "id": "cd4fc425",
   "metadata": {},
   "outputs": [],
   "source": [
    "large_sql2 = 'SELECT DISTINCT courseName AS name FROM largeDB WHERE discipline = \\'statistics\\' AND courseYear = 2022'\n",
    "cursor.execute(large_sql2)\n",
    "large_query2 = cursor.fetchall()"
   ]
  },
  {
   "cell_type": "code",
   "execution_count": 77,
   "id": "6ee025d9",
   "metadata": {},
   "outputs": [
    {
     "name": "stdout",
     "output_type": "stream",
     "text": [
      "Econometrics: Methods and Applications\n",
      "Exploratory Data Analysis\n",
      "Understanding Clinical Research: Behind the Statistics\n",
      "Introduction to Probability and Data with R\n",
      "Bayesian Statistics: From Concept to Data Analysis\n",
      "Introduction to Statistics\n",
      "Python and Statistics for Financial Analysis\n",
      "Basic Statistics\n",
      "Foundations: Data, Data, Everywhere\n"
     ]
    }
   ],
   "source": [
    "for course in large_query2:\n",
    "    print(course[0])"
   ]
  },
  {
   "cell_type": "markdown",
   "id": "74299d09",
   "metadata": {},
   "source": [
    "<h4>Query3</h4>"
   ]
  },
  {
   "cell_type": "code",
   "execution_count": 78,
   "id": "e901b679",
   "metadata": {},
   "outputs": [],
   "source": [
    "large_sql3 = 'SELECT COUNT(materialID) FROM largeDB WHERE materialType = \\'lecture slides\\' AND discipline = \\'maths\\' AND email LIKE \\'%gmail.com\\''\n",
    "cursor.execute(large_sql3)\n",
    "large_query3 = cursor.fetchall()"
   ]
  },
  {
   "cell_type": "code",
   "execution_count": 79,
   "id": "ce687ace",
   "metadata": {},
   "outputs": [
    {
     "name": "stdout",
     "output_type": "stream",
     "text": [
      "2628\n"
     ]
    }
   ],
   "source": [
    "for count in large_query3[0]:\n",
    "    print(count)"
   ]
  },
  {
   "cell_type": "markdown",
   "id": "0ae5a41a",
   "metadata": {},
   "source": [
    "<h4>Query4</h4>"
   ]
  },
  {
   "cell_type": "code",
   "execution_count": 80,
   "id": "d7857bfe",
   "metadata": {},
   "outputs": [],
   "source": [
    "large_sql4 = 'SELECT DISTINCT firstName AS name, lastName as surname, country FROM largeDB WHERE discipline = \\'psychology\\' AND country LIKE \\'%orea\\' AND dateOfBirth LIKE \\'1%\\' AND courseYear = 2023 ORDER BY surname ASC;'\n",
    "cursor.execute(large_sql4)\n",
    "large_query4 = cursor.fetchall()"
   ]
  },
  {
   "cell_type": "code",
   "execution_count": 82,
   "id": "96533239",
   "metadata": {},
   "outputs": [
    {
     "name": "stdout",
     "output_type": "stream",
     "text": [
      "Tere Castells from República Popular Democrática de Corea\n",
      "Ninthe Horrocks from Noord-Korea\n",
      "Cathrine Lie from South Korea\n",
      "Miguel Real from República de Corea\n",
      "Lynda Reynolds from Korea\n",
      "Raghav Sura from North Korea\n"
     ]
    }
   ],
   "source": [
    "for name, surname, country in large_query4:\n",
    "    print(name, surname, 'from', country)"
   ]
  },
  {
   "cell_type": "markdown",
   "id": "1e277c24",
   "metadata": {},
   "source": [
    "<h3>Execution times</h3>"
   ]
  },
  {
   "cell_type": "code",
   "execution_count": 83,
   "id": "62340b14",
   "metadata": {},
   "outputs": [
    {
     "name": "stdout",
     "output_type": "stream",
     "text": [
      "The execution time of the 'SELECT DISTINCT firstName AS name, lastName AS surname FROM largeDB AS S WHERE courseID = 192' query was: 16.317570 seconds\n",
      "The execution time of the 'SELECT DISTINCT courseName AS name FROM largeDB WHERE discipline = 'statistics' AND courseYear = 2022' query was: 0.712044 seconds\n",
      "The execution time of the 'SELECT COUNT(materialID) FROM largeDB WHERE materialType = 'lecture slides' AND discipline = 'maths' AND email LIKE '%gmail.com'' query was: 0.656846 seconds\n",
      "The execution time of the 'SELECT DISTINCT firstName AS name, lastName as surname, country FROM largeDB WHERE discipline = 'psychology' AND country LIKE '%orea' AND dateOfBirth LIKE '1%' AND courseYear = 2023 ORDER BY surname ASC' query was: 0.819341 seconds\n"
     ]
    }
   ],
   "source": [
    "cursor.execute(sql_get_profile)\n",
    "profiles = cursor.fetchall()\n",
    "for profile in profiles[(len(profiles) - 4) : len(profiles)]:\n",
    "    print('The execution time of the \\'%s\\' query was: %f seconds' % (profile[2], profile[1]))"
   ]
  },
  {
   "cell_type": "code",
   "execution_count": 84,
   "id": "2478a7db",
   "metadata": {},
   "outputs": [],
   "source": [
    "largeList = list()\n",
    "for profile in profiles[(len(profiles) - 4) : len(profiles)]:\n",
    "    largeList.append(profile[1])"
   ]
  },
  {
   "cell_type": "code",
   "execution_count": 85,
   "id": "673c706b",
   "metadata": {},
   "outputs": [],
   "source": [
    "largeDict = {'query1' : None, 'query2' : None, 'query3' : None, 'query4' : None}\n",
    "for i in range(0, 4):\n",
    "    largeDict['query' + str(i + 1)] = largeList[i]"
   ]
  },
  {
   "cell_type": "code",
   "execution_count": 86,
   "id": "5c5370a7",
   "metadata": {},
   "outputs": [
    {
     "data": {
      "text/plain": [
       "{'query1': 16.31756975,\n",
       " 'query2': 0.7120445,\n",
       " 'query3': 0.65684575,\n",
       " 'query4': 0.8193405}"
      ]
     },
     "execution_count": 86,
     "metadata": {},
     "output_type": "execute_result"
    }
   ],
   "source": [
    "largeDict"
   ]
  },
  {
   "cell_type": "code",
   "execution_count": 87,
   "id": "6950af7e",
   "metadata": {},
   "outputs": [
    {
     "data": {
      "text/plain": [
       "<BarContainer object of 4 artists>"
      ]
     },
     "execution_count": 87,
     "metadata": {},
     "output_type": "execute_result"
    },
    {
     "data": {
      "image/png": "[encoded data removed]",
      "text/plain": [
       "<Figure size 640x480 with 1 Axes>"
      ]
     },
     "metadata": {},
     "output_type": "display_data"
    }
   ],
   "source": [
    "plt.bar(mediumDict.keys(), mediumDict.values())"
   ]
  },
  {
   "cell_type": "code",
   "execution_count": null,
   "id": "d76d7a66",
   "metadata": {},
   "outputs": [],
   "source": []
  },
  {
   "cell_type": "markdown",
   "id": "1799142d",
   "metadata": {},
   "source": [
    "<h3>Dataset with 1m records</h3>"
   ]
  },
  {
   "cell_type": "markdown",
   "id": "31dc01e2",
   "metadata": {},
   "source": [
    "<h4>Query1</h4>"
   ]
  },
  {
   "cell_type": "code",
   "execution_count": 88,
   "id": "2d45239a",
   "metadata": {},
   "outputs": [],
   "source": [
    "humongous_sql1 = 'SELECT DISTINCT firstName AS name, lastName AS surname FROM humongousDB AS S WHERE courseID = 192'\n",
    "cursor.execute(humongous_sql1)\n",
    "humongous_query1 = cursor.fetchall()"
   ]
  },
  {
   "cell_type": "code",
   "execution_count": 89,
   "id": "d1e8b80c",
   "metadata": {},
   "outputs": [
    {
     "name": "stdout",
     "output_type": "stream",
     "text": [
      "Custodia Hidalgo\n",
      "Sarah Lara\n",
      "Narciso Ferrán\n",
      "Patrícia Leite\n",
      "Vigilija Gaižauskas\n",
      "Casandra Arenas\n",
      "Ledün Soylu\n",
      "Arthur Laroche\n",
      "Ana Narušis\n",
      "Nath Nicolas\n",
      "Émile Nicolas\n",
      "Cathrine Lie\n",
      "Ingeborg Amundsen\n",
      "Nedas Naujokas\n",
      "Christl Henschel\n",
      "Miguel Real\n",
      "Karl Christensen\n",
      "Joris Kavaliauskas\n",
      "Yuvaan Dara\n",
      "Débora Vaz\n",
      "Urvi Dani\n",
      "Collin Heerkens\n",
      "Brian Thompson\n",
      "Özkutlu Gül\n",
      "Dorita Abella\n",
      "Liliana Flaiano\n",
      "Finn Karlsen\n",
      "David Miranda\n",
      "Torsten Schulz\n",
      "Kristen Webb\n",
      "Shaan Raju\n",
      "Giuseppina Scarfoglio\n",
      "Mamen Teruel\n",
      "Eduardo Rezende\n",
      "Melania Savorgnan\n"
     ]
    }
   ],
   "source": [
    "for name, surname in humongous_query1:\n",
    "    print(name, surname)"
   ]
  },
  {
   "cell_type": "markdown",
   "id": "9f5e66ce",
   "metadata": {},
   "source": [
    "<h4>Query2</h4>"
   ]
  },
  {
   "cell_type": "code",
   "execution_count": 90,
   "id": "cd6b958a",
   "metadata": {},
   "outputs": [],
   "source": [
    "humongous_sql2 = 'SELECT DISTINCT courseName AS name FROM humongousDB WHERE discipline = \\'statistics\\' AND courseYear = 2022'\n",
    "cursor.execute(humongous_sql2)\n",
    "humongous_query2 = cursor.fetchall()"
   ]
  },
  {
   "cell_type": "code",
   "execution_count": 91,
   "id": "3b8cb4ba",
   "metadata": {},
   "outputs": [
    {
     "name": "stdout",
     "output_type": "stream",
     "text": [
      "Econometrics: Methods and Applications\n",
      "Exploratory Data Analysis\n",
      "Understanding Clinical Research: Behind the Statistics\n",
      "Introduction to Probability and Data with R\n",
      "Bayesian Statistics: From Concept to Data Analysis\n",
      "Introduction to Statistics\n",
      "Python and Statistics for Financial Analysis\n",
      "Basic Statistics\n",
      "Foundations: Data, Data, Everywhere\n"
     ]
    }
   ],
   "source": [
    "for course in large_query2:\n",
    "    print(course[0])"
   ]
  },
  {
   "cell_type": "markdown",
   "id": "b6444834",
   "metadata": {},
   "source": [
    "<h4>Query3</h4>"
   ]
  },
  {
   "cell_type": "code",
   "execution_count": 92,
   "id": "9a6ff09d",
   "metadata": {},
   "outputs": [],
   "source": [
    "humongous_sql3 = 'SELECT COUNT(materialID) FROM humongousDB WHERE materialType = \\'lecture slides\\' AND discipline = \\'maths\\' AND email LIKE \\'%gmail.com\\''\n",
    "cursor.execute(humongous_sql3)\n",
    "humongous_query3 = cursor.fetchall()"
   ]
  },
  {
   "cell_type": "code",
   "execution_count": 93,
   "id": "18a49391",
   "metadata": {},
   "outputs": [
    {
     "name": "stdout",
     "output_type": "stream",
     "text": [
      "3498\n"
     ]
    }
   ],
   "source": [
    "for count in humongous_query3[0]:\n",
    "    print(count)"
   ]
  },
  {
   "cell_type": "markdown",
   "id": "eba92e5f",
   "metadata": {},
   "source": [
    "<h4>Query4</h4>"
   ]
  },
  {
   "cell_type": "code",
   "execution_count": 94,
   "id": "cd9ea7bd",
   "metadata": {},
   "outputs": [],
   "source": [
    "humongous_sql4 = 'SELECT DISTINCT firstName AS name, lastName as surname, country FROM humongousDB WHERE discipline = \\'psychology\\' AND country LIKE \\'%orea\\' AND dateOfBirth LIKE \\'1%\\' AND courseYear = 2023 ORDER BY surname ASC;'\n",
    "cursor.execute(humongous_sql4)\n",
    "humongous_query4 = cursor.fetchall()"
   ]
  },
  {
   "cell_type": "code",
   "execution_count": 95,
   "id": "91e46bbb",
   "metadata": {},
   "outputs": [
    {
     "name": "stdout",
     "output_type": "stream",
     "text": [
      "Tere Castells from República Popular Democrática de Corea\n",
      "Leila Gailys from Korea\n",
      "Ninthe Horrocks from Noord-Korea\n",
      "Cathrine Lie from South Korea\n",
      "Miguel Real from República de Corea\n",
      "Lynda Reynolds from Korea\n",
      "Raghav Sura from North Korea\n"
     ]
    }
   ],
   "source": [
    "for name, surname, country in humongous_query4:\n",
    "    print(name, surname, 'from', country)"
   ]
  },
  {
   "cell_type": "markdown",
   "id": "34151e95",
   "metadata": {},
   "source": [
    "<h3>Execution times</h3>"
   ]
  },
  {
   "cell_type": "code",
   "execution_count": 96,
   "id": "6e6e8e3c",
   "metadata": {},
   "outputs": [
    {
     "name": "stdout",
     "output_type": "stream",
     "text": [
      "The execution time of the 'SELECT DISTINCT firstName AS name, lastName AS surname FROM humongousDB AS S WHERE courseID = 192' query was: 5.392757 seconds\n",
      "The execution time of the 'SELECT DISTINCT courseName AS name FROM humongousDB WHERE discipline = 'statistics' AND courseYear = 2022' query was: 0.789662 seconds\n",
      "The execution time of the 'SELECT COUNT(materialID) FROM humongousDB WHERE materialType = 'lecture slides' AND discipline = 'maths' AND email LIKE '%gmail.com'' query was: 1.296368 seconds\n",
      "The execution time of the 'SELECT DISTINCT firstName AS name, lastName as surname, country FROM humongousDB WHERE discipline = 'psychology' AND country LIKE '%orea' AND dateOfBirth LIKE '1%' AND courseYear = 2023 ORDER BY surname ASC' query was: 1.219439 seconds\n"
     ]
    }
   ],
   "source": [
    "cursor.execute(sql_get_profile)\n",
    "profiles = cursor.fetchall()\n",
    "for profile in profiles[(len(profiles) - 4) : len(profiles)]:\n",
    "    print('The execution time of the \\'%s\\' query was: %f seconds' % (profile[2], profile[1]))"
   ]
  },
  {
   "cell_type": "code",
   "execution_count": 97,
   "id": "0432d185",
   "metadata": {},
   "outputs": [],
   "source": [
    "humongousList = list()\n",
    "for profile in profiles[(len(profiles) - 4) : len(profiles)]:\n",
    "    humongousList.append(profile[1])"
   ]
  },
  {
   "cell_type": "code",
   "execution_count": 98,
   "id": "ef380a3d",
   "metadata": {},
   "outputs": [],
   "source": [
    "humongousDict = {'query1' : None, 'query2' : None, 'query3' : None, 'query4' : None}\n",
    "for i in range(0, 4):\n",
    "    humongousDict['query' + str(i + 1)] = humongousList[i]"
   ]
  },
  {
   "cell_type": "code",
   "execution_count": 99,
   "id": "9ee64d2f",
   "metadata": {},
   "outputs": [
    {
     "data": {
      "text/plain": [
       "{'query1': 5.392757,\n",
       " 'query2': 0.789662,\n",
       " 'query3': 1.296368,\n",
       " 'query4': 1.2194385}"
      ]
     },
     "execution_count": 99,
     "metadata": {},
     "output_type": "execute_result"
    }
   ],
   "source": [
    "humongousDict"
   ]
  },
  {
   "cell_type": "code",
   "execution_count": 100,
   "id": "5947a526",
   "metadata": {},
   "outputs": [
    {
     "data": {
      "text/plain": [
       "<BarContainer object of 4 artists>"
      ]
     },
     "execution_count": 100,
     "metadata": {},
     "output_type": "execute_result"
    },
    {
     "data": {
      "image/png": "[encoded data removed]",
      "text/plain": [
       "<Figure size 640x480 with 1 Axes>"
      ]
     },
     "metadata": {},
     "output_type": "display_data"
    }
   ],
   "source": [
    "plt.bar(humongousDict.keys(), humongousDict.values())"
   ]
  },
  {
   "cell_type": "code",
   "execution_count": null,
   "id": "568edec1",
   "metadata": {},
   "outputs": [],
   "source": []
  }
 ],
 "metadata": {
  "kernelspec": {
   "display_name": "Python 3 (ipykernel)",
   "language": "python",
   "name": "python3"
  },
  "language_info": {
   "codemirror_mode": {
    "name": "ipython",
    "version": 3
   },
   "file_extension": ".py",
   "mimetype": "text/x-python",
   "name": "python",
   "nbconvert_exporter": "python",
   "pygments_lexer": "ipython3",
   "version": "3.10.8"
  }
 },
 "nbformat": 4,
 "nbformat_minor": 5
}

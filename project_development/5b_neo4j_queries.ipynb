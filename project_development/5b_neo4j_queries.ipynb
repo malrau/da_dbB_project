{
 "cells": [
  {
   "cell_type": "markdown",
   "id": "b658c051",
   "metadata": {},
   "source": [
    "<center>\n",
    "    <h2>Online learning platform database - Neo4j</h2>\n",
    "    <h3>Performing the queries and storing the queries execution time</h3>\n",
    "</center>"
   ]
  },
  {
   "cell_type": "markdown",
   "id": "f544d0b6",
   "metadata": {},
   "source": [
    "<h3>Python - Neo4j interaction</h3>"
   ]
  },
  {
   "cell_type": "markdown",
   "id": "80cf09d3",
   "metadata": {},
   "source": [
    "Prior to performing the queries, I import the required modules (the <i>Neo4j</i> Python driver and the <i>time</i> and <i>csv</i> modules) and set four driver objects to which I pass the parameters to establish a connection to each of the four Neo4j instances running in Docker."
   ]
  },
  {
   "cell_type": "code",
   "execution_count": 1,
   "id": "60fe747b",
   "metadata": {},
   "outputs": [],
   "source": [
    "# import modules\n",
    "from neo4j import GraphDatabase     # Neo4j driver\n",
    "import time                         # time-related functions to register query execution times\n",
    "import csv                          # read and write csv files\n",
    "\n",
    "# create driver object\n",
    "driver = GraphDatabase.driver(uri = 'neo4j://127.0.0.1:7687', auth = ('neo4j', 'myPassword'))\n",
    "driver2 = GraphDatabase.driver(uri = 'neo4j://127.0.0.1:7692', auth = ('neo4j', 'myPassword'))\n",
    "driver3 = GraphDatabase.driver(uri = 'neo4j://127.0.0.1:7693', auth = ('neo4j', 'myPassword'))\n",
    "driver4 = GraphDatabase.driver(uri = 'neo4j://127.0.0.1:7694', auth = ('neo4j', 'myPassword'))"
   ]
  },
  {
   "cell_type": "markdown",
   "id": "24ad76a4",
   "metadata": {},
   "source": [
    "<h3>Query the Neo4j instances</h3>"
   ]
  },
  {
   "cell_type": "markdown",
   "id": "2f459600",
   "metadata": {},
   "source": [
    "I create a dictionary of lists for each of the four Neo4j instances. In these dictionaries the keys are the query names and the values are the 31 query execution times: in fact I attach the value of the query execution time of the most recent query to the list. Since query execution times are required in milliseconds, prior to attaching them, I multiply them by 1000 and round them to the fifth decimal precision.\n",
    "As previously explained, the above summarized actions (for each of the four queries on each of the four instances) are performed by following a standard succession of steps. Each step is encapsulated within a notebook cell (so each query is performed 31 times by using three notebook cells), as follows:\n",
    " - step 1: define the query as a string and pass it together with the <code>database</code> parameter to the <code>execute_query()</code> method of the driver object, while contextually registering the time before and after the query execution. Finally print query results;\n",
    " - step 2: compute execution time of the first query execution and store it within the corresponding dictionary list;\n",
    " - step 3: [thirty times] perform query execution while creating prior and following timestamps, compute execution time and store it within the corresponding dictionary list.\n",
    "\n",
    "For each Neo4j instance, after having performed the four queries, I will finally compute the mean of the query executions from step 3. Together with the first query execution, this mean value will be stored into a new dictionary, specific to a dataset. Originally, I would use these four new dictionaries to save the query execution times into a csv file for constructing histograms. I later resolved to save all the 31 recorded query execution times and pass them all to Microsoft© Excel to process them.\n",
    "\n",
    "N.B.:\n",
    "Contrary to what has been introduced when presenting the methodologies used for accessing and querying Neo4j, since I don't need to use the information contained in the <i>summary</i> object to get the query execution time, I am only interested in the query result records for showing them. I can use dot notation on the query object to access the query records (a query object has a <code>records</code> attribute). I could use the index <code>0</code> on the query object since the records are the first element in a list. By iterating on the records object and applying the <code>data()</code> method during iteration I can turn the records elements into key-value pairs (a dictionary, actually)."
   ]
  },
  {
   "cell_type": "code",
   "execution_count": 2,
   "id": "55d81a38",
   "metadata": {},
   "outputs": [],
   "source": [
    "smallDict = {'query1' : list(), 'query2' : list(), 'query3' : list(), 'query4' : list()}\n",
    "mediumDict = {'query1' : list(), 'query2' : list(), 'query3' : list(), 'query4' : list()}\n",
    "largeDict = {'query1' : list(), 'query2' : list(), 'query3' : list(), 'query4' : list()}\n",
    "humongousDict = {'query1' : list(), 'query2' : list(), 'query3' : list(), 'query4' : list()}"
   ]
  },
  {
   "cell_type": "code",
   "execution_count": 3,
   "id": "dca39b88",
   "metadata": {},
   "outputs": [],
   "source": [
    "# mean function\n",
    "def mean(aList):\n",
    "    n = len(aList)\n",
    "    sum = 0\n",
    "    for value in aList:\n",
    "        sum += value\n",
    "    return sum / n"
   ]
  },
  {
   "cell_type": "markdown",
   "id": "1e8f5b17",
   "metadata": {},
   "source": [
    "<h3>Neo4j instance with 250k hashes</h3>"
   ]
  },
  {
   "cell_type": "markdown",
   "id": "454c7f01",
   "metadata": {},
   "source": [
    "I start with the smallest Neo4j instance."
   ]
  },
  {
   "cell_type": "markdown",
   "id": "2d57c06e",
   "metadata": {},
   "source": [
    "<h4>Query 1</h4>"
   ]
  },
  {
   "cell_type": "code",
   "execution_count": 5,
   "id": "53e8e790",
   "metadata": {},
   "outputs": [
    {
     "name": "stdout",
     "output_type": "stream",
     "text": [
      "Custodia Hidalgo\n",
      "Ledün Soylu\n",
      "Nath Nicolas\n",
      "Ana Narušis\n",
      "Émile Nicolas\n",
      "Sarah Lara\n",
      "Patrícia Leite\n",
      "Cathrine Lie\n",
      "Arthur Laroche\n",
      "Casandra Arenas\n",
      "Narciso Ferrán\n",
      "Vigilija Gaižauskas\n",
      "Ingeborg Amundsen\n"
     ]
    }
   ],
   "source": [
    "# step 1\n",
    "small_neo4j1 = 'MATCH (s:student) -[:is_enrolled]-> (c:course) WHERE c.courseID = \\'192\\' RETURN s.firstName, s.lastName'\n",
    "\n",
    "before = time.time()\n",
    "small_query1 = driver.execute_query(small_neo4j1, database = 'neo4j')\n",
    "after = time.time()\n",
    "\n",
    "records = small_query1.records\n",
    "for record in records:\n",
    "    print(record.data()['s.firstName'], record.data()['s.lastName'],)"
   ]
  },
  {
   "cell_type": "code",
   "execution_count": 6,
   "id": "0693cfea",
   "metadata": {},
   "outputs": [],
   "source": [
    "# step 2\n",
    "msec_duration = (after - before) * 1000\n",
    "smallDict['query1'].append(round(msec_duration, 5))"
   ]
  },
  {
   "cell_type": "code",
   "execution_count": 7,
   "id": "aa03f818",
   "metadata": {},
   "outputs": [],
   "source": [
    "# step 3\n",
    "for i in range(0, 30):\n",
    "    before = time.time()\n",
    "    driver.execute_query(small_neo4j1, database = 'neo4j')\n",
    "    after = time.time()\n",
    "    msec_duration = (after - before) * 1000\n",
    "    smallDict['query1'].append(round(msec_duration, 5))"
   ]
  },
  {
   "cell_type": "markdown",
   "id": "3b169889",
   "metadata": {},
   "source": [
    "<h4>Query 2</h4>"
   ]
  },
  {
   "cell_type": "code",
   "execution_count": 9,
   "id": "3db2beed",
   "metadata": {},
   "outputs": [
    {
     "name": "stdout",
     "output_type": "stream",
     "text": [
      "Econometrics: Methods and Applications\n",
      "Exploratory Data Analysis\n",
      "Understanding Clinical Research: Behind the Statistics\n",
      "Introduction to Probability and Data with R\n",
      "Bayesian Statistics: From Concept to Data Analysis\n",
      "Introduction to Statistics\n",
      "Python and Statistics for Financial Analysis\n",
      "Basic Statistics\n",
      "Foundations: Data, Data, Everywhere\n"
     ]
    }
   ],
   "source": [
    "# step 1\n",
    "small_neo4j2 = 'MATCH(c:course) WHERE c.discipline = \\'statistics\\' AND c.courseYear = \\'2022\\' RETURN c.courseName'\n",
    "\n",
    "before = time.time()\n",
    "small_query2 = driver.execute_query(small_neo4j2, database = 'neo4j')\n",
    "after = time.time()\n",
    "\n",
    "records = small_query2.records\n",
    "for record in records:\n",
    "    print(record.data()['c.courseName'])"
   ]
  },
  {
   "cell_type": "code",
   "execution_count": 10,
   "id": "b2a9784c",
   "metadata": {},
   "outputs": [],
   "source": [
    "# step 2\n",
    "msec_duration = (after - before) * 1000\n",
    "smallDict['query2'].append(round(msec_duration, 5))"
   ]
  },
  {
   "cell_type": "code",
   "execution_count": 11,
   "id": "fcacdedf",
   "metadata": {},
   "outputs": [],
   "source": [
    "# step 3\n",
    "for i in range(0, 30):\n",
    "    before = time.time()\n",
    "    driver.execute_query(small_neo4j2, database = 'neo4j')\n",
    "    after = time.time()\n",
    "    msec_duration = (after - before) * 1000\n",
    "    smallDict['query2'].append(round(msec_duration, 5))"
   ]
  },
  {
   "cell_type": "markdown",
   "id": "e9bd2a85",
   "metadata": {},
   "source": [
    "<h4>Query 3</h4>"
   ]
  },
  {
   "cell_type": "code",
   "execution_count": 13,
   "id": "71f2244b",
   "metadata": {},
   "outputs": [
    {
     "name": "stdout",
     "output_type": "stream",
     "text": [
      "838\n"
     ]
    }
   ],
   "source": [
    "# step 1\n",
    "small_neo4j3 = 'MATCH (c:course {discipline: \\'maths\\'}) <-[:is_enrolled]- (s:student) -[:studies]-> (m:material {mType: \\'lecture slides\\'}) <-[:uses]- (c:course) WHERE right(s.email, 9) = \\'gmail.com\\' RETURN COUNT(m);'\n",
    "\n",
    "before = time.time()\n",
    "small_query3 = driver.execute_query(small_neo4j3, database = 'neo4j')\n",
    "after = time.time()\n",
    "\n",
    "records = small_query3.records\n",
    "for record in records:\n",
    "    print(record.data()['COUNT(m)'])"
   ]
  },
  {
   "cell_type": "code",
   "execution_count": 14,
   "id": "3868bafa",
   "metadata": {},
   "outputs": [],
   "source": [
    "# step 2\n",
    "msec_duration = (after - before) * 1000\n",
    "smallDict['query3'].append(round(msec_duration, 5))"
   ]
  },
  {
   "cell_type": "code",
   "execution_count": 15,
   "id": "45889ee9",
   "metadata": {},
   "outputs": [],
   "source": [
    "# step 3\n",
    "for i in range(0, 30):\n",
    "    before = time.time()\n",
    "    driver.execute_query(small_neo4j3, database = 'neo4j')\n",
    "    after = time.time()\n",
    "    msec_duration = (after - before) * 1000\n",
    "    smallDict['query3'].append(round(msec_duration, 5))"
   ]
  },
  {
   "cell_type": "markdown",
   "id": "381bb5d4",
   "metadata": {},
   "source": [
    "<h4>Query 4</h4>"
   ]
  },
  {
   "cell_type": "code",
   "execution_count": 17,
   "id": "4a4a6b43",
   "metadata": {},
   "outputs": [
    {
     "name": "stdout",
     "output_type": "stream",
     "text": [
      "Cathrine Lie South Korea\n",
      "Lynda Reynolds Korea\n",
      "Raghav Sura North Korea\n"
     ]
    }
   ],
   "source": [
    "# step 1\n",
    "small_neo4j4 = 'MATCH (s:student) -[:is_enrolled]-> (c:course {discipline: \\'psychology\\'}) WHERE right(s.country, 4) = \\'orea\\' AND left(s.dob, 1) <> \\'2\\' RETURN DISTINCT s.firstName, s.lastName, s.country ORDER BY s.lastName;'\n",
    "\n",
    "before = time.time()\n",
    "small_query4 = driver.execute_query(small_neo4j4, database = 'neo4j')\n",
    "after = time.time()\n",
    "\n",
    "records = small_query4.records\n",
    "for record in records:\n",
    "    print(record.data()['s.firstName'], record.data()['s.lastName'], record.data()['s.country'])"
   ]
  },
  {
   "cell_type": "code",
   "execution_count": 18,
   "id": "bbe98c4d",
   "metadata": {},
   "outputs": [],
   "source": [
    "# step 2\n",
    "msec_duration = (after - before) * 1000\n",
    "smallDict['query4'].append(round(msec_duration, 5))"
   ]
  },
  {
   "cell_type": "code",
   "execution_count": 19,
   "id": "fe0403e3",
   "metadata": {},
   "outputs": [],
   "source": [
    "# step 3\n",
    "for i in range(0, 30):\n",
    "    before = time.time()\n",
    "    driver.execute_query(small_neo4j4, database = 'neo4j')\n",
    "    after = time.time()\n",
    "    msec_duration = (after - before) * 1000\n",
    "    smallDict['query4'].append(round(msec_duration, 5))"
   ]
  },
  {
   "cell_type": "code",
   "execution_count": 21,
   "id": "77cc0671",
   "metadata": {},
   "outputs": [
    {
     "data": {
      "text/plain": [
       "{'query1': [5489.99786, 24.541],\n",
       " 'query2': [418.41102, 17.52477],\n",
       " 'query3': [1242.91325, 39.00357],\n",
       " 'query4': [449.72205, 14.5945]}"
      ]
     },
     "execution_count": 21,
     "metadata": {},
     "output_type": "execute_result"
    }
   ],
   "source": [
    "smallDataset = {'query1' : list(), 'query2' : list(), 'query3' : list(), 'query4' : list()}\n",
    "for key in smallDict:\n",
    "    smallDataset[key].append(smallDict[key][0])\n",
    "    mean30 = mean(smallDict[key][1 : 31])\n",
    "    smallDataset[key].append(round(mean30, 5))\n",
    "smallDataset"
   ]
  },
  {
   "cell_type": "markdown",
   "id": "d3e8e4dd",
   "metadata": {},
   "source": [
    "<h3>Neo4j instance with 500k hashes</h3>"
   ]
  },
  {
   "cell_type": "markdown",
   "id": "7836fe3d",
   "metadata": {},
   "source": [
    "<h4>Query 1</h4>"
   ]
  },
  {
   "cell_type": "code",
   "execution_count": 22,
   "id": "241eb02d",
   "metadata": {},
   "outputs": [
    {
     "name": "stdout",
     "output_type": "stream",
     "text": [
      "Custodia Hidalgo\n",
      "Ledün Soylu\n",
      "Nath Nicolas\n",
      "Sarah Lara\n",
      "Karl Christensen\n",
      "Christl Henschel\n",
      "Casandra Arenas\n",
      "Narciso Ferrán\n",
      "Vigilija Gaižauskas\n",
      "Nedas Naujokas\n",
      "Ana Narušis\n",
      "Émile Nicolas\n",
      "Joris Kavaliauskas\n",
      "Yuvaan Dara\n",
      "Patrícia Leite\n",
      "Cathrine Lie\n",
      "Arthur Laroche\n",
      "Ingeborg Amundsen\n",
      "Débora Vaz\n",
      "Miguel Real\n"
     ]
    }
   ],
   "source": [
    "# step 1\n",
    "medium_neo4j1 = 'MATCH (s:student) -[:is_enrolled]-> (c:course) WHERE c.courseID = \\'192\\' RETURN s.firstName, s.lastName'\n",
    "\n",
    "before = time.time()\n",
    "medium_query1 = driver2.execute_query(medium_neo4j1, database = 'neo4j')\n",
    "after = time.time()\n",
    "\n",
    "records = medium_query1.records\n",
    "for record in records:\n",
    "    print(record.data()['s.firstName'], record.data()['s.lastName'],)"
   ]
  },
  {
   "cell_type": "code",
   "execution_count": 23,
   "id": "a9f6dcc4",
   "metadata": {},
   "outputs": [],
   "source": [
    "# step 2\n",
    "msec_duration = (after - before) * 1000\n",
    "mediumDict['query1'].append(round(msec_duration, 5))"
   ]
  },
  {
   "cell_type": "code",
   "execution_count": 24,
   "id": "cd268a96",
   "metadata": {},
   "outputs": [],
   "source": [
    "# step 3\n",
    "for i in range(0, 30):\n",
    "    before = time.time()\n",
    "    driver2.execute_query(medium_neo4j1, database = 'neo4j')\n",
    "    after = time.time()\n",
    "    msec_duration = (after - before) * 1000\n",
    "    mediumDict['query1'].append(round(msec_duration, 5))"
   ]
  },
  {
   "cell_type": "markdown",
   "id": "dcbc5839",
   "metadata": {},
   "source": [
    "<h4>Query 2</h4>"
   ]
  },
  {
   "cell_type": "code",
   "execution_count": 26,
   "id": "3ededa0d",
   "metadata": {},
   "outputs": [
    {
     "name": "stdout",
     "output_type": "stream",
     "text": [
      "Econometrics: Methods and Applications\n",
      "Exploratory Data Analysis\n",
      "Understanding Clinical Research: Behind the Statistics\n",
      "Introduction to Probability and Data with R\n",
      "Bayesian Statistics: From Concept to Data Analysis\n",
      "Introduction to Statistics\n",
      "Python and Statistics for Financial Analysis\n",
      "Basic Statistics\n",
      "Foundations: Data, Data, Everywhere\n"
     ]
    }
   ],
   "source": [
    "# step 1\n",
    "medium_neo4j2 = 'MATCH(c:course) WHERE c.discipline = \\'statistics\\' AND c.courseYear = \\'2022\\' RETURN c.courseName'\n",
    "\n",
    "before = time.time()\n",
    "medium_query2 = driver2.execute_query(medium_neo4j2, database = 'neo4j')\n",
    "after = time.time()\n",
    "\n",
    "records = medium_query2.records\n",
    "for record in records:\n",
    "    print(record.data()['c.courseName'])"
   ]
  },
  {
   "cell_type": "code",
   "execution_count": 27,
   "id": "b1cde8f3",
   "metadata": {},
   "outputs": [],
   "source": [
    "# step 2\n",
    "msec_duration = (after - before) * 1000\n",
    "mediumDict['query2'].append(round(msec_duration, 5))"
   ]
  },
  {
   "cell_type": "code",
   "execution_count": 28,
   "id": "b8adb0cf",
   "metadata": {},
   "outputs": [],
   "source": [
    "# step 3\n",
    "for i in range(0, 30):\n",
    "    before = time.time()\n",
    "    driver2.execute_query(medium_neo4j2, database = 'neo4j')\n",
    "    after = time.time()\n",
    "    msec_duration = (after - before) * 1000\n",
    "    mediumDict['query2'].append(round(msec_duration, 5))"
   ]
  },
  {
   "cell_type": "markdown",
   "id": "77bfeb22",
   "metadata": {},
   "source": [
    "<h4>Query 3</h4>"
   ]
  },
  {
   "cell_type": "code",
   "execution_count": 30,
   "id": "4edf8b8a",
   "metadata": {},
   "outputs": [
    {
     "name": "stdout",
     "output_type": "stream",
     "text": [
      "1698\n"
     ]
    }
   ],
   "source": [
    "# step 1\n",
    "medium_neo4j3 = 'MATCH (c:course {discipline: \\'maths\\'}) <-[:is_enrolled]- (s:student) -[:studies]-> (m:material {mType: \\'lecture slides\\'}) <-[:uses]- (c:course) WHERE right(s.email, 9) = \\'gmail.com\\' RETURN COUNT(m);'\n",
    "\n",
    "before = time.time()\n",
    "medium_query3 = driver2.execute_query(medium_neo4j3, database = 'neo4j')\n",
    "after = time.time()\n",
    "\n",
    "records = medium_query3.records\n",
    "for record in records:\n",
    "    print(record.data()['COUNT(m)'])"
   ]
  },
  {
   "cell_type": "code",
   "execution_count": 31,
   "id": "fc5b9571",
   "metadata": {},
   "outputs": [],
   "source": [
    "# step 2\n",
    "msec_duration = (after - before) * 1000\n",
    "mediumDict['query3'].append(round(msec_duration, 5))"
   ]
  },
  {
   "cell_type": "code",
   "execution_count": 32,
   "id": "209eea20",
   "metadata": {},
   "outputs": [],
   "source": [
    "# step 3\n",
    "for i in range(0, 30):\n",
    "    before = time.time()\n",
    "    driver2.execute_query(medium_neo4j3, database = 'neo4j')\n",
    "    after = time.time()\n",
    "    msec_duration = (after - before) * 1000\n",
    "    mediumDict['query3'].append(round(msec_duration, 5))"
   ]
  },
  {
   "cell_type": "markdown",
   "id": "2ddacbfb",
   "metadata": {},
   "source": [
    "<h4>Query 4</h4>"
   ]
  },
  {
   "cell_type": "code",
   "execution_count": 34,
   "id": "52fc12f9",
   "metadata": {},
   "outputs": [
    {
     "name": "stdout",
     "output_type": "stream",
     "text": [
      "Ninthe Horrocks Noord-Korea\n",
      "Cathrine Lie South Korea\n",
      "Miguel Real República de Corea\n",
      "Lynda Reynolds Korea\n",
      "Raghav Sura North Korea\n"
     ]
    }
   ],
   "source": [
    "# step 1\n",
    "medium_neo4j4 = 'MATCH (s:student) -[:is_enrolled]-> (c:course {discipline: \\'psychology\\'}) WHERE right(s.country, 4) = \\'orea\\' AND left(s.dob, 1) <> \\'2\\' RETURN DISTINCT s.firstName, s.lastName, s.country ORDER BY s.lastName;'\n",
    "\n",
    "before = time.time()\n",
    "medium_query4 = driver2.execute_query(medium_neo4j4, database = 'neo4j')\n",
    "after = time.time()\n",
    "\n",
    "records = medium_query4.records\n",
    "for record in records:\n",
    "    print(record.data()['s.firstName'], record.data()['s.lastName'], record.data()['s.country'])"
   ]
  },
  {
   "cell_type": "code",
   "execution_count": 35,
   "id": "239d45f1",
   "metadata": {},
   "outputs": [],
   "source": [
    "# step 2\n",
    "msec_duration = (after - before) * 1000\n",
    "mediumDict['query4'].append(round(msec_duration, 5))"
   ]
  },
  {
   "cell_type": "code",
   "execution_count": 36,
   "id": "6e484e76",
   "metadata": {},
   "outputs": [],
   "source": [
    "# step 3\n",
    "for i in range(0, 30):\n",
    "    before = time.time()\n",
    "    driver2.execute_query(medium_neo4j4, database = 'neo4j')\n",
    "    after = time.time()\n",
    "    msec_duration = (after - before) * 1000\n",
    "    mediumDict['query4'].append(round(msec_duration, 5))"
   ]
  },
  {
   "cell_type": "code",
   "execution_count": 38,
   "id": "92194ec4",
   "metadata": {},
   "outputs": [
    {
     "data": {
      "text/plain": [
       "{'query1': [5931.72693, 24.64457],\n",
       " 'query2': [276.00718, 20.78204],\n",
       " 'query3': [1381.90222, 39.59148],\n",
       " 'query4': [504.84109, 19.65367]}"
      ]
     },
     "execution_count": 38,
     "metadata": {},
     "output_type": "execute_result"
    }
   ],
   "source": [
    "mediumDataset = {'query1' : list(), 'query2' : list(), 'query3' : list(), 'query4' : list()}\n",
    "for key in mediumDict:\n",
    "    mediumDataset[key].append(mediumDict[key][0])\n",
    "    mean30 = mean(mediumDict[key][1 : 31])\n",
    "    mediumDataset[key].append(round(mean30, 5))\n",
    "mediumDataset"
   ]
  },
  {
   "cell_type": "code",
   "execution_count": null,
   "id": "43d6877b",
   "metadata": {},
   "outputs": [],
   "source": []
  },
  {
   "cell_type": "markdown",
   "id": "033348c8",
   "metadata": {},
   "source": [
    "<h3>Neo4j instance with 750k hashes</h3>"
   ]
  },
  {
   "cell_type": "markdown",
   "id": "c04f6388",
   "metadata": {},
   "source": [
    "<h4>Query 1</h4>"
   ]
  },
  {
   "cell_type": "code",
   "execution_count": 39,
   "id": "728173bb",
   "metadata": {},
   "outputs": [
    {
     "name": "stdout",
     "output_type": "stream",
     "text": [
      "Custodia Hidalgo\n",
      "Sarah Lara\n",
      "Narciso Ferrán\n",
      "Patrícia Leite\n",
      "Vigilija Gaižauskas\n",
      "Casandra Arenas\n",
      "Ledün Soylu\n",
      "Arthur Laroche\n",
      "Ana Narušis\n",
      "Nath Nicolas\n",
      "Émile Nicolas\n",
      "Cathrine Lie\n",
      "Ingeborg Amundsen\n",
      "Nedas Naujokas\n",
      "Christl Henschel\n",
      "Miguel Real\n",
      "Karl Christensen\n",
      "Joris Kavaliauskas\n",
      "Yuvaan Dara\n",
      "Débora Vaz\n",
      "Urvi Dani\n",
      "Collin Heerkens\n",
      "Brian Thompson\n",
      "Özkutlu Gül\n",
      "Dorita Abella\n",
      "Liliana Flaiano\n"
     ]
    }
   ],
   "source": [
    "# step 1\n",
    "large_neo4j1 = 'MATCH (s:student) -[:is_enrolled]-> (c:course) WHERE c.courseID = \\'192\\' RETURN s.firstName, s.lastName'\n",
    "\n",
    "before = time.time()\n",
    "large_query1 = driver3.execute_query(large_neo4j1, database = 'neo4j')\n",
    "after = time.time()\n",
    "\n",
    "records = large_query1.records\n",
    "for record in records:\n",
    "    print(record.data()['s.firstName'], record.data()['s.lastName'],)"
   ]
  },
  {
   "cell_type": "code",
   "execution_count": 40,
   "id": "40e5d813",
   "metadata": {},
   "outputs": [],
   "source": [
    "# step 2\n",
    "msec_duration = (after - before) * 1000\n",
    "largeDict['query1'].append(round(msec_duration, 5))"
   ]
  },
  {
   "cell_type": "code",
   "execution_count": 41,
   "id": "61a2d37b",
   "metadata": {},
   "outputs": [],
   "source": [
    "# step 3\n",
    "for i in range(0, 30):\n",
    "    before = time.time()\n",
    "    driver3.execute_query(large_neo4j1, database = 'neo4j')\n",
    "    after = time.time()\n",
    "    msec_duration = (after - before) * 1000\n",
    "    largeDict['query1'].append(round(msec_duration, 5))"
   ]
  },
  {
   "cell_type": "markdown",
   "id": "88dfbdea",
   "metadata": {},
   "source": [
    "<h4>Query 2</h4>"
   ]
  },
  {
   "cell_type": "code",
   "execution_count": 43,
   "id": "bc744aff",
   "metadata": {},
   "outputs": [
    {
     "name": "stdout",
     "output_type": "stream",
     "text": [
      "Econometrics: Methods and Applications\n",
      "Exploratory Data Analysis\n",
      "Understanding Clinical Research: Behind the Statistics\n",
      "Introduction to Probability and Data with R\n",
      "Bayesian Statistics: From Concept to Data Analysis\n",
      "Introduction to Statistics\n",
      "Python and Statistics for Financial Analysis\n",
      "Basic Statistics\n",
      "Foundations: Data, Data, Everywhere\n"
     ]
    }
   ],
   "source": [
    "# step 1\n",
    "large_neo4j2 = 'MATCH(c:course) WHERE c.discipline = \\'statistics\\' AND c.courseYear = \\'2022\\' RETURN c.courseName'\n",
    "\n",
    "before = time.time()\n",
    "large_query2 = driver3.execute_query(large_neo4j2, database = 'neo4j')\n",
    "after = time.time()\n",
    "\n",
    "records = large_query2.records\n",
    "for record in records:\n",
    "    print(record.data()['c.courseName'])"
   ]
  },
  {
   "cell_type": "code",
   "execution_count": 44,
   "id": "f6a915e0",
   "metadata": {},
   "outputs": [],
   "source": [
    "# step 2\n",
    "msec_duration = (after - before) * 1000\n",
    "largeDict['query2'].append(round(msec_duration, 5))"
   ]
  },
  {
   "cell_type": "code",
   "execution_count": 45,
   "id": "2e287766",
   "metadata": {},
   "outputs": [],
   "source": [
    "# step 3\n",
    "for i in range(0, 30):\n",
    "    before = time.time()\n",
    "    driver3.execute_query(large_neo4j2, database = 'neo4j')\n",
    "    after = time.time()\n",
    "    msec_duration = (after - before) * 1000\n",
    "    largeDict['query2'].append(round(msec_duration, 5))"
   ]
  },
  {
   "cell_type": "markdown",
   "id": "74f326fe",
   "metadata": {},
   "source": [
    "<h4>Query 3</h4>"
   ]
  },
  {
   "cell_type": "code",
   "execution_count": 47,
   "id": "ee07fd2e",
   "metadata": {},
   "outputs": [
    {
     "name": "stdout",
     "output_type": "stream",
     "text": [
      "2628\n"
     ]
    }
   ],
   "source": [
    "# step 1\n",
    "large_neo4j3 = 'MATCH (c:course {discipline: \\'maths\\'}) <-[:is_enrolled]- (s:student) -[:studies]-> (m:material {mType: \\'lecture slides\\'}) <-[:uses]- (c:course) WHERE right(s.email, 9) = \\'gmail.com\\' RETURN COUNT(m);'\n",
    "\n",
    "before = time.time()\n",
    "large_query3 = driver3.execute_query(large_neo4j3, database = 'neo4j')\n",
    "after = time.time()\n",
    "\n",
    "records = large_query3.records\n",
    "for record in records:\n",
    "    print(record.data()['COUNT(m)'])"
   ]
  },
  {
   "cell_type": "code",
   "execution_count": 48,
   "id": "7b4b0b19",
   "metadata": {},
   "outputs": [],
   "source": [
    "# step 2\n",
    "msec_duration = (after - before) * 1000\n",
    "largeDict['query3'].append(round(msec_duration, 5))"
   ]
  },
  {
   "cell_type": "code",
   "execution_count": 49,
   "id": "3b309e76",
   "metadata": {},
   "outputs": [],
   "source": [
    "# step 3\n",
    "for i in range(0, 30):\n",
    "    before = time.time()\n",
    "    driver3.execute_query(large_neo4j3, database = 'neo4j')\n",
    "    after = time.time()\n",
    "    msec_duration = (after - before) * 1000\n",
    "    largeDict['query3'].append(round(msec_duration, 5))"
   ]
  },
  {
   "cell_type": "markdown",
   "id": "eb55ab91",
   "metadata": {},
   "source": [
    "<h4>Query 4</h4>"
   ]
  },
  {
   "cell_type": "code",
   "execution_count": 51,
   "id": "1ead5675",
   "metadata": {},
   "outputs": [
    {
     "name": "stdout",
     "output_type": "stream",
     "text": [
      "Tere Castells República Popular Democrática de Corea\n",
      "Ninthe Horrocks Noord-Korea\n",
      "Cathrine Lie South Korea\n",
      "Miguel Real República de Corea\n",
      "Lynda Reynolds Korea\n",
      "Raghav Sura North Korea\n"
     ]
    }
   ],
   "source": [
    "# step 1\n",
    "large_neo4j4 = 'MATCH (s:student) -[:is_enrolled]-> (c:course {discipline: \\'psychology\\'}) WHERE right(s.country, 4) = \\'orea\\' AND left(s.dob, 1) <> \\'2\\' RETURN DISTINCT s.firstName, s.lastName, s.country ORDER BY s.lastName;'\n",
    "\n",
    "before = time.time()\n",
    "large_query4 = driver3.execute_query(large_neo4j4, database = 'neo4j')\n",
    "after = time.time()\n",
    "\n",
    "records = large_query4.records\n",
    "for record in records:\n",
    "    print(record.data()['s.firstName'], record.data()['s.lastName'], record.data()['s.country'])"
   ]
  },
  {
   "cell_type": "code",
   "execution_count": 52,
   "id": "2ecc3f3a",
   "metadata": {},
   "outputs": [],
   "source": [
    "# step 2\n",
    "msec_duration = (after - before) * 1000\n",
    "largeDict['query4'].append(round(msec_duration, 5))"
   ]
  },
  {
   "cell_type": "code",
   "execution_count": 53,
   "id": "fedf3b76",
   "metadata": {},
   "outputs": [],
   "source": [
    "# step 3\n",
    "for i in range(0, 30):\n",
    "    before = time.time()\n",
    "    driver3.execute_query(large_neo4j4, database = 'neo4j')\n",
    "    after = time.time()\n",
    "    msec_duration = (after - before) * 1000\n",
    "    largeDict['query4'].append(round(msec_duration, 5))"
   ]
  },
  {
   "cell_type": "code",
   "execution_count": 55,
   "id": "22271e92",
   "metadata": {},
   "outputs": [
    {
     "data": {
      "text/plain": [
       "{'query1': [4215.55996, 23.35128],\n",
       " 'query2': [314.49819, 15.97649],\n",
       " 'query3': [1225.1122, 45.31332],\n",
       " 'query4': [434.03172, 15.21886]}"
      ]
     },
     "execution_count": 55,
     "metadata": {},
     "output_type": "execute_result"
    }
   ],
   "source": [
    "largeDataset = {'query1' : list(), 'query2' : list(), 'query3' : list(), 'query4' : list()}\n",
    "for key in largeDict:\n",
    "    largeDataset[key].append(largeDict[key][0])\n",
    "    mean30 = mean(largeDict[key][1 : 31])\n",
    "    largeDataset[key].append(round(mean30, 5))\n",
    "largeDataset"
   ]
  },
  {
   "cell_type": "code",
   "execution_count": null,
   "id": "0aa09653",
   "metadata": {},
   "outputs": [],
   "source": []
  },
  {
   "cell_type": "markdown",
   "id": "45dd3d92",
   "metadata": {},
   "source": [
    "<h3>Neo4j instance with 1m hashes</h3>"
   ]
  },
  {
   "cell_type": "markdown",
   "id": "4f34e36c",
   "metadata": {},
   "source": [
    "<h4>Query 1</h4>"
   ]
  },
  {
   "cell_type": "code",
   "execution_count": 56,
   "id": "eb4f28f3",
   "metadata": {},
   "outputs": [
    {
     "name": "stdout",
     "output_type": "stream",
     "text": [
      "Custodia Hidalgo\n",
      "Sarah Lara\n",
      "Narciso Ferrán\n",
      "Patrícia Leite\n",
      "Vigilija Gaižauskas\n",
      "Casandra Arenas\n",
      "Ledün Soylu\n",
      "Arthur Laroche\n",
      "Ana Narušis\n",
      "Nath Nicolas\n",
      "Émile Nicolas\n",
      "Cathrine Lie\n",
      "Ingeborg Amundsen\n",
      "Nedas Naujokas\n",
      "Christl Henschel\n",
      "Miguel Real\n",
      "Karl Christensen\n",
      "Joris Kavaliauskas\n",
      "Yuvaan Dara\n",
      "Débora Vaz\n",
      "Urvi Dani\n",
      "Collin Heerkens\n",
      "Özkutlu Gül\n",
      "Brian Thompson\n",
      "Dorita Abella\n",
      "Liliana Flaiano\n",
      "Finn Karlsen\n",
      "David Miranda\n",
      "Torsten Schulz\n",
      "Kristen Webb\n",
      "Shaan Raju\n",
      "Giuseppina Scarfoglio\n",
      "Mamen Teruel\n",
      "Eduardo Rezende\n",
      "Melania Savorgnan\n"
     ]
    }
   ],
   "source": [
    "# step 1\n",
    "humongous_neo4j1 = 'MATCH (s:student) -[:is_enrolled]-> (c:course) WHERE c.courseID = \\'192\\' RETURN s.firstName, s.lastName'\n",
    "\n",
    "before = time.time()\n",
    "humongous_query1 = driver4.execute_query(humongous_neo4j1, database = 'neo4j')\n",
    "after = time.time()\n",
    "\n",
    "records = humongous_query1.records\n",
    "for record in records:\n",
    "    print(record.data()['s.firstName'], record.data()['s.lastName'],)"
   ]
  },
  {
   "cell_type": "code",
   "execution_count": 57,
   "id": "dad1b6c5",
   "metadata": {},
   "outputs": [],
   "source": [
    "# step 2\n",
    "msec_duration = (after - before) * 1000\n",
    "humongousDict['query1'].append(round(msec_duration, 5))"
   ]
  },
  {
   "cell_type": "code",
   "execution_count": 58,
   "id": "d7c3cc80",
   "metadata": {},
   "outputs": [],
   "source": [
    "# step 3\n",
    "for i in range(0, 30):\n",
    "    before = time.time()\n",
    "    driver4.execute_query(humongous_neo4j1, database = 'neo4j')\n",
    "    after = time.time()\n",
    "    msec_duration = (after - before) * 1000\n",
    "    humongousDict['query1'].append(round(msec_duration, 5))"
   ]
  },
  {
   "cell_type": "markdown",
   "id": "bc543e9a",
   "metadata": {},
   "source": [
    "<h4>Query 2</h4>"
   ]
  },
  {
   "cell_type": "code",
   "execution_count": 60,
   "id": "eb3996d4",
   "metadata": {},
   "outputs": [
    {
     "name": "stdout",
     "output_type": "stream",
     "text": [
      "Econometrics: Methods and Applications\n",
      "Exploratory Data Analysis\n",
      "Understanding Clinical Research: Behind the Statistics\n",
      "Introduction to Probability and Data with R\n",
      "Bayesian Statistics: From Concept to Data Analysis\n",
      "Introduction to Statistics\n",
      "Python and Statistics for Financial Analysis\n",
      "Basic Statistics\n",
      "Foundations: Data, Data, Everywhere\n"
     ]
    }
   ],
   "source": [
    "# step 1\n",
    "humongous_neo4j2 = 'MATCH(c:course) WHERE c.discipline = \\'statistics\\' AND c.courseYear = \\'2022\\' RETURN c.courseName'\n",
    "\n",
    "before = time.time()\n",
    "humongous_query2 = driver4.execute_query(humongous_neo4j2, database = 'neo4j')\n",
    "after = time.time()\n",
    "\n",
    "records = humongous_query2.records\n",
    "for record in records:\n",
    "    print(record.data()['c.courseName'])"
   ]
  },
  {
   "cell_type": "code",
   "execution_count": 61,
   "id": "a3a72d82",
   "metadata": {},
   "outputs": [],
   "source": [
    "# step 2\n",
    "msec_duration = (after - before) * 1000\n",
    "humongousDict['query2'].append(round(msec_duration, 5))"
   ]
  },
  {
   "cell_type": "code",
   "execution_count": 62,
   "id": "ef7b94c8",
   "metadata": {},
   "outputs": [],
   "source": [
    "# step 3\n",
    "for i in range(0, 30):\n",
    "    before = time.time()\n",
    "    driver4.execute_query(humongous_neo4j2, database = 'neo4j')\n",
    "    after = time.time()\n",
    "    msec_duration = (after - before) * 1000\n",
    "    humongousDict['query2'].append(round(msec_duration, 5))"
   ]
  },
  {
   "cell_type": "markdown",
   "id": "307d8b83",
   "metadata": {},
   "source": [
    "<h4>Query 3</h4>"
   ]
  },
  {
   "cell_type": "code",
   "execution_count": 64,
   "id": "6582fc0c",
   "metadata": {},
   "outputs": [
    {
     "name": "stdout",
     "output_type": "stream",
     "text": [
      "3498\n"
     ]
    }
   ],
   "source": [
    "# step 1\n",
    "humongous_neo4j3 = 'MATCH (c:course {discipline: \\'maths\\'}) <-[:is_enrolled]- (s:student) -[:studies]-> (m:material {mType: \\'lecture slides\\'}) <-[:uses]- (c:course) WHERE right(s.email, 9) = \\'gmail.com\\' RETURN COUNT(m);'\n",
    "\n",
    "before = time.time()\n",
    "humongous_query3 = driver4.execute_query(humongous_neo4j3, database = 'neo4j')\n",
    "after = time.time()\n",
    "\n",
    "records = humongous_query3.records\n",
    "for record in records:\n",
    "    print(record.data()['COUNT(m)'])"
   ]
  },
  {
   "cell_type": "code",
   "execution_count": 65,
   "id": "af46a064",
   "metadata": {},
   "outputs": [],
   "source": [
    "# step 2\n",
    "msec_duration = (after - before) * 1000\n",
    "humongousDict['query3'].append(round(msec_duration, 5))"
   ]
  },
  {
   "cell_type": "code",
   "execution_count": 66,
   "id": "8d0520ba",
   "metadata": {},
   "outputs": [],
   "source": [
    "# step 3\n",
    "for i in range(0, 30):\n",
    "    before = time.time()\n",
    "    driver4.execute_query(humongous_neo4j3, database = 'neo4j')\n",
    "    after = time.time()\n",
    "    msec_duration = (after - before) * 1000\n",
    "    humongousDict['query3'].append(round(msec_duration, 5))"
   ]
  },
  {
   "cell_type": "markdown",
   "id": "34eec0d6",
   "metadata": {},
   "source": [
    "<h4>Query 4</h4>"
   ]
  },
  {
   "cell_type": "code",
   "execution_count": 68,
   "id": "ed27d20c",
   "metadata": {},
   "outputs": [
    {
     "name": "stdout",
     "output_type": "stream",
     "text": [
      "Tere Castells República Popular Democrática de Corea\n",
      "Leila Gailys Korea\n",
      "Ninthe Horrocks Noord-Korea\n",
      "Cathrine Lie South Korea\n",
      "Miguel Real República de Corea\n",
      "Lynda Reynolds Korea\n",
      "Debra Shaw Korea\n",
      "Raghav Sura North Korea\n"
     ]
    }
   ],
   "source": [
    "# step 1\n",
    "humongous_neo4j4 = 'MATCH (s:student) -[:is_enrolled]-> (c:course {discipline: \\'psychology\\'}) WHERE right(s.country, 4) = \\'orea\\' AND left(s.dob, 1) <> \\'2\\' RETURN DISTINCT s.firstName, s.lastName, s.country ORDER BY s.lastName;'\n",
    "\n",
    "before = time.time()\n",
    "humongous_query4 = driver4.execute_query(humongous_neo4j4, database = 'neo4j')\n",
    "after = time.time()\n",
    "\n",
    "records = humongous_query4.records\n",
    "for record in records:\n",
    "    print(record.data()['s.firstName'], record.data()['s.lastName'], record.data()['s.country'])"
   ]
  },
  {
   "cell_type": "code",
   "execution_count": 69,
   "id": "29c1c1d7",
   "metadata": {},
   "outputs": [],
   "source": [
    "# step 2\n",
    "msec_duration = (after - before) * 1000\n",
    "humongousDict['query4'].append(round(msec_duration, 5))"
   ]
  },
  {
   "cell_type": "code",
   "execution_count": 70,
   "id": "d4ba9577",
   "metadata": {},
   "outputs": [],
   "source": [
    "# step 3\n",
    "for i in range(0, 30):\n",
    "    before = time.time()\n",
    "    driver4.execute_query(humongous_neo4j4, database = 'neo4j')\n",
    "    after = time.time()\n",
    "    msec_duration = (after - before) * 1000\n",
    "    humongousDict['query4'].append(round(msec_duration, 5))"
   ]
  },
  {
   "cell_type": "code",
   "execution_count": 72,
   "id": "c734e9bf",
   "metadata": {},
   "outputs": [
    {
     "data": {
      "text/plain": [
       "{'query1': [5255.56993, 23.6992],\n",
       " 'query2': [338.23609, 16.86485],\n",
       " 'query3': [1648.39602, 128.11236],\n",
       " 'query4': [704.70405, 18.21342]}"
      ]
     },
     "execution_count": 72,
     "metadata": {},
     "output_type": "execute_result"
    }
   ],
   "source": [
    "humongousDataset = {'query1' : list(), 'query2' : list(), 'query3' : list(), 'query4' : list()}\n",
    "for key in humongousDict:\n",
    "    humongousDataset[key].append(humongousDict[key][0])\n",
    "    mean30 = mean(humongousDict[key][1 : 31])\n",
    "    humongousDataset[key].append(round(mean30, 5))\n",
    "humongousDataset"
   ]
  },
  {
   "cell_type": "code",
   "execution_count": 73,
   "id": "723f0933",
   "metadata": {},
   "outputs": [],
   "source": [
    "with open('neo4j_tests.csv', 'w', newline = '') as neo4j_tests:\n",
    "    writer = csv.writer(neo4j_tests, delimiter = ',')\n",
    "    keys = smallDict.keys()\n",
    "    limit = len(smallDict['query1'])\n",
    "    \n",
    "    writer.writerow(keys)\n",
    "    writer.writerow('s') # s stands for small dataset\n",
    "    for i in range(0, limit):\n",
    "        writer.writerow(smallDict[k][i] for k in keys)\n",
    "    writer.writerow('m')  # m stands for medium dataset\n",
    "    for i in range(0, limit):\n",
    "        writer.writerow(mediumDict[k][i] for k in keys)\n",
    "    writer.writerow('l') # l stands for large dataset\n",
    "    for i in range(0, limit):\n",
    "        writer.writerow(largeDict[k][i] for k in keys)\n",
    "    writer.writerow('h') # h stands for humongous dataset\n",
    "    for i in range(0, limit):\n",
    "        writer.writerow(humongousDict[k][i] for k in keys)"
   ]
  },
  {
   "cell_type": "code",
   "execution_count": null,
   "id": "3a023f7b",
   "metadata": {},
   "outputs": [],
   "source": []
  }
 ],
 "metadata": {
  "kernelspec": {
   "display_name": "Python 3 (ipykernel)",
   "language": "python",
   "name": "python3"
  },
  "language_info": {
   "codemirror_mode": {
    "name": "ipython",
    "version": 3
   },
   "file_extension": ".py",
   "mimetype": "text/x-python",
   "name": "python",
   "nbconvert_exporter": "python",
   "pygments_lexer": "ipython3",
   "version": "3.10.8"
  }
 },
 "nbformat": 4,
 "nbformat_minor": 5
}

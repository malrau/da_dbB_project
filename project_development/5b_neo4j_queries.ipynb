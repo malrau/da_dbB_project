{
 "cells": [
  {
   "cell_type": "markdown",
   "id": "b658c051",
   "metadata": {},
   "source": [
    "<center>\n",
    "    <h2>Online learning platform database - Neo4j</h2>\n",
    "    <h3>Performing the queries and storing the queries execution time</h3>\n",
    "</center>"
   ]
  },
  {
   "cell_type": "markdown",
   "id": "f544d0b6",
   "metadata": {},
   "source": [
    "<h3>Python - Neo4j interaction</h3>"
   ]
  },
  {
   "cell_type": "markdown",
   "id": "80cf09d3",
   "metadata": {},
   "source": [
    "Prior to performing the queries, I import the required modules (the <i>Neo4j</i> Python driver and the <i>time</i> and <i>csv</i> modules) and set four driver objects to which I pass the parameters to establish a connection to each of the four Neo4j instances running in Docker."
   ]
  },
  {
   "cell_type": "code",
   "execution_count": null,
   "id": "60fe747b",
   "metadata": {},
   "outputs": [],
   "source": [
    "# import modules\n",
    "from neo4j import GraphDatabase     # Neo4j driver\n",
    "import time                         # time-related functions to register query execution times\n",
    "import csv                          # read and write csv files\n",
    "\n",
    "# create driver object\n",
    "driver = GraphDatabase.driver(uri = 'neo4j://127.0.0.1:7687', auth = ('neo4j', 'myPassword'))\n",
    "driver2 = GraphDatabase.driver(uri = 'neo4j://127.0.0.1:7692', auth = ('neo4j', 'myPassword'))\n",
    "driver3 = GraphDatabase.driver(uri = 'neo4j://127.0.0.1:7693', auth = ('neo4j', 'myPassword'))\n",
    "driver4 = GraphDatabase.driver(uri = 'neo4j://127.0.0.1:7694', auth = ('neo4j', 'myPassword'))"
   ]
  },
  {
   "cell_type": "markdown",
   "id": "24ad76a4",
   "metadata": {},
   "source": [
    "<h3>Query the Neo4j instances</h3>"
   ]
  },
  {
   "cell_type": "markdown",
   "id": "2f459600",
   "metadata": {},
   "source": [
    "I create a dictionary of lists for each of the four Neo4j instances. In these dictionaries the keys are the query names and the values are the 31 query execution times: in fact I attach the value of the query execution time of the most recent query to the list. Since query execution times are required in milliseconds, prior to attaching them, I multiply them by 1000 and round them to the fifth decimal precision.\n",
    "As previously explained, the above summarized actions (for each of the four queries on each of the four instances) are performed by following a standard succession of steps. Each step is encapsulated within a notebook cell (so each query is performed 31 times by using three notebook cells), as follows:\n",
    " - step 1: define the query as a string and pass it together with the <code>database</code> parameter to the <code>execute_query()</code> method of the driver object, while contextually registering the time before and after the query execution. Finally print query results;\n",
    " - step 2: compute execution time of the first query execution and store it within the corresponding dictionary list;\n",
    " - step 3: [thirty times] perform query execution while creating prior and following timestamps, compute execution time and store it within the corresponding dictionary list.\n",
    "\n",
    "For each Neo4j instance, after having performed the four queries, I will finally compute the mean of the query executions from step 3. Together with the first query execution, this mean value will be stored into a new dictionary, specific to a dataset. Originally, I would use these four new dictionaries to save the query execution times into a csv file for constructing histograms. I later resolved to save all the 31 recorded query execution times and pass them all to Microsoft© Excel to process them.\n",
    "\n",
    "N.B.:\n",
    "Contrary to what has been introduced when presenting the methodologies used for accessing and querying Neo4j, since I don't need to use the information contained in the <i>summary</i> object to get the query execution time, I am only interested in the query result records for showing them. I can use dot notation on the query object to access the query records (a query object has a <code>records</code> attribute). I could use the index <code>0</code> on the query object since the records are the first element in a list. By iterating on the records object and applying the <code>data()</code> method during iteration I can turn the records elements into key-value pairs (a dictionary, actually)."
   ]
  },
  {
   "cell_type": "code",
   "execution_count": 89,
   "id": "55d81a38",
   "metadata": {},
   "outputs": [],
   "source": [
    "smallDict = {'query1' : list(), 'query2' : list(), 'query3' : list(), 'query4' : list()}\n",
    "mediumDict = {'query1' : list(), 'query2' : list(), 'query3' : list(), 'query4' : list()}\n",
    "largeDict = {'query1' : list(), 'query2' : list(), 'query3' : list(), 'query4' : list()}\n",
    "humongousDict = {'query1' : list(), 'query2' : list(), 'query3' : list(), 'query4' : list()}"
   ]
  },
  {
   "cell_type": "code",
   "execution_count": 81,
   "id": "dca39b88",
   "metadata": {},
   "outputs": [],
   "source": [
    "# mean function\n",
    "def mean(aList):\n",
    "    n = len(aList)\n",
    "    sum = 0\n",
    "    for value in aList:\n",
    "        sum += value\n",
    "    return sum / n"
   ]
  },
  {
   "cell_type": "markdown",
   "id": "1e8f5b17",
   "metadata": {},
   "source": [
    "<h3>Neo4j instance with 250k hashes</h3>"
   ]
  },
  {
   "cell_type": "markdown",
   "id": "454c7f01",
   "metadata": {},
   "source": [
    "I start with the smallest Neo4j instance."
   ]
  },
  {
   "cell_type": "markdown",
   "id": "2d57c06e",
   "metadata": {},
   "source": [
    "<h4>Query 1</h4>"
   ]
  },
  {
   "cell_type": "code",
   "execution_count": 98,
   "id": "53e8e790",
   "metadata": {},
   "outputs": [
    {
     "name": "stdout",
     "output_type": "stream",
     "text": [
      "Custodia Hidalgo\n",
      "Ledün Soylu\n",
      "Nath Nicolas\n",
      "Ana Narušis\n",
      "Émile Nicolas\n",
      "Sarah Lara\n",
      "Patrícia Leite\n",
      "Cathrine Lie\n",
      "Arthur Laroche\n",
      "Casandra Arenas\n",
      "Narciso Ferrán\n",
      "Vigilija Gaižauskas\n",
      "Ingeborg Amundsen\n"
     ]
    }
   ],
   "source": [
    "# step 1\n",
    "small_neo4j1 = 'MATCH (s:student) -[:is_enrolled]-> (c:course) WHERE c.courseID = \\'192\\' RETURN s.firstName, s.lastName'\n",
    "\n",
    "before = time.time()\n",
    "small_query1 = driver.execute_query(small_neo4j1, database = 'neo4j')\n",
    "after = time.time()\n",
    "\n",
    "records = small_query1.records\n",
    "for record in records:\n",
    "    print(record.data()['s.firstName'], record.data()['s.lastName'],)"
   ]
  },
  {
   "cell_type": "code",
   "execution_count": 91,
   "id": "0693cfea",
   "metadata": {},
   "outputs": [],
   "source": [
    "# step 2\n",
    "msec_duration = (after - before) * 1000\n",
    "smallDict['query1'].append(round(msec_duration, 5))"
   ]
  },
  {
   "cell_type": "code",
   "execution_count": 92,
   "id": "aa03f818",
   "metadata": {},
   "outputs": [],
   "source": [
    "# step 3\n",
    "for i in range(0, 30):\n",
    "    before = time.time()\n",
    "    driver.execute_query(small_neo4j1, database = 'neo4j')\n",
    "    after = time.time()\n",
    "    msec_duration = (after - before) * 1000\n",
    "    smallDict['query1'].append(round(msec_duration, 5))"
   ]
  },
  {
   "cell_type": "code",
   "execution_count": 93,
   "id": "8dbc27cf",
   "metadata": {},
   "outputs": [
    {
     "data": {
      "text/plain": [
       "{'query1': [52.85406,\n",
       "  16.70313,\n",
       "  15.98001,\n",
       "  27.03428,\n",
       "  13.44514,\n",
       "  11.38997,\n",
       "  9.08017,\n",
       "  9.57918,\n",
       "  9.8598,\n",
       "  12.26807,\n",
       "  9.75084,\n",
       "  20.99299,\n",
       "  9.52601,\n",
       "  7.74121,\n",
       "  10.12492,\n",
       "  8.45695,\n",
       "  8.03399,\n",
       "  7.53999,\n",
       "  11.73592,\n",
       "  10.29992,\n",
       "  8.84414,\n",
       "  11.32393,\n",
       "  8.93307,\n",
       "  8.61502,\n",
       "  9.1269,\n",
       "  8.71205,\n",
       "  8.27789,\n",
       "  7.74813,\n",
       "  8.43811,\n",
       "  8.33821,\n",
       "  8.35586],\n",
       " 'query2': [],\n",
       " 'query3': [],\n",
       " 'query4': []}"
      ]
     },
     "execution_count": 93,
     "metadata": {},
     "output_type": "execute_result"
    }
   ],
   "source": [
    "smallDict"
   ]
  },
  {
   "cell_type": "markdown",
   "id": "3b169889",
   "metadata": {},
   "source": [
    "<h4>Query 2</h4>"
   ]
  },
  {
   "cell_type": "code",
   "execution_count": 94,
   "id": "3db2beed",
   "metadata": {},
   "outputs": [
    {
     "name": "stdout",
     "output_type": "stream",
     "text": [
      "Econometrics: Methods and Applications\n",
      "Exploratory Data Analysis\n",
      "Understanding Clinical Research: Behind the Statistics\n",
      "Introduction to Probability and Data with R\n",
      "Bayesian Statistics: From Concept to Data Analysis\n",
      "Introduction to Statistics\n",
      "Python and Statistics for Financial Analysis\n",
      "Basic Statistics\n",
      "Foundations: Data, Data, Everywhere\n"
     ]
    }
   ],
   "source": [
    "# step 1\n",
    "small_neo4j2 = 'MATCH(c:course) WHERE c.discipline = \\'statistics\\' AND c.courseYear = \\'2022\\' RETURN c.courseName'\n",
    "\n",
    "before = time.time()\n",
    "small_query2 = driver.execute_query(small_neo4j2, database = 'neo4j')\n",
    "after = time.time()\n",
    "\n",
    "records = small_query2.records\n",
    "for record in records:\n",
    "    print(record.data()['c.courseName'])"
   ]
  },
  {
   "cell_type": "code",
   "execution_count": 95,
   "id": "b2a9784c",
   "metadata": {},
   "outputs": [],
   "source": [
    "# step 2\n",
    "msec_duration = (after - before) * 1000\n",
    "smallDict['query2'].append(round(msec_duration, 5))"
   ]
  },
  {
   "cell_type": "code",
   "execution_count": 96,
   "id": "fcacdedf",
   "metadata": {},
   "outputs": [],
   "source": [
    "# step 3\n",
    "for i in range(0, 30):\n",
    "    before = time.time()\n",
    "    driver.execute_query(small_neo4j2, database = 'neo4j')\n",
    "    after = time.time()\n",
    "    msec_duration = (after - before) * 1000\n",
    "    smallDict['query2'].append(round(msec_duration, 5))"
   ]
  },
  {
   "cell_type": "code",
   "execution_count": 97,
   "id": "0270ad1f",
   "metadata": {},
   "outputs": [
    {
     "data": {
      "text/plain": [
       "{'query1': [52.85406,\n",
       "  16.70313,\n",
       "  15.98001,\n",
       "  27.03428,\n",
       "  13.44514,\n",
       "  11.38997,\n",
       "  9.08017,\n",
       "  9.57918,\n",
       "  9.8598,\n",
       "  12.26807,\n",
       "  9.75084,\n",
       "  20.99299,\n",
       "  9.52601,\n",
       "  7.74121,\n",
       "  10.12492,\n",
       "  8.45695,\n",
       "  8.03399,\n",
       "  7.53999,\n",
       "  11.73592,\n",
       "  10.29992,\n",
       "  8.84414,\n",
       "  11.32393,\n",
       "  8.93307,\n",
       "  8.61502,\n",
       "  9.1269,\n",
       "  8.71205,\n",
       "  8.27789,\n",
       "  7.74813,\n",
       "  8.43811,\n",
       "  8.33821,\n",
       "  8.35586],\n",
       " 'query2': [21.36397,\n",
       "  20.07294,\n",
       "  17.77291,\n",
       "  19.6979,\n",
       "  15.54513,\n",
       "  10.71,\n",
       "  9.23896,\n",
       "  8.56018,\n",
       "  7.73001,\n",
       "  14.97197,\n",
       "  8.28695,\n",
       "  8.30197,\n",
       "  8.69179,\n",
       "  8.27003,\n",
       "  9.57799,\n",
       "  9.25684,\n",
       "  8.80218,\n",
       "  8.51989,\n",
       "  8.219,\n",
       "  8.1172,\n",
       "  8.06403,\n",
       "  8.61907,\n",
       "  7.99108,\n",
       "  8.00729,\n",
       "  9.07397,\n",
       "  8.40282,\n",
       "  8.18586,\n",
       "  9.42898,\n",
       "  8.66604,\n",
       "  8.11815,\n",
       "  7.586],\n",
       " 'query3': [],\n",
       " 'query4': []}"
      ]
     },
     "execution_count": 97,
     "metadata": {},
     "output_type": "execute_result"
    }
   ],
   "source": [
    "smallDict"
   ]
  },
  {
   "cell_type": "markdown",
   "id": "e9bd2a85",
   "metadata": {},
   "source": [
    "<h4>Query 3</h4>"
   ]
  },
  {
   "cell_type": "code",
   "execution_count": 107,
   "id": "71f2244b",
   "metadata": {},
   "outputs": [
    {
     "name": "stdout",
     "output_type": "stream",
     "text": [
      "838\n"
     ]
    }
   ],
   "source": [
    "# step 1\n",
    "small_neo4j3 = 'MATCH (c:course {discipline: \\'maths\\'}) <-[:is_enrolled]- (s:student) -[:studies]-> (m:material {mType: \\'lecture slides\\'}) <-[:uses]- (c:course) WHERE right(s.email, 9) = \\'gmail.com\\' RETURN COUNT(m);'\n",
    "\n",
    "before = time.time()\n",
    "small_query3 = driver.execute_query(small_neo4j3, database = 'neo4j')\n",
    "after = time.time()\n",
    "\n",
    "records = small_query3.records\n",
    "for record in records:\n",
    "    print(record.data()['COUNT(m)'])"
   ]
  },
  {
   "cell_type": "code",
   "execution_count": 108,
   "id": "3868bafa",
   "metadata": {},
   "outputs": [],
   "source": [
    "# step 2\n",
    "msec_duration = (after - before) * 1000\n",
    "smallDict['query3'].append(round(msec_duration, 5))"
   ]
  },
  {
   "cell_type": "code",
   "execution_count": 109,
   "id": "45889ee9",
   "metadata": {},
   "outputs": [],
   "source": [
    "# step 3\n",
    "for i in range(0, 30):\n",
    "    before = time.time()\n",
    "    driver.execute_query(small_neo4j3, database = 'neo4j')\n",
    "    after = time.time()\n",
    "    msec_duration = (after - before) * 1000\n",
    "    smallDict['query3'].append(round(msec_duration, 5))"
   ]
  },
  {
   "cell_type": "code",
   "execution_count": null,
   "id": "16520e99",
   "metadata": {},
   "outputs": [],
   "source": []
  },
  {
   "cell_type": "markdown",
   "id": "381bb5d4",
   "metadata": {},
   "source": [
    "<h4>Query 4</h4>"
   ]
  },
  {
   "cell_type": "code",
   "execution_count": 103,
   "id": "4a4a6b43",
   "metadata": {},
   "outputs": [
    {
     "name": "stdout",
     "output_type": "stream",
     "text": [
      "Cathrine Lie South Korea\n",
      "Lynda Reynolds Korea\n",
      "Raghav Sura North Korea\n"
     ]
    }
   ],
   "source": [
    "# step 1\n",
    "small_neo4j4 = 'MATCH (s:student) -[:is_enrolled]-> (c:course {discipline: \\'psychology\\'}) WHERE right(s.country, 4) = \\'orea\\' AND left(s.dob, 1) <> \\'2\\' RETURN DISTINCT s.firstName, s.lastName, s.country ORDER BY s.lastName;'\n",
    "\n",
    "before = time.time()\n",
    "small_query4 = driver.execute_query(small_neo4j4, database = 'neo4j')\n",
    "after = time.time()\n",
    "\n",
    "records = small_query4.records\n",
    "for record in records:\n",
    "    print(record.data()['s.firstName'], record.data()['s.lastName'], record.data()['s.country'])"
   ]
  },
  {
   "cell_type": "code",
   "execution_count": 104,
   "id": "bbe98c4d",
   "metadata": {},
   "outputs": [],
   "source": [
    "# step 2\n",
    "msec_duration = (after - before) * 1000\n",
    "smallDict['query4'].append(round(msec_duration, 5))"
   ]
  },
  {
   "cell_type": "code",
   "execution_count": 105,
   "id": "fe0403e3",
   "metadata": {},
   "outputs": [],
   "source": [
    "# step 3\n",
    "for i in range(0, 30):\n",
    "    before = time.time()\n",
    "    driver.execute_query(small_neo4j4, database = 'neo4j')\n",
    "    after = time.time()\n",
    "    msec_duration = (after - before) * 1000\n",
    "    smallDict['query4'].append(round(msec_duration, 5))"
   ]
  },
  {
   "cell_type": "code",
   "execution_count": 110,
   "id": "007c8a95",
   "metadata": {},
   "outputs": [
    {
     "data": {
      "text/plain": [
       "{'query1': [52.85406,\n",
       "  16.70313,\n",
       "  15.98001,\n",
       "  27.03428,\n",
       "  13.44514,\n",
       "  11.38997,\n",
       "  9.08017,\n",
       "  9.57918,\n",
       "  9.8598,\n",
       "  12.26807,\n",
       "  9.75084,\n",
       "  20.99299,\n",
       "  9.52601,\n",
       "  7.74121,\n",
       "  10.12492,\n",
       "  8.45695,\n",
       "  8.03399,\n",
       "  7.53999,\n",
       "  11.73592,\n",
       "  10.29992,\n",
       "  8.84414,\n",
       "  11.32393,\n",
       "  8.93307,\n",
       "  8.61502,\n",
       "  9.1269,\n",
       "  8.71205,\n",
       "  8.27789,\n",
       "  7.74813,\n",
       "  8.43811,\n",
       "  8.33821,\n",
       "  8.35586],\n",
       " 'query2': [21.36397,\n",
       "  20.07294,\n",
       "  17.77291,\n",
       "  19.6979,\n",
       "  15.54513,\n",
       "  10.71,\n",
       "  9.23896,\n",
       "  8.56018,\n",
       "  7.73001,\n",
       "  14.97197,\n",
       "  8.28695,\n",
       "  8.30197,\n",
       "  8.69179,\n",
       "  8.27003,\n",
       "  9.57799,\n",
       "  9.25684,\n",
       "  8.80218,\n",
       "  8.51989,\n",
       "  8.219,\n",
       "  8.1172,\n",
       "  8.06403,\n",
       "  8.61907,\n",
       "  7.99108,\n",
       "  8.00729,\n",
       "  9.07397,\n",
       "  8.40282,\n",
       "  8.18586,\n",
       "  9.42898,\n",
       "  8.66604,\n",
       "  8.11815,\n",
       "  7.586],\n",
       " 'query3': [97.00489,\n",
       "  47.47319,\n",
       "  55.26805,\n",
       "  30.30396,\n",
       "  18.94617,\n",
       "  25.069,\n",
       "  22.98999,\n",
       "  15.56993,\n",
       "  15.136,\n",
       "  18.32294,\n",
       "  26.66402,\n",
       "  20.37597,\n",
       "  15.25402,\n",
       "  14.50014,\n",
       "  12.85505,\n",
       "  15.02204,\n",
       "  20.55216,\n",
       "  15.50817,\n",
       "  12.85481,\n",
       "  33.4599,\n",
       "  13.94987,\n",
       "  14.82797,\n",
       "  15.23304,\n",
       "  14.69588,\n",
       "  15.18321,\n",
       "  14.76026,\n",
       "  16.59393,\n",
       "  14.36305,\n",
       "  19.75012,\n",
       "  15.52296,\n",
       "  15.81287],\n",
       " 'query4': [78.55892,\n",
       "  20.46394,\n",
       "  19.66381,\n",
       "  25.74897,\n",
       "  18.43596,\n",
       "  19.9492,\n",
       "  12.85505,\n",
       "  14.61029,\n",
       "  14.35089,\n",
       "  12.13312,\n",
       "  14.50396,\n",
       "  14.31394,\n",
       "  13.23891,\n",
       "  12.30478,\n",
       "  13.62205,\n",
       "  13.0198,\n",
       "  15.1732,\n",
       "  11.19018,\n",
       "  17.62295,\n",
       "  12.28595,\n",
       "  11.62291,\n",
       "  9.85289,\n",
       "  9.49597,\n",
       "  10.61392,\n",
       "  10.04386,\n",
       "  11.31296,\n",
       "  9.38821,\n",
       "  10.44893,\n",
       "  9.09424,\n",
       "  8.09908,\n",
       "  8.45313]}"
      ]
     },
     "execution_count": 110,
     "metadata": {},
     "output_type": "execute_result"
    }
   ],
   "source": [
    "smallDict"
   ]
  },
  {
   "cell_type": "code",
   "execution_count": null,
   "id": "2f315638",
   "metadata": {},
   "outputs": [],
   "source": []
  }
 ],
 "metadata": {
  "kernelspec": {
   "display_name": "Python 3 (ipykernel)",
   "language": "python",
   "name": "python3"
  },
  "language_info": {
   "codemirror_mode": {
    "name": "ipython",
    "version": 3
   },
   "file_extension": ".py",
   "mimetype": "text/x-python",
   "name": "python",
   "nbconvert_exporter": "python",
   "pygments_lexer": "ipython3",
   "version": "3.10.8"
  }
 },
 "nbformat": 4,
 "nbformat_minor": 5
}

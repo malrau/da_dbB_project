{
 "cells": [
  {
   "cell_type": "markdown",
   "id": "b658c051",
   "metadata": {},
   "source": [
    "<center>\n",
    "    <h2>Online learning platform database - Neo4j</h2>\n",
    "    <h3>Performing the queries and storing the queries execution time</h3>\n",
    "</center>"
   ]
  },
  {
   "cell_type": "markdown",
   "id": "f544d0b6",
   "metadata": {},
   "source": [
    "<h3>Python - Neo4j interaction</h3>"
   ]
  },
  {
   "cell_type": "markdown",
   "id": "80cf09d3",
   "metadata": {},
   "source": [
    "Prior to performing the queries, I import the required modules (the <i>Neo4j</i> Python driver and the <i>time</i> and <i>csv</i> modules) and set four driver objects to which I pass the parameters to establish a connection to each of the four Neo4j instances running in Docker."
   ]
  },
  {
   "cell_type": "code",
   "execution_count": 1,
   "id": "60fe747b",
   "metadata": {},
   "outputs": [],
   "source": [
    "# import modules\n",
    "from neo4j import GraphDatabase     # Neo4j driver\n",
    "import time                         # time-related functions to register query execution times\n",
    "import csv                          # read and write csv files\n",
    "\n",
    "# create driver object\n",
    "driver = GraphDatabase.driver(uri = 'neo4j://127.0.0.1:7687', auth = ('neo4j', 'myPassword'))\n",
    "driver2 = GraphDatabase.driver(uri = 'neo4j://127.0.0.1:7692', auth = ('neo4j', 'myPassword'))\n",
    "driver3 = GraphDatabase.driver(uri = 'neo4j://127.0.0.1:7693', auth = ('neo4j', 'myPassword'))\n",
    "driver4 = GraphDatabase.driver(uri = 'neo4j://127.0.0.1:7694', auth = ('neo4j', 'myPassword'))"
   ]
  },
  {
   "cell_type": "markdown",
   "id": "24ad76a4",
   "metadata": {},
   "source": [
    "<h3>Query the Neo4j instances</h3>"
   ]
  },
  {
   "cell_type": "markdown",
   "id": "2f459600",
   "metadata": {},
   "source": [
    "I create a dictionary of lists for each of the four Neo4j instances. In these dictionaries the keys are the query names and the values are the 31 query execution times: in fact I attach the value of the query execution time of the most recent query to the list. Since query execution times are required in milliseconds, prior to attaching them, I multiply them by 1000 and round them to the fifth decimal precision.\n",
    "As previously explained, the above summarized actions (for each of the four queries on each of the four instances) are performed by following a standard succession of steps. Each step is encapsulated within a notebook cell (so each query is performed 31 times by using three notebook cells), as follows:\n",
    " - step 1: define the query as a string and pass it together with the <code>database</code> parameter to the <code>execute_query()</code> method of the driver object, while contextually registering the time before and after the query execution. Finally print query results;\n",
    " - step 2: compute execution time of the first query execution and store it within the corresponding dictionary list;\n",
    " - step 3: [thirty times] perform query execution while creating prior and following timestamps, compute execution time and store it within the corresponding dictionary list.\n",
    "\n",
    "For each Neo4j instance, after having performed the four queries, I will finally compute the mean of the query executions from step 3. Together with the first query execution, this mean value will be stored into a new dictionary, specific to a dataset. Originally, I would use these four new dictionaries to save the query execution times into a csv file for constructing histograms. I later resolved to save all the 31 recorded query execution times and pass them all to Microsoft© Excel to process them.\n",
    "\n",
    "N.B.:\n",
    "Contrary to what has been introduced when presenting the methodologies used for accessing and querying Neo4j, since I don't need to use the information contained in the <i>summary</i> object to get the query execution time, I am only interested in the query result records for showing them. I can use dot notation on the query object to access the query records (a query object has a <code>records</code> attribute). I could use the index <code>0</code> on the query object since the records are the first element in a list. By iterating on the records object and applying the <code>data()</code> method during iteration I can turn the records elements into key-value pairs (a dictionary, actually)."
   ]
  },
  {
   "cell_type": "code",
   "execution_count": 2,
   "id": "55d81a38",
   "metadata": {},
   "outputs": [],
   "source": [
    "smallDict = {'query1' : list(), 'query2' : list(), 'query3' : list(), 'query4' : list()}\n",
    "mediumDict = {'query1' : list(), 'query2' : list(), 'query3' : list(), 'query4' : list()}\n",
    "largeDict = {'query1' : list(), 'query2' : list(), 'query3' : list(), 'query4' : list()}\n",
    "humongousDict = {'query1' : list(), 'query2' : list(), 'query3' : list(), 'query4' : list()}"
   ]
  },
  {
   "cell_type": "code",
   "execution_count": 3,
   "id": "dca39b88",
   "metadata": {},
   "outputs": [],
   "source": [
    "# mean function\n",
    "def mean(aList):\n",
    "    n = len(aList)\n",
    "    sum = 0\n",
    "    for value in aList:\n",
    "        sum += value\n",
    "    return sum / n"
   ]
  },
  {
   "cell_type": "markdown",
   "id": "1e8f5b17",
   "metadata": {},
   "source": [
    "<h3>Neo4j instance with 250k hashes</h3>"
   ]
  },
  {
   "cell_type": "markdown",
   "id": "454c7f01",
   "metadata": {},
   "source": [
    "I start with the smallest Neo4j instance."
   ]
  },
  {
   "cell_type": "markdown",
   "id": "2d57c06e",
   "metadata": {},
   "source": [
    "<h4>Query 1</h4>"
   ]
  },
  {
   "cell_type": "code",
   "execution_count": 5,
   "id": "53e8e790",
   "metadata": {},
   "outputs": [
    {
     "name": "stdout",
     "output_type": "stream",
     "text": [
      "Custodia Hidalgo\n",
      "Ledün Soylu\n",
      "Nath Nicolas\n",
      "Ana Narušis\n",
      "Émile Nicolas\n",
      "Sarah Lara\n",
      "Patrícia Leite\n",
      "Cathrine Lie\n",
      "Arthur Laroche\n",
      "Casandra Arenas\n",
      "Narciso Ferrán\n",
      "Vigilija Gaižauskas\n",
      "Ingeborg Amundsen\n"
     ]
    }
   ],
   "source": [
    "# step 1\n",
    "small_neo4j1 = 'MATCH (s:student) -[:is_enrolled]-> (c:course) WHERE c.courseID = \\'192\\' RETURN s.firstName, s.lastName'\n",
    "\n",
    "before = time.time()\n",
    "small_query1 = driver.execute_query(small_neo4j1, database = 'neo4j')\n",
    "after = time.time()\n",
    "\n",
    "records = small_query1.records\n",
    "for record in records:\n",
    "    print(record.data()['s.firstName'], record.data()['s.lastName'],)"
   ]
  },
  {
   "cell_type": "code",
   "execution_count": 6,
   "id": "0693cfea",
   "metadata": {},
   "outputs": [],
   "source": [
    "# step 2\n",
    "msec_duration = (after - before) * 1000\n",
    "smallDict['query1'].append(round(msec_duration, 5))"
   ]
  },
  {
   "cell_type": "code",
   "execution_count": 7,
   "id": "aa03f818",
   "metadata": {},
   "outputs": [],
   "source": [
    "# step 3\n",
    "for i in range(0, 30):\n",
    "    before = time.time()\n",
    "    driver.execute_query(small_neo4j1, database = 'neo4j')\n",
    "    after = time.time()\n",
    "    msec_duration = (after - before) * 1000\n",
    "    smallDict['query1'].append(round(msec_duration, 5))"
   ]
  },
  {
   "cell_type": "code",
   "execution_count": 8,
   "id": "8dbc27cf",
   "metadata": {},
   "outputs": [
    {
     "data": {
      "text/plain": [
       "{'query1': [5489.99786,\n",
       "  61.99098,\n",
       "  39.325,\n",
       "  47.12009,\n",
       "  42.66763,\n",
       "  27.58408,\n",
       "  25.22206,\n",
       "  23.50092,\n",
       "  27.25601,\n",
       "  22.06802,\n",
       "  34.74927,\n",
       "  19.09304,\n",
       "  18.48698,\n",
       "  17.29774,\n",
       "  22.18509,\n",
       "  20.05482,\n",
       "  24.37592,\n",
       "  18.41187,\n",
       "  19.12689,\n",
       "  19.3522,\n",
       "  17.71808,\n",
       "  16.66713,\n",
       "  14.21213,\n",
       "  15.78188,\n",
       "  17.79509,\n",
       "  20.87688,\n",
       "  18.40186,\n",
       "  21.54493,\n",
       "  24.38712,\n",
       "  19.82117,\n",
       "  19.15503],\n",
       " 'query2': [],\n",
       " 'query3': [],\n",
       " 'query4': []}"
      ]
     },
     "execution_count": 8,
     "metadata": {},
     "output_type": "execute_result"
    }
   ],
   "source": [
    "smallDict"
   ]
  },
  {
   "cell_type": "markdown",
   "id": "3b169889",
   "metadata": {},
   "source": [
    "<h4>Query 2</h4>"
   ]
  },
  {
   "cell_type": "code",
   "execution_count": 9,
   "id": "3db2beed",
   "metadata": {},
   "outputs": [
    {
     "name": "stdout",
     "output_type": "stream",
     "text": [
      "Econometrics: Methods and Applications\n",
      "Exploratory Data Analysis\n",
      "Understanding Clinical Research: Behind the Statistics\n",
      "Introduction to Probability and Data with R\n",
      "Bayesian Statistics: From Concept to Data Analysis\n",
      "Introduction to Statistics\n",
      "Python and Statistics for Financial Analysis\n",
      "Basic Statistics\n",
      "Foundations: Data, Data, Everywhere\n"
     ]
    }
   ],
   "source": [
    "# step 1\n",
    "small_neo4j2 = 'MATCH(c:course) WHERE c.discipline = \\'statistics\\' AND c.courseYear = \\'2022\\' RETURN c.courseName'\n",
    "\n",
    "before = time.time()\n",
    "small_query2 = driver.execute_query(small_neo4j2, database = 'neo4j')\n",
    "after = time.time()\n",
    "\n",
    "records = small_query2.records\n",
    "for record in records:\n",
    "    print(record.data()['c.courseName'])"
   ]
  },
  {
   "cell_type": "code",
   "execution_count": 10,
   "id": "b2a9784c",
   "metadata": {},
   "outputs": [],
   "source": [
    "# step 2\n",
    "msec_duration = (after - before) * 1000\n",
    "smallDict['query2'].append(round(msec_duration, 5))"
   ]
  },
  {
   "cell_type": "code",
   "execution_count": 11,
   "id": "fcacdedf",
   "metadata": {},
   "outputs": [],
   "source": [
    "# step 3\n",
    "for i in range(0, 30):\n",
    "    before = time.time()\n",
    "    driver.execute_query(small_neo4j2, database = 'neo4j')\n",
    "    after = time.time()\n",
    "    msec_duration = (after - before) * 1000\n",
    "    smallDict['query2'].append(round(msec_duration, 5))"
   ]
  },
  {
   "cell_type": "code",
   "execution_count": 12,
   "id": "0270ad1f",
   "metadata": {},
   "outputs": [
    {
     "data": {
      "text/plain": [
       "{'query1': [5489.99786,\n",
       "  61.99098,\n",
       "  39.325,\n",
       "  47.12009,\n",
       "  42.66763,\n",
       "  27.58408,\n",
       "  25.22206,\n",
       "  23.50092,\n",
       "  27.25601,\n",
       "  22.06802,\n",
       "  34.74927,\n",
       "  19.09304,\n",
       "  18.48698,\n",
       "  17.29774,\n",
       "  22.18509,\n",
       "  20.05482,\n",
       "  24.37592,\n",
       "  18.41187,\n",
       "  19.12689,\n",
       "  19.3522,\n",
       "  17.71808,\n",
       "  16.66713,\n",
       "  14.21213,\n",
       "  15.78188,\n",
       "  17.79509,\n",
       "  20.87688,\n",
       "  18.40186,\n",
       "  21.54493,\n",
       "  24.38712,\n",
       "  19.82117,\n",
       "  19.15503],\n",
       " 'query2': [418.41102,\n",
       "  27.74596,\n",
       "  39.51097,\n",
       "  21.12699,\n",
       "  15.9111,\n",
       "  15.93494,\n",
       "  15.37609,\n",
       "  20.39719,\n",
       "  29.7482,\n",
       "  19.72985,\n",
       "  27.58718,\n",
       "  15.83409,\n",
       "  13.80086,\n",
       "  12.52127,\n",
       "  14.91094,\n",
       "  13.86189,\n",
       "  13.87501,\n",
       "  13.00669,\n",
       "  13.0291,\n",
       "  15.30409,\n",
       "  17.38095,\n",
       "  14.43791,\n",
       "  14.47678,\n",
       "  17.9131,\n",
       "  13.71598,\n",
       "  14.62603,\n",
       "  13.79895,\n",
       "  14.51182,\n",
       "  14.15801,\n",
       "  16.29806,\n",
       "  15.21301],\n",
       " 'query3': [],\n",
       " 'query4': []}"
      ]
     },
     "execution_count": 12,
     "metadata": {},
     "output_type": "execute_result"
    }
   ],
   "source": [
    "smallDict"
   ]
  },
  {
   "cell_type": "markdown",
   "id": "e9bd2a85",
   "metadata": {},
   "source": [
    "<h4>Query 3</h4>"
   ]
  },
  {
   "cell_type": "code",
   "execution_count": 13,
   "id": "71f2244b",
   "metadata": {},
   "outputs": [
    {
     "name": "stdout",
     "output_type": "stream",
     "text": [
      "838\n"
     ]
    }
   ],
   "source": [
    "# step 1\n",
    "small_neo4j3 = 'MATCH (c:course {discipline: \\'maths\\'}) <-[:is_enrolled]- (s:student) -[:studies]-> (m:material {mType: \\'lecture slides\\'}) <-[:uses]- (c:course) WHERE right(s.email, 9) = \\'gmail.com\\' RETURN COUNT(m);'\n",
    "\n",
    "before = time.time()\n",
    "small_query3 = driver.execute_query(small_neo4j3, database = 'neo4j')\n",
    "after = time.time()\n",
    "\n",
    "records = small_query3.records\n",
    "for record in records:\n",
    "    print(record.data()['COUNT(m)'])"
   ]
  },
  {
   "cell_type": "code",
   "execution_count": 14,
   "id": "3868bafa",
   "metadata": {},
   "outputs": [],
   "source": [
    "# step 2\n",
    "msec_duration = (after - before) * 1000\n",
    "smallDict['query3'].append(round(msec_duration, 5))"
   ]
  },
  {
   "cell_type": "code",
   "execution_count": 15,
   "id": "45889ee9",
   "metadata": {},
   "outputs": [],
   "source": [
    "# step 3\n",
    "for i in range(0, 30):\n",
    "    before = time.time()\n",
    "    driver.execute_query(small_neo4j3, database = 'neo4j')\n",
    "    after = time.time()\n",
    "    msec_duration = (after - before) * 1000\n",
    "    smallDict['query3'].append(round(msec_duration, 5))"
   ]
  },
  {
   "cell_type": "code",
   "execution_count": 16,
   "id": "16520e99",
   "metadata": {},
   "outputs": [
    {
     "data": {
      "text/plain": [
       "{'query1': [5489.99786,\n",
       "  61.99098,\n",
       "  39.325,\n",
       "  47.12009,\n",
       "  42.66763,\n",
       "  27.58408,\n",
       "  25.22206,\n",
       "  23.50092,\n",
       "  27.25601,\n",
       "  22.06802,\n",
       "  34.74927,\n",
       "  19.09304,\n",
       "  18.48698,\n",
       "  17.29774,\n",
       "  22.18509,\n",
       "  20.05482,\n",
       "  24.37592,\n",
       "  18.41187,\n",
       "  19.12689,\n",
       "  19.3522,\n",
       "  17.71808,\n",
       "  16.66713,\n",
       "  14.21213,\n",
       "  15.78188,\n",
       "  17.79509,\n",
       "  20.87688,\n",
       "  18.40186,\n",
       "  21.54493,\n",
       "  24.38712,\n",
       "  19.82117,\n",
       "  19.15503],\n",
       " 'query2': [418.41102,\n",
       "  27.74596,\n",
       "  39.51097,\n",
       "  21.12699,\n",
       "  15.9111,\n",
       "  15.93494,\n",
       "  15.37609,\n",
       "  20.39719,\n",
       "  29.7482,\n",
       "  19.72985,\n",
       "  27.58718,\n",
       "  15.83409,\n",
       "  13.80086,\n",
       "  12.52127,\n",
       "  14.91094,\n",
       "  13.86189,\n",
       "  13.87501,\n",
       "  13.00669,\n",
       "  13.0291,\n",
       "  15.30409,\n",
       "  17.38095,\n",
       "  14.43791,\n",
       "  14.47678,\n",
       "  17.9131,\n",
       "  13.71598,\n",
       "  14.62603,\n",
       "  13.79895,\n",
       "  14.51182,\n",
       "  14.15801,\n",
       "  16.29806,\n",
       "  15.21301],\n",
       " 'query3': [1242.91325,\n",
       "  68.9621,\n",
       "  85.43992,\n",
       "  62.51121,\n",
       "  37.5371,\n",
       "  35.65073,\n",
       "  36.58605,\n",
       "  31.99315,\n",
       "  35.46286,\n",
       "  30.77984,\n",
       "  36.39507,\n",
       "  31.90088,\n",
       "  38.03611,\n",
       "  38.8062,\n",
       "  44.16895,\n",
       "  45.27116,\n",
       "  32.5439,\n",
       "  37.34016,\n",
       "  24.56403,\n",
       "  25.5239,\n",
       "  27.11678,\n",
       "  27.23217,\n",
       "  32.19295,\n",
       "  34.554,\n",
       "  32.82094,\n",
       "  35.94518,\n",
       "  35.69579,\n",
       "  51.04017,\n",
       "  39.13593,\n",
       "  39.65187,\n",
       "  35.24804],\n",
       " 'query4': []}"
      ]
     },
     "execution_count": 16,
     "metadata": {},
     "output_type": "execute_result"
    }
   ],
   "source": [
    "smallDict"
   ]
  },
  {
   "cell_type": "markdown",
   "id": "381bb5d4",
   "metadata": {},
   "source": [
    "<h4>Query 4</h4>"
   ]
  },
  {
   "cell_type": "code",
   "execution_count": 17,
   "id": "4a4a6b43",
   "metadata": {},
   "outputs": [
    {
     "name": "stdout",
     "output_type": "stream",
     "text": [
      "Cathrine Lie South Korea\n",
      "Lynda Reynolds Korea\n",
      "Raghav Sura North Korea\n"
     ]
    }
   ],
   "source": [
    "# step 1\n",
    "small_neo4j4 = 'MATCH (s:student) -[:is_enrolled]-> (c:course {discipline: \\'psychology\\'}) WHERE right(s.country, 4) = \\'orea\\' AND left(s.dob, 1) <> \\'2\\' RETURN DISTINCT s.firstName, s.lastName, s.country ORDER BY s.lastName;'\n",
    "\n",
    "before = time.time()\n",
    "small_query4 = driver.execute_query(small_neo4j4, database = 'neo4j')\n",
    "after = time.time()\n",
    "\n",
    "records = small_query4.records\n",
    "for record in records:\n",
    "    print(record.data()['s.firstName'], record.data()['s.lastName'], record.data()['s.country'])"
   ]
  },
  {
   "cell_type": "code",
   "execution_count": 18,
   "id": "bbe98c4d",
   "metadata": {},
   "outputs": [],
   "source": [
    "# step 2\n",
    "msec_duration = (after - before) * 1000\n",
    "smallDict['query4'].append(round(msec_duration, 5))"
   ]
  },
  {
   "cell_type": "code",
   "execution_count": 19,
   "id": "fe0403e3",
   "metadata": {},
   "outputs": [],
   "source": [
    "# step 3\n",
    "for i in range(0, 30):\n",
    "    before = time.time()\n",
    "    driver.execute_query(small_neo4j4, database = 'neo4j')\n",
    "    after = time.time()\n",
    "    msec_duration = (after - before) * 1000\n",
    "    smallDict['query4'].append(round(msec_duration, 5))"
   ]
  },
  {
   "cell_type": "code",
   "execution_count": 20,
   "id": "007c8a95",
   "metadata": {},
   "outputs": [
    {
     "data": {
      "text/plain": [
       "{'query1': [5489.99786,\n",
       "  61.99098,\n",
       "  39.325,\n",
       "  47.12009,\n",
       "  42.66763,\n",
       "  27.58408,\n",
       "  25.22206,\n",
       "  23.50092,\n",
       "  27.25601,\n",
       "  22.06802,\n",
       "  34.74927,\n",
       "  19.09304,\n",
       "  18.48698,\n",
       "  17.29774,\n",
       "  22.18509,\n",
       "  20.05482,\n",
       "  24.37592,\n",
       "  18.41187,\n",
       "  19.12689,\n",
       "  19.3522,\n",
       "  17.71808,\n",
       "  16.66713,\n",
       "  14.21213,\n",
       "  15.78188,\n",
       "  17.79509,\n",
       "  20.87688,\n",
       "  18.40186,\n",
       "  21.54493,\n",
       "  24.38712,\n",
       "  19.82117,\n",
       "  19.15503],\n",
       " 'query2': [418.41102,\n",
       "  27.74596,\n",
       "  39.51097,\n",
       "  21.12699,\n",
       "  15.9111,\n",
       "  15.93494,\n",
       "  15.37609,\n",
       "  20.39719,\n",
       "  29.7482,\n",
       "  19.72985,\n",
       "  27.58718,\n",
       "  15.83409,\n",
       "  13.80086,\n",
       "  12.52127,\n",
       "  14.91094,\n",
       "  13.86189,\n",
       "  13.87501,\n",
       "  13.00669,\n",
       "  13.0291,\n",
       "  15.30409,\n",
       "  17.38095,\n",
       "  14.43791,\n",
       "  14.47678,\n",
       "  17.9131,\n",
       "  13.71598,\n",
       "  14.62603,\n",
       "  13.79895,\n",
       "  14.51182,\n",
       "  14.15801,\n",
       "  16.29806,\n",
       "  15.21301],\n",
       " 'query3': [1242.91325,\n",
       "  68.9621,\n",
       "  85.43992,\n",
       "  62.51121,\n",
       "  37.5371,\n",
       "  35.65073,\n",
       "  36.58605,\n",
       "  31.99315,\n",
       "  35.46286,\n",
       "  30.77984,\n",
       "  36.39507,\n",
       "  31.90088,\n",
       "  38.03611,\n",
       "  38.8062,\n",
       "  44.16895,\n",
       "  45.27116,\n",
       "  32.5439,\n",
       "  37.34016,\n",
       "  24.56403,\n",
       "  25.5239,\n",
       "  27.11678,\n",
       "  27.23217,\n",
       "  32.19295,\n",
       "  34.554,\n",
       "  32.82094,\n",
       "  35.94518,\n",
       "  35.69579,\n",
       "  51.04017,\n",
       "  39.13593,\n",
       "  39.65187,\n",
       "  35.24804],\n",
       " 'query4': [449.72205,\n",
       "  22.11189,\n",
       "  19.87576,\n",
       "  25.30193,\n",
       "  18.29982,\n",
       "  18.2662,\n",
       "  15.17105,\n",
       "  14.35018,\n",
       "  20.77007,\n",
       "  18.19086,\n",
       "  31.45504,\n",
       "  12.09784,\n",
       "  12.34627,\n",
       "  11.29079,\n",
       "  10.36811,\n",
       "  11.49678,\n",
       "  12.35604,\n",
       "  13.14211,\n",
       "  11.55591,\n",
       "  10.86211,\n",
       "  11.69086,\n",
       "  11.63006,\n",
       "  12.09497,\n",
       "  10.96392,\n",
       "  11.40404,\n",
       "  11.88397,\n",
       "  11.75475,\n",
       "  12.45594,\n",
       "  11.55186,\n",
       "  11.64579,\n",
       "  11.45005]}"
      ]
     },
     "execution_count": 20,
     "metadata": {},
     "output_type": "execute_result"
    }
   ],
   "source": [
    "smallDict"
   ]
  },
  {
   "cell_type": "code",
   "execution_count": 21,
   "id": "77cc0671",
   "metadata": {},
   "outputs": [
    {
     "data": {
      "text/plain": [
       "{'query1': [5489.99786, 24.541],\n",
       " 'query2': [418.41102, 17.52477],\n",
       " 'query3': [1242.91325, 39.00357],\n",
       " 'query4': [449.72205, 14.5945]}"
      ]
     },
     "execution_count": 21,
     "metadata": {},
     "output_type": "execute_result"
    }
   ],
   "source": [
    "smallDataset = {'query1' : list(), 'query2' : list(), 'query3' : list(), 'query4' : list()}\n",
    "for key in smallDict:\n",
    "    smallDataset[key].append(smallDict[key][0])\n",
    "    mean30 = mean(smallDict[key][1 : 31])\n",
    "    smallDataset[key].append(round(mean30, 5))\n",
    "smallDataset"
   ]
  },
  {
   "cell_type": "markdown",
   "id": "d3e8e4dd",
   "metadata": {},
   "source": [
    "<h3>Neo4j instance with 500k hashes</h3>"
   ]
  },
  {
   "cell_type": "markdown",
   "id": "7836fe3d",
   "metadata": {},
   "source": [
    "<h4>Query 1</h4>"
   ]
  },
  {
   "cell_type": "code",
   "execution_count": 22,
   "id": "241eb02d",
   "metadata": {},
   "outputs": [
    {
     "name": "stdout",
     "output_type": "stream",
     "text": [
      "Custodia Hidalgo\n",
      "Ledün Soylu\n",
      "Nath Nicolas\n",
      "Sarah Lara\n",
      "Karl Christensen\n",
      "Christl Henschel\n",
      "Casandra Arenas\n",
      "Narciso Ferrán\n",
      "Vigilija Gaižauskas\n",
      "Nedas Naujokas\n",
      "Ana Narušis\n",
      "Émile Nicolas\n",
      "Joris Kavaliauskas\n",
      "Yuvaan Dara\n",
      "Patrícia Leite\n",
      "Cathrine Lie\n",
      "Arthur Laroche\n",
      "Ingeborg Amundsen\n",
      "Débora Vaz\n",
      "Miguel Real\n"
     ]
    }
   ],
   "source": [
    "# step 1\n",
    "medium_neo4j1 = 'MATCH (s:student) -[:is_enrolled]-> (c:course) WHERE c.courseID = \\'192\\' RETURN s.firstName, s.lastName'\n",
    "\n",
    "before = time.time()\n",
    "medium_query1 = driver2.execute_query(medium_neo4j1, database = 'neo4j')\n",
    "after = time.time()\n",
    "\n",
    "records = medium_query1.records\n",
    "for record in records:\n",
    "    print(record.data()['s.firstName'], record.data()['s.lastName'],)"
   ]
  },
  {
   "cell_type": "code",
   "execution_count": 23,
   "id": "a9f6dcc4",
   "metadata": {},
   "outputs": [],
   "source": [
    "# step 2\n",
    "msec_duration = (after - before) * 1000\n",
    "mediumDict['query1'].append(round(msec_duration, 5))"
   ]
  },
  {
   "cell_type": "code",
   "execution_count": 24,
   "id": "cd268a96",
   "metadata": {},
   "outputs": [],
   "source": [
    "# step 3\n",
    "for i in range(0, 30):\n",
    "    before = time.time()\n",
    "    driver2.execute_query(medium_neo4j1, database = 'neo4j')\n",
    "    after = time.time()\n",
    "    msec_duration = (after - before) * 1000\n",
    "    mediumDict['query1'].append(round(msec_duration, 5))"
   ]
  },
  {
   "cell_type": "code",
   "execution_count": 25,
   "id": "e0144381",
   "metadata": {},
   "outputs": [
    {
     "data": {
      "text/plain": [
       "{'query1': [5931.72693,\n",
       "  68.09807,\n",
       "  43.63704,\n",
       "  34.96695,\n",
       "  29.41203,\n",
       "  26.83902,\n",
       "  22.995,\n",
       "  17.44795,\n",
       "  20.20907,\n",
       "  22.19391,\n",
       "  36.13091,\n",
       "  19.34195,\n",
       "  20.31398,\n",
       "  17.07315,\n",
       "  17.83705,\n",
       "  17.75098,\n",
       "  17.9069,\n",
       "  14.66393,\n",
       "  19.72103,\n",
       "  20.25199,\n",
       "  17.94791,\n",
       "  20.53118,\n",
       "  47.73498,\n",
       "  28.41496,\n",
       "  20.54787,\n",
       "  21.09098,\n",
       "  19.05608,\n",
       "  20.98918,\n",
       "  20.18905,\n",
       "  17.34018,\n",
       "  18.70394],\n",
       " 'query2': [],\n",
       " 'query3': [],\n",
       " 'query4': []}"
      ]
     },
     "execution_count": 25,
     "metadata": {},
     "output_type": "execute_result"
    }
   ],
   "source": [
    "mediumDict"
   ]
  },
  {
   "cell_type": "markdown",
   "id": "dcbc5839",
   "metadata": {},
   "source": [
    "<h4>Query 2</h4>"
   ]
  },
  {
   "cell_type": "code",
   "execution_count": 26,
   "id": "3ededa0d",
   "metadata": {},
   "outputs": [
    {
     "name": "stdout",
     "output_type": "stream",
     "text": [
      "Econometrics: Methods and Applications\n",
      "Exploratory Data Analysis\n",
      "Understanding Clinical Research: Behind the Statistics\n",
      "Introduction to Probability and Data with R\n",
      "Bayesian Statistics: From Concept to Data Analysis\n",
      "Introduction to Statistics\n",
      "Python and Statistics for Financial Analysis\n",
      "Basic Statistics\n",
      "Foundations: Data, Data, Everywhere\n"
     ]
    }
   ],
   "source": [
    "# step 1\n",
    "medium_neo4j2 = 'MATCH(c:course) WHERE c.discipline = \\'statistics\\' AND c.courseYear = \\'2022\\' RETURN c.courseName'\n",
    "\n",
    "before = time.time()\n",
    "medium_query2 = driver2.execute_query(medium_neo4j2, database = 'neo4j')\n",
    "after = time.time()\n",
    "\n",
    "records = medium_query2.records\n",
    "for record in records:\n",
    "    print(record.data()['c.courseName'])"
   ]
  },
  {
   "cell_type": "code",
   "execution_count": 27,
   "id": "b1cde8f3",
   "metadata": {},
   "outputs": [],
   "source": [
    "# step 2\n",
    "msec_duration = (after - before) * 1000\n",
    "mediumDict['query2'].append(round(msec_duration, 5))"
   ]
  },
  {
   "cell_type": "code",
   "execution_count": 28,
   "id": "b8adb0cf",
   "metadata": {},
   "outputs": [],
   "source": [
    "# step 3\n",
    "for i in range(0, 30):\n",
    "    before = time.time()\n",
    "    driver2.execute_query(medium_neo4j2, database = 'neo4j')\n",
    "    after = time.time()\n",
    "    msec_duration = (after - before) * 1000\n",
    "    mediumDict['query2'].append(round(msec_duration, 5))"
   ]
  },
  {
   "cell_type": "code",
   "execution_count": 29,
   "id": "d3ee8fd4",
   "metadata": {},
   "outputs": [
    {
     "data": {
      "text/plain": [
       "{'query1': [5931.72693,\n",
       "  68.09807,\n",
       "  43.63704,\n",
       "  34.96695,\n",
       "  29.41203,\n",
       "  26.83902,\n",
       "  22.995,\n",
       "  17.44795,\n",
       "  20.20907,\n",
       "  22.19391,\n",
       "  36.13091,\n",
       "  19.34195,\n",
       "  20.31398,\n",
       "  17.07315,\n",
       "  17.83705,\n",
       "  17.75098,\n",
       "  17.9069,\n",
       "  14.66393,\n",
       "  19.72103,\n",
       "  20.25199,\n",
       "  17.94791,\n",
       "  20.53118,\n",
       "  47.73498,\n",
       "  28.41496,\n",
       "  20.54787,\n",
       "  21.09098,\n",
       "  19.05608,\n",
       "  20.98918,\n",
       "  20.18905,\n",
       "  17.34018,\n",
       "  18.70394],\n",
       " 'query2': [276.00718,\n",
       "  55.47118,\n",
       "  64.97097,\n",
       "  29.74319,\n",
       "  16.9661,\n",
       "  18.83411,\n",
       "  16.51096,\n",
       "  18.66078,\n",
       "  17.93933,\n",
       "  19.37723,\n",
       "  26.30472,\n",
       "  17.78913,\n",
       "  15.92398,\n",
       "  15.064,\n",
       "  18.78595,\n",
       "  15.77711,\n",
       "  16.21604,\n",
       "  15.05113,\n",
       "  15.69676,\n",
       "  26.85523,\n",
       "  15.3389,\n",
       "  16.45112,\n",
       "  15.56897,\n",
       "  16.56413,\n",
       "  18.15915,\n",
       "  22.98808,\n",
       "  16.66093,\n",
       "  13.93914,\n",
       "  15.5611,\n",
       "  17.14778,\n",
       "  13.14402],\n",
       " 'query3': [],\n",
       " 'query4': []}"
      ]
     },
     "execution_count": 29,
     "metadata": {},
     "output_type": "execute_result"
    }
   ],
   "source": [
    "mediumDict"
   ]
  },
  {
   "cell_type": "markdown",
   "id": "77bfeb22",
   "metadata": {},
   "source": [
    "<h4>Query 3</h4>"
   ]
  },
  {
   "cell_type": "code",
   "execution_count": 30,
   "id": "4edf8b8a",
   "metadata": {},
   "outputs": [
    {
     "name": "stdout",
     "output_type": "stream",
     "text": [
      "1698\n"
     ]
    }
   ],
   "source": [
    "# step 1\n",
    "medium_neo4j3 = 'MATCH (c:course {discipline: \\'maths\\'}) <-[:is_enrolled]- (s:student) -[:studies]-> (m:material {mType: \\'lecture slides\\'}) <-[:uses]- (c:course) WHERE right(s.email, 9) = \\'gmail.com\\' RETURN COUNT(m);'\n",
    "\n",
    "before = time.time()\n",
    "medium_query3 = driver2.execute_query(medium_neo4j3, database = 'neo4j')\n",
    "after = time.time()\n",
    "\n",
    "records = medium_query3.records\n",
    "for record in records:\n",
    "    print(record.data()['COUNT(m)'])"
   ]
  },
  {
   "cell_type": "code",
   "execution_count": 31,
   "id": "fc5b9571",
   "metadata": {},
   "outputs": [],
   "source": [
    "# step 2\n",
    "msec_duration = (after - before) * 1000\n",
    "mediumDict['query3'].append(round(msec_duration, 5))"
   ]
  },
  {
   "cell_type": "code",
   "execution_count": 32,
   "id": "209eea20",
   "metadata": {},
   "outputs": [],
   "source": [
    "# step 3\n",
    "for i in range(0, 30):\n",
    "    before = time.time()\n",
    "    driver2.execute_query(medium_neo4j3, database = 'neo4j')\n",
    "    after = time.time()\n",
    "    msec_duration = (after - before) * 1000\n",
    "    mediumDict['query3'].append(round(msec_duration, 5))"
   ]
  },
  {
   "cell_type": "code",
   "execution_count": 33,
   "id": "f3281296",
   "metadata": {},
   "outputs": [
    {
     "data": {
      "text/plain": [
       "{'query1': [5931.72693,\n",
       "  68.09807,\n",
       "  43.63704,\n",
       "  34.96695,\n",
       "  29.41203,\n",
       "  26.83902,\n",
       "  22.995,\n",
       "  17.44795,\n",
       "  20.20907,\n",
       "  22.19391,\n",
       "  36.13091,\n",
       "  19.34195,\n",
       "  20.31398,\n",
       "  17.07315,\n",
       "  17.83705,\n",
       "  17.75098,\n",
       "  17.9069,\n",
       "  14.66393,\n",
       "  19.72103,\n",
       "  20.25199,\n",
       "  17.94791,\n",
       "  20.53118,\n",
       "  47.73498,\n",
       "  28.41496,\n",
       "  20.54787,\n",
       "  21.09098,\n",
       "  19.05608,\n",
       "  20.98918,\n",
       "  20.18905,\n",
       "  17.34018,\n",
       "  18.70394],\n",
       " 'query2': [276.00718,\n",
       "  55.47118,\n",
       "  64.97097,\n",
       "  29.74319,\n",
       "  16.9661,\n",
       "  18.83411,\n",
       "  16.51096,\n",
       "  18.66078,\n",
       "  17.93933,\n",
       "  19.37723,\n",
       "  26.30472,\n",
       "  17.78913,\n",
       "  15.92398,\n",
       "  15.064,\n",
       "  18.78595,\n",
       "  15.77711,\n",
       "  16.21604,\n",
       "  15.05113,\n",
       "  15.69676,\n",
       "  26.85523,\n",
       "  15.3389,\n",
       "  16.45112,\n",
       "  15.56897,\n",
       "  16.56413,\n",
       "  18.15915,\n",
       "  22.98808,\n",
       "  16.66093,\n",
       "  13.93914,\n",
       "  15.5611,\n",
       "  17.14778,\n",
       "  13.14402],\n",
       " 'query3': [1381.90222,\n",
       "  95.52097,\n",
       "  43.06221,\n",
       "  49.02887,\n",
       "  40.16209,\n",
       "  47.76406,\n",
       "  42.09995,\n",
       "  39.33477,\n",
       "  43.90907,\n",
       "  40.95101,\n",
       "  68.295,\n",
       "  36.95273,\n",
       "  39.50906,\n",
       "  38.29908,\n",
       "  36.65686,\n",
       "  41.01515,\n",
       "  38.78593,\n",
       "  31.67105,\n",
       "  33.92196,\n",
       "  41.30006,\n",
       "  36.2649,\n",
       "  32.96471,\n",
       "  34.70111,\n",
       "  32.31907,\n",
       "  31.58975,\n",
       "  33.56814,\n",
       "  29.00791,\n",
       "  21.22879,\n",
       "  25.89107,\n",
       "  34.22117,\n",
       "  27.74787],\n",
       " 'query4': []}"
      ]
     },
     "execution_count": 33,
     "metadata": {},
     "output_type": "execute_result"
    }
   ],
   "source": [
    "mediumDict"
   ]
  },
  {
   "cell_type": "markdown",
   "id": "2ddacbfb",
   "metadata": {},
   "source": [
    "<h4>Query 4</h4>"
   ]
  },
  {
   "cell_type": "code",
   "execution_count": 34,
   "id": "52fc12f9",
   "metadata": {},
   "outputs": [
    {
     "name": "stdout",
     "output_type": "stream",
     "text": [
      "Ninthe Horrocks Noord-Korea\n",
      "Cathrine Lie South Korea\n",
      "Miguel Real República de Corea\n",
      "Lynda Reynolds Korea\n",
      "Raghav Sura North Korea\n"
     ]
    }
   ],
   "source": [
    "# step 1\n",
    "medium_neo4j4 = 'MATCH (s:student) -[:is_enrolled]-> (c:course {discipline: \\'psychology\\'}) WHERE right(s.country, 4) = \\'orea\\' AND left(s.dob, 1) <> \\'2\\' RETURN DISTINCT s.firstName, s.lastName, s.country ORDER BY s.lastName;'\n",
    "\n",
    "before = time.time()\n",
    "medium_query4 = driver2.execute_query(medium_neo4j4, database = 'neo4j')\n",
    "after = time.time()\n",
    "\n",
    "records = medium_query4.records\n",
    "for record in records:\n",
    "    print(record.data()['s.firstName'], record.data()['s.lastName'], record.data()['s.country'])"
   ]
  },
  {
   "cell_type": "code",
   "execution_count": 35,
   "id": "239d45f1",
   "metadata": {},
   "outputs": [],
   "source": [
    "# step 2\n",
    "msec_duration = (after - before) * 1000\n",
    "mediumDict['query4'].append(round(msec_duration, 5))"
   ]
  },
  {
   "cell_type": "code",
   "execution_count": 36,
   "id": "6e484e76",
   "metadata": {},
   "outputs": [],
   "source": [
    "# step 3\n",
    "for i in range(0, 30):\n",
    "    before = time.time()\n",
    "    driver2.execute_query(medium_neo4j4, database = 'neo4j')\n",
    "    after = time.time()\n",
    "    msec_duration = (after - before) * 1000\n",
    "    mediumDict['query4'].append(round(msec_duration, 5))"
   ]
  },
  {
   "cell_type": "code",
   "execution_count": 37,
   "id": "76bbb0ec",
   "metadata": {},
   "outputs": [
    {
     "data": {
      "text/plain": [
       "{'query1': [5931.72693,\n",
       "  68.09807,\n",
       "  43.63704,\n",
       "  34.96695,\n",
       "  29.41203,\n",
       "  26.83902,\n",
       "  22.995,\n",
       "  17.44795,\n",
       "  20.20907,\n",
       "  22.19391,\n",
       "  36.13091,\n",
       "  19.34195,\n",
       "  20.31398,\n",
       "  17.07315,\n",
       "  17.83705,\n",
       "  17.75098,\n",
       "  17.9069,\n",
       "  14.66393,\n",
       "  19.72103,\n",
       "  20.25199,\n",
       "  17.94791,\n",
       "  20.53118,\n",
       "  47.73498,\n",
       "  28.41496,\n",
       "  20.54787,\n",
       "  21.09098,\n",
       "  19.05608,\n",
       "  20.98918,\n",
       "  20.18905,\n",
       "  17.34018,\n",
       "  18.70394],\n",
       " 'query2': [276.00718,\n",
       "  55.47118,\n",
       "  64.97097,\n",
       "  29.74319,\n",
       "  16.9661,\n",
       "  18.83411,\n",
       "  16.51096,\n",
       "  18.66078,\n",
       "  17.93933,\n",
       "  19.37723,\n",
       "  26.30472,\n",
       "  17.78913,\n",
       "  15.92398,\n",
       "  15.064,\n",
       "  18.78595,\n",
       "  15.77711,\n",
       "  16.21604,\n",
       "  15.05113,\n",
       "  15.69676,\n",
       "  26.85523,\n",
       "  15.3389,\n",
       "  16.45112,\n",
       "  15.56897,\n",
       "  16.56413,\n",
       "  18.15915,\n",
       "  22.98808,\n",
       "  16.66093,\n",
       "  13.93914,\n",
       "  15.5611,\n",
       "  17.14778,\n",
       "  13.14402],\n",
       " 'query3': [1381.90222,\n",
       "  95.52097,\n",
       "  43.06221,\n",
       "  49.02887,\n",
       "  40.16209,\n",
       "  47.76406,\n",
       "  42.09995,\n",
       "  39.33477,\n",
       "  43.90907,\n",
       "  40.95101,\n",
       "  68.295,\n",
       "  36.95273,\n",
       "  39.50906,\n",
       "  38.29908,\n",
       "  36.65686,\n",
       "  41.01515,\n",
       "  38.78593,\n",
       "  31.67105,\n",
       "  33.92196,\n",
       "  41.30006,\n",
       "  36.2649,\n",
       "  32.96471,\n",
       "  34.70111,\n",
       "  32.31907,\n",
       "  31.58975,\n",
       "  33.56814,\n",
       "  29.00791,\n",
       "  21.22879,\n",
       "  25.89107,\n",
       "  34.22117,\n",
       "  27.74787],\n",
       " 'query4': [504.84109,\n",
       "  26.36695,\n",
       "  20.52903,\n",
       "  22.86315,\n",
       "  20.96796,\n",
       "  20.47205,\n",
       "  22.79234,\n",
       "  19.9759,\n",
       "  22.94803,\n",
       "  24.28174,\n",
       "  38.36107,\n",
       "  16.83879,\n",
       "  16.7141,\n",
       "  23.40508,\n",
       "  17.01117,\n",
       "  21.40498,\n",
       "  16.0079,\n",
       "  20.41221,\n",
       "  20.26606,\n",
       "  18.29195,\n",
       "  19.49501,\n",
       "  15.58018,\n",
       "  16.72411,\n",
       "  14.30106,\n",
       "  15.3091,\n",
       "  15.33699,\n",
       "  15.85889,\n",
       "  15.21897,\n",
       "  18.52083,\n",
       "  17.22717,\n",
       "  16.12735]}"
      ]
     },
     "execution_count": 37,
     "metadata": {},
     "output_type": "execute_result"
    }
   ],
   "source": [
    "mediumDict"
   ]
  },
  {
   "cell_type": "code",
   "execution_count": 38,
   "id": "92194ec4",
   "metadata": {},
   "outputs": [
    {
     "data": {
      "text/plain": [
       "{'query1': [5931.72693, 24.64457],\n",
       " 'query2': [276.00718, 20.78204],\n",
       " 'query3': [1381.90222, 39.59148],\n",
       " 'query4': [504.84109, 19.65367]}"
      ]
     },
     "execution_count": 38,
     "metadata": {},
     "output_type": "execute_result"
    }
   ],
   "source": [
    "mediumDataset = {'query1' : list(), 'query2' : list(), 'query3' : list(), 'query4' : list()}\n",
    "for key in mediumDict:\n",
    "    mediumDataset[key].append(mediumDict[key][0])\n",
    "    mean30 = mean(mediumDict[key][1 : 31])\n",
    "    mediumDataset[key].append(round(mean30, 5))\n",
    "mediumDataset"
   ]
  },
  {
   "cell_type": "code",
   "execution_count": null,
   "id": "43d6877b",
   "metadata": {},
   "outputs": [],
   "source": []
  },
  {
   "cell_type": "markdown",
   "id": "033348c8",
   "metadata": {},
   "source": [
    "<h3>Neo4j instance with 750k hashes</h3>"
   ]
  },
  {
   "cell_type": "markdown",
   "id": "c04f6388",
   "metadata": {},
   "source": [
    "<h4>Query 1</h4>"
   ]
  },
  {
   "cell_type": "code",
   "execution_count": 39,
   "id": "728173bb",
   "metadata": {},
   "outputs": [
    {
     "name": "stdout",
     "output_type": "stream",
     "text": [
      "Custodia Hidalgo\n",
      "Sarah Lara\n",
      "Narciso Ferrán\n",
      "Patrícia Leite\n",
      "Vigilija Gaižauskas\n",
      "Casandra Arenas\n",
      "Ledün Soylu\n",
      "Arthur Laroche\n",
      "Ana Narušis\n",
      "Nath Nicolas\n",
      "Émile Nicolas\n",
      "Cathrine Lie\n",
      "Ingeborg Amundsen\n",
      "Nedas Naujokas\n",
      "Christl Henschel\n",
      "Miguel Real\n",
      "Karl Christensen\n",
      "Joris Kavaliauskas\n",
      "Yuvaan Dara\n",
      "Débora Vaz\n",
      "Urvi Dani\n",
      "Collin Heerkens\n",
      "Brian Thompson\n",
      "Özkutlu Gül\n",
      "Dorita Abella\n",
      "Liliana Flaiano\n"
     ]
    }
   ],
   "source": [
    "# step 1\n",
    "large_neo4j1 = 'MATCH (s:student) -[:is_enrolled]-> (c:course) WHERE c.courseID = \\'192\\' RETURN s.firstName, s.lastName'\n",
    "\n",
    "before = time.time()\n",
    "large_query1 = driver3.execute_query(large_neo4j1, database = 'neo4j')\n",
    "after = time.time()\n",
    "\n",
    "records = large_query1.records\n",
    "for record in records:\n",
    "    print(record.data()['s.firstName'], record.data()['s.lastName'],)"
   ]
  },
  {
   "cell_type": "code",
   "execution_count": 40,
   "id": "40e5d813",
   "metadata": {},
   "outputs": [],
   "source": [
    "# step 2\n",
    "msec_duration = (after - before) * 1000\n",
    "largeDict['query1'].append(round(msec_duration, 5))"
   ]
  },
  {
   "cell_type": "code",
   "execution_count": 41,
   "id": "61a2d37b",
   "metadata": {},
   "outputs": [],
   "source": [
    "# step 3\n",
    "for i in range(0, 30):\n",
    "    before = time.time()\n",
    "    driver3.execute_query(large_neo4j1, database = 'neo4j')\n",
    "    after = time.time()\n",
    "    msec_duration = (after - before) * 1000\n",
    "    largeDict['query1'].append(round(msec_duration, 5))"
   ]
  },
  {
   "cell_type": "code",
   "execution_count": 42,
   "id": "14ce54bf",
   "metadata": {},
   "outputs": [
    {
     "data": {
      "text/plain": [
       "{'query1': [4215.55996,\n",
       "  78.70698,\n",
       "  53.45297,\n",
       "  24.95694,\n",
       "  27.54307,\n",
       "  26.86,\n",
       "  23.71407,\n",
       "  22.05205,\n",
       "  22.24684,\n",
       "  22.88294,\n",
       "  32.45807,\n",
       "  20.17403,\n",
       "  19.24586,\n",
       "  18.68176,\n",
       "  18.82911,\n",
       "  19.21511,\n",
       "  18.56303,\n",
       "  17.56287,\n",
       "  17.1659,\n",
       "  18.63408,\n",
       "  19.10901,\n",
       "  16.783,\n",
       "  17.061,\n",
       "  15.33794,\n",
       "  16.40797,\n",
       "  16.80183,\n",
       "  15.99193,\n",
       "  15.64407,\n",
       "  36.27396,\n",
       "  14.68706,\n",
       "  13.49497],\n",
       " 'query2': [],\n",
       " 'query3': [],\n",
       " 'query4': []}"
      ]
     },
     "execution_count": 42,
     "metadata": {},
     "output_type": "execute_result"
    }
   ],
   "source": [
    "largeDict"
   ]
  },
  {
   "cell_type": "markdown",
   "id": "88dfbdea",
   "metadata": {},
   "source": [
    "<h4>Query 2</h4>"
   ]
  },
  {
   "cell_type": "code",
   "execution_count": 43,
   "id": "bc744aff",
   "metadata": {},
   "outputs": [
    {
     "name": "stdout",
     "output_type": "stream",
     "text": [
      "Econometrics: Methods and Applications\n",
      "Exploratory Data Analysis\n",
      "Understanding Clinical Research: Behind the Statistics\n",
      "Introduction to Probability and Data with R\n",
      "Bayesian Statistics: From Concept to Data Analysis\n",
      "Introduction to Statistics\n",
      "Python and Statistics for Financial Analysis\n",
      "Basic Statistics\n",
      "Foundations: Data, Data, Everywhere\n"
     ]
    }
   ],
   "source": [
    "# step 1\n",
    "large_neo4j2 = 'MATCH(c:course) WHERE c.discipline = \\'statistics\\' AND c.courseYear = \\'2022\\' RETURN c.courseName'\n",
    "\n",
    "before = time.time()\n",
    "large_query2 = driver3.execute_query(large_neo4j2, database = 'neo4j')\n",
    "after = time.time()\n",
    "\n",
    "records = large_query2.records\n",
    "for record in records:\n",
    "    print(record.data()['c.courseName'])"
   ]
  },
  {
   "cell_type": "code",
   "execution_count": 44,
   "id": "f6a915e0",
   "metadata": {},
   "outputs": [],
   "source": [
    "# step 2\n",
    "msec_duration = (after - before) * 1000\n",
    "largeDict['query2'].append(round(msec_duration, 5))"
   ]
  },
  {
   "cell_type": "code",
   "execution_count": 45,
   "id": "2e287766",
   "metadata": {},
   "outputs": [],
   "source": [
    "# step 3\n",
    "for i in range(0, 30):\n",
    "    before = time.time()\n",
    "    driver3.execute_query(large_neo4j2, database = 'neo4j')\n",
    "    after = time.time()\n",
    "    msec_duration = (after - before) * 1000\n",
    "    largeDict['query2'].append(round(msec_duration, 5))"
   ]
  },
  {
   "cell_type": "code",
   "execution_count": 46,
   "id": "05db97e7",
   "metadata": {},
   "outputs": [
    {
     "data": {
      "text/plain": [
       "{'query1': [4215.55996,\n",
       "  78.70698,\n",
       "  53.45297,\n",
       "  24.95694,\n",
       "  27.54307,\n",
       "  26.86,\n",
       "  23.71407,\n",
       "  22.05205,\n",
       "  22.24684,\n",
       "  22.88294,\n",
       "  32.45807,\n",
       "  20.17403,\n",
       "  19.24586,\n",
       "  18.68176,\n",
       "  18.82911,\n",
       "  19.21511,\n",
       "  18.56303,\n",
       "  17.56287,\n",
       "  17.1659,\n",
       "  18.63408,\n",
       "  19.10901,\n",
       "  16.783,\n",
       "  17.061,\n",
       "  15.33794,\n",
       "  16.40797,\n",
       "  16.80183,\n",
       "  15.99193,\n",
       "  15.64407,\n",
       "  36.27396,\n",
       "  14.68706,\n",
       "  13.49497],\n",
       " 'query2': [314.49819,\n",
       "  39.15715,\n",
       "  25.54107,\n",
       "  22.34411,\n",
       "  14.85109,\n",
       "  15.27667,\n",
       "  19.50121,\n",
       "  18.60189,\n",
       "  15.02514,\n",
       "  15.5642,\n",
       "  22.07994,\n",
       "  14.65797,\n",
       "  13.07797,\n",
       "  12.44402,\n",
       "  13.47804,\n",
       "  14.46509,\n",
       "  15.0547,\n",
       "  13.29398,\n",
       "  13.5529,\n",
       "  13.81993,\n",
       "  15.30123,\n",
       "  14.08482,\n",
       "  13.36384,\n",
       "  14.39571,\n",
       "  13.00216,\n",
       "  12.05516,\n",
       "  10.09822,\n",
       "  11.83987,\n",
       "  12.9149,\n",
       "  14.88495,\n",
       "  15.56683],\n",
       " 'query3': [],\n",
       " 'query4': []}"
      ]
     },
     "execution_count": 46,
     "metadata": {},
     "output_type": "execute_result"
    }
   ],
   "source": [
    "largeDict"
   ]
  },
  {
   "cell_type": "markdown",
   "id": "74f326fe",
   "metadata": {},
   "source": [
    "<h4>Query 3</h4>"
   ]
  },
  {
   "cell_type": "code",
   "execution_count": 47,
   "id": "ee07fd2e",
   "metadata": {},
   "outputs": [
    {
     "name": "stdout",
     "output_type": "stream",
     "text": [
      "2628\n"
     ]
    }
   ],
   "source": [
    "# step 1\n",
    "large_neo4j3 = 'MATCH (c:course {discipline: \\'maths\\'}) <-[:is_enrolled]- (s:student) -[:studies]-> (m:material {mType: \\'lecture slides\\'}) <-[:uses]- (c:course) WHERE right(s.email, 9) = \\'gmail.com\\' RETURN COUNT(m);'\n",
    "\n",
    "before = time.time()\n",
    "large_query3 = driver3.execute_query(large_neo4j3, database = 'neo4j')\n",
    "after = time.time()\n",
    "\n",
    "records = large_query3.records\n",
    "for record in records:\n",
    "    print(record.data()['COUNT(m)'])"
   ]
  },
  {
   "cell_type": "code",
   "execution_count": 48,
   "id": "7b4b0b19",
   "metadata": {},
   "outputs": [],
   "source": [
    "# step 2\n",
    "msec_duration = (after - before) * 1000\n",
    "largeDict['query3'].append(round(msec_duration, 5))"
   ]
  },
  {
   "cell_type": "code",
   "execution_count": 49,
   "id": "3b309e76",
   "metadata": {},
   "outputs": [],
   "source": [
    "# step 3\n",
    "for i in range(0, 30):\n",
    "    before = time.time()\n",
    "    driver3.execute_query(large_neo4j3, database = 'neo4j')\n",
    "    after = time.time()\n",
    "    msec_duration = (after - before) * 1000\n",
    "    largeDict['query3'].append(round(msec_duration, 5))"
   ]
  },
  {
   "cell_type": "code",
   "execution_count": 50,
   "id": "75ec4cd8",
   "metadata": {},
   "outputs": [
    {
     "data": {
      "text/plain": [
       "{'query1': [4215.55996,\n",
       "  78.70698,\n",
       "  53.45297,\n",
       "  24.95694,\n",
       "  27.54307,\n",
       "  26.86,\n",
       "  23.71407,\n",
       "  22.05205,\n",
       "  22.24684,\n",
       "  22.88294,\n",
       "  32.45807,\n",
       "  20.17403,\n",
       "  19.24586,\n",
       "  18.68176,\n",
       "  18.82911,\n",
       "  19.21511,\n",
       "  18.56303,\n",
       "  17.56287,\n",
       "  17.1659,\n",
       "  18.63408,\n",
       "  19.10901,\n",
       "  16.783,\n",
       "  17.061,\n",
       "  15.33794,\n",
       "  16.40797,\n",
       "  16.80183,\n",
       "  15.99193,\n",
       "  15.64407,\n",
       "  36.27396,\n",
       "  14.68706,\n",
       "  13.49497],\n",
       " 'query2': [314.49819,\n",
       "  39.15715,\n",
       "  25.54107,\n",
       "  22.34411,\n",
       "  14.85109,\n",
       "  15.27667,\n",
       "  19.50121,\n",
       "  18.60189,\n",
       "  15.02514,\n",
       "  15.5642,\n",
       "  22.07994,\n",
       "  14.65797,\n",
       "  13.07797,\n",
       "  12.44402,\n",
       "  13.47804,\n",
       "  14.46509,\n",
       "  15.0547,\n",
       "  13.29398,\n",
       "  13.5529,\n",
       "  13.81993,\n",
       "  15.30123,\n",
       "  14.08482,\n",
       "  13.36384,\n",
       "  14.39571,\n",
       "  13.00216,\n",
       "  12.05516,\n",
       "  10.09822,\n",
       "  11.83987,\n",
       "  12.9149,\n",
       "  14.88495,\n",
       "  15.56683],\n",
       " 'query3': [1225.1122,\n",
       "  100.05879,\n",
       "  93.817,\n",
       "  50.27795,\n",
       "  49.07227,\n",
       "  40.24005,\n",
       "  38.25688,\n",
       "  28.53012,\n",
       "  35.64906,\n",
       "  48.3861,\n",
       "  77.55804,\n",
       "  42.37103,\n",
       "  40.19618,\n",
       "  47.94669,\n",
       "  36.75699,\n",
       "  33.10704,\n",
       "  30.67183,\n",
       "  29.32906,\n",
       "  28.35894,\n",
       "  27.90022,\n",
       "  30.06911,\n",
       "  30.60889,\n",
       "  32.81093,\n",
       "  33.42724,\n",
       "  45.66312,\n",
       "  44.10505,\n",
       "  44.71087,\n",
       "  42.19127,\n",
       "  59.46684,\n",
       "  33.89192,\n",
       "  83.97007],\n",
       " 'query4': []}"
      ]
     },
     "execution_count": 50,
     "metadata": {},
     "output_type": "execute_result"
    }
   ],
   "source": [
    "largeDict"
   ]
  },
  {
   "cell_type": "markdown",
   "id": "eb55ab91",
   "metadata": {},
   "source": [
    "<h4>Query 4</h4>"
   ]
  },
  {
   "cell_type": "code",
   "execution_count": 51,
   "id": "1ead5675",
   "metadata": {},
   "outputs": [
    {
     "name": "stdout",
     "output_type": "stream",
     "text": [
      "Tere Castells República Popular Democrática de Corea\n",
      "Ninthe Horrocks Noord-Korea\n",
      "Cathrine Lie South Korea\n",
      "Miguel Real República de Corea\n",
      "Lynda Reynolds Korea\n",
      "Raghav Sura North Korea\n"
     ]
    }
   ],
   "source": [
    "# step 1\n",
    "large_neo4j4 = 'MATCH (s:student) -[:is_enrolled]-> (c:course {discipline: \\'psychology\\'}) WHERE right(s.country, 4) = \\'orea\\' AND left(s.dob, 1) <> \\'2\\' RETURN DISTINCT s.firstName, s.lastName, s.country ORDER BY s.lastName;'\n",
    "\n",
    "before = time.time()\n",
    "large_query4 = driver3.execute_query(large_neo4j4, database = 'neo4j')\n",
    "after = time.time()\n",
    "\n",
    "records = large_query4.records\n",
    "for record in records:\n",
    "    print(record.data()['s.firstName'], record.data()['s.lastName'], record.data()['s.country'])"
   ]
  },
  {
   "cell_type": "code",
   "execution_count": 52,
   "id": "2ecc3f3a",
   "metadata": {},
   "outputs": [],
   "source": [
    "# step 2\n",
    "msec_duration = (after - before) * 1000\n",
    "largeDict['query4'].append(round(msec_duration, 5))"
   ]
  },
  {
   "cell_type": "code",
   "execution_count": 53,
   "id": "fedf3b76",
   "metadata": {},
   "outputs": [],
   "source": [
    "# step 3\n",
    "for i in range(0, 30):\n",
    "    before = time.time()\n",
    "    driver3.execute_query(large_neo4j4, database = 'neo4j')\n",
    "    after = time.time()\n",
    "    msec_duration = (after - before) * 1000\n",
    "    largeDict['query4'].append(round(msec_duration, 5))"
   ]
  },
  {
   "cell_type": "code",
   "execution_count": 54,
   "id": "e6e19012",
   "metadata": {},
   "outputs": [
    {
     "data": {
      "text/plain": [
       "{'query1': [4215.55996,\n",
       "  78.70698,\n",
       "  53.45297,\n",
       "  24.95694,\n",
       "  27.54307,\n",
       "  26.86,\n",
       "  23.71407,\n",
       "  22.05205,\n",
       "  22.24684,\n",
       "  22.88294,\n",
       "  32.45807,\n",
       "  20.17403,\n",
       "  19.24586,\n",
       "  18.68176,\n",
       "  18.82911,\n",
       "  19.21511,\n",
       "  18.56303,\n",
       "  17.56287,\n",
       "  17.1659,\n",
       "  18.63408,\n",
       "  19.10901,\n",
       "  16.783,\n",
       "  17.061,\n",
       "  15.33794,\n",
       "  16.40797,\n",
       "  16.80183,\n",
       "  15.99193,\n",
       "  15.64407,\n",
       "  36.27396,\n",
       "  14.68706,\n",
       "  13.49497],\n",
       " 'query2': [314.49819,\n",
       "  39.15715,\n",
       "  25.54107,\n",
       "  22.34411,\n",
       "  14.85109,\n",
       "  15.27667,\n",
       "  19.50121,\n",
       "  18.60189,\n",
       "  15.02514,\n",
       "  15.5642,\n",
       "  22.07994,\n",
       "  14.65797,\n",
       "  13.07797,\n",
       "  12.44402,\n",
       "  13.47804,\n",
       "  14.46509,\n",
       "  15.0547,\n",
       "  13.29398,\n",
       "  13.5529,\n",
       "  13.81993,\n",
       "  15.30123,\n",
       "  14.08482,\n",
       "  13.36384,\n",
       "  14.39571,\n",
       "  13.00216,\n",
       "  12.05516,\n",
       "  10.09822,\n",
       "  11.83987,\n",
       "  12.9149,\n",
       "  14.88495,\n",
       "  15.56683],\n",
       " 'query3': [1225.1122,\n",
       "  100.05879,\n",
       "  93.817,\n",
       "  50.27795,\n",
       "  49.07227,\n",
       "  40.24005,\n",
       "  38.25688,\n",
       "  28.53012,\n",
       "  35.64906,\n",
       "  48.3861,\n",
       "  77.55804,\n",
       "  42.37103,\n",
       "  40.19618,\n",
       "  47.94669,\n",
       "  36.75699,\n",
       "  33.10704,\n",
       "  30.67183,\n",
       "  29.32906,\n",
       "  28.35894,\n",
       "  27.90022,\n",
       "  30.06911,\n",
       "  30.60889,\n",
       "  32.81093,\n",
       "  33.42724,\n",
       "  45.66312,\n",
       "  44.10505,\n",
       "  44.71087,\n",
       "  42.19127,\n",
       "  59.46684,\n",
       "  33.89192,\n",
       "  83.97007],\n",
       " 'query4': [434.03172,\n",
       "  22.84312,\n",
       "  21.77691,\n",
       "  22.16792,\n",
       "  18.52322,\n",
       "  21.37184,\n",
       "  20.14089,\n",
       "  16.28065,\n",
       "  14.38427,\n",
       "  14.70089,\n",
       "  24.97625,\n",
       "  13.88597,\n",
       "  13.66711,\n",
       "  17.41123,\n",
       "  11.37614,\n",
       "  11.69014,\n",
       "  12.59184,\n",
       "  13.28993,\n",
       "  13.28182,\n",
       "  13.25798,\n",
       "  12.66193,\n",
       "  11.73091,\n",
       "  12.71772,\n",
       "  11.27291,\n",
       "  21.26312,\n",
       "  12.8181,\n",
       "  11.25002,\n",
       "  11.19089,\n",
       "  11.25622,\n",
       "  10.45609,\n",
       "  12.32982]}"
      ]
     },
     "execution_count": 54,
     "metadata": {},
     "output_type": "execute_result"
    }
   ],
   "source": [
    "largeDict"
   ]
  },
  {
   "cell_type": "code",
   "execution_count": 55,
   "id": "22271e92",
   "metadata": {},
   "outputs": [
    {
     "data": {
      "text/plain": [
       "{'query1': [4215.55996, 23.35128],\n",
       " 'query2': [314.49819, 15.97649],\n",
       " 'query3': [1225.1122, 45.31332],\n",
       " 'query4': [434.03172, 15.21886]}"
      ]
     },
     "execution_count": 55,
     "metadata": {},
     "output_type": "execute_result"
    }
   ],
   "source": [
    "largeDataset = {'query1' : list(), 'query2' : list(), 'query3' : list(), 'query4' : list()}\n",
    "for key in largeDict:\n",
    "    largeDataset[key].append(largeDict[key][0])\n",
    "    mean30 = mean(largeDict[key][1 : 31])\n",
    "    largeDataset[key].append(round(mean30, 5))\n",
    "largeDataset"
   ]
  },
  {
   "cell_type": "code",
   "execution_count": null,
   "id": "0aa09653",
   "metadata": {},
   "outputs": [],
   "source": []
  },
  {
   "cell_type": "markdown",
   "id": "45dd3d92",
   "metadata": {},
   "source": [
    "<h3>Neo4j instance with 1m hashes</h3>"
   ]
  },
  {
   "cell_type": "markdown",
   "id": "4f34e36c",
   "metadata": {},
   "source": [
    "<h4>Query 1</h4>"
   ]
  },
  {
   "cell_type": "code",
   "execution_count": 56,
   "id": "eb4f28f3",
   "metadata": {},
   "outputs": [
    {
     "name": "stdout",
     "output_type": "stream",
     "text": [
      "Custodia Hidalgo\n",
      "Sarah Lara\n",
      "Narciso Ferrán\n",
      "Patrícia Leite\n",
      "Vigilija Gaižauskas\n",
      "Casandra Arenas\n",
      "Ledün Soylu\n",
      "Arthur Laroche\n",
      "Ana Narušis\n",
      "Nath Nicolas\n",
      "Émile Nicolas\n",
      "Cathrine Lie\n",
      "Ingeborg Amundsen\n",
      "Nedas Naujokas\n",
      "Christl Henschel\n",
      "Miguel Real\n",
      "Karl Christensen\n",
      "Joris Kavaliauskas\n",
      "Yuvaan Dara\n",
      "Débora Vaz\n",
      "Urvi Dani\n",
      "Collin Heerkens\n",
      "Özkutlu Gül\n",
      "Brian Thompson\n",
      "Dorita Abella\n",
      "Liliana Flaiano\n",
      "Finn Karlsen\n",
      "David Miranda\n",
      "Torsten Schulz\n",
      "Kristen Webb\n",
      "Shaan Raju\n",
      "Giuseppina Scarfoglio\n",
      "Mamen Teruel\n",
      "Eduardo Rezende\n",
      "Melania Savorgnan\n"
     ]
    }
   ],
   "source": [
    "# step 1\n",
    "humongous_neo4j1 = 'MATCH (s:student) -[:is_enrolled]-> (c:course) WHERE c.courseID = \\'192\\' RETURN s.firstName, s.lastName'\n",
    "\n",
    "before = time.time()\n",
    "humongous_query1 = driver4.execute_query(humongous_neo4j1, database = 'neo4j')\n",
    "after = time.time()\n",
    "\n",
    "records = humongous_query1.records\n",
    "for record in records:\n",
    "    print(record.data()['s.firstName'], record.data()['s.lastName'],)"
   ]
  },
  {
   "cell_type": "code",
   "execution_count": 57,
   "id": "dad1b6c5",
   "metadata": {},
   "outputs": [],
   "source": [
    "# step 2\n",
    "msec_duration = (after - before) * 1000\n",
    "humongousDict['query1'].append(round(msec_duration, 5))"
   ]
  },
  {
   "cell_type": "code",
   "execution_count": 58,
   "id": "d7c3cc80",
   "metadata": {},
   "outputs": [],
   "source": [
    "# step 3\n",
    "for i in range(0, 30):\n",
    "    before = time.time()\n",
    "    driver4.execute_query(humongous_neo4j1, database = 'neo4j')\n",
    "    after = time.time()\n",
    "    msec_duration = (after - before) * 1000\n",
    "    humongousDict['query1'].append(round(msec_duration, 5))"
   ]
  },
  {
   "cell_type": "code",
   "execution_count": 59,
   "id": "6645b5b0",
   "metadata": {},
   "outputs": [
    {
     "data": {
      "text/plain": [
       "{'query1': [5255.56993,\n",
       "  65.04512,\n",
       "  53.98679,\n",
       "  46.71192,\n",
       "  24.19591,\n",
       "  24.19925,\n",
       "  24.81484,\n",
       "  22.03536,\n",
       "  17.21501,\n",
       "  20.39909,\n",
       "  36.15999,\n",
       "  19.67287,\n",
       "  21.77405,\n",
       "  19.56296,\n",
       "  22.46809,\n",
       "  21.7011,\n",
       "  19.57822,\n",
       "  18.36085,\n",
       "  19.979,\n",
       "  20.65396,\n",
       "  18.00489,\n",
       "  18.1241,\n",
       "  17.0002,\n",
       "  16.3331,\n",
       "  20.16783,\n",
       "  18.66698,\n",
       "  18.14485,\n",
       "  16.75963,\n",
       "  16.94226,\n",
       "  16.00981,\n",
       "  16.30807],\n",
       " 'query2': [],\n",
       " 'query3': [],\n",
       " 'query4': []}"
      ]
     },
     "execution_count": 59,
     "metadata": {},
     "output_type": "execute_result"
    }
   ],
   "source": [
    "humongousDict"
   ]
  },
  {
   "cell_type": "markdown",
   "id": "bc543e9a",
   "metadata": {},
   "source": [
    "<h4>Query 2</h4>"
   ]
  },
  {
   "cell_type": "code",
   "execution_count": 60,
   "id": "eb3996d4",
   "metadata": {},
   "outputs": [
    {
     "name": "stdout",
     "output_type": "stream",
     "text": [
      "Econometrics: Methods and Applications\n",
      "Exploratory Data Analysis\n",
      "Understanding Clinical Research: Behind the Statistics\n",
      "Introduction to Probability and Data with R\n",
      "Bayesian Statistics: From Concept to Data Analysis\n",
      "Introduction to Statistics\n",
      "Python and Statistics for Financial Analysis\n",
      "Basic Statistics\n",
      "Foundations: Data, Data, Everywhere\n"
     ]
    }
   ],
   "source": [
    "# step 1\n",
    "humongous_neo4j2 = 'MATCH(c:course) WHERE c.discipline = \\'statistics\\' AND c.courseYear = \\'2022\\' RETURN c.courseName'\n",
    "\n",
    "before = time.time()\n",
    "humongous_query2 = driver4.execute_query(humongous_neo4j2, database = 'neo4j')\n",
    "after = time.time()\n",
    "\n",
    "records = humongous_query2.records\n",
    "for record in records:\n",
    "    print(record.data()['c.courseName'])"
   ]
  },
  {
   "cell_type": "code",
   "execution_count": 61,
   "id": "a3a72d82",
   "metadata": {},
   "outputs": [],
   "source": [
    "# step 2\n",
    "msec_duration = (after - before) * 1000\n",
    "humongousDict['query2'].append(round(msec_duration, 5))"
   ]
  },
  {
   "cell_type": "code",
   "execution_count": 62,
   "id": "ef7b94c8",
   "metadata": {},
   "outputs": [],
   "source": [
    "# step 3\n",
    "for i in range(0, 30):\n",
    "    before = time.time()\n",
    "    driver4.execute_query(humongous_neo4j2, database = 'neo4j')\n",
    "    after = time.time()\n",
    "    msec_duration = (after - before) * 1000\n",
    "    humongousDict['query2'].append(round(msec_duration, 5))"
   ]
  },
  {
   "cell_type": "code",
   "execution_count": 63,
   "id": "d17514e7",
   "metadata": {},
   "outputs": [
    {
     "data": {
      "text/plain": [
       "{'query1': [5255.56993,\n",
       "  65.04512,\n",
       "  53.98679,\n",
       "  46.71192,\n",
       "  24.19591,\n",
       "  24.19925,\n",
       "  24.81484,\n",
       "  22.03536,\n",
       "  17.21501,\n",
       "  20.39909,\n",
       "  36.15999,\n",
       "  19.67287,\n",
       "  21.77405,\n",
       "  19.56296,\n",
       "  22.46809,\n",
       "  21.7011,\n",
       "  19.57822,\n",
       "  18.36085,\n",
       "  19.979,\n",
       "  20.65396,\n",
       "  18.00489,\n",
       "  18.1241,\n",
       "  17.0002,\n",
       "  16.3331,\n",
       "  20.16783,\n",
       "  18.66698,\n",
       "  18.14485,\n",
       "  16.75963,\n",
       "  16.94226,\n",
       "  16.00981,\n",
       "  16.30807],\n",
       " 'query2': [338.23609,\n",
       "  26.76678,\n",
       "  23.49782,\n",
       "  26.41606,\n",
       "  23.66304,\n",
       "  29.44207,\n",
       "  15.87796,\n",
       "  13.42392,\n",
       "  12.1839,\n",
       "  12.98833,\n",
       "  20.33091,\n",
       "  12.86292,\n",
       "  12.52294,\n",
       "  13.726,\n",
       "  12.64215,\n",
       "  14.28819,\n",
       "  12.75182,\n",
       "  12.25901,\n",
       "  13.36503,\n",
       "  12.57277,\n",
       "  26.0272,\n",
       "  13.67974,\n",
       "  12.84909,\n",
       "  13.4809,\n",
       "  12.96997,\n",
       "  13.92102,\n",
       "  14.16111,\n",
       "  20.82276,\n",
       "  13.33714,\n",
       "  25.60401,\n",
       "  17.51089],\n",
       " 'query3': [],\n",
       " 'query4': []}"
      ]
     },
     "execution_count": 63,
     "metadata": {},
     "output_type": "execute_result"
    }
   ],
   "source": [
    "humongousDict"
   ]
  },
  {
   "cell_type": "markdown",
   "id": "307d8b83",
   "metadata": {},
   "source": [
    "<h4>Query 3</h4>"
   ]
  },
  {
   "cell_type": "code",
   "execution_count": 64,
   "id": "6582fc0c",
   "metadata": {},
   "outputs": [
    {
     "name": "stdout",
     "output_type": "stream",
     "text": [
      "3498\n"
     ]
    }
   ],
   "source": [
    "# step 1\n",
    "humongous_neo4j3 = 'MATCH (c:course {discipline: \\'maths\\'}) <-[:is_enrolled]- (s:student) -[:studies]-> (m:material {mType: \\'lecture slides\\'}) <-[:uses]- (c:course) WHERE right(s.email, 9) = \\'gmail.com\\' RETURN COUNT(m);'\n",
    "\n",
    "before = time.time()\n",
    "humongous_query3 = driver4.execute_query(humongous_neo4j3, database = 'neo4j')\n",
    "after = time.time()\n",
    "\n",
    "records = humongous_query3.records\n",
    "for record in records:\n",
    "    print(record.data()['COUNT(m)'])"
   ]
  },
  {
   "cell_type": "code",
   "execution_count": 65,
   "id": "af46a064",
   "metadata": {},
   "outputs": [],
   "source": [
    "# step 2\n",
    "msec_duration = (after - before) * 1000\n",
    "humongousDict['query3'].append(round(msec_duration, 5))"
   ]
  },
  {
   "cell_type": "code",
   "execution_count": 66,
   "id": "8d0520ba",
   "metadata": {},
   "outputs": [],
   "source": [
    "# step 3\n",
    "for i in range(0, 30):\n",
    "    before = time.time()\n",
    "    driver4.execute_query(humongous_neo4j3, database = 'neo4j')\n",
    "    after = time.time()\n",
    "    msec_duration = (after - before) * 1000\n",
    "    humongousDict['query3'].append(round(msec_duration, 5))"
   ]
  },
  {
   "cell_type": "code",
   "execution_count": 67,
   "id": "89e95411",
   "metadata": {},
   "outputs": [
    {
     "data": {
      "text/plain": [
       "{'query1': [5255.56993,\n",
       "  65.04512,\n",
       "  53.98679,\n",
       "  46.71192,\n",
       "  24.19591,\n",
       "  24.19925,\n",
       "  24.81484,\n",
       "  22.03536,\n",
       "  17.21501,\n",
       "  20.39909,\n",
       "  36.15999,\n",
       "  19.67287,\n",
       "  21.77405,\n",
       "  19.56296,\n",
       "  22.46809,\n",
       "  21.7011,\n",
       "  19.57822,\n",
       "  18.36085,\n",
       "  19.979,\n",
       "  20.65396,\n",
       "  18.00489,\n",
       "  18.1241,\n",
       "  17.0002,\n",
       "  16.3331,\n",
       "  20.16783,\n",
       "  18.66698,\n",
       "  18.14485,\n",
       "  16.75963,\n",
       "  16.94226,\n",
       "  16.00981,\n",
       "  16.30807],\n",
       " 'query2': [338.23609,\n",
       "  26.76678,\n",
       "  23.49782,\n",
       "  26.41606,\n",
       "  23.66304,\n",
       "  29.44207,\n",
       "  15.87796,\n",
       "  13.42392,\n",
       "  12.1839,\n",
       "  12.98833,\n",
       "  20.33091,\n",
       "  12.86292,\n",
       "  12.52294,\n",
       "  13.726,\n",
       "  12.64215,\n",
       "  14.28819,\n",
       "  12.75182,\n",
       "  12.25901,\n",
       "  13.36503,\n",
       "  12.57277,\n",
       "  26.0272,\n",
       "  13.67974,\n",
       "  12.84909,\n",
       "  13.4809,\n",
       "  12.96997,\n",
       "  13.92102,\n",
       "  14.16111,\n",
       "  20.82276,\n",
       "  13.33714,\n",
       "  25.60401,\n",
       "  17.51089],\n",
       " 'query3': [1648.39602,\n",
       "  84.55014,\n",
       "  131.42204,\n",
       "  45.66669,\n",
       "  45.17031,\n",
       "  64.90612,\n",
       "  57.19399,\n",
       "  65.99879,\n",
       "  51.59926,\n",
       "  55.21107,\n",
       "  87.50486,\n",
       "  54.78597,\n",
       "  96.40718,\n",
       "  56.98109,\n",
       "  71.29598,\n",
       "  67.22999,\n",
       "  52.48594,\n",
       "  65.18292,\n",
       "  1625.29206,\n",
       "  72.75915,\n",
       "  64.07714,\n",
       "  64.51797,\n",
       "  117.30671,\n",
       "  64.19301,\n",
       "  57.36899,\n",
       "  142.43293,\n",
       "  207.86524,\n",
       "  96.55881,\n",
       "  44.58904,\n",
       "  76.2341,\n",
       "  56.58317],\n",
       " 'query4': []}"
      ]
     },
     "execution_count": 67,
     "metadata": {},
     "output_type": "execute_result"
    }
   ],
   "source": [
    "humongousDict"
   ]
  },
  {
   "cell_type": "markdown",
   "id": "34eec0d6",
   "metadata": {},
   "source": [
    "<h4>Query 4</h4>"
   ]
  },
  {
   "cell_type": "code",
   "execution_count": 68,
   "id": "ed27d20c",
   "metadata": {},
   "outputs": [
    {
     "name": "stdout",
     "output_type": "stream",
     "text": [
      "Tere Castells República Popular Democrática de Corea\n",
      "Leila Gailys Korea\n",
      "Ninthe Horrocks Noord-Korea\n",
      "Cathrine Lie South Korea\n",
      "Miguel Real República de Corea\n",
      "Lynda Reynolds Korea\n",
      "Debra Shaw Korea\n",
      "Raghav Sura North Korea\n"
     ]
    }
   ],
   "source": [
    "# step 1\n",
    "humongous_neo4j4 = 'MATCH (s:student) -[:is_enrolled]-> (c:course {discipline: \\'psychology\\'}) WHERE right(s.country, 4) = \\'orea\\' AND left(s.dob, 1) <> \\'2\\' RETURN DISTINCT s.firstName, s.lastName, s.country ORDER BY s.lastName;'\n",
    "\n",
    "before = time.time()\n",
    "humongous_query4 = driver4.execute_query(humongous_neo4j4, database = 'neo4j')\n",
    "after = time.time()\n",
    "\n",
    "records = humongous_query4.records\n",
    "for record in records:\n",
    "    print(record.data()['s.firstName'], record.data()['s.lastName'], record.data()['s.country'])"
   ]
  },
  {
   "cell_type": "code",
   "execution_count": 69,
   "id": "29c1c1d7",
   "metadata": {},
   "outputs": [],
   "source": [
    "# step 2\n",
    "msec_duration = (after - before) * 1000\n",
    "humongousDict['query4'].append(round(msec_duration, 5))"
   ]
  },
  {
   "cell_type": "code",
   "execution_count": 70,
   "id": "d4ba9577",
   "metadata": {},
   "outputs": [],
   "source": [
    "# step 3\n",
    "for i in range(0, 30):\n",
    "    before = time.time()\n",
    "    driver4.execute_query(humongous_neo4j4, database = 'neo4j')\n",
    "    after = time.time()\n",
    "    msec_duration = (after - before) * 1000\n",
    "    humongousDict['query4'].append(round(msec_duration, 5))"
   ]
  },
  {
   "cell_type": "code",
   "execution_count": 71,
   "id": "7a8b6a6d",
   "metadata": {},
   "outputs": [
    {
     "data": {
      "text/plain": [
       "{'query1': [5255.56993,\n",
       "  65.04512,\n",
       "  53.98679,\n",
       "  46.71192,\n",
       "  24.19591,\n",
       "  24.19925,\n",
       "  24.81484,\n",
       "  22.03536,\n",
       "  17.21501,\n",
       "  20.39909,\n",
       "  36.15999,\n",
       "  19.67287,\n",
       "  21.77405,\n",
       "  19.56296,\n",
       "  22.46809,\n",
       "  21.7011,\n",
       "  19.57822,\n",
       "  18.36085,\n",
       "  19.979,\n",
       "  20.65396,\n",
       "  18.00489,\n",
       "  18.1241,\n",
       "  17.0002,\n",
       "  16.3331,\n",
       "  20.16783,\n",
       "  18.66698,\n",
       "  18.14485,\n",
       "  16.75963,\n",
       "  16.94226,\n",
       "  16.00981,\n",
       "  16.30807],\n",
       " 'query2': [338.23609,\n",
       "  26.76678,\n",
       "  23.49782,\n",
       "  26.41606,\n",
       "  23.66304,\n",
       "  29.44207,\n",
       "  15.87796,\n",
       "  13.42392,\n",
       "  12.1839,\n",
       "  12.98833,\n",
       "  20.33091,\n",
       "  12.86292,\n",
       "  12.52294,\n",
       "  13.726,\n",
       "  12.64215,\n",
       "  14.28819,\n",
       "  12.75182,\n",
       "  12.25901,\n",
       "  13.36503,\n",
       "  12.57277,\n",
       "  26.0272,\n",
       "  13.67974,\n",
       "  12.84909,\n",
       "  13.4809,\n",
       "  12.96997,\n",
       "  13.92102,\n",
       "  14.16111,\n",
       "  20.82276,\n",
       "  13.33714,\n",
       "  25.60401,\n",
       "  17.51089],\n",
       " 'query3': [1648.39602,\n",
       "  84.55014,\n",
       "  131.42204,\n",
       "  45.66669,\n",
       "  45.17031,\n",
       "  64.90612,\n",
       "  57.19399,\n",
       "  65.99879,\n",
       "  51.59926,\n",
       "  55.21107,\n",
       "  87.50486,\n",
       "  54.78597,\n",
       "  96.40718,\n",
       "  56.98109,\n",
       "  71.29598,\n",
       "  67.22999,\n",
       "  52.48594,\n",
       "  65.18292,\n",
       "  1625.29206,\n",
       "  72.75915,\n",
       "  64.07714,\n",
       "  64.51797,\n",
       "  117.30671,\n",
       "  64.19301,\n",
       "  57.36899,\n",
       "  142.43293,\n",
       "  207.86524,\n",
       "  96.55881,\n",
       "  44.58904,\n",
       "  76.2341,\n",
       "  56.58317],\n",
       " 'query4': [704.70405,\n",
       "  28.22518,\n",
       "  28.69701,\n",
       "  18.30983,\n",
       "  16.922,\n",
       "  16.1469,\n",
       "  16.30378,\n",
       "  24.31417,\n",
       "  16.083,\n",
       "  15.88297,\n",
       "  29.26683,\n",
       "  16.93416,\n",
       "  18.17298,\n",
       "  17.1349,\n",
       "  18.29815,\n",
       "  18.02492,\n",
       "  19.54699,\n",
       "  16.21604,\n",
       "  20.40577,\n",
       "  15.9359,\n",
       "  16.16311,\n",
       "  15.9533,\n",
       "  15.67578,\n",
       "  22.64786,\n",
       "  18.35179,\n",
       "  16.00623,\n",
       "  14.78887,\n",
       "  13.86094,\n",
       "  13.68809,\n",
       "  13.93294,\n",
       "  14.51206]}"
      ]
     },
     "execution_count": 71,
     "metadata": {},
     "output_type": "execute_result"
    }
   ],
   "source": [
    "humongousDict"
   ]
  },
  {
   "cell_type": "code",
   "execution_count": 72,
   "id": "c734e9bf",
   "metadata": {},
   "outputs": [
    {
     "data": {
      "text/plain": [
       "{'query1': [5255.56993, 23.6992],\n",
       " 'query2': [338.23609, 16.86485],\n",
       " 'query3': [1648.39602, 128.11236],\n",
       " 'query4': [704.70405, 18.21342]}"
      ]
     },
     "execution_count": 72,
     "metadata": {},
     "output_type": "execute_result"
    }
   ],
   "source": [
    "humongousDataset = {'query1' : list(), 'query2' : list(), 'query3' : list(), 'query4' : list()}\n",
    "for key in humongousDict:\n",
    "    humongousDataset[key].append(humongousDict[key][0])\n",
    "    mean30 = mean(humongousDict[key][1 : 31])\n",
    "    humongousDataset[key].append(round(mean30, 5))\n",
    "humongousDataset"
   ]
  },
  {
   "cell_type": "code",
   "execution_count": 73,
   "id": "723f0933",
   "metadata": {},
   "outputs": [],
   "source": [
    "with open('neo4j_tests.csv', 'w', newline = '') as neo4j_tests:\n",
    "    writer = csv.writer(neo4j_tests, delimiter = ',')\n",
    "    keys = smallDict.keys()\n",
    "    limit = len(smallDict['query1'])\n",
    "    \n",
    "    writer.writerow(keys)\n",
    "    writer.writerow('s') # s stands for small dataset\n",
    "    for i in range(0, limit):\n",
    "        writer.writerow(smallDict[k][i] for k in keys)\n",
    "    writer.writerow('m')  # m stands for medium dataset\n",
    "    for i in range(0, limit):\n",
    "        writer.writerow(mediumDict[k][i] for k in keys)\n",
    "    writer.writerow('l') # l stands for large dataset\n",
    "    for i in range(0, limit):\n",
    "        writer.writerow(largeDict[k][i] for k in keys)\n",
    "    writer.writerow('h') # h stands for humongous dataset\n",
    "    for i in range(0, limit):\n",
    "        writer.writerow(humongousDict[k][i] for k in keys)"
   ]
  },
  {
   "cell_type": "code",
   "execution_count": null,
   "id": "3a023f7b",
   "metadata": {},
   "outputs": [],
   "source": []
  }
 ],
 "metadata": {
  "kernelspec": {
   "display_name": "Python 3 (ipykernel)",
   "language": "python",
   "name": "python3"
  },
  "language_info": {
   "codemirror_mode": {
    "name": "ipython",
    "version": 3
   },
   "file_extension": ".py",
   "mimetype": "text/x-python",
   "name": "python",
   "nbconvert_exporter": "python",
   "pygments_lexer": "ipython3",
   "version": "3.10.8"
  }
 },
 "nbformat": 4,
 "nbformat_minor": 5
}

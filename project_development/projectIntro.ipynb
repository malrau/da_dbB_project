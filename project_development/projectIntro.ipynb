{
 "cells": [
  {
   "cell_type": "markdown",
   "id": "ebafff0f",
   "metadata": {},
   "source": [
    "<center><h1>[Data Analysis] Database Module B - project</h1></center>\n",
    "<center><h2>Online Learning Platform</h2></center>\n",
    "<center><h3>540438 - Maurizio La Rosa</h3></center>"
   ]
  },
  {
   "cell_type": "markdown",
   "id": "e2753831",
   "metadata": {},
   "source": [
    "<h3>\n",
    "Presenting the project\n",
    "</h3><br>\n",
    "The project consists in the comparison of the behaviour of the DBMSs studied (<a href = 'https://www.mysql.com/it/'>MySQL</a>, <a href = 'https://www.mongodb.com'>MongoDB</a>, <a href = 'https://cassandra.apache.org/_/index.html'>Cassandra</a>, <a href = 'https://redis.io'>Redis</a>, and <a href = 'https://neo4j.com'>Neo4j</a>) when performing queries on the same database. The database must reproduce the data of an <u>online learning platform</u> characterized by the presence of students enrolled to courses and accessing the courses' learning materials. A fake dataset has been implemented via programming language (Python) and four csv files of increasing size (in terms of rows) have been created (the csv files have 250000, 500000, 750000 and 1000000 rows, respectively). Each database must be fed to all of the cited DBMSs and four queries of increasing complexity (from the point of view of the number of entities involved and the selection filters) must be performed on each database instance of each DBMS. The queries must be implemented by interaction between a programming language and each DBMS. Each DBMS implements a set of drivers for the most common programming languages and references are available in the DBMS web pages. I opt for interacting through <i>Python</i>. Finally, query execution times must be recorded at millisecond precision, stored into a spreadsheet and plotted by means of histograms."
   ]
  },
  {
   "cell_type": "markdown",
   "id": "a256c742",
   "metadata": {},
   "source": [
    "<h3>\n",
    "Importing csv files into the DBMSs\n",
    "</h3><br>\n",
    "The step that must preceed the establishment of an interaction between Python and the MySQL database, is the import of the four csv files that must be used to perform the query execution tests. Each DBMS has its import utilities, and I present them individually. I generally prefer to perform import at the DBMS level rather than accessing the database from the programming language interface and copying the data into the database (for example by looping over the data structure and inserting data rows into a MySQL table in the database).<br>So, the import phase is performed through DBMS defined routines, not via the application programming language.<br>After introducing the procedure required for the import phase, I present the driver for the Python - DBMS interaction. I do this for each DBMS. Generally, I explain hor to connect to a DBMS and authenticate, how to choose a database and perform queries. Finally, I implement the four queries for each of the four differently sized datasets and present the response time."
   ]
  },
  {
   "cell_type": "markdown",
   "id": "8c48fe3d",
   "metadata": {},
   "source": [
    "<h3>\n",
    "Defining the queries\n",
    "</h3><br>\n",
    "Here I will define the four queries that must be performed for each database instance on each of the five DBMSs of interest.\n",
    "<br>\n",
    "<h4>Query 1</h4>\n",
    "Show the first and last names of the students enrolled to the course with courseID number <i>192</i>\n",
    "<br>\n",
    "<h4>Query 2</h4>\n",
    "Show the names of the courses belonging to the discipline <i>statistics</i> for year <i>2022</i>\n",
    "<br>\n",
    "<h4>Query 3</h4>\n",
    "Show the number of learning materials of type 'slides' accessed by the students enrolled to courses belonging to the discipline <i>maths</i> who have <i>gmail.com</i> domain in their email\n",
    "<br>\n",
    "<h4>Query 4</h4>\n",
    "Show the first and last names and the country of the students enrolled to the courses belonging to the discipline <i>psychology</i> who come from any of the two states of <i>Korea</i> and were born before year <i>2000</i>, sort them by surname"
   ]
  },
  {
   "cell_type": "code",
   "execution_count": null,
   "id": "a49e7f4e",
   "metadata": {},
   "outputs": [],
   "source": []
  }
 ],
 "metadata": {
  "kernelspec": {
   "display_name": "Python 3 (ipykernel)",
   "language": "python",
   "name": "python3"
  },
  "language_info": {
   "codemirror_mode": {
    "name": "ipython",
    "version": 3
   },
   "file_extension": ".py",
   "mimetype": "text/x-python",
   "name": "python",
   "nbconvert_exporter": "python",
   "pygments_lexer": "ipython3",
   "version": "3.10.8"
  }
 },
 "nbformat": 4,
 "nbformat_minor": 5
}

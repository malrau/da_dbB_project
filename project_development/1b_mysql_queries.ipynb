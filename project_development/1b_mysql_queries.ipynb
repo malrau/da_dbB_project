{
 "cells": [
  {
   "cell_type": "markdown",
   "id": "ed500d9f",
   "metadata": {},
   "source": [
    "<center>\n",
    "    <h2>Online learning platform database - MySQL</h2>\n",
    "    <h3>Performing the queries and storing the queries execution time</h3>\n",
    "</center>"
   ]
  },
  {
   "cell_type": "markdown",
   "id": "ee8cfed7",
   "metadata": {},
   "source": [
    "<br/>\n",
    "<h3>Python - MySQL interaction</h3>"
   ]
  },
  {
   "cell_type": "markdown",
   "id": "114092a4",
   "metadata": {},
   "source": [
    "Prior to performing the queries we import the required modules (the MySQL <i>connector</i> and the <i>time</i> module) and establish a connection with the running MySQL instance."
   ]
  },
  {
   "cell_type": "code",
   "execution_count": 1,
   "id": "9d3ea7dd",
   "metadata": {},
   "outputs": [],
   "source": [
    "# import modules\n",
    "import mysql.connector as connector   # MySQL driver\n",
    "import time                           # time-related functions to register query execution times\n",
    "import csv                            # read and write csv files\n",
    "\n",
    "# create connection object\n",
    "conn = connector.connect(host = '127.0.0.1', port = '3306', user = 'root', password = 'X4mPpd3V', database = 'dbB_MYSQL_test')\n",
    "\n",
    "# create cursor object\n",
    "cursor = conn.cursor()"
   ]
  },
  {
   "cell_type": "code",
   "execution_count": null,
   "id": "fd8c694a",
   "metadata": {},
   "outputs": [],
   "source": []
  },
  {
   "cell_type": "markdown",
   "id": "723698dc",
   "metadata": {},
   "source": [
    "<h3>Query the datasets</h3>"
   ]
  },
  {
   "cell_type": "markdown",
   "id": "813920c0",
   "metadata": {},
   "source": [
    "I create a dictionary of lists for each of the four datasets. In these dictionaries the keys are the query names and the values are the 31 query execution times: in fact I attach the value of the query execution time of the most recent query to the list. Since query execution times are required in milliseconds, prior to attaching them, I multiply them by 1000 and round them to the fifth decimal precision.\n",
    "The above sumarized actions (for each of the four queries on each of the four datasets) are performed by following a standard succession of steps. Each step is incapsulated within a notebook cell (so each query is performed 31 times by means of three notebook cells):\n",
    " - step 1: define the query, perform it for the first time, contextually create timestamps prior and after query execution, print query result;\n",
    " - step 2: compute executione time of the first query execution and store it within the corresponding dictionary list;\n",
    " - step 3: [thirty times] perform query execution while creating prior and following timestamps, compute execution time and store it within the corresponding dictionary list, reset the cursor to allow repeating the query.\n",
    "\n",
    "For each dataset, after having performed the four queries, I will finally compute the mean of the query executions from step 3. Together with the first query execution, this mean value will be stored into a new dictionary, specific to a dataset. The four new dictionaries will then be saved as a csv file for constructing histograms."
   ]
  },
  {
   "cell_type": "code",
   "execution_count": 2,
   "id": "7e170a41",
   "metadata": {},
   "outputs": [],
   "source": [
    "smallDict = {'query1' : list(), 'query2' : list(), 'query3' : list(), 'query4' : list()}\n",
    "mediumDict = {'query1' : list(), 'query2' : list(), 'query3' : list(), 'query4' : list()}\n",
    "largeDict = {'query1' : list(), 'query2' : list(), 'query3' : list(), 'query4' : list()}\n",
    "humongousDict = {'query1' : list(), 'query2' : list(), 'query3' : list(), 'query4' : list()}"
   ]
  },
  {
   "cell_type": "code",
   "execution_count": 3,
   "id": "26b901a6",
   "metadata": {},
   "outputs": [],
   "source": [
    "# mean function (used to compute mean execution time of the 30 grouped queries)\n",
    "def mean(aList):\n",
    "    n = len(aList)\n",
    "    sum = 0\n",
    "    for value in aList:\n",
    "        sum += value\n",
    "    return sum / n"
   ]
  },
  {
   "cell_type": "markdown",
   "id": "ea43f479",
   "metadata": {},
   "source": [
    "<h3>Dataset with 250k records</h3>"
   ]
  },
  {
   "cell_type": "markdown",
   "id": "8df9fd57",
   "metadata": {},
   "source": [
    "I start with the smallest dataset."
   ]
  },
  {
   "cell_type": "markdown",
   "id": "3a99212e",
   "metadata": {},
   "source": [
    "<h4>Query1</h4>"
   ]
  },
  {
   "cell_type": "code",
   "execution_count": 4,
   "id": "2a45d218",
   "metadata": {},
   "outputs": [
    {
     "name": "stdout",
     "output_type": "stream",
     "text": [
      "Custodia Hidalgo\n",
      "Sarah Lara\n",
      "Narciso Ferrán\n",
      "Patrícia Leite\n",
      "Vigilija Gaižauskas\n",
      "Casandra Arenas\n",
      "Ledün Soylu\n",
      "Arthur Laroche\n",
      "Ana Narušis\n",
      "Nath Nicolas\n",
      "Émile Nicolas\n",
      "Cathrine Lie\n",
      "Ingeborg Amundsen\n"
     ]
    }
   ],
   "source": [
    "# step 1\n",
    "small_sql1 = 'SELECT DISTINCT firstName AS name, lastName AS surname FROM smallDB AS S WHERE courseID = 192'\n",
    "\n",
    "before = time.time()\n",
    "cursor.execute(small_sql1)\n",
    "after = time.time()\n",
    "\n",
    "small_query1 = cursor.fetchall()\n",
    "for name, surname in small_query1:\n",
    "    print(name, surname)"
   ]
  },
  {
   "cell_type": "code",
   "execution_count": 5,
   "id": "f8c93726",
   "metadata": {},
   "outputs": [],
   "source": [
    "# step 2\n",
    "msec_duration = (after - before) * 1000\n",
    "smallDict['query1'].append(round(msec_duration, 5))"
   ]
  },
  {
   "cell_type": "code",
   "execution_count": 6,
   "id": "385f64be",
   "metadata": {},
   "outputs": [],
   "source": [
    "# step 3\n",
    "for i in range(0, 30):\n",
    "    before = time.time()\n",
    "    cursor.execute(small_sql1)\n",
    "    after = time.time()\n",
    "    msec_duration = (after - before) * 1000\n",
    "    smallDict['query1'].append(round(msec_duration, 5))\n",
    "    cursor.reset()"
   ]
  },
  {
   "cell_type": "markdown",
   "id": "b7c1824f",
   "metadata": {},
   "source": [
    "<h4>Query2</h4>"
   ]
  },
  {
   "cell_type": "code",
   "execution_count": 7,
   "id": "6a3ca8df",
   "metadata": {},
   "outputs": [
    {
     "name": "stdout",
     "output_type": "stream",
     "text": [
      "Econometrics: Methods and Applications\n",
      "Exploratory Data Analysis\n",
      "Understanding Clinical Research: Behind the Statistics\n",
      "Introduction to Probability and Data with R\n",
      "Bayesian Statistics: From Concept to Data Analysis\n",
      "Introduction to Statistics\n",
      "Python and Statistics for Financial Analysis\n",
      "Basic Statistics\n",
      "Foundations: Data, Data, Everywhere\n"
     ]
    }
   ],
   "source": [
    "# step 1\n",
    "small_sql2 = 'SELECT DISTINCT courseName AS name FROM smallDB WHERE discipline = \\'statistics\\' AND courseYear = 2022'\n",
    "\n",
    "before = time.time()\n",
    "cursor.execute(small_sql2)\n",
    "after = time.time()\n",
    "\n",
    "small_query2 = cursor.fetchall()\n",
    "for course in small_query2:\n",
    "    print(course[0])"
   ]
  },
  {
   "cell_type": "code",
   "execution_count": 8,
   "id": "fac392aa",
   "metadata": {},
   "outputs": [],
   "source": [
    "# step 2\n",
    "msec_duration = (after - before) * 1000\n",
    "smallDict['query2'].append(round(msec_duration, 5))"
   ]
  },
  {
   "cell_type": "code",
   "execution_count": 9,
   "id": "4709991f",
   "metadata": {},
   "outputs": [],
   "source": [
    "# step 3\n",
    "for i in range(0, 30):\n",
    "    before = time.time()\n",
    "    cursor.execute(small_sql2)\n",
    "    after = time.time()\n",
    "    msec_duration = (after - before) * 1000\n",
    "    smallDict['query2'].append(round(msec_duration, 5))\n",
    "    cursor.reset()"
   ]
  },
  {
   "cell_type": "markdown",
   "id": "4a16e0cf",
   "metadata": {},
   "source": [
    "<h4>Query3</h4>"
   ]
  },
  {
   "cell_type": "code",
   "execution_count": 10,
   "id": "2f77e3db",
   "metadata": {},
   "outputs": [
    {
     "name": "stdout",
     "output_type": "stream",
     "text": [
      "838\n"
     ]
    }
   ],
   "source": [
    "# step 1\n",
    "small_sql3 = 'SELECT COUNT(materialID) FROM smallDB WHERE materialType = \\'lecture slides\\' AND discipline = \\'maths\\' AND email LIKE \\'%gmail.com\\''\n",
    "\n",
    "before = time.time()\n",
    "cursor.execute(small_sql3)\n",
    "after = time.time()\n",
    "\n",
    "small_query3 = cursor.fetchall()\n",
    "for count in small_query3[0]:\n",
    "    print(count)"
   ]
  },
  {
   "cell_type": "code",
   "execution_count": 11,
   "id": "471c98a5",
   "metadata": {},
   "outputs": [],
   "source": [
    "# step 2\n",
    "msec_duration = (after - before) * 1000\n",
    "smallDict['query3'].append(round(msec_duration, 5))"
   ]
  },
  {
   "cell_type": "code",
   "execution_count": 12,
   "id": "2bbcf897",
   "metadata": {},
   "outputs": [],
   "source": [
    "# step 3\n",
    "for i in range(0, 30):\n",
    "    before = time.time()\n",
    "    cursor.execute(small_sql3)\n",
    "    after = time.time()\n",
    "    msec_duration = (after - before) * 1000\n",
    "    smallDict['query3'].append(round(msec_duration, 5))\n",
    "    cursor.reset()"
   ]
  },
  {
   "cell_type": "markdown",
   "id": "45b54626",
   "metadata": {},
   "source": [
    "<h4>Query4</h4>"
   ]
  },
  {
   "cell_type": "code",
   "execution_count": 13,
   "id": "46e86de6",
   "metadata": {},
   "outputs": [
    {
     "name": "stdout",
     "output_type": "stream",
     "text": [
      "Cathrine Lie from South Korea\n",
      "Lynda Reynolds from Korea\n",
      "Raghav Sura from North Korea\n"
     ]
    }
   ],
   "source": [
    "# step 1\n",
    "small_sql4 = 'SELECT DISTINCT firstName AS name, lastName as surname, country FROM smallDB WHERE discipline = \\'psychology\\' AND country LIKE \\'%orea\\' AND dateOfBirth LIKE \\'1%\\' AND courseYear = 2023 ORDER BY surname ASC;'\n",
    "\n",
    "before = time.time()\n",
    "cursor.execute(small_sql4)\n",
    "after = time.time()\n",
    "\n",
    "small_query4 = cursor.fetchall()\n",
    "for name, surname, country in small_query4:\n",
    "    print(name, surname, 'from', country)"
   ]
  },
  {
   "cell_type": "code",
   "execution_count": 14,
   "id": "1bc4df7e",
   "metadata": {},
   "outputs": [],
   "source": [
    "# step 2\n",
    "msec_duration = (after - before) * 1000\n",
    "smallDict['query4'].append(round(msec_duration, 5))"
   ]
  },
  {
   "cell_type": "code",
   "execution_count": 15,
   "id": "9acea6ed",
   "metadata": {},
   "outputs": [],
   "source": [
    "# step 3\n",
    "for i in range(0, 30):\n",
    "    before = time.time()\n",
    "    cursor.execute(small_sql4)\n",
    "    after = time.time()\n",
    "    msec_duration = (after - before) * 1000\n",
    "    smallDict['query4'].append(round(msec_duration, 5))\n",
    "    cursor.reset()"
   ]
  },
  {
   "cell_type": "markdown",
   "id": "5fddce47",
   "metadata": {},
   "source": [
    "I store the execution time of the first query execution and of the mean of the following 30 query executions into a new dictionary."
   ]
  },
  {
   "cell_type": "code",
   "execution_count": 16,
   "id": "7dc5eebd",
   "metadata": {},
   "outputs": [
    {
     "data": {
      "text/plain": [
       "{'query1': [3223.03796, 111.13884],\n",
       " 'query2': [192.51108, 156.48786],\n",
       " 'query3': [195.03403, 147.04111],\n",
       " 'query4': [215.14106, 179.53944]}"
      ]
     },
     "execution_count": 16,
     "metadata": {},
     "output_type": "execute_result"
    }
   ],
   "source": [
    "smallDataset = {'query1' : list(), 'query2' : list(), 'query3' : list(), 'query4' : list()}\n",
    "for key in smallDict:\n",
    "    smallDataset[key].append(smallDict[key][0])\n",
    "    mean30 = mean(smallDict[key][1 : 31])\n",
    "    smallDataset[key].append(round(mean30, 5))\n",
    "smallDataset"
   ]
  },
  {
   "cell_type": "code",
   "execution_count": null,
   "id": "974d0a4f",
   "metadata": {},
   "outputs": [],
   "source": []
  },
  {
   "cell_type": "markdown",
   "id": "da63f782",
   "metadata": {},
   "source": [
    "<h3>Dataset with 500k records</h3>"
   ]
  },
  {
   "cell_type": "markdown",
   "id": "9db02bdf",
   "metadata": {},
   "source": [
    "<h4>Query1</h4>"
   ]
  },
  {
   "cell_type": "code",
   "execution_count": 26,
   "id": "b4aa9be8",
   "metadata": {},
   "outputs": [
    {
     "name": "stdout",
     "output_type": "stream",
     "text": [
      "Custodia Hidalgo\n",
      "Sarah Lara\n",
      "Narciso Ferrán\n",
      "Patrícia Leite\n",
      "Vigilija Gaižauskas\n",
      "Casandra Arenas\n",
      "Ledün Soylu\n",
      "Arthur Laroche\n",
      "Ana Narušis\n",
      "Nath Nicolas\n",
      "Émile Nicolas\n",
      "Cathrine Lie\n",
      "Ingeborg Amundsen\n",
      "Nedas Naujokas\n",
      "Christl Henschel\n",
      "Miguel Real\n",
      "Karl Christensen\n",
      "Joris Kavaliauskas\n",
      "Yuvaan Dara\n",
      "Débora Vaz\n"
     ]
    }
   ],
   "source": [
    "# step 1\n",
    "medium_sql1 = 'SELECT DISTINCT firstName AS name, lastName AS surname FROM mediumDB AS S WHERE courseID = 192'\n",
    "\n",
    "before = time.time()\n",
    "cursor.execute(medium_sql1)\n",
    "after = time.time()\n",
    "\n",
    "medium_query1 = cursor.fetchall()\n",
    "for name, surname in medium_query1:\n",
    "    print(name, surname)"
   ]
  },
  {
   "cell_type": "code",
   "execution_count": 27,
   "id": "183fb495",
   "metadata": {},
   "outputs": [],
   "source": [
    "# step 2\n",
    "msec_duration = (after - before) * 1000\n",
    "mediumDict['query1'].append(round(msec_duration, 5))"
   ]
  },
  {
   "cell_type": "code",
   "execution_count": 28,
   "id": "8029dceb",
   "metadata": {},
   "outputs": [],
   "source": [
    "# step 3\n",
    "for i in range(0, 30):\n",
    "    before = time.time()\n",
    "    cursor.execute(medium_sql1)\n",
    "    after = time.time()\n",
    "    msec_duration = (after - before) * 1000\n",
    "    mediumDict['query1'].append(round(msec_duration, 5))\n",
    "    cursor.reset()"
   ]
  },
  {
   "cell_type": "markdown",
   "id": "978ac7b9",
   "metadata": {},
   "source": [
    "<h4>Query2</h4>"
   ]
  },
  {
   "cell_type": "code",
   "execution_count": 29,
   "id": "be9f7ae4",
   "metadata": {},
   "outputs": [
    {
     "name": "stdout",
     "output_type": "stream",
     "text": [
      "Econometrics: Methods and Applications\n",
      "Exploratory Data Analysis\n",
      "Understanding Clinical Research: Behind the Statistics\n",
      "Introduction to Probability and Data with R\n",
      "Bayesian Statistics: From Concept to Data Analysis\n",
      "Introduction to Statistics\n",
      "Python and Statistics for Financial Analysis\n",
      "Basic Statistics\n",
      "Foundations: Data, Data, Everywhere\n"
     ]
    }
   ],
   "source": [
    "# step 1\n",
    "medium_sql2 = 'SELECT DISTINCT courseName AS name FROM mediumDB WHERE discipline = \\'statistics\\' AND courseYear = 2022'\n",
    "\n",
    "before = time.time()\n",
    "cursor.execute(medium_sql2)\n",
    "after = time.time()\n",
    "\n",
    "medium_query2 = cursor.fetchall()\n",
    "for course in medium_query2:\n",
    "    print(course[0])"
   ]
  },
  {
   "cell_type": "code",
   "execution_count": 30,
   "id": "c8464a81",
   "metadata": {},
   "outputs": [],
   "source": [
    "# step 2\n",
    "msec_duration = (after - before) * 1000\n",
    "mediumDict['query2'].append(round(msec_duration, 5))"
   ]
  },
  {
   "cell_type": "code",
   "execution_count": 31,
   "id": "77bf56b7",
   "metadata": {},
   "outputs": [],
   "source": [
    "# step 3\n",
    "for i in range(0, 30):\n",
    "    before = time.time()\n",
    "    cursor.execute(medium_sql2)\n",
    "    after = time.time()\n",
    "    msec_duration = (after - before) * 1000\n",
    "    mediumDict['query2'].append(round(msec_duration, 5))\n",
    "    cursor.reset()"
   ]
  },
  {
   "cell_type": "markdown",
   "id": "a8832c2f",
   "metadata": {},
   "source": [
    "<h4>Query3</h4>"
   ]
  },
  {
   "cell_type": "code",
   "execution_count": 32,
   "id": "fb7a6328",
   "metadata": {},
   "outputs": [
    {
     "name": "stdout",
     "output_type": "stream",
     "text": [
      "1698\n"
     ]
    }
   ],
   "source": [
    "# step 1\n",
    "medium_sql3 = 'SELECT COUNT(materialID) FROM mediumDB WHERE materialType = \\'lecture slides\\' AND discipline = \\'maths\\' AND email LIKE \\'%gmail.com\\''\n",
    "\n",
    "before = time.time()\n",
    "cursor.execute(medium_sql3)\n",
    "after = time.time()\n",
    "\n",
    "medium_query3 = cursor.fetchall()\n",
    "for count in medium_query3[0]:\n",
    "    print(count)"
   ]
  },
  {
   "cell_type": "code",
   "execution_count": 33,
   "id": "e1c6703f",
   "metadata": {},
   "outputs": [],
   "source": [
    "# step 2\n",
    "msec_duration = (after - before) * 1000\n",
    "mediumDict['query3'].append(round(msec_duration, 5))"
   ]
  },
  {
   "cell_type": "code",
   "execution_count": 34,
   "id": "83405db7",
   "metadata": {},
   "outputs": [],
   "source": [
    "# step 3\n",
    "for i in range(0, 30):\n",
    "    before = time.time()\n",
    "    cursor.execute(medium_sql3)\n",
    "    after = time.time()\n",
    "    msec_duration = (after - before) * 1000\n",
    "    mediumDict['query3'].append(round(msec_duration, 5))\n",
    "    cursor.reset()"
   ]
  },
  {
   "cell_type": "markdown",
   "id": "6d7c60ee",
   "metadata": {},
   "source": [
    "<h4>Query4</h4>"
   ]
  },
  {
   "cell_type": "code",
   "execution_count": 35,
   "id": "3748c8a7",
   "metadata": {},
   "outputs": [
    {
     "name": "stdout",
     "output_type": "stream",
     "text": [
      "Ninthe Horrocks from Noord-Korea\n",
      "Cathrine Lie from South Korea\n",
      "Miguel Real from República de Corea\n",
      "Lynda Reynolds from Korea\n",
      "Raghav Sura from North Korea\n"
     ]
    }
   ],
   "source": [
    "# step 1\n",
    "medium_sql4 = 'SELECT DISTINCT firstName AS name, lastName as surname, country FROM mediumDB WHERE discipline = \\'psychology\\' AND country LIKE \\'%orea\\' AND dateOfBirth LIKE \\'1%\\' AND courseYear = 2023 ORDER BY surname ASC;'\n",
    "\n",
    "before = time.time()\n",
    "cursor.execute(medium_sql4)\n",
    "after = time.time()\n",
    "\n",
    "medium_query4 = cursor.fetchall()\n",
    "for name, surname, country in medium_query4:\n",
    "    print(name, surname, 'from', country)"
   ]
  },
  {
   "cell_type": "code",
   "execution_count": 36,
   "id": "3f2c36f2",
   "metadata": {},
   "outputs": [],
   "source": [
    "# step 2\n",
    "msec_duration = (after - before) * 1000\n",
    "mediumDict['query4'].append(round(msec_duration, 5))"
   ]
  },
  {
   "cell_type": "code",
   "execution_count": 37,
   "id": "bb84d735",
   "metadata": {},
   "outputs": [],
   "source": [
    "# step 3\n",
    "for i in range(0, 30):\n",
    "    before = time.time()\n",
    "    cursor.execute(medium_sql4)\n",
    "    after = time.time()\n",
    "    msec_duration = (after - before) * 1000\n",
    "    mediumDict['query4'].append(round(msec_duration, 5))\n",
    "    cursor.reset()"
   ]
  },
  {
   "cell_type": "code",
   "execution_count": 38,
   "id": "0a9ef639",
   "metadata": {},
   "outputs": [
    {
     "data": {
      "text/plain": [
       "{'query1': [442.6651, 377.45869],\n",
       " 'query2': [446.44189, 387.30586],\n",
       " 'query3': [461.92908, 419.34764],\n",
       " 'query4': [590.17587, 489.78967]}"
      ]
     },
     "execution_count": 38,
     "metadata": {},
     "output_type": "execute_result"
    }
   ],
   "source": [
    "mediumDataset = {'query1' : list(), 'query2' : list(), 'query3' : list(), 'query4' : list()}\n",
    "for key in mediumDict:\n",
    "    mediumDataset[key].append(mediumDict[key][0])\n",
    "    mean30 = mean(mediumDict[key][1 : 31])\n",
    "    mediumDataset[key].append(round(mean30, 5))\n",
    "mediumDataset"
   ]
  },
  {
   "cell_type": "code",
   "execution_count": null,
   "id": "e5e68dbd",
   "metadata": {},
   "outputs": [],
   "source": []
  },
  {
   "cell_type": "markdown",
   "id": "2e05d3e0",
   "metadata": {},
   "source": [
    "<h3>Dataset with 750k records</h3>"
   ]
  },
  {
   "cell_type": "markdown",
   "id": "b8da289a",
   "metadata": {},
   "source": [
    "<h4>Query1</h4>"
   ]
  },
  {
   "cell_type": "code",
   "execution_count": 39,
   "id": "3fed8b82",
   "metadata": {},
   "outputs": [
    {
     "name": "stdout",
     "output_type": "stream",
     "text": [
      "Custodia Hidalgo\n",
      "Sarah Lara\n",
      "Narciso Ferrán\n",
      "Patrícia Leite\n",
      "Vigilija Gaižauskas\n",
      "Casandra Arenas\n",
      "Ledün Soylu\n",
      "Arthur Laroche\n",
      "Ana Narušis\n",
      "Nath Nicolas\n",
      "Émile Nicolas\n",
      "Cathrine Lie\n",
      "Ingeborg Amundsen\n",
      "Nedas Naujokas\n",
      "Christl Henschel\n",
      "Miguel Real\n",
      "Karl Christensen\n",
      "Joris Kavaliauskas\n",
      "Yuvaan Dara\n",
      "Débora Vaz\n",
      "Urvi Dani\n",
      "Collin Heerkens\n",
      "Brian Thompson\n",
      "Özkutlu Gül\n",
      "Dorita Abella\n",
      "Liliana Flaiano\n"
     ]
    }
   ],
   "source": [
    "# step 1\n",
    "large_sql1 = 'SELECT DISTINCT firstName AS name, lastName AS surname FROM largeDB AS S WHERE courseID = 192'\n",
    "\n",
    "before = time.time()\n",
    "cursor.execute(large_sql1)\n",
    "after = time.time()\n",
    "\n",
    "large_query1 = cursor.fetchall()\n",
    "for name, surname in large_query1:\n",
    "    print(name, surname)"
   ]
  },
  {
   "cell_type": "code",
   "execution_count": 40,
   "id": "eac8b4c1",
   "metadata": {},
   "outputs": [],
   "source": [
    "# step 2\n",
    "msec_duration = (after - before) * 1000\n",
    "largeDict['query1'].append(round(msec_duration, 5))"
   ]
  },
  {
   "cell_type": "code",
   "execution_count": 41,
   "id": "2b78955a",
   "metadata": {},
   "outputs": [],
   "source": [
    "# step 3\n",
    "for i in range(0, 30):\n",
    "    before = time.time()\n",
    "    cursor.execute(large_sql1)\n",
    "    after = time.time()\n",
    "    msec_duration = (after - before) * 1000\n",
    "    largeDict['query1'].append(round(msec_duration, 5))\n",
    "    cursor.reset()"
   ]
  },
  {
   "cell_type": "markdown",
   "id": "da590f6b",
   "metadata": {},
   "source": [
    "<h4>Query2</h4>"
   ]
  },
  {
   "cell_type": "code",
   "execution_count": 42,
   "id": "cd4fc425",
   "metadata": {},
   "outputs": [
    {
     "name": "stdout",
     "output_type": "stream",
     "text": [
      "Econometrics: Methods and Applications\n",
      "Exploratory Data Analysis\n",
      "Understanding Clinical Research: Behind the Statistics\n",
      "Introduction to Probability and Data with R\n",
      "Bayesian Statistics: From Concept to Data Analysis\n",
      "Introduction to Statistics\n",
      "Python and Statistics for Financial Analysis\n",
      "Basic Statistics\n",
      "Foundations: Data, Data, Everywhere\n"
     ]
    }
   ],
   "source": [
    "# step 1\n",
    "large_sql2 = 'SELECT DISTINCT courseName AS name FROM largeDB WHERE discipline = \\'statistics\\' AND courseYear = 2022'\n",
    "\n",
    "before = time.time()\n",
    "cursor.execute(large_sql2)\n",
    "after = time.time()\n",
    "\n",
    "large_query2 = cursor.fetchall()\n",
    "for course in large_query2:\n",
    "    print(course[0])"
   ]
  },
  {
   "cell_type": "code",
   "execution_count": 43,
   "id": "6ee025d9",
   "metadata": {},
   "outputs": [],
   "source": [
    "# step 2\n",
    "msec_duration = (after - before) * 1000\n",
    "largeDict['query2'].append(round(msec_duration, 5))"
   ]
  },
  {
   "cell_type": "code",
   "execution_count": 44,
   "id": "28710145",
   "metadata": {},
   "outputs": [],
   "source": [
    "# step 3\n",
    "for i in range(0, 30):\n",
    "    before = time.time()\n",
    "    cursor.execute(large_sql2)\n",
    "    after = time.time()\n",
    "    msec_duration = (after - before) * 1000\n",
    "    largeDict['query2'].append(round(msec_duration, 5))\n",
    "    cursor.reset()"
   ]
  },
  {
   "cell_type": "markdown",
   "id": "74299d09",
   "metadata": {},
   "source": [
    "<h4>Query3</h4>"
   ]
  },
  {
   "cell_type": "code",
   "execution_count": 45,
   "id": "e901b679",
   "metadata": {},
   "outputs": [
    {
     "name": "stdout",
     "output_type": "stream",
     "text": [
      "2628\n"
     ]
    }
   ],
   "source": [
    "# step 1\n",
    "large_sql3 = 'SELECT COUNT(materialID) FROM largeDB WHERE materialType = \\'lecture slides\\' AND discipline = \\'maths\\' AND email LIKE \\'%gmail.com\\''\n",
    "\n",
    "before = time.time()\n",
    "cursor.execute(large_sql3)\n",
    "after = time.time()\n",
    "\n",
    "large_query3 = cursor.fetchall()\n",
    "for count in large_query3[0]:\n",
    "    print(count)"
   ]
  },
  {
   "cell_type": "code",
   "execution_count": 46,
   "id": "ce687ace",
   "metadata": {},
   "outputs": [],
   "source": [
    "# step 2\n",
    "msec_duration = (after - before) * 1000\n",
    "largeDict['query3'].append(round(msec_duration, 5))"
   ]
  },
  {
   "cell_type": "code",
   "execution_count": 47,
   "id": "f183b1f0",
   "metadata": {},
   "outputs": [],
   "source": [
    "# step 3\n",
    "for i in range(0, 30):\n",
    "    before = time.time()\n",
    "    cursor.execute(large_sql3)\n",
    "    after = time.time()\n",
    "    msec_duration = (after - before) * 1000\n",
    "    largeDict['query3'].append(round(msec_duration, 5))\n",
    "    cursor.reset()"
   ]
  },
  {
   "cell_type": "markdown",
   "id": "0ae5a41a",
   "metadata": {},
   "source": [
    "<h4>Query4</h4>"
   ]
  },
  {
   "cell_type": "code",
   "execution_count": 48,
   "id": "d7857bfe",
   "metadata": {},
   "outputs": [
    {
     "name": "stdout",
     "output_type": "stream",
     "text": [
      "Tere Castells from República Popular Democrática de Corea\n",
      "Ninthe Horrocks from Noord-Korea\n",
      "Cathrine Lie from South Korea\n",
      "Miguel Real from República de Corea\n",
      "Lynda Reynolds from Korea\n",
      "Raghav Sura from North Korea\n"
     ]
    }
   ],
   "source": [
    "# step 1\n",
    "large_sql4 = 'SELECT DISTINCT firstName AS name, lastName as surname, country FROM largeDB WHERE discipline = \\'psychology\\' AND country LIKE \\'%orea\\' AND dateOfBirth LIKE \\'1%\\' AND courseYear = 2023 ORDER BY surname ASC;'\n",
    "\n",
    "before = time.time()\n",
    "cursor.execute(large_sql4)\n",
    "after = time.time()\n",
    "\n",
    "large_query4 = cursor.fetchall()\n",
    "for name, surname, country in large_query4:\n",
    "    print(name, surname, 'from', country)"
   ]
  },
  {
   "cell_type": "code",
   "execution_count": 49,
   "id": "83e27377",
   "metadata": {},
   "outputs": [],
   "source": [
    "# step 2\n",
    "msec_duration = (after - before) * 1000\n",
    "largeDict['query4'].append(round(msec_duration, 5))"
   ]
  },
  {
   "cell_type": "code",
   "execution_count": 50,
   "id": "c3b01bc0",
   "metadata": {},
   "outputs": [],
   "source": [
    "# step 3\n",
    "for i in range(0, 30):\n",
    "    before = time.time()\n",
    "    cursor.execute(large_sql4)\n",
    "    after = time.time()\n",
    "    msec_duration = (after - before) * 1000\n",
    "    largeDict['query4'].append(round(msec_duration, 5))\n",
    "    cursor.reset()"
   ]
  },
  {
   "cell_type": "code",
   "execution_count": 51,
   "id": "d32ae9d4",
   "metadata": {},
   "outputs": [
    {
     "data": {
      "text/plain": [
       "{'query1': [20249.22609, 549.37373],\n",
       " 'query2': [665.6878, 995.14083],\n",
       " 'query3': [684.79514, 618.8828],\n",
       " 'query4': [799.21412, 779.94096]}"
      ]
     },
     "execution_count": 51,
     "metadata": {},
     "output_type": "execute_result"
    }
   ],
   "source": [
    "largeDataset = {'query1' : list(), 'query2' : list(), 'query3' : list(), 'query4' : list()}\n",
    "for key in largeDict:\n",
    "    largeDataset[key].append(largeDict[key][0])\n",
    "    mean30 = mean(largeDict[key][1 : 31])\n",
    "    largeDataset[key].append(round(mean30, 5))\n",
    "largeDataset"
   ]
  },
  {
   "cell_type": "code",
   "execution_count": null,
   "id": "d76d7a66",
   "metadata": {},
   "outputs": [],
   "source": []
  },
  {
   "cell_type": "markdown",
   "id": "1799142d",
   "metadata": {},
   "source": [
    "<h3>Dataset with 1m records</h3>"
   ]
  },
  {
   "cell_type": "markdown",
   "id": "31dc01e2",
   "metadata": {},
   "source": [
    "<h4>Query1</h4>"
   ]
  },
  {
   "cell_type": "code",
   "execution_count": 52,
   "id": "2d45239a",
   "metadata": {},
   "outputs": [
    {
     "name": "stdout",
     "output_type": "stream",
     "text": [
      "Custodia Hidalgo\n",
      "Sarah Lara\n",
      "Narciso Ferrán\n",
      "Patrícia Leite\n",
      "Vigilija Gaižauskas\n",
      "Casandra Arenas\n",
      "Ledün Soylu\n",
      "Arthur Laroche\n",
      "Ana Narušis\n",
      "Nath Nicolas\n",
      "Émile Nicolas\n",
      "Cathrine Lie\n",
      "Ingeborg Amundsen\n",
      "Nedas Naujokas\n",
      "Christl Henschel\n",
      "Miguel Real\n",
      "Karl Christensen\n",
      "Joris Kavaliauskas\n",
      "Yuvaan Dara\n",
      "Débora Vaz\n",
      "Urvi Dani\n",
      "Collin Heerkens\n",
      "Brian Thompson\n",
      "Özkutlu Gül\n",
      "Dorita Abella\n",
      "Liliana Flaiano\n",
      "Finn Karlsen\n",
      "David Miranda\n",
      "Torsten Schulz\n",
      "Kristen Webb\n",
      "Shaan Raju\n",
      "Giuseppina Scarfoglio\n",
      "Mamen Teruel\n",
      "Eduardo Rezende\n",
      "Melania Savorgnan\n"
     ]
    }
   ],
   "source": [
    "# step 1\n",
    "humongous_sql1 = 'SELECT DISTINCT firstName AS name, lastName AS surname FROM humongousDB AS S WHERE courseID = 192'\n",
    "\n",
    "before = time.time()\n",
    "cursor.execute(humongous_sql1)\n",
    "after = time.time()\n",
    "\n",
    "humongous_query1 = cursor.fetchall()\n",
    "for name, surname in humongous_query1:\n",
    "    print(name, surname)"
   ]
  },
  {
   "cell_type": "code",
   "execution_count": 53,
   "id": "d1e8b80c",
   "metadata": {},
   "outputs": [],
   "source": [
    "# step 2\n",
    "msec_duration = (after - before) * 1000\n",
    "humongousDict['query1'].append(round(msec_duration, 5))"
   ]
  },
  {
   "cell_type": "code",
   "execution_count": 54,
   "id": "742ca4af",
   "metadata": {},
   "outputs": [],
   "source": [
    "# step 3\n",
    "for i in range(0, 30):\n",
    "    before = time.time()\n",
    "    cursor.execute(humongous_sql1)\n",
    "    after = time.time()\n",
    "    msec_duration = (after - before) * 1000\n",
    "    humongousDict['query1'].append(round(msec_duration, 5))\n",
    "    cursor.reset()"
   ]
  },
  {
   "cell_type": "markdown",
   "id": "9f5e66ce",
   "metadata": {},
   "source": [
    "<h4>Query2</h4>"
   ]
  },
  {
   "cell_type": "code",
   "execution_count": 55,
   "id": "cd6b958a",
   "metadata": {},
   "outputs": [
    {
     "name": "stdout",
     "output_type": "stream",
     "text": [
      "Econometrics: Methods and Applications\n",
      "Exploratory Data Analysis\n",
      "Understanding Clinical Research: Behind the Statistics\n",
      "Introduction to Probability and Data with R\n",
      "Bayesian Statistics: From Concept to Data Analysis\n",
      "Introduction to Statistics\n",
      "Python and Statistics for Financial Analysis\n",
      "Basic Statistics\n",
      "Foundations: Data, Data, Everywhere\n"
     ]
    }
   ],
   "source": [
    "# step 1\n",
    "humongous_sql2 = 'SELECT DISTINCT courseName AS name FROM humongousDB WHERE discipline = \\'statistics\\' AND courseYear = 2022'\n",
    "\n",
    "before = time.time()\n",
    "cursor.execute(humongous_sql2)\n",
    "after = time.time()\n",
    "\n",
    "humongous_query2 = cursor.fetchall()\n",
    "for course in large_query2:\n",
    "    print(course[0])"
   ]
  },
  {
   "cell_type": "code",
   "execution_count": 56,
   "id": "3b8cb4ba",
   "metadata": {},
   "outputs": [],
   "source": [
    "# step 2\n",
    "msec_duration = (after - before) * 1000\n",
    "humongousDict['query2'].append(round(msec_duration, 5))"
   ]
  },
  {
   "cell_type": "code",
   "execution_count": 57,
   "id": "e5d4dd63",
   "metadata": {},
   "outputs": [],
   "source": [
    "# step 3\n",
    "for i in range(0, 30):\n",
    "    before = time.time()\n",
    "    cursor.execute(humongous_sql2)\n",
    "    after = time.time()\n",
    "    msec_duration = (after - before) * 1000\n",
    "    humongousDict['query2'].append(round(msec_duration, 5))\n",
    "    cursor.reset()"
   ]
  },
  {
   "cell_type": "markdown",
   "id": "b6444834",
   "metadata": {},
   "source": [
    "<h4>Query3</h4>"
   ]
  },
  {
   "cell_type": "code",
   "execution_count": 58,
   "id": "9a6ff09d",
   "metadata": {},
   "outputs": [
    {
     "name": "stdout",
     "output_type": "stream",
     "text": [
      "3498\n"
     ]
    }
   ],
   "source": [
    "# step 1\n",
    "humongous_sql3 = 'SELECT COUNT(materialID) FROM humongousDB WHERE materialType = \\'lecture slides\\' AND discipline = \\'maths\\' AND email LIKE \\'%gmail.com\\''\n",
    "\n",
    "before = time.time()\n",
    "cursor.execute(humongous_sql3)\n",
    "after = time.time()\n",
    "\n",
    "humongous_query3 = cursor.fetchall()\n",
    "for count in humongous_query3[0]:\n",
    "    print(count)"
   ]
  },
  {
   "cell_type": "code",
   "execution_count": 59,
   "id": "18a49391",
   "metadata": {},
   "outputs": [],
   "source": [
    "# step 2\n",
    "msec_duration = (after - before) * 1000\n",
    "humongousDict['query3'].append(round(msec_duration, 5))"
   ]
  },
  {
   "cell_type": "code",
   "execution_count": 60,
   "id": "6e9154a1",
   "metadata": {},
   "outputs": [],
   "source": [
    "# step 3\n",
    "for i in range(0, 30):\n",
    "    before = time.time()\n",
    "    cursor.execute(humongous_sql3)\n",
    "    after = time.time()\n",
    "    msec_duration = (after - before) * 1000\n",
    "    humongousDict['query3'].append(round(msec_duration, 5))\n",
    "    cursor.reset()"
   ]
  },
  {
   "cell_type": "markdown",
   "id": "eba92e5f",
   "metadata": {},
   "source": [
    "<h4>Query4</h4>"
   ]
  },
  {
   "cell_type": "code",
   "execution_count": 61,
   "id": "cd9ea7bd",
   "metadata": {},
   "outputs": [
    {
     "name": "stdout",
     "output_type": "stream",
     "text": [
      "Tere Castells from República Popular Democrática de Corea\n",
      "Leila Gailys from Korea\n",
      "Ninthe Horrocks from Noord-Korea\n",
      "Cathrine Lie from South Korea\n",
      "Miguel Real from República de Corea\n",
      "Lynda Reynolds from Korea\n",
      "Raghav Sura from North Korea\n"
     ]
    }
   ],
   "source": [
    "# step 1\n",
    "humongous_sql4 = 'SELECT DISTINCT firstName AS name, lastName as surname, country FROM humongousDB WHERE discipline = \\'psychology\\' AND country LIKE \\'%orea\\' AND dateOfBirth LIKE \\'1%\\' AND courseYear = 2023 ORDER BY surname ASC;'\n",
    "\n",
    "before = time.time()\n",
    "cursor.execute(humongous_sql4)\n",
    "after = time.time()\n",
    "\n",
    "humongous_query4 = cursor.fetchall()\n",
    "for name, surname, country in humongous_query4:\n",
    "    print(name, surname, 'from', country)"
   ]
  },
  {
   "cell_type": "code",
   "execution_count": 62,
   "id": "91e46bbb",
   "metadata": {},
   "outputs": [],
   "source": [
    "# step 2\n",
    "msec_duration = (after - before) * 1000\n",
    "humongousDict['query4'].append(round(msec_duration, 5))"
   ]
  },
  {
   "cell_type": "code",
   "execution_count": 63,
   "id": "30bc44d5",
   "metadata": {},
   "outputs": [],
   "source": [
    "# step 3\n",
    "for i in range(0, 30):\n",
    "    before = time.time()\n",
    "    cursor.execute(humongous_sql4)\n",
    "    after = time.time()\n",
    "    msec_duration = (after - before) * 1000\n",
    "    humongousDict['query4'].append(round(msec_duration, 5))\n",
    "    cursor.reset()"
   ]
  },
  {
   "cell_type": "code",
   "execution_count": 64,
   "id": "6e6e8e3c",
   "metadata": {},
   "outputs": [
    {
     "data": {
      "text/plain": [
       "{'query1': [13020.43223, 896.23044],\n",
       " 'query2': [758.47006, 791.1298],\n",
       " 'query3': [865.78679, 844.03125],\n",
       " 'query4': [1314.27693, 1359.20997]}"
      ]
     },
     "execution_count": 64,
     "metadata": {},
     "output_type": "execute_result"
    }
   ],
   "source": [
    "humongousDataset = {'query1' : list(), 'query2' : list(), 'query3' : list(), 'query4' : list()}\n",
    "for key in humongousDict:\n",
    "    humongousDataset[key].append(humongousDict[key][0])\n",
    "    mean30 = mean(humongousDict[key][1 : 31])\n",
    "    humongousDataset[key].append(round(mean30, 5))\n",
    "humongousDataset"
   ]
  },
  {
   "cell_type": "code",
   "execution_count": 65,
   "id": "568edec1",
   "metadata": {},
   "outputs": [],
   "source": [
    "with open('mysql_tests.csv', 'w', newline = '') as mysql_tests:\n",
    "    writer = csv.writer(mysql_tests, delimiter = ',')\n",
    "    keys = smallDataset.keys()\n",
    "    limit = len(smallDataset['query1'])\n",
    "    \n",
    "    writer.writerow(keys)\n",
    "    writer.writerow('s') # s stands for small dataset\n",
    "    for i in range(0, limit):\n",
    "        writer.writerow(smallDataset[k][i] for k in keys)\n",
    "    writer.writerow('m')  # m stands for medium dataset\n",
    "    for i in range(0, limit):\n",
    "        writer.writerow(mediumDataset[k][i] for k in keys)\n",
    "    writer.writerow('l') # l stands for large dataset\n",
    "    for i in range(0, limit):\n",
    "        writer.writerow(largeDataset[k][i] for k in keys)\n",
    "    writer.writerow('h') # h stands for humongous dataset\n",
    "    for i in range(0, limit):\n",
    "        writer.writerow(humongousDataset[k][i] for k in keys)\n"
   ]
  },
  {
   "cell_type": "code",
   "execution_count": null,
   "id": "232df975",
   "metadata": {},
   "outputs": [],
   "source": []
  }
 ],
 "metadata": {
  "kernelspec": {
   "display_name": "Python 3 (ipykernel)",
   "language": "python",
   "name": "python3"
  },
  "language_info": {
   "codemirror_mode": {
    "name": "ipython",
    "version": 3
   },
   "file_extension": ".py",
   "mimetype": "text/x-python",
   "name": "python",
   "nbconvert_exporter": "python",
   "pygments_lexer": "ipython3",
   "version": "3.10.8"
  }
 },
 "nbformat": 4,
 "nbformat_minor": 5
}

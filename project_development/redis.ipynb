{
 "cells": [
  {
   "cell_type": "markdown",
   "id": "b658c051",
   "metadata": {},
   "source": [
    "<center>\n",
    "<h2>Online learning platform database - Redis</h2>\n",
    "</center>"
   ]
  },
  {
   "cell_type": "markdown",
   "id": "f544d0b6",
   "metadata": {},
   "source": [
    "<h3>Preliminary operations: import csv files into Redis</h3>"
   ]
  },
  {
   "cell_type": "markdown",
   "id": "80cf09d3",
   "metadata": {},
   "source": [
    "Given Redis' nature of a <i>key-value store</i> rather than a DBMS in a classical form, importing is a task better performed via a programming language API. This requires to load the csv file and store the data into a suitable data structure, then use the programming language API to connect to a Redis instance and store the data into a Redis data type. Hence, this section on Redis will have a slightly different format from the previous ones, it will start directly with introducing the Python driver for Redis and ways to connect to a Redis instance from Python."
   ]
  },
  {
   "cell_type": "markdown",
   "id": "4fb5e089",
   "metadata": {},
   "source": [
    "<h3>Importing csv files into Python</h3>"
   ]
  },
  {
   "cell_type": "markdown",
   "id": "4b855d73",
   "metadata": {},
   "source": [
    "Importing a csv file into Python is best performed via the <code>csv</code> module, contained in the Python standard library. It contains methods to read <code>csv.reader</code> or write <code>csv.writer</code> csv files. By starting a connection to a file we can read it line by line and store the fields within each line into lists. In the following code fragment, I store the lines into a dictionary of lists where each line number corresponds to the dictionary key and the associated list contains the fields included in the csv lines."
   ]
  },
  {
   "cell_type": "code",
   "execution_count": 3,
   "id": "f9a75ff2",
   "metadata": {},
   "outputs": [],
   "source": [
    "import csv\n",
    "path = '/Users/mau/OneDrive - unime.it/Learning/CdL Informatica/Anno II - Database/Module B/project/tables/'\n",
    "smallDict = dict()\n",
    "key = 0\n",
    "with open(path + 'dataset250k.csv', newline = '') as csvSmall:\n",
    "    reader = csv.reader(csvSmall, delimiter = ',')\n",
    "    for line in reader:\n",
    "        smallDict[key] = line\n",
    "        key += 1"
   ]
  },
  {
   "cell_type": "code",
   "execution_count": 9,
   "id": "f2097dc6",
   "metadata": {},
   "outputs": [
    {
     "data": {
      "text/plain": [
       "250001"
      ]
     },
     "execution_count": 9,
     "metadata": {},
     "output_type": "execute_result"
    }
   ],
   "source": [
    "len(smallDict)"
   ]
  },
  {
   "cell_type": "markdown",
   "id": "4ebe4135",
   "metadata": {},
   "source": [
    "<h3>Python - Redis interaction</h3>"
   ]
  },
  {
   "cell_type": "markdown",
   "id": "24ad76a4",
   "metadata": {},
   "source": [
    "Interaction between a Python API and a Redis key-value store requires the installation of a specific driver. The usual list of drivers for various programming languages is provided in the <a href = 'https://redis.io/resources/clients/'>Clients</a> web page of the Redis website: <a href = 'https://redis-py.readthedocs.io/en/stable/index.html'>redis-py</a> is the driver developed by <i>Redis Inc.</i> for a Python programming environment.<br>After having installed the driver, it can be imported into a Python environment the usual way."
   ]
  },
  {
   "cell_type": "code",
   "execution_count": 1,
   "id": "3c5469de",
   "metadata": {},
   "outputs": [],
   "source": [
    "import redis"
   ]
  },
  {
   "cell_type": "markdown",
   "id": "dfddef33",
   "metadata": {},
   "source": [
    "<h4>\n",
    "Establishing a connection to a Redis database\n",
    "</h4><br>\n",
    "We can connect to a Redis instance by simply assigning a <code>Redis()</code> object to a Python variable. By default, the driver sets a connection to a local Redis instance on port 6379. Host name and port can also be specified as arguments. By default, Redis returns responses as bytes in Python. We can be returned responses decoded as strings by specifying the <code>decode_responses</code> argument."
   ]
  },
  {
   "cell_type": "code",
   "execution_count": 2,
   "id": "629d30e8",
   "metadata": {},
   "outputs": [],
   "source": [
    "redis_dec = redis.Redis(host = 'localhost', port = 6379, decode_responses = True)"
   ]
  },
  {
   "cell_type": "markdown",
   "id": "ccffa2dd",
   "metadata": {},
   "source": [
    "A Redis connection implements a <code>CoreCommands</code> class which contains functions that can replicate all the commands provided within the <i>redis-cli</i> API. Since Python is case sensitive, however, they must be typed in the correct letter case (they usually use lowercase letters). The list of all available methods is accessible via the usual <code>dir(<i>redisObject</i>)</code> function."
   ]
  },
  {
   "cell_type": "markdown",
   "id": "42c0ab66",
   "metadata": {},
   "source": [
    "<h4>\n",
    "Store data into Redis hashes\n",
    "</h4><br>\n",
    "<i>Hashes</i> are a Redis data type that allows the association of keys and values. A hash object has a name and a list of key-value stores. In our case, the keys may represent the field (column) names contained in the first row of the csv file (header) while the values are the field values contained in the other csv rows. We can create one hash per row by creating hash names of the form <i>small:rownumber</i>, where the text before the colon represents the dataset and the text after the colon is the row number. Thus, each row becomes a hash where the hash keys are common across all hashes in the dataset. This is helpful because hash keys may work as a schema for implementing queries."
   ]
  },
  {
   "cell_type": "code",
   "execution_count": 28,
   "id": "294c998f",
   "metadata": {},
   "outputs": [],
   "source": [
    "for i in range(1, len(smallDict)):\n",
    "    for j in range(0, len(smallDict[0])):\n",
    "        redis_dec.hset('smallDataset:' + str(i), smallDict[0][j], smallDict[i][j])"
   ]
  },
  {
   "cell_type": "markdown",
   "id": "8804b081",
   "metadata": {},
   "source": [
    "We can consider each hash as a single document in a collection of documents where keys are common across them."
   ]
  },
  {
   "cell_type": "markdown",
   "id": "2f459600",
   "metadata": {},
   "source": [
    "<h4>\n",
    "Executing a query (<i>RediSearch</i>)\n",
    "</h4><br>\n",
    "Queries can be performed by using the <a href = 'https://docs.redis.com/latest/stack/search/'>RediSearch module</a>, which builds indices based on the provided schema.\n",
    "\n",
    "- Creating an index <code>FT.CREATE</code><br>\n",
    "  This is a very important step to take before performing a query. Creating an index allows to define the schema of the data for the purpose of performing a query. Creating the index is strongly query-oriented. The schema is in fact a list of secondary indices that we base our queries on.<br>\n",
    "<code>\n",
    "    FT.CREATE <i>indexName</i> ON hash PREFIX 1 <i>prefixPattern</i> SCHEMA [<i>fieldName</i> [TYPE] [OPTIONS] ... ]\n",
    "</code>\n",
    "<br>\n",
    "  As the example syntax above shows, we specify:\n",
    "  \n",
    "  - the name of the index we are creating (<i>indexName</i>);\n",
    "  - the data type on which we are creating it (HASH or JSON supported);\n",
    "  - the data prefix (we have a pattern that allows us to put together many data types as a collection);\n",
    "  - the schema, i.e. the fields (hash keys, to be more precise) we want to use as indices followed by the value type (TEXT, NUMERIC, TAG, ...) and its options (SORTABLE, ...).<br><br>\n",
    "\n",
    "- Performing a query <code>FT.SEARCH</code><br>\n",
    "  After having created an index we can use the secondary indices in the schema to select elements based on specific values. \n",
    "<br>\n",
    "<code>\n",
    "    FT.SEARCH <i>indexName</i> '@fieldName:fieldValue' RETURN [nr of projected fields] [<i>fieldNames</i>]\n",
    "</code>\n",
    "<br>\n",
    "  As the example syntax shows, we specify:\n",
    "  \n",
    "  - the name of the index we want to use (<i>indexName</i>);\n",
    "  - the selection criteria (<i>fieldName</i> introduced by a <i><b>at sign (@)</b></i> and <i>fieldValue</i> introduced by a <i><b>colon sign (:)</b></i>);\n",
    "  - the projected fields (introduced by the <code>RETURN</code> keyword and their number)."
   ]
  },
  {
   "cell_type": "markdown",
   "id": "a07b61e0",
   "metadata": {},
   "source": [
    "<h4>\n",
    "Executing a query in redis-py\n",
    "</h4><br>\n",
    "Within a Redis connection object, the <code>ft</code> object provides methods that replicate the Redisearch commands that we have introduced in the previous paragraph. Like Redis commands for creating data types, they also are only lowercase."
   ]
  },
  {
   "cell_type": "markdown",
   "id": "e9017bf6",
   "metadata": {},
   "source": [
    "<h4>\n",
    "Create an index\n",
    "</h4><br>\n",
    "An index can be created with the <code>create_index</code> method. We can pass the index name as an argument and assign the index object to a Python variable. Then we can pass the schema to this object (each field name of the schema must be enclosed within the function that specifies its value type (<code>TextField</code>, <code>NumericField</code>, <code>TagField</code>, <code>...</code>). These functions are dependencies that it is advisable to import prior to index creation. The <code>IndexDefinition</code> dependency is needed to specify the common prefix of the Redis data types that must be indexed.<br>If we need to redefine a previously created index, we must first drop it with the <code>dropindex</code> method. The other imported dependency, <code>Query</code>, is useful for the execution of complex queries, allowing to specify parameters that can be chained to one another. Applying a parameter to a <code>Query()</code> object returns a query object. Applying a chained parameter results in applaying it to the query object returned by the preceding attached parameter and so on."
   ]
  },
  {
   "cell_type": "code",
   "execution_count": 50,
   "id": "0b70cca2",
   "metadata": {},
   "outputs": [],
   "source": [
    "from redis.commands.search.field import TextField, NumericField, TagField\n",
    "from redis.commands.search.indexDefinition import IndexDefinition\n",
    "from redis.commands.search.query import Query\n",
    "\n",
    "#rs.dropindex()\n",
    "rs = redis_dec.ft('query1')"
   ]
  },
  {
   "cell_type": "markdown",
   "id": "21c85f80",
   "metadata": {},
   "source": [
    "After the index object has been created we can pass it the desired schema and index definition. The <code>info</code> method of the index object is useful to retrieve index information."
   ]
  },
  {
   "cell_type": "code",
   "execution_count": 51,
   "id": "35e5ddf2",
   "metadata": {},
   "outputs": [
    {
     "data": {
      "text/plain": [
       "'OK'"
      ]
     },
     "execution_count": 51,
     "metadata": {},
     "output_type": "execute_result"
    }
   ],
   "source": [
    "schema = (TextField('studentID'), TextField('courseID'), TextField('materialID'))\n",
    "index_definition = IndexDefinition(prefix = 'smallDataset:')\n",
    "rs.create_index(schema, index_definition)\n",
    "#rs.info()"
   ]
  },
  {
   "cell_type": "markdown",
   "id": "23d496ff",
   "metadata": {},
   "source": [
    "<h4>\n",
    "Run the related query\n",
    "</h4><br>\n",
    "A query depends on the previously created index and is performed via the <code>search</code> method of the index object. It is sufficient to pass a query string to the <code>search</code> method, where a query string is simply a string value that can be found in one of the secondary indices or a string of the form '<i>@fieldName:fieldValue</i>' if we seek to find the value in a specific <i>fieldName</i>."
   ]
  },
  {
   "cell_type": "code",
   "execution_count": 7,
   "id": "25a0e0df",
   "metadata": {},
   "outputs": [
    {
     "data": {
      "text/plain": [
       "Result{1109 total, docs: [Document {'id': 'smallDataset:22930', 'payload': None, 'courseID': '14', 'name': '[SLIDES] Anatomy of a CSS Rule', 'discipline': 'IT', 'studentID': '192', 'accessDate': '2022-12-20', 'dimension': '6', 'courseYear': '2022', 'firstName': 'Zaina', 'dateOfBirth': '1967-3-15', 'unit': 'Unit 2', 'courseName': 'Programming for Everybody (Getting Started with Python)', 'materialType': 'lecture slides', 'lastName': 'Madan', 'country': 'Argentina', 'syllabus': 'http://learning_platform.com/programmingforeverybodygettingstartedwithpython/syllabus', 'genre': 'female', 'materialID': '1019', 'town': 'Ambala', 'email': 'zaina.madan@gmail.com'}, Document {'id': 'smallDataset:23066', 'payload': None, 'courseID': '309', 'name': '[VIDEO] Extended Exercise: I Like Apples.', 'discipline': 'languages', 'studentID': '192', 'accessDate': '2023-08-18', 'dimension': '2', 'courseYear': '2023', 'firstName': 'Zaina', 'dateOfBirth': '1967-3-15', 'unit': 'Unit 5', 'courseName': 'English for Business and Entrepreneurship', 'materialType': 'video lecture', 'lastName': 'Madan', 'country': 'Argentina', 'syllabus': 'http://learning_platform.com/englishforbusinessandentrepreneurship/syllabus', 'genre': 'female', 'materialID': '22070', 'town': 'Ambala', 'email': 'zaina.madan@gmail.com'}, Document {'id': 'smallDataset:4055', 'payload': None, 'courseID': '192', 'name': 'Unit 1 quiz', 'discipline': 'statistics', 'studentID': '38', 'accessDate': '2023-03-22', 'dimension': '4', 'courseYear': '2022', 'firstName': 'Sarah', 'dateOfBirth': '1991-6-13', 'unit': 'Unit 1', 'courseName': 'Econometrics: Methods and Applications', 'materialType': 'quiz', 'lastName': 'Lara', 'country': 'Vietnam', 'syllabus': 'http://learning_platform.com/econometricsmethodsandapplications/syllabus', 'genre': 'non binary', 'materialID': '13384', 'town': 'South Derek', 'email': 'sarah.lara@gmail.com'}, Document {'id': 'smallDataset:22983', 'payload': None, 'courseID': '379', 'name': '[SLIDES] Corporate Charter', 'discipline': 'economics and management', 'studentID': '192', 'accessDate': '2023-08-02', 'dimension': '8', 'courseYear': '2023', 'firstName': 'Zaina', 'dateOfBirth': '1967-3-15', 'unit': 'Unit 3', 'courseName': 'Economics of Money and Banking', 'materialType': 'lecture slides', 'lastName': 'Madan', 'country': 'Argentina', 'syllabus': 'http://learning_platform.com/economicsofmoneyandbanking/syllabus', 'genre': 'female', 'materialID': '27028', 'town': 'Ambala', 'email': 'zaina.madan@gmail.com'}, Document {'id': 'smallDataset:40332', 'payload': None, 'courseID': '192', 'name': '[VIDEO] Transcripts - Correlation and regression', 'discipline': 'statistics', 'studentID': '320', 'accessDate': '2023-06-07', 'dimension': '11', 'courseYear': '2022', 'firstName': 'Patrícia', 'dateOfBirth': '2005-7-29', 'unit': 'Unit 1', 'courseName': 'Econometrics: Methods and Applications', 'materialType': 'video lecture', 'lastName': 'Leite', 'country': 'República Dominicana', 'syllabus': 'http://learning_platform.com/econometricsmethodsandapplications/syllabus', 'genre': 'female', 'materialID': '13378', 'town': 'Portimão', 'email': 'patrícia.leite@sapo.pt'}, Document {'id': 'smallDataset:154650', 'payload': None, 'courseID': '192', 'name': '[SLIDES] Plotting the likelihood in R', 'discipline': 'statistics', 'studentID': '1237', 'accessDate': '2023-08-04', 'dimension': '2', 'courseYear': '2022', 'firstName': 'Ana', 'dateOfBirth': '1984-5-28', 'unit': 'Unit 3', 'courseName': 'Econometrics: Methods and Applications', 'materialType': 'lecture slides', 'lastName': 'Narušis', 'country': 'Guatemala', 'syllabus': 'http://learning_platform.com/econometricsmethodsandapplications/syllabus', 'genre': 'male', 'materialID': '13401', 'town': 'West Diana', 'email': 'ana.narušis@gmail.com'}, Document {'id': 'smallDataset:56375', 'payload': None, 'courseID': '192', 'name': '[SLIDES] Data analysis example in R', 'discipline': 'statistics', 'studentID': '447', 'accessDate': '2022-12-09', 'dimension': '10', 'courseYear': '2022', 'firstName': 'Casandra', 'dateOfBirth': '1990-6-13', 'unit': 'Unit 3', 'courseName': 'Econometrics: Methods and Applications', 'materialType': 'lecture slides', 'lastName': 'Arenas', 'country': 'Tailandia', 'syllabus': 'http://learning_platform.com/econometricsmethodsandapplications/syllabus', 'genre': 'non binary', 'materialID': '13403', 'town': 'Asturias', 'email': 'casandra.arenas@gmail.com'}, Document {'id': 'smallDataset:22951', 'payload': None, 'courseID': '14', 'name': '[VIDEO] The For Loop', 'discipline': 'IT', 'studentID': '192', 'accessDate': '2023-04-24', 'dimension': '1', 'courseYear': '2022', 'firstName': 'Zaina', 'dateOfBirth': '1967-3-15', 'unit': 'Unit 4', 'courseName': 'Programming for Everybody (Getting Started with Python)', 'materialType': 'video lecture', 'lastName': 'Madan', 'country': 'Argentina', 'syllabus': 'http://learning_platform.com/programmingforeverybodygettingstartedwithpython/syllabus', 'genre': 'female', 'materialID': '1048', 'town': 'Ambala', 'email': 'zaina.madan@gmail.com'}, Document {'id': 'smallDataset:12', 'payload': None, 'courseID': '192', 'name': '[SLIDES] Introduction to R', 'discipline': 'statistics', 'studentID': '2', 'accessDate': '2022-09-29', 'dimension': '1', 'courseYear': '2022', 'firstName': 'Custodia', 'dateOfBirth': '1981-4-23', 'unit': 'Unit 1', 'courseName': 'Econometrics: Methods and Applications', 'materialType': 'lecture slides', 'lastName': 'Hidalgo', 'country': 'Eritrea', 'syllabus': 'http://learning_platform.com/econometricsmethodsandapplications/syllabus', 'genre': 'female', 'materialID': '13377', 'town': 'Alicante', 'email': 'custodia.hidalgo@yahoo.com'}, Document {'id': 'smallDataset:151216', 'payload': None, 'courseID': '192', 'name': '[SLIDES] Discussion forums', 'discipline': 'statistics', 'studentID': '1208', 'accessDate': '2022-12-22', 'dimension': '4', 'courseYear': '2022', 'firstName': 'Arthur', 'dateOfBirth': '1967-12-15', 'unit': 'Unit 5', 'courseName': 'Econometrics: Methods and Applications', 'materialType': 'lecture slides', 'lastName': 'Laroche', 'country': 'Guatemala', 'syllabus': 'http://learning_platform.com/econometricsmethodsandapplications/syllabus', 'genre': 'male', 'materialID': '13431', 'town': 'Morin-sur-Teixeira', 'email': 'arthur.laroche@orange.fr'}]}"
      ]
     },
     "execution_count": 7,
     "metadata": {},
     "output_type": "execute_result"
    }
   ],
   "source": [
    "rs.search('192')"
   ]
  },
  {
   "cell_type": "markdown",
   "id": "78b72819",
   "metadata": {},
   "source": [
    "A query object stores the integer showing the total number of found documents into the <code>total</code> attribute, the query execution time into the <code>duration</code> attribute and all the docs (hashes) matching the selection criteria into the <code>docs</code> attribute. Assigning a query result to a Python variable allows us to retrieve these information at any time."
   ]
  },
  {
   "cell_type": "code",
   "execution_count": 8,
   "id": "5bb88102",
   "metadata": {},
   "outputs": [],
   "source": [
    "exampleQuery = rs.search('192')"
   ]
  },
  {
   "cell_type": "code",
   "execution_count": 9,
   "id": "39371043",
   "metadata": {},
   "outputs": [
    {
     "name": "stdout",
     "output_type": "stream",
     "text": [
      "The query execution time was: 7.227898 milliseconds, and the number of documents matching it is: 1109\n"
     ]
    }
   ],
   "source": [
    "print('The query execution time was: %f milliseconds, and the number of documents matching it is: %i' % (exampleQuery.duration, exampleQuery.total))"
   ]
  },
  {
   "cell_type": "code",
   "execution_count": 10,
   "id": "112bcafb",
   "metadata": {},
   "outputs": [
    {
     "name": "stdout",
     "output_type": "stream",
     "text": [
      "A sample of the courseID and student name for the query results is the following:\n",
      "\n",
      "1 14 Zaina Madan\n",
      "2 309 Zaina Madan\n",
      "3 192 Sarah Lara\n",
      "4 379 Zaina Madan\n",
      "5 192 Patrícia Leite\n",
      "6 192 Ana Narušis\n",
      "7 192 Casandra Arenas\n",
      "8 14 Zaina Madan\n",
      "9 192 Custodia Hidalgo\n",
      "10 192 Arthur Laroche\n"
     ]
    }
   ],
   "source": [
    "print('A sample of the courseID and student name for the query results is the following:\\n')\n",
    "counter = 0\n",
    "for doc in exampleQuery.docs:\n",
    "    counter += 1\n",
    "    print(counter, doc['courseID'], doc['firstName'], doc['lastName'])"
   ]
  },
  {
   "cell_type": "markdown",
   "id": "7cc3e7a7",
   "metadata": {},
   "source": [
    "The above example shows that the value '<i>192</i>' is searched throughout all the secondary indices of our '<i>query1</i>' index, so we may  have student IDs, course IDs and material IDs matching the requested value. In the printed results, however, the only field that can match the searched value is the course ID. In the other cases, it may be the student ID or the material ID that we have found matching the searched value, but we cannot tell because the only projected secondary index field is the course ID. The above result also shows a limitation in the query results displayed by Redis. This is controlled by the optional argument <code>LIMIT</code>, which sets the offset and the number of results displayed. The default is 0 10, which returns 10 items starting from the first (0) result. The redis-cli syntax is simply:<br>\n",
    "<code>\n",
    "    FT.SEARCH '<i>@fieldName:fieldValue</i>' LIMIT [first num] RETURN [nr of projected fields] [<i>fieldNames</i>]\n",
    "</code><br>\n",
    "To control this parameter in our Python environment we must use a <code>Query</code> object. A <code>Query</code> object is used for complex queries allowing to specify parameters on the object itself. Query object parameters can be chained to adapt the query results to our needs. One of the parameters is <code>paging(<i>first</i>, <i>num</i>)</code> which replicates the effects of the <code>LIMIT</code> argument in redis-cli."
   ]
  },
  {
   "cell_type": "code",
   "execution_count": 11,
   "id": "aa014897",
   "metadata": {},
   "outputs": [],
   "source": [
    "exampleQuery2 = rs.search(Query('192').paging(0, 25))"
   ]
  },
  {
   "cell_type": "code",
   "execution_count": 12,
   "id": "cf689977",
   "metadata": {},
   "outputs": [
    {
     "name": "stdout",
     "output_type": "stream",
     "text": [
      "The query execution time was: 10.906219 milliseconds, and the number of documents matching it is still: 1109\n"
     ]
    }
   ],
   "source": [
    "print('The query execution time was: %f milliseconds, and the number of documents matching it is still: %i' % (exampleQuery2.duration, exampleQuery2.total))"
   ]
  },
  {
   "cell_type": "code",
   "execution_count": 14,
   "id": "453f428c",
   "metadata": {},
   "outputs": [
    {
     "name": "stdout",
     "output_type": "stream",
     "text": [
      "A larger sample of the courseID and student name for the query results is the following:\n",
      "\n",
      "1 14 Zaina Madan\n",
      "2 309 Zaina Madan\n",
      "3 192 Sarah Lara\n",
      "4 379 Zaina Madan\n",
      "5 192 Patrícia Leite\n",
      "6 192 Ana Narušis\n",
      "7 192 Casandra Arenas\n",
      "8 14 Zaina Madan\n",
      "9 192 Custodia Hidalgo\n",
      "10 192 Arthur Laroche\n",
      "11 192 Narciso Ferrán\n",
      "12 192 Casandra Arenas\n",
      "13 192 Ledün Soylu\n",
      "14 192 Émile Nicolas\n",
      "15 192 Cathrine Lie\n",
      "16 192 Casandra Arenas\n",
      "17 379 Zaina Madan\n",
      "18 192 Ledün Soylu\n",
      "19 192 Vigilija Gaižauskas\n",
      "20 379 Zaina Madan\n",
      "21 192 Narciso Ferrán\n",
      "22 192 Narciso Ferrán\n",
      "23 379 Zaina Madan\n",
      "24 192 Narciso Ferrán\n",
      "25 192 Custodia Hidalgo\n"
     ]
    }
   ],
   "source": [
    "print('A larger sample of the courseID and student name for the query results is the following:\\n')\n",
    "counter2 = 0\n",
    "for doc in exampleQuery2.docs:\n",
    "    counter2 += 1\n",
    "    print(counter2, doc['courseID'], doc['firstName'], doc['lastName'])"
   ]
  },
  {
   "cell_type": "markdown",
   "id": "18eda9e7",
   "metadata": {},
   "source": [
    "Instead of retrieving the entire documents, if we are perfectly aware of the information we need from a query, we can project the required fields and save memory."
   ]
  },
  {
   "cell_type": "code",
   "execution_count": 43,
   "id": "46ba7eca",
   "metadata": {},
   "outputs": [],
   "source": [
    "exampleQuery3 = rs.search(Query('@studentID:192').return_fields('firstName', 'lastName', 'courseID').paging(0, 25))"
   ]
  },
  {
   "cell_type": "code",
   "execution_count": 44,
   "id": "642fc6b0",
   "metadata": {},
   "outputs": [
    {
     "name": "stdout",
     "output_type": "stream",
     "text": [
      "The query execution time was: 4.333019 milliseconds, and the number of documents matching it is: 222\n"
     ]
    }
   ],
   "source": [
    "print('The query execution time was: %f milliseconds, and the number of documents matching it is: %i' % (exampleQuery3.duration, exampleQuery3.total))"
   ]
  },
  {
   "cell_type": "code",
   "execution_count": 45,
   "id": "7d1532e9",
   "metadata": {},
   "outputs": [
    {
     "name": "stdout",
     "output_type": "stream",
     "text": [
      "A sample of the courseID and student name for the query results is the following:\n",
      "\n",
      "1 14 Zaina Madan\n",
      "2 309 Zaina Madan\n",
      "3 379 Zaina Madan\n",
      "4 14 Zaina Madan\n",
      "5 379 Zaina Madan\n",
      "6 379 Zaina Madan\n",
      "7 379 Zaina Madan\n",
      "8 234 Zaina Madan\n",
      "9 379 Zaina Madan\n",
      "10 379 Zaina Madan\n",
      "11 309 Zaina Madan\n",
      "12 379 Zaina Madan\n",
      "13 379 Zaina Madan\n",
      "14 379 Zaina Madan\n",
      "15 14 Zaina Madan\n",
      "16 309 Zaina Madan\n",
      "17 14 Zaina Madan\n",
      "18 309 Zaina Madan\n",
      "19 309 Zaina Madan\n",
      "20 234 Zaina Madan\n",
      "21 234 Zaina Madan\n",
      "22 379 Zaina Madan\n",
      "23 14 Zaina Madan\n",
      "24 309 Zaina Madan\n",
      "25 14 Zaina Madan\n"
     ]
    }
   ],
   "source": [
    "print('A sample of the courseID and student name for the query results is the following:\\n')\n",
    "counter3 = 0\n",
    "for doc in exampleQuery3.docs:\n",
    "    counter3 += 1\n",
    "    print(counter3, doc['courseID'], doc['firstName'], doc['lastName'])"
   ]
  },
  {
   "cell_type": "code",
   "execution_count": null,
   "id": "c91cfe2a",
   "metadata": {},
   "outputs": [],
   "source": []
  }
 ],
 "metadata": {
  "kernelspec": {
   "display_name": "Python 3 (ipykernel)",
   "language": "python",
   "name": "python3"
  },
  "language_info": {
   "codemirror_mode": {
    "name": "ipython",
    "version": 3
   },
   "file_extension": ".py",
   "mimetype": "text/x-python",
   "name": "python",
   "nbconvert_exporter": "python",
   "pygments_lexer": "ipython3",
   "version": "3.10.8"
  }
 },
 "nbformat": 4,
 "nbformat_minor": 5
}

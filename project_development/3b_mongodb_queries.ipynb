{
 "cells": [
  {
   "cell_type": "markdown",
   "id": "28139080",
   "metadata": {},
   "source": [
    "<center>\n",
    "    <h2>Online learning platform database - MongoDB</h2>\n",
    "    <h3>Performing the queries and storing the queries execution time</h3>\n",
    "</center>"
   ]
  },
  {
   "cell_type": "markdown",
   "id": "a3ecb38b",
   "metadata": {},
   "source": [
    "<h3>Python - MongoDB interaction</h3>"
   ]
  },
  {
   "cell_type": "markdown",
   "id": "4569224e",
   "metadata": {},
   "source": [
    "Prior to performing the queries, we import the required modules (the <i>PyMongo</i> driver and the <i>time</i> and <i>csv</i> modules) and establish a connection to the MongoDB instance running in Docker. It is also convenient to store the database and the collections of interest into Python variables."
   ]
  },
  {
   "cell_type": "code",
   "execution_count": 3,
   "id": "e41487af",
   "metadata": {},
   "outputs": [],
   "source": [
    "# import modules\n",
    "import pymongo            # MongoDB driver\n",
    "import time               # time-related functions to register query execution times\n",
    "import csv                # read and write csv files\n",
    "\n",
    "# create client object\n",
    "client = pymongo.MongoClient(host = 'localhost', port = 27017, username = 'root', password = 'root')\n",
    "\n",
    "# assign database to Python variable (db)\n",
    "db = client.get_database('dbB_MONGODB_test')\n",
    "\n",
    "# assign collections to Python variables\n",
    "smallColl = db.smallDB\n",
    "mediumColl = db.mediumDB\n",
    "largeColl = db.largeDB\n",
    "humongousColl = db.humongousDB\n",
    "\n",
    "# create cursor object\n",
    "#cursor = conn.cursor()"
   ]
  },
  {
   "cell_type": "code",
   "execution_count": null,
   "id": "084148ee",
   "metadata": {},
   "outputs": [],
   "source": []
  },
  {
   "cell_type": "markdown",
   "id": "c62efba6",
   "metadata": {},
   "source": [
    "<h4>\n",
    "Measuring and displaying the query execution time\n",
    "</h4><br>\n",
    "To display the query execution time we can use the Python <a href = 'https://docs.python.org/3/library/time.html'><i>time</i></a> module and its <code>time</code> function. The function returns the system time at a floating point precision, so the query execution time can be measured as a large number of fractions of a second. It is sufficient to assign the time before the query execution to a variable and the time after the query execution to another variable. The difference between the two variables will measure the query execution. Obviously, the time for the Python API to connect to the MongoDB server and the time to return to the Python API after the query execution will be summed up to the query execution time at the DBMS level."
   ]
  },
  {
   "cell_type": "code",
   "execution_count": 60,
   "id": "15c0b8f3",
   "metadata": {},
   "outputs": [
    {
     "name": "stdout",
     "output_type": "stream",
     "text": [
      "0.1888275146484375\n"
     ]
    }
   ],
   "source": [
    "import time\n",
    "start = time.time()\n",
    "cursor1 = smallColl.find({'courseID' : 192}, {'_id' : 0, 'studentID' : 1, 'firstName' : 1, 'lastName' : 1})\n",
    "end = time.time()\n",
    "print((end - start) * 1000)"
   ]
  },
  {
   "cell_type": "markdown",
   "id": "4a9e1f8f",
   "metadata": {},
   "source": [
    "<h3>Query the collections</h3>"
   ]
  },
  {
   "cell_type": "markdown",
   "id": "c6bc2489",
   "metadata": {},
   "source": [
    "I create a dictionary of lists for each of the four collections. In these dictionaries the keys are the query names and the values are the 31 query execution times: in fact I attach the value of the query execution time of the most recent query to the list. Since query execution times are required in milliseconds, prior to attaching them, I multiply them by 1000 and round them to the fifth decimal precision.\n",
    "The above summarized actions (for each of the four queries on each of the four collections) are performed by following a standard succession of steps. Each step is encapsulated within a notebook cell (so each query is performed 31 times by using three notebook cells), as follows:\n",
    " - step 1: define the query, perform it for the first time, contextually create timestamps prior and after query execution, print query result;\n",
    " - step 2: compute execution time of the first query execution and store it within the corresponding dictionary list;\n",
    " - step 3: [thirty times] perform query execution while creating prior and following timestamps, compute execution time and store it within the corresponding dictionary list. With Mongo I don't need to reset the cursor to allow repeating the query.\n",
    "\n",
    "For each dataset, after having performed the four queries, I will finally compute the mean of the query executions from step 3. Together with the first query execution, this mean value will be stored into a new dictionary, specific to a dataset. The four new dictionaries will then be saved as a csv file for constructing histograms."
   ]
  },
  {
   "cell_type": "code",
   "execution_count": 15,
   "id": "ee3db8b9",
   "metadata": {},
   "outputs": [],
   "source": [
    "smallDict = {'query1' : list(), 'query2' : list(), 'query3' : list(), 'query4' : list()}\n",
    "mediumDict = {'query1' : list(), 'query2' : list(), 'query3' : list(), 'query4' : list()}\n",
    "largeDict = {'query1' : list(), 'query2' : list(), 'query3' : list(), 'query4' : list()}\n",
    "humongousDict = {'query1' : list(), 'query2' : list(), 'query3' : list(), 'query4' : list()}"
   ]
  },
  {
   "cell_type": "code",
   "execution_count": 10,
   "id": "98537f33",
   "metadata": {},
   "outputs": [],
   "source": [
    "# mean function\n",
    "def mean(aList):\n",
    "    n = len(aList)\n",
    "    sum = 0\n",
    "    for value in aList:\n",
    "        sum += value\n",
    "    return sum / n"
   ]
  },
  {
   "cell_type": "markdown",
   "id": "9aa9088b",
   "metadata": {},
   "source": [
    "<h3>Collection with 250k documents</h3><br>\n",
    "I start with the smallest collection."
   ]
  },
  {
   "cell_type": "markdown",
   "id": "e2f7e738",
   "metadata": {},
   "source": [
    "<h4>Query 1</h4>"
   ]
  },
  {
   "cell_type": "code",
   "execution_count": 16,
   "id": "896d71e4",
   "metadata": {},
   "outputs": [
    {
     "name": "stdout",
     "output_type": "stream",
     "text": [
      "Émile Nicolas\n",
      "Cathrine Lie\n",
      "Nath Nicolas\n",
      "Ledün Soylu\n",
      "Ingeborg Amundsen\n",
      "Arthur Laroche\n",
      "Narciso Ferrán\n",
      "Casandra Arenas\n",
      "Custodia Hidalgo\n",
      "Sarah Lara\n",
      "Patrícia Leite\n",
      "Vigilija Gaižauskas\n",
      "Ana Narušis\n"
     ]
    }
   ],
   "source": [
    "# step 1\n",
    "small_mongo1 = [{'$match' : {'courseID' : 192}}, {'$group' : {'_id' : {'name' : '$firstName', 'surname' : '$lastName'}}}, {'$project' : {'firstName' : 1, 'lastName' : 1}}]\n",
    "\n",
    "before = time.time()\n",
    "small_query1 = smallColl.aggregate(small_mongo1)\n",
    "after = time.time()\n",
    "\n",
    "for result in small_query1:\n",
    "    print(result['_id']['name'], result['_id']['surname'])"
   ]
  },
  {
   "cell_type": "code",
   "execution_count": 17,
   "id": "52c7d8c3",
   "metadata": {},
   "outputs": [],
   "source": [
    "# step 2\n",
    "msec_duration = (after - before) * 1000\n",
    "smallDict['query1'].append(round(msec_duration, 5))"
   ]
  },
  {
   "cell_type": "code",
   "execution_count": 18,
   "id": "19e8f10b",
   "metadata": {},
   "outputs": [],
   "source": [
    "# step 3\n",
    "for i in range(0, 30):\n",
    "    before = time.time()\n",
    "    smallColl.aggregate(small_mongo1)\n",
    "    after = time.time()\n",
    "    msec_duration = (after - before) * 1000\n",
    "    smallDict['query1'].append(round(msec_duration, 5))"
   ]
  },
  {
   "cell_type": "code",
   "execution_count": 19,
   "id": "10fb73f3",
   "metadata": {},
   "outputs": [
    {
     "data": {
      "text/plain": [
       "[192.01708,\n",
       " 148.67926,\n",
       " 127.74396,\n",
       " 132.73692,\n",
       " 125.6938,\n",
       " 130.42593,\n",
       " 132.64608,\n",
       " 130.61404,\n",
       " 134.8269,\n",
       " 128.96514,\n",
       " 171.11492,\n",
       " 144.75203,\n",
       " 123.18492,\n",
       " 125.386,\n",
       " 126.82486,\n",
       " 127.62499,\n",
       " 168.33091,\n",
       " 194.70096,\n",
       " 128.42607,\n",
       " 138.58414,\n",
       " 138.27682,\n",
       " 148.01908,\n",
       " 147.14003,\n",
       " 129.25005,\n",
       " 123.20209,\n",
       " 136.40308,\n",
       " 159.40189,\n",
       " 141.75892,\n",
       " 125.15616,\n",
       " 142.05384,\n",
       " 191.38885]"
      ]
     },
     "execution_count": 19,
     "metadata": {},
     "output_type": "execute_result"
    }
   ],
   "source": [
    "smallDict['query1']"
   ]
  },
  {
   "cell_type": "markdown",
   "id": "0af2104a",
   "metadata": {},
   "source": [
    "<h4>Query 2</h4>"
   ]
  },
  {
   "cell_type": "code",
   "execution_count": 30,
   "id": "425b554c",
   "metadata": {},
   "outputs": [
    {
     "name": "stdout",
     "output_type": "stream",
     "text": [
      "Foundations: Data, Data, Everywhere\n",
      "Basic Statistics\n",
      "Econometrics: Methods and Applications\n",
      "Exploratory Data Analysis\n",
      "Bayesian Statistics: From Concept to Data Analysis\n",
      "Understanding Clinical Research: Behind the Statistics\n",
      "Introduction to Statistics\n",
      "Python and Statistics for Financial Analysis\n",
      "Introduction to Probability and Data with R\n"
     ]
    }
   ],
   "source": [
    "# step 1\n",
    "small_mongo2 = [{'$match' : {'discipline' : 'statistics', 'courseYear' : 2022}}, {'$group' : {'_id' : {'ID' : '$courseID', 'course' : '$courseName'}}}, {'$project' : {'_id.course' : 1}}]\n",
    "\n",
    "before = time.time()\n",
    "small_query2 = smallColl.aggregate(small_mongo2)\n",
    "after = time.time()\n",
    "\n",
    "for result in small_query2:\n",
    "    print(result['_id']['course'])"
   ]
  },
  {
   "cell_type": "code",
   "execution_count": 31,
   "id": "c88a1cef",
   "metadata": {},
   "outputs": [],
   "source": [
    "# step 2\n",
    "msec_duration = (after - before) * 1000\n",
    "smallDict['query2'].append(round(msec_duration, 5))"
   ]
  },
  {
   "cell_type": "code",
   "execution_count": 32,
   "id": "cad3385e",
   "metadata": {},
   "outputs": [],
   "source": [
    "# step 3\n",
    "for i in range(0, 30):\n",
    "    before = time.time()\n",
    "    smallColl.aggregate(small_mongo2)\n",
    "    after = time.time()\n",
    "    msec_duration = (after - before) * 1000\n",
    "    smallDict['query2'].append(round(msec_duration, 5))"
   ]
  },
  {
   "cell_type": "code",
   "execution_count": 33,
   "id": "50d48a7f",
   "metadata": {},
   "outputs": [
    {
     "data": {
      "text/plain": [
       "[312.48307,\n",
       " 260.34093,\n",
       " 226.48501,\n",
       " 170.45212,\n",
       " 166.99171,\n",
       " 195.08314,\n",
       " 183.59113,\n",
       " 181.37288,\n",
       " 192.99603,\n",
       " 166.76307,\n",
       " 170.74394,\n",
       " 170.82405,\n",
       " 165.51208,\n",
       " 178.72095,\n",
       " 165.86804,\n",
       " 165.38715,\n",
       " 181.74601,\n",
       " 202.47698,\n",
       " 215.80982,\n",
       " 180.78423,\n",
       " 180.35769,\n",
       " 171.45491,\n",
       " 268.52679,\n",
       " 318.87412,\n",
       " 227.42605,\n",
       " 235.55899,\n",
       " 178.04503,\n",
       " 184.28302,\n",
       " 186.02514,\n",
       " 163.92303,\n",
       " 171.63515]"
      ]
     },
     "execution_count": 33,
     "metadata": {},
     "output_type": "execute_result"
    }
   ],
   "source": [
    "smallDict['query2']"
   ]
  },
  {
   "cell_type": "markdown",
   "id": "b612b477",
   "metadata": {},
   "source": [
    "<h4>Query 3</h4>"
   ]
  },
  {
   "cell_type": "code",
   "execution_count": 50,
   "id": "2e247697",
   "metadata": {},
   "outputs": [
    {
     "name": "stdout",
     "output_type": "stream",
     "text": [
      "838\n"
     ]
    }
   ],
   "source": [
    "# step 1\n",
    "small_mongo3 = [{'$match' : {'discipline': 'maths', 'materialType' : 'lecture slides', 'email': {'$regex': '@gmail.com'}}}, {'$group' : {'_id': '_id', 'IDcount' : {'$count': {}}}}]\n",
    "\n",
    "before = time.time()\n",
    "small_query3 = smallColl.aggregate(small_mongo3)\n",
    "after = time.time()\n",
    "\n",
    "for result in small_query3:\n",
    "    print(result['IDcount'])"
   ]
  },
  {
   "cell_type": "code",
   "execution_count": 51,
   "id": "10f695e7",
   "metadata": {},
   "outputs": [],
   "source": [
    "# step 2\n",
    "msec_duration = (after - before) * 1000\n",
    "smallDict['query3'].append(round(msec_duration, 5))"
   ]
  },
  {
   "cell_type": "code",
   "execution_count": 52,
   "id": "faaaf86c",
   "metadata": {},
   "outputs": [],
   "source": [
    "# step 3\n",
    "for i in range(0, 30):\n",
    "    before = time.time()\n",
    "    smallColl.aggregate(small_mongo3)\n",
    "    after = time.time()\n",
    "    msec_duration = (after - before) * 1000\n",
    "    smallDict['query3'].append(round(msec_duration, 5))"
   ]
  },
  {
   "cell_type": "code",
   "execution_count": 53,
   "id": "29277efb",
   "metadata": {},
   "outputs": [
    {
     "data": {
      "text/plain": [
       "[266.86788,\n",
       " 171.24104,\n",
       " 142.519,\n",
       " 146.34204,\n",
       " 146.21115,\n",
       " 146.42215,\n",
       " 176.85294,\n",
       " 151.75509,\n",
       " 154.60992,\n",
       " 146.61407,\n",
       " 144.40227,\n",
       " 150.61879,\n",
       " 149.56284,\n",
       " 142.98487,\n",
       " 144.09494,\n",
       " 171.33808,\n",
       " 206.3508,\n",
       " 181.37169,\n",
       " 177.28996,\n",
       " 174.52002,\n",
       " 215.40403,\n",
       " 200.69766,\n",
       " 337.74877,\n",
       " 689.77189,\n",
       " 299.50404,\n",
       " 220.75486,\n",
       " 204.85997,\n",
       " 162.45794,\n",
       " 178.18904,\n",
       " 163.46216,\n",
       " 178.35379]"
      ]
     },
     "execution_count": 53,
     "metadata": {},
     "output_type": "execute_result"
    }
   ],
   "source": [
    "smallDict['query3']"
   ]
  },
  {
   "cell_type": "markdown",
   "id": "d635a0d1",
   "metadata": {},
   "source": [
    "<h4>Query 4</h4>"
   ]
  },
  {
   "cell_type": "code",
   "execution_count": 45,
   "id": "c0d94dc3",
   "metadata": {},
   "outputs": [
    {
     "name": "stdout",
     "output_type": "stream",
     "text": [
      "Lynda Reynolds from Korea\n",
      "Cathrine Lie from South Korea\n",
      "Raghav Sura from North Korea\n"
     ]
    }
   ],
   "source": [
    "# step 1\n",
    "small_mongo4 = [{'$match' : {'discipline': 'psychology', 'country' : {'$regex': 'orea'}, 'dateOfBirth': {'$regex': '^1'}}}, {'$project' : {'_id': 0, 'firstName': 1, 'lastName': 1, 'country': 1}}, {'$group' : {'_id': {'name': '$firstName', 'surname': '$lastName', 'country': '$country'}}}, {'$sort' : {'lastName' : 1}}]\n",
    "\n",
    "before = time.time()\n",
    "small_query4 = smallColl.aggregate(small_mongo4)\n",
    "after = time.time()\n",
    "\n",
    "for result in small_query4:\n",
    "    print(result['_id']['name'], result['_id']['surname'], 'from', result['_id']['country'])"
   ]
  },
  {
   "cell_type": "code",
   "execution_count": 46,
   "id": "ab1285f6",
   "metadata": {},
   "outputs": [],
   "source": [
    "# step 2\n",
    "msec_duration = (after - before) * 1000\n",
    "smallDict['query4'].append(round(msec_duration, 5))"
   ]
  },
  {
   "cell_type": "code",
   "execution_count": 47,
   "id": "1305c6e5",
   "metadata": {},
   "outputs": [],
   "source": [
    "# step 3\n",
    "for i in range(0, 30):\n",
    "    before = time.time()\n",
    "    smallColl.aggregate(small_mongo4)\n",
    "    after = time.time()\n",
    "    msec_duration = (after - before) * 1000\n",
    "    smallDict['query4'].append(round(msec_duration, 5))"
   ]
  },
  {
   "cell_type": "code",
   "execution_count": 48,
   "id": "b2f7fc56",
   "metadata": {},
   "outputs": [
    {
     "data": {
      "text/plain": [
       "[208.28009,\n",
       " 167.99116,\n",
       " 155.11084,\n",
       " 152.21214,\n",
       " 140.56706,\n",
       " 143.35012,\n",
       " 145.02001,\n",
       " 145.39194,\n",
       " 157.1939,\n",
       " 159.77097,\n",
       " 169.04187,\n",
       " 164.61635,\n",
       " 167.665,\n",
       " 158.17714,\n",
       " 146.0669,\n",
       " 208.69708,\n",
       " 151.72577,\n",
       " 145.94793,\n",
       " 145.45798,\n",
       " 152.36402,\n",
       " 145.38121,\n",
       " 145.04123,\n",
       " 164.43181,\n",
       " 184.00311,\n",
       " 152.50707,\n",
       " 145.23387,\n",
       " 146.12794,\n",
       " 150.12193,\n",
       " 149.09196,\n",
       " 174.86906,\n",
       " 146.18683]"
      ]
     },
     "execution_count": 48,
     "metadata": {},
     "output_type": "execute_result"
    }
   ],
   "source": [
    "smallDict['query4']"
   ]
  },
  {
   "cell_type": "code",
   "execution_count": 105,
   "id": "a75250f5",
   "metadata": {},
   "outputs": [
    {
     "data": {
      "text/plain": [
       "{'query1': [192.01708, 140.77709],\n",
       " 'query2': [312.48307, 194.26864],\n",
       " 'query3': [266.86788, 195.87686],\n",
       " 'query4': [208.28009, 155.97881]}"
      ]
     },
     "execution_count": 105,
     "metadata": {},
     "output_type": "execute_result"
    }
   ],
   "source": [
    "smallDataset = {'query1' : list(), 'query2' : list(), 'query3' : list(), 'query4' : list()}\n",
    "for key in smallDict:\n",
    "    smallDataset[key].append(smallDict[key][0])\n",
    "    mean30 = mean(smallDict[key][1 : 31])\n",
    "    smallDataset[key].append(round(mean30, 5))\n",
    "smallDataset"
   ]
  },
  {
   "cell_type": "code",
   "execution_count": null,
   "id": "cb30c7a6",
   "metadata": {},
   "outputs": [],
   "source": []
  },
  {
   "cell_type": "markdown",
   "id": "17e75894",
   "metadata": {},
   "source": [
    "<h3>Collection with 500k documents</h3><br>"
   ]
  },
  {
   "cell_type": "markdown",
   "id": "74e7330d",
   "metadata": {},
   "source": [
    "<h4>Query 1</h4>"
   ]
  },
  {
   "cell_type": "code",
   "execution_count": 54,
   "id": "719ac7a9",
   "metadata": {},
   "outputs": [
    {
     "name": "stdout",
     "output_type": "stream",
     "text": [
      "Cathrine Lie\n",
      "Karl Christensen\n",
      "Christl Henschel\n",
      "Vigilija Gaižauskas\n",
      "Custodia Hidalgo\n",
      "Nedas Naujokas\n",
      "Narciso Ferrán\n",
      "Sarah Lara\n",
      "Patrícia Leite\n",
      "Joris Kavaliauskas\n",
      "Miguel Real\n",
      "Arthur Laroche\n",
      "Yuvaan Dara\n",
      "Ledün Soylu\n",
      "Ana Narušis\n",
      "Émile Nicolas\n",
      "Ingeborg Amundsen\n",
      "Casandra Arenas\n",
      "Nath Nicolas\n",
      "Débora Vaz\n"
     ]
    }
   ],
   "source": [
    "# step 1\n",
    "medium_mongo1 = [{'$match' : {'courseID' : 192}}, {'$group' : {'_id' : {'name' : '$firstName', 'surname' : '$lastName'}}}, {'$project' : {'firstName' : 1, 'lastName' : 1}}]\n",
    "\n",
    "before = time.time()\n",
    "medium_query1 = mediumColl.aggregate(medium_mongo1)\n",
    "after = time.time()\n",
    "\n",
    "for result in medium_query1:\n",
    "    print(result['_id']['name'], result['_id']['surname'])"
   ]
  },
  {
   "cell_type": "code",
   "execution_count": 55,
   "id": "580c76ae",
   "metadata": {},
   "outputs": [],
   "source": [
    "# step 2\n",
    "msec_duration = (after - before) * 1000\n",
    "mediumDict['query1'].append(round(msec_duration, 5))"
   ]
  },
  {
   "cell_type": "code",
   "execution_count": 56,
   "id": "01bfb107",
   "metadata": {},
   "outputs": [],
   "source": [
    "# step 3\n",
    "for i in range(0, 30):\n",
    "    before = time.time()\n",
    "    mediumColl.aggregate(medium_mongo1)\n",
    "    after = time.time()\n",
    "    msec_duration = (after - before) * 1000\n",
    "    mediumDict['query1'].append(round(msec_duration, 5))"
   ]
  },
  {
   "cell_type": "code",
   "execution_count": 57,
   "id": "93d96e85",
   "metadata": {},
   "outputs": [
    {
     "data": {
      "text/plain": [
       "[3829.1719,\n",
       " 420.63785,\n",
       " 265.49029,\n",
       " 250.57483,\n",
       " 265.53607,\n",
       " 297.94383,\n",
       " 270.54691,\n",
       " 319.01789,\n",
       " 470.95704,\n",
       " 316.07819,\n",
       " 432.94883,\n",
       " 265.35392,\n",
       " 319.25297,\n",
       " 265.11884,\n",
       " 258.12721,\n",
       " 261.85799,\n",
       " 262.7039,\n",
       " 269.06705,\n",
       " 249.15504,\n",
       " 255.62811,\n",
       " 250.27514,\n",
       " 261.96003,\n",
       " 254.76503,\n",
       " 258.63123,\n",
       " 258.46791,\n",
       " 257.08222,\n",
       " 254.91881,\n",
       " 262.77208,\n",
       " 252.70796,\n",
       " 396.41118,\n",
       " 288.414]"
      ]
     },
     "execution_count": 57,
     "metadata": {},
     "output_type": "execute_result"
    }
   ],
   "source": [
    "mediumDict['query1']"
   ]
  },
  {
   "cell_type": "markdown",
   "id": "6645037d",
   "metadata": {},
   "source": [
    "<h4>Query 2</h4>"
   ]
  },
  {
   "cell_type": "code",
   "execution_count": 58,
   "id": "25164566",
   "metadata": {},
   "outputs": [
    {
     "name": "stdout",
     "output_type": "stream",
     "text": [
      "Bayesian Statistics: From Concept to Data Analysis\n",
      "Understanding Clinical Research: Behind the Statistics\n",
      "Python and Statistics for Financial Analysis\n",
      "Exploratory Data Analysis\n",
      "Introduction to Statistics\n",
      "Foundations: Data, Data, Everywhere\n",
      "Introduction to Probability and Data with R\n",
      "Basic Statistics\n",
      "Econometrics: Methods and Applications\n"
     ]
    }
   ],
   "source": [
    "# step 1\n",
    "medium_mongo2 = [{'$match' : {'discipline' : 'statistics', 'courseYear' : 2022}}, {'$group' : {'_id' : {'ID' : '$courseID', 'course' : '$courseName'}}}, {'$project' : {'_id.course' : 1}}]\n",
    "\n",
    "before = time.time()\n",
    "medium_query2 = mediumColl.aggregate(medium_mongo2)\n",
    "after = time.time()\n",
    "\n",
    "for result in medium_query2:\n",
    "    print(result['_id']['course'])"
   ]
  },
  {
   "cell_type": "code",
   "execution_count": 59,
   "id": "c739091f",
   "metadata": {},
   "outputs": [],
   "source": [
    "# step 2\n",
    "msec_duration = (after - before) * 1000\n",
    "mediumDict['query2'].append(round(msec_duration, 5))"
   ]
  },
  {
   "cell_type": "code",
   "execution_count": 60,
   "id": "de14f3c5",
   "metadata": {},
   "outputs": [],
   "source": [
    "# step 3\n",
    "for i in range(0, 30):\n",
    "    before = time.time()\n",
    "    mediumColl.aggregate(medium_mongo2)\n",
    "    after = time.time()\n",
    "    msec_duration = (after - before) * 1000\n",
    "    mediumDict['query2'].append(round(msec_duration, 5))"
   ]
  },
  {
   "cell_type": "code",
   "execution_count": 61,
   "id": "9cb8d22e",
   "metadata": {},
   "outputs": [
    {
     "data": {
      "text/plain": [
       "[459.23471,\n",
       " 360.01587,\n",
       " 326.99275,\n",
       " 358.72412,\n",
       " 344.13981,\n",
       " 380.72777,\n",
       " 343.70995,\n",
       " 371.14406,\n",
       " 430.05896,\n",
       " 410.56108,\n",
       " 436.94115,\n",
       " 384.81688,\n",
       " 356.00185,\n",
       " 367.86413,\n",
       " 401.45206,\n",
       " 603.53875,\n",
       " 421.18502,\n",
       " 354.54512,\n",
       " 472.13578,\n",
       " 608.22606,\n",
       " 471.38596,\n",
       " 364.39514,\n",
       " 378.64518,\n",
       " 351.02201,\n",
       " 365.80086,\n",
       " 361.58204,\n",
       " 339.02001,\n",
       " 326.17807,\n",
       " 332.39698,\n",
       " 331.21514,\n",
       " 324.44596]"
      ]
     },
     "execution_count": 61,
     "metadata": {},
     "output_type": "execute_result"
    }
   ],
   "source": [
    "mediumDict['query2']"
   ]
  },
  {
   "cell_type": "markdown",
   "id": "e7e6b729",
   "metadata": {},
   "source": [
    "<h4>Query 3</h4>"
   ]
  },
  {
   "cell_type": "code",
   "execution_count": 62,
   "id": "9060a387",
   "metadata": {},
   "outputs": [
    {
     "name": "stdout",
     "output_type": "stream",
     "text": [
      "1698\n"
     ]
    }
   ],
   "source": [
    "# step 1\n",
    "medium_mongo3 = [{'$match' : {'discipline': 'maths', 'materialType' : 'lecture slides', 'email': {'$regex': '@gmail.com'}}}, {'$group' : {'_id': '_id', 'IDcount' : {'$count': {}}}}]\n",
    "\n",
    "before = time.time()\n",
    "medium_query3 = mediumColl.aggregate(medium_mongo3)\n",
    "after = time.time()\n",
    "\n",
    "for result in medium_query3:\n",
    "    print(result['IDcount'])"
   ]
  },
  {
   "cell_type": "code",
   "execution_count": 63,
   "id": "bafd5924",
   "metadata": {},
   "outputs": [],
   "source": [
    "# step 2\n",
    "msec_duration = (after - before) * 1000\n",
    "mediumDict['query3'].append(round(msec_duration, 5))"
   ]
  },
  {
   "cell_type": "code",
   "execution_count": 64,
   "id": "ad494027",
   "metadata": {},
   "outputs": [],
   "source": [
    "# step 3\n",
    "for i in range(0, 30):\n",
    "    before = time.time()\n",
    "    mediumColl.aggregate(medium_mongo3)\n",
    "    after = time.time()\n",
    "    msec_duration = (after - before) * 1000\n",
    "    mediumDict['query3'].append(round(msec_duration, 5))"
   ]
  },
  {
   "cell_type": "code",
   "execution_count": 65,
   "id": "da9aa390",
   "metadata": {},
   "outputs": [
    {
     "data": {
      "text/plain": [
       "[444.53502,\n",
       " 360.33583,\n",
       " 333.11605,\n",
       " 324.85604,\n",
       " 536.99517,\n",
       " 520.97511,\n",
       " 312.13999,\n",
       " 311.81884,\n",
       " 340.22117,\n",
       " 416.56184,\n",
       " 297.86229,\n",
       " 398.80204,\n",
       " 309.22985,\n",
       " 727.44775,\n",
       " 331.0411,\n",
       " 687.80971,\n",
       " 603.94597,\n",
       " 301.05495,\n",
       " 532.59301,\n",
       " 520.66112,\n",
       " 466.151,\n",
       " 299.11613,\n",
       " 399.58715,\n",
       " 512.92515,\n",
       " 552.08397,\n",
       " 656.59118,\n",
       " 465.6179,\n",
       " 583.46915,\n",
       " 324.66912,\n",
       " 305.11928,\n",
       " 355.57795]"
      ]
     },
     "execution_count": 65,
     "metadata": {},
     "output_type": "execute_result"
    }
   ],
   "source": [
    "mediumDict['query3']"
   ]
  },
  {
   "cell_type": "markdown",
   "id": "0e73db27",
   "metadata": {},
   "source": [
    "<h4>Query 4</h4>"
   ]
  },
  {
   "cell_type": "code",
   "execution_count": 66,
   "id": "762b2973",
   "metadata": {},
   "outputs": [
    {
     "name": "stdout",
     "output_type": "stream",
     "text": [
      "Raghav Sura from North Korea\n",
      "Cathrine Lie from South Korea\n",
      "Lynda Reynolds from Korea\n",
      "Miguel Real from República de Corea\n",
      "Ninthe Horrocks from Noord-Korea\n"
     ]
    }
   ],
   "source": [
    "# step 1\n",
    "medium_mongo4 = [{'$match' : {'discipline': 'psychology', 'country' : {'$regex': 'orea'}, 'dateOfBirth': {'$regex': '^1'}}}, {'$project' : {'_id': 0, 'firstName': 1, 'lastName': 1, 'country': 1}}, {'$group' : {'_id': {'name': '$firstName', 'surname': '$lastName', 'country': '$country'}}}, {'$sort' : {'lastName' : 1}}]\n",
    "\n",
    "before = time.time()\n",
    "medium_query4 = mediumColl.aggregate(medium_mongo4)\n",
    "after = time.time()\n",
    "\n",
    "for result in medium_query4:\n",
    "    print(result['_id']['name'], result['_id']['surname'], 'from', result['_id']['country'])"
   ]
  },
  {
   "cell_type": "code",
   "execution_count": 67,
   "id": "58442c7a",
   "metadata": {},
   "outputs": [],
   "source": [
    "# step 2\n",
    "msec_duration = (after - before) * 1000\n",
    "mediumDict['query4'].append(round(msec_duration, 5))"
   ]
  },
  {
   "cell_type": "code",
   "execution_count": 68,
   "id": "0bb59060",
   "metadata": {},
   "outputs": [],
   "source": [
    "# step 3\n",
    "for i in range(0, 30):\n",
    "    before = time.time()\n",
    "    mediumColl.aggregate(medium_mongo4)\n",
    "    after = time.time()\n",
    "    msec_duration = (after - before) * 1000\n",
    "    mediumDict['query4'].append(round(msec_duration, 5))"
   ]
  },
  {
   "cell_type": "code",
   "execution_count": 69,
   "id": "8fa2e1cb",
   "metadata": {},
   "outputs": [
    {
     "data": {
      "text/plain": [
       "[355.16381,\n",
       " 306.51426,\n",
       " 263.66687,\n",
       " 269.09494,\n",
       " 264.28795,\n",
       " 364.64071,\n",
       " 269.60897,\n",
       " 268.9209,\n",
       " 340.1289,\n",
       " 305.56178,\n",
       " 282.66072,\n",
       " 269.91415,\n",
       " 269.768,\n",
       " 266.93296,\n",
       " 278.87487,\n",
       " 263.83424,\n",
       " 268.6739,\n",
       " 291.03613,\n",
       " 283.92816,\n",
       " 328.439,\n",
       " 276.11685,\n",
       " 263.1371,\n",
       " 266.34502,\n",
       " 264.503,\n",
       " 267.22789,\n",
       " 267.86923,\n",
       " 317.54398,\n",
       " 282.74393,\n",
       " 297.87302,\n",
       " 283.55408,\n",
       " 702.53992]"
      ]
     },
     "execution_count": 69,
     "metadata": {},
     "output_type": "execute_result"
    }
   ],
   "source": [
    "mediumDict['query4']"
   ]
  },
  {
   "cell_type": "code",
   "execution_count": 104,
   "id": "4482b70e",
   "metadata": {},
   "outputs": [
    {
     "data": {
      "text/plain": [
       "{'query1': [3829.1719, 290.41341],\n",
       " 'query2': [459.23471, 389.29562],\n",
       " 'query3': [444.53502, 436.27919],\n",
       " 'query4': [355.16381, 298.19805]}"
      ]
     },
     "execution_count": 104,
     "metadata": {},
     "output_type": "execute_result"
    }
   ],
   "source": [
    "mediumDataset = {'query1' : list(), 'query2' : list(), 'query3' : list(), 'query4' : list()}\n",
    "for key in mediumDict:\n",
    "    mediumDataset[key].append(mediumDict[key][0])\n",
    "    mean30 = mean(mediumDict[key][1 : 31])\n",
    "    mediumDataset[key].append(round(mean30, 5))\n",
    "mediumDataset"
   ]
  },
  {
   "cell_type": "code",
   "execution_count": null,
   "id": "788e771f",
   "metadata": {},
   "outputs": [],
   "source": []
  },
  {
   "cell_type": "markdown",
   "id": "674f3259",
   "metadata": {},
   "source": [
    "<h3>Collection with 750k documents</h3><br>"
   ]
  },
  {
   "cell_type": "markdown",
   "id": "0dbc1c38",
   "metadata": {},
   "source": [
    "<h4>Query 1</h4>"
   ]
  },
  {
   "cell_type": "code",
   "execution_count": 70,
   "id": "be8a3648",
   "metadata": {},
   "outputs": [
    {
     "name": "stdout",
     "output_type": "stream",
     "text": [
      "Cathrine Lie\n",
      "Karl Christensen\n",
      "Christl Henschel\n",
      "Vigilija Gaižauskas\n",
      "Custodia Hidalgo\n",
      "Nedas Naujokas\n",
      "Patrícia Leite\n",
      "Narciso Ferrán\n",
      "Sarah Lara\n",
      "Joris Kavaliauskas\n",
      "Miguel Real\n",
      "Arthur Laroche\n",
      "Yuvaan Dara\n",
      "Ledün Soylu\n",
      "Urvi Dani\n",
      "Özkutlu Gül\n",
      "Dorita Abella\n",
      "Liliana Flaiano\n",
      "Ana Narušis\n",
      "Émile Nicolas\n",
      "Ingeborg Amundsen\n",
      "Collin Heerkens\n",
      "Casandra Arenas\n",
      "Brian Thompson\n",
      "Nath Nicolas\n",
      "Débora Vaz\n"
     ]
    }
   ],
   "source": [
    "# step 1\n",
    "large_mongo1 = [{'$match' : {'courseID' : 192}}, {'$group' : {'_id' : {'name' : '$firstName', 'surname' : '$lastName'}}}, {'$project' : {'firstName' : 1, 'lastName' : 1}}]\n",
    "\n",
    "before = time.time()\n",
    "large_query1 = largeColl.aggregate(large_mongo1)\n",
    "after = time.time()\n",
    "\n",
    "for result in large_query1:\n",
    "    print(result['_id']['name'], result['_id']['surname'])"
   ]
  },
  {
   "cell_type": "code",
   "execution_count": 71,
   "id": "c631b1f9",
   "metadata": {},
   "outputs": [],
   "source": [
    "# step 2\n",
    "msec_duration = (after - before) * 1000\n",
    "largeDict['query1'].append(round(msec_duration, 5))"
   ]
  },
  {
   "cell_type": "code",
   "execution_count": 72,
   "id": "9b17735f",
   "metadata": {},
   "outputs": [],
   "source": [
    "# step 3\n",
    "for i in range(0, 30):\n",
    "    before = time.time()\n",
    "    largeColl.aggregate(large_mongo1)\n",
    "    after = time.time()\n",
    "    msec_duration = (after - before) * 1000\n",
    "    largeDict['query1'].append(round(msec_duration, 5))"
   ]
  },
  {
   "cell_type": "code",
   "execution_count": 73,
   "id": "3f8ecdbf",
   "metadata": {},
   "outputs": [
    {
     "data": {
      "text/plain": [
       "[9782.52077,\n",
       " 552.92368,\n",
       " 607.67078,\n",
       " 502.83074,\n",
       " 430.40109,\n",
       " 515.11002,\n",
       " 431.52523,\n",
       " 555.60708,\n",
       " 436.72991,\n",
       " 511.12294,\n",
       " 677.073,\n",
       " 519.36412,\n",
       " 417.85812,\n",
       " 490.18788,\n",
       " 1200.42419,\n",
       " 766.65282,\n",
       " 860.10695,\n",
       " 729.66123,\n",
       " 560.61482,\n",
       " 671.49711,\n",
       " 801.42093,\n",
       " 497.12777,\n",
       " 540.12275,\n",
       " 690.98496,\n",
       " 680.54008,\n",
       " 494.46511,\n",
       " 808.8131,\n",
       " 1833.60386,\n",
       " 401.44205,\n",
       " 404.32715,\n",
       " 421.78988]"
      ]
     },
     "execution_count": 73,
     "metadata": {},
     "output_type": "execute_result"
    }
   ],
   "source": [
    "largeDict['query1']"
   ]
  },
  {
   "cell_type": "markdown",
   "id": "1659cfd4",
   "metadata": {},
   "source": [
    "<h4>Query 2</h4>"
   ]
  },
  {
   "cell_type": "code",
   "execution_count": 74,
   "id": "58ae1587",
   "metadata": {},
   "outputs": [
    {
     "name": "stdout",
     "output_type": "stream",
     "text": [
      "Bayesian Statistics: From Concept to Data Analysis\n",
      "Understanding Clinical Research: Behind the Statistics\n",
      "Python and Statistics for Financial Analysis\n",
      "Exploratory Data Analysis\n",
      "Introduction to Statistics\n",
      "Foundations: Data, Data, Everywhere\n",
      "Introduction to Probability and Data with R\n",
      "Basic Statistics\n",
      "Econometrics: Methods and Applications\n"
     ]
    }
   ],
   "source": [
    "# step 1\n",
    "large_mongo2 = [{'$match' : {'discipline' : 'statistics', 'courseYear' : 2022}}, {'$group' : {'_id' : {'ID' : '$courseID', 'course' : '$courseName'}}}, {'$project' : {'_id.course' : 1}}]\n",
    "\n",
    "before = time.time()\n",
    "large_query2 = largeColl.aggregate(large_mongo2)\n",
    "after = time.time()\n",
    "\n",
    "for result in large_query2:\n",
    "    print(result['_id']['course'])"
   ]
  },
  {
   "cell_type": "code",
   "execution_count": 75,
   "id": "ff8955bb",
   "metadata": {},
   "outputs": [],
   "source": [
    "# step 2\n",
    "msec_duration = (after - before) * 1000\n",
    "largeDict['query2'].append(round(msec_duration, 5))"
   ]
  },
  {
   "cell_type": "code",
   "execution_count": 76,
   "id": "39d009dc",
   "metadata": {},
   "outputs": [],
   "source": [
    "# step 3\n",
    "for i in range(0, 30):\n",
    "    before = time.time()\n",
    "    largeColl.aggregate(large_mongo2)\n",
    "    after = time.time()\n",
    "    msec_duration = (after - before) * 1000\n",
    "    largeDict['query2'].append(round(msec_duration, 5))"
   ]
  },
  {
   "cell_type": "code",
   "execution_count": 77,
   "id": "ae332a4f",
   "metadata": {},
   "outputs": [
    {
     "data": {
      "text/plain": [
       "[653.68295,\n",
       " 540.80081,\n",
       " 543.18285,\n",
       " 520.49708,\n",
       " 487.05792,\n",
       " 482.934,\n",
       " 580.15013,\n",
       " 678.64799,\n",
       " 769.09804,\n",
       " 569.22436,\n",
       " 509.42898,\n",
       " 542.93203,\n",
       " 601.17292,\n",
       " 520.75005,\n",
       " 573.60697,\n",
       " 861.65309,\n",
       " 1233.75106,\n",
       " 1366.45699,\n",
       " 702.04496,\n",
       " 609.74193,\n",
       " 603.52421,\n",
       " 577.05188,\n",
       " 551.55492,\n",
       " 870.78691,\n",
       " 947.44325,\n",
       " 772.16005,\n",
       " 527.21477,\n",
       " 509.70602,\n",
       " 839.42294,\n",
       " 716.65621,\n",
       " 570.70589]"
      ]
     },
     "execution_count": 77,
     "metadata": {},
     "output_type": "execute_result"
    }
   ],
   "source": [
    "largeDict['query2']"
   ]
  },
  {
   "cell_type": "markdown",
   "id": "280c1e66",
   "metadata": {},
   "source": [
    "<h4>Query 3</h4>"
   ]
  },
  {
   "cell_type": "code",
   "execution_count": 78,
   "id": "c2bd1b43",
   "metadata": {},
   "outputs": [
    {
     "name": "stdout",
     "output_type": "stream",
     "text": [
      "2628\n"
     ]
    }
   ],
   "source": [
    "# step 1\n",
    "large_mongo3 = [{'$match' : {'discipline': 'maths', 'materialType' : 'lecture slides', 'email': {'$regex': '@gmail.com'}}}, {'$group' : {'_id': '_id', 'IDcount' : {'$count': {}}}}]\n",
    "\n",
    "before = time.time()\n",
    "large_query3 = largeColl.aggregate(large_mongo3)\n",
    "after = time.time()\n",
    "\n",
    "for result in large_query3:\n",
    "    print(result['IDcount'])"
   ]
  },
  {
   "cell_type": "code",
   "execution_count": 79,
   "id": "bca4a4a1",
   "metadata": {},
   "outputs": [],
   "source": [
    "# step 2\n",
    "msec_duration = (after - before) * 1000\n",
    "largeDict['query3'].append(round(msec_duration, 5))"
   ]
  },
  {
   "cell_type": "code",
   "execution_count": 80,
   "id": "eeae92ef",
   "metadata": {},
   "outputs": [],
   "source": [
    "# step 3\n",
    "for i in range(0, 30):\n",
    "    before = time.time()\n",
    "    largeColl.aggregate(large_mongo3)\n",
    "    after = time.time()\n",
    "    msec_duration = (after - before) * 1000\n",
    "    largeDict['query3'].append(round(msec_duration, 5))"
   ]
  },
  {
   "cell_type": "code",
   "execution_count": 81,
   "id": "c5a9e8ed",
   "metadata": {},
   "outputs": [
    {
     "data": {
      "text/plain": [
       "[514.96506,\n",
       " 455.28412,\n",
       " 434.80396,\n",
       " 513.2432,\n",
       " 513.92293,\n",
       " 493.21294,\n",
       " 463.3081,\n",
       " 511.21688,\n",
       " 559.30424,\n",
       " 463.18507,\n",
       " 468.4422,\n",
       " 822.80087,\n",
       " 471.12799,\n",
       " 518.98599,\n",
       " 653.10407,\n",
       " 552.97112,\n",
       " 497.51973,\n",
       " 471.8101,\n",
       " 447.64519,\n",
       " 449.89491,\n",
       " 466.4588,\n",
       " 478.77407,\n",
       " 1137.46595,\n",
       " 680.88794,\n",
       " 1094.38992,\n",
       " 773.05913,\n",
       " 872.89381,\n",
       " 648.58174,\n",
       " 538.34081,\n",
       " 464.5412,\n",
       " 871.85216]"
      ]
     },
     "execution_count": 81,
     "metadata": {},
     "output_type": "execute_result"
    }
   ],
   "source": [
    "largeDict['query3']"
   ]
  },
  {
   "cell_type": "markdown",
   "id": "6bb4dc2d",
   "metadata": {},
   "source": [
    "<h4>Query 4</h4>"
   ]
  },
  {
   "cell_type": "code",
   "execution_count": 82,
   "id": "8e289684",
   "metadata": {},
   "outputs": [
    {
     "name": "stdout",
     "output_type": "stream",
     "text": [
      "Cathrine Lie from South Korea\n",
      "Ninthe Horrocks from Noord-Korea\n",
      "Miguel Real from República de Corea\n",
      "Lynda Reynolds from Korea\n",
      "Tere Castells from República Popular Democrática de Corea\n",
      "Raghav Sura from North Korea\n"
     ]
    }
   ],
   "source": [
    "# step 1\n",
    "large_mongo4 = [{'$match' : {'discipline': 'psychology', 'country' : {'$regex': 'orea'}, 'dateOfBirth': {'$regex': '^1'}}}, {'$project' : {'_id': 0, 'firstName': 1, 'lastName': 1, 'country': 1}}, {'$group' : {'_id': {'name': '$firstName', 'surname': '$lastName', 'country': '$country'}}}, {'$sort' : {'lastName' : 1}}]\n",
    "\n",
    "before = time.time()\n",
    "large_query4 = largeColl.aggregate(large_mongo4)\n",
    "after = time.time()\n",
    "\n",
    "for result in large_query4:\n",
    "    print(result['_id']['name'], result['_id']['surname'], 'from', result['_id']['country'])"
   ]
  },
  {
   "cell_type": "code",
   "execution_count": 83,
   "id": "cdd8776c",
   "metadata": {},
   "outputs": [],
   "source": [
    "# step 2\n",
    "msec_duration = (after - before) * 1000\n",
    "largeDict['query4'].append(round(msec_duration, 5))"
   ]
  },
  {
   "cell_type": "code",
   "execution_count": 84,
   "id": "25ed9464",
   "metadata": {},
   "outputs": [],
   "source": [
    "# step 3\n",
    "for i in range(0, 30):\n",
    "    before = time.time()\n",
    "    largeColl.aggregate(large_mongo4)\n",
    "    after = time.time()\n",
    "    msec_duration = (after - before) * 1000\n",
    "    largeDict['query4'].append(round(msec_duration, 5))"
   ]
  },
  {
   "cell_type": "code",
   "execution_count": 85,
   "id": "c1b38ab8",
   "metadata": {},
   "outputs": [
    {
     "data": {
      "text/plain": [
       "[502.33507,\n",
       " 500.86713,\n",
       " 468.85824,\n",
       " 497.12586,\n",
       " 458.06694,\n",
       " 478.90592,\n",
       " 495.76187,\n",
       " 486.49025,\n",
       " 838.50908,\n",
       " 563.83181,\n",
       " 518.32008,\n",
       " 638.29684,\n",
       " 728.46889,\n",
       " 752.55203,\n",
       " 483.75583,\n",
       " 590.11388,\n",
       " 494.96889,\n",
       " 455.81007,\n",
       " 697.43729,\n",
       " 658.54907,\n",
       " 799.87884,\n",
       " 512.34794,\n",
       " 1127.29311,\n",
       " 561.58686,\n",
       " 581.60114,\n",
       " 504.50587,\n",
       " 490.91005,\n",
       " 487.00476,\n",
       " 842.80491,\n",
       " 1154.19316,\n",
       " 632.16805]"
      ]
     },
     "execution_count": 85,
     "metadata": {},
     "output_type": "execute_result"
    }
   ],
   "source": [
    "largeDict['query4']"
   ]
  },
  {
   "cell_type": "code",
   "execution_count": 103,
   "id": "b323ce08",
   "metadata": {},
   "outputs": [
    {
     "data": {
      "text/plain": [
       "{'query1': [9782.52077, 633.73331],\n",
       " 'query2': [653.68295, 672.64531],\n",
       " 'query3': [514.96506, 592.96764],\n",
       " 'query4': [502.33507, 616.69949]}"
      ]
     },
     "execution_count": 103,
     "metadata": {},
     "output_type": "execute_result"
    }
   ],
   "source": [
    "largeDataset = {'query1' : list(), 'query2' : list(), 'query3' : list(), 'query4' : list()}\n",
    "for key in largeDict:\n",
    "    largeDataset[key].append(largeDict[key][0])\n",
    "    mean30 = mean(largeDict[key][1 : 31])\n",
    "    largeDataset[key].append(round(mean30, 5))\n",
    "largeDataset"
   ]
  },
  {
   "cell_type": "code",
   "execution_count": null,
   "id": "dabf6650",
   "metadata": {},
   "outputs": [],
   "source": []
  },
  {
   "cell_type": "markdown",
   "id": "034a0173",
   "metadata": {},
   "source": [
    "<h3>Collection with 1m documents</h3><br>"
   ]
  },
  {
   "cell_type": "markdown",
   "id": "a539f33a",
   "metadata": {},
   "source": [
    "<h4>Query 1</h4>"
   ]
  },
  {
   "cell_type": "code",
   "execution_count": 87,
   "id": "427e67d4",
   "metadata": {},
   "outputs": [
    {
     "name": "stdout",
     "output_type": "stream",
     "text": [
      "Kristen Webb\n",
      "Arthur Laroche\n",
      "Eduardo Rezende\n",
      "David Miranda\n",
      "Custodia Hidalgo\n",
      "Nedas Naujokas\n",
      "Sarah Lara\n",
      "Narciso Ferrán\n",
      "Patrícia Leite\n",
      "Vigilija Gaižauskas\n",
      "Cathrine Lie\n",
      "Yuvaan Dara\n",
      "Melania Savorgnan\n",
      "Brian Thompson\n",
      "Collin Heerkens\n",
      "Mamen Teruel\n",
      "Ana Narušis\n",
      "Shaan Raju\n",
      "Ledün Soylu\n",
      "Urvi Dani\n",
      "Giuseppina Scarfoglio\n",
      "Miguel Real\n",
      "Finn Karlsen\n",
      "Torsten Schulz\n",
      "Özkutlu Gül\n",
      "Dorita Abella\n",
      "Christl Henschel\n",
      "Joris Kavaliauskas\n",
      "Nath Nicolas\n",
      "Karl Christensen\n",
      "Débora Vaz\n",
      "Ingeborg Amundsen\n",
      "Casandra Arenas\n",
      "Liliana Flaiano\n",
      "Émile Nicolas\n"
     ]
    }
   ],
   "source": [
    "# step 1\n",
    "humongous_mongo1 = [{'$match' : {'courseID' : 192}}, {'$group' : {'_id' : {'name' : '$firstName', 'surname' : '$lastName'}}}, {'$project' : {'firstName' : 1, 'lastName' : 1}}]\n",
    "\n",
    "before = time.time()\n",
    "humongous_query1 = humongousColl.aggregate(humongous_mongo1)\n",
    "after = time.time()\n",
    "\n",
    "for result in humongous_query1:\n",
    "    print(result['_id']['name'], result['_id']['surname'])"
   ]
  },
  {
   "cell_type": "code",
   "execution_count": 88,
   "id": "c7f1f560",
   "metadata": {},
   "outputs": [],
   "source": [
    "# step 2\n",
    "msec_duration = (after - before) * 1000\n",
    "humongousDict['query1'].append(round(msec_duration, 5))"
   ]
  },
  {
   "cell_type": "code",
   "execution_count": 89,
   "id": "297bccf9",
   "metadata": {},
   "outputs": [],
   "source": [
    "# step 3\n",
    "for i in range(0, 30):\n",
    "    before = time.time()\n",
    "    humongousColl.aggregate(humongous_mongo1)\n",
    "    after = time.time()\n",
    "    msec_duration = (after - before) * 1000\n",
    "    humongousDict['query1'].append(round(msec_duration, 5))"
   ]
  },
  {
   "cell_type": "code",
   "execution_count": 90,
   "id": "f45ea98c",
   "metadata": {},
   "outputs": [
    {
     "data": {
      "text/plain": [
       "[5834.81503,\n",
       " 832.49187,\n",
       " 1290.58981,\n",
       " 671.86213,\n",
       " 669.47007,\n",
       " 576.32494,\n",
       " 1523.43106,\n",
       " 1050.98271,\n",
       " 851.20416,\n",
       " 558.98714,\n",
       " 540.64989,\n",
       " 544.18421,\n",
       " 526.27993,\n",
       " 534.65605,\n",
       " 524.49012,\n",
       " 548.47217,\n",
       " 517.32683,\n",
       " 666.24522,\n",
       " 653.86796,\n",
       " 534.01804,\n",
       " 618.32309,\n",
       " 574.23377,\n",
       " 962.80599,\n",
       " 755.01704,\n",
       " 776.46089,\n",
       " 828.9721,\n",
       " 651.44086,\n",
       " 712.49723,\n",
       " 919.90924,\n",
       " 1001.40595,\n",
       " 515.172]"
      ]
     },
     "execution_count": 90,
     "metadata": {},
     "output_type": "execute_result"
    }
   ],
   "source": [
    "humongousDict['query1']"
   ]
  },
  {
   "cell_type": "markdown",
   "id": "f9eeada8",
   "metadata": {},
   "source": [
    "<h4>Query 2</h4>"
   ]
  },
  {
   "cell_type": "code",
   "execution_count": 91,
   "id": "a32cb22d",
   "metadata": {},
   "outputs": [
    {
     "name": "stdout",
     "output_type": "stream",
     "text": [
      "Bayesian Statistics: From Concept to Data Analysis\n",
      "Understanding Clinical Research: Behind the Statistics\n",
      "Python and Statistics for Financial Analysis\n",
      "Exploratory Data Analysis\n",
      "Introduction to Statistics\n",
      "Foundations: Data, Data, Everywhere\n",
      "Introduction to Probability and Data with R\n",
      "Basic Statistics\n",
      "Econometrics: Methods and Applications\n"
     ]
    }
   ],
   "source": [
    "# step 1\n",
    "humongous_mongo2 = [{'$match' : {'discipline' : 'statistics', 'courseYear' : 2022}}, {'$group' : {'_id' : {'ID' : '$courseID', 'course' : '$courseName'}}}, {'$project' : {'_id.course' : 1}}]\n",
    "\n",
    "before = time.time()\n",
    "humongous_query2 = humongousColl.aggregate(humongous_mongo2)\n",
    "after = time.time()\n",
    "\n",
    "for result in humongous_query2:\n",
    "    print(result['_id']['course'])"
   ]
  },
  {
   "cell_type": "code",
   "execution_count": 92,
   "id": "3339d82b",
   "metadata": {},
   "outputs": [],
   "source": [
    "# step 2\n",
    "msec_duration = (after - before) * 1000\n",
    "humongousDict['query2'].append(round(msec_duration, 5))"
   ]
  },
  {
   "cell_type": "code",
   "execution_count": 93,
   "id": "e51b336c",
   "metadata": {},
   "outputs": [],
   "source": [
    "# step 3\n",
    "for i in range(0, 30):\n",
    "    before = time.time()\n",
    "    humongousColl.aggregate(humongous_mongo2)\n",
    "    after = time.time()\n",
    "    msec_duration = (after - before) * 1000\n",
    "    humongousDict['query2'].append(round(msec_duration, 5))"
   ]
  },
  {
   "cell_type": "code",
   "execution_count": 94,
   "id": "26cfc43a",
   "metadata": {},
   "outputs": [
    {
     "data": {
      "text/plain": [
       "[747.70832,\n",
       " 730.35312,\n",
       " 783.49686,\n",
       " 782.30906,\n",
       " 808.21609,\n",
       " 667.05799,\n",
       " 736.866,\n",
       " 695.90092,\n",
       " 929.22592,\n",
       " 1138.3009,\n",
       " 1308.84886,\n",
       " 1411.04293,\n",
       " 1394.315,\n",
       " 1130.91207,\n",
       " 1033.72502,\n",
       " 777.04096,\n",
       " 798.99406,\n",
       " 753.29089,\n",
       " 705.51419,\n",
       " 781.56304,\n",
       " 743.41512,\n",
       " 1844.29479,\n",
       " 1168.26105,\n",
       " 1698.89593,\n",
       " 781.16012,\n",
       " 738.36088,\n",
       " 1406.00181,\n",
       " 1383.83484,\n",
       " 746.26279,\n",
       " 795.04371,\n",
       " 776.18217]"
      ]
     },
     "execution_count": 94,
     "metadata": {},
     "output_type": "execute_result"
    }
   ],
   "source": [
    "humongousDict['query2']"
   ]
  },
  {
   "cell_type": "markdown",
   "id": "70204cf1",
   "metadata": {},
   "source": [
    "<h4>Query 3</h4>"
   ]
  },
  {
   "cell_type": "code",
   "execution_count": 95,
   "id": "f36e9d6f",
   "metadata": {},
   "outputs": [
    {
     "name": "stdout",
     "output_type": "stream",
     "text": [
      "3498\n"
     ]
    }
   ],
   "source": [
    "# step 1\n",
    "humongous_mongo3 = [{'$match' : {'discipline': 'maths', 'materialType' : 'lecture slides', 'email': {'$regex': '@gmail.com'}}}, {'$group' : {'_id': '_id', 'IDcount' : {'$count': {}}}}]\n",
    "\n",
    "before = time.time()\n",
    "humongous_query3 = humongousColl.aggregate(humongous_mongo3)\n",
    "after = time.time()\n",
    "\n",
    "for result in humongous_query3:\n",
    "    print(result['IDcount'])"
   ]
  },
  {
   "cell_type": "code",
   "execution_count": 96,
   "id": "e393d19b",
   "metadata": {},
   "outputs": [],
   "source": [
    "# step 2\n",
    "msec_duration = (after - before) * 1000\n",
    "humongousDict['query3'].append(round(msec_duration, 5))"
   ]
  },
  {
   "cell_type": "code",
   "execution_count": 97,
   "id": "8838e448",
   "metadata": {},
   "outputs": [],
   "source": [
    "# step 3\n",
    "for i in range(0, 30):\n",
    "    before = time.time()\n",
    "    humongousColl.aggregate(humongous_mongo3)\n",
    "    after = time.time()\n",
    "    msec_duration = (after - before) * 1000\n",
    "    humongousDict['query3'].append(round(msec_duration, 5))"
   ]
  },
  {
   "cell_type": "code",
   "execution_count": 98,
   "id": "ebe9f9d0",
   "metadata": {},
   "outputs": [
    {
     "data": {
      "text/plain": [
       "[826.83492,\n",
       " 829.48995,\n",
       " 601.92585,\n",
       " 894.26589,\n",
       " 840.446,\n",
       " 1057.68299,\n",
       " 1011.10816,\n",
       " 1086.95388,\n",
       " 833.745,\n",
       " 1551.10598,\n",
       " 1147.73202,\n",
       " 571.22707,\n",
       " 949.24808,\n",
       " 668.14017,\n",
       " 743.96801,\n",
       " 710.4938,\n",
       " 576.84898,\n",
       " 1185.98175,\n",
       " 726.10712,\n",
       " 662.17923,\n",
       " 678.99013,\n",
       " 687.87193,\n",
       " 692.00325,\n",
       " 626.09506,\n",
       " 769.62399,\n",
       " 880.98979,\n",
       " 698.39001,\n",
       " 622.45822,\n",
       " 656.358,\n",
       " 610.86297,\n",
       " 618.258]"
      ]
     },
     "execution_count": 98,
     "metadata": {},
     "output_type": "execute_result"
    }
   ],
   "source": [
    "humongousDict['query3']"
   ]
  },
  {
   "cell_type": "markdown",
   "id": "ac2103fa",
   "metadata": {},
   "source": [
    "<h4>Query 4</h4>"
   ]
  },
  {
   "cell_type": "code",
   "execution_count": 99,
   "id": "ce9b9b72",
   "metadata": {},
   "outputs": [
    {
     "name": "stdout",
     "output_type": "stream",
     "text": [
      "Raghav Sura from North Korea\n",
      "Tere Castells from República Popular Democrática de Corea\n",
      "Cathrine Lie from South Korea\n",
      "Leila Gailys from Korea\n",
      "Miguel Real from República de Corea\n",
      "Ninthe Horrocks from Noord-Korea\n",
      "Debra Shaw from Korea\n",
      "Lynda Reynolds from Korea\n"
     ]
    }
   ],
   "source": [
    "# step 1\n",
    "humongous_mongo4 = [{'$match' : {'discipline': 'psychology', 'country' : {'$regex': 'orea'}, 'dateOfBirth': {'$regex': '^1'}}}, {'$project' : {'_id': 0, 'firstName': 1, 'lastName': 1, 'country': 1}}, {'$group' : {'_id': {'name': '$firstName', 'surname': '$lastName', 'country': '$country'}}}, {'$sort' : {'lastName' : 1}}]\n",
    "\n",
    "before = time.time()\n",
    "humongous_query4 = humongousColl.aggregate(humongous_mongo4)\n",
    "after = time.time()\n",
    "\n",
    "for result in humongous_query4:\n",
    "    print(result['_id']['name'], result['_id']['surname'], 'from', result['_id']['country'])"
   ]
  },
  {
   "cell_type": "code",
   "execution_count": 100,
   "id": "5668d73d",
   "metadata": {},
   "outputs": [],
   "source": [
    "# step 2\n",
    "msec_duration = (after - before) * 1000\n",
    "humongousDict['query4'].append(round(msec_duration, 5))"
   ]
  },
  {
   "cell_type": "code",
   "execution_count": 101,
   "id": "16e3304d",
   "metadata": {},
   "outputs": [],
   "source": [
    "# step 3\n",
    "for i in range(0, 30):\n",
    "    before = time.time()\n",
    "    humongousColl.aggregate(humongous_mongo4)\n",
    "    after = time.time()\n",
    "    msec_duration = (after - before) * 1000\n",
    "    humongousDict['query4'].append(round(msec_duration, 5))"
   ]
  },
  {
   "cell_type": "code",
   "execution_count": 102,
   "id": "4dbd086b",
   "metadata": {},
   "outputs": [
    {
     "data": {
      "text/plain": [
       "[737.1347,\n",
       " 670.23516,\n",
       " 629.88281,\n",
       " 886.08575,\n",
       " 711.47394,\n",
       " 661.36432,\n",
       " 637.15196,\n",
       " 814.68081,\n",
       " 1278.615,\n",
       " 1231.72092,\n",
       " 1123.15321,\n",
       " 1182.34205,\n",
       " 827.6279,\n",
       " 587.60381,\n",
       " 1179.26812,\n",
       " 853.82009,\n",
       " 1024.99199,\n",
       " 723.50693,\n",
       " 624.17412,\n",
       " 651.72505,\n",
       " 1130.81121,\n",
       " 791.07404,\n",
       " 755.97191,\n",
       " 741.24217,\n",
       " 722.92495,\n",
       " 658.13208,\n",
       " 750.82302,\n",
       " 857.6591,\n",
       " 702.60668,\n",
       " 721.60196,\n",
       " 771.14892]"
      ]
     },
     "execution_count": 102,
     "metadata": {},
     "output_type": "execute_result"
    }
   ],
   "source": [
    "humongousDict['query4']"
   ]
  },
  {
   "cell_type": "code",
   "execution_count": 106,
   "id": "6ad21801",
   "metadata": {},
   "outputs": [
    {
     "data": {
      "text/plain": [
       "{'query1': [5834.81503, 731.05908],\n",
       " 'query2': [747.70832, 981.6229],\n",
       " 'query3': [826.83492, 806.35171],\n",
       " 'query4': [737.1347, 830.114]}"
      ]
     },
     "execution_count": 106,
     "metadata": {},
     "output_type": "execute_result"
    }
   ],
   "source": [
    "humongousDataset = {'query1' : list(), 'query2' : list(), 'query3' : list(), 'query4' : list()}\n",
    "for key in humongousDict:\n",
    "    humongousDataset[key].append(humongousDict[key][0])\n",
    "    mean30 = mean(humongousDict[key][1 : 31])\n",
    "    humongousDataset[key].append(round(mean30, 5))\n",
    "humongousDataset"
   ]
  },
  {
   "cell_type": "code",
   "execution_count": 107,
   "id": "8b7869c7",
   "metadata": {},
   "outputs": [],
   "source": [
    "with open('mongo_tests.csv', 'w', newline = '') as mongo_tests:\n",
    "    writer = csv.writer(mongo_tests, delimiter = ',')\n",
    "    keys = smallDataset.keys()\n",
    "    limit = len(smallDataset['query1'])\n",
    "    \n",
    "    writer.writerow(keys)\n",
    "    writer.writerow('s') # s stands for small dataset\n",
    "    for i in range(0, limit):\n",
    "        writer.writerow(smallDataset[k][i] for k in keys)\n",
    "    writer.writerow('m')  # m stands for medium dataset\n",
    "    for i in range(0, limit):\n",
    "        writer.writerow(mediumDataset[k][i] for k in keys)\n",
    "    writer.writerow('l') # l stands for large dataset\n",
    "    for i in range(0, limit):\n",
    "        writer.writerow(largeDataset[k][i] for k in keys)\n",
    "    writer.writerow('h') # h stands for humongous dataset\n",
    "    for i in range(0, limit):\n",
    "        writer.writerow(humongousDataset[k][i] for k in keys)"
   ]
  },
  {
   "cell_type": "code",
   "execution_count": null,
   "id": "3d377f9d",
   "metadata": {},
   "outputs": [],
   "source": []
  }
 ],
 "metadata": {
  "kernelspec": {
   "display_name": "Python 3 (ipykernel)",
   "language": "python",
   "name": "python3"
  },
  "language_info": {
   "codemirror_mode": {
    "name": "ipython",
    "version": 3
   },
   "file_extension": ".py",
   "mimetype": "text/x-python",
   "name": "python",
   "nbconvert_exporter": "python",
   "pygments_lexer": "ipython3",
   "version": "3.10.8"
  }
 },
 "nbformat": 4,
 "nbformat_minor": 5
}

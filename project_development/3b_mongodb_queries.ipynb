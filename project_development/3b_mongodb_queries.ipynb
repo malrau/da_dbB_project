{
 "cells": [
  {
   "cell_type": "markdown",
   "id": "28139080",
   "metadata": {},
   "source": [
    "<center>\n",
    "    <h2>Online learning platform database - MongoDB</h2>\n",
    "    <h3>Performing the queries and storing the queries execution time</h3>\n",
    "</center>"
   ]
  },
  {
   "cell_type": "markdown",
   "id": "a3ecb38b",
   "metadata": {},
   "source": [
    "<h3>Python - MongoDB interaction</h3>"
   ]
  },
  {
   "cell_type": "markdown",
   "id": "4569224e",
   "metadata": {},
   "source": [
    "Prior to performing the queries, we import the required modules (the <i>PyMongo</i> driver and the <i>time</i> and <i>csv</i> modules) and establish a connection to the MongoDB instance running in Docker. It is also convenient to store the database and the collections of interest into Python variables."
   ]
  },
  {
   "cell_type": "code",
   "execution_count": 1,
   "id": "e41487af",
   "metadata": {},
   "outputs": [],
   "source": [
    "# import modules\n",
    "import pymongo            # MongoDB driver\n",
    "import time               # time-related functions to register query execution times\n",
    "import csv                # read and write csv files\n",
    "\n",
    "# create client object\n",
    "client = pymongo.MongoClient(host = 'localhost', port = 27017, username = 'root', password = 'root')\n",
    "\n",
    "# assign database to Python variable (db)\n",
    "db = client.get_database('dbB_MONGODB_test')\n",
    "\n",
    "# assign collections to Python variables\n",
    "smallColl = db.smallDB\n",
    "mediumColl = db.mediumDB\n",
    "largeColl = db.largeDB\n",
    "humongousColl = db.humongousDB"
   ]
  },
  {
   "cell_type": "code",
   "execution_count": null,
   "id": "82990da8",
   "metadata": {},
   "outputs": [],
   "source": []
  },
  {
   "cell_type": "markdown",
   "id": "c62efba6",
   "metadata": {},
   "source": [
    "<h4>\n",
    "Measuring and displaying the query execution time\n",
    "</h4><br>\n",
    "To display the query execution time we can use the Python <a href = 'https://docs.python.org/3/library/time.html'><i>time</i></a> module and its <code>time</code> function. The function returns the system time at a floating point precision, so the query execution time can be measured as a large number of fractions of a second. It is sufficient to assign the time before the query execution to a variable and the time after the query execution to another variable. The difference between the two variables will measure the query execution. Obviously, the time for the Python API to connect to the MongoDB server and the time to return to the Python API after the query execution will be summed up to the query execution time at the DBMS level."
   ]
  },
  {
   "cell_type": "code",
   "execution_count": 2,
   "id": "15c0b8f3",
   "metadata": {},
   "outputs": [
    {
     "name": "stdout",
     "output_type": "stream",
     "text": [
      "0.17881393432617188\n"
     ]
    }
   ],
   "source": [
    "import time\n",
    "start = time.time()\n",
    "cursor1 = smallColl.find({'courseID' : 192}, {'_id' : 0, 'studentID' : 1, 'firstName' : 1, 'lastName' : 1})\n",
    "end = time.time()\n",
    "print((end - start) * 1000)"
   ]
  },
  {
   "cell_type": "markdown",
   "id": "4a9e1f8f",
   "metadata": {},
   "source": [
    "<h3>Query the collections</h3>"
   ]
  },
  {
   "cell_type": "markdown",
   "id": "283885ee",
   "metadata": {},
   "source": [
    "I create a dictionary of lists for each of the four collections. In these dictionaries the keys are the query names and the values are the 31 query execution times: in fact I attach the value of the query execution time of the most recent query to the list. Since query execution times are required in milliseconds, prior to attaching them, I multiply them by 1000 and round them to the fifth decimal precision.\n",
    "The above summarized actions (for each of the four queries on each of the four collections) are performed by following a standard succession of steps. Each step is encapsulated within a notebook cell (so each query is performed 31 times by using three notebook cells), as follows:\n",
    " - step 1: define the query, perform it for the first time, contextually create timestamps prior and after query execution, print query result;\n",
    " - step 2: compute execution time of the first query execution and store it within the corresponding dictionary list;\n",
    " - step 3: [thirty times] perform query execution while creating prior and following timestamps, compute execution time and store it within the corresponding dictionary list. With Mongo I don't need to reset the cursor to allow repeating the query.\n",
    "\n",
    "For each dataset, after having performed the four queries, I will finally compute the mean of the query executions from step 3. Together with the first query execution, this mean value will be stored into a new dictionary, specific to a dataset. Originally, I would use these four new dictionaries to save the query execution times into a csv file for constructing histograms. I later resolved to save all the 31 recorded query execution times and pass them all to Microsoft© Excel to process them."
   ]
  },
  {
   "cell_type": "code",
   "execution_count": 3,
   "id": "ee3db8b9",
   "metadata": {},
   "outputs": [],
   "source": [
    "smallDict = {'query1' : list(), 'query2' : list(), 'query3' : list(), 'query4' : list()}\n",
    "mediumDict = {'query1' : list(), 'query2' : list(), 'query3' : list(), 'query4' : list()}\n",
    "largeDict = {'query1' : list(), 'query2' : list(), 'query3' : list(), 'query4' : list()}\n",
    "humongousDict = {'query1' : list(), 'query2' : list(), 'query3' : list(), 'query4' : list()}"
   ]
  },
  {
   "cell_type": "code",
   "execution_count": 4,
   "id": "98537f33",
   "metadata": {},
   "outputs": [],
   "source": [
    "# mean function\n",
    "def mean(aList):\n",
    "    n = len(aList)\n",
    "    sum = 0\n",
    "    for value in aList:\n",
    "        sum += value\n",
    "    return sum / n"
   ]
  },
  {
   "cell_type": "markdown",
   "id": "e266d020",
   "metadata": {},
   "source": [
    "<h3>Collection with 250k documents</h3><br>\n",
    "I start with the smallest collection."
   ]
  },
  {
   "cell_type": "markdown",
   "id": "e2f7e738",
   "metadata": {},
   "source": [
    "<h4>Query 1</h4>"
   ]
  },
  {
   "cell_type": "code",
   "execution_count": 5,
   "id": "896d71e4",
   "metadata": {},
   "outputs": [
    {
     "name": "stdout",
     "output_type": "stream",
     "text": [
      "Arthur Laroche\n",
      "Émile Nicolas\n",
      "Patrícia Leite\n",
      "Vigilija Gaižauskas\n",
      "Ingeborg Amundsen\n",
      "Sarah Lara\n",
      "Casandra Arenas\n",
      "Narciso Ferrán\n",
      "Cathrine Lie\n",
      "Custodia Hidalgo\n",
      "Ana Narušis\n",
      "Nath Nicolas\n",
      "Ledün Soylu\n"
     ]
    }
   ],
   "source": [
    "# step 1\n",
    "small_mongo1 = [{'$match' : {'courseID' : 192}}, {'$group' : {'_id' : {'name' : '$firstName', 'surname' : '$lastName'}}}]\n",
    "\n",
    "before = time.time()\n",
    "small_query1 = smallColl.aggregate(small_mongo1)\n",
    "after = time.time()\n",
    "\n",
    "for result in small_query1:\n",
    "    print(result['_id']['name'], result['_id']['surname'])"
   ]
  },
  {
   "cell_type": "code",
   "execution_count": 6,
   "id": "52c7d8c3",
   "metadata": {},
   "outputs": [],
   "source": [
    "# step 2\n",
    "msec_duration = (after - before) * 1000\n",
    "smallDict['query1'].append(round(msec_duration, 5))"
   ]
  },
  {
   "cell_type": "code",
   "execution_count": 7,
   "id": "19e8f10b",
   "metadata": {},
   "outputs": [],
   "source": [
    "# step 3\n",
    "for i in range(0, 30):\n",
    "    before = time.time()\n",
    "    smallColl.aggregate(small_mongo1)\n",
    "    after = time.time()\n",
    "    msec_duration = (after - before) * 1000\n",
    "    smallDict['query1'].append(round(msec_duration, 5))"
   ]
  },
  {
   "cell_type": "markdown",
   "id": "a1692a5b",
   "metadata": {},
   "source": [
    "<h4>Query 2</h4>"
   ]
  },
  {
   "cell_type": "code",
   "execution_count": 8,
   "id": "425b554c",
   "metadata": {},
   "outputs": [
    {
     "name": "stdout",
     "output_type": "stream",
     "text": [
      "Econometrics: Methods and Applications\n",
      "Exploratory Data Analysis\n",
      "Introduction to Probability and Data with R\n",
      "Python and Statistics for Financial Analysis\n",
      "Basic Statistics\n",
      "Introduction to Statistics\n",
      "Foundations: Data, Data, Everywhere\n",
      "Understanding Clinical Research: Behind the Statistics\n",
      "Bayesian Statistics: From Concept to Data Analysis\n"
     ]
    }
   ],
   "source": [
    "# step 1\n",
    "small_mongo2 = [{'$match' : {'discipline' : 'statistics', 'courseYear' : 2022}}, {'$group' : {'_id' : {'ID' : '$courseID', 'course' : '$courseName'}}}, {'$project' : {'_id.course' : 1}}]\n",
    "\n",
    "before = time.time()\n",
    "small_query2 = smallColl.aggregate(small_mongo2)\n",
    "after = time.time()\n",
    "\n",
    "for result in small_query2:\n",
    "    print(result['_id']['course'])"
   ]
  },
  {
   "cell_type": "code",
   "execution_count": 9,
   "id": "c88a1cef",
   "metadata": {},
   "outputs": [],
   "source": [
    "# step 2\n",
    "msec_duration = (after - before) * 1000\n",
    "smallDict['query2'].append(round(msec_duration, 5))"
   ]
  },
  {
   "cell_type": "code",
   "execution_count": 10,
   "id": "9fb4a352",
   "metadata": {},
   "outputs": [],
   "source": [
    "# step 3\n",
    "for i in range(0, 30):\n",
    "    before = time.time()\n",
    "    smallColl.aggregate(small_mongo2)\n",
    "    after = time.time()\n",
    "    msec_duration = (after - before) * 1000\n",
    "    smallDict['query2'].append(round(msec_duration, 5))"
   ]
  },
  {
   "cell_type": "markdown",
   "id": "716a3dcb",
   "metadata": {},
   "source": [
    "<h4>Query 3</h4>"
   ]
  },
  {
   "cell_type": "code",
   "execution_count": 11,
   "id": "7fd2c6d5",
   "metadata": {},
   "outputs": [
    {
     "name": "stdout",
     "output_type": "stream",
     "text": [
      "838\n"
     ]
    }
   ],
   "source": [
    "# step 1\n",
    "small_mongo3 = [{'$match' : {'discipline': 'maths', 'materialType' : 'lecture slides', 'email': {'$regex': '@gmail.com'}}}, {'$group' : {'_id': '_id', 'IDcount' : {'$count': {}}}}]\n",
    "\n",
    "before = time.time()\n",
    "small_query3 = smallColl.aggregate(small_mongo3)\n",
    "after = time.time()\n",
    "\n",
    "for result in small_query3:\n",
    "    print(result['IDcount'])"
   ]
  },
  {
   "cell_type": "code",
   "execution_count": 12,
   "id": "6efcc631",
   "metadata": {},
   "outputs": [],
   "source": [
    "# step 2\n",
    "msec_duration = (after - before) * 1000\n",
    "smallDict['query3'].append(round(msec_duration, 5))"
   ]
  },
  {
   "cell_type": "code",
   "execution_count": 13,
   "id": "f47e2d0d",
   "metadata": {},
   "outputs": [],
   "source": [
    "# step 3\n",
    "for i in range(0, 30):\n",
    "    before = time.time()\n",
    "    smallColl.aggregate(small_mongo3)\n",
    "    after = time.time()\n",
    "    msec_duration = (after - before) * 1000\n",
    "    smallDict['query3'].append(round(msec_duration, 5))"
   ]
  },
  {
   "cell_type": "markdown",
   "id": "269a3d99",
   "metadata": {},
   "source": [
    "<h4>Query 4</h4>"
   ]
  },
  {
   "cell_type": "code",
   "execution_count": 14,
   "id": "34a18481",
   "metadata": {},
   "outputs": [
    {
     "name": "stdout",
     "output_type": "stream",
     "text": [
      "Raghav Sura from North Korea\n",
      "Lynda Reynolds from Korea\n",
      "Cathrine Lie from South Korea\n"
     ]
    }
   ],
   "source": [
    "# step 1\n",
    "small_mongo4 = [{'$match' : {'discipline': 'psychology', 'country' : {'$regex': 'orea'}, 'dateOfBirth': {'$regex': '^1'}}}, {'$project' : {'_id': 0, 'firstName': 1, 'lastName': 1, 'country': 1}}, {'$group' : {'_id': {'name': '$firstName', 'surname': '$lastName', 'country': '$country'}}}, {'$sort' : {'lastName' : 1}}]\n",
    "\n",
    "before = time.time()\n",
    "small_query4 = smallColl.aggregate(small_mongo4)\n",
    "after = time.time()\n",
    "\n",
    "for result in small_query4:\n",
    "    print(result['_id']['name'], result['_id']['surname'], 'from', result['_id']['country'])"
   ]
  },
  {
   "cell_type": "code",
   "execution_count": 15,
   "id": "019cf370",
   "metadata": {},
   "outputs": [],
   "source": [
    "# step 2\n",
    "msec_duration = (after - before) * 1000\n",
    "smallDict['query4'].append(round(msec_duration, 5))"
   ]
  },
  {
   "cell_type": "code",
   "execution_count": 16,
   "id": "edb12f81",
   "metadata": {},
   "outputs": [],
   "source": [
    "# step 3\n",
    "for i in range(0, 30):\n",
    "    before = time.time()\n",
    "    smallColl.aggregate(small_mongo4)\n",
    "    after = time.time()\n",
    "    msec_duration = (after - before) * 1000\n",
    "    smallDict['query4'].append(round(msec_duration, 5))"
   ]
  },
  {
   "cell_type": "code",
   "execution_count": 17,
   "id": "da05dd5d",
   "metadata": {},
   "outputs": [
    {
     "data": {
      "text/plain": [
       "{'query1': [1235.01515, 135.87454],\n",
       " 'query2': [192.60073, 169.13517],\n",
       " 'query3': [178.5481, 165.27492],\n",
       " 'query4': [172.63603, 157.43516]}"
      ]
     },
     "execution_count": 17,
     "metadata": {},
     "output_type": "execute_result"
    }
   ],
   "source": [
    "smallDataset = {'query1' : list(), 'query2' : list(), 'query3' : list(), 'query4' : list()}\n",
    "for key in smallDict:\n",
    "    smallDataset[key].append(smallDict[key][0])\n",
    "    mean30 = mean(smallDict[key][1 : 31])\n",
    "    smallDataset[key].append(round(mean30, 5))\n",
    "smallDataset"
   ]
  },
  {
   "cell_type": "code",
   "execution_count": null,
   "id": "55788018",
   "metadata": {},
   "outputs": [],
   "source": []
  },
  {
   "cell_type": "markdown",
   "id": "ab64bbea",
   "metadata": {},
   "source": [
    "<h3>Collection with 500k documents</h3><br>"
   ]
  },
  {
   "cell_type": "markdown",
   "id": "72020e72",
   "metadata": {},
   "source": [
    "<h4>Query 1</h4>"
   ]
  },
  {
   "cell_type": "code",
   "execution_count": 18,
   "id": "1af49844",
   "metadata": {},
   "outputs": [
    {
     "name": "stdout",
     "output_type": "stream",
     "text": [
      "Karl Christensen\n",
      "Christl Henschel\n",
      "Patrícia Leite\n",
      "Débora Vaz\n",
      "Yuvaan Dara\n",
      "Cathrine Lie\n",
      "Narciso Ferrán\n",
      "Ana Narušis\n",
      "Nath Nicolas\n",
      "Émile Nicolas\n",
      "Arthur Laroche\n",
      "Nedas Naujokas\n",
      "Vigilija Gaižauskas\n",
      "Ingeborg Amundsen\n",
      "Sarah Lara\n",
      "Joris Kavaliauskas\n",
      "Casandra Arenas\n",
      "Custodia Hidalgo\n",
      "Miguel Real\n",
      "Ledün Soylu\n"
     ]
    }
   ],
   "source": [
    "# step 1\n",
    "medium_mongo1 = [{'$match' : {'courseID' : 192}}, {'$group' : {'_id' : {'name' : '$firstName', 'surname' : '$lastName'}}}]\n",
    "\n",
    "before = time.time()\n",
    "medium_query1 = mediumColl.aggregate(medium_mongo1)\n",
    "after = time.time()\n",
    "\n",
    "for result in medium_query1:\n",
    "    print(result['_id']['name'], result['_id']['surname'])"
   ]
  },
  {
   "cell_type": "code",
   "execution_count": 19,
   "id": "a4038d44",
   "metadata": {},
   "outputs": [],
   "source": [
    "# step 2\n",
    "msec_duration = (after - before) * 1000\n",
    "mediumDict['query1'].append(round(msec_duration, 5))"
   ]
  },
  {
   "cell_type": "code",
   "execution_count": 20,
   "id": "51abe432",
   "metadata": {},
   "outputs": [],
   "source": [
    "# step 3\n",
    "for i in range(0, 30):\n",
    "    before = time.time()\n",
    "    mediumColl.aggregate(medium_mongo1)\n",
    "    after = time.time()\n",
    "    msec_duration = (after - before) * 1000\n",
    "    mediumDict['query1'].append(round(msec_duration, 5))"
   ]
  },
  {
   "cell_type": "markdown",
   "id": "6d9e0c1e",
   "metadata": {},
   "source": [
    "<h4>Query 2</h4>"
   ]
  },
  {
   "cell_type": "code",
   "execution_count": 21,
   "id": "bb5665cd",
   "metadata": {},
   "outputs": [
    {
     "name": "stdout",
     "output_type": "stream",
     "text": [
      "Basic Statistics\n",
      "Introduction to Statistics\n",
      "Foundations: Data, Data, Everywhere\n",
      "Understanding Clinical Research: Behind the Statistics\n",
      "Bayesian Statistics: From Concept to Data Analysis\n",
      "Econometrics: Methods and Applications\n",
      "Exploratory Data Analysis\n",
      "Introduction to Probability and Data with R\n",
      "Python and Statistics for Financial Analysis\n"
     ]
    }
   ],
   "source": [
    "# step 1\n",
    "medium_mongo2 = [{'$match' : {'discipline' : 'statistics', 'courseYear' : 2022}}, {'$group' : {'_id' : {'ID' : '$courseID', 'course' : '$courseName'}}}, {'$project' : {'_id.course' : 1}}]\n",
    "\n",
    "before = time.time()\n",
    "medium_query2 = mediumColl.aggregate(medium_mongo2)\n",
    "after = time.time()\n",
    "\n",
    "for result in medium_query2:\n",
    "    print(result['_id']['course'])"
   ]
  },
  {
   "cell_type": "code",
   "execution_count": 22,
   "id": "48a2d514",
   "metadata": {},
   "outputs": [],
   "source": [
    "# step 2\n",
    "msec_duration = (after - before) * 1000\n",
    "mediumDict['query2'].append(round(msec_duration, 5))"
   ]
  },
  {
   "cell_type": "code",
   "execution_count": 23,
   "id": "2bf3e26b",
   "metadata": {},
   "outputs": [],
   "source": [
    "# step 3\n",
    "for i in range(0, 30):\n",
    "    before = time.time()\n",
    "    mediumColl.aggregate(medium_mongo2)\n",
    "    after = time.time()\n",
    "    msec_duration = (after - before) * 1000\n",
    "    mediumDict['query2'].append(round(msec_duration, 5))"
   ]
  },
  {
   "cell_type": "markdown",
   "id": "507389da",
   "metadata": {},
   "source": [
    "<h4>Query 3</h4>"
   ]
  },
  {
   "cell_type": "code",
   "execution_count": 24,
   "id": "983244d3",
   "metadata": {},
   "outputs": [
    {
     "name": "stdout",
     "output_type": "stream",
     "text": [
      "1698\n"
     ]
    }
   ],
   "source": [
    "# step 1\n",
    "medium_mongo3 = [{'$match' : {'discipline': 'maths', 'materialType' : 'lecture slides', 'email': {'$regex': '@gmail.com'}}}, {'$group' : {'_id': '_id', 'IDcount' : {'$count': {}}}}]\n",
    "\n",
    "before = time.time()\n",
    "medium_query3 = mediumColl.aggregate(medium_mongo3)\n",
    "after = time.time()\n",
    "\n",
    "for result in medium_query3:\n",
    "    print(result['IDcount'])"
   ]
  },
  {
   "cell_type": "code",
   "execution_count": 25,
   "id": "8592ee03",
   "metadata": {},
   "outputs": [],
   "source": [
    "# step 2\n",
    "msec_duration = (after - before) * 1000\n",
    "mediumDict['query3'].append(round(msec_duration, 5))"
   ]
  },
  {
   "cell_type": "code",
   "execution_count": 26,
   "id": "1cc58326",
   "metadata": {},
   "outputs": [],
   "source": [
    "# step 3\n",
    "for i in range(0, 30):\n",
    "    before = time.time()\n",
    "    mediumColl.aggregate(medium_mongo3)\n",
    "    after = time.time()\n",
    "    msec_duration = (after - before) * 1000\n",
    "    mediumDict['query3'].append(round(msec_duration, 5))"
   ]
  },
  {
   "cell_type": "markdown",
   "id": "2a322732",
   "metadata": {},
   "source": [
    "<h4>Query 4</h4>"
   ]
  },
  {
   "cell_type": "code",
   "execution_count": 27,
   "id": "5fc1d9ef",
   "metadata": {},
   "outputs": [
    {
     "name": "stdout",
     "output_type": "stream",
     "text": [
      "Lynda Reynolds from Korea\n",
      "Ninthe Horrocks from Noord-Korea\n",
      "Cathrine Lie from South Korea\n",
      "Miguel Real from República de Corea\n",
      "Raghav Sura from North Korea\n"
     ]
    }
   ],
   "source": [
    "# step 1\n",
    "medium_mongo4 = [{'$match' : {'discipline': 'psychology', 'country' : {'$regex': 'orea'}, 'dateOfBirth': {'$regex': '^1'}}}, {'$project' : {'_id': 0, 'firstName': 1, 'lastName': 1, 'country': 1}}, {'$group' : {'_id': {'name': '$firstName', 'surname': '$lastName', 'country': '$country'}}}, {'$sort' : {'lastName' : 1}}]\n",
    "\n",
    "before = time.time()\n",
    "medium_query4 = mediumColl.aggregate(medium_mongo4)\n",
    "after = time.time()\n",
    "\n",
    "for result in medium_query4:\n",
    "    print(result['_id']['name'], result['_id']['surname'], 'from', result['_id']['country'])"
   ]
  },
  {
   "cell_type": "code",
   "execution_count": 28,
   "id": "c82510bf",
   "metadata": {},
   "outputs": [],
   "source": [
    "# step 2\n",
    "msec_duration = (after - before) * 1000\n",
    "mediumDict['query4'].append(round(msec_duration, 5))"
   ]
  },
  {
   "cell_type": "code",
   "execution_count": 29,
   "id": "2449c85d",
   "metadata": {},
   "outputs": [],
   "source": [
    "# step 3\n",
    "for i in range(0, 30):\n",
    "    before = time.time()\n",
    "    mediumColl.aggregate(medium_mongo4)\n",
    "    after = time.time()\n",
    "    msec_duration = (after - before) * 1000\n",
    "    mediumDict['query4'].append(round(msec_duration, 5))"
   ]
  },
  {
   "cell_type": "code",
   "execution_count": 30,
   "id": "1cebcf33",
   "metadata": {},
   "outputs": [
    {
     "data": {
      "text/plain": [
       "{'query1': [2975.96407, 270.70076],\n",
       " 'query2': [338.65976, 330.85795],\n",
       " 'query3': [307.88112, 306.66293],\n",
       " 'query4': [367.66911, 294.13149]}"
      ]
     },
     "execution_count": 30,
     "metadata": {},
     "output_type": "execute_result"
    }
   ],
   "source": [
    "mediumDataset = {'query1' : list(), 'query2' : list(), 'query3' : list(), 'query4' : list()}\n",
    "for key in mediumDict:\n",
    "    mediumDataset[key].append(mediumDict[key][0])\n",
    "    mean30 = mean(mediumDict[key][1 : 31])\n",
    "    mediumDataset[key].append(round(mean30, 5))\n",
    "mediumDataset"
   ]
  },
  {
   "cell_type": "code",
   "execution_count": null,
   "id": "55af597e",
   "metadata": {},
   "outputs": [],
   "source": []
  },
  {
   "cell_type": "markdown",
   "id": "47fbb04b",
   "metadata": {},
   "source": [
    "<h3>Collection with 750k documents</h3><br>"
   ]
  },
  {
   "cell_type": "markdown",
   "id": "4dc0adc7",
   "metadata": {},
   "source": [
    "<h4>Query 1</h4>"
   ]
  },
  {
   "cell_type": "code",
   "execution_count": 31,
   "id": "4e1f1ae5",
   "metadata": {},
   "outputs": [
    {
     "name": "stdout",
     "output_type": "stream",
     "text": [
      "Arthur Laroche\n",
      "Nath Nicolas\n",
      "Émile Nicolas\n",
      "Ana Narušis\n",
      "Narciso Ferrán\n",
      "Cathrine Lie\n",
      "Brian Thompson\n",
      "Yuvaan Dara\n",
      "Débora Vaz\n",
      "Patrícia Leite\n",
      "Dorita Abella\n",
      "Christl Henschel\n",
      "Collin Heerkens\n",
      "Liliana Flaiano\n",
      "Ledün Soylu\n",
      "Karl Christensen\n",
      "Custodia Hidalgo\n",
      "Miguel Real\n",
      "Urvi Dani\n",
      "Casandra Arenas\n",
      "Özkutlu Gül\n",
      "Sarah Lara\n",
      "Ingeborg Amundsen\n",
      "Joris Kavaliauskas\n",
      "Vigilija Gaižauskas\n",
      "Nedas Naujokas\n"
     ]
    }
   ],
   "source": [
    "# step 1\n",
    "large_mongo1 = [{'$match' : {'courseID' : 192}}, {'$group' : {'_id' : {'name' : '$firstName', 'surname' : '$lastName'}}}]\n",
    "\n",
    "before = time.time()\n",
    "large_query1 = largeColl.aggregate(large_mongo1)\n",
    "after = time.time()\n",
    "\n",
    "for result in large_query1:\n",
    "    print(result['_id']['name'], result['_id']['surname'])"
   ]
  },
  {
   "cell_type": "code",
   "execution_count": 32,
   "id": "a49222b4",
   "metadata": {},
   "outputs": [],
   "source": [
    "# step 2\n",
    "msec_duration = (after - before) * 1000\n",
    "largeDict['query1'].append(round(msec_duration, 5))"
   ]
  },
  {
   "cell_type": "code",
   "execution_count": 33,
   "id": "4f753818",
   "metadata": {},
   "outputs": [],
   "source": [
    "# step 3\n",
    "for i in range(0, 30):\n",
    "    before = time.time()\n",
    "    largeColl.aggregate(large_mongo1)\n",
    "    after = time.time()\n",
    "    msec_duration = (after - before) * 1000\n",
    "    largeDict['query1'].append(round(msec_duration, 5))"
   ]
  },
  {
   "cell_type": "markdown",
   "id": "51779bf8",
   "metadata": {},
   "source": [
    "<h4>Query 2</h4>"
   ]
  },
  {
   "cell_type": "code",
   "execution_count": 34,
   "id": "be068c30",
   "metadata": {},
   "outputs": [
    {
     "name": "stdout",
     "output_type": "stream",
     "text": [
      "Basic Statistics\n",
      "Introduction to Statistics\n",
      "Foundations: Data, Data, Everywhere\n",
      "Understanding Clinical Research: Behind the Statistics\n",
      "Bayesian Statistics: From Concept to Data Analysis\n",
      "Econometrics: Methods and Applications\n",
      "Exploratory Data Analysis\n",
      "Introduction to Probability and Data with R\n",
      "Python and Statistics for Financial Analysis\n"
     ]
    }
   ],
   "source": [
    "# step 1\n",
    "large_mongo2 = [{'$match' : {'discipline' : 'statistics', 'courseYear' : 2022}}, {'$group' : {'_id' : {'ID' : '$courseID', 'course' : '$courseName'}}}, {'$project' : {'_id.course' : 1}}]\n",
    "\n",
    "before = time.time()\n",
    "large_query2 = largeColl.aggregate(large_mongo2)\n",
    "after = time.time()\n",
    "\n",
    "for result in large_query2:\n",
    "    print(result['_id']['course'])"
   ]
  },
  {
   "cell_type": "code",
   "execution_count": 35,
   "id": "84bbdcb0",
   "metadata": {},
   "outputs": [],
   "source": [
    "# step 2\n",
    "msec_duration = (after - before) * 1000\n",
    "largeDict['query2'].append(round(msec_duration, 5))"
   ]
  },
  {
   "cell_type": "code",
   "execution_count": 36,
   "id": "f5af1ad6",
   "metadata": {},
   "outputs": [],
   "source": [
    "# step 3\n",
    "for i in range(0, 30):\n",
    "    before = time.time()\n",
    "    largeColl.aggregate(large_mongo2)\n",
    "    after = time.time()\n",
    "    msec_duration = (after - before) * 1000\n",
    "    largeDict['query2'].append(round(msec_duration, 5))"
   ]
  },
  {
   "cell_type": "markdown",
   "id": "57c36c1a",
   "metadata": {},
   "source": [
    "<h4>Query 3</h4>"
   ]
  },
  {
   "cell_type": "code",
   "execution_count": 37,
   "id": "e9420d5d",
   "metadata": {},
   "outputs": [
    {
     "name": "stdout",
     "output_type": "stream",
     "text": [
      "2628\n"
     ]
    }
   ],
   "source": [
    "# step 1\n",
    "large_mongo3 = [{'$match' : {'discipline': 'maths', 'materialType' : 'lecture slides', 'email': {'$regex': '@gmail.com'}}}, {'$group' : {'_id': '_id', 'IDcount' : {'$count': {}}}}]\n",
    "\n",
    "before = time.time()\n",
    "large_query3 = largeColl.aggregate(large_mongo3)\n",
    "after = time.time()\n",
    "\n",
    "for result in large_query3:\n",
    "    print(result['IDcount'])"
   ]
  },
  {
   "cell_type": "code",
   "execution_count": 38,
   "id": "f025392a",
   "metadata": {},
   "outputs": [],
   "source": [
    "# step 2\n",
    "msec_duration = (after - before) * 1000\n",
    "largeDict['query3'].append(round(msec_duration, 5))"
   ]
  },
  {
   "cell_type": "code",
   "execution_count": 39,
   "id": "9862ad64",
   "metadata": {},
   "outputs": [],
   "source": [
    "# step 3\n",
    "for i in range(0, 30):\n",
    "    before = time.time()\n",
    "    largeColl.aggregate(large_mongo3)\n",
    "    after = time.time()\n",
    "    msec_duration = (after - before) * 1000\n",
    "    largeDict['query3'].append(round(msec_duration, 5))"
   ]
  },
  {
   "cell_type": "markdown",
   "id": "fa0b2d81",
   "metadata": {},
   "source": [
    "<h4>Query 4</h4>"
   ]
  },
  {
   "cell_type": "code",
   "execution_count": 40,
   "id": "db16756f",
   "metadata": {},
   "outputs": [
    {
     "name": "stdout",
     "output_type": "stream",
     "text": [
      "Tere Castells from República Popular Democrática de Corea\n",
      "Lynda Reynolds from Korea\n",
      "Ninthe Horrocks from Noord-Korea\n",
      "Cathrine Lie from South Korea\n",
      "Miguel Real from República de Corea\n",
      "Raghav Sura from North Korea\n"
     ]
    }
   ],
   "source": [
    "# step 1\n",
    "large_mongo4 = [{'$match' : {'discipline': 'psychology', 'country' : {'$regex': 'orea'}, 'dateOfBirth': {'$regex': '^1'}}}, {'$project' : {'_id': 0, 'firstName': 1, 'lastName': 1, 'country': 1}}, {'$group' : {'_id': {'name': '$firstName', 'surname': '$lastName', 'country': '$country'}}}, {'$sort' : {'lastName' : 1}}]\n",
    "\n",
    "before = time.time()\n",
    "large_query4 = largeColl.aggregate(large_mongo4)\n",
    "after = time.time()\n",
    "\n",
    "for result in large_query4:\n",
    "    print(result['_id']['name'], result['_id']['surname'], 'from', result['_id']['country'])"
   ]
  },
  {
   "cell_type": "code",
   "execution_count": 41,
   "id": "7673bc65",
   "metadata": {},
   "outputs": [],
   "source": [
    "# step 2\n",
    "msec_duration = (after - before) * 1000\n",
    "largeDict['query4'].append(round(msec_duration, 5))"
   ]
  },
  {
   "cell_type": "code",
   "execution_count": 42,
   "id": "b0eca8fb",
   "metadata": {},
   "outputs": [],
   "source": [
    "# step 3\n",
    "for i in range(0, 30):\n",
    "    before = time.time()\n",
    "    largeColl.aggregate(large_mongo4)\n",
    "    after = time.time()\n",
    "    msec_duration = (after - before) * 1000\n",
    "    largeDict['query4'].append(round(msec_duration, 5))"
   ]
  },
  {
   "cell_type": "code",
   "execution_count": 43,
   "id": "71c15cd4",
   "metadata": {},
   "outputs": [
    {
     "data": {
      "text/plain": [
       "{'query1': [5357.55205, 412.26209],\n",
       " 'query2': [542.06991, 495.13317],\n",
       " 'query3': [650.81215, 442.50081],\n",
       " 'query4': [473.5539, 472.96095]}"
      ]
     },
     "execution_count": 43,
     "metadata": {},
     "output_type": "execute_result"
    }
   ],
   "source": [
    "largeDataset = {'query1' : list(), 'query2' : list(), 'query3' : list(), 'query4' : list()}\n",
    "for key in largeDict:\n",
    "    largeDataset[key].append(largeDict[key][0])\n",
    "    mean30 = mean(largeDict[key][1 : 31])\n",
    "    largeDataset[key].append(round(mean30, 5))\n",
    "largeDataset"
   ]
  },
  {
   "cell_type": "code",
   "execution_count": null,
   "id": "79bfa2cf",
   "metadata": {},
   "outputs": [],
   "source": []
  },
  {
   "cell_type": "markdown",
   "id": "8f0f3b06",
   "metadata": {},
   "source": [
    "<h3>Collection with 1m documents</h3><br>"
   ]
  },
  {
   "cell_type": "markdown",
   "id": "ce09db89",
   "metadata": {},
   "source": [
    "<h4>Query 1</h4>"
   ]
  },
  {
   "cell_type": "code",
   "execution_count": 44,
   "id": "df885568",
   "metadata": {},
   "outputs": [
    {
     "name": "stdout",
     "output_type": "stream",
     "text": [
      "Patrícia Leite\n",
      "Dorita Abella\n",
      "Christl Henschel\n",
      "Eduardo Rezende\n",
      "Giuseppina Scarfoglio\n",
      "Débora Vaz\n",
      "Torsten Schulz\n",
      "Arthur Laroche\n",
      "Émile Nicolas\n",
      "Vigilija Gaižauskas\n",
      "Kristen Webb\n",
      "Nedas Naujokas\n",
      "Mamen Teruel\n",
      "Ingeborg Amundsen\n",
      "David Miranda\n",
      "Casandra Arenas\n",
      "Özkutlu Gül\n",
      "Ledün Soylu\n",
      "Liliana Flaiano\n",
      "Melania Savorgnan\n",
      "Collin Heerkens\n",
      "Brian Thompson\n",
      "Yuvaan Dara\n",
      "Ana Narušis\n",
      "Cathrine Lie\n",
      "Narciso Ferrán\n",
      "Nath Nicolas\n",
      "Sarah Lara\n",
      "Joris Kavaliauskas\n",
      "Shaan Raju\n",
      "Custodia Hidalgo\n",
      "Miguel Real\n",
      "Urvi Dani\n",
      "Karl Christensen\n",
      "Finn Karlsen\n"
     ]
    }
   ],
   "source": [
    "# step 1\n",
    "humongous_mongo1 = [{'$match' : {'courseID' : 192}}, {'$group' : {'_id' : {'name' : '$firstName', 'surname' : '$lastName'}}}]\n",
    "\n",
    "before = time.time()\n",
    "humongous_query1 = humongousColl.aggregate(humongous_mongo1)\n",
    "after = time.time()\n",
    "\n",
    "for result in humongous_query1:\n",
    "    print(result['_id']['name'], result['_id']['surname'])"
   ]
  },
  {
   "cell_type": "code",
   "execution_count": 45,
   "id": "21d833dc",
   "metadata": {},
   "outputs": [],
   "source": [
    "# step 2\n",
    "msec_duration = (after - before) * 1000\n",
    "humongousDict['query1'].append(round(msec_duration, 5))"
   ]
  },
  {
   "cell_type": "code",
   "execution_count": 46,
   "id": "53938d3b",
   "metadata": {},
   "outputs": [],
   "source": [
    "# step 3\n",
    "for i in range(0, 30):\n",
    "    before = time.time()\n",
    "    humongousColl.aggregate(humongous_mongo1)\n",
    "    after = time.time()\n",
    "    msec_duration = (after - before) * 1000\n",
    "    humongousDict['query1'].append(round(msec_duration, 5))"
   ]
  },
  {
   "cell_type": "markdown",
   "id": "9090e935",
   "metadata": {},
   "source": [
    "<h4>Query 2</h4>"
   ]
  },
  {
   "cell_type": "code",
   "execution_count": 47,
   "id": "b6eaae6d",
   "metadata": {},
   "outputs": [
    {
     "name": "stdout",
     "output_type": "stream",
     "text": [
      "Basic Statistics\n",
      "Introduction to Statistics\n",
      "Foundations: Data, Data, Everywhere\n",
      "Understanding Clinical Research: Behind the Statistics\n",
      "Bayesian Statistics: From Concept to Data Analysis\n",
      "Econometrics: Methods and Applications\n",
      "Exploratory Data Analysis\n",
      "Introduction to Probability and Data with R\n",
      "Python and Statistics for Financial Analysis\n"
     ]
    }
   ],
   "source": [
    "# step 1\n",
    "humongous_mongo2 = [{'$match' : {'discipline' : 'statistics', 'courseYear' : 2022}}, {'$group' : {'_id' : {'ID' : '$courseID', 'course' : '$courseName'}}}, {'$project' : {'_id.course' : 1}}]\n",
    "\n",
    "before = time.time()\n",
    "humongous_query2 = humongousColl.aggregate(humongous_mongo2)\n",
    "after = time.time()\n",
    "\n",
    "for result in humongous_query2:\n",
    "    print(result['_id']['course'])"
   ]
  },
  {
   "cell_type": "code",
   "execution_count": 48,
   "id": "091eebb6",
   "metadata": {},
   "outputs": [],
   "source": [
    "# step 2\n",
    "msec_duration = (after - before) * 1000\n",
    "humongousDict['query2'].append(round(msec_duration, 5))"
   ]
  },
  {
   "cell_type": "code",
   "execution_count": 49,
   "id": "39e1c413",
   "metadata": {},
   "outputs": [],
   "source": [
    "# step 3\n",
    "for i in range(0, 30):\n",
    "    before = time.time()\n",
    "    humongousColl.aggregate(humongous_mongo2)\n",
    "    after = time.time()\n",
    "    msec_duration = (after - before) * 1000\n",
    "    humongousDict['query2'].append(round(msec_duration, 5))"
   ]
  },
  {
   "cell_type": "markdown",
   "id": "c0b12df9",
   "metadata": {},
   "source": [
    "<h4>Query 3</h4>"
   ]
  },
  {
   "cell_type": "code",
   "execution_count": 50,
   "id": "3ddeea15",
   "metadata": {},
   "outputs": [
    {
     "name": "stdout",
     "output_type": "stream",
     "text": [
      "3498\n"
     ]
    }
   ],
   "source": [
    "# step 1\n",
    "humongous_mongo3 = [{'$match' : {'discipline': 'maths', 'materialType' : 'lecture slides', 'email': {'$regex': '@gmail.com'}}}, {'$group' : {'_id': '_id', 'IDcount' : {'$count': {}}}}]\n",
    "\n",
    "before = time.time()\n",
    "humongous_query3 = humongousColl.aggregate(humongous_mongo3)\n",
    "after = time.time()\n",
    "\n",
    "for result in humongous_query3:\n",
    "    print(result['IDcount'])"
   ]
  },
  {
   "cell_type": "code",
   "execution_count": 51,
   "id": "132530dd",
   "metadata": {},
   "outputs": [],
   "source": [
    "# step 2\n",
    "msec_duration = (after - before) * 1000\n",
    "humongousDict['query3'].append(round(msec_duration, 5))"
   ]
  },
  {
   "cell_type": "code",
   "execution_count": 52,
   "id": "c7e7b429",
   "metadata": {},
   "outputs": [],
   "source": [
    "# step 3\n",
    "for i in range(0, 30):\n",
    "    before = time.time()\n",
    "    humongousColl.aggregate(humongous_mongo3)\n",
    "    after = time.time()\n",
    "    msec_duration = (after - before) * 1000\n",
    "    humongousDict['query3'].append(round(msec_duration, 5))"
   ]
  },
  {
   "cell_type": "markdown",
   "id": "baef7893",
   "metadata": {},
   "source": [
    "<h4>Query 4</h4>"
   ]
  },
  {
   "cell_type": "code",
   "execution_count": 53,
   "id": "049c62c3",
   "metadata": {},
   "outputs": [
    {
     "name": "stdout",
     "output_type": "stream",
     "text": [
      "Raghav Sura from North Korea\n",
      "Tere Castells from República Popular Democrática de Corea\n",
      "Ninthe Horrocks from Noord-Korea\n",
      "Miguel Real from República de Corea\n",
      "Leila Gailys from Korea\n",
      "Cathrine Lie from South Korea\n",
      "Debra Shaw from Korea\n",
      "Lynda Reynolds from Korea\n"
     ]
    }
   ],
   "source": [
    "# step 1\n",
    "humongous_mongo4 = [{'$match' : {'discipline': 'psychology', 'country' : {'$regex': 'orea'}, 'dateOfBirth': {'$regex': '^1'}}}, {'$project' : {'_id': 0, 'firstName': 1, 'lastName': 1, 'country': 1}}, {'$group' : {'_id': {'name': '$firstName', 'surname': '$lastName', 'country': '$country'}}}, {'$sort' : {'lastName' : 1}}]\n",
    "\n",
    "before = time.time()\n",
    "humongous_query4 = humongousColl.aggregate(humongous_mongo4)\n",
    "after = time.time()\n",
    "\n",
    "for result in humongous_query4:\n",
    "    print(result['_id']['name'], result['_id']['surname'], 'from', result['_id']['country'])"
   ]
  },
  {
   "cell_type": "code",
   "execution_count": 54,
   "id": "e511a5e3",
   "metadata": {},
   "outputs": [],
   "source": [
    "# step 2\n",
    "msec_duration = (after - before) * 1000\n",
    "humongousDict['query4'].append(round(msec_duration, 5))"
   ]
  },
  {
   "cell_type": "code",
   "execution_count": 55,
   "id": "ecdacb91",
   "metadata": {},
   "outputs": [],
   "source": [
    "# step 3\n",
    "for i in range(0, 30):\n",
    "    before = time.time()\n",
    "    humongousColl.aggregate(humongous_mongo4)\n",
    "    after = time.time()\n",
    "    msec_duration = (after - before) * 1000\n",
    "    humongousDict['query4'].append(round(msec_duration, 5))"
   ]
  },
  {
   "cell_type": "code",
   "execution_count": 56,
   "id": "38da2c40",
   "metadata": {},
   "outputs": [
    {
     "data": {
      "text/plain": [
       "{'query1': [5710.1388, 527.2241],\n",
       " 'query2': [693.3949, 679.81941],\n",
       " 'query3': [621.69409, 599.94771],\n",
       " 'query4': [664.572, 573.48735]}"
      ]
     },
     "execution_count": 56,
     "metadata": {},
     "output_type": "execute_result"
    }
   ],
   "source": [
    "humongousDataset = {'query1' : list(), 'query2' : list(), 'query3' : list(), 'query4' : list()}\n",
    "for key in humongousDict:\n",
    "    humongousDataset[key].append(humongousDict[key][0])\n",
    "    mean30 = mean(humongousDict[key][1 : 31])\n",
    "    humongousDataset[key].append(round(mean30, 5))\n",
    "humongousDataset"
   ]
  },
  {
   "cell_type": "code",
   "execution_count": 57,
   "id": "9fd16de5",
   "metadata": {},
   "outputs": [],
   "source": [
    "with open('mongo_tests.csv', 'w', newline = '') as mongo_tests:\n",
    "    writer = csv.writer(mongo_tests, delimiter = ',')\n",
    "    keys = smallDict.keys()\n",
    "    limit = len(smallDict['query1'])\n",
    "    \n",
    "    writer.writerow(keys)\n",
    "    writer.writerow('s') # s stands for small dataset\n",
    "    for i in range(0, limit):\n",
    "        writer.writerow(smallDict[k][i] for k in keys)\n",
    "    writer.writerow('m')  # m stands for medium dataset\n",
    "    for i in range(0, limit):\n",
    "        writer.writerow(mediumDict[k][i] for k in keys)\n",
    "    writer.writerow('l') # l stands for large dataset\n",
    "    for i in range(0, limit):\n",
    "        writer.writerow(largeDict[k][i] for k in keys)\n",
    "    writer.writerow('h') # h stands for humongous dataset\n",
    "    for i in range(0, limit):\n",
    "        writer.writerow(humongousDict[k][i] for k in keys)"
   ]
  },
  {
   "cell_type": "code",
   "execution_count": null,
   "id": "3f4d0a00",
   "metadata": {},
   "outputs": [],
   "source": []
  }
 ],
 "metadata": {
  "kernelspec": {
   "display_name": "Python 3 (ipykernel)",
   "language": "python",
   "name": "python3"
  },
  "language_info": {
   "codemirror_mode": {
    "name": "ipython",
    "version": 3
   },
   "file_extension": ".py",
   "mimetype": "text/x-python",
   "name": "python",
   "nbconvert_exporter": "python",
   "pygments_lexer": "ipython3",
   "version": "3.10.8"
  }
 },
 "nbformat": 4,
 "nbformat_minor": 5
}
